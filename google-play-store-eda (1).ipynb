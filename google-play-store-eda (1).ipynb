{
 "cells": [
  {
   "cell_type": "code",
   "execution_count": 1,
   "id": "6a5778ef",
   "metadata": {
    "_cell_guid": "b1076dfc-b9ad-4769-8c92-a6c4dae69d19",
    "_uuid": "8f2839f25d086af736a60e9eeb907d3b93b6e0e5",
    "execution": {
     "iopub.execute_input": "2023-05-20T12:28:01.658384Z",
     "iopub.status.busy": "2023-05-20T12:28:01.657251Z",
     "iopub.status.idle": "2023-05-20T12:28:03.937684Z",
     "shell.execute_reply": "2023-05-20T12:28:03.936459Z"
    },
    "papermill": {
     "duration": 2.311393,
     "end_time": "2023-05-20T12:28:03.940544",
     "exception": false,
     "start_time": "2023-05-20T12:28:01.629151",
     "status": "completed"
    },
    "tags": []
   },
   "outputs": [
    {
     "name": "stdout",
     "output_type": "stream",
     "text": [
      "/kaggle/input/google-play-store-apps/googleplaystore.csv\n",
      "/kaggle/input/google-play-store-apps/license.txt\n",
      "/kaggle/input/google-play-store-apps/googleplaystore_user_reviews.csv\n"
     ]
    },
    {
     "name": "stderr",
     "output_type": "stream",
     "text": [
      "/opt/conda/lib/python3.10/site-packages/scipy/__init__.py:146: UserWarning: A NumPy version >=1.16.5 and <1.23.0 is required for this version of SciPy (detected version 1.23.5\n",
      "  warnings.warn(f\"A NumPy version >={np_minversion} and <{np_maxversion}\"\n"
     ]
    }
   ],
   "source": [
    "import numpy as np # linear algebra\n",
    "import pandas as pd # data processing, CSV file I/O (e.g. pd.read_csv)\n",
    "\n",
    "\n",
    "import os\n",
    "for dirname, _, filenames in os.walk('/kaggle/input'):\n",
    "    for filename in filenames:\n",
    "        print(os.path.join(dirname, filename))\n",
    "\n",
    "import seaborn as sns\n",
    "import matplotlib.pyplot as plt\n",
    "import plotly.express as px\n",
    "import plotly.graph_objects as go"
   ]
  },
  {
   "cell_type": "markdown",
   "id": "2ee87288",
   "metadata": {
    "papermill": {
     "duration": 0.025426,
     "end_time": "2023-05-20T12:28:03.991991",
     "exception": false,
     "start_time": "2023-05-20T12:28:03.966565",
     "status": "completed"
    },
    "tags": []
   },
   "source": [
    "## Loading the Dataset "
   ]
  },
  {
   "cell_type": "code",
   "execution_count": 2,
   "id": "85da634b",
   "metadata": {
    "execution": {
     "iopub.execute_input": "2023-05-20T12:28:04.045236Z",
     "iopub.status.busy": "2023-05-20T12:28:04.044778Z",
     "iopub.status.idle": "2023-05-20T12:28:04.135742Z",
     "shell.execute_reply": "2023-05-20T12:28:04.134812Z"
    },
    "papermill": {
     "duration": 0.120871,
     "end_time": "2023-05-20T12:28:04.138577",
     "exception": false,
     "start_time": "2023-05-20T12:28:04.017706",
     "status": "completed"
    },
    "tags": []
   },
   "outputs": [],
   "source": [
    "data = pd.read_csv(\"/kaggle/input/google-play-store-apps/googleplaystore.csv\")"
   ]
  },
  {
   "cell_type": "markdown",
   "id": "9832d87a",
   "metadata": {
    "papermill": {
     "duration": 0.025316,
     "end_time": "2023-05-20T12:28:04.189967",
     "exception": false,
     "start_time": "2023-05-20T12:28:04.164651",
     "status": "completed"
    },
    "tags": []
   },
   "source": [
    "#### Now, let's understand the data using pandas library\n",
    "* .info(): gives the columns and its datatypes\n",
    "* .head(): returns first 5 rows from the dataset\n",
    "* .tail(): returns last 5 rows from the dataset\n",
    "* .describe(): Descriptive statistics of the dataset\n"
   ]
  },
  {
   "cell_type": "code",
   "execution_count": 3,
   "id": "884bb6f1",
   "metadata": {
    "execution": {
     "iopub.execute_input": "2023-05-20T12:28:04.244010Z",
     "iopub.status.busy": "2023-05-20T12:28:04.242956Z",
     "iopub.status.idle": "2023-05-20T12:28:04.249358Z",
     "shell.execute_reply": "2023-05-20T12:28:04.248057Z"
    },
    "papermill": {
     "duration": 0.036277,
     "end_time": "2023-05-20T12:28:04.251978",
     "exception": false,
     "start_time": "2023-05-20T12:28:04.215701",
     "status": "completed"
    },
    "tags": []
   },
   "outputs": [],
   "source": [
    "data.columns = data.columns.str.replace(' ', '_')"
   ]
  },
  {
   "cell_type": "code",
   "execution_count": 4,
   "id": "ad019dce",
   "metadata": {
    "execution": {
     "iopub.execute_input": "2023-05-20T12:28:04.305777Z",
     "iopub.status.busy": "2023-05-20T12:28:04.304591Z",
     "iopub.status.idle": "2023-05-20T12:28:04.383541Z",
     "shell.execute_reply": "2023-05-20T12:28:04.382310Z"
    },
    "papermill": {
     "duration": 0.108635,
     "end_time": "2023-05-20T12:28:04.386202",
     "exception": false,
     "start_time": "2023-05-20T12:28:04.277567",
     "status": "completed"
    },
    "tags": []
   },
   "outputs": [
    {
     "name": "stdout",
     "output_type": "stream",
     "text": [
      "<class 'pandas.core.frame.DataFrame'>\n",
      "RangeIndex: 10841 entries, 0 to 10840\n",
      "Data columns (total 13 columns):\n",
      " #   Column          Non-Null Count  Dtype  \n",
      "---  ------          --------------  -----  \n",
      " 0   App             10841 non-null  object \n",
      " 1   Category        10841 non-null  object \n",
      " 2   Rating          9367 non-null   float64\n",
      " 3   Reviews         10841 non-null  object \n",
      " 4   Size            10841 non-null  object \n",
      " 5   Installs        10841 non-null  object \n",
      " 6   Type            10840 non-null  object \n",
      " 7   Price           10841 non-null  object \n",
      " 8   Content_Rating  10840 non-null  object \n",
      " 9   Genres          10841 non-null  object \n",
      " 10  Last_Updated    10841 non-null  object \n",
      " 11  Current_Ver     10833 non-null  object \n",
      " 12  Android_Ver     10838 non-null  object \n",
      "dtypes: float64(1), object(12)\n",
      "memory usage: 1.1+ MB\n"
     ]
    }
   ],
   "source": [
    "data.info()"
   ]
  },
  {
   "cell_type": "markdown",
   "id": "1fe82712",
   "metadata": {
    "papermill": {
     "duration": 0.025245,
     "end_time": "2023-05-20T12:28:04.437168",
     "exception": false,
     "start_time": "2023-05-20T12:28:04.411923",
     "status": "completed"
    },
    "tags": []
   },
   "source": [
    "The data has one numeric column i.e., Rating and 12 objects."
   ]
  },
  {
   "cell_type": "code",
   "execution_count": 5,
   "id": "94c78a6c",
   "metadata": {
    "execution": {
     "iopub.execute_input": "2023-05-20T12:28:04.491364Z",
     "iopub.status.busy": "2023-05-20T12:28:04.490045Z",
     "iopub.status.idle": "2023-05-20T12:28:04.529039Z",
     "shell.execute_reply": "2023-05-20T12:28:04.527797Z"
    },
    "papermill": {
     "duration": 0.06908,
     "end_time": "2023-05-20T12:28:04.531849",
     "exception": false,
     "start_time": "2023-05-20T12:28:04.462769",
     "status": "completed"
    },
    "tags": []
   },
   "outputs": [
    {
     "data": {
      "text/html": [
       "<div>\n",
       "<style scoped>\n",
       "    .dataframe tbody tr th:only-of-type {\n",
       "        vertical-align: middle;\n",
       "    }\n",
       "\n",
       "    .dataframe tbody tr th {\n",
       "        vertical-align: top;\n",
       "    }\n",
       "\n",
       "    .dataframe thead th {\n",
       "        text-align: right;\n",
       "    }\n",
       "</style>\n",
       "<table border=\"1\" class=\"dataframe\">\n",
       "  <thead>\n",
       "    <tr style=\"text-align: right;\">\n",
       "      <th></th>\n",
       "      <th>App</th>\n",
       "      <th>Category</th>\n",
       "      <th>Rating</th>\n",
       "      <th>Reviews</th>\n",
       "      <th>Size</th>\n",
       "      <th>Installs</th>\n",
       "      <th>Type</th>\n",
       "      <th>Price</th>\n",
       "      <th>Content_Rating</th>\n",
       "      <th>Genres</th>\n",
       "      <th>Last_Updated</th>\n",
       "      <th>Current_Ver</th>\n",
       "      <th>Android_Ver</th>\n",
       "    </tr>\n",
       "  </thead>\n",
       "  <tbody>\n",
       "    <tr>\n",
       "      <th>0</th>\n",
       "      <td>Photo Editor &amp; Candy Camera &amp; Grid &amp; ScrapBook</td>\n",
       "      <td>ART_AND_DESIGN</td>\n",
       "      <td>4.1</td>\n",
       "      <td>159</td>\n",
       "      <td>19M</td>\n",
       "      <td>10,000+</td>\n",
       "      <td>Free</td>\n",
       "      <td>0</td>\n",
       "      <td>Everyone</td>\n",
       "      <td>Art &amp; Design</td>\n",
       "      <td>January 7, 2018</td>\n",
       "      <td>1.0.0</td>\n",
       "      <td>4.0.3 and up</td>\n",
       "    </tr>\n",
       "    <tr>\n",
       "      <th>1</th>\n",
       "      <td>Coloring book moana</td>\n",
       "      <td>ART_AND_DESIGN</td>\n",
       "      <td>3.9</td>\n",
       "      <td>967</td>\n",
       "      <td>14M</td>\n",
       "      <td>500,000+</td>\n",
       "      <td>Free</td>\n",
       "      <td>0</td>\n",
       "      <td>Everyone</td>\n",
       "      <td>Art &amp; Design;Pretend Play</td>\n",
       "      <td>January 15, 2018</td>\n",
       "      <td>2.0.0</td>\n",
       "      <td>4.0.3 and up</td>\n",
       "    </tr>\n",
       "    <tr>\n",
       "      <th>2</th>\n",
       "      <td>U Launcher Lite – FREE Live Cool Themes, Hide ...</td>\n",
       "      <td>ART_AND_DESIGN</td>\n",
       "      <td>4.7</td>\n",
       "      <td>87510</td>\n",
       "      <td>8.7M</td>\n",
       "      <td>5,000,000+</td>\n",
       "      <td>Free</td>\n",
       "      <td>0</td>\n",
       "      <td>Everyone</td>\n",
       "      <td>Art &amp; Design</td>\n",
       "      <td>August 1, 2018</td>\n",
       "      <td>1.2.4</td>\n",
       "      <td>4.0.3 and up</td>\n",
       "    </tr>\n",
       "    <tr>\n",
       "      <th>3</th>\n",
       "      <td>Sketch - Draw &amp; Paint</td>\n",
       "      <td>ART_AND_DESIGN</td>\n",
       "      <td>4.5</td>\n",
       "      <td>215644</td>\n",
       "      <td>25M</td>\n",
       "      <td>50,000,000+</td>\n",
       "      <td>Free</td>\n",
       "      <td>0</td>\n",
       "      <td>Teen</td>\n",
       "      <td>Art &amp; Design</td>\n",
       "      <td>June 8, 2018</td>\n",
       "      <td>Varies with device</td>\n",
       "      <td>4.2 and up</td>\n",
       "    </tr>\n",
       "    <tr>\n",
       "      <th>4</th>\n",
       "      <td>Pixel Draw - Number Art Coloring Book</td>\n",
       "      <td>ART_AND_DESIGN</td>\n",
       "      <td>4.3</td>\n",
       "      <td>967</td>\n",
       "      <td>2.8M</td>\n",
       "      <td>100,000+</td>\n",
       "      <td>Free</td>\n",
       "      <td>0</td>\n",
       "      <td>Everyone</td>\n",
       "      <td>Art &amp; Design;Creativity</td>\n",
       "      <td>June 20, 2018</td>\n",
       "      <td>1.1</td>\n",
       "      <td>4.4 and up</td>\n",
       "    </tr>\n",
       "    <tr>\n",
       "      <th>5</th>\n",
       "      <td>Sya9a Maroc - FR</td>\n",
       "      <td>FAMILY</td>\n",
       "      <td>4.5</td>\n",
       "      <td>38</td>\n",
       "      <td>53M</td>\n",
       "      <td>5,000+</td>\n",
       "      <td>Free</td>\n",
       "      <td>0</td>\n",
       "      <td>Everyone</td>\n",
       "      <td>Education</td>\n",
       "      <td>July 25, 2017</td>\n",
       "      <td>1.48</td>\n",
       "      <td>4.1 and up</td>\n",
       "    </tr>\n",
       "    <tr>\n",
       "      <th>6</th>\n",
       "      <td>Fr. Mike Schmitz Audio Teachings</td>\n",
       "      <td>FAMILY</td>\n",
       "      <td>5.0</td>\n",
       "      <td>4</td>\n",
       "      <td>3.6M</td>\n",
       "      <td>100+</td>\n",
       "      <td>Free</td>\n",
       "      <td>0</td>\n",
       "      <td>Everyone</td>\n",
       "      <td>Education</td>\n",
       "      <td>July 6, 2018</td>\n",
       "      <td>1.0</td>\n",
       "      <td>4.1 and up</td>\n",
       "    </tr>\n",
       "    <tr>\n",
       "      <th>7</th>\n",
       "      <td>Parkinson Exercices FR</td>\n",
       "      <td>MEDICAL</td>\n",
       "      <td>NaN</td>\n",
       "      <td>3</td>\n",
       "      <td>9.5M</td>\n",
       "      <td>1,000+</td>\n",
       "      <td>Free</td>\n",
       "      <td>0</td>\n",
       "      <td>Everyone</td>\n",
       "      <td>Medical</td>\n",
       "      <td>January 20, 2017</td>\n",
       "      <td>1.0</td>\n",
       "      <td>2.2 and up</td>\n",
       "    </tr>\n",
       "    <tr>\n",
       "      <th>8</th>\n",
       "      <td>The SCP Foundation DB fr nn5n</td>\n",
       "      <td>BOOKS_AND_REFERENCE</td>\n",
       "      <td>4.5</td>\n",
       "      <td>114</td>\n",
       "      <td>Varies with device</td>\n",
       "      <td>1,000+</td>\n",
       "      <td>Free</td>\n",
       "      <td>0</td>\n",
       "      <td>Mature 17+</td>\n",
       "      <td>Books &amp; Reference</td>\n",
       "      <td>January 19, 2015</td>\n",
       "      <td>Varies with device</td>\n",
       "      <td>Varies with device</td>\n",
       "    </tr>\n",
       "    <tr>\n",
       "      <th>9</th>\n",
       "      <td>iHoroscope - 2018 Daily Horoscope &amp; Astrology</td>\n",
       "      <td>LIFESTYLE</td>\n",
       "      <td>4.5</td>\n",
       "      <td>398307</td>\n",
       "      <td>19M</td>\n",
       "      <td>10,000,000+</td>\n",
       "      <td>Free</td>\n",
       "      <td>0</td>\n",
       "      <td>Everyone</td>\n",
       "      <td>Lifestyle</td>\n",
       "      <td>July 25, 2018</td>\n",
       "      <td>Varies with device</td>\n",
       "      <td>Varies with device</td>\n",
       "    </tr>\n",
       "  </tbody>\n",
       "</table>\n",
       "</div>"
      ],
      "text/plain": [
       "                                                 App             Category  \\\n",
       "0     Photo Editor & Candy Camera & Grid & ScrapBook       ART_AND_DESIGN   \n",
       "1                                Coloring book moana       ART_AND_DESIGN   \n",
       "2  U Launcher Lite – FREE Live Cool Themes, Hide ...       ART_AND_DESIGN   \n",
       "3                              Sketch - Draw & Paint       ART_AND_DESIGN   \n",
       "4              Pixel Draw - Number Art Coloring Book       ART_AND_DESIGN   \n",
       "5                                   Sya9a Maroc - FR               FAMILY   \n",
       "6                   Fr. Mike Schmitz Audio Teachings               FAMILY   \n",
       "7                             Parkinson Exercices FR              MEDICAL   \n",
       "8                      The SCP Foundation DB fr nn5n  BOOKS_AND_REFERENCE   \n",
       "9      iHoroscope - 2018 Daily Horoscope & Astrology            LIFESTYLE   \n",
       "\n",
       "   Rating Reviews                Size     Installs  Type Price Content_Rating  \\\n",
       "0     4.1     159                 19M      10,000+  Free     0       Everyone   \n",
       "1     3.9     967                 14M     500,000+  Free     0       Everyone   \n",
       "2     4.7   87510                8.7M   5,000,000+  Free     0       Everyone   \n",
       "3     4.5  215644                 25M  50,000,000+  Free     0           Teen   \n",
       "4     4.3     967                2.8M     100,000+  Free     0       Everyone   \n",
       "5     4.5      38                 53M       5,000+  Free     0       Everyone   \n",
       "6     5.0       4                3.6M         100+  Free     0       Everyone   \n",
       "7     NaN       3                9.5M       1,000+  Free     0       Everyone   \n",
       "8     4.5     114  Varies with device       1,000+  Free     0     Mature 17+   \n",
       "9     4.5  398307                 19M  10,000,000+  Free     0       Everyone   \n",
       "\n",
       "                      Genres      Last_Updated         Current_Ver  \\\n",
       "0               Art & Design   January 7, 2018               1.0.0   \n",
       "1  Art & Design;Pretend Play  January 15, 2018               2.0.0   \n",
       "2               Art & Design    August 1, 2018               1.2.4   \n",
       "3               Art & Design      June 8, 2018  Varies with device   \n",
       "4    Art & Design;Creativity     June 20, 2018                 1.1   \n",
       "5                  Education     July 25, 2017                1.48   \n",
       "6                  Education      July 6, 2018                 1.0   \n",
       "7                    Medical  January 20, 2017                 1.0   \n",
       "8          Books & Reference  January 19, 2015  Varies with device   \n",
       "9                  Lifestyle     July 25, 2018  Varies with device   \n",
       "\n",
       "          Android_Ver  \n",
       "0        4.0.3 and up  \n",
       "1        4.0.3 and up  \n",
       "2        4.0.3 and up  \n",
       "3          4.2 and up  \n",
       "4          4.4 and up  \n",
       "5          4.1 and up  \n",
       "6          4.1 and up  \n",
       "7          2.2 and up  \n",
       "8  Varies with device  \n",
       "9  Varies with device  "
      ]
     },
     "execution_count": 5,
     "metadata": {},
     "output_type": "execute_result"
    }
   ],
   "source": [
    "data1 = data.head()\n",
    "data2 = data.tail()\n",
    "concat_data = pd.concat([data1,data2],axis=0,ignore_index=True)\n",
    "concat_data"
   ]
  },
  {
   "cell_type": "code",
   "execution_count": 6,
   "id": "a9ec9fc4",
   "metadata": {
    "execution": {
     "iopub.execute_input": "2023-05-20T12:28:04.587631Z",
     "iopub.status.busy": "2023-05-20T12:28:04.586849Z",
     "iopub.status.idle": "2023-05-20T12:28:04.604762Z",
     "shell.execute_reply": "2023-05-20T12:28:04.603630Z"
    },
    "papermill": {
     "duration": 0.048462,
     "end_time": "2023-05-20T12:28:04.607192",
     "exception": false,
     "start_time": "2023-05-20T12:28:04.558730",
     "status": "completed"
    },
    "tags": []
   },
   "outputs": [
    {
     "data": {
      "text/html": [
       "<div>\n",
       "<style scoped>\n",
       "    .dataframe tbody tr th:only-of-type {\n",
       "        vertical-align: middle;\n",
       "    }\n",
       "\n",
       "    .dataframe tbody tr th {\n",
       "        vertical-align: top;\n",
       "    }\n",
       "\n",
       "    .dataframe thead th {\n",
       "        text-align: right;\n",
       "    }\n",
       "</style>\n",
       "<table border=\"1\" class=\"dataframe\">\n",
       "  <thead>\n",
       "    <tr style=\"text-align: right;\">\n",
       "      <th></th>\n",
       "      <th>Rating</th>\n",
       "    </tr>\n",
       "  </thead>\n",
       "  <tbody>\n",
       "    <tr>\n",
       "      <th>count</th>\n",
       "      <td>9367.000000</td>\n",
       "    </tr>\n",
       "    <tr>\n",
       "      <th>mean</th>\n",
       "      <td>4.193338</td>\n",
       "    </tr>\n",
       "    <tr>\n",
       "      <th>std</th>\n",
       "      <td>0.537431</td>\n",
       "    </tr>\n",
       "    <tr>\n",
       "      <th>min</th>\n",
       "      <td>1.000000</td>\n",
       "    </tr>\n",
       "    <tr>\n",
       "      <th>25%</th>\n",
       "      <td>4.000000</td>\n",
       "    </tr>\n",
       "    <tr>\n",
       "      <th>50%</th>\n",
       "      <td>4.300000</td>\n",
       "    </tr>\n",
       "    <tr>\n",
       "      <th>75%</th>\n",
       "      <td>4.500000</td>\n",
       "    </tr>\n",
       "    <tr>\n",
       "      <th>max</th>\n",
       "      <td>19.000000</td>\n",
       "    </tr>\n",
       "  </tbody>\n",
       "</table>\n",
       "</div>"
      ],
      "text/plain": [
       "            Rating\n",
       "count  9367.000000\n",
       "mean      4.193338\n",
       "std       0.537431\n",
       "min       1.000000\n",
       "25%       4.000000\n",
       "50%       4.300000\n",
       "75%       4.500000\n",
       "max      19.000000"
      ]
     },
     "execution_count": 6,
     "metadata": {},
     "output_type": "execute_result"
    }
   ],
   "source": [
    "data.describe()"
   ]
  },
  {
   "cell_type": "code",
   "execution_count": 7,
   "id": "904964a7",
   "metadata": {
    "execution": {
     "iopub.execute_input": "2023-05-20T12:28:04.662360Z",
     "iopub.status.busy": "2023-05-20T12:28:04.661888Z",
     "iopub.status.idle": "2023-05-20T12:28:04.669063Z",
     "shell.execute_reply": "2023-05-20T12:28:04.667909Z"
    },
    "papermill": {
     "duration": 0.037654,
     "end_time": "2023-05-20T12:28:04.671469",
     "exception": false,
     "start_time": "2023-05-20T12:28:04.633815",
     "status": "completed"
    },
    "tags": []
   },
   "outputs": [
    {
     "data": {
      "text/plain": [
       "(10841, 13)"
      ]
     },
     "execution_count": 7,
     "metadata": {},
     "output_type": "execute_result"
    }
   ],
   "source": [
    "data.shape"
   ]
  },
  {
   "cell_type": "markdown",
   "id": "1f426ada",
   "metadata": {
    "papermill": {
     "duration": 0.026207,
     "end_time": "2023-05-20T12:28:04.724414",
     "exception": false,
     "start_time": "2023-05-20T12:28:04.698207",
     "status": "completed"
    },
    "tags": []
   },
   "source": [
    "##### Missing Values in the dataset"
   ]
  },
  {
   "cell_type": "code",
   "execution_count": 8,
   "id": "26eb413c",
   "metadata": {
    "execution": {
     "iopub.execute_input": "2023-05-20T12:28:04.779922Z",
     "iopub.status.busy": "2023-05-20T12:28:04.779139Z",
     "iopub.status.idle": "2023-05-20T12:28:04.829503Z",
     "shell.execute_reply": "2023-05-20T12:28:04.828229Z"
    },
    "papermill": {
     "duration": 0.081232,
     "end_time": "2023-05-20T12:28:04.832208",
     "exception": false,
     "start_time": "2023-05-20T12:28:04.750976",
     "status": "completed"
    },
    "tags": []
   },
   "outputs": [
    {
     "data": {
      "text/plain": [
       "Rating            1474\n",
       "Current_Ver          8\n",
       "Android_Ver          3\n",
       "Type                 1\n",
       "Content_Rating       1\n",
       "App                  0\n",
       "Category             0\n",
       "Reviews              0\n",
       "Size                 0\n",
       "Installs             0\n",
       "Price                0\n",
       "Genres               0\n",
       "Last_Updated         0\n",
       "dtype: int64"
      ]
     },
     "execution_count": 8,
     "metadata": {},
     "output_type": "execute_result"
    }
   ],
   "source": [
    "data.isnull().sum().sort_values(ascending = False)"
   ]
  },
  {
   "cell_type": "markdown",
   "id": "4a76e972",
   "metadata": {
    "papermill": {
     "duration": 0.026501,
     "end_time": "2023-05-20T12:28:04.885871",
     "exception": false,
     "start_time": "2023-05-20T12:28:04.859370",
     "status": "completed"
    },
    "tags": []
   },
   "source": [
    "Rating has highest number of missing values"
   ]
  },
  {
   "cell_type": "markdown",
   "id": "25361ec1",
   "metadata": {
    "papermill": {
     "duration": 0.026497,
     "end_time": "2023-05-20T12:28:04.939445",
     "exception": false,
     "start_time": "2023-05-20T12:28:04.912948",
     "status": "completed"
    },
    "tags": []
   },
   "source": [
    "## Data Preprocessing / Data Cleaning\n",
    "Let's explore each feature individually "
   ]
  },
  {
   "cell_type": "markdown",
   "id": "e2930a91",
   "metadata": {
    "papermill": {
     "duration": 0.026505,
     "end_time": "2023-05-20T12:28:04.992806",
     "exception": false,
     "start_time": "2023-05-20T12:28:04.966301",
     "status": "completed"
    },
    "tags": []
   },
   "source": [
    "## Rating "
   ]
  },
  {
   "cell_type": "code",
   "execution_count": 9,
   "id": "6b526d5f",
   "metadata": {
    "execution": {
     "iopub.execute_input": "2023-05-20T12:28:05.049005Z",
     "iopub.status.busy": "2023-05-20T12:28:05.048544Z",
     "iopub.status.idle": "2023-05-20T12:28:05.056978Z",
     "shell.execute_reply": "2023-05-20T12:28:05.055715Z"
    },
    "papermill": {
     "duration": 0.039809,
     "end_time": "2023-05-20T12:28:05.059684",
     "exception": false,
     "start_time": "2023-05-20T12:28:05.019875",
     "status": "completed"
    },
    "tags": []
   },
   "outputs": [
    {
     "data": {
      "text/plain": [
       "array([ 4.1,  3.9,  4.7,  4.5,  4.3,  4.4,  3.8,  4.2,  4.6,  3.2,  4. ,\n",
       "        nan,  4.8,  4.9,  3.6,  3.7,  3.3,  3.4,  3.5,  3.1,  5. ,  2.6,\n",
       "        3. ,  1.9,  2.5,  2.8,  2.7,  1. ,  2.9,  2.3,  2.2,  1.7,  2. ,\n",
       "        1.8,  2.4,  1.6,  2.1,  1.4,  1.5,  1.2, 19. ])"
      ]
     },
     "execution_count": 9,
     "metadata": {},
     "output_type": "execute_result"
    }
   ],
   "source": [
    "data['Rating'].unique()"
   ]
  },
  {
   "cell_type": "markdown",
   "id": "3605a221",
   "metadata": {
    "papermill": {
     "duration": 0.026527,
     "end_time": "2023-05-20T12:28:05.113232",
     "exception": false,
     "start_time": "2023-05-20T12:28:05.086705",
     "status": "completed"
    },
    "tags": []
   },
   "source": [
    "For entries to be right we should make sure they fall within the range of 1 to 5"
   ]
  },
  {
   "cell_type": "code",
   "execution_count": 10,
   "id": "94fb1a8b",
   "metadata": {
    "execution": {
     "iopub.execute_input": "2023-05-20T12:28:05.169801Z",
     "iopub.status.busy": "2023-05-20T12:28:05.168545Z",
     "iopub.status.idle": "2023-05-20T12:28:05.175790Z",
     "shell.execute_reply": "2023-05-20T12:28:05.174638Z"
    },
    "papermill": {
     "duration": 0.037926,
     "end_time": "2023-05-20T12:28:05.178236",
     "exception": false,
     "start_time": "2023-05-20T12:28:05.140310",
     "status": "completed"
    },
    "tags": []
   },
   "outputs": [
    {
     "name": "stdout",
     "output_type": "stream",
     "text": [
      "Range:  1.0 - 19.0\n"
     ]
    }
   ],
   "source": [
    "print(\"Range: \", data.Rating.min(),\"-\",data.Rating.max())"
   ]
  },
  {
   "cell_type": "markdown",
   "id": "40170db6",
   "metadata": {
    "papermill": {
     "duration": 0.026564,
     "end_time": "2023-05-20T12:28:05.231920",
     "exception": false,
     "start_time": "2023-05-20T12:28:05.205356",
     "status": "completed"
    },
    "tags": []
   },
   "source": [
    "19 is the incorrect entry so replacing it to 0"
   ]
  },
  {
   "cell_type": "code",
   "execution_count": 11,
   "id": "78294f9d",
   "metadata": {
    "execution": {
     "iopub.execute_input": "2023-05-20T12:28:05.288172Z",
     "iopub.status.busy": "2023-05-20T12:28:05.287648Z",
     "iopub.status.idle": "2023-05-20T12:28:05.296885Z",
     "shell.execute_reply": "2023-05-20T12:28:05.295204Z"
    },
    "papermill": {
     "duration": 0.040275,
     "end_time": "2023-05-20T12:28:05.299288",
     "exception": false,
     "start_time": "2023-05-20T12:28:05.259013",
     "status": "completed"
    },
    "tags": []
   },
   "outputs": [
    {
     "name": "stdout",
     "output_type": "stream",
     "text": [
      "Range:  0.0 - 5.0\n"
     ]
    }
   ],
   "source": [
    "data.loc[data['Rating']>5,'Rating']=0\n",
    "print(\"Range: \", data.Rating.min(),\"-\",data.Rating.max())"
   ]
  },
  {
   "cell_type": "markdown",
   "id": "e9b4e427",
   "metadata": {
    "papermill": {
     "duration": 0.026833,
     "end_time": "2023-05-20T12:28:05.353319",
     "exception": false,
     "start_time": "2023-05-20T12:28:05.326486",
     "status": "completed"
    },
    "tags": []
   },
   "source": [
    "#### Handling missing data\n",
    "\n",
    "Using Meadian to fill the missing data in Rating. Meadian is more robust than mean."
   ]
  },
  {
   "cell_type": "code",
   "execution_count": 12,
   "id": "28f78967",
   "metadata": {
    "execution": {
     "iopub.execute_input": "2023-05-20T12:28:05.410149Z",
     "iopub.status.busy": "2023-05-20T12:28:05.409669Z",
     "iopub.status.idle": "2023-05-20T12:28:05.418912Z",
     "shell.execute_reply": "2023-05-20T12:28:05.417570Z"
    },
    "papermill": {
     "duration": 0.04057,
     "end_time": "2023-05-20T12:28:05.421189",
     "exception": false,
     "start_time": "2023-05-20T12:28:05.380619",
     "status": "completed"
    },
    "tags": []
   },
   "outputs": [
    {
     "name": "stdout",
     "output_type": "stream",
     "text": [
      "4.3\n"
     ]
    }
   ],
   "source": [
    "rating_median = data[\"Rating\"].median()\n",
    "print(rating_median)\n",
    "data[\"Rating\"].fillna(rating_median, inplace=True)"
   ]
  },
  {
   "cell_type": "code",
   "execution_count": 13,
   "id": "8cbf8a82",
   "metadata": {
    "execution": {
     "iopub.execute_input": "2023-05-20T12:28:05.478155Z",
     "iopub.status.busy": "2023-05-20T12:28:05.477392Z",
     "iopub.status.idle": "2023-05-20T12:28:05.486755Z",
     "shell.execute_reply": "2023-05-20T12:28:05.485594Z"
    },
    "papermill": {
     "duration": 0.040867,
     "end_time": "2023-05-20T12:28:05.489411",
     "exception": false,
     "start_time": "2023-05-20T12:28:05.448544",
     "status": "completed"
    },
    "tags": []
   },
   "outputs": [
    {
     "data": {
      "text/plain": [
       "array([False])"
      ]
     },
     "execution_count": 13,
     "metadata": {},
     "output_type": "execute_result"
    }
   ],
   "source": [
    "data['Rating'].isna().unique()"
   ]
  },
  {
   "cell_type": "markdown",
   "id": "3f6f62f6",
   "metadata": {
    "papermill": {
     "duration": 0.028115,
     "end_time": "2023-05-20T12:28:05.545751",
     "exception": false,
     "start_time": "2023-05-20T12:28:05.517636",
     "status": "completed"
    },
    "tags": []
   },
   "source": [
    "Checking the type of data, to see if it needs to be converted to numeric"
   ]
  },
  {
   "cell_type": "code",
   "execution_count": 14,
   "id": "fc98535a",
   "metadata": {
    "execution": {
     "iopub.execute_input": "2023-05-20T12:28:05.604624Z",
     "iopub.status.busy": "2023-05-20T12:28:05.604155Z",
     "iopub.status.idle": "2023-05-20T12:28:05.611416Z",
     "shell.execute_reply": "2023-05-20T12:28:05.610115Z"
    },
    "papermill": {
     "duration": 0.038743,
     "end_time": "2023-05-20T12:28:05.613747",
     "exception": false,
     "start_time": "2023-05-20T12:28:05.575004",
     "status": "completed"
    },
    "tags": []
   },
   "outputs": [
    {
     "data": {
      "text/plain": [
       "dtype('float64')"
      ]
     },
     "execution_count": 14,
     "metadata": {},
     "output_type": "execute_result"
    }
   ],
   "source": [
    "data.Rating.dtype"
   ]
  },
  {
   "cell_type": "markdown",
   "id": "928ae116",
   "metadata": {
    "papermill": {
     "duration": 0.02729,
     "end_time": "2023-05-20T12:28:05.669079",
     "exception": false,
     "start_time": "2023-05-20T12:28:05.641789",
     "status": "completed"
    },
    "tags": []
   },
   "source": [
    "Rating is already numeric."
   ]
  },
  {
   "cell_type": "markdown",
   "id": "58e5111d",
   "metadata": {
    "papermill": {
     "duration": 0.027583,
     "end_time": "2023-05-20T12:28:05.725070",
     "exception": false,
     "start_time": "2023-05-20T12:28:05.697487",
     "status": "completed"
    },
    "tags": []
   },
   "source": [
    "## Size\n",
    "let's see the unique values and its occurance in size feature"
   ]
  },
  {
   "cell_type": "code",
   "execution_count": 15,
   "id": "1b525e1a",
   "metadata": {
    "execution": {
     "iopub.execute_input": "2023-05-20T12:28:05.784213Z",
     "iopub.status.busy": "2023-05-20T12:28:05.783741Z",
     "iopub.status.idle": "2023-05-20T12:28:05.795091Z",
     "shell.execute_reply": "2023-05-20T12:28:05.794219Z"
    },
    "papermill": {
     "duration": 0.043807,
     "end_time": "2023-05-20T12:28:05.797513",
     "exception": false,
     "start_time": "2023-05-20T12:28:05.753706",
     "status": "completed"
    },
    "tags": []
   },
   "outputs": [
    {
     "data": {
      "text/plain": [
       "Varies with device    1695\n",
       "11M                    198\n",
       "12M                    196\n",
       "14M                    194\n",
       "13M                    191\n",
       "                      ... \n",
       "429k                     1\n",
       "200k                     1\n",
       "460k                     1\n",
       "728k                     1\n",
       "619k                     1\n",
       "Name: Size, Length: 462, dtype: int64"
      ]
     },
     "execution_count": 15,
     "metadata": {},
     "output_type": "execute_result"
    }
   ],
   "source": [
    "data['Size'].value_counts()"
   ]
  },
  {
   "cell_type": "markdown",
   "id": "056b7cb0",
   "metadata": {
    "papermill": {
     "duration": 0.027605,
     "end_time": "2023-05-20T12:28:05.853733",
     "exception": false,
     "start_time": "2023-05-20T12:28:05.826128",
     "status": "completed"
    },
    "tags": []
   },
   "source": [
    "It can be seen that data has metric prefixes K and M along with another string. Replacing k and M with their values to convert values to numeric."
   ]
  },
  {
   "cell_type": "code",
   "execution_count": 16,
   "id": "21331c71",
   "metadata": {
    "execution": {
     "iopub.execute_input": "2023-05-20T12:28:05.912674Z",
     "iopub.status.busy": "2023-05-20T12:28:05.911432Z",
     "iopub.status.idle": "2023-05-20T12:28:05.937663Z",
     "shell.execute_reply": "2023-05-20T12:28:05.936460Z"
    },
    "papermill": {
     "duration": 0.05882,
     "end_time": "2023-05-20T12:28:05.940346",
     "exception": false,
     "start_time": "2023-05-20T12:28:05.881526",
     "status": "completed"
    },
    "tags": []
   },
   "outputs": [
    {
     "data": {
      "text/plain": [
       "0     19e+6\n",
       "1     14e+6\n",
       "2    8.7e+6\n",
       "3     25e+6\n",
       "4    2.8e+6\n",
       "Name: Size, dtype: object"
      ]
     },
     "execution_count": 16,
     "metadata": {},
     "output_type": "execute_result"
    }
   ],
   "source": [
    "data.Size=data.Size.str.replace('k','e+3')\n",
    "data.Size=data.Size.str.replace('M','e+6')\n",
    "data.Size.head()"
   ]
  },
  {
   "cell_type": "markdown",
   "id": "245c2d92",
   "metadata": {
    "papermill": {
     "duration": 0.027616,
     "end_time": "2023-05-20T12:28:05.996715",
     "exception": false,
     "start_time": "2023-05-20T12:28:05.969099",
     "status": "completed"
    },
    "tags": []
   },
   "source": [
    "Now, we have two types of values in our Size data.\n",
    "\n",
    "1. exponential values (not yet converted to string)\n",
    "2. Strings (that cannot be converted into numeric)"
   ]
  },
  {
   "cell_type": "code",
   "execution_count": 17,
   "id": "714ed179",
   "metadata": {
    "execution": {
     "iopub.execute_input": "2023-05-20T12:28:06.055112Z",
     "iopub.status.busy": "2023-05-20T12:28:06.054650Z",
     "iopub.status.idle": "2023-05-20T12:28:06.076757Z",
     "shell.execute_reply": "2023-05-20T12:28:06.075556Z"
    },
    "papermill": {
     "duration": 0.054502,
     "end_time": "2023-05-20T12:28:06.079272",
     "exception": false,
     "start_time": "2023-05-20T12:28:06.024770",
     "status": "completed"
    },
    "tags": []
   },
   "outputs": [
    {
     "data": {
      "text/plain": [
       "0    19000000.0\n",
       "1    14000000.0\n",
       "2     8700000.0\n",
       "3    25000000.0\n",
       "4     2800000.0\n",
       "Name: Size, dtype: object"
      ]
     },
     "execution_count": 17,
     "metadata": {},
     "output_type": "execute_result"
    }
   ],
   "source": [
    "def is_convertable(v):\n",
    "    try:\n",
    "        float(v)\n",
    "        return float(v)\n",
    "    except ValueError:\n",
    "        return v\n",
    "    \n",
    "data.Size=data.Size.apply(lambda x: is_convertable(x))\n",
    "data.Size.head()"
   ]
  },
  {
   "cell_type": "code",
   "execution_count": 18,
   "id": "1170a4e2",
   "metadata": {
    "execution": {
     "iopub.execute_input": "2023-05-20T12:28:06.139166Z",
     "iopub.status.busy": "2023-05-20T12:28:06.138326Z",
     "iopub.status.idle": "2023-05-20T12:28:06.150366Z",
     "shell.execute_reply": "2023-05-20T12:28:06.149476Z"
    },
    "papermill": {
     "duration": 0.045106,
     "end_time": "2023-05-20T12:28:06.153097",
     "exception": false,
     "start_time": "2023-05-20T12:28:06.107991",
     "status": "completed"
    },
    "tags": []
   },
   "outputs": [],
   "source": [
    "data.Size=data.Size.replace('Varies with device',np.nan)\n",
    "data.Size=data.Size.replace('1,000+',1000)"
   ]
  },
  {
   "cell_type": "code",
   "execution_count": 19,
   "id": "496be16d",
   "metadata": {
    "execution": {
     "iopub.execute_input": "2023-05-20T12:28:06.213085Z",
     "iopub.status.busy": "2023-05-20T12:28:06.212212Z",
     "iopub.status.idle": "2023-05-20T12:28:06.223221Z",
     "shell.execute_reply": "2023-05-20T12:28:06.222063Z"
    },
    "papermill": {
     "duration": 0.043796,
     "end_time": "2023-05-20T12:28:06.225775",
     "exception": false,
     "start_time": "2023-05-20T12:28:06.181979",
     "status": "completed"
    },
    "tags": []
   },
   "outputs": [
    {
     "data": {
      "text/plain": [
       "0        19000000.0\n",
       "1        14000000.0\n",
       "2         8700000.0\n",
       "3        25000000.0\n",
       "4         2800000.0\n",
       "            ...    \n",
       "10836    53000000.0\n",
       "10837     3600000.0\n",
       "10838     9500000.0\n",
       "10839           NaN\n",
       "10840    19000000.0\n",
       "Name: Size, Length: 10841, dtype: float64"
      ]
     },
     "execution_count": 19,
     "metadata": {},
     "output_type": "execute_result"
    }
   ],
   "source": [
    "data.Size=pd.to_numeric(data.Size)\n",
    "data.Size.astype(float)"
   ]
  },
  {
   "cell_type": "markdown",
   "id": "8c82bbd6",
   "metadata": {
    "papermill": {
     "duration": 0.028235,
     "end_time": "2023-05-20T12:28:06.282579",
     "exception": false,
     "start_time": "2023-05-20T12:28:06.254344",
     "status": "completed"
    },
    "tags": []
   },
   "source": [
    "## Install\n",
    "Checking unique values in Install feature"
   ]
  },
  {
   "cell_type": "code",
   "execution_count": 20,
   "id": "36d8f803",
   "metadata": {
    "execution": {
     "iopub.execute_input": "2023-05-20T12:28:06.341550Z",
     "iopub.status.busy": "2023-05-20T12:28:06.341083Z",
     "iopub.status.idle": "2023-05-20T12:28:06.352357Z",
     "shell.execute_reply": "2023-05-20T12:28:06.350994Z"
    },
    "papermill": {
     "duration": 0.044107,
     "end_time": "2023-05-20T12:28:06.354976",
     "exception": false,
     "start_time": "2023-05-20T12:28:06.310869",
     "status": "completed"
    },
    "tags": []
   },
   "outputs": [
    {
     "data": {
      "text/plain": [
       "1,000,000+        1579\n",
       "10,000,000+       1252\n",
       "100,000+          1169\n",
       "10,000+           1054\n",
       "1,000+             907\n",
       "5,000,000+         752\n",
       "100+               719\n",
       "500,000+           539\n",
       "50,000+            479\n",
       "5,000+             477\n",
       "100,000,000+       409\n",
       "10+                386\n",
       "500+               330\n",
       "50,000,000+        289\n",
       "50+                205\n",
       "5+                  82\n",
       "500,000,000+        72\n",
       "1+                  67\n",
       "1,000,000,000+      58\n",
       "0+                  14\n",
       "0                    1\n",
       "Free                 1\n",
       "Name: Installs, dtype: int64"
      ]
     },
     "execution_count": 20,
     "metadata": {},
     "output_type": "execute_result"
    }
   ],
   "source": [
    "data.Installs.value_counts()"
   ]
  },
  {
   "cell_type": "markdown",
   "id": "71fa09af",
   "metadata": {
    "papermill": {
     "duration": 0.028158,
     "end_time": "2023-05-20T12:28:06.411703",
     "exception": false,
     "start_time": "2023-05-20T12:28:06.383545",
     "status": "completed"
    },
    "tags": []
   },
   "source": [
    "It can be seen that there a string, which we will be converting to nan here\n",
    "and rest are numeric but with '+' and ',' which shall be removed to convert these into numeric type"
   ]
  },
  {
   "cell_type": "code",
   "execution_count": 21,
   "id": "b1a9d08b",
   "metadata": {
    "execution": {
     "iopub.execute_input": "2023-05-20T12:28:06.470754Z",
     "iopub.status.busy": "2023-05-20T12:28:06.470347Z",
     "iopub.status.idle": "2023-05-20T12:28:06.499633Z",
     "shell.execute_reply": "2023-05-20T12:28:06.498657Z"
    },
    "papermill": {
     "duration": 0.061686,
     "end_time": "2023-05-20T12:28:06.502162",
     "exception": false,
     "start_time": "2023-05-20T12:28:06.440476",
     "status": "completed"
    },
    "tags": []
   },
   "outputs": [
    {
     "data": {
      "text/plain": [
       "1000000       1579\n",
       "10000000      1252\n",
       "100000        1169\n",
       "10000         1054\n",
       "1000           907\n",
       "5000000        752\n",
       "100            719\n",
       "500000         539\n",
       "50000          479\n",
       "5000           477\n",
       "100000000      409\n",
       "10             386\n",
       "500            330\n",
       "50000000       289\n",
       "50             205\n",
       "5               82\n",
       "500000000       72\n",
       "1               67\n",
       "1000000000      58\n",
       "0               15\n",
       "Name: Installs, dtype: int64"
      ]
     },
     "execution_count": 21,
     "metadata": {},
     "output_type": "execute_result"
    }
   ],
   "source": [
    "data.Installs=data.Installs.apply(lambda x: x.strip('+'))\n",
    "data.Installs=data.Installs.apply(lambda x: x.replace(',',''))\n",
    "data.Installs=data.Installs.replace('Free',np.nan)\n",
    "data.Installs.value_counts()"
   ]
  },
  {
   "cell_type": "code",
   "execution_count": 22,
   "id": "3a23d82f",
   "metadata": {
    "execution": {
     "iopub.execute_input": "2023-05-20T12:28:06.563999Z",
     "iopub.status.busy": "2023-05-20T12:28:06.563192Z",
     "iopub.status.idle": "2023-05-20T12:28:06.577890Z",
     "shell.execute_reply": "2023-05-20T12:28:06.576598Z"
    },
    "papermill": {
     "duration": 0.048567,
     "end_time": "2023-05-20T12:28:06.580380",
     "exception": false,
     "start_time": "2023-05-20T12:28:06.531813",
     "status": "completed"
    },
    "tags": []
   },
   "outputs": [
    {
     "data": {
      "text/plain": [
       "10840"
      ]
     },
     "execution_count": 22,
     "metadata": {},
     "output_type": "execute_result"
    }
   ],
   "source": [
    "data.Installs.str.isnumeric().sum()"
   ]
  },
  {
   "cell_type": "code",
   "execution_count": 23,
   "id": "cddf8cfa",
   "metadata": {
    "execution": {
     "iopub.execute_input": "2023-05-20T12:28:06.640948Z",
     "iopub.status.busy": "2023-05-20T12:28:06.640179Z",
     "iopub.status.idle": "2023-05-20T12:28:06.652396Z",
     "shell.execute_reply": "2023-05-20T12:28:06.651217Z"
    },
    "papermill": {
     "duration": 0.045132,
     "end_time": "2023-05-20T12:28:06.655017",
     "exception": false,
     "start_time": "2023-05-20T12:28:06.609885",
     "status": "completed"
    },
    "tags": []
   },
   "outputs": [
    {
     "data": {
      "text/plain": [
       "False    10840\n",
       "True         1\n",
       "Name: Installs, dtype: int64"
      ]
     },
     "execution_count": 23,
     "metadata": {},
     "output_type": "execute_result"
    }
   ],
   "source": [
    "data.Installs.isna().value_counts()"
   ]
  },
  {
   "cell_type": "markdown",
   "id": "ca86709a",
   "metadata": {
    "papermill": {
     "duration": 0.028983,
     "end_time": "2023-05-20T12:28:06.713897",
     "exception": false,
     "start_time": "2023-05-20T12:28:06.684914",
     "status": "completed"
    },
    "tags": []
   },
   "source": [
    "## Reviews\n",
    "Checking if all values are numeric"
   ]
  },
  {
   "cell_type": "code",
   "execution_count": 24,
   "id": "fdd13f3d",
   "metadata": {
    "execution": {
     "iopub.execute_input": "2023-05-20T12:28:06.774654Z",
     "iopub.status.busy": "2023-05-20T12:28:06.773941Z",
     "iopub.status.idle": "2023-05-20T12:28:06.785830Z",
     "shell.execute_reply": "2023-05-20T12:28:06.784857Z"
    },
    "papermill": {
     "duration": 0.045179,
     "end_time": "2023-05-20T12:28:06.788174",
     "exception": false,
     "start_time": "2023-05-20T12:28:06.742995",
     "status": "completed"
    },
    "tags": []
   },
   "outputs": [
    {
     "data": {
      "text/plain": [
       "10840"
      ]
     },
     "execution_count": 24,
     "metadata": {},
     "output_type": "execute_result"
    }
   ],
   "source": [
    "data.Reviews.str.isnumeric().sum()"
   ]
  },
  {
   "cell_type": "markdown",
   "id": "eeb222f1",
   "metadata": {
    "papermill": {
     "duration": 0.029192,
     "end_time": "2023-05-20T12:28:06.846686",
     "exception": false,
     "start_time": "2023-05-20T12:28:06.817494",
     "status": "completed"
    },
    "tags": []
   },
   "source": [
    "One value is non numeric out of 10841. Lets find its value and id."
   ]
  },
  {
   "cell_type": "code",
   "execution_count": 25,
   "id": "a999e586",
   "metadata": {
    "execution": {
     "iopub.execute_input": "2023-05-20T12:28:06.908073Z",
     "iopub.status.busy": "2023-05-20T12:28:06.907234Z",
     "iopub.status.idle": "2023-05-20T12:28:06.932049Z",
     "shell.execute_reply": "2023-05-20T12:28:06.930982Z"
    },
    "papermill": {
     "duration": 0.05828,
     "end_time": "2023-05-20T12:28:06.934764",
     "exception": false,
     "start_time": "2023-05-20T12:28:06.876484",
     "status": "completed"
    },
    "tags": []
   },
   "outputs": [
    {
     "data": {
      "text/html": [
       "<div>\n",
       "<style scoped>\n",
       "    .dataframe tbody tr th:only-of-type {\n",
       "        vertical-align: middle;\n",
       "    }\n",
       "\n",
       "    .dataframe tbody tr th {\n",
       "        vertical-align: top;\n",
       "    }\n",
       "\n",
       "    .dataframe thead th {\n",
       "        text-align: right;\n",
       "    }\n",
       "</style>\n",
       "<table border=\"1\" class=\"dataframe\">\n",
       "  <thead>\n",
       "    <tr style=\"text-align: right;\">\n",
       "      <th></th>\n",
       "      <th>App</th>\n",
       "      <th>Category</th>\n",
       "      <th>Rating</th>\n",
       "      <th>Reviews</th>\n",
       "      <th>Size</th>\n",
       "      <th>Installs</th>\n",
       "      <th>Type</th>\n",
       "      <th>Price</th>\n",
       "      <th>Content_Rating</th>\n",
       "      <th>Genres</th>\n",
       "      <th>Last_Updated</th>\n",
       "      <th>Current_Ver</th>\n",
       "      <th>Android_Ver</th>\n",
       "    </tr>\n",
       "  </thead>\n",
       "  <tbody>\n",
       "    <tr>\n",
       "      <th>10472</th>\n",
       "      <td>Life Made WI-Fi Touchscreen Photo Frame</td>\n",
       "      <td>1.9</td>\n",
       "      <td>0.0</td>\n",
       "      <td>3.0M</td>\n",
       "      <td>1000.0</td>\n",
       "      <td>NaN</td>\n",
       "      <td>0</td>\n",
       "      <td>Everyone</td>\n",
       "      <td>NaN</td>\n",
       "      <td>February 11, 2018</td>\n",
       "      <td>1.0.19</td>\n",
       "      <td>4.0 and up</td>\n",
       "      <td>NaN</td>\n",
       "    </tr>\n",
       "  </tbody>\n",
       "</table>\n",
       "</div>"
      ],
      "text/plain": [
       "                                           App Category  Rating Reviews  \\\n",
       "10472  Life Made WI-Fi Touchscreen Photo Frame      1.9     0.0    3.0M   \n",
       "\n",
       "         Size Installs Type     Price Content_Rating             Genres  \\\n",
       "10472  1000.0      NaN    0  Everyone            NaN  February 11, 2018   \n",
       "\n",
       "      Last_Updated Current_Ver Android_Ver  \n",
       "10472       1.0.19  4.0 and up         NaN  "
      ]
     },
     "execution_count": 25,
     "metadata": {},
     "output_type": "execute_result"
    }
   ],
   "source": [
    "data[~data.Reviews.str.isnumeric()]"
   ]
  },
  {
   "cell_type": "code",
   "execution_count": 26,
   "id": "88609969",
   "metadata": {
    "execution": {
     "iopub.execute_input": "2023-05-20T12:28:06.995123Z",
     "iopub.status.busy": "2023-05-20T12:28:06.994690Z",
     "iopub.status.idle": "2023-05-20T12:28:07.010232Z",
     "shell.execute_reply": "2023-05-20T12:28:07.008952Z"
    },
    "papermill": {
     "duration": 0.048734,
     "end_time": "2023-05-20T12:28:07.012676",
     "exception": false,
     "start_time": "2023-05-20T12:28:06.963942",
     "status": "completed"
    },
    "tags": []
   },
   "outputs": [
    {
     "data": {
      "text/plain": [
       "dtype('float64')"
      ]
     },
     "execution_count": 26,
     "metadata": {},
     "output_type": "execute_result"
    }
   ],
   "source": [
    "data['Reviews'] = data.Reviews.replace(\"0.0\",0)\n",
    "data['Reviews'] = data.Reviews.replace(\"3.0M\",3000000.0)\n",
    "data['Reviews'] = data['Reviews'].astype(float)\n",
    "data['Reviews'].dtype"
   ]
  },
  {
   "cell_type": "markdown",
   "id": "2b952b46",
   "metadata": {
    "papermill": {
     "duration": 0.029127,
     "end_time": "2023-05-20T12:28:07.071070",
     "exception": false,
     "start_time": "2023-05-20T12:28:07.041943",
     "status": "completed"
    },
    "tags": []
   },
   "source": [
    "## Type\n",
    "Let's check the unique values in Type feature"
   ]
  },
  {
   "cell_type": "code",
   "execution_count": 27,
   "id": "912ced96",
   "metadata": {
    "execution": {
     "iopub.execute_input": "2023-05-20T12:28:07.132487Z",
     "iopub.status.busy": "2023-05-20T12:28:07.131816Z",
     "iopub.status.idle": "2023-05-20T12:28:07.141910Z",
     "shell.execute_reply": "2023-05-20T12:28:07.140709Z"
    },
    "papermill": {
     "duration": 0.043866,
     "end_time": "2023-05-20T12:28:07.144463",
     "exception": false,
     "start_time": "2023-05-20T12:28:07.100597",
     "status": "completed"
    },
    "tags": []
   },
   "outputs": [
    {
     "data": {
      "text/plain": [
       "Free    10039\n",
       "Paid      800\n",
       "0           1\n",
       "Name: Type, dtype: int64"
      ]
     },
     "execution_count": 27,
     "metadata": {},
     "output_type": "execute_result"
    }
   ],
   "source": [
    "data.Type.value_counts()"
   ]
  },
  {
   "cell_type": "markdown",
   "id": "a6b1ed42",
   "metadata": {
    "papermill": {
     "duration": 0.029413,
     "end_time": "2023-05-20T12:28:07.203908",
     "exception": false,
     "start_time": "2023-05-20T12:28:07.174495",
     "status": "completed"
    },
    "tags": []
   },
   "source": [
    "Removing the inconsistent data i.e., 0"
   ]
  },
  {
   "cell_type": "code",
   "execution_count": 28,
   "id": "26ad25a8",
   "metadata": {
    "execution": {
     "iopub.execute_input": "2023-05-20T12:28:07.266636Z",
     "iopub.status.busy": "2023-05-20T12:28:07.265764Z",
     "iopub.status.idle": "2023-05-20T12:28:07.277591Z",
     "shell.execute_reply": "2023-05-20T12:28:07.276167Z"
    },
    "papermill": {
     "duration": 0.045998,
     "end_time": "2023-05-20T12:28:07.280180",
     "exception": false,
     "start_time": "2023-05-20T12:28:07.234182",
     "status": "completed"
    },
    "tags": []
   },
   "outputs": [
    {
     "name": "stdout",
     "output_type": "stream",
     "text": [
      "[10472]\n"
     ]
    }
   ],
   "source": [
    "print(data[data['Type']=='0'].index.values)"
   ]
  },
  {
   "cell_type": "code",
   "execution_count": 29,
   "id": "4078e257",
   "metadata": {
    "execution": {
     "iopub.execute_input": "2023-05-20T12:28:07.343251Z",
     "iopub.status.busy": "2023-05-20T12:28:07.342381Z",
     "iopub.status.idle": "2023-05-20T12:28:07.351640Z",
     "shell.execute_reply": "2023-05-20T12:28:07.350542Z"
    },
    "papermill": {
     "duration": 0.043627,
     "end_time": "2023-05-20T12:28:07.354432",
     "exception": false,
     "start_time": "2023-05-20T12:28:07.310805",
     "status": "completed"
    },
    "tags": []
   },
   "outputs": [],
   "source": [
    "data=data.drop(data.index[10472])"
   ]
  },
  {
   "cell_type": "markdown",
   "id": "44c724a3",
   "metadata": {
    "papermill": {
     "duration": 0.029745,
     "end_time": "2023-05-20T12:28:07.414473",
     "exception": false,
     "start_time": "2023-05-20T12:28:07.384728",
     "status": "completed"
    },
    "tags": []
   },
   "source": [
    "To check if the row is deleted"
   ]
  },
  {
   "cell_type": "code",
   "execution_count": 30,
   "id": "fb0b9fac",
   "metadata": {
    "execution": {
     "iopub.execute_input": "2023-05-20T12:28:07.477514Z",
     "iopub.status.busy": "2023-05-20T12:28:07.476662Z",
     "iopub.status.idle": "2023-05-20T12:28:07.495400Z",
     "shell.execute_reply": "2023-05-20T12:28:07.494215Z"
    },
    "papermill": {
     "duration": 0.053388,
     "end_time": "2023-05-20T12:28:07.498024",
     "exception": false,
     "start_time": "2023-05-20T12:28:07.444636",
     "status": "completed"
    },
    "tags": []
   },
   "outputs": [
    {
     "data": {
      "text/html": [
       "<div>\n",
       "<style scoped>\n",
       "    .dataframe tbody tr th:only-of-type {\n",
       "        vertical-align: middle;\n",
       "    }\n",
       "\n",
       "    .dataframe tbody tr th {\n",
       "        vertical-align: top;\n",
       "    }\n",
       "\n",
       "    .dataframe thead th {\n",
       "        text-align: right;\n",
       "    }\n",
       "</style>\n",
       "<table border=\"1\" class=\"dataframe\">\n",
       "  <thead>\n",
       "    <tr style=\"text-align: right;\">\n",
       "      <th></th>\n",
       "      <th>App</th>\n",
       "      <th>Category</th>\n",
       "      <th>Rating</th>\n",
       "      <th>Reviews</th>\n",
       "      <th>Size</th>\n",
       "      <th>Installs</th>\n",
       "      <th>Type</th>\n",
       "      <th>Price</th>\n",
       "      <th>Content_Rating</th>\n",
       "      <th>Genres</th>\n",
       "      <th>Last_Updated</th>\n",
       "      <th>Current_Ver</th>\n",
       "      <th>Android_Ver</th>\n",
       "    </tr>\n",
       "  </thead>\n",
       "  <tbody>\n",
       "    <tr>\n",
       "      <th>10471</th>\n",
       "      <td>Xposed Wi-Fi-Pwd</td>\n",
       "      <td>PERSONALIZATION</td>\n",
       "      <td>3.5</td>\n",
       "      <td>1042.0</td>\n",
       "      <td>404000.0</td>\n",
       "      <td>100000</td>\n",
       "      <td>Free</td>\n",
       "      <td>0</td>\n",
       "      <td>Everyone</td>\n",
       "      <td>Personalization</td>\n",
       "      <td>August 5, 2014</td>\n",
       "      <td>3.0.0</td>\n",
       "      <td>4.0.3 and up</td>\n",
       "    </tr>\n",
       "    <tr>\n",
       "      <th>10473</th>\n",
       "      <td>osmino Wi-Fi: free WiFi</td>\n",
       "      <td>TOOLS</td>\n",
       "      <td>4.2</td>\n",
       "      <td>134203.0</td>\n",
       "      <td>4100000.0</td>\n",
       "      <td>10000000</td>\n",
       "      <td>Free</td>\n",
       "      <td>0</td>\n",
       "      <td>Everyone</td>\n",
       "      <td>Tools</td>\n",
       "      <td>August 7, 2018</td>\n",
       "      <td>6.06.14</td>\n",
       "      <td>4.4 and up</td>\n",
       "    </tr>\n",
       "  </tbody>\n",
       "</table>\n",
       "</div>"
      ],
      "text/plain": [
       "                           App         Category  Rating   Reviews       Size  \\\n",
       "10471         Xposed Wi-Fi-Pwd  PERSONALIZATION     3.5    1042.0   404000.0   \n",
       "10473  osmino Wi-Fi: free WiFi            TOOLS     4.2  134203.0  4100000.0   \n",
       "\n",
       "       Installs  Type Price Content_Rating           Genres    Last_Updated  \\\n",
       "10471    100000  Free     0       Everyone  Personalization  August 5, 2014   \n",
       "10473  10000000  Free     0       Everyone            Tools  August 7, 2018   \n",
       "\n",
       "      Current_Ver   Android_Ver  \n",
       "10471       3.0.0  4.0.3 and up  \n",
       "10473     6.06.14    4.4 and up  "
      ]
     },
     "execution_count": 30,
     "metadata": {},
     "output_type": "execute_result"
    }
   ],
   "source": [
    "data[10471:].head(2)"
   ]
  },
  {
   "cell_type": "markdown",
   "id": "7ec80de5",
   "metadata": {
    "papermill": {
     "duration": 0.030201,
     "end_time": "2023-05-20T12:28:07.558418",
     "exception": false,
     "start_time": "2023-05-20T12:28:07.528217",
     "status": "completed"
    },
    "tags": []
   },
   "source": [
    "## Price\n",
    "Checking for unique values of price"
   ]
  },
  {
   "cell_type": "code",
   "execution_count": 31,
   "id": "f2828b34",
   "metadata": {
    "execution": {
     "iopub.execute_input": "2023-05-20T12:28:07.622525Z",
     "iopub.status.busy": "2023-05-20T12:28:07.622053Z",
     "iopub.status.idle": "2023-05-20T12:28:07.630849Z",
     "shell.execute_reply": "2023-05-20T12:28:07.629697Z"
    },
    "papermill": {
     "duration": 0.043694,
     "end_time": "2023-05-20T12:28:07.633555",
     "exception": false,
     "start_time": "2023-05-20T12:28:07.589861",
     "status": "completed"
    },
    "tags": []
   },
   "outputs": [
    {
     "data": {
      "text/plain": [
       "array(['0', '$4.99', '$3.99', '$6.99', '$1.49', '$2.99', '$7.99', '$5.99',\n",
       "       '$3.49', '$1.99', '$9.99', '$7.49', '$0.99', '$9.00', '$5.49',\n",
       "       '$10.00', '$24.99', '$11.99', '$79.99', '$16.99', '$14.99',\n",
       "       '$1.00', '$29.99', '$12.99', '$2.49', '$10.99', '$1.50', '$19.99',\n",
       "       '$15.99', '$33.99', '$74.99', '$39.99', '$3.95', '$4.49', '$1.70',\n",
       "       '$8.99', '$2.00', '$3.88', '$25.99', '$399.99', '$17.99',\n",
       "       '$400.00', '$3.02', '$1.76', '$4.84', '$4.77', '$1.61', '$2.50',\n",
       "       '$1.59', '$6.49', '$1.29', '$5.00', '$13.99', '$299.99', '$379.99',\n",
       "       '$37.99', '$18.99', '$389.99', '$19.90', '$8.49', '$1.75',\n",
       "       '$14.00', '$4.85', '$46.99', '$109.99', '$154.99', '$3.08',\n",
       "       '$2.59', '$4.80', '$1.96', '$19.40', '$3.90', '$4.59', '$15.46',\n",
       "       '$3.04', '$4.29', '$2.60', '$3.28', '$4.60', '$28.99', '$2.95',\n",
       "       '$2.90', '$1.97', '$200.00', '$89.99', '$2.56', '$30.99', '$3.61',\n",
       "       '$394.99', '$1.26', '$1.20', '$1.04'], dtype=object)"
      ]
     },
     "execution_count": 31,
     "metadata": {},
     "output_type": "execute_result"
    }
   ],
   "source": [
    "data.Price.unique()"
   ]
  },
  {
   "cell_type": "markdown",
   "id": "bfbe3e8a",
   "metadata": {
    "papermill": {
     "duration": 0.030065,
     "end_time": "2023-05-20T12:28:07.694004",
     "exception": false,
     "start_time": "2023-05-20T12:28:07.663939",
     "status": "completed"
    },
    "tags": []
   },
   "source": [
    "Data had $ sign which shall be removed to convert it to numeric"
   ]
  },
  {
   "cell_type": "code",
   "execution_count": 32,
   "id": "4ca9bcea",
   "metadata": {
    "execution": {
     "iopub.execute_input": "2023-05-20T12:28:07.759355Z",
     "iopub.status.busy": "2023-05-20T12:28:07.758028Z",
     "iopub.status.idle": "2023-05-20T12:28:07.769189Z",
     "shell.execute_reply": "2023-05-20T12:28:07.767923Z"
    },
    "papermill": {
     "duration": 0.046147,
     "end_time": "2023-05-20T12:28:07.772096",
     "exception": false,
     "start_time": "2023-05-20T12:28:07.725949",
     "status": "completed"
    },
    "tags": []
   },
   "outputs": [],
   "source": [
    "data.Price = data.Price.apply(lambda x: x.strip('$'))"
   ]
  },
  {
   "cell_type": "code",
   "execution_count": 33,
   "id": "808d0150",
   "metadata": {
    "execution": {
     "iopub.execute_input": "2023-05-20T12:28:07.836146Z",
     "iopub.status.busy": "2023-05-20T12:28:07.835739Z",
     "iopub.status.idle": "2023-05-20T12:28:07.852325Z",
     "shell.execute_reply": "2023-05-20T12:28:07.851401Z"
    },
    "papermill": {
     "duration": 0.052703,
     "end_time": "2023-05-20T12:28:07.854952",
     "exception": false,
     "start_time": "2023-05-20T12:28:07.802249",
     "status": "completed"
    },
    "tags": []
   },
   "outputs": [],
   "source": [
    "data.Price=pd.to_numeric(data.Price)"
   ]
  },
  {
   "cell_type": "code",
   "execution_count": 34,
   "id": "4a1b809b",
   "metadata": {
    "execution": {
     "iopub.execute_input": "2023-05-20T12:28:07.918177Z",
     "iopub.status.busy": "2023-05-20T12:28:07.917508Z",
     "iopub.status.idle": "2023-05-20T12:28:07.926301Z",
     "shell.execute_reply": "2023-05-20T12:28:07.925240Z"
    },
    "papermill": {
     "duration": 0.04317,
     "end_time": "2023-05-20T12:28:07.928500",
     "exception": false,
     "start_time": "2023-05-20T12:28:07.885330",
     "status": "completed"
    },
    "tags": []
   },
   "outputs": [
    {
     "data": {
      "text/plain": [
       "False    10840\n",
       "Name: Price, dtype: int64"
      ]
     },
     "execution_count": 34,
     "metadata": {},
     "output_type": "execute_result"
    }
   ],
   "source": [
    "data.Price.isna().value_counts()"
   ]
  },
  {
   "cell_type": "markdown",
   "id": "977996b8",
   "metadata": {
    "papermill": {
     "duration": 0.029707,
     "end_time": "2023-05-20T12:28:07.988279",
     "exception": false,
     "start_time": "2023-05-20T12:28:07.958572",
     "status": "completed"
    },
    "tags": []
   },
   "source": [
    "## Category\n",
    "Now let's check the category feature"
   ]
  },
  {
   "cell_type": "code",
   "execution_count": 35,
   "id": "b0984de7",
   "metadata": {
    "execution": {
     "iopub.execute_input": "2023-05-20T12:28:08.051956Z",
     "iopub.status.busy": "2023-05-20T12:28:08.050913Z",
     "iopub.status.idle": "2023-05-20T12:28:08.059340Z",
     "shell.execute_reply": "2023-05-20T12:28:08.058387Z"
    },
    "papermill": {
     "duration": 0.0429,
     "end_time": "2023-05-20T12:28:08.061608",
     "exception": false,
     "start_time": "2023-05-20T12:28:08.018708",
     "status": "completed"
    },
    "tags": []
   },
   "outputs": [
    {
     "data": {
      "text/plain": [
       "array(['ART_AND_DESIGN', 'AUTO_AND_VEHICLES', 'BEAUTY',\n",
       "       'BOOKS_AND_REFERENCE', 'BUSINESS', 'COMICS', 'COMMUNICATION',\n",
       "       'DATING', 'EDUCATION', 'ENTERTAINMENT', 'EVENTS', 'FINANCE',\n",
       "       'FOOD_AND_DRINK', 'HEALTH_AND_FITNESS', 'HOUSE_AND_HOME',\n",
       "       'LIBRARIES_AND_DEMO', 'LIFESTYLE', 'GAME', 'FAMILY', 'MEDICAL',\n",
       "       'SOCIAL', 'SHOPPING', 'PHOTOGRAPHY', 'SPORTS', 'TRAVEL_AND_LOCAL',\n",
       "       'TOOLS', 'PERSONALIZATION', 'PRODUCTIVITY', 'PARENTING', 'WEATHER',\n",
       "       'VIDEO_PLAYERS', 'NEWS_AND_MAGAZINES', 'MAPS_AND_NAVIGATION'],\n",
       "      dtype=object)"
      ]
     },
     "execution_count": 35,
     "metadata": {},
     "output_type": "execute_result"
    }
   ],
   "source": [
    "data.Category.unique()"
   ]
  },
  {
   "cell_type": "markdown",
   "id": "79b4f744",
   "metadata": {
    "papermill": {
     "duration": 0.031423,
     "end_time": "2023-05-20T12:28:08.124195",
     "exception": false,
     "start_time": "2023-05-20T12:28:08.092772",
     "status": "completed"
    },
    "tags": []
   },
   "source": [
    "The dta seems good it has no repetition or false data"
   ]
  },
  {
   "cell_type": "markdown",
   "id": "15b503dd",
   "metadata": {
    "papermill": {
     "duration": 0.030152,
     "end_time": "2023-05-20T12:28:08.185747",
     "exception": false,
     "start_time": "2023-05-20T12:28:08.155595",
     "status": "completed"
    },
    "tags": []
   },
   "source": [
    "## Content Rating"
   ]
  },
  {
   "cell_type": "code",
   "execution_count": 36,
   "id": "4c9fbbdb",
   "metadata": {
    "execution": {
     "iopub.execute_input": "2023-05-20T12:28:08.249224Z",
     "iopub.status.busy": "2023-05-20T12:28:08.248491Z",
     "iopub.status.idle": "2023-05-20T12:28:08.256513Z",
     "shell.execute_reply": "2023-05-20T12:28:08.255241Z"
    },
    "papermill": {
     "duration": 0.042613,
     "end_time": "2023-05-20T12:28:08.258920",
     "exception": false,
     "start_time": "2023-05-20T12:28:08.216307",
     "status": "completed"
    },
    "tags": []
   },
   "outputs": [
    {
     "data": {
      "text/plain": [
       "array(['Everyone', 'Teen', 'Everyone 10+', 'Mature 17+',\n",
       "       'Adults only 18+', 'Unrated'], dtype=object)"
      ]
     },
     "execution_count": 36,
     "metadata": {},
     "output_type": "execute_result"
    }
   ],
   "source": [
    "data.Content_Rating.unique()"
   ]
  },
  {
   "cell_type": "code",
   "execution_count": 37,
   "id": "8aff56c0",
   "metadata": {
    "execution": {
     "iopub.execute_input": "2023-05-20T12:28:08.322916Z",
     "iopub.status.busy": "2023-05-20T12:28:08.322450Z",
     "iopub.status.idle": "2023-05-20T12:28:08.333102Z",
     "shell.execute_reply": "2023-05-20T12:28:08.331848Z"
    },
    "papermill": {
     "duration": 0.045192,
     "end_time": "2023-05-20T12:28:08.335414",
     "exception": false,
     "start_time": "2023-05-20T12:28:08.290222",
     "status": "completed"
    },
    "tags": []
   },
   "outputs": [
    {
     "data": {
      "text/plain": [
       "False    10840\n",
       "Name: Content_Rating, dtype: int64"
      ]
     },
     "execution_count": 37,
     "metadata": {},
     "output_type": "execute_result"
    }
   ],
   "source": [
    "data.Content_Rating.isna().value_counts()"
   ]
  },
  {
   "cell_type": "markdown",
   "id": "377e21ef",
   "metadata": {
    "papermill": {
     "duration": 0.030388,
     "end_time": "2023-05-20T12:28:08.396739",
     "exception": false,
     "start_time": "2023-05-20T12:28:08.366351",
     "status": "completed"
    },
    "tags": []
   },
   "source": [
    "No repetition or missing or false values present. "
   ]
  },
  {
   "cell_type": "markdown",
   "id": "04bfa636",
   "metadata": {
    "papermill": {
     "duration": 0.03019,
     "end_time": "2023-05-20T12:28:08.457546",
     "exception": false,
     "start_time": "2023-05-20T12:28:08.427356",
     "status": "completed"
    },
    "tags": []
   },
   "source": [
    "## Genres\n",
    "Checking for unique values, inconsistent and repetition in data"
   ]
  },
  {
   "cell_type": "code",
   "execution_count": 38,
   "id": "866aa732",
   "metadata": {
    "execution": {
     "iopub.execute_input": "2023-05-20T12:28:08.521444Z",
     "iopub.status.busy": "2023-05-20T12:28:08.520675Z",
     "iopub.status.idle": "2023-05-20T12:28:08.530169Z",
     "shell.execute_reply": "2023-05-20T12:28:08.528968Z"
    },
    "papermill": {
     "duration": 0.04437,
     "end_time": "2023-05-20T12:28:08.532544",
     "exception": false,
     "start_time": "2023-05-20T12:28:08.488174",
     "status": "completed"
    },
    "tags": []
   },
   "outputs": [
    {
     "data": {
      "text/plain": [
       "array(['Art & Design', 'Art & Design;Pretend Play',\n",
       "       'Art & Design;Creativity', 'Art & Design;Action & Adventure',\n",
       "       'Auto & Vehicles', 'Beauty', 'Books & Reference', 'Business',\n",
       "       'Comics', 'Comics;Creativity', 'Communication', 'Dating',\n",
       "       'Education;Education', 'Education', 'Education;Creativity',\n",
       "       'Education;Music & Video', 'Education;Action & Adventure',\n",
       "       'Education;Pretend Play', 'Education;Brain Games', 'Entertainment',\n",
       "       'Entertainment;Music & Video', 'Entertainment;Brain Games',\n",
       "       'Entertainment;Creativity', 'Events', 'Finance', 'Food & Drink',\n",
       "       'Health & Fitness', 'House & Home', 'Libraries & Demo',\n",
       "       'Lifestyle', 'Lifestyle;Pretend Play',\n",
       "       'Adventure;Action & Adventure', 'Arcade', 'Casual', 'Card',\n",
       "       'Casual;Pretend Play', 'Action', 'Strategy', 'Puzzle', 'Sports',\n",
       "       'Music', 'Word', 'Racing', 'Casual;Creativity',\n",
       "       'Casual;Action & Adventure', 'Simulation', 'Adventure', 'Board',\n",
       "       'Trivia', 'Role Playing', 'Simulation;Education',\n",
       "       'Action;Action & Adventure', 'Casual;Brain Games',\n",
       "       'Simulation;Action & Adventure', 'Educational;Creativity',\n",
       "       'Puzzle;Brain Games', 'Educational;Education', 'Card;Brain Games',\n",
       "       'Educational;Brain Games', 'Educational;Pretend Play',\n",
       "       'Entertainment;Education', 'Casual;Education',\n",
       "       'Music;Music & Video', 'Racing;Action & Adventure',\n",
       "       'Arcade;Pretend Play', 'Role Playing;Action & Adventure',\n",
       "       'Simulation;Pretend Play', 'Puzzle;Creativity',\n",
       "       'Sports;Action & Adventure', 'Educational;Action & Adventure',\n",
       "       'Arcade;Action & Adventure', 'Entertainment;Action & Adventure',\n",
       "       'Puzzle;Action & Adventure', 'Strategy;Action & Adventure',\n",
       "       'Music & Audio;Music & Video', 'Health & Fitness;Education',\n",
       "       'Adventure;Education', 'Board;Brain Games',\n",
       "       'Board;Action & Adventure', 'Board;Pretend Play',\n",
       "       'Casual;Music & Video', 'Role Playing;Pretend Play',\n",
       "       'Entertainment;Pretend Play', 'Video Players & Editors;Creativity',\n",
       "       'Card;Action & Adventure', 'Medical', 'Social', 'Shopping',\n",
       "       'Photography', 'Travel & Local',\n",
       "       'Travel & Local;Action & Adventure', 'Tools', 'Tools;Education',\n",
       "       'Personalization', 'Productivity', 'Parenting',\n",
       "       'Parenting;Music & Video', 'Parenting;Education',\n",
       "       'Parenting;Brain Games', 'Weather', 'Video Players & Editors',\n",
       "       'Video Players & Editors;Music & Video', 'News & Magazines',\n",
       "       'Maps & Navigation', 'Health & Fitness;Action & Adventure',\n",
       "       'Educational', 'Casino', 'Adventure;Brain Games',\n",
       "       'Trivia;Education', 'Lifestyle;Education',\n",
       "       'Books & Reference;Creativity', 'Books & Reference;Education',\n",
       "       'Puzzle;Education', 'Role Playing;Education',\n",
       "       'Role Playing;Brain Games', 'Strategy;Education',\n",
       "       'Racing;Pretend Play', 'Communication;Creativity',\n",
       "       'Strategy;Creativity'], dtype=object)"
      ]
     },
     "execution_count": 38,
     "metadata": {},
     "output_type": "execute_result"
    }
   ],
   "source": [
    "data.Genres.unique()"
   ]
  },
  {
   "cell_type": "markdown",
   "id": "d041e99c",
   "metadata": {
    "papermill": {
     "duration": 0.031067,
     "end_time": "2023-05-20T12:28:08.594639",
     "exception": false,
     "start_time": "2023-05-20T12:28:08.563572",
     "status": "completed"
    },
    "tags": []
   },
   "source": [
    "The data is in the format Genre;Subgenre. Lets divide the data into two columns, one as Main_Genres and the other as Sub_genre."
   ]
  },
  {
   "cell_type": "code",
   "execution_count": 39,
   "id": "01c57ee9",
   "metadata": {
    "execution": {
     "iopub.execute_input": "2023-05-20T12:28:08.658193Z",
     "iopub.status.busy": "2023-05-20T12:28:08.657729Z",
     "iopub.status.idle": "2023-05-20T12:28:08.674072Z",
     "shell.execute_reply": "2023-05-20T12:28:08.673166Z"
    },
    "papermill": {
     "duration": 0.051114,
     "end_time": "2023-05-20T12:28:08.676508",
     "exception": false,
     "start_time": "2023-05-20T12:28:08.625394",
     "status": "completed"
    },
    "tags": []
   },
   "outputs": [
    {
     "data": {
      "text/plain": [
       "0    Art & Design\n",
       "1    Art & Design\n",
       "2    Art & Design\n",
       "3    Art & Design\n",
       "4    Art & Design\n",
       "Name: Main_Genres, dtype: object"
      ]
     },
     "execution_count": 39,
     "metadata": {},
     "output_type": "execute_result"
    }
   ],
   "source": [
    "data['Main_Genres'] = data.Genres.apply(lambda x: x.split(';')[0])\n",
    "data.Main_Genres.head()"
   ]
  },
  {
   "cell_type": "code",
   "execution_count": 40,
   "id": "7f043d22",
   "metadata": {
    "execution": {
     "iopub.execute_input": "2023-05-20T12:28:08.742089Z",
     "iopub.status.busy": "2023-05-20T12:28:08.741340Z",
     "iopub.status.idle": "2023-05-20T12:28:08.756177Z",
     "shell.execute_reply": "2023-05-20T12:28:08.754973Z"
    },
    "papermill": {
     "duration": 0.050197,
     "end_time": "2023-05-20T12:28:08.758594",
     "exception": false,
     "start_time": "2023-05-20T12:28:08.708397",
     "status": "completed"
    },
    "tags": []
   },
   "outputs": [
    {
     "data": {
      "text/plain": [
       "0    Art & Design\n",
       "1    Pretend Play\n",
       "2    Art & Design\n",
       "3    Art & Design\n",
       "4      Creativity\n",
       "Name: Sec_Genres, dtype: object"
      ]
     },
     "execution_count": 40,
     "metadata": {},
     "output_type": "execute_result"
    }
   ],
   "source": [
    "data['Sec_Genres'] = data.Genres.apply(lambda x: x.split(';')[-1])\n",
    "data.Sec_Genres.head()"
   ]
  },
  {
   "cell_type": "code",
   "execution_count": 41,
   "id": "a33f4dce",
   "metadata": {
    "execution": {
     "iopub.execute_input": "2023-05-20T12:28:08.823524Z",
     "iopub.status.busy": "2023-05-20T12:28:08.823049Z",
     "iopub.status.idle": "2023-05-20T12:28:08.840239Z",
     "shell.execute_reply": "2023-05-20T12:28:08.839078Z"
    },
    "papermill": {
     "duration": 0.053282,
     "end_time": "2023-05-20T12:28:08.843215",
     "exception": false,
     "start_time": "2023-05-20T12:28:08.789933",
     "status": "completed"
    },
    "tags": []
   },
   "outputs": [
    {
     "data": {
      "text/plain": [
       "Main_Genres              Sec_Genres             \n",
       "Action                   Action                     365\n",
       "                         Action & Adventure          17\n",
       "Adventure                Action & Adventure          13\n",
       "                         Adventure                   75\n",
       "                         Brain Games                  1\n",
       "                                                   ... \n",
       "Video Players & Editors  Creativity                   2\n",
       "                         Music & Video                3\n",
       "                         Video Players & Editors    173\n",
       "Weather                  Weather                     82\n",
       "Word                     Word                        29\n",
       "Length: 118, dtype: int64"
      ]
     },
     "execution_count": 41,
     "metadata": {},
     "output_type": "execute_result"
    }
   ],
   "source": [
    "genre = data.groupby(['Main_Genres','Sec_Genres'])\n",
    "genre.size()"
   ]
  },
  {
   "cell_type": "code",
   "execution_count": 42,
   "id": "e8c4f8c9",
   "metadata": {
    "execution": {
     "iopub.execute_input": "2023-05-20T12:28:08.909121Z",
     "iopub.status.busy": "2023-05-20T12:28:08.908059Z",
     "iopub.status.idle": "2023-05-20T12:28:08.915649Z",
     "shell.execute_reply": "2023-05-20T12:28:08.914545Z"
    },
    "papermill": {
     "duration": 0.042798,
     "end_time": "2023-05-20T12:28:08.917820",
     "exception": false,
     "start_time": "2023-05-20T12:28:08.875022",
     "status": "completed"
    },
    "tags": []
   },
   "outputs": [
    {
     "data": {
      "text/plain": [
       "Index(['App', 'Category', 'Rating', 'Reviews', 'Size', 'Installs', 'Type',\n",
       "       'Price', 'Content_Rating', 'Genres', 'Last_Updated', 'Current_Ver',\n",
       "       'Android_Ver', 'Main_Genres', 'Sec_Genres'],\n",
       "      dtype='object')"
      ]
     },
     "execution_count": 42,
     "metadata": {},
     "output_type": "execute_result"
    }
   ],
   "source": [
    "data.columns"
   ]
  },
  {
   "cell_type": "markdown",
   "id": "e9e6873e",
   "metadata": {
    "papermill": {
     "duration": 0.031323,
     "end_time": "2023-05-20T12:28:08.980678",
     "exception": false,
     "start_time": "2023-05-20T12:28:08.949355",
     "status": "completed"
    },
    "tags": []
   },
   "source": [
    "## Last_Updated\n",
    "Let's now inspect last updated column"
   ]
  },
  {
   "cell_type": "code",
   "execution_count": 43,
   "id": "99ae7c53",
   "metadata": {
    "execution": {
     "iopub.execute_input": "2023-05-20T12:28:09.045797Z",
     "iopub.status.busy": "2023-05-20T12:28:09.045334Z",
     "iopub.status.idle": "2023-05-20T12:28:09.053588Z",
     "shell.execute_reply": "2023-05-20T12:28:09.052728Z"
    },
    "papermill": {
     "duration": 0.043497,
     "end_time": "2023-05-20T12:28:09.055795",
     "exception": false,
     "start_time": "2023-05-20T12:28:09.012298",
     "status": "completed"
    },
    "tags": []
   },
   "outputs": [
    {
     "data": {
      "text/plain": [
       "0     January 7, 2018\n",
       "1    January 15, 2018\n",
       "2      August 1, 2018\n",
       "3        June 8, 2018\n",
       "4       June 20, 2018\n",
       "Name: Last_Updated, dtype: object"
      ]
     },
     "execution_count": 43,
     "metadata": {},
     "output_type": "execute_result"
    }
   ],
   "source": [
    "data.Last_Updated.head()"
   ]
  },
  {
   "cell_type": "markdown",
   "id": "19506942",
   "metadata": {
    "papermill": {
     "duration": 0.031411,
     "end_time": "2023-05-20T12:28:09.119135",
     "exception": false,
     "start_time": "2023-05-20T12:28:09.087724",
     "status": "completed"
    },
    "tags": []
   },
   "source": [
    "Converting the string to date time format"
   ]
  },
  {
   "cell_type": "code",
   "execution_count": 44,
   "id": "bd66d430",
   "metadata": {
    "execution": {
     "iopub.execute_input": "2023-05-20T12:28:09.185513Z",
     "iopub.status.busy": "2023-05-20T12:28:09.184368Z",
     "iopub.status.idle": "2023-05-20T12:28:09.366803Z",
     "shell.execute_reply": "2023-05-20T12:28:09.365625Z"
    },
    "papermill": {
     "duration": 0.218452,
     "end_time": "2023-05-20T12:28:09.369511",
     "exception": false,
     "start_time": "2023-05-20T12:28:09.151059",
     "status": "completed"
    },
    "tags": []
   },
   "outputs": [
    {
     "data": {
      "text/plain": [
       "0   2018-01-07\n",
       "1   2018-01-15\n",
       "2   2018-08-01\n",
       "3   2018-06-08\n",
       "4   2018-06-20\n",
       "Name: Last_Updated, dtype: datetime64[ns]"
      ]
     },
     "execution_count": 44,
     "metadata": {},
     "output_type": "execute_result"
    }
   ],
   "source": [
    "from datetime import datetime,date\n",
    "date=pd.to_datetime(data.Last_Updated)\n",
    "date.head()"
   ]
  },
  {
   "cell_type": "markdown",
   "id": "36c7b56b",
   "metadata": {
    "papermill": {
     "duration": 0.031424,
     "end_time": "2023-05-20T12:28:09.432778",
     "exception": false,
     "start_time": "2023-05-20T12:28:09.401354",
     "status": "completed"
    },
    "tags": []
   },
   "source": [
    "## Android Version\n",
    "Understanding the data"
   ]
  },
  {
   "cell_type": "code",
   "execution_count": 45,
   "id": "0c2d21e5",
   "metadata": {
    "execution": {
     "iopub.execute_input": "2023-05-20T12:28:09.498529Z",
     "iopub.status.busy": "2023-05-20T12:28:09.497741Z",
     "iopub.status.idle": "2023-05-20T12:28:09.505213Z",
     "shell.execute_reply": "2023-05-20T12:28:09.504224Z"
    },
    "papermill": {
     "duration": 0.043276,
     "end_time": "2023-05-20T12:28:09.507656",
     "exception": false,
     "start_time": "2023-05-20T12:28:09.464380",
     "status": "completed"
    },
    "tags": []
   },
   "outputs": [
    {
     "data": {
      "text/plain": [
       "array(['4.0.3 and up', '4.2 and up', '4.4 and up', '2.3 and up',\n",
       "       '3.0 and up', '4.1 and up', '4.0 and up', '2.3.3 and up',\n",
       "       'Varies with device', '2.2 and up', '5.0 and up', '6.0 and up',\n",
       "       '1.6 and up', '1.5 and up', '2.1 and up', '7.0 and up',\n",
       "       '5.1 and up', '4.3 and up', '4.0.3 - 7.1.1', '2.0 and up',\n",
       "       '3.2 and up', '4.4W and up', '7.1 and up', '7.0 - 7.1.1',\n",
       "       '8.0 and up', '5.0 - 8.0', '3.1 and up', '2.0.1 and up',\n",
       "       '4.1 - 7.1.1', nan, '5.0 - 6.0', '1.0 and up', '2.2 - 7.1.1',\n",
       "       '5.0 - 7.1.1'], dtype=object)"
      ]
     },
     "execution_count": 45,
     "metadata": {},
     "output_type": "execute_result"
    }
   ],
   "source": [
    "data.Android_Ver.unique()"
   ]
  },
  {
   "cell_type": "code",
   "execution_count": 46,
   "id": "e23757cc",
   "metadata": {
    "execution": {
     "iopub.execute_input": "2023-05-20T12:28:09.573903Z",
     "iopub.status.busy": "2023-05-20T12:28:09.572972Z",
     "iopub.status.idle": "2023-05-20T12:28:09.585372Z",
     "shell.execute_reply": "2023-05-20T12:28:09.584552Z"
    },
    "papermill": {
     "duration": 0.04814,
     "end_time": "2023-05-20T12:28:09.587840",
     "exception": false,
     "start_time": "2023-05-20T12:28:09.539700",
     "status": "completed"
    },
    "tags": []
   },
   "outputs": [
    {
     "data": {
      "text/plain": [
       "Int64Index([4453, 4490], dtype='int64')"
      ]
     },
     "execution_count": 46,
     "metadata": {},
     "output_type": "execute_result"
    }
   ],
   "source": [
    "data.loc[pd.isna(data['Android_Ver']), :].index"
   ]
  },
  {
   "cell_type": "markdown",
   "id": "2535c5e9",
   "metadata": {
    "papermill": {
     "duration": 0.032232,
     "end_time": "2023-05-20T12:28:09.652546",
     "exception": false,
     "start_time": "2023-05-20T12:28:09.620314",
     "status": "completed"
    },
    "tags": []
   },
   "source": [
    "Deleting the rows with Nan"
   ]
  },
  {
   "cell_type": "code",
   "execution_count": 47,
   "id": "80bf6541",
   "metadata": {
    "execution": {
     "iopub.execute_input": "2023-05-20T12:28:09.718835Z",
     "iopub.status.busy": "2023-05-20T12:28:09.718390Z",
     "iopub.status.idle": "2023-05-20T12:28:09.726348Z",
     "shell.execute_reply": "2023-05-20T12:28:09.725195Z"
    },
    "papermill": {
     "duration": 0.044089,
     "end_time": "2023-05-20T12:28:09.728823",
     "exception": false,
     "start_time": "2023-05-20T12:28:09.684734",
     "status": "completed"
    },
    "tags": []
   },
   "outputs": [],
   "source": [
    "data=data.drop(data.index[[4453, 4490]])"
   ]
  },
  {
   "cell_type": "markdown",
   "id": "2d068fc9",
   "metadata": {
    "papermill": {
     "duration": 0.032121,
     "end_time": "2023-05-20T12:28:09.793450",
     "exception": false,
     "start_time": "2023-05-20T12:28:09.761329",
     "status": "completed"
    },
    "tags": []
   },
   "source": [
    "## Current Version"
   ]
  },
  {
   "cell_type": "code",
   "execution_count": 48,
   "id": "cda91431",
   "metadata": {
    "execution": {
     "iopub.execute_input": "2023-05-20T12:28:09.859710Z",
     "iopub.status.busy": "2023-05-20T12:28:09.859277Z",
     "iopub.status.idle": "2023-05-20T12:28:09.871413Z",
     "shell.execute_reply": "2023-05-20T12:28:09.870203Z"
    },
    "papermill": {
     "duration": 0.04853,
     "end_time": "2023-05-20T12:28:09.873776",
     "exception": false,
     "start_time": "2023-05-20T12:28:09.825246",
     "status": "completed"
    },
    "tags": []
   },
   "outputs": [
    {
     "data": {
      "text/plain": [
       "Varies with device    1459\n",
       "1.0                    809\n",
       "1.1                    263\n",
       "1.2                    178\n",
       "2.0                    151\n",
       "1.3                    145\n",
       "1.0.0                  136\n",
       "1.0.1                  119\n",
       "1.4                     88\n",
       "1.5                     81\n",
       "1.0.2                   80\n",
       "1.6                     65\n",
       "1.0.3                   62\n",
       "2.1                     61\n",
       "3.0                     59\n",
       "1.0.4                   58\n",
       "1.7                     53\n",
       "2.0.0                   51\n",
       "1.0.5                   50\n",
       "1.1.0                   49\n",
       "Name: Current_Ver, dtype: int64"
      ]
     },
     "execution_count": 48,
     "metadata": {},
     "output_type": "execute_result"
    }
   ],
   "source": [
    "data.Current_Ver.value_counts().head(20)"
   ]
  },
  {
   "cell_type": "markdown",
   "id": "6d67bf8e",
   "metadata": {
    "papermill": {
     "duration": 0.032546,
     "end_time": "2023-05-20T12:28:09.938930",
     "exception": false,
     "start_time": "2023-05-20T12:28:09.906384",
     "status": "completed"
    },
    "tags": []
   },
   "source": [
    "As vareis with device is of high volume im not changing it to nan"
   ]
  },
  {
   "cell_type": "code",
   "execution_count": 49,
   "id": "c1b1b859",
   "metadata": {
    "execution": {
     "iopub.execute_input": "2023-05-20T12:28:10.005305Z",
     "iopub.status.busy": "2023-05-20T12:28:10.004846Z",
     "iopub.status.idle": "2023-05-20T12:28:10.013538Z",
     "shell.execute_reply": "2023-05-20T12:28:10.012535Z"
    },
    "papermill": {
     "duration": 0.044732,
     "end_time": "2023-05-20T12:28:10.015827",
     "exception": false,
     "start_time": "2023-05-20T12:28:09.971095",
     "status": "completed"
    },
    "tags": []
   },
   "outputs": [
    {
     "data": {
      "text/plain": [
       "8"
      ]
     },
     "execution_count": 49,
     "metadata": {},
     "output_type": "execute_result"
    }
   ],
   "source": [
    "data.Current_Ver.isna().sum()"
   ]
  },
  {
   "cell_type": "markdown",
   "id": "6062f9d5",
   "metadata": {
    "papermill": {
     "duration": 0.032208,
     "end_time": "2023-05-20T12:28:10.080518",
     "exception": false,
     "start_time": "2023-05-20T12:28:10.048310",
     "status": "completed"
    },
    "tags": []
   },
   "source": [
    "Converting 8 nan to 'Varies with device'."
   ]
  },
  {
   "cell_type": "code",
   "execution_count": 50,
   "id": "2b20b5e6",
   "metadata": {
    "execution": {
     "iopub.execute_input": "2023-05-20T12:28:10.147912Z",
     "iopub.status.busy": "2023-05-20T12:28:10.147473Z",
     "iopub.status.idle": "2023-05-20T12:28:10.156964Z",
     "shell.execute_reply": "2023-05-20T12:28:10.155764Z"
    },
    "papermill": {
     "duration": 0.046479,
     "end_time": "2023-05-20T12:28:10.159549",
     "exception": false,
     "start_time": "2023-05-20T12:28:10.113070",
     "status": "completed"
    },
    "tags": []
   },
   "outputs": [],
   "source": [
    "data.Current_Ver=data.Current_Ver.replace(np.nan,'Varies with device')"
   ]
  },
  {
   "cell_type": "markdown",
   "id": "fc7ceeb2",
   "metadata": {
    "papermill": {
     "duration": 0.031916,
     "end_time": "2023-05-20T12:28:10.224144",
     "exception": false,
     "start_time": "2023-05-20T12:28:10.192228",
     "status": "completed"
    },
    "tags": []
   },
   "source": [
    "## Data Visualization"
   ]
  },
  {
   "cell_type": "markdown",
   "id": "728c7df1",
   "metadata": {
    "papermill": {
     "duration": 0.032138,
     "end_time": "2023-05-20T12:28:10.288648",
     "exception": false,
     "start_time": "2023-05-20T12:28:10.256510",
     "status": "completed"
    },
    "tags": []
   },
   "source": [
    "Category Ratio using Donut plot"
   ]
  },
  {
   "cell_type": "code",
   "execution_count": 51,
   "id": "24514e5b",
   "metadata": {
    "execution": {
     "iopub.execute_input": "2023-05-20T12:28:10.355510Z",
     "iopub.status.busy": "2023-05-20T12:28:10.355037Z",
     "iopub.status.idle": "2023-05-20T12:28:10.754239Z",
     "shell.execute_reply": "2023-05-20T12:28:10.753005Z"
    },
    "papermill": {
     "duration": 0.437103,
     "end_time": "2023-05-20T12:28:10.758025",
     "exception": false,
     "start_time": "2023-05-20T12:28:10.320922",
     "status": "completed"
    },
    "tags": []
   },
   "outputs": [
    {
     "data": {
      "text/plain": [
       "<AxesSubplot: xlabel='Installs', ylabel='count'>"
      ]
     },
     "execution_count": 51,
     "metadata": {},
     "output_type": "execute_result"
    },
    {
     "data": {
      "image/png": "[encoded data removed]",
      "text/plain": [
       "<Figure size 640x480 with 1 Axes>"
      ]
     },
     "metadata": {},
     "output_type": "display_data"
    }
   ],
   "source": [
    "plt.xticks(rotation=90)\n",
    "sns.countplot(data, x=\"Installs\", palette=\"Set3\")"
   ]
  },
  {
   "cell_type": "code",
   "execution_count": 52,
   "id": "0d29e2ba",
   "metadata": {
    "execution": {
     "iopub.execute_input": "2023-05-20T12:28:10.828095Z",
     "iopub.status.busy": "2023-05-20T12:28:10.827041Z",
     "iopub.status.idle": "2023-05-20T12:28:11.053419Z",
     "shell.execute_reply": "2023-05-20T12:28:11.052057Z"
    },
    "papermill": {
     "duration": 0.264429,
     "end_time": "2023-05-20T12:28:11.056171",
     "exception": false,
     "start_time": "2023-05-20T12:28:10.791742",
     "status": "completed"
    },
    "tags": []
   },
   "outputs": [
    {
     "data": {
      "text/html": [
       "        <script type=\"text/javascript\">\n",
       "        window.PlotlyConfig = {MathJaxConfig: 'local'};\n",
       "        if (window.MathJax && window.MathJax.Hub && window.MathJax.Hub.Config) {window.MathJax.Hub.Config({SVG: {font: \"STIX-Web\"}});}\n",
       "        if (typeof require !== 'undefined') {\n",
       "        require.undef(\"plotly\");\n",
       "        requirejs.config({\n",
       "            paths: {\n",
       "                'plotly': ['https://cdn.plot.ly/plotly-2.20.0.min']\n",
       "            }\n",
       "        });\n",
       "        require(['plotly'], function(Plotly) {\n",
       "            window._Plotly = Plotly;\n",
       "        });\n",
       "        }\n",
       "        </script>\n",
       "        "
      ]
     },
     "metadata": {},
     "output_type": "display_data"
    },
    {
     "data": {
      "text/html": [
       "<div>                            <div id=\"2d287fd0-e877-4064-a061-7be92434f2d6\" class=\"plotly-graph-div\" style=\"height:525px; width:100%;\"></div>            <script type=\"text/javascript\">                require([\"plotly\"], function(Plotly) {                    window.PLOTLYENV=window.PLOTLYENV || {};                                    if (document.getElementById(\"2d287fd0-e877-4064-a061-7be92434f2d6\")) {                    Plotly.newPlot(                        \"2d287fd0-e877-4064-a061-7be92434f2d6\",                        [{\"hole\":0.3,\"labels\":[\"ART_AND_DESIGN\",\"AUTO_AND_VEHICLES\",\"BEAUTY\",\"BOOKS_AND_REFERENCE\",\"BUSINESS\",\"COMICS\",\"COMMUNICATION\",\"DATING\",\"EDUCATION\",\"ENTERTAINMENT\",\"EVENTS\",\"FINANCE\",\"FOOD_AND_DRINK\",\"HEALTH_AND_FITNESS\",\"HOUSE_AND_HOME\",\"LIBRARIES_AND_DEMO\",\"LIFESTYLE\",\"GAME\",\"FAMILY\",\"MEDICAL\",\"SOCIAL\",\"SHOPPING\",\"PHOTOGRAPHY\",\"SPORTS\",\"TRAVEL_AND_LOCAL\",\"TOOLS\",\"PERSONALIZATION\",\"PRODUCTIVITY\",\"PARENTING\",\"WEATHER\",\"VIDEO_PLAYERS\",\"NEWS_AND_MAGAZINES\",\"MAPS_AND_NAVIGATION\"],\"values\":[65,85,53,231,460,60,387,234,156,149,64,366,127,341,88,85,382,1144,1972,463,295,260,335,384,258,843,390,424,60,82,175,283,137],\"type\":\"pie\"}],                        {\"template\":{\"data\":{\"histogram2dcontour\":[{\"type\":\"histogram2dcontour\",\"colorbar\":{\"outlinewidth\":0,\"ticks\":\"\"},\"colorscale\":[[0.0,\"#0d0887\"],[0.1111111111111111,\"#46039f\"],[0.2222222222222222,\"#7201a8\"],[0.3333333333333333,\"#9c179e\"],[0.4444444444444444,\"#bd3786\"],[0.5555555555555556,\"#d8576b\"],[0.6666666666666666,\"#ed7953\"],[0.7777777777777778,\"#fb9f3a\"],[0.8888888888888888,\"#fdca26\"],[1.0,\"#f0f921\"]]}],\"choropleth\":[{\"type\":\"choropleth\",\"colorbar\":{\"outlinewidth\":0,\"ticks\":\"\"}}],\"histogram2d\":[{\"type\":\"histogram2d\",\"colorbar\":{\"outlinewidth\":0,\"ticks\":\"\"},\"colorscale\":[[0.0,\"#0d0887\"],[0.1111111111111111,\"#46039f\"],[0.2222222222222222,\"#7201a8\"],[0.3333333333333333,\"#9c179e\"],[0.4444444444444444,\"#bd3786\"],[0.5555555555555556,\"#d8576b\"],[0.6666666666666666,\"#ed7953\"],[0.7777777777777778,\"#fb9f3a\"],[0.8888888888888888,\"#fdca26\"],[1.0,\"#f0f921\"]]}],\"heatmap\":[{\"type\":\"heatmap\",\"colorbar\":{\"outlinewidth\":0,\"ticks\":\"\"},\"colorscale\":[[0.0,\"#0d0887\"],[0.1111111111111111,\"#46039f\"],[0.2222222222222222,\"#7201a8\"],[0.3333333333333333,\"#9c179e\"],[0.4444444444444444,\"#bd3786\"],[0.5555555555555556,\"#d8576b\"],[0.6666666666666666,\"#ed7953\"],[0.7777777777777778,\"#fb9f3a\"],[0.8888888888888888,\"#fdca26\"],[1.0,\"#f0f921\"]]}],\"heatmapgl\":[{\"type\":\"heatmapgl\",\"colorbar\":{\"outlinewidth\":0,\"ticks\":\"\"},\"colorscale\":[[0.0,\"#0d0887\"],[0.1111111111111111,\"#46039f\"],[0.2222222222222222,\"#7201a8\"],[0.3333333333333333,\"#9c179e\"],[0.4444444444444444,\"#bd3786\"],[0.5555555555555556,\"#d8576b\"],[0.6666666666666666,\"#ed7953\"],[0.7777777777777778,\"#fb9f3a\"],[0.8888888888888888,\"#fdca26\"],[1.0,\"#f0f921\"]]}],\"contourcarpet\":[{\"type\":\"contourcarpet\",\"colorbar\":{\"outlinewidth\":0,\"ticks\":\"\"}}],\"contour\":[{\"type\":\"contour\",\"colorbar\":{\"outlinewidth\":0,\"ticks\":\"\"},\"colorscale\":[[0.0,\"#0d0887\"],[0.1111111111111111,\"#46039f\"],[0.2222222222222222,\"#7201a8\"],[0.3333333333333333,\"#9c179e\"],[0.4444444444444444,\"#bd3786\"],[0.5555555555555556,\"#d8576b\"],[0.6666666666666666,\"#ed7953\"],[0.7777777777777778,\"#fb9f3a\"],[0.8888888888888888,\"#fdca26\"],[1.0,\"#f0f921\"]]}],\"surface\":[{\"type\":\"surface\",\"colorbar\":{\"outlinewidth\":0,\"ticks\":\"\"},\"colorscale\":[[0.0,\"#0d0887\"],[0.1111111111111111,\"#46039f\"],[0.2222222222222222,\"#7201a8\"],[0.3333333333333333,\"#9c179e\"],[0.4444444444444444,\"#bd3786\"],[0.5555555555555556,\"#d8576b\"],[0.6666666666666666,\"#ed7953\"],[0.7777777777777778,\"#fb9f3a\"],[0.8888888888888888,\"#fdca26\"],[1.0,\"#f0f921\"]]}],\"mesh3d\":[{\"type\":\"mesh3d\",\"colorbar\":{\"outlinewidth\":0,\"ticks\":\"\"}}],\"scatter\":[{\"fillpattern\":{\"fillmode\":\"overlay\",\"size\":10,\"solidity\":0.2},\"type\":\"scatter\"}],\"parcoords\":[{\"type\":\"parcoords\",\"line\":{\"colorbar\":{\"outlinewidth\":0,\"ticks\":\"\"}}}],\"scatterpolargl\":[{\"type\":\"scatterpolargl\",\"marker\":{\"colorbar\":{\"outlinewidth\":0,\"ticks\":\"\"}}}],\"bar\":[{\"error_x\":{\"color\":\"#2a3f5f\"},\"error_y\":{\"color\":\"#2a3f5f\"},\"marker\":{\"line\":{\"color\":\"#E5ECF6\",\"width\":0.5},\"pattern\":{\"fillmode\":\"overlay\",\"size\":10,\"solidity\":0.2}},\"type\":\"bar\"}],\"scattergeo\":[{\"type\":\"scattergeo\",\"marker\":{\"colorbar\":{\"outlinewidth\":0,\"ticks\":\"\"}}}],\"scatterpolar\":[{\"type\":\"scatterpolar\",\"marker\":{\"colorbar\":{\"outlinewidth\":0,\"ticks\":\"\"}}}],\"histogram\":[{\"marker\":{\"pattern\":{\"fillmode\":\"overlay\",\"size\":10,\"solidity\":0.2}},\"type\":\"histogram\"}],\"scattergl\":[{\"type\":\"scattergl\",\"marker\":{\"colorbar\":{\"outlinewidth\":0,\"ticks\":\"\"}}}],\"scatter3d\":[{\"type\":\"scatter3d\",\"line\":{\"colorbar\":{\"outlinewidth\":0,\"ticks\":\"\"}},\"marker\":{\"colorbar\":{\"outlinewidth\":0,\"ticks\":\"\"}}}],\"scattermapbox\":[{\"type\":\"scattermapbox\",\"marker\":{\"colorbar\":{\"outlinewidth\":0,\"ticks\":\"\"}}}],\"scatterternary\":[{\"type\":\"scatterternary\",\"marker\":{\"colorbar\":{\"outlinewidth\":0,\"ticks\":\"\"}}}],\"scattercarpet\":[{\"type\":\"scattercarpet\",\"marker\":{\"colorbar\":{\"outlinewidth\":0,\"ticks\":\"\"}}}],\"carpet\":[{\"aaxis\":{\"endlinecolor\":\"#2a3f5f\",\"gridcolor\":\"white\",\"linecolor\":\"white\",\"minorgridcolor\":\"white\",\"startlinecolor\":\"#2a3f5f\"},\"baxis\":{\"endlinecolor\":\"#2a3f5f\",\"gridcolor\":\"white\",\"linecolor\":\"white\",\"minorgridcolor\":\"white\",\"startlinecolor\":\"#2a3f5f\"},\"type\":\"carpet\"}],\"table\":[{\"cells\":{\"fill\":{\"color\":\"#EBF0F8\"},\"line\":{\"color\":\"white\"}},\"header\":{\"fill\":{\"color\":\"#C8D4E3\"},\"line\":{\"color\":\"white\"}},\"type\":\"table\"}],\"barpolar\":[{\"marker\":{\"line\":{\"color\":\"#E5ECF6\",\"width\":0.5},\"pattern\":{\"fillmode\":\"overlay\",\"size\":10,\"solidity\":0.2}},\"type\":\"barpolar\"}],\"pie\":[{\"automargin\":true,\"type\":\"pie\"}]},\"layout\":{\"autotypenumbers\":\"strict\",\"colorway\":[\"#636efa\",\"#EF553B\",\"#00cc96\",\"#ab63fa\",\"#FFA15A\",\"#19d3f3\",\"#FF6692\",\"#B6E880\",\"#FF97FF\",\"#FECB52\"],\"font\":{\"color\":\"#2a3f5f\"},\"hovermode\":\"closest\",\"hoverlabel\":{\"align\":\"left\"},\"paper_bgcolor\":\"white\",\"plot_bgcolor\":\"#E5ECF6\",\"polar\":{\"bgcolor\":\"#E5ECF6\",\"angularaxis\":{\"gridcolor\":\"white\",\"linecolor\":\"white\",\"ticks\":\"\"},\"radialaxis\":{\"gridcolor\":\"white\",\"linecolor\":\"white\",\"ticks\":\"\"}},\"ternary\":{\"bgcolor\":\"#E5ECF6\",\"aaxis\":{\"gridcolor\":\"white\",\"linecolor\":\"white\",\"ticks\":\"\"},\"baxis\":{\"gridcolor\":\"white\",\"linecolor\":\"white\",\"ticks\":\"\"},\"caxis\":{\"gridcolor\":\"white\",\"linecolor\":\"white\",\"ticks\":\"\"}},\"coloraxis\":{\"colorbar\":{\"outlinewidth\":0,\"ticks\":\"\"}},\"colorscale\":{\"sequential\":[[0.0,\"#0d0887\"],[0.1111111111111111,\"#46039f\"],[0.2222222222222222,\"#7201a8\"],[0.3333333333333333,\"#9c179e\"],[0.4444444444444444,\"#bd3786\"],[0.5555555555555556,\"#d8576b\"],[0.6666666666666666,\"#ed7953\"],[0.7777777777777778,\"#fb9f3a\"],[0.8888888888888888,\"#fdca26\"],[1.0,\"#f0f921\"]],\"sequentialminus\":[[0.0,\"#0d0887\"],[0.1111111111111111,\"#46039f\"],[0.2222222222222222,\"#7201a8\"],[0.3333333333333333,\"#9c179e\"],[0.4444444444444444,\"#bd3786\"],[0.5555555555555556,\"#d8576b\"],[0.6666666666666666,\"#ed7953\"],[0.7777777777777778,\"#fb9f3a\"],[0.8888888888888888,\"#fdca26\"],[1.0,\"#f0f921\"]],\"diverging\":[[0,\"#8e0152\"],[0.1,\"#c51b7d\"],[0.2,\"#de77ae\"],[0.3,\"#f1b6da\"],[0.4,\"#fde0ef\"],[0.5,\"#f7f7f7\"],[0.6,\"#e6f5d0\"],[0.7,\"#b8e186\"],[0.8,\"#7fbc41\"],[0.9,\"#4d9221\"],[1,\"#276419\"]]},\"xaxis\":{\"gridcolor\":\"white\",\"linecolor\":\"white\",\"ticks\":\"\",\"title\":{\"standoff\":15},\"zerolinecolor\":\"white\",\"automargin\":true,\"zerolinewidth\":2},\"yaxis\":{\"gridcolor\":\"white\",\"linecolor\":\"white\",\"ticks\":\"\",\"title\":{\"standoff\":15},\"zerolinecolor\":\"white\",\"automargin\":true,\"zerolinewidth\":2},\"scene\":{\"xaxis\":{\"backgroundcolor\":\"#E5ECF6\",\"gridcolor\":\"white\",\"linecolor\":\"white\",\"showbackground\":true,\"ticks\":\"\",\"zerolinecolor\":\"white\",\"gridwidth\":2},\"yaxis\":{\"backgroundcolor\":\"#E5ECF6\",\"gridcolor\":\"white\",\"linecolor\":\"white\",\"showbackground\":true,\"ticks\":\"\",\"zerolinecolor\":\"white\",\"gridwidth\":2},\"zaxis\":{\"backgroundcolor\":\"#E5ECF6\",\"gridcolor\":\"white\",\"linecolor\":\"white\",\"showbackground\":true,\"ticks\":\"\",\"zerolinecolor\":\"white\",\"gridwidth\":2}},\"shapedefaults\":{\"line\":{\"color\":\"#2a3f5f\"}},\"annotationdefaults\":{\"arrowcolor\":\"#2a3f5f\",\"arrowhead\":0,\"arrowwidth\":1},\"geo\":{\"bgcolor\":\"white\",\"landcolor\":\"#E5ECF6\",\"subunitcolor\":\"white\",\"showland\":true,\"showlakes\":true,\"lakecolor\":\"white\"},\"title\":{\"x\":0.05},\"mapbox\":{\"style\":\"light\"}}}},                        {\"responsive\": true}                    ).then(function(){\n",
       "                            \n",
       "var gd = document.getElementById('2d287fd0-e877-4064-a061-7be92434f2d6');\n",
       "var x = new MutationObserver(function (mutations, observer) {{\n",
       "        var display = window.getComputedStyle(gd).display;\n",
       "        if (!display || display === 'none') {{\n",
       "            console.log([gd, 'removed!']);\n",
       "            Plotly.purge(gd);\n",
       "            observer.disconnect();\n",
       "        }}\n",
       "}});\n",
       "\n",
       "// Listen for the removal of the full notebook cells\n",
       "var notebookContainer = gd.closest('#notebook-container');\n",
       "if (notebookContainer) {{\n",
       "    x.observe(notebookContainer, {childList: true});\n",
       "}}\n",
       "\n",
       "// Listen for the clearing of the current output cell\n",
       "var outputEl = gd.closest('.output');\n",
       "if (outputEl) {{\n",
       "    x.observe(outputEl, {childList: true});\n",
       "}}\n",
       "\n",
       "                        })                };                });            </script>        </div>"
      ]
     },
     "metadata": {},
     "output_type": "display_data"
    }
   ],
   "source": [
    "labels = data.Category.unique()\n",
    "values=[]\n",
    "for i in labels:\n",
    "    values.append(len(data[data.Category==i]))\n",
    "\n",
    "# Use `hole` to create a donut-like pie chart\n",
    "fig = go.Figure(data=[go.Pie(labels=labels, values=values, hole=.3)])\n",
    "fig.show()"
   ]
  },
  {
   "cell_type": "markdown",
   "id": "821d7595",
   "metadata": {
    "papermill": {
     "duration": 0.035262,
     "end_time": "2023-05-20T12:28:11.125377",
     "exception": false,
     "start_time": "2023-05-20T12:28:11.090115",
     "status": "completed"
    },
    "tags": []
   },
   "source": [
    "Box plot of first three most repeated Category (min,q1,median,q3,max value)"
   ]
  },
  {
   "cell_type": "code",
   "execution_count": 53,
   "id": "79de14bf",
   "metadata": {
    "execution": {
     "iopub.execute_input": "2023-05-20T12:28:11.210006Z",
     "iopub.status.busy": "2023-05-20T12:28:11.209567Z",
     "iopub.status.idle": "2023-05-20T12:28:11.243978Z",
     "shell.execute_reply": "2023-05-20T12:28:11.242844Z"
    },
    "papermill": {
     "duration": 0.081976,
     "end_time": "2023-05-20T12:28:11.246777",
     "exception": false,
     "start_time": "2023-05-20T12:28:11.164801",
     "status": "completed"
    },
    "tags": []
   },
   "outputs": [
    {
     "data": {
      "text/html": [
       "<div>                            <div id=\"08bf9f39-53f0-4c95-83db-44303cd77f54\" class=\"plotly-graph-div\" style=\"height:525px; width:100%;\"></div>            <script type=\"text/javascript\">                require([\"plotly\"], function(Plotly) {                    window.PLOTLYENV=window.PLOTLYENV || {};                                    if (document.getElementById(\"08bf9f39-53f0-4c95-83db-44303cd77f54\")) {                    Plotly.newPlot(                        \"08bf9f39-53f0-4c95-83db-44303cd77f54\",                        [{\"name\":\"GAME\",\"y\":[4.5,4.5,4.4,4.7,4.5,4.2,4.4,4.6,4.3,4.3,4.2,4.6,4.4,4.4,4.5,4.4,4.3,4.6,4.3,4.2,4.2,4.5,4.5,4.5,4.7,4.7,4.5,4.4,4.3,3.8,4.6,4.6,4.4,4.3,4.1,4.3,4.4,4.6,4.3,4.4,4.7,4.5,4.4,4.6,4.5,4.4,4.6,4.5,4.5,4.3,4.5,4.6,4.4,4.4,4.5,4.7,4.6,4.5,4.5,4.7,4.5,4.8,4.7,4.4,4.6,4.5,4.6,4.7,4.6,4.5,4.6,4.5,4.6,4.4,4.7,4.3,4.3,4.4,4.3,4.5,4.4,4.5,4.4,4.5,4.6,4.7,4.6,4.4,4.4,4.5,4.6,4.3,4.5,4.5,4.4,4.5,4.2,4.5,4.4,4.7,4.2,4.5,4.5,4.6,4.4,4.5,4.3,4.3,4.5,4.7,4.7,4.1,4.8,4.4,4.2,4.4,4.7,4.3,4.7,4.2,4.3,4.4,4.1,4.1,4.2,4.5,4.7,4.6,4.5,3.1,4.1,3.4,4.4,4.3,4.6,4.4,4.3,4.6,4.2,4.2,4.5,4.4,4.2,4.5,4.8,4.4,4.6,4.5,4.3,4.6,4.4,4.4,4.5,4.6,4.6,4.6,4.1,4.5,4.6,4.4,4.7,4.6,4.3,4.5,4.6,4.2,4.5,4.8,4.1,4.3,4.4,4.0,4.2,4.0,4.2,4.5,4.7,4.2,4.4,4.6,4.9,4.4,4.5,4.6,4.2,4.5,4.6,4.6,4.5,4.4,4.6,4.5,4.6,4.4,4.4,4.3,4.3,4.6,4.3,4.3,4.6,4.5,4.5,4.2,4.7,4.3,4.0,4.4,4.3,4.6,4.7,4.4,4.7,4.4,4.3,4.2,4.4,4.5,4.5,4.5,4.4,4.3,4.5,4.7,4.7,4.6,4.6,4.4,4.4,4.7,4.6,4.5,4.3,4.3,4.3,4.6,4.8,4.5,4.4,4.5,4.5,4.6,4.6,4.6,4.6,4.7,4.5,4.5,4.5,4.6,4.5,4.4,4.4,4.6,4.7,4.5,4.4,4.6,4.7,4.6,4.5,4.4,4.5,4.3,4.5,4.2,4.5,4.3,4.4,4.7,4.6,4.7,4.6,4.4,4.6,4.5,4.3,4.5,4.5,4.6,4.6,4.3,4.6,4.5,4.7,4.5,4.7,4.7,4.6,4.4,4.3,4.5,4.3,4.4,4.2,4.3,4.5,4.4,4.7,4.2,4.1,4.5,4.5,4.5,4.1,4.3,4.5,4.4,4.5,4.6,4.0,4.3,4.5,4.4,4.4,4.6,4.2,4.5,4.6,4.5,4.7,4.5,4.5,4.5,4.4,4.6,4.3,4.4,4.3,4.7,4.7,4.4,4.3,4.4,4.5,4.5,4.4,4.4,4.6,4.6,4.4,4.6,4.2,4.4,4.6,4.6,4.7,4.5,4.2,4.6,4.7,4.6,4.3,4.6,4.4,4.4,4.5,4.2,4.4,4.3,4.7,4.3,4.3,4.2,4.4,4.1,3.8,4.5,4.5,3.7,4.5,4.1,4.1,4.5,4.2,4.3,4.5,3.7,4.5,4.3,4.3,4.6,3.4,4.4,3.8,3.1,4.4,4.3,4.5,4.3,4.5,4.2,3.9,4.3,4.4,4.4,4.6,4.5,4.3,4.5,4.3,4.2,4.4,4.5,4.2,4.6,4.6,4.5,4.5,4.3,3.6,4.6,4.4,4.5,4.5,3.6,4.4,4.6,3.8,3.6,4.2,4.5,4.4,4.6,4.4,4.3,3.9,3.9,4.4,4.7,4.2,4.5,4.3,4.7,4.2,4.4,4.5,4.3,4.3,4.1,4.3,4.4,4.6,4.7,4.6,4.3,4.5,4.2,4.3,4.4,3.9,3.7,3.5,4.1,4.2,4.1,3.8,4.0,4.8,4.5,4.0,3.8,4.2,3.9,4.6,4.7,3.7,4.1,3.9,4.6,4.3,4.1,4.0,2.7,4.3,4.2,4.3,4.3,4.5,4.5,4.3,4.0,4.4,4.1,4.2,3.5,4.2,4.2,4.2,3.9,4.1,4.2,4.0,4.3,4.2,4.3,4.5,4.2,4.5,4.4,4.5,4.5,4.3,4.1,4.4,4.0,4.7,4.3,3.9,4.1,4.2,3.9,4.3,4.1,4.2,4.4,4.1,4.3,3.9,4.3,4.3,4.4,4.2,4.2,4.3,3.7,4.5,4.9,4.2,4.4,4.2,4.5,4.3,4.0,4.2,4.3,4.0,4.3,4.0,3.7,4.2,3.9,3.9,4.2,4.5,4.1,4.0,4.4,4.1,3.8,3.4,3.8,3.4,4.4,2.8,3.8,4.8,4.3,3.7,4.3,3.9,4.2,4.3,4.4,4.1,4.4,4.0,4.2,4.5,4.5,4.2,4.4,4.3,4.1,4.4,4.4,4.4,4.2,4.2,4.2,4.4,4.3,4.7,4.4,4.3,3.8,4.0,4.3,4.4,3.8,4.6,4.6,3.8,4.5,3.8,3.6,4.4,4.3,4.2,4.3,4.5,4.4,4.5,4.0,4.4,4.6,4.0,4.1,3.3,4.1,4.2,4.0,4.5,3.8,3.5,4.3,4.6,4.7,3.8,4.7,3.9,3.6,4.1,3.6,4.0,4.0,3.8,4.3,4.0,4.1,3.8,4.2,4.4,4.2,3.8,4.3,4.4,4.2,4.6,5.0,4.5,4.4,3.1,4.4,4.3,3.7,3.9,4.6,4.3,5.0,4.3,4.0,3.8,4.3,4.3,4.0,4.0,4.2,4.3,4.2,5.0,3.5,4.4,4.6,4.0,4.4,4.7,4.3,4.3,4.0,3.4,4.4,4.5,4.0,4.2,4.1,4.2,3.7,4.3,4.5,3.9,4.4,4.3,4.2,4.1,4.3,4.3,4.6,4.2,4.7,4.5,4.4,3.9,3.7,1.0,4.3,4.7,4.1,4.3,4.3,4.4,4.6,4.3,4.7,4.5,4.1,4.5,4.3,4.4,4.1,4.0,4.7,4.3,4.1,4.9,4.5,4.6,4.4,3.5,4.4,4.3,4.3,3.8,4.4,3.9,4.1,4.5,4.5,4.2,4.5,4.7,4.3,4.5,5.0,4.1,3.8,2.4,2.8,4.5,4.1,4.3,4.3,3.8,3.3,4.3,4.3,4.3,4.3,4.3,4.3,4.3,4.3,4.3,4.8,4.6,4.7,4.5,4.1,4.3,4.3,4.3,4.0,4.3,4.0,4.1,4.2,3.8,4.3,4.2,4.7,4.3,4.6,4.7,4.7,4.4,4.6,4.6,4.5,4.3,4.4,4.6,3.8,4.5,4.3,4.3,4.6,3.6,4.8,4.2,5.0,4.3,3.9,4.4,3.9,3.9,4.1,4.1,4.3,4.1,4.2,4.1,4.1,3.8,3.7,4.6,5.0,4.4,4.5,4.3,4.4,4.1,4.3,4.2,4.0,4.3,4.4,4.5,3.9,4.1,4.3,4.0,4.3,4.7,4.6,4.2,4.4,3.5,4.2,4.6,5.0,4.2,3.9,4.2,4.0,3.8,4.6,4.6,4.3,4.1,4.5,4.2,4.1,4.5,3.6,3.2,4.1,3.1,4.2,3.5,4.3,4.3,2.3,4.3,4.4,4.3,3.3,4.8,4.2,4.6,4.0,4.4,4.3,4.0,4.7,4.7,4.2,3.9,4.8,4.6,4.4,4.6,4.4,4.5,4.1,4.2,4.6,4.5,4.3,4.4,4.5,4.3,1.4,4.3,4.2,4.3,4.3,3.8,4.2,4.5,4.3,4.2,4.1,4.5,3.3,4.3,4.3,4.4,4.4,4.4,4.3,4.2,4.2,4.3,3.6,3.7,4.6,4.5,4.7,3.9,4.5,4.7,4.3,4.5,4.5,4.4,3.8,2.5,4.3,4.4,4.5,4.4,4.0,4.0,3.9,4.5,4.5,4.7,4.3,3.9,4.2,4.6,4.4,4.6,4.5,4.6,4.0,4.0,3.9,4.1,4.3,4.6,4.3,3.3,4.6,4.1,4.1,3.4,3.4,3.9,4.3,3.2,3.8,4.7,4.6,3.8,4.5,4.2,4.7,4.3,5.0,4.1,3.6,4.3,4.3,4.5,4.4,4.5,4.1,4.2,3.9,4.5,4.4,4.3,3.4,3.4,4.4,4.4,4.1,5.0,4.3,4.0,4.3,4.2,4.2,4.0,4.5,4.2,3.8,4.4,3.7,3.7,4.0,4.3,4.5,3.3,4.4,4.2,4.4,3.0,3.4,4.0,4.1,4.3,4.4,3.9,3.8,3.8,4.4,4.3,4.2,4.0,4.4,3.5,4.1,4.3,4.3,4.5,4.8,4.3,4.4,4.2,4.1,4.6,4.4,3.8,3.9,3.5,3.8,4.6,3.6,4.0,4.3,4.5,4.5,4.1,4.4,4.3,4.5,4.5,4.3,4.1,4.6,4.0,4.4,4.6,4.3,4.3,4.2,4.3,4.4,4.5,4.3,4.2,4.3,4.4,4.4,4.0,3.6,4.6,4.4,3.7,4.5,4.3,4.1,4.1,4.3,4.2,4.3,4.3,4.0,4.4,4.6,4.7,4.4,4.3,4.4,4.4,4.4,4.4,3.6,4.4,4.3,4.5,4.5,4.5,4.3,4.3,4.5,3.8,4.1,3.9,4.2,4.2,4.1,4.0,4.2,3.6,3.9,4.3,4.2,4.4,4.6,4.5,4.5,4.7,3.5,4.4,4.2,3.8,3.6,3.8,4.0,4.2,4.3,4.0,3.8,4.4,4.1,4.5,4.6,4.3,4.2,4.2,5.0,3.4,4.1,4.2,5.0,3.8,3.7,4.0,5.0,3.9,4.3,3.8,4.2,4.3,4.1,4.0,4.0,4.2,4.4,4.3,4.2],\"type\":\"box\"},{\"name\":\"FAMILY\",\"y\":[4.5,4.4,4.5,4.4,4.4,4.5,4.6,4.5,4.3,4.7,4.4,4.5,4.2,4.5,4.5,4.7,4.4,4.3,4.6,3.9,4.2,4.5,4.3,4.5,4.4,4.4,4.8,4.4,4.4,4.3,4.6,4.1,4.5,4.5,4.5,4.0,4.5,4.6,4.5,4.5,4.5,4.4,4.7,4.5,4.5,4.2,4.3,4.5,4.2,4.3,4.4,4.6,4.6,4.5,4.2,4.5,4.6,4.6,4.1,4.5,4.6,4.6,4.5,4.3,3.8,4.5,4.1,4.8,3.9,4.5,4.4,4.3,4.2,3.0,4.5,4.4,4.5,4.7,4.1,4.5,4.5,4.5,4.6,4.3,4.3,4.5,4.2,4.2,4.4,4.5,4.1,4.2,4.1,4.7,4.3,4.4,4.4,4.3,4.3,4.4,4.3,4.3,4.2,4.2,4.3,4.3,4.1,4.2,4.5,4.3,4.3,4.5,4.1,4.5,4.2,4.4,4.0,4.1,4.3,4.3,4.4,4.3,4.1,4.0,4.3,4.6,4.3,4.7,4.3,4.4,4.2,4.7,3.9,4.1,4.1,4.1,4.2,4.7,4.4,4.3,4.5,4.3,4.3,4.1,4.1,4.1,4.6,4.1,4.4,4.4,4.3,4.0,4.8,3.8,4.7,4.5,4.8,4.4,4.8,4.2,4.2,4.0,4.7,4.7,3.9,4.5,4.1,4.4,3.9,4.4,4.4,3.6,4.4,4.1,3.6,4.6,4.3,4.5,4.4,4.1,4.4,3.9,4.4,4.4,3.6,4.4,4.1,3.6,4.6,4.3,4.5,4.4,4.5,4.1,4.5,4.1,3.9,4.2,4.1,3.9,4.1,4.2,4.7,3.8,4.3,4.3,4.3,3.9,4.3,4.0,4.0,4.3,4.2,4.1,4.0,4.4,4.3,4.3,4.4,4.2,4.1,4.3,4.2,4.6,4.1,4.5,4.4,4.5,4.3,4.2,3.9,3.7,4.3,4.6,4.3,4.6,4.6,4.8,4.3,4.5,4.4,4.4,3.3,4.4,3.7,4.1,4.8,4.5,4.5,4.5,3.8,4.5,4.6,4.4,4.3,4.4,4.9,4.6,4.6,3.9,4.5,4.5,4.5,4.6,4.6,4.3,4.1,4.5,4.3,4.7,4.4,4.6,4.6,4.7,3.6,4.3,4.3,4.5,4.4,4.6,3.7,4.5,4.8,4.0,4.7,4.8,4.6,4.3,4.2,4.8,4.2,4.5,4.5,4.4,4.4,4.6,4.3,3.3,4.4,3.1,3.9,4.4,4.8,4.5,3.6,4.4,4.4,4.3,4.3,4.2,1.0,4.4,4.4,4.3,4.3,4.4,4.2,3.8,4.3,3.9,4.3,3.7,3.0,4.3,4.5,4.2,4.2,3.7,2.8,4.4,4.0,4.0,4.3,3.3,4.2,4.1,4.4,3.5,4.6,4.3,4.1,4.7,3.9,4.7,4.6,4.4,4.3,4.8,4.1,3.7,4.2,4.5,4.6,4.7,4.3,4.9,4.6,4.3,4.8,4.3,4.2,4.8,4.0,4.3,4.2,4.0,4.1,4.6,3.1,4.0,4.5,4.4,4.3,4.4,4.5,3.5,3.7,3.9,4.3,4.1,4.4,3.8,4.4,3.8,4.7,4.3,4.2,4.5,4.5,3.5,4.1,4.4,4.0,4.4,3.8,3.8,4.3,4.2,4.1,4.4,4.1,4.8,3.8,3.9,4.5,4.4,3.9,3.8,4.3,4.2,4.1,4.4,4.4,4.3,4.1,3.9,3.5,3.2,4.3,4.3,4.3,4.8,3.8,4.1,4.2,4.3,4.3,4.2,4.3,4.1,4.6,3.7,4.1,3.0,3.7,4.4,4.2,4.2,4.2,4.5,4.3,4.6,3.4,2.4,2.4,4.2,3.6,3.2,3.9,4.4,4.1,3.9,3.3,3.8,4.5,4.2,4.3,4.7,3.6,4.3,4.7,4.6,4.3,3.2,3.3,4.5,4.2,3.8,2.7,4.5,4.6,4.4,4.6,4.4,4.4,4.2,4.8,4.2,4.2,4.2,4.6,4.5,4.2,3.9,4.2,4.2,4.3,4.6,4.1,4.6,3.8,4.5,4.7,4.5,4.6,4.5,4.3,3.9,4.3,4.2,4.5,4.3,1.8,1.6,3.3,3.0,4.5,4.1,4.6,4.0,3.7,4.3,4.2,4.4,3.9,4.7,4.3,3.9,4.4,4.6,4.3,4.2,4.5,4.4,4.3,4.3,4.3,4.3,4.5,4.3,3.9,4.1,3.0,4.3,4.3,4.3,4.3,4.5,3.8,3.0,4.4,4.0,3.9,4.6,3.8,4.6,3.3,3.2,4.3,4.4,3.3,4.3,3.9,4.6,4.6,4.5,4.5,4.4,2.8,4.6,4.1,5.0,4.3,4.6,4.3,4.5,5.0,4.4,4.0,4.3,3.9,4.3,3.9,3.7,4.6,3.0,4.1,4.3,4.3,3.6,3.6,4.5,4.3,4.6,4.7,4.8,4.7,4.6,4.5,4.7,4.7,3.9,4.0,4.4,3.6,4.2,3.5,4.0,4.2,4.3,4.1,4.5,4.4,3.8,3.5,4.6,4.6,4.7,4.5,4.2,4.2,3.7,3.4,4.3,4.6,4.3,4.7,3.8,4.3,3.7,2.9,4.3,4.3,3.3,5.0,4.6,4.5,2.9,4.6,4.7,4.7,3.7,4.8,4.6,4.4,4.7,4.4,2.9,4.5,5.0,3.7,4.3,4.2,5.0,4.7,4.3,3.9,4.3,4.4,4.3,4.6,4.5,5.0,5.0,5.0,4.3,4.4,4.6,4.1,4.5,4.2,4.7,4.3,4.2,4.3,4.3,4.3,4.7,3.7,3.2,4.0,3.8,4.4,3.8,3.4,2.9,3.7,4.3,3.0,4.1,3.8,4.4,4.5,3.6,3.6,4.1,4.3,4.6,4.4,4.4,2.4,4.5,4.4,3.4,3.9,4.3,4.4,4.3,4.2,4.0,4.6,4.0,3.5,4.0,4.1,3.9,3.2,4.0,3.7,3.9,4.5,4.0,3.8,4.1,4.3,4.3,4.3,4.1,3.8,4.4,3.3,3.5,4.3,3.5,4.8,4.6,4.3,4.3,4.3,2.9,4.7,4.2,4.3,3.0,4.3,3.7,4.8,4.3,4.5,4.3,4.3,4.3,4.3,4.6,5.0,4.3,4.0,4.3,4.2,4.2,4.6,3.9,3.5,4.8,4.3,4.8,4.2,4.4,4.5,4.3,3.1,4.7,4.3,4.8,4.3,4.5,4.6,4.6,4.9,4.8,4.0,4.1,4.5,4.3,4.3,4.2,4.7,4.3,3.8,4.4,4.4,3.0,4.1,4.3,1.0,4.4,3.3,4.2,5.0,3.6,3.9,4.4,4.3,4.3,4.3,4.3,4.2,3.3,4.2,4.1,4.6,4.2,4.7,3.5,4.0,5.0,4.4,4.3,3.8,4.2,3.8,4.3,3.8,4.2,4.3,4.4,4.5,4.5,4.3,4.2,3.8,4.1,4.1,4.1,4.1,4.0,4.3,3.9,3.6,4.3,4.3,4.3,4.4,2.6,4.2,3.7,2.4,2.9,1.7,2.3,4.3,4.3,4.3,4.9,4.3,4.3,4.5,4.3,2.4,4.1,4.3,4.7,3.9,4.3,5.0,4.3,4.8,4.6,4.3,4.6,4.9,4.3,4.6,4.5,4.4,4.6,3.6,3.9,4.2,4.4,3.6,4.3,5.0,4.3,4.0,4.3,3.8,4.1,4.0,5.0,4.4,4.7,4.4,3.8,3.6,4.8,4.4,4.8,4.6,4.6,4.3,4.0,3.2,4.6,4.2,3.9,4.8,4.2,4.7,4.2,4.5,4.3,4.3,5.0,4.3,4.3,4.3,1.9,4.3,4.5,4.5,4.2,4.0,4.3,4.3,3.8,4.3,4.7,3.8,4.3,4.6,4.5,3.9,3.2,4.6,4.1,4.6,2.3,4.5,4.4,4.5,4.3,4.3,4.5,4.3,4.4,4.3,4.9,4.3,4.6,4.3,4.8,4.3,4.6,4.6,4.6,5.0,3.9,3.9,4.2,4.3,4.3,4.0,3.7,4.6,4.5,4.3,4.4,4.6,4.3,4.4,4.4,5.0,4.3,4.4,1.8,5.0,4.3,4.5,5.0,4.5,4.7,4.6,4.3,4.5,4.3,3.5,4.3,4.3,5.0,4.2,4.0,4.3,4.6,4.3,4.3,4.3,4.3,3.8,4.4,4.2,3.8,3.7,4.7,4.2,3.5,4.7,4.7,4.5,4.7,4.6,4.9,4.2,4.3,4.4,4.5,4.3,4.4,4.4,3.0,4.8,4.7,4.0,3.7,3.5,2.7,4.1,4.5,4.6,4.4,4.4,4.5,4.6,4.7,4.6,3.1,3.9,4.6,4.3,4.2,4.4,4.4,4.2,4.8,4.4,4.2,4.3,3.8,4.3,4.3,4.3,5.0,5.0,5.0,4.3,4.3,5.0,3.7,4.5,4.1,4.1,4.3,5.0,4.1,4.1,4.3,4.3,5.0,4.4,4.3,4.3,4.8,4.3,4.3,5.0,4.3,4.7,4.5,4.0,4.2,4.2,4.5,3.6,4.2,5.0,4.3,4.2,4.3,3.6,4.3,4.4,4.0,5.0,5.0,4.3,3.8,4.7,4.4,4.3,4.0,3.5,4.3,4.3,4.7,4.5,4.7,3.0,4.3,4.3,4.6,4.1,4.3,4.5,2.9,4.3,4.4,4.5,1.9,3.8,4.3,5.0,4.3,3.9,4.2,4.3,4.1,4.7,4.2,4.0,4.1,5.0,4.2,4.0,5.0,4.1,4.3,4.3,4.6,3.8,4.2,2.8,4.1,4.0,3.7,4.5,4.1,4.6,4.5,4.7,4.3,4.3,4.6,4.1,4.2,4.3,3.6,4.2,4.2,4.6,4.3,3.7,4.2,4.7,4.6,4.5,4.1,4.5,4.3,3.4,4.2,4.4,3.9,4.3,5.0,4.2,4.5,4.3,4.5,3.6,4.4,4.3,4.5,4.6,4.3,3.8,4.0,4.3,4.1,4.3,3.6,5.0,4.3,4.1,4.8,4.4,4.1,4.4,4.3,4.3,4.4,4.4,4.7,4.6,2.5,4.5,3.9,4.3,4.0,4.6,4.4,4.3,4.0,3.9,3.8,4.7,4.3,4.6,4.3,4.3,3.5,2.3,4.6,4.4,3.1,5.0,3.9,3.7,4.8,4.4,4.3,4.3,4.8,3.6,5.0,4.2,4.3,4.7,3.9,4.4,4.3,4.7,4.3,5.0,3.7,4.3,3.8,4.6,3.9,4.5,4.0,3.9,4.5,4.3,3.9,4.4,4.0,4.2,4.4,4.4,4.5,3.2,2.2,4.3,4.5,3.8,4.3,4.3,3.7,5.0,3.9,5.0,4.3,4.4,4.2,4.2,4.0,3.2,3.2,4.1,3.3,4.0,4.2,4.1,4.3,4.4,3.1,3.1,3.4,3.9,3.9,4.5,3.0,4.3,3.8,3.8,4.8,4.8,4.5,4.3,4.5,4.5,4.3,4.1,3.3,4.4,4.8,3.5,4.4,3.5,4.6,4.2,4.0,3.8,4.3,4.3,3.7,4.6,4.0,4.8,4.5,4.4,4.3,4.2,4.3,4.0,4.3,4.3,4.3,4.6,5.0,4.4,4.7,4.3,4.3,4.6,4.3,4.4,3.5,4.7,4.2,4.6,4.3,4.3,4.3,3.9,3.0,4.1,4.2,4.0,4.1,4.3,5.0,4.2,4.3,4.1,3.8,4.3,4.2,4.3,4.4,4.2,4.0,2.9,4.7,4.5,4.7,4.4,4.1,4.4,4.1,4.3,3.6,2.8,3.9,3.8,3.7,3.2,3.1,4.1,4.5,4.3,4.4,5.0,4.8,4.6,4.1,4.3,4.0,4.6,4.3,4.1,2.8,5.0,5.0,4.3,5.0,4.1,4.3,4.3,4.6,4.5,4.5,3.3,4.7,4.0,4.6,4.7,4.0,3.1,3.7,4.5,4.3,4.3,4.1,4.1,4.3,4.4,4.3,4.3,4.7,4.2,4.5,4.8,4.5,4.2,4.2,4.5,4.4,3.8,4.3,4.6,4.9,4.1,4.2,4.0,4.2,4.2,3.5,3.9,4.1,4.4,4.2,4.4,4.3,4.0,4.4,4.5,3.7,3.4,4.7,4.4,4.1,4.4,3.9,4.3,4.2,4.0,4.9,4.3,4.6,4.3,4.8,3.5,4.3,4.6,3.8,4.6,5.0,3.8,3.8,4.8,4.4,4.3,4.1,4.4,4.3,4.3,4.3,4.5,4.3,5.0,4.6,4.5,4.6,4.3,4.0,4.9,4.8,4.3,3.8,4.2,4.6,4.2,4.2,4.3,5.0,4.6,4.4,4.3,4.5,4.6,4.3,4.0,4.6,4.5,4.3,4.3,3.5,4.0,4.2,3.9,3.6,3.0,4.0,4.9,4.4,4.4,4.0,4.2,4.3,5.0,4.4,3.6,4.3,4.2,4.0,4.3,4.1,4.3,4.2,4.5,4.5,4.3,4.4,4.3,4.5,4.0,4.0,4.4,4.3,4.4,3.8,4.4,4.2,4.5,3.5,4.6,1.7,4.3,4.2,3.4,4.3,4.5,4.3,5.0,5.0,4.7,3.3,4.0,3.5,2.8,4.3,3.6,3.2,3.6,3.7,3.3,3.1,4.1,3.1,3.5,3.6,3.0,3.9,4.3,3.4,4.3,4.2,4.3,4.6,4.3,4.6,4.3,4.3,3.0,4.5,4.3,4.4,4.3,4.3,4.2,4.1,4.6,3.8,4.4,4.1,4.0,3.9,4.3,4.3,4.2,4.2,3.7,4.0,4.2,3.9,4.2,3.9,4.1,4.5,4.1,4.1,4.1,3.9,3.9,4.4,3.0,4.3,4.1,4.3,4.3,4.3,2.9,4.5,3.7,3.0,4.3,3.2,3.6,3.2,4.7,4.4,3.9,4.4,4.3,2.6,4.1,4.2,4.3,4.3,4.4,4.0,4.7,3.9,3.8,4.3,3.8,4.2,3.6,3.5,4.8,4.3,4.0,3.5,5.0,4.9,4.3,5.0,4.3,4.5,4.3,4.5,5.0,3.0,4.3,4.1,4.3,4.1,4.7,4.3,4.9,5.0,5.0,4.6,5.0,4.3,4.0,4.3,4.0,4.2,4.2,4.0,3.9,4.8,4.1,4.3,4.4,4.3,4.6,4.7,4.5,3.7,4.4,3.4,4.4,4.5,4.3,4.0,4.6,3.8,4.0,4.1,4.5,4.0,4.3,4.0,4.7,4.3,4.4,4.3,4.3,4.1,4.3,4.3,4.5,4.6,4.6,4.7,4.3,4.2,4.5,4.3,4.5,4.6,4.5,4.3,4.4,3.4,4.5,4.3,5.0,4.3,4.3,4.3,4.1,3.9,4.3,4.1,3.6,3.5,3.9,3.9,3.8,4.0,4.5,3.6,3.9,4.3,4.0,3.7,3.9,4.2,3.5,4.0,3.8,4.1,4.2,4.1,4.4,3.7,4.3,4.7,3.8,4.0,4.2,3.8,3.9,4.0,3.1,3.5,4.5,4.7,4.1,3.9,4.0,3.1,4.1,4.4,3.3,4.6,4.7,4.6,4.6,4.5,3.9,3.6,4.6,3.9,4.3,3.7,4.3,4.4,4.7,4.5,4.2,3.6,4.3,4.3,3.8,1.9,4.5,4.3,4.4,5.0,4.3,3.0,4.2,4.2,4.3,4.3,3.3,4.4,4.0,4.0,4.6,3.6,3.9,4.0,4.4,4.3,4.2,4.2,3.9,3.8,4.5,3.8,4.1,4.5,3.3,3.7,3.9,4.0,4.0,4.5,4.3,3.7,3.9,4.3,4.3,4.7,4.7,4.3,4.3,3.8,4.3,3.4,4.3,4.3,4.4,4.3,4.6,4.4,3.8,3.4,4.5,4.2,4.2,4.4,3.9,3.9,3.8,3.9,4.0,4.0,4.1,5.0,4.2,4.0,4.9,3.5,4.6,2.8,1.0,4.3,4.3,4.3,4.3,5.0,3.8,4.3,4.3,3.3,4.3,4.3,4.3,4.3,4.1,4.3,4.8,4.1,3.9,4.1,3.9,3.6,3.7,4.3,4.5,4.3,4.8,5.0,4.4,4.3,4.3,5.0,4.3,4.3,4.3,4.0,4.3,4.4,4.3,4.4,4.2,3.3,3.9,4.1,4.7,3.7,2.9,3.2,4.1,4.2,4.5,4.3,4.4,4.3,4.2,4.1,4.3,4.0,4.2,3.9,4.0,3.8,3.7,4.4,4.9,4.7,4.6,4.3,4.2,4.6,2.0,4.4,4.5,4.1,4.9,4.0,4.3,3.7,5.0,3.8,3.9,4.6,4.3,4.8,4.1,4.3,4.6,4.3,3.9,4.3,3.4,4.3,4.5,4.0,3.6,4.1,4.2,4.3,4.3,4.9,4.0,4.7,4.1,4.0,5.0,4.3,4.2,4.0,4.5,5.0],\"type\":\"box\"},{\"name\":\"TOOLS\",\"y\":[4.1,4.4,4.4,4.2,4.2,4.1,4.5,4.6,4.1,4.3,4.2,4.1,4.0,4.6,3.1,4.6,4.5,3.2,4.3,4.3,4.6,4.4,4.6,4.5,4.6,4.3,4.4,4.2,4.4,3.1,3.6,4.1,4.2,3.5,3.9,3.0,3.9,4.5,3.4,4.4,3.4,4.3,3.7,3.5,3.8,3.6,3.1,3.8,4.2,4.0,4.3,4.3,4.5,4.5,4.5,4.4,4.4,4.3,4.2,4.7,4.4,4.3,4.4,4.3,4.5,4.7,4.5,4.6,4.7,4.6,4.8,3.9,4.5,4.6,4.5,4.4,4.5,4.0,4.3,4.0,4.4,4.1,4.3,4.1,4.3,4.2,4.2,4.2,4.2,4.3,4.5,4.4,4.5,4.2,4.1,4.4,4.5,4.3,4.4,4.1,4.4,4.2,4.1,4.6,4.5,4.3,4.1,4.1,4.2,4.1,4.6,4.5,4.0,3.5,4.4,4.4,4.4,4.1,4.2,4.5,4.4,3.8,4.5,5.0,4.3,4.7,2.0,3.7,4.5,4.4,4.6,4.3,4.6,4.2,4.3,4.5,4.2,4.3,4.4,4.2,4.4,4.2,4.5,1.8,4.3,3.8,4.3,4.2,3.3,4.3,4.3,4.1,3.9,4.1,4.6,3.5,4.8,3.7,3.9,4.2,4.2,4.4,3.7,4.3,3.9,4.4,4.1,4.3,4.5,4.0,3.1,3.8,3.6,4.0,4.3,4.5,3.6,4.5,4.8,4.6,4.6,4.6,4.3,4.4,3.8,4.3,3.6,4.7,3.5,3.8,3.4,4.1,4.2,3.0,2.5,4.2,4.3,4.0,4.5,4.2,4.4,4.5,4.4,4.2,4.4,4.1,4.6,4.6,4.7,4.6,4.2,4.2,4.3,4.3,4.0,4.6,4.6,4.5,4.5,4.6,4.5,2.2,4.8,4.2,3.8,3.3,3.3,3.4,3.6,3.4,3.2,2.5,4.7,2.6,2.8,3.9,3.9,3.5,3.1,3.7,3.6,4.0,3.7,4.1,3.0,2.2,3.7,3.7,3.7,3.6,3.7,3.7,4.2,4.1,3.8,4.4,3.9,4.4,3.3,4.1,4.4,3.4,3.5,4.6,5.0,4.1,4.3,2.0,3.3,4.4,4.3,3.7,4.3,4.3,4.3,4.1,2.9,3.9,4.3,3.8,4.0,3.6,4.0,4.4,4.3,3.9,3.8,4.2,4.2,4.0,4.2,4.5,4.3,4.7,4.2,4.7,3.9,4.6,3.7,4.3,4.3,3.8,4.3,4.3,4.0,4.5,4.4,4.3,3.7,3.4,4.6,3.4,4.7,4.2,4.5,4.5,4.2,4.3,4.2,4.1,4.0,3.3,4.3,4.0,4.3,4.4,4.2,3.5,4.3,3.9,4.3,4.3,4.3,3.6,4.0,3.2,2.1,1.9,3.7,3.3,4.0,3.3,3.7,3.4,3.7,4.4,3.9,3.5,4.4,2.7,3.3,5.0,4.3,2.2,4.3,4.3,4.5,4.7,4.3,4.0,4.3,4.0,4.2,3.6,4.2,4.3,4.3,5.0,4.0,4.3,4.3,4.3,4.1,4.9,4.3,5.0,4.3,4.3,4.3,3.7,4.6,4.4,3.0,4.3,4.3,4.5,4.3,4.3,4.3,4.3,4.3,4.3,3.9,3.9,3.9,4.6,2.5,4.6,2.8,4.3,3.9,3.6,3.7,3.8,3.5,4.1,4.3,4.7,4.5,4.3,4.3,4.3,5.0,4.3,4.3,3.8,3.7,4.3,3.9,4.3,4.3,4.3,4.2,4.2,4.0,4.6,4.7,4.3,4.6,4.5,3.3,3.8,4.2,3.1,4.0,3.5,3.9,4.3,4.3,4.5,4.2,4.2,4.3,3.0,4.3,3.2,4.4,5.0,4.4,4.4,4.3,4.4,4.6,4.4,3.4,4.3,4.1,4.3,4.3,4.1,4.3,4.7,4.7,4.7,3.9,4.3,4.3,4.3,4.1,5.0,5.0,5.0,4.3,4.3,4.7,4.6,4.6,4.6,4.6,4.4,3.8,4.1,3.4,4.5,4.5,4.7,4.4,4.2,4.2,4.0,3.6,4.7,4.4,4.3,4.4,4.4,3.3,3.6,4.5,4.3,3.6,4.1,4.8,4.3,1.9,4.4,1.4,4.7,4.2,4.2,4.3,3.9,4.0,4.8,4.3,4.3,4.3,4.3,2.3,4.2,4.1,4.4,4.2,4.6,4.3,3.4,4.1,4.3,4.0,4.3,3.9,4.3,3.8,3.3,5.0,4.4,4.1,4.3,3.5,4.3,3.9,4.2,4.0,4.3,4.2,3.0,4.6,4.7,3.9,3.6,4.3,2.2,3.8,4.3,5.0,4.5,4.6,4.3,4.7,4.4,4.0,4.1,3.6,3.3,4.7,4.3,3.9,4.3,4.3,4.4,4.6,2.7,4.2,4.3,3.9,3.9,4.1,3.5,4.3,4.5,4.1,4.1,4.1,4.3,4.1,4.3,4.7,4.3,4.3,4.3,4.3,4.3,4.5,4.1,2.1,3.0,2.8,5.0,4.1,4.2,4.3,4.2,4.2,4.7,4.5,4.2,4.3,3.8,4.2,3.8,4.0,4.0,3.9,4.0,3.9,4.4,4.1,4.7,3.9,2.8,2.8,3.2,3.9,3.6,4.3,4.3,4.3,4.1,4.3,4.3,4.3,4.5,3.7,4.5,4.4,4.5,4.4,4.0,3.4,3.2,3.8,1.0,4.6,2.6,3.3,3.9,4.1,4.0,1.6,1.7,1.0,4.7,4.5,4.5,4.6,4.5,4.4,4.2,4.5,4.3,4.3,3.6,4.7,2.4,2.8,3.2,3.7,4.3,4.3,3.2,3.4,4.3,4.2,4.2,5.0,4.3,4.3,3.9,4.3,4.3,4.5,4.1,4.0,3.0,3.4,3.9,4.2,4.2,4.2,4.4,4.2,4.3,4.0,4.1,3.6,3.4,3.9,3.9,4.1,4.2,4.4,4.1,4.7,4.5,5.0,4.3,4.6,4.1,4.3,4.3,4.2,3.1,4.3,3.5,3.4,3.4,3.9,4.0,4.3,5.0,4.3,4.5,4.9,4.3,4.1,4.5,4.5,4.4,4.5,4.4,4.3,3.5,4.3,4.3,4.4,4.3,4.1,4.2,4.3,4.3,3.5,4.3,4.2,4.2,4.6,4.3,5.0,3.8,4.3,3.0,4.4,4.8,4.1,4.1,4.0,4.6,2.8,4.3,3.7,4.9,4.3,3.4,4.3,3.0,2.7,3.9,2.9,3.3,2.9,3.5,2.8,4.6,4.2,4.7,4.4,4.6,4.4,4.2,4.7,4.3,4.1,2.5,4.3,2.2,4.4,3.9,2.9,4.6,4.3,4.3,4.1,4.0,4.3,4.3,4.3,4.0,4.1,4.3,4.8,4.3,4.3,4.9,4.3,4.3,2.5,4.8,4.6,4.4,3.5,3.9,4.6,4.5,4.1,4.5,4.2,3.9,4.3,4.3,4.3,4.3,4.8,4.8,3.2,1.0,4.3,4.5,4.1,4.2,4.3,4.2,4.3,4.2,4.4,2.7,4.1,4.3,2.9,4.2,4.2,4.7,4.1,4.3,4.0],\"type\":\"box\"}],                        {\"template\":{\"data\":{\"histogram2dcontour\":[{\"type\":\"histogram2dcontour\",\"colorbar\":{\"outlinewidth\":0,\"ticks\":\"\"},\"colorscale\":[[0.0,\"#0d0887\"],[0.1111111111111111,\"#46039f\"],[0.2222222222222222,\"#7201a8\"],[0.3333333333333333,\"#9c179e\"],[0.4444444444444444,\"#bd3786\"],[0.5555555555555556,\"#d8576b\"],[0.6666666666666666,\"#ed7953\"],[0.7777777777777778,\"#fb9f3a\"],[0.8888888888888888,\"#fdca26\"],[1.0,\"#f0f921\"]]}],\"choropleth\":[{\"type\":\"choropleth\",\"colorbar\":{\"outlinewidth\":0,\"ticks\":\"\"}}],\"histogram2d\":[{\"type\":\"histogram2d\",\"colorbar\":{\"outlinewidth\":0,\"ticks\":\"\"},\"colorscale\":[[0.0,\"#0d0887\"],[0.1111111111111111,\"#46039f\"],[0.2222222222222222,\"#7201a8\"],[0.3333333333333333,\"#9c179e\"],[0.4444444444444444,\"#bd3786\"],[0.5555555555555556,\"#d8576b\"],[0.6666666666666666,\"#ed7953\"],[0.7777777777777778,\"#fb9f3a\"],[0.8888888888888888,\"#fdca26\"],[1.0,\"#f0f921\"]]}],\"heatmap\":[{\"type\":\"heatmap\",\"colorbar\":{\"outlinewidth\":0,\"ticks\":\"\"},\"colorscale\":[[0.0,\"#0d0887\"],[0.1111111111111111,\"#46039f\"],[0.2222222222222222,\"#7201a8\"],[0.3333333333333333,\"#9c179e\"],[0.4444444444444444,\"#bd3786\"],[0.5555555555555556,\"#d8576b\"],[0.6666666666666666,\"#ed7953\"],[0.7777777777777778,\"#fb9f3a\"],[0.8888888888888888,\"#fdca26\"],[1.0,\"#f0f921\"]]}],\"heatmapgl\":[{\"type\":\"heatmapgl\",\"colorbar\":{\"outlinewidth\":0,\"ticks\":\"\"},\"colorscale\":[[0.0,\"#0d0887\"],[0.1111111111111111,\"#46039f\"],[0.2222222222222222,\"#7201a8\"],[0.3333333333333333,\"#9c179e\"],[0.4444444444444444,\"#bd3786\"],[0.5555555555555556,\"#d8576b\"],[0.6666666666666666,\"#ed7953\"],[0.7777777777777778,\"#fb9f3a\"],[0.8888888888888888,\"#fdca26\"],[1.0,\"#f0f921\"]]}],\"contourcarpet\":[{\"type\":\"contourcarpet\",\"colorbar\":{\"outlinewidth\":0,\"ticks\":\"\"}}],\"contour\":[{\"type\":\"contour\",\"colorbar\":{\"outlinewidth\":0,\"ticks\":\"\"},\"colorscale\":[[0.0,\"#0d0887\"],[0.1111111111111111,\"#46039f\"],[0.2222222222222222,\"#7201a8\"],[0.3333333333333333,\"#9c179e\"],[0.4444444444444444,\"#bd3786\"],[0.5555555555555556,\"#d8576b\"],[0.6666666666666666,\"#ed7953\"],[0.7777777777777778,\"#fb9f3a\"],[0.8888888888888888,\"#fdca26\"],[1.0,\"#f0f921\"]]}],\"surface\":[{\"type\":\"surface\",\"colorbar\":{\"outlinewidth\":0,\"ticks\":\"\"},\"colorscale\":[[0.0,\"#0d0887\"],[0.1111111111111111,\"#46039f\"],[0.2222222222222222,\"#7201a8\"],[0.3333333333333333,\"#9c179e\"],[0.4444444444444444,\"#bd3786\"],[0.5555555555555556,\"#d8576b\"],[0.6666666666666666,\"#ed7953\"],[0.7777777777777778,\"#fb9f3a\"],[0.8888888888888888,\"#fdca26\"],[1.0,\"#f0f921\"]]}],\"mesh3d\":[{\"type\":\"mesh3d\",\"colorbar\":{\"outlinewidth\":0,\"ticks\":\"\"}}],\"scatter\":[{\"fillpattern\":{\"fillmode\":\"overlay\",\"size\":10,\"solidity\":0.2},\"type\":\"scatter\"}],\"parcoords\":[{\"type\":\"parcoords\",\"line\":{\"colorbar\":{\"outlinewidth\":0,\"ticks\":\"\"}}}],\"scatterpolargl\":[{\"type\":\"scatterpolargl\",\"marker\":{\"colorbar\":{\"outlinewidth\":0,\"ticks\":\"\"}}}],\"bar\":[{\"error_x\":{\"color\":\"#2a3f5f\"},\"error_y\":{\"color\":\"#2a3f5f\"},\"marker\":{\"line\":{\"color\":\"#E5ECF6\",\"width\":0.5},\"pattern\":{\"fillmode\":\"overlay\",\"size\":10,\"solidity\":0.2}},\"type\":\"bar\"}],\"scattergeo\":[{\"type\":\"scattergeo\",\"marker\":{\"colorbar\":{\"outlinewidth\":0,\"ticks\":\"\"}}}],\"scatterpolar\":[{\"type\":\"scatterpolar\",\"marker\":{\"colorbar\":{\"outlinewidth\":0,\"ticks\":\"\"}}}],\"histogram\":[{\"marker\":{\"pattern\":{\"fillmode\":\"overlay\",\"size\":10,\"solidity\":0.2}},\"type\":\"histogram\"}],\"scattergl\":[{\"type\":\"scattergl\",\"marker\":{\"colorbar\":{\"outlinewidth\":0,\"ticks\":\"\"}}}],\"scatter3d\":[{\"type\":\"scatter3d\",\"line\":{\"colorbar\":{\"outlinewidth\":0,\"ticks\":\"\"}},\"marker\":{\"colorbar\":{\"outlinewidth\":0,\"ticks\":\"\"}}}],\"scattermapbox\":[{\"type\":\"scattermapbox\",\"marker\":{\"colorbar\":{\"outlinewidth\":0,\"ticks\":\"\"}}}],\"scatterternary\":[{\"type\":\"scatterternary\",\"marker\":{\"colorbar\":{\"outlinewidth\":0,\"ticks\":\"\"}}}],\"scattercarpet\":[{\"type\":\"scattercarpet\",\"marker\":{\"colorbar\":{\"outlinewidth\":0,\"ticks\":\"\"}}}],\"carpet\":[{\"aaxis\":{\"endlinecolor\":\"#2a3f5f\",\"gridcolor\":\"white\",\"linecolor\":\"white\",\"minorgridcolor\":\"white\",\"startlinecolor\":\"#2a3f5f\"},\"baxis\":{\"endlinecolor\":\"#2a3f5f\",\"gridcolor\":\"white\",\"linecolor\":\"white\",\"minorgridcolor\":\"white\",\"startlinecolor\":\"#2a3f5f\"},\"type\":\"carpet\"}],\"table\":[{\"cells\":{\"fill\":{\"color\":\"#EBF0F8\"},\"line\":{\"color\":\"white\"}},\"header\":{\"fill\":{\"color\":\"#C8D4E3\"},\"line\":{\"color\":\"white\"}},\"type\":\"table\"}],\"barpolar\":[{\"marker\":{\"line\":{\"color\":\"#E5ECF6\",\"width\":0.5},\"pattern\":{\"fillmode\":\"overlay\",\"size\":10,\"solidity\":0.2}},\"type\":\"barpolar\"}],\"pie\":[{\"automargin\":true,\"type\":\"pie\"}]},\"layout\":{\"autotypenumbers\":\"strict\",\"colorway\":[\"#636efa\",\"#EF553B\",\"#00cc96\",\"#ab63fa\",\"#FFA15A\",\"#19d3f3\",\"#FF6692\",\"#B6E880\",\"#FF97FF\",\"#FECB52\"],\"font\":{\"color\":\"#2a3f5f\"},\"hovermode\":\"closest\",\"hoverlabel\":{\"align\":\"left\"},\"paper_bgcolor\":\"white\",\"plot_bgcolor\":\"#E5ECF6\",\"polar\":{\"bgcolor\":\"#E5ECF6\",\"angularaxis\":{\"gridcolor\":\"white\",\"linecolor\":\"white\",\"ticks\":\"\"},\"radialaxis\":{\"gridcolor\":\"white\",\"linecolor\":\"white\",\"ticks\":\"\"}},\"ternary\":{\"bgcolor\":\"#E5ECF6\",\"aaxis\":{\"gridcolor\":\"white\",\"linecolor\":\"white\",\"ticks\":\"\"},\"baxis\":{\"gridcolor\":\"white\",\"linecolor\":\"white\",\"ticks\":\"\"},\"caxis\":{\"gridcolor\":\"white\",\"linecolor\":\"white\",\"ticks\":\"\"}},\"coloraxis\":{\"colorbar\":{\"outlinewidth\":0,\"ticks\":\"\"}},\"colorscale\":{\"sequential\":[[0.0,\"#0d0887\"],[0.1111111111111111,\"#46039f\"],[0.2222222222222222,\"#7201a8\"],[0.3333333333333333,\"#9c179e\"],[0.4444444444444444,\"#bd3786\"],[0.5555555555555556,\"#d8576b\"],[0.6666666666666666,\"#ed7953\"],[0.7777777777777778,\"#fb9f3a\"],[0.8888888888888888,\"#fdca26\"],[1.0,\"#f0f921\"]],\"sequentialminus\":[[0.0,\"#0d0887\"],[0.1111111111111111,\"#46039f\"],[0.2222222222222222,\"#7201a8\"],[0.3333333333333333,\"#9c179e\"],[0.4444444444444444,\"#bd3786\"],[0.5555555555555556,\"#d8576b\"],[0.6666666666666666,\"#ed7953\"],[0.7777777777777778,\"#fb9f3a\"],[0.8888888888888888,\"#fdca26\"],[1.0,\"#f0f921\"]],\"diverging\":[[0,\"#8e0152\"],[0.1,\"#c51b7d\"],[0.2,\"#de77ae\"],[0.3,\"#f1b6da\"],[0.4,\"#fde0ef\"],[0.5,\"#f7f7f7\"],[0.6,\"#e6f5d0\"],[0.7,\"#b8e186\"],[0.8,\"#7fbc41\"],[0.9,\"#4d9221\"],[1,\"#276419\"]]},\"xaxis\":{\"gridcolor\":\"white\",\"linecolor\":\"white\",\"ticks\":\"\",\"title\":{\"standoff\":15},\"zerolinecolor\":\"white\",\"automargin\":true,\"zerolinewidth\":2},\"yaxis\":{\"gridcolor\":\"white\",\"linecolor\":\"white\",\"ticks\":\"\",\"title\":{\"standoff\":15},\"zerolinecolor\":\"white\",\"automargin\":true,\"zerolinewidth\":2},\"scene\":{\"xaxis\":{\"backgroundcolor\":\"#E5ECF6\",\"gridcolor\":\"white\",\"linecolor\":\"white\",\"showbackground\":true,\"ticks\":\"\",\"zerolinecolor\":\"white\",\"gridwidth\":2},\"yaxis\":{\"backgroundcolor\":\"#E5ECF6\",\"gridcolor\":\"white\",\"linecolor\":\"white\",\"showbackground\":true,\"ticks\":\"\",\"zerolinecolor\":\"white\",\"gridwidth\":2},\"zaxis\":{\"backgroundcolor\":\"#E5ECF6\",\"gridcolor\":\"white\",\"linecolor\":\"white\",\"showbackground\":true,\"ticks\":\"\",\"zerolinecolor\":\"white\",\"gridwidth\":2}},\"shapedefaults\":{\"line\":{\"color\":\"#2a3f5f\"}},\"annotationdefaults\":{\"arrowcolor\":\"#2a3f5f\",\"arrowhead\":0,\"arrowwidth\":1},\"geo\":{\"bgcolor\":\"white\",\"landcolor\":\"#E5ECF6\",\"subunitcolor\":\"white\",\"showland\":true,\"showlakes\":true,\"lakecolor\":\"white\"},\"title\":{\"x\":0.05},\"mapbox\":{\"style\":\"light\"}}}},                        {\"responsive\": true}                    ).then(function(){\n",
       "                            \n",
       "var gd = document.getElementById('08bf9f39-53f0-4c95-83db-44303cd77f54');\n",
       "var x = new MutationObserver(function (mutations, observer) {{\n",
       "        var display = window.getComputedStyle(gd).display;\n",
       "        if (!display || display === 'none') {{\n",
       "            console.log([gd, 'removed!']);\n",
       "            Plotly.purge(gd);\n",
       "            observer.disconnect();\n",
       "        }}\n",
       "}});\n",
       "\n",
       "// Listen for the removal of the full notebook cells\n",
       "var notebookContainer = gd.closest('#notebook-container');\n",
       "if (notebookContainer) {{\n",
       "    x.observe(notebookContainer, {childList: true});\n",
       "}}\n",
       "\n",
       "// Listen for the clearing of the current output cell\n",
       "var outputEl = gd.closest('.output');\n",
       "if (outputEl) {{\n",
       "    x.observe(outputEl, {childList: true});\n",
       "}}\n",
       "\n",
       "                        })                };                });            </script>        </div>"
      ]
     },
     "metadata": {},
     "output_type": "display_data"
    }
   ],
   "source": [
    "Cat1 = data[data.Category==\"GAME\"].Rating\n",
    "Cat2 = data[data.Category==\"FAMILY\"].Rating\n",
    "Cat3 = data[data.Category==\"TOOLS\"].Rating\n",
    "\n",
    "fig = go.Figure()\n",
    "fig.add_trace(go.Box(y=Cat1, name='GAME'))\n",
    "fig.add_trace(go.Box(y=Cat2, name='FAMILY'))\n",
    "fig.add_trace(go.Box(y=Cat3, name='TOOLS'))\n",
    "fig.show()"
   ]
  },
  {
   "cell_type": "markdown",
   "id": "461f56c4",
   "metadata": {
    "papermill": {
     "duration": 0.033795,
     "end_time": "2023-05-20T12:28:11.314971",
     "exception": false,
     "start_time": "2023-05-20T12:28:11.281176",
     "status": "completed"
    },
    "tags": []
   },
   "source": [
    "Visualizing the distribution of Genres"
   ]
  },
  {
   "cell_type": "code",
   "execution_count": 54,
   "id": "de41abef",
   "metadata": {
    "execution": {
     "iopub.execute_input": "2023-05-20T12:28:11.385043Z",
     "iopub.status.busy": "2023-05-20T12:28:11.384632Z",
     "iopub.status.idle": "2023-05-20T12:28:13.574594Z",
     "shell.execute_reply": "2023-05-20T12:28:13.573657Z"
    },
    "papermill": {
     "duration": 2.22826,
     "end_time": "2023-05-20T12:28:13.577290",
     "exception": false,
     "start_time": "2023-05-20T12:28:11.349030",
     "status": "completed"
    },
    "tags": []
   },
   "outputs": [
    {
     "data": {
      "text/html": [
       "<div>                            <div id=\"8eb407f7-435b-4de5-b0a6-b99c5aab39e1\" class=\"plotly-graph-div\" style=\"height:525px; width:100%;\"></div>            <script type=\"text/javascript\">                require([\"plotly\"], function(Plotly) {                    window.PLOTLYENV=window.PLOTLYENV || {};                                    if (document.getElementById(\"8eb407f7-435b-4de5-b0a6-b99c5aab39e1\")) {                    Plotly.newPlot(                        \"8eb407f7-435b-4de5-b0a6-b99c5aab39e1\",                        [{\"alignmentgroup\":\"True\",\"bingroup\":\"y\",\"hovertemplate\":\"Sec_Genres=Art & Design<br>count=%{x}<br>Main_Genres=%{y}<extra></extra>\",\"legendgroup\":\"Art & Design\",\"marker\":{\"color\":\"#636efa\",\"opacity\":1,\"pattern\":{\"shape\":\"\"}},\"name\":\"Art & Design\",\"offsetgroup\":\"Art & Design\",\"orientation\":\"h\",\"showlegend\":true,\"xaxis\":\"x\",\"y\":[\"Art & Design\",\"Art & Design\",\"Art & Design\",\"Art & Design\",\"Art & Design\",\"Art & Design\",\"Art & Design\",\"Art & Design\",\"Art & Design\",\"Art & Design\",\"Art & Design\",\"Art & Design\",\"Art & Design\",\"Art & Design\",\"Art & Design\",\"Art & Design\",\"Art & Design\",\"Art & Design\",\"Art & Design\",\"Art & Design\",\"Art & Design\",\"Art & Design\",\"Art & Design\",\"Art & Design\",\"Art & Design\",\"Art & Design\",\"Art & Design\",\"Art & Design\",\"Art & Design\",\"Art & Design\",\"Art & Design\",\"Art & Design\",\"Art & Design\",\"Art & Design\",\"Art & Design\",\"Art & Design\",\"Art & Design\",\"Art & Design\",\"Art & Design\",\"Art & Design\",\"Art & Design\",\"Art & Design\",\"Art & Design\",\"Art & Design\",\"Art & Design\",\"Art & Design\",\"Art & Design\",\"Art & Design\",\"Art & Design\",\"Art & Design\",\"Art & Design\",\"Art & Design\",\"Art & Design\",\"Art & Design\",\"Art & Design\",\"Art & Design\",\"Art & Design\",\"Art & Design\"],\"yaxis\":\"y\",\"type\":\"histogram\"},{\"alignmentgroup\":\"True\",\"bingroup\":\"y\",\"hovertemplate\":\"Sec_Genres=Pretend Play<br>count=%{x}<br>Main_Genres=%{y}<extra></extra>\",\"legendgroup\":\"Pretend Play\",\"marker\":{\"color\":\"#EF553B\",\"opacity\":1,\"pattern\":{\"shape\":\"\"}},\"name\":\"Pretend Play\",\"offsetgroup\":\"Pretend Play\",\"orientation\":\"h\",\"showlegend\":true,\"xaxis\":\"x\",\"y\":[\"Art & Design\",\"Education\",\"Education\",\"Education\",\"Education\",\"Lifestyle\",\"Casual\",\"Casual\",\"Art & Design\",\"Educational\",\"Educational\",\"Casual\",\"Casual\",\"Educational\",\"Arcade\",\"Education\",\"Simulation\",\"Educational\",\"Education\",\"Educational\",\"Casual\",\"Casual\",\"Casual\",\"Education\",\"Casual\",\"Board\",\"Casual\",\"Educational\",\"Education\",\"Education\",\"Role Playing\",\"Education\",\"Education\",\"Casual\",\"Educational\",\"Education\",\"Education\",\"Role Playing\",\"Education\",\"Education\",\"Casual\",\"Casual\",\"Educational\",\"Entertainment\",\"Casual\",\"Educational\",\"Casual\",\"Simulation\",\"Education\",\"Casual\",\"Educational\",\"Role Playing\",\"Casual\",\"Casual\",\"Casual\",\"Casual\",\"Casual\",\"Education\",\"Education\",\"Education\",\"Education\",\"Casual\",\"Educational\",\"Educational\",\"Educational\",\"Casual\",\"Education\",\"Casual\",\"Education\",\"Casual\",\"Casual\",\"Education\",\"Educational\",\"Role Playing\",\"Educational\",\"Educational\",\"Simulation\",\"Simulation\",\"Casual\",\"Casual\",\"Educational\",\"Educational\",\"Role Playing\",\"Educational\",\"Racing\",\"Casual\",\"Casual\",\"Entertainment\",\"Casual\",\"Casual\"],\"yaxis\":\"y\",\"type\":\"histogram\"},{\"alignmentgroup\":\"True\",\"bingroup\":\"y\",\"hovertemplate\":\"Sec_Genres=Creativity<br>count=%{x}<br>Main_Genres=%{y}<extra></extra>\",\"legendgroup\":\"Creativity\",\"marker\":{\"color\":\"#00cc96\",\"opacity\":1,\"pattern\":{\"shape\":\"\"}},\"name\":\"Creativity\",\"offsetgroup\":\"Creativity\",\"orientation\":\"h\",\"showlegend\":true,\"xaxis\":\"x\",\"y\":[\"Art & Design\",\"Art & Design\",\"Art & Design\",\"Art & Design\",\"Art & Design\",\"Comics\",\"Education\",\"Education\",\"Education\",\"Entertainment\",\"Casual\",\"Educational\",\"Education\",\"Education\",\"Casual\",\"Casual\",\"Educational\",\"Puzzle\",\"Educational\",\"Education\",\"Casual\",\"Video Players & Editors\",\"Video Players & Editors\",\"Entertainment\",\"Casual\",\"Casual\",\"Casual\",\"Art & Design\",\"Entertainment\",\"Books & Reference\",\"Education\",\"Educational\",\"Educational\",\"Puzzle\",\"Communication\",\"Art & Design\",\"Strategy\"],\"yaxis\":\"y\",\"type\":\"histogram\"},{\"alignmentgroup\":\"True\",\"bingroup\":\"y\",\"hovertemplate\":\"Sec_Genres=Action & Adventure<br>count=%{x}<br>Main_Genres=%{y}<extra></extra>\",\"legendgroup\":\"Action & Adventure\",\"marker\":{\"color\":\"#ab63fa\",\"opacity\":1,\"pattern\":{\"shape\":\"\"}},\"name\":\"Action & Adventure\",\"offsetgroup\":\"Action & Adventure\",\"orientation\":\"h\",\"showlegend\":true,\"xaxis\":\"x\",\"y\":[\"Art & Design\",\"Education\",\"Adventure\",\"Casual\",\"Adventure\",\"Adventure\",\"Adventure\",\"Adventure\",\"Action\",\"Action\",\"Action\",\"Simulation\",\"Adventure\",\"Simulation\",\"Casual\",\"Casual\",\"Simulation\",\"Racing\",\"Action\",\"Casual\",\"Casual\",\"Adventure\",\"Role Playing\",\"Adventure\",\"Casual\",\"Casual\",\"Simulation\",\"Simulation\",\"Racing\",\"Sports\",\"Simulation\",\"Simulation\",\"Casual\",\"Racing\",\"Racing\",\"Educational\",\"Simulation\",\"Racing\",\"Racing\",\"Educational\",\"Racing\",\"Racing\",\"Arcade\",\"Entertainment\",\"Casual\",\"Casual\",\"Art & Design\",\"Puzzle\",\"Education\",\"Casual\",\"Action\",\"Education\",\"Casual\",\"Simulation\",\"Racing\",\"Casual\",\"Adventure\",\"Racing\",\"Role Playing\",\"Action\",\"Arcade\",\"Racing\",\"Action\",\"Action\",\"Simulation\",\"Simulation\",\"Puzzle\",\"Strategy\",\"Arcade\",\"Casual\",\"Board\",\"Board\",\"Board\",\"Education\",\"Education\",\"Adventure\",\"Racing\",\"Arcade\",\"Role Playing\",\"Racing\",\"Puzzle\",\"Casual\",\"Casual\",\"Role Playing\",\"Arcade\",\"Racing\",\"Arcade\",\"Card\",\"Travel & Local\",\"Educational\",\"Health & Fitness\",\"Casual\",\"Action\",\"Racing\",\"Arcade\",\"Adventure\",\"Racing\",\"Casual\",\"Role Playing\",\"Casual\",\"Action\",\"Adventure\",\"Arcade\",\"Action\",\"Sports\",\"Strategy\",\"Card\",\"Puzzle\",\"Arcade\",\"Arcade\",\"Arcade\",\"Action\",\"Action\",\"Entertainment\",\"Role Playing\",\"Arcade\",\"Arcade\",\"Arcade\",\"Arcade\",\"Action\",\"Racing\",\"Action\",\"Adventure\",\"Racing\",\"Action\",\"Educational\",\"Racing\",\"Sports\",\"Sports\",\"Role Playing\",\"Education\",\"Casual\",\"Casual\",\"Entertainment\",\"Arcade\",\"Puzzle\",\"Action\",\"Racing\"],\"yaxis\":\"y\",\"type\":\"histogram\"},{\"alignmentgroup\":\"True\",\"bingroup\":\"y\",\"hovertemplate\":\"Sec_Genres=Auto & Vehicles<br>count=%{x}<br>Main_Genres=%{y}<extra></extra>\",\"legendgroup\":\"Auto & Vehicles\",\"marker\":{\"color\":\"#FFA15A\",\"opacity\":1,\"pattern\":{\"shape\":\"\"}},\"name\":\"Auto & Vehicles\",\"offsetgroup\":\"Auto & Vehicles\",\"orientation\":\"h\",\"showlegend\":true,\"xaxis\":\"x\",\"y\":[\"Auto & Vehicles\",\"Auto & Vehicles\",\"Auto & Vehicles\",\"Auto & Vehicles\",\"Auto & Vehicles\",\"Auto & Vehicles\",\"Auto & Vehicles\",\"Auto & Vehicles\",\"Auto & Vehicles\",\"Auto & Vehicles\",\"Auto & Vehicles\",\"Auto & Vehicles\",\"Auto & Vehicles\",\"Auto & Vehicles\",\"Auto & Vehicles\",\"Auto & Vehicles\",\"Auto & Vehicles\",\"Auto & Vehicles\",\"Auto & Vehicles\",\"Auto & Vehicles\",\"Auto & Vehicles\",\"Auto & Vehicles\",\"Auto & Vehicles\",\"Auto & Vehicles\",\"Auto & Vehicles\",\"Auto & Vehicles\",\"Auto & Vehicles\",\"Auto & Vehicles\",\"Auto & Vehicles\",\"Auto & Vehicles\",\"Auto & Vehicles\",\"Auto & Vehicles\",\"Auto & Vehicles\",\"Auto & Vehicles\",\"Auto & Vehicles\",\"Auto & Vehicles\",\"Auto & Vehicles\",\"Auto & Vehicles\",\"Auto & Vehicles\",\"Auto & Vehicles\",\"Auto & Vehicles\",\"Auto & Vehicles\",\"Auto & Vehicles\",\"Auto & Vehicles\",\"Auto & Vehicles\",\"Auto & Vehicles\",\"Auto & Vehicles\",\"Auto & Vehicles\",\"Auto & Vehicles\",\"Auto & Vehicles\",\"Auto & Vehicles\",\"Auto & Vehicles\",\"Auto & Vehicles\",\"Auto & Vehicles\",\"Auto & Vehicles\",\"Auto & Vehicles\",\"Auto & Vehicles\",\"Auto & Vehicles\",\"Auto & Vehicles\",\"Auto & Vehicles\",\"Auto & Vehicles\",\"Auto & Vehicles\",\"Auto & Vehicles\",\"Auto & Vehicles\",\"Auto & Vehicles\",\"Auto & Vehicles\",\"Auto & Vehicles\",\"Auto & Vehicles\",\"Auto & Vehicles\",\"Auto & Vehicles\",\"Auto & Vehicles\",\"Auto & Vehicles\",\"Auto & Vehicles\",\"Auto & Vehicles\",\"Auto & Vehicles\",\"Auto & Vehicles\",\"Auto & Vehicles\",\"Auto & Vehicles\",\"Auto & Vehicles\",\"Auto & Vehicles\",\"Auto & Vehicles\",\"Auto & Vehicles\",\"Auto & Vehicles\",\"Auto & Vehicles\",\"Auto & Vehicles\"],\"yaxis\":\"y\",\"type\":\"histogram\"},{\"alignmentgroup\":\"True\",\"bingroup\":\"y\",\"hovertemplate\":\"Sec_Genres=Beauty<br>count=%{x}<br>Main_Genres=%{y}<extra></extra>\",\"legendgroup\":\"Beauty\",\"marker\":{\"color\":\"#19d3f3\",\"opacity\":1,\"pattern\":{\"shape\":\"\"}},\"name\":\"Beauty\",\"offsetgroup\":\"Beauty\",\"orientation\":\"h\",\"showlegend\":true,\"xaxis\":\"x\",\"y\":[\"Beauty\",\"Beauty\",\"Beauty\",\"Beauty\",\"Beauty\",\"Beauty\",\"Beauty\",\"Beauty\",\"Beauty\",\"Beauty\",\"Beauty\",\"Beauty\",\"Beauty\",\"Beauty\",\"Beauty\",\"Beauty\",\"Beauty\",\"Beauty\",\"Beauty\",\"Beauty\",\"Beauty\",\"Beauty\",\"Beauty\",\"Beauty\",\"Beauty\",\"Beauty\",\"Beauty\",\"Beauty\",\"Beauty\",\"Beauty\",\"Beauty\",\"Beauty\",\"Beauty\",\"Beauty\",\"Beauty\",\"Beauty\",\"Beauty\",\"Beauty\",\"Beauty\",\"Beauty\",\"Beauty\",\"Beauty\",\"Beauty\",\"Beauty\",\"Beauty\",\"Beauty\",\"Beauty\",\"Beauty\",\"Beauty\",\"Beauty\",\"Beauty\",\"Beauty\",\"Beauty\"],\"yaxis\":\"y\",\"type\":\"histogram\"},{\"alignmentgroup\":\"True\",\"bingroup\":\"y\",\"hovertemplate\":\"Sec_Genres=Books & Reference<br>count=%{x}<br>Main_Genres=%{y}<extra></extra>\",\"legendgroup\":\"Books & Reference\",\"marker\":{\"color\":\"#FF6692\",\"opacity\":1,\"pattern\":{\"shape\":\"\"}},\"name\":\"Books & Reference\",\"offsetgroup\":\"Books & Reference\",\"orientation\":\"h\",\"showlegend\":true,\"xaxis\":\"x\",\"y\":[\"Books & Reference\",\"Books & Reference\",\"Books & Reference\",\"Books & Reference\",\"Books & Reference\",\"Books & Reference\",\"Books & Reference\",\"Books & Reference\",\"Books & Reference\",\"Books & Reference\",\"Books & Reference\",\"Books & Reference\",\"Books & Reference\",\"Books & Reference\",\"Books & Reference\",\"Books & Reference\",\"Books & Reference\",\"Books & Reference\",\"Books & Reference\",\"Books & Reference\",\"Books & Reference\",\"Books & Reference\",\"Books & Reference\",\"Books & Reference\",\"Books & Reference\",\"Books & Reference\",\"Books & Reference\",\"Books & Reference\",\"Books & Reference\",\"Books & Reference\",\"Books & Reference\",\"Books & Reference\",\"Books & Reference\",\"Books & Reference\",\"Books & Reference\",\"Books & Reference\",\"Books & Reference\",\"Books & Reference\",\"Books & Reference\",\"Books & Reference\",\"Books & Reference\",\"Books & Reference\",\"Books & Reference\",\"Books & Reference\",\"Books & Reference\",\"Books & Reference\",\"Books & Reference\",\"Books & Reference\",\"Books & Reference\",\"Books & Reference\",\"Books & Reference\",\"Books & Reference\",\"Books & Reference\",\"Books & Reference\",\"Books & Reference\",\"Books & Reference\",\"Books & Reference\",\"Books & Reference\",\"Books & Reference\",\"Books & Reference\",\"Books & Reference\",\"Books & Reference\",\"Books & Reference\",\"Books & Reference\",\"Books & Reference\",\"Books & Reference\",\"Books & Reference\",\"Books & Reference\",\"Books & Reference\",\"Books & Reference\",\"Books & Reference\",\"Books & Reference\",\"Books & Reference\",\"Books & Reference\",\"Books & Reference\",\"Books & Reference\",\"Books & Reference\",\"Books & Reference\",\"Books & Reference\",\"Books & Reference\",\"Books & Reference\",\"Books & Reference\",\"Books & Reference\",\"Books & Reference\",\"Books & Reference\",\"Books & Reference\",\"Books & Reference\",\"Books & Reference\",\"Books & Reference\",\"Books & Reference\",\"Books & Reference\",\"Books & Reference\",\"Books & Reference\",\"Books & Reference\",\"Books & Reference\",\"Books & Reference\",\"Books & Reference\",\"Books & Reference\",\"Books & Reference\",\"Books & Reference\",\"Books & Reference\",\"Books & Reference\",\"Books & Reference\",\"Books & Reference\",\"Books & Reference\",\"Books & Reference\",\"Books & Reference\",\"Books & Reference\",\"Books & Reference\",\"Books & Reference\",\"Books & Reference\",\"Books & Reference\",\"Books & Reference\",\"Books & Reference\",\"Books & Reference\",\"Books & Reference\",\"Books & Reference\",\"Books & Reference\",\"Books & Reference\",\"Books & Reference\",\"Books & Reference\",\"Books & Reference\",\"Books & Reference\",\"Books & Reference\",\"Books & Reference\",\"Books & Reference\",\"Books & Reference\",\"Books & Reference\",\"Books & Reference\",\"Books & Reference\",\"Books & Reference\",\"Books & Reference\",\"Books & Reference\",\"Books & Reference\",\"Books & Reference\",\"Books & Reference\",\"Books & Reference\",\"Books & Reference\",\"Books & Reference\",\"Books & Reference\",\"Books & Reference\",\"Books & Reference\",\"Books & Reference\",\"Books & Reference\",\"Books & Reference\",\"Books & Reference\",\"Books & Reference\",\"Books & Reference\",\"Books & Reference\",\"Books & Reference\",\"Books & Reference\",\"Books & Reference\",\"Books & Reference\",\"Books & Reference\",\"Books & Reference\",\"Books & Reference\",\"Books & Reference\",\"Books & Reference\",\"Books & Reference\",\"Books & Reference\",\"Books & Reference\",\"Books & Reference\",\"Books & Reference\",\"Books & Reference\",\"Books & Reference\",\"Books & Reference\",\"Books & Reference\",\"Books & Reference\",\"Books & Reference\",\"Books & Reference\",\"Books & Reference\",\"Books & Reference\",\"Books & Reference\",\"Books & Reference\",\"Books & Reference\",\"Books & Reference\",\"Books & Reference\",\"Books & Reference\",\"Books & Reference\",\"Books & Reference\",\"Books & Reference\",\"Books & Reference\",\"Books & Reference\",\"Books & Reference\",\"Books & Reference\",\"Books & Reference\",\"Books & Reference\",\"Books & Reference\",\"Books & Reference\",\"Books & Reference\",\"Books & Reference\",\"Books & Reference\",\"Books & Reference\",\"Books & Reference\",\"Books & Reference\",\"Books & Reference\",\"Books & Reference\",\"Books & Reference\",\"Books & Reference\",\"Books & Reference\",\"Books & Reference\",\"Books & Reference\",\"Books & Reference\",\"Books & Reference\",\"Books & Reference\",\"Books & Reference\",\"Books & Reference\",\"Books & Reference\",\"Books & Reference\",\"Books & Reference\",\"Books & Reference\",\"Books & Reference\",\"Books & Reference\",\"Books & Reference\",\"Books & Reference\",\"Books & Reference\",\"Books & Reference\",\"Books & Reference\",\"Books & Reference\",\"Books & Reference\",\"Books & Reference\",\"Books & Reference\",\"Books & Reference\",\"Books & Reference\",\"Books & Reference\",\"Books & Reference\",\"Books & Reference\",\"Books & Reference\",\"Books & Reference\",\"Books & Reference\",\"Books & Reference\"],\"yaxis\":\"y\",\"type\":\"histogram\"},{\"alignmentgroup\":\"True\",\"bingroup\":\"y\",\"hovertemplate\":\"Sec_Genres=Business<br>count=%{x}<br>Main_Genres=%{y}<extra></extra>\",\"legendgroup\":\"Business\",\"marker\":{\"color\":\"#B6E880\",\"opacity\":1,\"pattern\":{\"shape\":\"\"}},\"name\":\"Business\",\"offsetgroup\":\"Business\",\"orientation\":\"h\",\"showlegend\":true,\"xaxis\":\"x\",\"y\":[\"Business\",\"Business\",\"Business\",\"Business\",\"Business\",\"Business\",\"Business\",\"Business\",\"Business\",\"Business\",\"Business\",\"Business\",\"Business\",\"Business\",\"Business\",\"Business\",\"Business\",\"Business\",\"Business\",\"Business\",\"Business\",\"Business\",\"Business\",\"Business\",\"Business\",\"Business\",\"Business\",\"Business\",\"Business\",\"Business\",\"Business\",\"Business\",\"Business\",\"Business\",\"Business\",\"Business\",\"Business\",\"Business\",\"Business\",\"Business\",\"Business\",\"Business\",\"Business\",\"Business\",\"Business\",\"Business\",\"Business\",\"Business\",\"Business\",\"Business\",\"Business\",\"Business\",\"Business\",\"Business\",\"Business\",\"Business\",\"Business\",\"Business\",\"Business\",\"Business\",\"Business\",\"Business\",\"Business\",\"Business\",\"Business\",\"Business\",\"Business\",\"Business\",\"Business\",\"Business\",\"Business\",\"Business\",\"Business\",\"Business\",\"Business\",\"Business\",\"Business\",\"Business\",\"Business\",\"Business\",\"Business\",\"Business\",\"Business\",\"Business\",\"Business\",\"Business\",\"Business\",\"Business\",\"Business\",\"Business\",\"Business\",\"Business\",\"Business\",\"Business\",\"Business\",\"Business\",\"Business\",\"Business\",\"Business\",\"Business\",\"Business\",\"Business\",\"Business\",\"Business\",\"Business\",\"Business\",\"Business\",\"Business\",\"Business\",\"Business\",\"Business\",\"Business\",\"Business\",\"Business\",\"Business\",\"Business\",\"Business\",\"Business\",\"Business\",\"Business\",\"Business\",\"Business\",\"Business\",\"Business\",\"Business\",\"Business\",\"Business\",\"Business\",\"Business\",\"Business\",\"Business\",\"Business\",\"Business\",\"Business\",\"Business\",\"Business\",\"Business\",\"Business\",\"Business\",\"Business\",\"Business\",\"Business\",\"Business\",\"Business\",\"Business\",\"Business\",\"Business\",\"Business\",\"Business\",\"Business\",\"Business\",\"Business\",\"Business\",\"Business\",\"Business\",\"Business\",\"Business\",\"Business\",\"Business\",\"Business\",\"Business\",\"Business\",\"Business\",\"Business\",\"Business\",\"Business\",\"Business\",\"Business\",\"Business\",\"Business\",\"Business\",\"Business\",\"Business\",\"Business\",\"Business\",\"Business\",\"Business\",\"Business\",\"Business\",\"Business\",\"Business\",\"Business\",\"Business\",\"Business\",\"Business\",\"Business\",\"Business\",\"Business\",\"Business\",\"Business\",\"Business\",\"Business\",\"Business\",\"Business\",\"Business\",\"Business\",\"Business\",\"Business\",\"Business\",\"Business\",\"Business\",\"Business\",\"Business\",\"Business\",\"Business\",\"Business\",\"Business\",\"Business\",\"Business\",\"Business\",\"Business\",\"Business\",\"Business\",\"Business\",\"Business\",\"Business\",\"Business\",\"Business\",\"Business\",\"Business\",\"Business\",\"Business\",\"Business\",\"Business\",\"Business\",\"Business\",\"Business\",\"Business\",\"Business\",\"Business\",\"Business\",\"Business\",\"Business\",\"Business\",\"Business\",\"Business\",\"Business\",\"Business\",\"Business\",\"Business\",\"Business\",\"Business\",\"Business\",\"Business\",\"Business\",\"Business\",\"Business\",\"Business\",\"Business\",\"Business\",\"Business\",\"Business\",\"Business\",\"Business\",\"Business\",\"Business\",\"Business\",\"Business\",\"Business\",\"Business\",\"Business\",\"Business\",\"Business\",\"Business\",\"Business\",\"Business\",\"Business\",\"Business\",\"Business\",\"Business\",\"Business\",\"Business\",\"Business\",\"Business\",\"Business\",\"Business\",\"Business\",\"Business\",\"Business\",\"Business\",\"Business\",\"Business\",\"Business\",\"Business\",\"Business\",\"Business\",\"Business\",\"Business\",\"Business\",\"Business\",\"Business\",\"Business\",\"Business\",\"Business\",\"Business\",\"Business\",\"Business\",\"Business\",\"Business\",\"Business\",\"Business\",\"Business\",\"Business\",\"Business\",\"Business\",\"Business\",\"Business\",\"Business\",\"Business\",\"Business\",\"Business\",\"Business\",\"Business\",\"Business\",\"Business\",\"Business\",\"Business\",\"Business\",\"Business\",\"Business\",\"Business\",\"Business\",\"Business\",\"Business\",\"Business\",\"Business\",\"Business\",\"Business\",\"Business\",\"Business\",\"Business\",\"Business\",\"Business\",\"Business\",\"Business\",\"Business\",\"Business\",\"Business\",\"Business\",\"Business\",\"Business\",\"Business\",\"Business\",\"Business\",\"Business\",\"Business\",\"Business\",\"Business\",\"Business\",\"Business\",\"Business\",\"Business\",\"Business\",\"Business\",\"Business\",\"Business\",\"Business\",\"Business\",\"Business\",\"Business\",\"Business\",\"Business\",\"Business\",\"Business\",\"Business\",\"Business\",\"Business\",\"Business\",\"Business\",\"Business\",\"Business\",\"Business\",\"Business\",\"Business\",\"Business\",\"Business\",\"Business\",\"Business\",\"Business\",\"Business\",\"Business\",\"Business\",\"Business\",\"Business\",\"Business\",\"Business\",\"Business\",\"Business\",\"Business\",\"Business\",\"Business\",\"Business\",\"Business\",\"Business\",\"Business\",\"Business\",\"Business\",\"Business\",\"Business\",\"Business\",\"Business\",\"Business\",\"Business\",\"Business\",\"Business\",\"Business\",\"Business\",\"Business\",\"Business\",\"Business\",\"Business\",\"Business\",\"Business\",\"Business\",\"Business\",\"Business\",\"Business\",\"Business\",\"Business\",\"Business\",\"Business\",\"Business\",\"Business\",\"Business\",\"Business\",\"Business\",\"Business\",\"Business\",\"Business\",\"Business\",\"Business\",\"Business\",\"Business\",\"Business\",\"Business\",\"Business\",\"Business\",\"Business\",\"Business\",\"Business\",\"Business\",\"Business\",\"Business\",\"Business\",\"Business\",\"Business\",\"Business\",\"Business\",\"Business\",\"Business\",\"Business\",\"Business\",\"Business\",\"Business\",\"Business\",\"Business\",\"Business\",\"Business\",\"Business\",\"Business\"],\"yaxis\":\"y\",\"type\":\"histogram\"},{\"alignmentgroup\":\"True\",\"bingroup\":\"y\",\"hovertemplate\":\"Sec_Genres=Comics<br>count=%{x}<br>Main_Genres=%{y}<extra></extra>\",\"legendgroup\":\"Comics\",\"marker\":{\"color\":\"#FF97FF\",\"opacity\":1,\"pattern\":{\"shape\":\"\"}},\"name\":\"Comics\",\"offsetgroup\":\"Comics\",\"orientation\":\"h\",\"showlegend\":true,\"xaxis\":\"x\",\"y\":[\"Comics\",\"Comics\",\"Comics\",\"Comics\",\"Comics\",\"Comics\",\"Comics\",\"Comics\",\"Comics\",\"Comics\",\"Comics\",\"Comics\",\"Comics\",\"Comics\",\"Comics\",\"Comics\",\"Comics\",\"Comics\",\"Comics\",\"Comics\",\"Comics\",\"Comics\",\"Comics\",\"Comics\",\"Comics\",\"Comics\",\"Comics\",\"Comics\",\"Comics\",\"Comics\",\"Comics\",\"Comics\",\"Comics\",\"Comics\",\"Comics\",\"Comics\",\"Comics\",\"Comics\",\"Comics\",\"Comics\",\"Comics\",\"Comics\",\"Comics\",\"Comics\",\"Comics\",\"Comics\",\"Comics\",\"Comics\",\"Comics\",\"Comics\",\"Comics\",\"Comics\",\"Comics\",\"Comics\",\"Comics\",\"Comics\",\"Comics\",\"Comics\",\"Comics\"],\"yaxis\":\"y\",\"type\":\"histogram\"},{\"alignmentgroup\":\"True\",\"bingroup\":\"y\",\"hovertemplate\":\"Sec_Genres=Communication<br>count=%{x}<br>Main_Genres=%{y}<extra></extra>\",\"legendgroup\":\"Communication\",\"marker\":{\"color\":\"#FECB52\",\"opacity\":1,\"pattern\":{\"shape\":\"\"}},\"name\":\"Communication\",\"offsetgroup\":\"Communication\",\"orientation\":\"h\",\"showlegend\":true,\"xaxis\":\"x\",\"y\":[\"Communication\",\"Communication\",\"Communication\",\"Communication\",\"Communication\",\"Communication\",\"Communication\",\"Communication\",\"Communication\",\"Communication\",\"Communication\",\"Communication\",\"Communication\",\"Communication\",\"Communication\",\"Communication\",\"Communication\",\"Communication\",\"Communication\",\"Communication\",\"Communication\",\"Communication\",\"Communication\",\"Communication\",\"Communication\",\"Communication\",\"Communication\",\"Communication\",\"Communication\",\"Communication\",\"Communication\",\"Communication\",\"Communication\",\"Communication\",\"Communication\",\"Communication\",\"Communication\",\"Communication\",\"Communication\",\"Communication\",\"Communication\",\"Communication\",\"Communication\",\"Communication\",\"Communication\",\"Communication\",\"Communication\",\"Communication\",\"Communication\",\"Communication\",\"Communication\",\"Communication\",\"Communication\",\"Communication\",\"Communication\",\"Communication\",\"Communication\",\"Communication\",\"Communication\",\"Communication\",\"Communication\",\"Communication\",\"Communication\",\"Communication\",\"Communication\",\"Communication\",\"Communication\",\"Communication\",\"Communication\",\"Communication\",\"Communication\",\"Communication\",\"Communication\",\"Communication\",\"Communication\",\"Communication\",\"Communication\",\"Communication\",\"Communication\",\"Communication\",\"Communication\",\"Communication\",\"Communication\",\"Communication\",\"Communication\",\"Communication\",\"Communication\",\"Communication\",\"Communication\",\"Communication\",\"Communication\",\"Communication\",\"Communication\",\"Communication\",\"Communication\",\"Communication\",\"Communication\",\"Communication\",\"Communication\",\"Communication\",\"Communication\",\"Communication\",\"Communication\",\"Communication\",\"Communication\",\"Communication\",\"Communication\",\"Communication\",\"Communication\",\"Communication\",\"Communication\",\"Communication\",\"Communication\",\"Communication\",\"Communication\",\"Communication\",\"Communication\",\"Communication\",\"Communication\",\"Communication\",\"Communication\",\"Communication\",\"Communication\",\"Communication\",\"Communication\",\"Communication\",\"Communication\",\"Communication\",\"Communication\",\"Communication\",\"Communication\",\"Communication\",\"Communication\",\"Communication\",\"Communication\",\"Communication\",\"Communication\",\"Communication\",\"Communication\",\"Communication\",\"Communication\",\"Communication\",\"Communication\",\"Communication\",\"Communication\",\"Communication\",\"Communication\",\"Communication\",\"Communication\",\"Communication\",\"Communication\",\"Communication\",\"Communication\",\"Communication\",\"Communication\",\"Communication\",\"Communication\",\"Communication\",\"Communication\",\"Communication\",\"Communication\",\"Communication\",\"Communication\",\"Communication\",\"Communication\",\"Communication\",\"Communication\",\"Communication\",\"Communication\",\"Communication\",\"Communication\",\"Communication\",\"Communication\",\"Communication\",\"Communication\",\"Communication\",\"Communication\",\"Communication\",\"Communication\",\"Communication\",\"Communication\",\"Communication\",\"Communication\",\"Communication\",\"Communication\",\"Communication\",\"Communication\",\"Communication\",\"Communication\",\"Communication\",\"Communication\",\"Communication\",\"Communication\",\"Communication\",\"Communication\",\"Communication\",\"Communication\",\"Communication\",\"Communication\",\"Communication\",\"Communication\",\"Communication\",\"Communication\",\"Communication\",\"Communication\",\"Communication\",\"Communication\",\"Communication\",\"Communication\",\"Communication\",\"Communication\",\"Communication\",\"Communication\",\"Communication\",\"Communication\",\"Communication\",\"Communication\",\"Communication\",\"Communication\",\"Communication\",\"Communication\",\"Communication\",\"Communication\",\"Communication\",\"Communication\",\"Communication\",\"Communication\",\"Communication\",\"Communication\",\"Communication\",\"Communication\",\"Communication\",\"Communication\",\"Communication\",\"Communication\",\"Communication\",\"Communication\",\"Communication\",\"Communication\",\"Communication\",\"Communication\",\"Communication\",\"Communication\",\"Communication\",\"Communication\",\"Communication\",\"Communication\",\"Communication\",\"Communication\",\"Communication\",\"Communication\",\"Communication\",\"Communication\",\"Communication\",\"Communication\",\"Communication\",\"Communication\",\"Communication\",\"Communication\",\"Communication\",\"Communication\",\"Communication\",\"Communication\",\"Communication\",\"Communication\",\"Communication\",\"Communication\",\"Communication\",\"Communication\",\"Communication\",\"Communication\",\"Communication\",\"Communication\",\"Communication\",\"Communication\",\"Communication\",\"Communication\",\"Communication\",\"Communication\",\"Communication\",\"Communication\",\"Communication\",\"Communication\",\"Communication\",\"Communication\",\"Communication\",\"Communication\",\"Communication\",\"Communication\",\"Communication\",\"Communication\",\"Communication\",\"Communication\",\"Communication\",\"Communication\",\"Communication\",\"Communication\",\"Communication\",\"Communication\",\"Communication\",\"Communication\",\"Communication\",\"Communication\",\"Communication\",\"Communication\",\"Communication\",\"Communication\",\"Communication\",\"Communication\",\"Communication\",\"Communication\",\"Communication\",\"Communication\",\"Communication\",\"Communication\",\"Communication\",\"Communication\",\"Communication\",\"Communication\",\"Communication\",\"Communication\",\"Communication\",\"Communication\",\"Communication\",\"Communication\",\"Communication\",\"Communication\",\"Communication\",\"Communication\",\"Communication\",\"Communication\",\"Communication\",\"Communication\",\"Communication\",\"Communication\",\"Communication\",\"Communication\",\"Communication\",\"Communication\",\"Communication\",\"Communication\",\"Communication\",\"Communication\",\"Communication\",\"Communication\",\"Communication\",\"Communication\",\"Communication\",\"Communication\",\"Communication\",\"Communication\",\"Communication\",\"Communication\",\"Communication\",\"Communication\",\"Communication\",\"Communication\",\"Communication\",\"Communication\",\"Communication\",\"Communication\",\"Communication\",\"Communication\",\"Communication\",\"Communication\",\"Communication\",\"Communication\",\"Communication\",\"Communication\",\"Communication\",\"Communication\",\"Communication\",\"Communication\",\"Communication\",\"Communication\",\"Communication\",\"Communication\",\"Communication\",\"Communication\",\"Communication\",\"Communication\",\"Communication\",\"Communication\",\"Communication\",\"Communication\",\"Communication\",\"Communication\"],\"yaxis\":\"y\",\"type\":\"histogram\"},{\"alignmentgroup\":\"True\",\"bingroup\":\"y\",\"hovertemplate\":\"Sec_Genres=Dating<br>count=%{x}<br>Main_Genres=%{y}<extra></extra>\",\"legendgroup\":\"Dating\",\"marker\":{\"color\":\"#636efa\",\"opacity\":1,\"pattern\":{\"shape\":\"\"}},\"name\":\"Dating\",\"offsetgroup\":\"Dating\",\"orientation\":\"h\",\"showlegend\":true,\"xaxis\":\"x\",\"y\":[\"Dating\",\"Dating\",\"Dating\",\"Dating\",\"Dating\",\"Dating\",\"Dating\",\"Dating\",\"Dating\",\"Dating\",\"Dating\",\"Dating\",\"Dating\",\"Dating\",\"Dating\",\"Dating\",\"Dating\",\"Dating\",\"Dating\",\"Dating\",\"Dating\",\"Dating\",\"Dating\",\"Dating\",\"Dating\",\"Dating\",\"Dating\",\"Dating\",\"Dating\",\"Dating\",\"Dating\",\"Dating\",\"Dating\",\"Dating\",\"Dating\",\"Dating\",\"Dating\",\"Dating\",\"Dating\",\"Dating\",\"Dating\",\"Dating\",\"Dating\",\"Dating\",\"Dating\",\"Dating\",\"Dating\",\"Dating\",\"Dating\",\"Dating\",\"Dating\",\"Dating\",\"Dating\",\"Dating\",\"Dating\",\"Dating\",\"Dating\",\"Dating\",\"Dating\",\"Dating\",\"Dating\",\"Dating\",\"Dating\",\"Dating\",\"Dating\",\"Dating\",\"Dating\",\"Dating\",\"Dating\",\"Dating\",\"Dating\",\"Dating\",\"Dating\",\"Dating\",\"Dating\",\"Dating\",\"Dating\",\"Dating\",\"Dating\",\"Dating\",\"Dating\",\"Dating\",\"Dating\",\"Dating\",\"Dating\",\"Dating\",\"Dating\",\"Dating\",\"Dating\",\"Dating\",\"Dating\",\"Dating\",\"Dating\",\"Dating\",\"Dating\",\"Dating\",\"Dating\",\"Dating\",\"Dating\",\"Dating\",\"Dating\",\"Dating\",\"Dating\",\"Dating\",\"Dating\",\"Dating\",\"Dating\",\"Dating\",\"Dating\",\"Dating\",\"Dating\",\"Dating\",\"Dating\",\"Dating\",\"Dating\",\"Dating\",\"Dating\",\"Dating\",\"Dating\",\"Dating\",\"Dating\",\"Dating\",\"Dating\",\"Dating\",\"Dating\",\"Dating\",\"Dating\",\"Dating\",\"Dating\",\"Dating\",\"Dating\",\"Dating\",\"Dating\",\"Dating\",\"Dating\",\"Dating\",\"Dating\",\"Dating\",\"Dating\",\"Dating\",\"Dating\",\"Dating\",\"Dating\",\"Dating\",\"Dating\",\"Dating\",\"Dating\",\"Dating\",\"Dating\",\"Dating\",\"Dating\",\"Dating\",\"Dating\",\"Dating\",\"Dating\",\"Dating\",\"Dating\",\"Dating\",\"Dating\",\"Dating\",\"Dating\",\"Dating\",\"Dating\",\"Dating\",\"Dating\",\"Dating\",\"Dating\",\"Dating\",\"Dating\",\"Dating\",\"Dating\",\"Dating\",\"Dating\",\"Dating\",\"Dating\",\"Dating\",\"Dating\",\"Dating\",\"Dating\",\"Dating\",\"Dating\",\"Dating\",\"Dating\",\"Dating\",\"Dating\",\"Dating\",\"Dating\",\"Dating\",\"Dating\",\"Dating\",\"Dating\",\"Dating\",\"Dating\",\"Dating\",\"Dating\",\"Dating\",\"Dating\",\"Dating\",\"Dating\",\"Dating\",\"Dating\",\"Dating\",\"Dating\",\"Dating\",\"Dating\",\"Dating\",\"Dating\",\"Dating\",\"Dating\",\"Dating\",\"Dating\",\"Dating\",\"Dating\",\"Dating\",\"Dating\",\"Dating\",\"Dating\",\"Dating\",\"Dating\",\"Dating\",\"Dating\",\"Dating\",\"Dating\",\"Dating\",\"Dating\",\"Dating\",\"Dating\",\"Dating\",\"Dating\",\"Dating\",\"Dating\",\"Dating\",\"Dating\",\"Dating\"],\"yaxis\":\"y\",\"type\":\"histogram\"},{\"alignmentgroup\":\"True\",\"bingroup\":\"y\",\"hovertemplate\":\"Sec_Genres=Education<br>count=%{x}<br>Main_Genres=%{y}<extra></extra>\",\"legendgroup\":\"Education\",\"marker\":{\"color\":\"#EF553B\",\"opacity\":1,\"pattern\":{\"shape\":\"\"}},\"name\":\"Education\",\"offsetgroup\":\"Education\",\"orientation\":\"h\",\"showlegend\":true,\"xaxis\":\"x\",\"y\":[\"Education\",\"Education\",\"Education\",\"Education\",\"Education\",\"Education\",\"Education\",\"Education\",\"Education\",\"Education\",\"Education\",\"Education\",\"Education\",\"Education\",\"Education\",\"Education\",\"Education\",\"Education\",\"Education\",\"Education\",\"Education\",\"Education\",\"Education\",\"Education\",\"Education\",\"Education\",\"Education\",\"Education\",\"Education\",\"Education\",\"Education\",\"Education\",\"Education\",\"Education\",\"Education\",\"Education\",\"Education\",\"Education\",\"Education\",\"Education\",\"Education\",\"Education\",\"Education\",\"Education\",\"Education\",\"Education\",\"Education\",\"Education\",\"Education\",\"Education\",\"Education\",\"Education\",\"Education\",\"Education\",\"Education\",\"Education\",\"Education\",\"Education\",\"Education\",\"Education\",\"Education\",\"Education\",\"Education\",\"Education\",\"Education\",\"Education\",\"Education\",\"Education\",\"Education\",\"Education\",\"Education\",\"Education\",\"Education\",\"Education\",\"Education\",\"Education\",\"Education\",\"Education\",\"Education\",\"Education\",\"Education\",\"Education\",\"Education\",\"Education\",\"Education\",\"Education\",\"Education\",\"Education\",\"Education\",\"Education\",\"Education\",\"Education\",\"Education\",\"Education\",\"Education\",\"Education\",\"Education\",\"Education\",\"Education\",\"Education\",\"Education\",\"Education\",\"Education\",\"Education\",\"Education\",\"Education\",\"Education\",\"Education\",\"Education\",\"Education\",\"Education\",\"Education\",\"Education\",\"Education\",\"Education\",\"Education\",\"Education\",\"Education\",\"Education\",\"Education\",\"Education\",\"Education\",\"Education\",\"Education\",\"Education\",\"Education\",\"Education\",\"Education\",\"Education\",\"Education\",\"Education\",\"Education\",\"Education\",\"Education\",\"Education\",\"Education\",\"Education\",\"Education\",\"Education\",\"Education\",\"Education\",\"Education\",\"Education\",\"Education\",\"Simulation\",\"Educational\",\"Educational\",\"Educational\",\"Education\",\"Educational\",\"Entertainment\",\"Casual\",\"Educational\",\"Educational\",\"Educational\",\"Education\",\"Educational\",\"Educational\",\"Education\",\"Educational\",\"Educational\",\"Educational\",\"Education\",\"Education\",\"Education\",\"Education\",\"Educational\",\"Education\",\"Educational\",\"Health & Fitness\",\"Educational\",\"Educational\",\"Adventure\",\"Educational\",\"Casual\",\"Educational\",\"Educational\",\"Education\",\"Educational\",\"Educational\",\"Education\",\"Educational\",\"Educational\",\"Education\",\"Educational\",\"Educational\",\"Education\",\"Education\",\"Tools\",\"Parenting\",\"Parenting\",\"Parenting\",\"Parenting\",\"Parenting\",\"Parenting\",\"Parenting\",\"Education\",\"Education\",\"Education\",\"Education\",\"Education\",\"Education\",\"Education\",\"Education\",\"Education\",\"Education\",\"Education\",\"Education\",\"Education\",\"Education\",\"Education\",\"Education\",\"Education\",\"Education\",\"Education\",\"Education\",\"Education\",\"Education\",\"Education\",\"Education\",\"Education\",\"Education\",\"Education\",\"Education\",\"Education\",\"Education\",\"Education\",\"Education\",\"Educational\",\"Educational\",\"Casual\",\"Education\",\"Education\",\"Education\",\"Education\",\"Educational\",\"Education\",\"Education\",\"Education\",\"Education\",\"Education\",\"Educational\",\"Educational\",\"Education\",\"Education\",\"Education\",\"Education\",\"Education\",\"Education\",\"Education\",\"Education\",\"Education\",\"Education\",\"Education\",\"Education\",\"Education\",\"Education\",\"Education\",\"Education\",\"Education\",\"Education\",\"Education\",\"Education\",\"Education\",\"Education\",\"Educational\",\"Educational\",\"Education\",\"Education\",\"Education\",\"Education\",\"Educational\",\"Education\",\"Education\",\"Education\",\"Educational\",\"Education\",\"Education\",\"Education\",\"Education\",\"Education\",\"Education\",\"Education\",\"Education\",\"Education\",\"Education\",\"Education\",\"Education\",\"Education\",\"Education\",\"Education\",\"Education\",\"Education\",\"Education\",\"Education\",\"Education\",\"Education\",\"Education\",\"Education\",\"Education\",\"Education\",\"Education\",\"Education\",\"Education\",\"Education\",\"Education\",\"Education\",\"Education\",\"Education\",\"Education\",\"Education\",\"Education\",\"Education\",\"Education\",\"Education\",\"Education\",\"Education\",\"Education\",\"Education\",\"Education\",\"Education\",\"Education\",\"Education\",\"Education\",\"Education\",\"Education\",\"Education\",\"Education\",\"Education\",\"Education\",\"Education\",\"Education\",\"Education\",\"Education\",\"Education\",\"Education\",\"Educational\",\"Education\",\"Education\",\"Educational\",\"Education\",\"Education\",\"Education\",\"Educational\",\"Education\",\"Education\",\"Education\",\"Education\",\"Education\",\"Education\",\"Education\",\"Education\",\"Education\",\"Education\",\"Education\",\"Education\",\"Education\",\"Education\",\"Education\",\"Education\",\"Education\",\"Education\",\"Education\",\"Education\",\"Education\",\"Education\",\"Education\",\"Education\",\"Education\",\"Education\",\"Education\",\"Education\",\"Education\",\"Education\",\"Education\",\"Education\",\"Education\",\"Education\",\"Education\",\"Education\",\"Education\",\"Education\",\"Education\",\"Education\",\"Education\",\"Education\",\"Education\",\"Education\",\"Education\",\"Education\",\"Education\",\"Education\",\"Education\",\"Education\",\"Education\",\"Education\",\"Education\",\"Education\",\"Education\",\"Education\",\"Trivia\",\"Education\",\"Education\",\"Education\",\"Education\",\"Education\",\"Education\",\"Education\",\"Education\",\"Education\",\"Education\",\"Education\",\"Education\",\"Education\",\"Education\",\"Education\",\"Education\",\"Education\",\"Education\",\"Education\",\"Education\",\"Education\",\"Education\",\"Education\",\"Education\",\"Education\",\"Education\",\"Education\",\"Education\",\"Education\",\"Education\",\"Education\",\"Education\",\"Education\",\"Education\",\"Education\",\"Education\",\"Education\",\"Education\",\"Education\",\"Lifestyle\",\"Educational\",\"Education\",\"Education\",\"Education\",\"Education\",\"Education\",\"Education\",\"Education\",\"Education\",\"Education\",\"Education\",\"Education\",\"Education\",\"Education\",\"Education\",\"Education\",\"Education\",\"Education\",\"Education\",\"Education\",\"Education\",\"Education\",\"Education\",\"Education\",\"Education\",\"Education\",\"Education\",\"Education\",\"Education\",\"Education\",\"Education\",\"Education\",\"Education\",\"Education\",\"Education\",\"Education\",\"Education\",\"Education\",\"Education\",\"Education\",\"Education\",\"Education\",\"Education\",\"Education\",\"Education\",\"Education\",\"Education\",\"Education\",\"Education\",\"Education\",\"Education\",\"Education\",\"Education\",\"Education\",\"Education\",\"Education\",\"Education\",\"Education\",\"Education\",\"Education\",\"Education\",\"Education\",\"Education\",\"Education\",\"Education\",\"Education\",\"Education\",\"Education\",\"Education\",\"Books & Reference\",\"Education\",\"Education\",\"Education\",\"Education\",\"Education\",\"Education\",\"Education\",\"Education\",\"Education\",\"Education\",\"Education\",\"Education\",\"Education\",\"Education\",\"Books & Reference\",\"Education\",\"Education\",\"Education\",\"Education\",\"Education\",\"Education\",\"Education\",\"Education\",\"Education\",\"Education\",\"Education\",\"Education\",\"Educational\",\"Education\",\"Education\",\"Education\",\"Simulation\",\"Education\",\"Education\",\"Education\",\"Education\",\"Education\",\"Education\",\"Education\",\"Education\",\"Education\",\"Education\",\"Education\",\"Education\",\"Education\",\"Education\",\"Education\",\"Education\",\"Education\",\"Education\",\"Education\",\"Education\",\"Education\",\"Education\",\"Education\",\"Education\",\"Education\",\"Education\",\"Education\",\"Education\",\"Education\",\"Education\",\"Education\",\"Education\",\"Education\",\"Education\",\"Education\",\"Education\",\"Education\",\"Education\",\"Education\",\"Education\",\"Education\",\"Education\",\"Education\",\"Education\",\"Education\",\"Simulation\",\"Education\",\"Education\",\"Education\",\"Education\",\"Puzzle\",\"Education\",\"Education\",\"Education\",\"Education\",\"Education\",\"Education\",\"Education\",\"Education\",\"Education\",\"Education\",\"Education\",\"Adventure\",\"Role Playing\",\"Strategy\",\"Education\",\"Education\",\"Education\",\"Educational\",\"Education\",\"Education\",\"Education\",\"Education\",\"Education\",\"Education\",\"Education\",\"Education\",\"Education\",\"Education\",\"Education\",\"Education\",\"Education\",\"Education\",\"Education\",\"Education\",\"Education\",\"Education\",\"Education\",\"Education\",\"Education\",\"Education\",\"Education\",\"Education\",\"Education\",\"Education\",\"Education\",\"Educational\",\"Education\",\"Education\",\"Education\",\"Education\",\"Education\",\"Education\",\"Education\",\"Education\",\"Education\",\"Education\",\"Education\",\"Education\",\"Education\",\"Education\",\"Education\",\"Education\",\"Education\",\"Education\",\"Education\",\"Education\",\"Education\",\"Education\",\"Education\",\"Education\",\"Education\"],\"yaxis\":\"y\",\"type\":\"histogram\"},{\"alignmentgroup\":\"True\",\"bingroup\":\"y\",\"hovertemplate\":\"Sec_Genres=Music & Video<br>count=%{x}<br>Main_Genres=%{y}<extra></extra>\",\"legendgroup\":\"Music & Video\",\"marker\":{\"color\":\"#00cc96\",\"opacity\":1,\"pattern\":{\"shape\":\"\"}},\"name\":\"Music & Video\",\"offsetgroup\":\"Music & Video\",\"orientation\":\"h\",\"showlegend\":true,\"xaxis\":\"x\",\"y\":[\"Education\",\"Entertainment\",\"Entertainment\",\"Entertainment\",\"Entertainment\",\"Entertainment\",\"Entertainment\",\"Entertainment\",\"Entertainment\",\"Entertainment\",\"Entertainment\",\"Entertainment\",\"Music\",\"Music\",\"Entertainment\",\"Entertainment\",\"Music & Audio\",\"Casual\",\"Education\",\"Casual\",\"Education\",\"Entertainment\",\"Entertainment\",\"Entertainment\",\"Entertainment\",\"Parenting\",\"Parenting\",\"Parenting\",\"Parenting\",\"Parenting\",\"Parenting\",\"Video Players & Editors\",\"Entertainment\",\"Entertainment\",\"Education\",\"Entertainment\",\"Education\",\"Video Players & Editors\",\"Entertainment\",\"Video Players & Editors\",\"Entertainment\",\"Entertainment\",\"Entertainment\",\"Entertainment\",\"Entertainment\",\"Entertainment\",\"Music\"],\"yaxis\":\"y\",\"type\":\"histogram\"},{\"alignmentgroup\":\"True\",\"bingroup\":\"y\",\"hovertemplate\":\"Sec_Genres=Brain Games<br>count=%{x}<br>Main_Genres=%{y}<extra></extra>\",\"legendgroup\":\"Brain Games\",\"marker\":{\"color\":\"#ab63fa\",\"opacity\":1,\"pattern\":{\"shape\":\"\"}},\"name\":\"Brain Games\",\"offsetgroup\":\"Brain Games\",\"orientation\":\"h\",\"showlegend\":true,\"xaxis\":\"x\",\"y\":[\"Education\",\"Education\",\"Education\",\"Entertainment\",\"Entertainment\",\"Casual\",\"Casual\",\"Casual\",\"Puzzle\",\"Casual\",\"Casual\",\"Card\",\"Casual\",\"Casual\",\"Educational\",\"Entertainment\",\"Puzzle\",\"Casual\",\"Casual\",\"Entertainment\",\"Casual\",\"Educational\",\"Puzzle\",\"Educational\",\"Educational\",\"Puzzle\",\"Puzzle\",\"Board\",\"Board\",\"Board\",\"Board\",\"Puzzle\",\"Puzzle\",\"Puzzle\",\"Board\",\"Casual\",\"Board\",\"Board\",\"Board\",\"Board\",\"Board\",\"Board\",\"Board\",\"Board\",\"Board\",\"Entertainment\",\"Puzzle\",\"Education\",\"Parenting\",\"Puzzle\",\"Puzzle\",\"Adventure\",\"Puzzle\",\"Education\",\"Puzzle\",\"Entertainment\",\"Puzzle\",\"Entertainment\",\"Casual\",\"Educational\",\"Entertainment\",\"Puzzle\",\"Board\",\"Puzzle\",\"Role Playing\",\"Puzzle\",\"Puzzle\",\"Puzzle\",\"Educational\",\"Casual\"],\"yaxis\":\"y\",\"type\":\"histogram\"},{\"alignmentgroup\":\"True\",\"bingroup\":\"y\",\"hovertemplate\":\"Sec_Genres=Entertainment<br>count=%{x}<br>Main_Genres=%{y}<extra></extra>\",\"legendgroup\":\"Entertainment\",\"marker\":{\"color\":\"#FFA15A\",\"opacity\":1,\"pattern\":{\"shape\":\"\"}},\"name\":\"Entertainment\",\"offsetgroup\":\"Entertainment\",\"orientation\":\"h\",\"showlegend\":true,\"xaxis\":\"x\",\"y\":[\"Entertainment\",\"Entertainment\",\"Entertainment\",\"Entertainment\",\"Entertainment\",\"Entertainment\",\"Entertainment\",\"Entertainment\",\"Entertainment\",\"Entertainment\",\"Entertainment\",\"Entertainment\",\"Entertainment\",\"Entertainment\",\"Entertainment\",\"Entertainment\",\"Entertainment\",\"Entertainment\",\"Entertainment\",\"Entertainment\",\"Entertainment\",\"Entertainment\",\"Entertainment\",\"Entertainment\",\"Entertainment\",\"Entertainment\",\"Entertainment\",\"Entertainment\",\"Entertainment\",\"Entertainment\",\"Entertainment\",\"Entertainment\",\"Entertainment\",\"Entertainment\",\"Entertainment\",\"Entertainment\",\"Entertainment\",\"Entertainment\",\"Entertainment\",\"Entertainment\",\"Entertainment\",\"Entertainment\",\"Entertainment\",\"Entertainment\",\"Entertainment\",\"Entertainment\",\"Entertainment\",\"Entertainment\",\"Entertainment\",\"Entertainment\",\"Entertainment\",\"Entertainment\",\"Entertainment\",\"Entertainment\",\"Entertainment\",\"Entertainment\",\"Entertainment\",\"Entertainment\",\"Entertainment\",\"Entertainment\",\"Entertainment\",\"Entertainment\",\"Entertainment\",\"Entertainment\",\"Entertainment\",\"Entertainment\",\"Entertainment\",\"Entertainment\",\"Entertainment\",\"Entertainment\",\"Entertainment\",\"Entertainment\",\"Entertainment\",\"Entertainment\",\"Entertainment\",\"Entertainment\",\"Entertainment\",\"Entertainment\",\"Entertainment\",\"Entertainment\",\"Entertainment\",\"Entertainment\",\"Entertainment\",\"Entertainment\",\"Entertainment\",\"Entertainment\",\"Entertainment\",\"Entertainment\",\"Entertainment\",\"Entertainment\",\"Entertainment\",\"Entertainment\",\"Entertainment\",\"Entertainment\",\"Entertainment\",\"Entertainment\",\"Entertainment\",\"Entertainment\",\"Entertainment\",\"Entertainment\",\"Entertainment\",\"Entertainment\",\"Entertainment\",\"Entertainment\",\"Entertainment\",\"Entertainment\",\"Entertainment\",\"Entertainment\",\"Entertainment\",\"Entertainment\",\"Entertainment\",\"Entertainment\",\"Entertainment\",\"Entertainment\",\"Entertainment\",\"Entertainment\",\"Entertainment\",\"Entertainment\",\"Entertainment\",\"Entertainment\",\"Entertainment\",\"Entertainment\",\"Entertainment\",\"Entertainment\",\"Entertainment\",\"Entertainment\",\"Entertainment\",\"Entertainment\",\"Entertainment\",\"Entertainment\",\"Entertainment\",\"Entertainment\",\"Entertainment\",\"Entertainment\",\"Entertainment\",\"Entertainment\",\"Entertainment\",\"Entertainment\",\"Entertainment\",\"Entertainment\",\"Entertainment\",\"Entertainment\",\"Entertainment\",\"Entertainment\",\"Entertainment\",\"Entertainment\",\"Entertainment\",\"Entertainment\",\"Entertainment\",\"Entertainment\",\"Entertainment\",\"Entertainment\",\"Entertainment\",\"Entertainment\",\"Entertainment\",\"Entertainment\",\"Entertainment\",\"Entertainment\",\"Entertainment\",\"Entertainment\",\"Entertainment\",\"Entertainment\",\"Entertainment\",\"Entertainment\",\"Entertainment\",\"Entertainment\",\"Entertainment\",\"Entertainment\",\"Entertainment\",\"Entertainment\",\"Entertainment\",\"Entertainment\",\"Entertainment\",\"Entertainment\",\"Entertainment\",\"Entertainment\",\"Entertainment\",\"Entertainment\",\"Entertainment\",\"Entertainment\",\"Entertainment\",\"Entertainment\",\"Entertainment\",\"Entertainment\",\"Entertainment\",\"Entertainment\",\"Entertainment\",\"Entertainment\",\"Entertainment\",\"Entertainment\",\"Entertainment\",\"Entertainment\",\"Entertainment\",\"Entertainment\",\"Entertainment\",\"Entertainment\",\"Entertainment\",\"Entertainment\",\"Entertainment\",\"Entertainment\",\"Entertainment\",\"Entertainment\",\"Entertainment\",\"Entertainment\",\"Entertainment\",\"Entertainment\",\"Entertainment\",\"Entertainment\",\"Entertainment\",\"Entertainment\",\"Entertainment\",\"Entertainment\",\"Entertainment\",\"Entertainment\",\"Entertainment\",\"Entertainment\",\"Entertainment\",\"Entertainment\",\"Entertainment\",\"Entertainment\",\"Entertainment\",\"Entertainment\",\"Entertainment\",\"Entertainment\",\"Entertainment\",\"Entertainment\",\"Entertainment\",\"Entertainment\",\"Entertainment\",\"Entertainment\",\"Entertainment\",\"Entertainment\",\"Entertainment\",\"Entertainment\",\"Entertainment\",\"Entertainment\",\"Entertainment\",\"Entertainment\",\"Entertainment\",\"Entertainment\",\"Entertainment\",\"Entertainment\",\"Entertainment\",\"Entertainment\",\"Entertainment\",\"Entertainment\",\"Entertainment\",\"Entertainment\",\"Entertainment\",\"Entertainment\",\"Entertainment\",\"Entertainment\",\"Entertainment\",\"Entertainment\",\"Entertainment\",\"Entertainment\",\"Entertainment\",\"Entertainment\",\"Entertainment\",\"Entertainment\",\"Entertainment\",\"Entertainment\",\"Entertainment\",\"Entertainment\",\"Entertainment\",\"Entertainment\",\"Entertainment\",\"Entertainment\",\"Entertainment\",\"Entertainment\",\"Entertainment\",\"Entertainment\",\"Entertainment\",\"Entertainment\",\"Entertainment\",\"Entertainment\",\"Entertainment\",\"Entertainment\",\"Entertainment\",\"Entertainment\",\"Entertainment\",\"Entertainment\",\"Entertainment\",\"Entertainment\",\"Entertainment\",\"Entertainment\",\"Entertainment\",\"Entertainment\",\"Entertainment\",\"Entertainment\",\"Entertainment\",\"Entertainment\",\"Entertainment\",\"Entertainment\",\"Entertainment\",\"Entertainment\",\"Entertainment\",\"Entertainment\",\"Entertainment\",\"Entertainment\",\"Entertainment\",\"Entertainment\",\"Entertainment\",\"Entertainment\",\"Entertainment\",\"Entertainment\",\"Entertainment\",\"Entertainment\",\"Entertainment\",\"Entertainment\",\"Entertainment\",\"Entertainment\",\"Entertainment\",\"Entertainment\",\"Entertainment\",\"Entertainment\",\"Entertainment\",\"Entertainment\",\"Entertainment\",\"Entertainment\",\"Entertainment\",\"Entertainment\",\"Entertainment\",\"Entertainment\",\"Entertainment\",\"Entertainment\",\"Entertainment\",\"Entertainment\",\"Entertainment\",\"Entertainment\",\"Entertainment\",\"Entertainment\",\"Entertainment\",\"Entertainment\",\"Entertainment\",\"Entertainment\",\"Entertainment\",\"Entertainment\",\"Entertainment\",\"Entertainment\",\"Entertainment\",\"Entertainment\",\"Entertainment\",\"Entertainment\",\"Entertainment\",\"Entertainment\",\"Entertainment\",\"Entertainment\",\"Entertainment\",\"Entertainment\",\"Entertainment\",\"Entertainment\",\"Entertainment\",\"Entertainment\",\"Entertainment\",\"Entertainment\",\"Entertainment\",\"Entertainment\",\"Entertainment\",\"Entertainment\",\"Entertainment\",\"Entertainment\",\"Entertainment\",\"Entertainment\",\"Entertainment\",\"Entertainment\",\"Entertainment\",\"Entertainment\",\"Entertainment\",\"Entertainment\",\"Entertainment\",\"Entertainment\",\"Entertainment\",\"Entertainment\",\"Entertainment\",\"Entertainment\",\"Entertainment\",\"Entertainment\",\"Entertainment\",\"Entertainment\",\"Entertainment\",\"Entertainment\",\"Entertainment\",\"Entertainment\",\"Entertainment\",\"Entertainment\",\"Entertainment\",\"Entertainment\",\"Entertainment\",\"Entertainment\",\"Entertainment\",\"Entertainment\",\"Entertainment\",\"Entertainment\",\"Entertainment\",\"Entertainment\",\"Entertainment\",\"Entertainment\",\"Entertainment\",\"Entertainment\",\"Entertainment\",\"Entertainment\",\"Entertainment\",\"Entertainment\",\"Entertainment\",\"Entertainment\",\"Entertainment\",\"Entertainment\",\"Entertainment\",\"Entertainment\",\"Entertainment\",\"Entertainment\",\"Entertainment\",\"Entertainment\",\"Entertainment\",\"Entertainment\",\"Entertainment\",\"Entertainment\",\"Entertainment\",\"Entertainment\",\"Entertainment\",\"Entertainment\",\"Entertainment\",\"Entertainment\",\"Entertainment\",\"Entertainment\",\"Entertainment\",\"Entertainment\",\"Entertainment\",\"Entertainment\",\"Entertainment\",\"Entertainment\",\"Entertainment\",\"Entertainment\",\"Entertainment\",\"Entertainment\",\"Entertainment\",\"Entertainment\",\"Entertainment\",\"Entertainment\",\"Entertainment\",\"Entertainment\",\"Entertainment\",\"Entertainment\",\"Entertainment\",\"Entertainment\",\"Entertainment\",\"Entertainment\",\"Entertainment\",\"Entertainment\",\"Entertainment\",\"Entertainment\",\"Entertainment\",\"Entertainment\",\"Entertainment\",\"Entertainment\",\"Entertainment\",\"Entertainment\",\"Entertainment\",\"Entertainment\",\"Entertainment\",\"Entertainment\",\"Entertainment\",\"Entertainment\",\"Entertainment\",\"Entertainment\",\"Entertainment\",\"Entertainment\",\"Entertainment\",\"Entertainment\",\"Entertainment\",\"Entertainment\",\"Entertainment\",\"Entertainment\",\"Entertainment\",\"Entertainment\",\"Entertainment\",\"Entertainment\",\"Entertainment\",\"Entertainment\",\"Entertainment\",\"Entertainment\",\"Entertainment\",\"Entertainment\",\"Entertainment\",\"Entertainment\",\"Entertainment\",\"Entertainment\",\"Entertainment\",\"Entertainment\",\"Entertainment\",\"Entertainment\",\"Entertainment\",\"Entertainment\",\"Entertainment\",\"Entertainment\",\"Entertainment\",\"Entertainment\",\"Entertainment\",\"Entertainment\",\"Entertainment\",\"Entertainment\",\"Entertainment\",\"Entertainment\",\"Entertainment\",\"Entertainment\",\"Entertainment\",\"Entertainment\",\"Entertainment\",\"Entertainment\",\"Entertainment\",\"Entertainment\",\"Entertainment\",\"Entertainment\",\"Entertainment\",\"Entertainment\",\"Entertainment\",\"Entertainment\",\"Entertainment\",\"Entertainment\",\"Entertainment\",\"Entertainment\",\"Entertainment\",\"Entertainment\",\"Entertainment\",\"Entertainment\",\"Entertainment\",\"Entertainment\",\"Entertainment\",\"Entertainment\",\"Entertainment\",\"Entertainment\",\"Entertainment\",\"Entertainment\",\"Entertainment\",\"Entertainment\",\"Entertainment\",\"Entertainment\",\"Entertainment\",\"Entertainment\",\"Entertainment\",\"Entertainment\",\"Entertainment\",\"Entertainment\",\"Entertainment\",\"Entertainment\",\"Entertainment\",\"Entertainment\",\"Entertainment\",\"Entertainment\",\"Entertainment\",\"Entertainment\",\"Entertainment\",\"Entertainment\",\"Entertainment\",\"Entertainment\",\"Entertainment\",\"Entertainment\",\"Entertainment\",\"Entertainment\",\"Entertainment\",\"Entertainment\",\"Entertainment\",\"Entertainment\",\"Entertainment\",\"Entertainment\",\"Entertainment\",\"Entertainment\",\"Entertainment\",\"Entertainment\",\"Entertainment\",\"Entertainment\",\"Entertainment\",\"Entertainment\",\"Entertainment\",\"Entertainment\",\"Entertainment\",\"Entertainment\",\"Entertainment\",\"Entertainment\",\"Entertainment\",\"Entertainment\",\"Entertainment\",\"Entertainment\",\"Entertainment\",\"Entertainment\",\"Entertainment\",\"Entertainment\",\"Entertainment\",\"Entertainment\",\"Entertainment\",\"Entertainment\",\"Entertainment\",\"Entertainment\",\"Entertainment\",\"Entertainment\",\"Entertainment\",\"Entertainment\",\"Entertainment\",\"Entertainment\",\"Entertainment\",\"Entertainment\",\"Entertainment\",\"Entertainment\",\"Entertainment\",\"Entertainment\",\"Entertainment\",\"Entertainment\",\"Entertainment\",\"Entertainment\",\"Entertainment\",\"Entertainment\",\"Entertainment\",\"Entertainment\",\"Entertainment\",\"Entertainment\",\"Entertainment\",\"Entertainment\",\"Entertainment\",\"Entertainment\",\"Entertainment\",\"Entertainment\",\"Entertainment\"],\"yaxis\":\"y\",\"type\":\"histogram\"},{\"alignmentgroup\":\"True\",\"bingroup\":\"y\",\"hovertemplate\":\"Sec_Genres=Events<br>count=%{x}<br>Main_Genres=%{y}<extra></extra>\",\"legendgroup\":\"Events\",\"marker\":{\"color\":\"#19d3f3\",\"opacity\":1,\"pattern\":{\"shape\":\"\"}},\"name\":\"Events\",\"offsetgroup\":\"Events\",\"orientation\":\"h\",\"showlegend\":true,\"xaxis\":\"x\",\"y\":[\"Events\",\"Events\",\"Events\",\"Events\",\"Events\",\"Events\",\"Events\",\"Events\",\"Events\",\"Events\",\"Events\",\"Events\",\"Events\",\"Events\",\"Events\",\"Events\",\"Events\",\"Events\",\"Events\",\"Events\",\"Events\",\"Events\",\"Events\",\"Events\",\"Events\",\"Events\",\"Events\",\"Events\",\"Events\",\"Events\",\"Events\",\"Events\",\"Events\",\"Events\",\"Events\",\"Events\",\"Events\",\"Events\",\"Events\",\"Events\",\"Events\",\"Events\",\"Events\",\"Events\",\"Events\",\"Events\",\"Events\",\"Events\",\"Events\",\"Events\",\"Events\",\"Events\",\"Events\",\"Events\",\"Events\",\"Events\",\"Events\",\"Events\",\"Events\",\"Events\",\"Events\",\"Events\",\"Events\",\"Events\"],\"yaxis\":\"y\",\"type\":\"histogram\"},{\"alignmentgroup\":\"True\",\"bingroup\":\"y\",\"hovertemplate\":\"Sec_Genres=Finance<br>count=%{x}<br>Main_Genres=%{y}<extra></extra>\",\"legendgroup\":\"Finance\",\"marker\":{\"color\":\"#FF6692\",\"opacity\":1,\"pattern\":{\"shape\":\"\"}},\"name\":\"Finance\",\"offsetgroup\":\"Finance\",\"orientation\":\"h\",\"showlegend\":true,\"xaxis\":\"x\",\"y\":[\"Finance\",\"Finance\",\"Finance\",\"Finance\",\"Finance\",\"Finance\",\"Finance\",\"Finance\",\"Finance\",\"Finance\",\"Finance\",\"Finance\",\"Finance\",\"Finance\",\"Finance\",\"Finance\",\"Finance\",\"Finance\",\"Finance\",\"Finance\",\"Finance\",\"Finance\",\"Finance\",\"Finance\",\"Finance\",\"Finance\",\"Finance\",\"Finance\",\"Finance\",\"Finance\",\"Finance\",\"Finance\",\"Finance\",\"Finance\",\"Finance\",\"Finance\",\"Finance\",\"Finance\",\"Finance\",\"Finance\",\"Finance\",\"Finance\",\"Finance\",\"Finance\",\"Finance\",\"Finance\",\"Finance\",\"Finance\",\"Finance\",\"Finance\",\"Finance\",\"Finance\",\"Finance\",\"Finance\",\"Finance\",\"Finance\",\"Finance\",\"Finance\",\"Finance\",\"Finance\",\"Finance\",\"Finance\",\"Finance\",\"Finance\",\"Finance\",\"Finance\",\"Finance\",\"Finance\",\"Finance\",\"Finance\",\"Finance\",\"Finance\",\"Finance\",\"Finance\",\"Finance\",\"Finance\",\"Finance\",\"Finance\",\"Finance\",\"Finance\",\"Finance\",\"Finance\",\"Finance\",\"Finance\",\"Finance\",\"Finance\",\"Finance\",\"Finance\",\"Finance\",\"Finance\",\"Finance\",\"Finance\",\"Finance\",\"Finance\",\"Finance\",\"Finance\",\"Finance\",\"Finance\",\"Finance\",\"Finance\",\"Finance\",\"Finance\",\"Finance\",\"Finance\",\"Finance\",\"Finance\",\"Finance\",\"Finance\",\"Finance\",\"Finance\",\"Finance\",\"Finance\",\"Finance\",\"Finance\",\"Finance\",\"Finance\",\"Finance\",\"Finance\",\"Finance\",\"Finance\",\"Finance\",\"Finance\",\"Finance\",\"Finance\",\"Finance\",\"Finance\",\"Finance\",\"Finance\",\"Finance\",\"Finance\",\"Finance\",\"Finance\",\"Finance\",\"Finance\",\"Finance\",\"Finance\",\"Finance\",\"Finance\",\"Finance\",\"Finance\",\"Finance\",\"Finance\",\"Finance\",\"Finance\",\"Finance\",\"Finance\",\"Finance\",\"Finance\",\"Finance\",\"Finance\",\"Finance\",\"Finance\",\"Finance\",\"Finance\",\"Finance\",\"Finance\",\"Finance\",\"Finance\",\"Finance\",\"Finance\",\"Finance\",\"Finance\",\"Finance\",\"Finance\",\"Finance\",\"Finance\",\"Finance\",\"Finance\",\"Finance\",\"Finance\",\"Finance\",\"Finance\",\"Finance\",\"Finance\",\"Finance\",\"Finance\",\"Finance\",\"Finance\",\"Finance\",\"Finance\",\"Finance\",\"Finance\",\"Finance\",\"Finance\",\"Finance\",\"Finance\",\"Finance\",\"Finance\",\"Finance\",\"Finance\",\"Finance\",\"Finance\",\"Finance\",\"Finance\",\"Finance\",\"Finance\",\"Finance\",\"Finance\",\"Finance\",\"Finance\",\"Finance\",\"Finance\",\"Finance\",\"Finance\",\"Finance\",\"Finance\",\"Finance\",\"Finance\",\"Finance\",\"Finance\",\"Finance\",\"Finance\",\"Finance\",\"Finance\",\"Finance\",\"Finance\",\"Finance\",\"Finance\",\"Finance\",\"Finance\",\"Finance\",\"Finance\",\"Finance\",\"Finance\",\"Finance\",\"Finance\",\"Finance\",\"Finance\",\"Finance\",\"Finance\",\"Finance\",\"Finance\",\"Finance\",\"Finance\",\"Finance\",\"Finance\",\"Finance\",\"Finance\",\"Finance\",\"Finance\",\"Finance\",\"Finance\",\"Finance\",\"Finance\",\"Finance\",\"Finance\",\"Finance\",\"Finance\",\"Finance\",\"Finance\",\"Finance\",\"Finance\",\"Finance\",\"Finance\",\"Finance\",\"Finance\",\"Finance\",\"Finance\",\"Finance\",\"Finance\",\"Finance\",\"Finance\",\"Finance\",\"Finance\",\"Finance\",\"Finance\",\"Finance\",\"Finance\",\"Finance\",\"Finance\",\"Finance\",\"Finance\",\"Finance\",\"Finance\",\"Finance\",\"Finance\",\"Finance\",\"Finance\",\"Finance\",\"Finance\",\"Finance\",\"Finance\",\"Finance\",\"Finance\",\"Finance\",\"Finance\",\"Finance\",\"Finance\",\"Finance\",\"Finance\",\"Finance\",\"Finance\",\"Finance\",\"Finance\",\"Finance\",\"Finance\",\"Finance\",\"Finance\",\"Finance\",\"Finance\",\"Finance\",\"Finance\",\"Finance\",\"Finance\",\"Finance\",\"Finance\",\"Finance\",\"Finance\",\"Finance\",\"Finance\",\"Finance\",\"Finance\",\"Finance\",\"Finance\",\"Finance\",\"Finance\",\"Finance\",\"Finance\",\"Finance\",\"Finance\",\"Finance\",\"Finance\",\"Finance\",\"Finance\",\"Finance\",\"Finance\",\"Finance\",\"Finance\",\"Finance\",\"Finance\",\"Finance\",\"Finance\",\"Finance\",\"Finance\",\"Finance\",\"Finance\",\"Finance\",\"Finance\",\"Finance\",\"Finance\",\"Finance\",\"Finance\",\"Finance\",\"Finance\",\"Finance\",\"Finance\",\"Finance\",\"Finance\",\"Finance\",\"Finance\",\"Finance\",\"Finance\",\"Finance\",\"Finance\",\"Finance\",\"Finance\",\"Finance\",\"Finance\",\"Finance\",\"Finance\",\"Finance\",\"Finance\",\"Finance\",\"Finance\",\"Finance\",\"Finance\"],\"yaxis\":\"y\",\"type\":\"histogram\"},{\"alignmentgroup\":\"True\",\"bingroup\":\"y\",\"hovertemplate\":\"Sec_Genres=Food & Drink<br>count=%{x}<br>Main_Genres=%{y}<extra></extra>\",\"legendgroup\":\"Food & Drink\",\"marker\":{\"color\":\"#B6E880\",\"opacity\":1,\"pattern\":{\"shape\":\"\"}},\"name\":\"Food & Drink\",\"offsetgroup\":\"Food & Drink\",\"orientation\":\"h\",\"showlegend\":true,\"xaxis\":\"x\",\"y\":[\"Food & Drink\",\"Food & Drink\",\"Food & Drink\",\"Food & Drink\",\"Food & Drink\",\"Food & Drink\",\"Food & Drink\",\"Food & Drink\",\"Food & Drink\",\"Food & Drink\",\"Food & Drink\",\"Food & Drink\",\"Food & Drink\",\"Food & Drink\",\"Food & Drink\",\"Food & Drink\",\"Food & Drink\",\"Food & Drink\",\"Food & Drink\",\"Food & Drink\",\"Food & Drink\",\"Food & Drink\",\"Food & Drink\",\"Food & Drink\",\"Food & Drink\",\"Food & Drink\",\"Food & Drink\",\"Food & Drink\",\"Food & Drink\",\"Food & Drink\",\"Food & Drink\",\"Food & Drink\",\"Food & Drink\",\"Food & Drink\",\"Food & Drink\",\"Food & Drink\",\"Food & Drink\",\"Food & Drink\",\"Food & Drink\",\"Food & Drink\",\"Food & Drink\",\"Food & Drink\",\"Food & Drink\",\"Food & Drink\",\"Food & Drink\",\"Food & Drink\",\"Food & Drink\",\"Food & Drink\",\"Food & Drink\",\"Food & Drink\",\"Food & Drink\",\"Food & Drink\",\"Food & Drink\",\"Food & Drink\",\"Food & Drink\",\"Food & Drink\",\"Food & Drink\",\"Food & Drink\",\"Food & Drink\",\"Food & Drink\",\"Food & Drink\",\"Food & Drink\",\"Food & Drink\",\"Food & Drink\",\"Food & Drink\",\"Food & Drink\",\"Food & Drink\",\"Food & Drink\",\"Food & Drink\",\"Food & Drink\",\"Food & Drink\",\"Food & Drink\",\"Food & Drink\",\"Food & Drink\",\"Food & Drink\",\"Food & Drink\",\"Food & Drink\",\"Food & Drink\",\"Food & Drink\",\"Food & Drink\",\"Food & Drink\",\"Food & Drink\",\"Food & Drink\",\"Food & Drink\",\"Food & Drink\",\"Food & Drink\",\"Food & Drink\",\"Food & Drink\",\"Food & Drink\",\"Food & Drink\",\"Food & Drink\",\"Food & Drink\",\"Food & Drink\",\"Food & Drink\",\"Food & Drink\",\"Food & Drink\",\"Food & Drink\",\"Food & Drink\",\"Food & Drink\",\"Food & Drink\",\"Food & Drink\",\"Food & Drink\",\"Food & Drink\",\"Food & Drink\",\"Food & Drink\",\"Food & Drink\",\"Food & Drink\",\"Food & Drink\",\"Food & Drink\",\"Food & Drink\",\"Food & Drink\",\"Food & Drink\",\"Food & Drink\",\"Food & Drink\",\"Food & Drink\",\"Food & Drink\",\"Food & Drink\",\"Food & Drink\",\"Food & Drink\",\"Food & Drink\",\"Food & Drink\",\"Food & Drink\",\"Food & Drink\",\"Food & Drink\",\"Food & Drink\",\"Food & Drink\",\"Food & Drink\"],\"yaxis\":\"y\",\"type\":\"histogram\"},{\"alignmentgroup\":\"True\",\"bingroup\":\"y\",\"hovertemplate\":\"Sec_Genres=Health & Fitness<br>count=%{x}<br>Main_Genres=%{y}<extra></extra>\",\"legendgroup\":\"Health & Fitness\",\"marker\":{\"color\":\"#FF97FF\",\"opacity\":1,\"pattern\":{\"shape\":\"\"}},\"name\":\"Health & Fitness\",\"offsetgroup\":\"Health & Fitness\",\"orientation\":\"h\",\"showlegend\":true,\"xaxis\":\"x\",\"y\":[\"Health & Fitness\",\"Health & Fitness\",\"Health & Fitness\",\"Health & Fitness\",\"Health & Fitness\",\"Health & Fitness\",\"Health & Fitness\",\"Health & Fitness\",\"Health & Fitness\",\"Health & Fitness\",\"Health & Fitness\",\"Health & Fitness\",\"Health & Fitness\",\"Health & Fitness\",\"Health & Fitness\",\"Health & Fitness\",\"Health & Fitness\",\"Health & Fitness\",\"Health & Fitness\",\"Health & Fitness\",\"Health & Fitness\",\"Health & Fitness\",\"Health & Fitness\",\"Health & Fitness\",\"Health & Fitness\",\"Health & Fitness\",\"Health & Fitness\",\"Health & Fitness\",\"Health & Fitness\",\"Health & Fitness\",\"Health & Fitness\",\"Health & Fitness\",\"Health & Fitness\",\"Health & Fitness\",\"Health & Fitness\",\"Health & Fitness\",\"Health & Fitness\",\"Health & Fitness\",\"Health & Fitness\",\"Health & Fitness\",\"Health & Fitness\",\"Health & Fitness\",\"Health & Fitness\",\"Health & Fitness\",\"Health & Fitness\",\"Health & Fitness\",\"Health & Fitness\",\"Health & Fitness\",\"Health & Fitness\",\"Health & Fitness\",\"Health & Fitness\",\"Health & Fitness\",\"Health & Fitness\",\"Health & Fitness\",\"Health & Fitness\",\"Health & Fitness\",\"Health & Fitness\",\"Health & Fitness\",\"Health & Fitness\",\"Health & Fitness\",\"Health & Fitness\",\"Health & Fitness\",\"Health & Fitness\",\"Health & Fitness\",\"Health & Fitness\",\"Health & Fitness\",\"Health & Fitness\",\"Health & Fitness\",\"Health & Fitness\",\"Health & Fitness\",\"Health & Fitness\",\"Health & Fitness\",\"Health & Fitness\",\"Health & Fitness\",\"Health & Fitness\",\"Health & Fitness\",\"Health & Fitness\",\"Health & Fitness\",\"Health & Fitness\",\"Health & Fitness\",\"Health & Fitness\",\"Health & Fitness\",\"Health & Fitness\",\"Health & Fitness\",\"Health & Fitness\",\"Health & Fitness\",\"Health & Fitness\",\"Health & Fitness\",\"Health & Fitness\",\"Health & Fitness\",\"Health & Fitness\",\"Health & Fitness\",\"Health & Fitness\",\"Health & Fitness\",\"Health & Fitness\",\"Health & Fitness\",\"Health & Fitness\",\"Health & Fitness\",\"Health & Fitness\",\"Health & Fitness\",\"Health & Fitness\",\"Health & Fitness\",\"Health & Fitness\",\"Health & Fitness\",\"Health & Fitness\",\"Health & Fitness\",\"Health & Fitness\",\"Health & Fitness\",\"Health & Fitness\",\"Health & Fitness\",\"Health & Fitness\",\"Health & Fitness\",\"Health & Fitness\",\"Health & Fitness\",\"Health & Fitness\",\"Health & Fitness\",\"Health & Fitness\",\"Health & Fitness\",\"Health & Fitness\",\"Health & Fitness\",\"Health & Fitness\",\"Health & Fitness\",\"Health & Fitness\",\"Health & Fitness\",\"Health & Fitness\",\"Health & Fitness\",\"Health & Fitness\",\"Health & Fitness\",\"Health & Fitness\",\"Health & Fitness\",\"Health & Fitness\",\"Health & Fitness\",\"Health & Fitness\",\"Health & Fitness\",\"Health & Fitness\",\"Health & Fitness\",\"Health & Fitness\",\"Health & Fitness\",\"Health & Fitness\",\"Health & Fitness\",\"Health & Fitness\",\"Health & Fitness\",\"Health & Fitness\",\"Health & Fitness\",\"Health & Fitness\",\"Health & Fitness\",\"Health & Fitness\",\"Health & Fitness\",\"Health & Fitness\",\"Health & Fitness\",\"Health & Fitness\",\"Health & Fitness\",\"Health & Fitness\",\"Health & Fitness\",\"Health & Fitness\",\"Health & Fitness\",\"Health & Fitness\",\"Health & Fitness\",\"Health & Fitness\",\"Health & Fitness\",\"Health & Fitness\",\"Health & Fitness\",\"Health & Fitness\",\"Health & Fitness\",\"Health & Fitness\",\"Health & Fitness\",\"Health & Fitness\",\"Health & Fitness\",\"Health & Fitness\",\"Health & Fitness\",\"Health & Fitness\",\"Health & Fitness\",\"Health & Fitness\",\"Health & Fitness\",\"Health & Fitness\",\"Health & Fitness\",\"Health & Fitness\",\"Health & Fitness\",\"Health & Fitness\",\"Health & Fitness\",\"Health & Fitness\",\"Health & Fitness\",\"Health & Fitness\",\"Health & Fitness\",\"Health & Fitness\",\"Health & Fitness\",\"Health & Fitness\",\"Health & Fitness\",\"Health & Fitness\",\"Health & Fitness\",\"Health & Fitness\",\"Health & Fitness\",\"Health & Fitness\",\"Health & Fitness\",\"Health & Fitness\",\"Health & Fitness\",\"Health & Fitness\",\"Health & Fitness\",\"Health & Fitness\",\"Health & Fitness\",\"Health & Fitness\",\"Health & Fitness\",\"Health & Fitness\",\"Health & Fitness\",\"Health & Fitness\",\"Health & Fitness\",\"Health & Fitness\",\"Health & Fitness\",\"Health & Fitness\",\"Health & Fitness\",\"Health & Fitness\",\"Health & Fitness\",\"Health & Fitness\",\"Health & Fitness\",\"Health & Fitness\",\"Health & Fitness\",\"Health & Fitness\",\"Health & Fitness\",\"Health & Fitness\",\"Health & Fitness\",\"Health & Fitness\",\"Health & Fitness\",\"Health & Fitness\",\"Health & Fitness\",\"Health & Fitness\",\"Health & Fitness\",\"Health & Fitness\",\"Health & Fitness\",\"Health & Fitness\",\"Health & Fitness\",\"Health & Fitness\",\"Health & Fitness\",\"Health & Fitness\",\"Health & Fitness\",\"Health & Fitness\",\"Health & Fitness\",\"Health & Fitness\",\"Health & Fitness\",\"Health & Fitness\",\"Health & Fitness\",\"Health & Fitness\",\"Health & Fitness\",\"Health & Fitness\",\"Health & Fitness\",\"Health & Fitness\",\"Health & Fitness\",\"Health & Fitness\",\"Health & Fitness\",\"Health & Fitness\",\"Health & Fitness\",\"Health & Fitness\",\"Health & Fitness\",\"Health & Fitness\",\"Health & Fitness\",\"Health & Fitness\",\"Health & Fitness\",\"Health & Fitness\",\"Health & Fitness\",\"Health & Fitness\",\"Health & Fitness\",\"Health & Fitness\",\"Health & Fitness\",\"Health & Fitness\",\"Health & Fitness\",\"Health & Fitness\",\"Health & Fitness\",\"Health & Fitness\",\"Health & Fitness\",\"Health & Fitness\",\"Health & Fitness\",\"Health & Fitness\",\"Health & Fitness\",\"Health & Fitness\",\"Health & Fitness\",\"Health & Fitness\",\"Health & Fitness\",\"Health & Fitness\",\"Health & Fitness\",\"Health & Fitness\",\"Health & Fitness\",\"Health & Fitness\",\"Health & Fitness\",\"Health & Fitness\",\"Health & Fitness\",\"Health & Fitness\",\"Health & Fitness\",\"Health & Fitness\",\"Health & Fitness\",\"Health & Fitness\",\"Health & Fitness\",\"Health & Fitness\",\"Health & Fitness\",\"Health & Fitness\",\"Health & Fitness\",\"Health & Fitness\",\"Health & Fitness\",\"Health & Fitness\",\"Health & Fitness\",\"Health & Fitness\",\"Health & Fitness\",\"Health & Fitness\",\"Health & Fitness\",\"Health & Fitness\",\"Health & Fitness\",\"Health & Fitness\",\"Health & Fitness\",\"Health & Fitness\",\"Health & Fitness\",\"Health & Fitness\",\"Health & Fitness\",\"Health & Fitness\",\"Health & Fitness\",\"Health & Fitness\",\"Health & Fitness\",\"Health & Fitness\",\"Health & Fitness\",\"Health & Fitness\",\"Health & Fitness\",\"Health & Fitness\",\"Health & Fitness\",\"Health & Fitness\",\"Health & Fitness\",\"Health & Fitness\",\"Health & Fitness\",\"Health & Fitness\",\"Health & Fitness\",\"Health & Fitness\",\"Health & Fitness\",\"Health & Fitness\",\"Health & Fitness\",\"Health & Fitness\",\"Health & Fitness\",\"Health & Fitness\",\"Health & Fitness\",\"Health & Fitness\",\"Health & Fitness\",\"Health & Fitness\",\"Health & Fitness\",\"Health & Fitness\",\"Health & Fitness\",\"Health & Fitness\"],\"yaxis\":\"y\",\"type\":\"histogram\"},{\"alignmentgroup\":\"True\",\"bingroup\":\"y\",\"hovertemplate\":\"Sec_Genres=House & Home<br>count=%{x}<br>Main_Genres=%{y}<extra></extra>\",\"legendgroup\":\"House & Home\",\"marker\":{\"color\":\"#FECB52\",\"opacity\":1,\"pattern\":{\"shape\":\"\"}},\"name\":\"House & Home\",\"offsetgroup\":\"House & Home\",\"orientation\":\"h\",\"showlegend\":true,\"xaxis\":\"x\",\"y\":[\"House & Home\",\"House & Home\",\"House & Home\",\"House & Home\",\"House & Home\",\"House & Home\",\"House & Home\",\"House & Home\",\"House & Home\",\"House & Home\",\"House & Home\",\"House & Home\",\"House & Home\",\"House & Home\",\"House & Home\",\"House & Home\",\"House & Home\",\"House & Home\",\"House & Home\",\"House & Home\",\"House & Home\",\"House & Home\",\"House & Home\",\"House & Home\",\"House & Home\",\"House & Home\",\"House & Home\",\"House & Home\",\"House & Home\",\"House & Home\",\"House & Home\",\"House & Home\",\"House & Home\",\"House & Home\",\"House & Home\",\"House & Home\",\"House & Home\",\"House & Home\",\"House & Home\",\"House & Home\",\"House & Home\",\"House & Home\",\"House & Home\",\"House & Home\",\"House & Home\",\"House & Home\",\"House & Home\",\"House & Home\",\"House & Home\",\"House & Home\",\"House & Home\",\"House & Home\",\"House & Home\",\"House & Home\",\"House & Home\",\"House & Home\",\"House & Home\",\"House & Home\",\"House & Home\",\"House & Home\",\"House & Home\",\"House & Home\",\"House & Home\",\"House & Home\",\"House & Home\",\"House & Home\",\"House & Home\",\"House & Home\",\"House & Home\",\"House & Home\",\"House & Home\",\"House & Home\",\"House & Home\",\"House & Home\",\"House & Home\",\"House & Home\",\"House & Home\",\"House & Home\",\"House & Home\",\"House & Home\",\"House & Home\",\"House & Home\",\"House & Home\",\"House & Home\",\"House & Home\",\"House & Home\",\"House & Home\",\"House & Home\"],\"yaxis\":\"y\",\"type\":\"histogram\"},{\"alignmentgroup\":\"True\",\"bingroup\":\"y\",\"hovertemplate\":\"Sec_Genres=Libraries & Demo<br>count=%{x}<br>Main_Genres=%{y}<extra></extra>\",\"legendgroup\":\"Libraries & Demo\",\"marker\":{\"color\":\"#636efa\",\"opacity\":1,\"pattern\":{\"shape\":\"\"}},\"name\":\"Libraries & Demo\",\"offsetgroup\":\"Libraries & Demo\",\"orientation\":\"h\",\"showlegend\":true,\"xaxis\":\"x\",\"y\":[\"Libraries & Demo\",\"Libraries & Demo\",\"Libraries & Demo\",\"Libraries & Demo\",\"Libraries & Demo\",\"Libraries & Demo\",\"Libraries & Demo\",\"Libraries & Demo\",\"Libraries & Demo\",\"Libraries & Demo\",\"Libraries & Demo\",\"Libraries & Demo\",\"Libraries & Demo\",\"Libraries & Demo\",\"Libraries & Demo\",\"Libraries & Demo\",\"Libraries & Demo\",\"Libraries & Demo\",\"Libraries & Demo\",\"Libraries & Demo\",\"Libraries & Demo\",\"Libraries & Demo\",\"Libraries & Demo\",\"Libraries & Demo\",\"Libraries & Demo\",\"Libraries & Demo\",\"Libraries & Demo\",\"Libraries & Demo\",\"Libraries & Demo\",\"Libraries & Demo\",\"Libraries & Demo\",\"Libraries & Demo\",\"Libraries & Demo\",\"Libraries & Demo\",\"Libraries & Demo\",\"Libraries & Demo\",\"Libraries & Demo\",\"Libraries & Demo\",\"Libraries & Demo\",\"Libraries & Demo\",\"Libraries & Demo\",\"Libraries & Demo\",\"Libraries & Demo\",\"Libraries & Demo\",\"Libraries & Demo\",\"Libraries & Demo\",\"Libraries & Demo\",\"Libraries & Demo\",\"Libraries & Demo\",\"Libraries & Demo\",\"Libraries & Demo\",\"Libraries & Demo\",\"Libraries & Demo\",\"Libraries & Demo\",\"Libraries & Demo\",\"Libraries & Demo\",\"Libraries & Demo\",\"Libraries & Demo\",\"Libraries & Demo\",\"Libraries & Demo\",\"Libraries & Demo\",\"Libraries & Demo\",\"Libraries & Demo\",\"Libraries & Demo\",\"Libraries & Demo\",\"Libraries & Demo\",\"Libraries & Demo\",\"Libraries & Demo\",\"Libraries & Demo\",\"Libraries & Demo\",\"Libraries & Demo\",\"Libraries & Demo\",\"Libraries & Demo\",\"Libraries & Demo\",\"Libraries & Demo\",\"Libraries & Demo\",\"Libraries & Demo\",\"Libraries & Demo\",\"Libraries & Demo\",\"Libraries & Demo\",\"Libraries & Demo\",\"Libraries & Demo\",\"Libraries & Demo\",\"Libraries & Demo\",\"Libraries & Demo\"],\"yaxis\":\"y\",\"type\":\"histogram\"},{\"alignmentgroup\":\"True\",\"bingroup\":\"y\",\"hovertemplate\":\"Sec_Genres=Lifestyle<br>count=%{x}<br>Main_Genres=%{y}<extra></extra>\",\"legendgroup\":\"Lifestyle\",\"marker\":{\"color\":\"#EF553B\",\"opacity\":1,\"pattern\":{\"shape\":\"\"}},\"name\":\"Lifestyle\",\"offsetgroup\":\"Lifestyle\",\"orientation\":\"h\",\"showlegend\":true,\"xaxis\":\"x\",\"y\":[\"Lifestyle\",\"Lifestyle\",\"Lifestyle\",\"Lifestyle\",\"Lifestyle\",\"Lifestyle\",\"Lifestyle\",\"Lifestyle\",\"Lifestyle\",\"Lifestyle\",\"Lifestyle\",\"Lifestyle\",\"Lifestyle\",\"Lifestyle\",\"Lifestyle\",\"Lifestyle\",\"Lifestyle\",\"Lifestyle\",\"Lifestyle\",\"Lifestyle\",\"Lifestyle\",\"Lifestyle\",\"Lifestyle\",\"Lifestyle\",\"Lifestyle\",\"Lifestyle\",\"Lifestyle\",\"Lifestyle\",\"Lifestyle\",\"Lifestyle\",\"Lifestyle\",\"Lifestyle\",\"Lifestyle\",\"Lifestyle\",\"Lifestyle\",\"Lifestyle\",\"Lifestyle\",\"Lifestyle\",\"Lifestyle\",\"Lifestyle\",\"Lifestyle\",\"Lifestyle\",\"Lifestyle\",\"Lifestyle\",\"Lifestyle\",\"Lifestyle\",\"Lifestyle\",\"Lifestyle\",\"Lifestyle\",\"Lifestyle\",\"Lifestyle\",\"Lifestyle\",\"Lifestyle\",\"Lifestyle\",\"Lifestyle\",\"Lifestyle\",\"Lifestyle\",\"Lifestyle\",\"Lifestyle\",\"Lifestyle\",\"Lifestyle\",\"Lifestyle\",\"Lifestyle\",\"Lifestyle\",\"Lifestyle\",\"Lifestyle\",\"Lifestyle\",\"Lifestyle\",\"Lifestyle\",\"Lifestyle\",\"Lifestyle\",\"Lifestyle\",\"Lifestyle\",\"Lifestyle\",\"Lifestyle\",\"Lifestyle\",\"Lifestyle\",\"Lifestyle\",\"Lifestyle\",\"Lifestyle\",\"Lifestyle\",\"Lifestyle\",\"Lifestyle\",\"Lifestyle\",\"Lifestyle\",\"Lifestyle\",\"Lifestyle\",\"Lifestyle\",\"Lifestyle\",\"Lifestyle\",\"Lifestyle\",\"Lifestyle\",\"Lifestyle\",\"Lifestyle\",\"Lifestyle\",\"Lifestyle\",\"Lifestyle\",\"Lifestyle\",\"Lifestyle\",\"Lifestyle\",\"Lifestyle\",\"Lifestyle\",\"Lifestyle\",\"Lifestyle\",\"Lifestyle\",\"Lifestyle\",\"Lifestyle\",\"Lifestyle\",\"Lifestyle\",\"Lifestyle\",\"Lifestyle\",\"Lifestyle\",\"Lifestyle\",\"Lifestyle\",\"Lifestyle\",\"Lifestyle\",\"Lifestyle\",\"Lifestyle\",\"Lifestyle\",\"Lifestyle\",\"Lifestyle\",\"Lifestyle\",\"Lifestyle\",\"Lifestyle\",\"Lifestyle\",\"Lifestyle\",\"Lifestyle\",\"Lifestyle\",\"Lifestyle\",\"Lifestyle\",\"Lifestyle\",\"Lifestyle\",\"Lifestyle\",\"Lifestyle\",\"Lifestyle\",\"Lifestyle\",\"Lifestyle\",\"Lifestyle\",\"Lifestyle\",\"Lifestyle\",\"Lifestyle\",\"Lifestyle\",\"Lifestyle\",\"Lifestyle\",\"Lifestyle\",\"Lifestyle\",\"Lifestyle\",\"Lifestyle\",\"Lifestyle\",\"Lifestyle\",\"Lifestyle\",\"Lifestyle\",\"Lifestyle\",\"Lifestyle\",\"Lifestyle\",\"Lifestyle\",\"Lifestyle\",\"Lifestyle\",\"Lifestyle\",\"Lifestyle\",\"Lifestyle\",\"Lifestyle\",\"Lifestyle\",\"Lifestyle\",\"Lifestyle\",\"Lifestyle\",\"Lifestyle\",\"Lifestyle\",\"Lifestyle\",\"Lifestyle\",\"Lifestyle\",\"Lifestyle\",\"Lifestyle\",\"Lifestyle\",\"Lifestyle\",\"Lifestyle\",\"Lifestyle\",\"Lifestyle\",\"Lifestyle\",\"Lifestyle\",\"Lifestyle\",\"Lifestyle\",\"Lifestyle\",\"Lifestyle\",\"Lifestyle\",\"Lifestyle\",\"Lifestyle\",\"Lifestyle\",\"Lifestyle\",\"Lifestyle\",\"Lifestyle\",\"Lifestyle\",\"Lifestyle\",\"Lifestyle\",\"Lifestyle\",\"Lifestyle\",\"Lifestyle\",\"Lifestyle\",\"Lifestyle\",\"Lifestyle\",\"Lifestyle\",\"Lifestyle\",\"Lifestyle\",\"Lifestyle\",\"Lifestyle\",\"Lifestyle\",\"Lifestyle\",\"Lifestyle\",\"Lifestyle\",\"Lifestyle\",\"Lifestyle\",\"Lifestyle\",\"Lifestyle\",\"Lifestyle\",\"Lifestyle\",\"Lifestyle\",\"Lifestyle\",\"Lifestyle\",\"Lifestyle\",\"Lifestyle\",\"Lifestyle\",\"Lifestyle\",\"Lifestyle\",\"Lifestyle\",\"Lifestyle\",\"Lifestyle\",\"Lifestyle\",\"Lifestyle\",\"Lifestyle\",\"Lifestyle\",\"Lifestyle\",\"Lifestyle\",\"Lifestyle\",\"Lifestyle\",\"Lifestyle\",\"Lifestyle\",\"Lifestyle\",\"Lifestyle\",\"Lifestyle\",\"Lifestyle\",\"Lifestyle\",\"Lifestyle\",\"Lifestyle\",\"Lifestyle\",\"Lifestyle\",\"Lifestyle\",\"Lifestyle\",\"Lifestyle\",\"Lifestyle\",\"Lifestyle\",\"Lifestyle\",\"Lifestyle\",\"Lifestyle\",\"Lifestyle\",\"Lifestyle\",\"Lifestyle\",\"Lifestyle\",\"Lifestyle\",\"Lifestyle\",\"Lifestyle\",\"Lifestyle\",\"Lifestyle\",\"Lifestyle\",\"Lifestyle\",\"Lifestyle\",\"Lifestyle\",\"Lifestyle\",\"Lifestyle\",\"Lifestyle\",\"Lifestyle\",\"Lifestyle\",\"Lifestyle\",\"Lifestyle\",\"Lifestyle\",\"Lifestyle\",\"Lifestyle\",\"Lifestyle\",\"Lifestyle\",\"Lifestyle\",\"Lifestyle\",\"Lifestyle\",\"Lifestyle\",\"Lifestyle\",\"Lifestyle\",\"Lifestyle\",\"Lifestyle\",\"Lifestyle\",\"Lifestyle\",\"Lifestyle\",\"Lifestyle\",\"Lifestyle\",\"Lifestyle\",\"Lifestyle\",\"Lifestyle\",\"Lifestyle\",\"Lifestyle\",\"Lifestyle\",\"Lifestyle\",\"Lifestyle\",\"Lifestyle\",\"Lifestyle\",\"Lifestyle\",\"Lifestyle\",\"Lifestyle\",\"Lifestyle\",\"Lifestyle\",\"Lifestyle\",\"Lifestyle\",\"Lifestyle\",\"Lifestyle\",\"Lifestyle\",\"Lifestyle\",\"Lifestyle\",\"Lifestyle\",\"Lifestyle\",\"Lifestyle\",\"Lifestyle\",\"Lifestyle\",\"Lifestyle\",\"Lifestyle\",\"Lifestyle\",\"Lifestyle\",\"Lifestyle\",\"Lifestyle\",\"Lifestyle\",\"Lifestyle\",\"Lifestyle\",\"Lifestyle\",\"Lifestyle\",\"Lifestyle\",\"Lifestyle\",\"Lifestyle\",\"Lifestyle\",\"Lifestyle\",\"Lifestyle\",\"Lifestyle\",\"Lifestyle\",\"Lifestyle\",\"Lifestyle\",\"Lifestyle\",\"Lifestyle\",\"Lifestyle\",\"Lifestyle\",\"Lifestyle\",\"Lifestyle\",\"Lifestyle\",\"Lifestyle\",\"Lifestyle\",\"Lifestyle\",\"Lifestyle\",\"Lifestyle\",\"Lifestyle\",\"Lifestyle\",\"Lifestyle\",\"Lifestyle\",\"Lifestyle\",\"Lifestyle\",\"Lifestyle\",\"Lifestyle\",\"Lifestyle\",\"Lifestyle\",\"Lifestyle\",\"Lifestyle\",\"Lifestyle\",\"Lifestyle\",\"Lifestyle\",\"Lifestyle\",\"Lifestyle\",\"Lifestyle\",\"Lifestyle\",\"Lifestyle\",\"Lifestyle\",\"Lifestyle\",\"Lifestyle\",\"Lifestyle\",\"Lifestyle\",\"Lifestyle\",\"Lifestyle\",\"Lifestyle\",\"Lifestyle\",\"Lifestyle\"],\"yaxis\":\"y\",\"type\":\"histogram\"},{\"alignmentgroup\":\"True\",\"bingroup\":\"y\",\"hovertemplate\":\"Sec_Genres=Arcade<br>count=%{x}<br>Main_Genres=%{y}<extra></extra>\",\"legendgroup\":\"Arcade\",\"marker\":{\"color\":\"#00cc96\",\"opacity\":1,\"pattern\":{\"shape\":\"\"}},\"name\":\"Arcade\",\"offsetgroup\":\"Arcade\",\"orientation\":\"h\",\"showlegend\":true,\"xaxis\":\"x\",\"y\":[\"Arcade\",\"Arcade\",\"Arcade\",\"Arcade\",\"Arcade\",\"Arcade\",\"Arcade\",\"Arcade\",\"Arcade\",\"Arcade\",\"Arcade\",\"Arcade\",\"Arcade\",\"Arcade\",\"Arcade\",\"Arcade\",\"Arcade\",\"Arcade\",\"Arcade\",\"Arcade\",\"Arcade\",\"Arcade\",\"Arcade\",\"Arcade\",\"Arcade\",\"Arcade\",\"Arcade\",\"Arcade\",\"Arcade\",\"Arcade\",\"Arcade\",\"Arcade\",\"Arcade\",\"Arcade\",\"Arcade\",\"Arcade\",\"Arcade\",\"Arcade\",\"Arcade\",\"Arcade\",\"Arcade\",\"Arcade\",\"Arcade\",\"Arcade\",\"Arcade\",\"Arcade\",\"Arcade\",\"Arcade\",\"Arcade\",\"Arcade\",\"Arcade\",\"Arcade\",\"Arcade\",\"Arcade\",\"Arcade\",\"Arcade\",\"Arcade\",\"Arcade\",\"Arcade\",\"Arcade\",\"Arcade\",\"Arcade\",\"Arcade\",\"Arcade\",\"Arcade\",\"Arcade\",\"Arcade\",\"Arcade\",\"Arcade\",\"Arcade\",\"Arcade\",\"Arcade\",\"Arcade\",\"Arcade\",\"Arcade\",\"Arcade\",\"Arcade\",\"Arcade\",\"Arcade\",\"Arcade\",\"Arcade\",\"Arcade\",\"Arcade\",\"Arcade\",\"Arcade\",\"Arcade\",\"Arcade\",\"Arcade\",\"Arcade\",\"Arcade\",\"Arcade\",\"Arcade\",\"Arcade\",\"Arcade\",\"Arcade\",\"Arcade\",\"Arcade\",\"Arcade\",\"Arcade\",\"Arcade\",\"Arcade\",\"Arcade\",\"Arcade\",\"Arcade\",\"Arcade\",\"Arcade\",\"Arcade\",\"Arcade\",\"Arcade\",\"Arcade\",\"Arcade\",\"Arcade\",\"Arcade\",\"Arcade\",\"Arcade\",\"Arcade\",\"Arcade\",\"Arcade\",\"Arcade\",\"Arcade\",\"Arcade\",\"Arcade\",\"Arcade\",\"Arcade\",\"Arcade\",\"Arcade\",\"Arcade\",\"Arcade\",\"Arcade\",\"Arcade\",\"Arcade\",\"Arcade\",\"Arcade\",\"Arcade\",\"Arcade\",\"Arcade\",\"Arcade\",\"Arcade\",\"Arcade\",\"Arcade\",\"Arcade\",\"Arcade\",\"Arcade\",\"Arcade\",\"Arcade\",\"Arcade\",\"Arcade\",\"Arcade\",\"Arcade\",\"Arcade\",\"Arcade\",\"Arcade\",\"Arcade\",\"Arcade\",\"Arcade\",\"Arcade\",\"Arcade\",\"Arcade\",\"Arcade\",\"Arcade\",\"Arcade\",\"Arcade\",\"Arcade\",\"Arcade\",\"Arcade\",\"Arcade\",\"Arcade\",\"Arcade\",\"Arcade\",\"Arcade\",\"Arcade\",\"Arcade\",\"Arcade\",\"Arcade\",\"Arcade\",\"Arcade\",\"Arcade\",\"Arcade\",\"Arcade\",\"Arcade\",\"Arcade\",\"Arcade\",\"Arcade\",\"Arcade\",\"Arcade\",\"Arcade\",\"Arcade\",\"Arcade\",\"Arcade\",\"Arcade\",\"Arcade\",\"Arcade\",\"Arcade\",\"Arcade\",\"Arcade\",\"Arcade\",\"Arcade\",\"Arcade\",\"Arcade\",\"Arcade\",\"Arcade\",\"Arcade\",\"Arcade\",\"Arcade\",\"Arcade\",\"Arcade\",\"Arcade\",\"Arcade\",\"Arcade\",\"Arcade\",\"Arcade\",\"Arcade\",\"Arcade\",\"Arcade\",\"Arcade\",\"Arcade\",\"Arcade\",\"Arcade\",\"Arcade\",\"Arcade\"],\"yaxis\":\"y\",\"type\":\"histogram\"},{\"alignmentgroup\":\"True\",\"bingroup\":\"y\",\"hovertemplate\":\"Sec_Genres=Casual<br>count=%{x}<br>Main_Genres=%{y}<extra></extra>\",\"legendgroup\":\"Casual\",\"marker\":{\"color\":\"#ab63fa\",\"opacity\":1,\"pattern\":{\"shape\":\"\"}},\"name\":\"Casual\",\"offsetgroup\":\"Casual\",\"orientation\":\"h\",\"showlegend\":true,\"xaxis\":\"x\",\"y\":[\"Casual\",\"Casual\",\"Casual\",\"Casual\",\"Casual\",\"Casual\",\"Casual\",\"Casual\",\"Casual\",\"Casual\",\"Casual\",\"Casual\",\"Casual\",\"Casual\",\"Casual\",\"Casual\",\"Casual\",\"Casual\",\"Casual\",\"Casual\",\"Casual\",\"Casual\",\"Casual\",\"Casual\",\"Casual\",\"Casual\",\"Casual\",\"Casual\",\"Casual\",\"Casual\",\"Casual\",\"Casual\",\"Casual\",\"Casual\",\"Casual\",\"Casual\",\"Casual\",\"Casual\",\"Casual\",\"Casual\",\"Casual\",\"Casual\",\"Casual\",\"Casual\",\"Casual\",\"Casual\",\"Casual\",\"Casual\",\"Casual\",\"Casual\",\"Casual\",\"Casual\",\"Casual\",\"Casual\",\"Casual\",\"Casual\",\"Casual\",\"Casual\",\"Casual\",\"Casual\",\"Casual\",\"Casual\",\"Casual\",\"Casual\",\"Casual\",\"Casual\",\"Casual\",\"Casual\",\"Casual\",\"Casual\",\"Casual\",\"Casual\",\"Casual\",\"Casual\",\"Casual\",\"Casual\",\"Casual\",\"Casual\",\"Casual\",\"Casual\",\"Casual\",\"Casual\",\"Casual\",\"Casual\",\"Casual\",\"Casual\",\"Casual\",\"Casual\",\"Casual\",\"Casual\",\"Casual\",\"Casual\",\"Casual\",\"Casual\",\"Casual\",\"Casual\",\"Casual\",\"Casual\",\"Casual\",\"Casual\",\"Casual\",\"Casual\",\"Casual\",\"Casual\",\"Casual\",\"Casual\",\"Casual\",\"Casual\",\"Casual\",\"Casual\",\"Casual\",\"Casual\",\"Casual\",\"Casual\",\"Casual\",\"Casual\",\"Casual\",\"Casual\",\"Casual\",\"Casual\",\"Casual\",\"Casual\",\"Casual\",\"Casual\",\"Casual\",\"Casual\",\"Casual\",\"Casual\",\"Casual\",\"Casual\",\"Casual\",\"Casual\",\"Casual\",\"Casual\",\"Casual\",\"Casual\",\"Casual\",\"Casual\",\"Casual\",\"Casual\",\"Casual\",\"Casual\",\"Casual\",\"Casual\",\"Casual\",\"Casual\",\"Casual\",\"Casual\",\"Casual\",\"Casual\",\"Casual\",\"Casual\",\"Casual\",\"Casual\",\"Casual\",\"Casual\",\"Casual\",\"Casual\",\"Casual\",\"Casual\",\"Casual\",\"Casual\",\"Casual\",\"Casual\",\"Casual\",\"Casual\",\"Casual\",\"Casual\",\"Casual\",\"Casual\",\"Casual\",\"Casual\",\"Casual\",\"Casual\",\"Casual\",\"Casual\",\"Casual\",\"Casual\",\"Casual\",\"Casual\",\"Casual\",\"Casual\",\"Casual\",\"Casual\",\"Casual\",\"Casual\",\"Casual\",\"Casual\",\"Casual\",\"Casual\",\"Casual\",\"Casual\",\"Casual\"],\"yaxis\":\"y\",\"type\":\"histogram\"},{\"alignmentgroup\":\"True\",\"bingroup\":\"y\",\"hovertemplate\":\"Sec_Genres=Card<br>count=%{x}<br>Main_Genres=%{y}<extra></extra>\",\"legendgroup\":\"Card\",\"marker\":{\"color\":\"#FFA15A\",\"opacity\":1,\"pattern\":{\"shape\":\"\"}},\"name\":\"Card\",\"offsetgroup\":\"Card\",\"orientation\":\"h\",\"showlegend\":true,\"xaxis\":\"x\",\"y\":[\"Card\",\"Card\",\"Card\",\"Card\",\"Card\",\"Card\",\"Card\",\"Card\",\"Card\",\"Card\",\"Card\",\"Card\",\"Card\",\"Card\",\"Card\",\"Card\",\"Card\",\"Card\",\"Card\",\"Card\",\"Card\",\"Card\",\"Card\",\"Card\",\"Card\",\"Card\",\"Card\",\"Card\",\"Card\",\"Card\",\"Card\",\"Card\",\"Card\",\"Card\",\"Card\",\"Card\",\"Card\",\"Card\",\"Card\",\"Card\",\"Card\",\"Card\",\"Card\",\"Card\",\"Card\",\"Card\",\"Card\",\"Card\"],\"yaxis\":\"y\",\"type\":\"histogram\"},{\"alignmentgroup\":\"True\",\"bingroup\":\"y\",\"hovertemplate\":\"Sec_Genres=Action<br>count=%{x}<br>Main_Genres=%{y}<extra></extra>\",\"legendgroup\":\"Action\",\"marker\":{\"color\":\"#19d3f3\",\"opacity\":1,\"pattern\":{\"shape\":\"\"}},\"name\":\"Action\",\"offsetgroup\":\"Action\",\"orientation\":\"h\",\"showlegend\":true,\"xaxis\":\"x\",\"y\":[\"Action\",\"Action\",\"Action\",\"Action\",\"Action\",\"Action\",\"Action\",\"Action\",\"Action\",\"Action\",\"Action\",\"Action\",\"Action\",\"Action\",\"Action\",\"Action\",\"Action\",\"Action\",\"Action\",\"Action\",\"Action\",\"Action\",\"Action\",\"Action\",\"Action\",\"Action\",\"Action\",\"Action\",\"Action\",\"Action\",\"Action\",\"Action\",\"Action\",\"Action\",\"Action\",\"Action\",\"Action\",\"Action\",\"Action\",\"Action\",\"Action\",\"Action\",\"Action\",\"Action\",\"Action\",\"Action\",\"Action\",\"Action\",\"Action\",\"Action\",\"Action\",\"Action\",\"Action\",\"Action\",\"Action\",\"Action\",\"Action\",\"Action\",\"Action\",\"Action\",\"Action\",\"Action\",\"Action\",\"Action\",\"Action\",\"Action\",\"Action\",\"Action\",\"Action\",\"Action\",\"Action\",\"Action\",\"Action\",\"Action\",\"Action\",\"Action\",\"Action\",\"Action\",\"Action\",\"Action\",\"Action\",\"Action\",\"Action\",\"Action\",\"Action\",\"Action\",\"Action\",\"Action\",\"Action\",\"Action\",\"Action\",\"Action\",\"Action\",\"Action\",\"Action\",\"Action\",\"Action\",\"Action\",\"Action\",\"Action\",\"Action\",\"Action\",\"Action\",\"Action\",\"Action\",\"Action\",\"Action\",\"Action\",\"Action\",\"Action\",\"Action\",\"Action\",\"Action\",\"Action\",\"Action\",\"Action\",\"Action\",\"Action\",\"Action\",\"Action\",\"Action\",\"Action\",\"Action\",\"Action\",\"Action\",\"Action\",\"Action\",\"Action\",\"Action\",\"Action\",\"Action\",\"Action\",\"Action\",\"Action\",\"Action\",\"Action\",\"Action\",\"Action\",\"Action\",\"Action\",\"Action\",\"Action\",\"Action\",\"Action\",\"Action\",\"Action\",\"Action\",\"Action\",\"Action\",\"Action\",\"Action\",\"Action\",\"Action\",\"Action\",\"Action\",\"Action\",\"Action\",\"Action\",\"Action\",\"Action\",\"Action\",\"Action\",\"Action\",\"Action\",\"Action\",\"Action\",\"Action\",\"Action\",\"Action\",\"Action\",\"Action\",\"Action\",\"Action\",\"Action\",\"Action\",\"Action\",\"Action\",\"Action\",\"Action\",\"Action\",\"Action\",\"Action\",\"Action\",\"Action\",\"Action\",\"Action\",\"Action\",\"Action\",\"Action\",\"Action\",\"Action\",\"Action\",\"Action\",\"Action\",\"Action\",\"Action\",\"Action\",\"Action\",\"Action\",\"Action\",\"Action\",\"Action\",\"Action\",\"Action\",\"Action\",\"Action\",\"Action\",\"Action\",\"Action\",\"Action\",\"Action\",\"Action\",\"Action\",\"Action\",\"Action\",\"Action\",\"Action\",\"Action\",\"Action\",\"Action\",\"Action\",\"Action\",\"Action\",\"Action\",\"Action\",\"Action\",\"Action\",\"Action\",\"Action\",\"Action\",\"Action\",\"Action\",\"Action\",\"Action\",\"Action\",\"Action\",\"Action\",\"Action\",\"Action\",\"Action\",\"Action\",\"Action\",\"Action\",\"Action\",\"Action\",\"Action\",\"Action\",\"Action\",\"Action\",\"Action\",\"Action\",\"Action\",\"Action\",\"Action\",\"Action\",\"Action\",\"Action\",\"Action\",\"Action\",\"Action\",\"Action\",\"Action\",\"Action\",\"Action\",\"Action\",\"Action\",\"Action\",\"Action\",\"Action\",\"Action\",\"Action\",\"Action\",\"Action\",\"Action\",\"Action\",\"Action\",\"Action\",\"Action\",\"Action\",\"Action\",\"Action\",\"Action\",\"Action\",\"Action\",\"Action\",\"Action\",\"Action\",\"Action\",\"Action\",\"Action\",\"Action\",\"Action\",\"Action\",\"Action\",\"Action\",\"Action\",\"Action\",\"Action\",\"Action\",\"Action\",\"Action\",\"Action\",\"Action\",\"Action\",\"Action\",\"Action\",\"Action\",\"Action\",\"Action\",\"Action\",\"Action\",\"Action\",\"Action\",\"Action\",\"Action\",\"Action\",\"Action\",\"Action\",\"Action\",\"Action\",\"Action\",\"Action\",\"Action\",\"Action\",\"Action\",\"Action\",\"Action\",\"Action\",\"Action\",\"Action\",\"Action\",\"Action\",\"Action\",\"Action\",\"Action\",\"Action\",\"Action\",\"Action\",\"Action\",\"Action\",\"Action\",\"Action\",\"Action\",\"Action\",\"Action\",\"Action\",\"Action\",\"Action\",\"Action\",\"Action\",\"Action\",\"Action\",\"Action\",\"Action\",\"Action\",\"Action\",\"Action\",\"Action\",\"Action\",\"Action\",\"Action\",\"Action\",\"Action\",\"Action\",\"Action\"],\"yaxis\":\"y\",\"type\":\"histogram\"},{\"alignmentgroup\":\"True\",\"bingroup\":\"y\",\"hovertemplate\":\"Sec_Genres=Strategy<br>count=%{x}<br>Main_Genres=%{y}<extra></extra>\",\"legendgroup\":\"Strategy\",\"marker\":{\"color\":\"#FF6692\",\"opacity\":1,\"pattern\":{\"shape\":\"\"}},\"name\":\"Strategy\",\"offsetgroup\":\"Strategy\",\"orientation\":\"h\",\"showlegend\":true,\"xaxis\":\"x\",\"y\":[\"Strategy\",\"Strategy\",\"Strategy\",\"Strategy\",\"Strategy\",\"Strategy\",\"Strategy\",\"Strategy\",\"Strategy\",\"Strategy\",\"Strategy\",\"Strategy\",\"Strategy\",\"Strategy\",\"Strategy\",\"Strategy\",\"Strategy\",\"Strategy\",\"Strategy\",\"Strategy\",\"Strategy\",\"Strategy\",\"Strategy\",\"Strategy\",\"Strategy\",\"Strategy\",\"Strategy\",\"Strategy\",\"Strategy\",\"Strategy\",\"Strategy\",\"Strategy\",\"Strategy\",\"Strategy\",\"Strategy\",\"Strategy\",\"Strategy\",\"Strategy\",\"Strategy\",\"Strategy\",\"Strategy\",\"Strategy\",\"Strategy\",\"Strategy\",\"Strategy\",\"Strategy\",\"Strategy\",\"Strategy\",\"Strategy\",\"Strategy\",\"Strategy\",\"Strategy\",\"Strategy\",\"Strategy\",\"Strategy\",\"Strategy\",\"Strategy\",\"Strategy\",\"Strategy\",\"Strategy\",\"Strategy\",\"Strategy\",\"Strategy\",\"Strategy\",\"Strategy\",\"Strategy\",\"Strategy\",\"Strategy\",\"Strategy\",\"Strategy\",\"Strategy\",\"Strategy\",\"Strategy\",\"Strategy\",\"Strategy\",\"Strategy\",\"Strategy\",\"Strategy\",\"Strategy\",\"Strategy\",\"Strategy\",\"Strategy\",\"Strategy\",\"Strategy\",\"Strategy\",\"Strategy\",\"Strategy\",\"Strategy\",\"Strategy\",\"Strategy\",\"Strategy\",\"Strategy\",\"Strategy\",\"Strategy\",\"Strategy\",\"Strategy\",\"Strategy\",\"Strategy\",\"Strategy\",\"Strategy\",\"Strategy\",\"Strategy\",\"Strategy\",\"Strategy\",\"Strategy\",\"Strategy\",\"Strategy\"],\"yaxis\":\"y\",\"type\":\"histogram\"},{\"alignmentgroup\":\"True\",\"bingroup\":\"y\",\"hovertemplate\":\"Sec_Genres=Puzzle<br>count=%{x}<br>Main_Genres=%{y}<extra></extra>\",\"legendgroup\":\"Puzzle\",\"marker\":{\"color\":\"#B6E880\",\"opacity\":1,\"pattern\":{\"shape\":\"\"}},\"name\":\"Puzzle\",\"offsetgroup\":\"Puzzle\",\"orientation\":\"h\",\"showlegend\":true,\"xaxis\":\"x\",\"y\":[\"Puzzle\",\"Puzzle\",\"Puzzle\",\"Puzzle\",\"Puzzle\",\"Puzzle\",\"Puzzle\",\"Puzzle\",\"Puzzle\",\"Puzzle\",\"Puzzle\",\"Puzzle\",\"Puzzle\",\"Puzzle\",\"Puzzle\",\"Puzzle\",\"Puzzle\",\"Puzzle\",\"Puzzle\",\"Puzzle\",\"Puzzle\",\"Puzzle\",\"Puzzle\",\"Puzzle\",\"Puzzle\",\"Puzzle\",\"Puzzle\",\"Puzzle\",\"Puzzle\",\"Puzzle\",\"Puzzle\",\"Puzzle\",\"Puzzle\",\"Puzzle\",\"Puzzle\",\"Puzzle\",\"Puzzle\",\"Puzzle\",\"Puzzle\",\"Puzzle\",\"Puzzle\",\"Puzzle\",\"Puzzle\",\"Puzzle\",\"Puzzle\",\"Puzzle\",\"Puzzle\",\"Puzzle\",\"Puzzle\",\"Puzzle\",\"Puzzle\",\"Puzzle\",\"Puzzle\",\"Puzzle\",\"Puzzle\",\"Puzzle\",\"Puzzle\",\"Puzzle\",\"Puzzle\",\"Puzzle\",\"Puzzle\",\"Puzzle\",\"Puzzle\",\"Puzzle\",\"Puzzle\",\"Puzzle\",\"Puzzle\",\"Puzzle\",\"Puzzle\",\"Puzzle\",\"Puzzle\",\"Puzzle\",\"Puzzle\",\"Puzzle\",\"Puzzle\",\"Puzzle\",\"Puzzle\",\"Puzzle\",\"Puzzle\",\"Puzzle\",\"Puzzle\",\"Puzzle\",\"Puzzle\",\"Puzzle\",\"Puzzle\",\"Puzzle\",\"Puzzle\",\"Puzzle\",\"Puzzle\",\"Puzzle\",\"Puzzle\",\"Puzzle\",\"Puzzle\",\"Puzzle\",\"Puzzle\",\"Puzzle\",\"Puzzle\",\"Puzzle\",\"Puzzle\",\"Puzzle\",\"Puzzle\",\"Puzzle\",\"Puzzle\",\"Puzzle\",\"Puzzle\",\"Puzzle\",\"Puzzle\",\"Puzzle\",\"Puzzle\",\"Puzzle\",\"Puzzle\",\"Puzzle\",\"Puzzle\",\"Puzzle\",\"Puzzle\",\"Puzzle\",\"Puzzle\",\"Puzzle\",\"Puzzle\",\"Puzzle\",\"Puzzle\",\"Puzzle\",\"Puzzle\",\"Puzzle\",\"Puzzle\",\"Puzzle\",\"Puzzle\",\"Puzzle\",\"Puzzle\",\"Puzzle\",\"Puzzle\",\"Puzzle\",\"Puzzle\",\"Puzzle\",\"Puzzle\",\"Puzzle\",\"Puzzle\",\"Puzzle\",\"Puzzle\",\"Puzzle\"],\"yaxis\":\"y\",\"type\":\"histogram\"},{\"alignmentgroup\":\"True\",\"bingroup\":\"y\",\"hovertemplate\":\"Sec_Genres=Sports<br>count=%{x}<br>Main_Genres=%{y}<extra></extra>\",\"legendgroup\":\"Sports\",\"marker\":{\"color\":\"#FF97FF\",\"opacity\":1,\"pattern\":{\"shape\":\"\"}},\"name\":\"Sports\",\"offsetgroup\":\"Sports\",\"orientation\":\"h\",\"showlegend\":true,\"xaxis\":\"x\",\"y\":[\"Sports\",\"Sports\",\"Sports\",\"Sports\",\"Sports\",\"Sports\",\"Sports\",\"Sports\",\"Sports\",\"Sports\",\"Sports\",\"Sports\",\"Sports\",\"Sports\",\"Sports\",\"Sports\",\"Sports\",\"Sports\",\"Sports\",\"Sports\",\"Sports\",\"Sports\",\"Sports\",\"Sports\",\"Sports\",\"Sports\",\"Sports\",\"Sports\",\"Sports\",\"Sports\",\"Sports\",\"Sports\",\"Sports\",\"Sports\",\"Sports\",\"Sports\",\"Sports\",\"Sports\",\"Sports\",\"Sports\",\"Sports\",\"Sports\",\"Sports\",\"Sports\",\"Sports\",\"Sports\",\"Sports\",\"Sports\",\"Sports\",\"Sports\",\"Sports\",\"Sports\",\"Sports\",\"Sports\",\"Sports\",\"Sports\",\"Sports\",\"Sports\",\"Sports\",\"Sports\",\"Sports\",\"Sports\",\"Sports\",\"Sports\",\"Sports\",\"Sports\",\"Sports\",\"Sports\",\"Sports\",\"Sports\",\"Sports\",\"Sports\",\"Sports\",\"Sports\",\"Sports\",\"Sports\",\"Sports\",\"Sports\",\"Sports\",\"Sports\",\"Sports\",\"Sports\",\"Sports\",\"Sports\",\"Sports\",\"Sports\",\"Sports\",\"Sports\",\"Sports\",\"Sports\",\"Sports\",\"Sports\",\"Sports\",\"Sports\",\"Sports\",\"Sports\",\"Sports\",\"Sports\",\"Sports\",\"Sports\",\"Sports\",\"Sports\",\"Sports\",\"Sports\",\"Sports\",\"Sports\",\"Sports\",\"Sports\",\"Sports\",\"Sports\",\"Sports\",\"Sports\",\"Sports\",\"Sports\",\"Sports\",\"Sports\",\"Sports\",\"Sports\",\"Sports\",\"Sports\",\"Sports\",\"Sports\",\"Sports\",\"Sports\",\"Sports\",\"Sports\",\"Sports\",\"Sports\",\"Sports\",\"Sports\",\"Sports\",\"Sports\",\"Sports\",\"Sports\",\"Sports\",\"Sports\",\"Sports\",\"Sports\",\"Sports\",\"Sports\",\"Sports\",\"Sports\",\"Sports\",\"Sports\",\"Sports\",\"Sports\",\"Sports\",\"Sports\",\"Sports\",\"Sports\",\"Sports\",\"Sports\",\"Sports\",\"Sports\",\"Sports\",\"Sports\",\"Sports\",\"Sports\",\"Sports\",\"Sports\",\"Sports\",\"Sports\",\"Sports\",\"Sports\",\"Sports\",\"Sports\",\"Sports\",\"Sports\",\"Sports\",\"Sports\",\"Sports\",\"Sports\",\"Sports\",\"Sports\",\"Sports\",\"Sports\",\"Sports\",\"Sports\",\"Sports\",\"Sports\",\"Sports\",\"Sports\",\"Sports\",\"Sports\",\"Sports\",\"Sports\",\"Sports\",\"Sports\",\"Sports\",\"Sports\",\"Sports\",\"Sports\",\"Sports\",\"Sports\",\"Sports\",\"Sports\",\"Sports\",\"Sports\",\"Sports\",\"Sports\",\"Sports\",\"Sports\",\"Sports\",\"Sports\",\"Sports\",\"Sports\",\"Sports\",\"Sports\",\"Sports\",\"Sports\",\"Sports\",\"Sports\",\"Sports\",\"Sports\",\"Sports\",\"Sports\",\"Sports\",\"Sports\",\"Sports\",\"Sports\",\"Sports\",\"Sports\",\"Sports\",\"Sports\",\"Sports\",\"Sports\",\"Sports\",\"Sports\",\"Sports\",\"Sports\",\"Sports\",\"Sports\",\"Sports\",\"Sports\",\"Sports\",\"Sports\",\"Sports\",\"Sports\",\"Sports\",\"Sports\",\"Sports\",\"Sports\",\"Sports\",\"Sports\",\"Sports\",\"Sports\",\"Sports\",\"Sports\",\"Sports\",\"Sports\",\"Sports\",\"Sports\",\"Sports\",\"Sports\",\"Sports\",\"Sports\",\"Sports\",\"Sports\",\"Sports\",\"Sports\",\"Sports\",\"Sports\",\"Sports\",\"Sports\",\"Sports\",\"Sports\",\"Sports\",\"Sports\",\"Sports\",\"Sports\",\"Sports\",\"Sports\",\"Sports\",\"Sports\",\"Sports\",\"Sports\",\"Sports\",\"Sports\",\"Sports\",\"Sports\",\"Sports\",\"Sports\",\"Sports\",\"Sports\",\"Sports\",\"Sports\",\"Sports\",\"Sports\",\"Sports\",\"Sports\",\"Sports\",\"Sports\",\"Sports\",\"Sports\",\"Sports\",\"Sports\",\"Sports\",\"Sports\",\"Sports\",\"Sports\",\"Sports\",\"Sports\",\"Sports\",\"Sports\",\"Sports\",\"Sports\",\"Sports\",\"Sports\",\"Sports\",\"Sports\",\"Sports\",\"Sports\",\"Sports\",\"Sports\",\"Sports\",\"Sports\",\"Sports\",\"Sports\",\"Sports\",\"Sports\",\"Sports\",\"Sports\",\"Sports\",\"Sports\",\"Sports\",\"Sports\",\"Sports\",\"Sports\",\"Sports\",\"Sports\",\"Sports\",\"Sports\",\"Sports\",\"Sports\",\"Sports\",\"Sports\",\"Sports\",\"Sports\",\"Sports\",\"Sports\",\"Sports\",\"Sports\",\"Sports\",\"Sports\",\"Sports\",\"Sports\",\"Sports\",\"Sports\",\"Sports\",\"Sports\",\"Sports\",\"Sports\",\"Sports\",\"Sports\",\"Sports\",\"Sports\",\"Sports\",\"Sports\",\"Sports\",\"Sports\",\"Sports\",\"Sports\",\"Sports\",\"Sports\",\"Sports\",\"Sports\",\"Sports\",\"Sports\",\"Sports\",\"Sports\",\"Sports\",\"Sports\",\"Sports\",\"Sports\",\"Sports\",\"Sports\",\"Sports\",\"Sports\",\"Sports\",\"Sports\",\"Sports\",\"Sports\",\"Sports\",\"Sports\",\"Sports\",\"Sports\",\"Sports\",\"Sports\",\"Sports\",\"Sports\",\"Sports\",\"Sports\",\"Sports\",\"Sports\",\"Sports\",\"Sports\",\"Sports\",\"Sports\"],\"yaxis\":\"y\",\"type\":\"histogram\"},{\"alignmentgroup\":\"True\",\"bingroup\":\"y\",\"hovertemplate\":\"Sec_Genres=Music<br>count=%{x}<br>Main_Genres=%{y}<extra></extra>\",\"legendgroup\":\"Music\",\"marker\":{\"color\":\"#FECB52\",\"opacity\":1,\"pattern\":{\"shape\":\"\"}},\"name\":\"Music\",\"offsetgroup\":\"Music\",\"orientation\":\"h\",\"showlegend\":true,\"xaxis\":\"x\",\"y\":[\"Music\",\"Music\",\"Music\",\"Music\",\"Music\",\"Music\",\"Music\",\"Music\",\"Music\",\"Music\",\"Music\",\"Music\",\"Music\",\"Music\",\"Music\",\"Music\",\"Music\",\"Music\",\"Music\",\"Music\",\"Music\",\"Music\"],\"yaxis\":\"y\",\"type\":\"histogram\"},{\"alignmentgroup\":\"True\",\"bingroup\":\"y\",\"hovertemplate\":\"Sec_Genres=Word<br>count=%{x}<br>Main_Genres=%{y}<extra></extra>\",\"legendgroup\":\"Word\",\"marker\":{\"color\":\"#636efa\",\"opacity\":1,\"pattern\":{\"shape\":\"\"}},\"name\":\"Word\",\"offsetgroup\":\"Word\",\"orientation\":\"h\",\"showlegend\":true,\"xaxis\":\"x\",\"y\":[\"Word\",\"Word\",\"Word\",\"Word\",\"Word\",\"Word\",\"Word\",\"Word\",\"Word\",\"Word\",\"Word\",\"Word\",\"Word\",\"Word\",\"Word\",\"Word\",\"Word\",\"Word\",\"Word\",\"Word\",\"Word\",\"Word\",\"Word\",\"Word\",\"Word\",\"Word\",\"Word\",\"Word\",\"Word\"],\"yaxis\":\"y\",\"type\":\"histogram\"},{\"alignmentgroup\":\"True\",\"bingroup\":\"y\",\"hovertemplate\":\"Sec_Genres=Racing<br>count=%{x}<br>Main_Genres=%{y}<extra></extra>\",\"legendgroup\":\"Racing\",\"marker\":{\"color\":\"#EF553B\",\"opacity\":1,\"pattern\":{\"shape\":\"\"}},\"name\":\"Racing\",\"offsetgroup\":\"Racing\",\"orientation\":\"h\",\"showlegend\":true,\"xaxis\":\"x\",\"y\":[\"Racing\",\"Racing\",\"Racing\",\"Racing\",\"Racing\",\"Racing\",\"Racing\",\"Racing\",\"Racing\",\"Racing\",\"Racing\",\"Racing\",\"Racing\",\"Racing\",\"Racing\",\"Racing\",\"Racing\",\"Racing\",\"Racing\",\"Racing\",\"Racing\",\"Racing\",\"Racing\",\"Racing\",\"Racing\",\"Racing\",\"Racing\",\"Racing\",\"Racing\",\"Racing\",\"Racing\",\"Racing\",\"Racing\",\"Racing\",\"Racing\",\"Racing\",\"Racing\",\"Racing\",\"Racing\",\"Racing\",\"Racing\",\"Racing\",\"Racing\",\"Racing\",\"Racing\",\"Racing\",\"Racing\",\"Racing\",\"Racing\",\"Racing\",\"Racing\",\"Racing\",\"Racing\",\"Racing\",\"Racing\",\"Racing\",\"Racing\",\"Racing\",\"Racing\",\"Racing\",\"Racing\",\"Racing\",\"Racing\",\"Racing\",\"Racing\",\"Racing\",\"Racing\",\"Racing\",\"Racing\",\"Racing\",\"Racing\",\"Racing\",\"Racing\",\"Racing\",\"Racing\",\"Racing\",\"Racing\",\"Racing\",\"Racing\",\"Racing\",\"Racing\",\"Racing\",\"Racing\",\"Racing\",\"Racing\",\"Racing\",\"Racing\",\"Racing\",\"Racing\",\"Racing\",\"Racing\",\"Racing\",\"Racing\",\"Racing\",\"Racing\",\"Racing\",\"Racing\",\"Racing\"],\"yaxis\":\"y\",\"type\":\"histogram\"},{\"alignmentgroup\":\"True\",\"bingroup\":\"y\",\"hovertemplate\":\"Sec_Genres=Simulation<br>count=%{x}<br>Main_Genres=%{y}<extra></extra>\",\"legendgroup\":\"Simulation\",\"marker\":{\"color\":\"#00cc96\",\"opacity\":1,\"pattern\":{\"shape\":\"\"}},\"name\":\"Simulation\",\"offsetgroup\":\"Simulation\",\"orientation\":\"h\",\"showlegend\":true,\"xaxis\":\"x\",\"y\":[\"Simulation\",\"Simulation\",\"Simulation\",\"Simulation\",\"Simulation\",\"Simulation\",\"Simulation\",\"Simulation\",\"Simulation\",\"Simulation\",\"Simulation\",\"Simulation\",\"Simulation\",\"Simulation\",\"Simulation\",\"Simulation\",\"Simulation\",\"Simulation\",\"Simulation\",\"Simulation\",\"Simulation\",\"Simulation\",\"Simulation\",\"Simulation\",\"Simulation\",\"Simulation\",\"Simulation\",\"Simulation\",\"Simulation\",\"Simulation\",\"Simulation\",\"Simulation\",\"Simulation\",\"Simulation\",\"Simulation\",\"Simulation\",\"Simulation\",\"Simulation\",\"Simulation\",\"Simulation\",\"Simulation\",\"Simulation\",\"Simulation\",\"Simulation\",\"Simulation\",\"Simulation\",\"Simulation\",\"Simulation\",\"Simulation\",\"Simulation\",\"Simulation\",\"Simulation\",\"Simulation\",\"Simulation\",\"Simulation\",\"Simulation\",\"Simulation\",\"Simulation\",\"Simulation\",\"Simulation\",\"Simulation\",\"Simulation\",\"Simulation\",\"Simulation\",\"Simulation\",\"Simulation\",\"Simulation\",\"Simulation\",\"Simulation\",\"Simulation\",\"Simulation\",\"Simulation\",\"Simulation\",\"Simulation\",\"Simulation\",\"Simulation\",\"Simulation\",\"Simulation\",\"Simulation\",\"Simulation\",\"Simulation\",\"Simulation\",\"Simulation\",\"Simulation\",\"Simulation\",\"Simulation\",\"Simulation\",\"Simulation\",\"Simulation\",\"Simulation\",\"Simulation\",\"Simulation\",\"Simulation\",\"Simulation\",\"Simulation\",\"Simulation\",\"Simulation\",\"Simulation\",\"Simulation\",\"Simulation\",\"Simulation\",\"Simulation\",\"Simulation\",\"Simulation\",\"Simulation\",\"Simulation\",\"Simulation\",\"Simulation\",\"Simulation\",\"Simulation\",\"Simulation\",\"Simulation\",\"Simulation\",\"Simulation\",\"Simulation\",\"Simulation\",\"Simulation\",\"Simulation\",\"Simulation\",\"Simulation\",\"Simulation\",\"Simulation\",\"Simulation\",\"Simulation\",\"Simulation\",\"Simulation\",\"Simulation\",\"Simulation\",\"Simulation\",\"Simulation\",\"Simulation\",\"Simulation\",\"Simulation\",\"Simulation\",\"Simulation\",\"Simulation\",\"Simulation\",\"Simulation\",\"Simulation\",\"Simulation\",\"Simulation\",\"Simulation\",\"Simulation\",\"Simulation\",\"Simulation\",\"Simulation\",\"Simulation\",\"Simulation\",\"Simulation\",\"Simulation\",\"Simulation\",\"Simulation\",\"Simulation\",\"Simulation\",\"Simulation\",\"Simulation\",\"Simulation\",\"Simulation\",\"Simulation\",\"Simulation\",\"Simulation\",\"Simulation\",\"Simulation\",\"Simulation\",\"Simulation\",\"Simulation\",\"Simulation\",\"Simulation\",\"Simulation\",\"Simulation\",\"Simulation\",\"Simulation\",\"Simulation\",\"Simulation\",\"Simulation\",\"Simulation\",\"Simulation\",\"Simulation\",\"Simulation\",\"Simulation\",\"Simulation\",\"Simulation\",\"Simulation\",\"Simulation\",\"Simulation\",\"Simulation\",\"Simulation\",\"Simulation\",\"Simulation\",\"Simulation\",\"Simulation\",\"Simulation\",\"Simulation\",\"Simulation\",\"Simulation\",\"Simulation\",\"Simulation\",\"Simulation\",\"Simulation\",\"Simulation\"],\"yaxis\":\"y\",\"type\":\"histogram\"},{\"alignmentgroup\":\"True\",\"bingroup\":\"y\",\"hovertemplate\":\"Sec_Genres=Adventure<br>count=%{x}<br>Main_Genres=%{y}<extra></extra>\",\"legendgroup\":\"Adventure\",\"marker\":{\"color\":\"#ab63fa\",\"opacity\":1,\"pattern\":{\"shape\":\"\"}},\"name\":\"Adventure\",\"offsetgroup\":\"Adventure\",\"orientation\":\"h\",\"showlegend\":true,\"xaxis\":\"x\",\"y\":[\"Adventure\",\"Adventure\",\"Adventure\",\"Adventure\",\"Adventure\",\"Adventure\",\"Adventure\",\"Adventure\",\"Adventure\",\"Adventure\",\"Adventure\",\"Adventure\",\"Adventure\",\"Adventure\",\"Adventure\",\"Adventure\",\"Adventure\",\"Adventure\",\"Adventure\",\"Adventure\",\"Adventure\",\"Adventure\",\"Adventure\",\"Adventure\",\"Adventure\",\"Adventure\",\"Adventure\",\"Adventure\",\"Adventure\",\"Adventure\",\"Adventure\",\"Adventure\",\"Adventure\",\"Adventure\",\"Adventure\",\"Adventure\",\"Adventure\",\"Adventure\",\"Adventure\",\"Adventure\",\"Adventure\",\"Adventure\",\"Adventure\",\"Adventure\",\"Adventure\",\"Adventure\",\"Adventure\",\"Adventure\",\"Adventure\",\"Adventure\",\"Adventure\",\"Adventure\",\"Adventure\",\"Adventure\",\"Adventure\",\"Adventure\",\"Adventure\",\"Adventure\",\"Adventure\",\"Adventure\",\"Adventure\",\"Adventure\",\"Adventure\",\"Adventure\",\"Adventure\",\"Adventure\",\"Adventure\",\"Adventure\",\"Adventure\",\"Adventure\",\"Adventure\",\"Adventure\",\"Adventure\",\"Adventure\",\"Adventure\"],\"yaxis\":\"y\",\"type\":\"histogram\"},{\"alignmentgroup\":\"True\",\"bingroup\":\"y\",\"hovertemplate\":\"Sec_Genres=Board<br>count=%{x}<br>Main_Genres=%{y}<extra></extra>\",\"legendgroup\":\"Board\",\"marker\":{\"color\":\"#FFA15A\",\"opacity\":1,\"pattern\":{\"shape\":\"\"}},\"name\":\"Board\",\"offsetgroup\":\"Board\",\"orientation\":\"h\",\"showlegend\":true,\"xaxis\":\"x\",\"y\":[\"Board\",\"Board\",\"Board\",\"Board\",\"Board\",\"Board\",\"Board\",\"Board\",\"Board\",\"Board\",\"Board\",\"Board\",\"Board\",\"Board\",\"Board\",\"Board\",\"Board\",\"Board\",\"Board\",\"Board\",\"Board\",\"Board\",\"Board\",\"Board\",\"Board\",\"Board\",\"Board\",\"Board\",\"Board\",\"Board\",\"Board\",\"Board\",\"Board\",\"Board\",\"Board\",\"Board\",\"Board\",\"Board\",\"Board\",\"Board\",\"Board\",\"Board\",\"Board\",\"Board\"],\"yaxis\":\"y\",\"type\":\"histogram\"},{\"alignmentgroup\":\"True\",\"bingroup\":\"y\",\"hovertemplate\":\"Sec_Genres=Trivia<br>count=%{x}<br>Main_Genres=%{y}<extra></extra>\",\"legendgroup\":\"Trivia\",\"marker\":{\"color\":\"#19d3f3\",\"opacity\":1,\"pattern\":{\"shape\":\"\"}},\"name\":\"Trivia\",\"offsetgroup\":\"Trivia\",\"orientation\":\"h\",\"showlegend\":true,\"xaxis\":\"x\",\"y\":[\"Trivia\",\"Trivia\",\"Trivia\",\"Trivia\",\"Trivia\",\"Trivia\",\"Trivia\",\"Trivia\",\"Trivia\",\"Trivia\",\"Trivia\",\"Trivia\",\"Trivia\",\"Trivia\",\"Trivia\",\"Trivia\",\"Trivia\",\"Trivia\",\"Trivia\",\"Trivia\",\"Trivia\",\"Trivia\",\"Trivia\",\"Trivia\",\"Trivia\",\"Trivia\",\"Trivia\",\"Trivia\",\"Trivia\",\"Trivia\",\"Trivia\",\"Trivia\",\"Trivia\",\"Trivia\",\"Trivia\",\"Trivia\",\"Trivia\",\"Trivia\"],\"yaxis\":\"y\",\"type\":\"histogram\"},{\"alignmentgroup\":\"True\",\"bingroup\":\"y\",\"hovertemplate\":\"Sec_Genres=Role Playing<br>count=%{x}<br>Main_Genres=%{y}<extra></extra>\",\"legendgroup\":\"Role Playing\",\"marker\":{\"color\":\"#FF6692\",\"opacity\":1,\"pattern\":{\"shape\":\"\"}},\"name\":\"Role Playing\",\"offsetgroup\":\"Role Playing\",\"orientation\":\"h\",\"showlegend\":true,\"xaxis\":\"x\",\"y\":[\"Role Playing\",\"Role Playing\",\"Role Playing\",\"Role Playing\",\"Role Playing\",\"Role Playing\",\"Role Playing\",\"Role Playing\",\"Role Playing\",\"Role Playing\",\"Role Playing\",\"Role Playing\",\"Role Playing\",\"Role Playing\",\"Role Playing\",\"Role Playing\",\"Role Playing\",\"Role Playing\",\"Role Playing\",\"Role Playing\",\"Role Playing\",\"Role Playing\",\"Role Playing\",\"Role Playing\",\"Role Playing\",\"Role Playing\",\"Role Playing\",\"Role Playing\",\"Role Playing\",\"Role Playing\",\"Role Playing\",\"Role Playing\",\"Role Playing\",\"Role Playing\",\"Role Playing\",\"Role Playing\",\"Role Playing\",\"Role Playing\",\"Role Playing\",\"Role Playing\",\"Role Playing\",\"Role Playing\",\"Role Playing\",\"Role Playing\",\"Role Playing\",\"Role Playing\",\"Role Playing\",\"Role Playing\",\"Role Playing\",\"Role Playing\",\"Role Playing\",\"Role Playing\",\"Role Playing\",\"Role Playing\",\"Role Playing\",\"Role Playing\",\"Role Playing\",\"Role Playing\",\"Role Playing\",\"Role Playing\",\"Role Playing\",\"Role Playing\",\"Role Playing\",\"Role Playing\",\"Role Playing\",\"Role Playing\",\"Role Playing\",\"Role Playing\",\"Role Playing\",\"Role Playing\",\"Role Playing\",\"Role Playing\",\"Role Playing\",\"Role Playing\",\"Role Playing\",\"Role Playing\",\"Role Playing\",\"Role Playing\",\"Role Playing\",\"Role Playing\",\"Role Playing\",\"Role Playing\",\"Role Playing\",\"Role Playing\",\"Role Playing\",\"Role Playing\",\"Role Playing\",\"Role Playing\",\"Role Playing\",\"Role Playing\",\"Role Playing\",\"Role Playing\",\"Role Playing\",\"Role Playing\",\"Role Playing\",\"Role Playing\",\"Role Playing\",\"Role Playing\",\"Role Playing\",\"Role Playing\",\"Role Playing\",\"Role Playing\",\"Role Playing\",\"Role Playing\",\"Role Playing\",\"Role Playing\",\"Role Playing\",\"Role Playing\",\"Role Playing\"],\"yaxis\":\"y\",\"type\":\"histogram\"},{\"alignmentgroup\":\"True\",\"bingroup\":\"y\",\"hovertemplate\":\"Sec_Genres=Medical<br>count=%{x}<br>Main_Genres=%{y}<extra></extra>\",\"legendgroup\":\"Medical\",\"marker\":{\"color\":\"#B6E880\",\"opacity\":1,\"pattern\":{\"shape\":\"\"}},\"name\":\"Medical\",\"offsetgroup\":\"Medical\",\"orientation\":\"h\",\"showlegend\":true,\"xaxis\":\"x\",\"y\":[\"Medical\",\"Medical\",\"Medical\",\"Medical\",\"Medical\",\"Medical\",\"Medical\",\"Medical\",\"Medical\",\"Medical\",\"Medical\",\"Medical\",\"Medical\",\"Medical\",\"Medical\",\"Medical\",\"Medical\",\"Medical\",\"Medical\",\"Medical\",\"Medical\",\"Medical\",\"Medical\",\"Medical\",\"Medical\",\"Medical\",\"Medical\",\"Medical\",\"Medical\",\"Medical\",\"Medical\",\"Medical\",\"Medical\",\"Medical\",\"Medical\",\"Medical\",\"Medical\",\"Medical\",\"Medical\",\"Medical\",\"Medical\",\"Medical\",\"Medical\",\"Medical\",\"Medical\",\"Medical\",\"Medical\",\"Medical\",\"Medical\",\"Medical\",\"Medical\",\"Medical\",\"Medical\",\"Medical\",\"Medical\",\"Medical\",\"Medical\",\"Medical\",\"Medical\",\"Medical\",\"Medical\",\"Medical\",\"Medical\",\"Medical\",\"Medical\",\"Medical\",\"Medical\",\"Medical\",\"Medical\",\"Medical\",\"Medical\",\"Medical\",\"Medical\",\"Medical\",\"Medical\",\"Medical\",\"Medical\",\"Medical\",\"Medical\",\"Medical\",\"Medical\",\"Medical\",\"Medical\",\"Medical\",\"Medical\",\"Medical\",\"Medical\",\"Medical\",\"Medical\",\"Medical\",\"Medical\",\"Medical\",\"Medical\",\"Medical\",\"Medical\",\"Medical\",\"Medical\",\"Medical\",\"Medical\",\"Medical\",\"Medical\",\"Medical\",\"Medical\",\"Medical\",\"Medical\",\"Medical\",\"Medical\",\"Medical\",\"Medical\",\"Medical\",\"Medical\",\"Medical\",\"Medical\",\"Medical\",\"Medical\",\"Medical\",\"Medical\",\"Medical\",\"Medical\",\"Medical\",\"Medical\",\"Medical\",\"Medical\",\"Medical\",\"Medical\",\"Medical\",\"Medical\",\"Medical\",\"Medical\",\"Medical\",\"Medical\",\"Medical\",\"Medical\",\"Medical\",\"Medical\",\"Medical\",\"Medical\",\"Medical\",\"Medical\",\"Medical\",\"Medical\",\"Medical\",\"Medical\",\"Medical\",\"Medical\",\"Medical\",\"Medical\",\"Medical\",\"Medical\",\"Medical\",\"Medical\",\"Medical\",\"Medical\",\"Medical\",\"Medical\",\"Medical\",\"Medical\",\"Medical\",\"Medical\",\"Medical\",\"Medical\",\"Medical\",\"Medical\",\"Medical\",\"Medical\",\"Medical\",\"Medical\",\"Medical\",\"Medical\",\"Medical\",\"Medical\",\"Medical\",\"Medical\",\"Medical\",\"Medical\",\"Medical\",\"Medical\",\"Medical\",\"Medical\",\"Medical\",\"Medical\",\"Medical\",\"Medical\",\"Medical\",\"Medical\",\"Medical\",\"Medical\",\"Medical\",\"Medical\",\"Medical\",\"Medical\",\"Medical\",\"Medical\",\"Medical\",\"Medical\",\"Medical\",\"Medical\",\"Medical\",\"Medical\",\"Medical\",\"Medical\",\"Medical\",\"Medical\",\"Medical\",\"Medical\",\"Medical\",\"Medical\",\"Medical\",\"Medical\",\"Medical\",\"Medical\",\"Medical\",\"Medical\",\"Medical\",\"Medical\",\"Medical\",\"Medical\",\"Medical\",\"Medical\",\"Medical\",\"Medical\",\"Medical\",\"Medical\",\"Medical\",\"Medical\",\"Medical\",\"Medical\",\"Medical\",\"Medical\",\"Medical\",\"Medical\",\"Medical\",\"Medical\",\"Medical\",\"Medical\",\"Medical\",\"Medical\",\"Medical\",\"Medical\",\"Medical\",\"Medical\",\"Medical\",\"Medical\",\"Medical\",\"Medical\",\"Medical\",\"Medical\",\"Medical\",\"Medical\",\"Medical\",\"Medical\",\"Medical\",\"Medical\",\"Medical\",\"Medical\",\"Medical\",\"Medical\",\"Medical\",\"Medical\",\"Medical\",\"Medical\",\"Medical\",\"Medical\",\"Medical\",\"Medical\",\"Medical\",\"Medical\",\"Medical\",\"Medical\",\"Medical\",\"Medical\",\"Medical\",\"Medical\",\"Medical\",\"Medical\",\"Medical\",\"Medical\",\"Medical\",\"Medical\",\"Medical\",\"Medical\",\"Medical\",\"Medical\",\"Medical\",\"Medical\",\"Medical\",\"Medical\",\"Medical\",\"Medical\",\"Medical\",\"Medical\",\"Medical\",\"Medical\",\"Medical\",\"Medical\",\"Medical\",\"Medical\",\"Medical\",\"Medical\",\"Medical\",\"Medical\",\"Medical\",\"Medical\",\"Medical\",\"Medical\",\"Medical\",\"Medical\",\"Medical\",\"Medical\",\"Medical\",\"Medical\",\"Medical\",\"Medical\",\"Medical\",\"Medical\",\"Medical\",\"Medical\",\"Medical\",\"Medical\",\"Medical\",\"Medical\",\"Medical\",\"Medical\",\"Medical\",\"Medical\",\"Medical\",\"Medical\",\"Medical\",\"Medical\",\"Medical\",\"Medical\",\"Medical\",\"Medical\",\"Medical\",\"Medical\",\"Medical\",\"Medical\",\"Medical\",\"Medical\",\"Medical\",\"Medical\",\"Medical\",\"Medical\",\"Medical\",\"Medical\",\"Medical\",\"Medical\",\"Medical\",\"Medical\",\"Medical\",\"Medical\",\"Medical\",\"Medical\",\"Medical\",\"Medical\",\"Medical\",\"Medical\",\"Medical\",\"Medical\",\"Medical\",\"Medical\",\"Medical\",\"Medical\",\"Medical\",\"Medical\",\"Medical\",\"Medical\",\"Medical\",\"Medical\",\"Medical\",\"Medical\",\"Medical\",\"Medical\",\"Medical\",\"Medical\",\"Medical\",\"Medical\",\"Medical\",\"Medical\",\"Medical\",\"Medical\",\"Medical\",\"Medical\",\"Medical\",\"Medical\",\"Medical\",\"Medical\",\"Medical\",\"Medical\",\"Medical\",\"Medical\",\"Medical\",\"Medical\",\"Medical\",\"Medical\",\"Medical\",\"Medical\",\"Medical\",\"Medical\",\"Medical\",\"Medical\",\"Medical\",\"Medical\",\"Medical\",\"Medical\",\"Medical\",\"Medical\",\"Medical\",\"Medical\",\"Medical\",\"Medical\",\"Medical\",\"Medical\",\"Medical\",\"Medical\",\"Medical\",\"Medical\",\"Medical\",\"Medical\",\"Medical\",\"Medical\",\"Medical\",\"Medical\",\"Medical\",\"Medical\",\"Medical\",\"Medical\",\"Medical\",\"Medical\",\"Medical\",\"Medical\",\"Medical\",\"Medical\",\"Medical\",\"Medical\",\"Medical\",\"Medical\",\"Medical\",\"Medical\",\"Medical\",\"Medical\",\"Medical\",\"Medical\",\"Medical\",\"Medical\",\"Medical\",\"Medical\",\"Medical\",\"Medical\",\"Medical\",\"Medical\",\"Medical\",\"Medical\",\"Medical\",\"Medical\",\"Medical\",\"Medical\",\"Medical\",\"Medical\",\"Medical\",\"Medical\",\"Medical\",\"Medical\"],\"yaxis\":\"y\",\"type\":\"histogram\"},{\"alignmentgroup\":\"True\",\"bingroup\":\"y\",\"hovertemplate\":\"Sec_Genres=Social<br>count=%{x}<br>Main_Genres=%{y}<extra></extra>\",\"legendgroup\":\"Social\",\"marker\":{\"color\":\"#FF97FF\",\"opacity\":1,\"pattern\":{\"shape\":\"\"}},\"name\":\"Social\",\"offsetgroup\":\"Social\",\"orientation\":\"h\",\"showlegend\":true,\"xaxis\":\"x\",\"y\":[\"Social\",\"Social\",\"Social\",\"Social\",\"Social\",\"Social\",\"Social\",\"Social\",\"Social\",\"Social\",\"Social\",\"Social\",\"Social\",\"Social\",\"Social\",\"Social\",\"Social\",\"Social\",\"Social\",\"Social\",\"Social\",\"Social\",\"Social\",\"Social\",\"Social\",\"Social\",\"Social\",\"Social\",\"Social\",\"Social\",\"Social\",\"Social\",\"Social\",\"Social\",\"Social\",\"Social\",\"Social\",\"Social\",\"Social\",\"Social\",\"Social\",\"Social\",\"Social\",\"Social\",\"Social\",\"Social\",\"Social\",\"Social\",\"Social\",\"Social\",\"Social\",\"Social\",\"Social\",\"Social\",\"Social\",\"Social\",\"Social\",\"Social\",\"Social\",\"Social\",\"Social\",\"Social\",\"Social\",\"Social\",\"Social\",\"Social\",\"Social\",\"Social\",\"Social\",\"Social\",\"Social\",\"Social\",\"Social\",\"Social\",\"Social\",\"Social\",\"Social\",\"Social\",\"Social\",\"Social\",\"Social\",\"Social\",\"Social\",\"Social\",\"Social\",\"Social\",\"Social\",\"Social\",\"Social\",\"Social\",\"Social\",\"Social\",\"Social\",\"Social\",\"Social\",\"Social\",\"Social\",\"Social\",\"Social\",\"Social\",\"Social\",\"Social\",\"Social\",\"Social\",\"Social\",\"Social\",\"Social\",\"Social\",\"Social\",\"Social\",\"Social\",\"Social\",\"Social\",\"Social\",\"Social\",\"Social\",\"Social\",\"Social\",\"Social\",\"Social\",\"Social\",\"Social\",\"Social\",\"Social\",\"Social\",\"Social\",\"Social\",\"Social\",\"Social\",\"Social\",\"Social\",\"Social\",\"Social\",\"Social\",\"Social\",\"Social\",\"Social\",\"Social\",\"Social\",\"Social\",\"Social\",\"Social\",\"Social\",\"Social\",\"Social\",\"Social\",\"Social\",\"Social\",\"Social\",\"Social\",\"Social\",\"Social\",\"Social\",\"Social\",\"Social\",\"Social\",\"Social\",\"Social\",\"Social\",\"Social\",\"Social\",\"Social\",\"Social\",\"Social\",\"Social\",\"Social\",\"Social\",\"Social\",\"Social\",\"Social\",\"Social\",\"Social\",\"Social\",\"Social\",\"Social\",\"Social\",\"Social\",\"Social\",\"Social\",\"Social\",\"Social\",\"Social\",\"Social\",\"Social\",\"Social\",\"Social\",\"Social\",\"Social\",\"Social\",\"Social\",\"Social\",\"Social\",\"Social\",\"Social\",\"Social\",\"Social\",\"Social\",\"Social\",\"Social\",\"Social\",\"Social\",\"Social\",\"Social\",\"Social\",\"Social\",\"Social\",\"Social\",\"Social\",\"Social\",\"Social\",\"Social\",\"Social\",\"Social\",\"Social\",\"Social\",\"Social\",\"Social\",\"Social\",\"Social\",\"Social\",\"Social\",\"Social\",\"Social\",\"Social\",\"Social\",\"Social\",\"Social\",\"Social\",\"Social\",\"Social\",\"Social\",\"Social\",\"Social\",\"Social\",\"Social\",\"Social\",\"Social\",\"Social\",\"Social\",\"Social\",\"Social\",\"Social\",\"Social\",\"Social\",\"Social\",\"Social\",\"Social\",\"Social\",\"Social\",\"Social\",\"Social\",\"Social\",\"Social\",\"Social\",\"Social\",\"Social\",\"Social\",\"Social\",\"Social\",\"Social\",\"Social\",\"Social\",\"Social\",\"Social\",\"Social\",\"Social\",\"Social\",\"Social\",\"Social\",\"Social\",\"Social\",\"Social\",\"Social\",\"Social\",\"Social\",\"Social\",\"Social\",\"Social\",\"Social\",\"Social\",\"Social\",\"Social\",\"Social\",\"Social\",\"Social\",\"Social\",\"Social\",\"Social\",\"Social\",\"Social\",\"Social\",\"Social\",\"Social\",\"Social\",\"Social\"],\"yaxis\":\"y\",\"type\":\"histogram\"},{\"alignmentgroup\":\"True\",\"bingroup\":\"y\",\"hovertemplate\":\"Sec_Genres=Shopping<br>count=%{x}<br>Main_Genres=%{y}<extra></extra>\",\"legendgroup\":\"Shopping\",\"marker\":{\"color\":\"#FECB52\",\"opacity\":1,\"pattern\":{\"shape\":\"\"}},\"name\":\"Shopping\",\"offsetgroup\":\"Shopping\",\"orientation\":\"h\",\"showlegend\":true,\"xaxis\":\"x\",\"y\":[\"Shopping\",\"Shopping\",\"Shopping\",\"Shopping\",\"Shopping\",\"Shopping\",\"Shopping\",\"Shopping\",\"Shopping\",\"Shopping\",\"Shopping\",\"Shopping\",\"Shopping\",\"Shopping\",\"Shopping\",\"Shopping\",\"Shopping\",\"Shopping\",\"Shopping\",\"Shopping\",\"Shopping\",\"Shopping\",\"Shopping\",\"Shopping\",\"Shopping\",\"Shopping\",\"Shopping\",\"Shopping\",\"Shopping\",\"Shopping\",\"Shopping\",\"Shopping\",\"Shopping\",\"Shopping\",\"Shopping\",\"Shopping\",\"Shopping\",\"Shopping\",\"Shopping\",\"Shopping\",\"Shopping\",\"Shopping\",\"Shopping\",\"Shopping\",\"Shopping\",\"Shopping\",\"Shopping\",\"Shopping\",\"Shopping\",\"Shopping\",\"Shopping\",\"Shopping\",\"Shopping\",\"Shopping\",\"Shopping\",\"Shopping\",\"Shopping\",\"Shopping\",\"Shopping\",\"Shopping\",\"Shopping\",\"Shopping\",\"Shopping\",\"Shopping\",\"Shopping\",\"Shopping\",\"Shopping\",\"Shopping\",\"Shopping\",\"Shopping\",\"Shopping\",\"Shopping\",\"Shopping\",\"Shopping\",\"Shopping\",\"Shopping\",\"Shopping\",\"Shopping\",\"Shopping\",\"Shopping\",\"Shopping\",\"Shopping\",\"Shopping\",\"Shopping\",\"Shopping\",\"Shopping\",\"Shopping\",\"Shopping\",\"Shopping\",\"Shopping\",\"Shopping\",\"Shopping\",\"Shopping\",\"Shopping\",\"Shopping\",\"Shopping\",\"Shopping\",\"Shopping\",\"Shopping\",\"Shopping\",\"Shopping\",\"Shopping\",\"Shopping\",\"Shopping\",\"Shopping\",\"Shopping\",\"Shopping\",\"Shopping\",\"Shopping\",\"Shopping\",\"Shopping\",\"Shopping\",\"Shopping\",\"Shopping\",\"Shopping\",\"Shopping\",\"Shopping\",\"Shopping\",\"Shopping\",\"Shopping\",\"Shopping\",\"Shopping\",\"Shopping\",\"Shopping\",\"Shopping\",\"Shopping\",\"Shopping\",\"Shopping\",\"Shopping\",\"Shopping\",\"Shopping\",\"Shopping\",\"Shopping\",\"Shopping\",\"Shopping\",\"Shopping\",\"Shopping\",\"Shopping\",\"Shopping\",\"Shopping\",\"Shopping\",\"Shopping\",\"Shopping\",\"Shopping\",\"Shopping\",\"Shopping\",\"Shopping\",\"Shopping\",\"Shopping\",\"Shopping\",\"Shopping\",\"Shopping\",\"Shopping\",\"Shopping\",\"Shopping\",\"Shopping\",\"Shopping\",\"Shopping\",\"Shopping\",\"Shopping\",\"Shopping\",\"Shopping\",\"Shopping\",\"Shopping\",\"Shopping\",\"Shopping\",\"Shopping\",\"Shopping\",\"Shopping\",\"Shopping\",\"Shopping\",\"Shopping\",\"Shopping\",\"Shopping\",\"Shopping\",\"Shopping\",\"Shopping\",\"Shopping\",\"Shopping\",\"Shopping\",\"Shopping\",\"Shopping\",\"Shopping\",\"Shopping\",\"Shopping\",\"Shopping\",\"Shopping\",\"Shopping\",\"Shopping\",\"Shopping\",\"Shopping\",\"Shopping\",\"Shopping\",\"Shopping\",\"Shopping\",\"Shopping\",\"Shopping\",\"Shopping\",\"Shopping\",\"Shopping\",\"Shopping\",\"Shopping\",\"Shopping\",\"Shopping\",\"Shopping\",\"Shopping\",\"Shopping\",\"Shopping\",\"Shopping\",\"Shopping\",\"Shopping\",\"Shopping\",\"Shopping\",\"Shopping\",\"Shopping\",\"Shopping\",\"Shopping\",\"Shopping\",\"Shopping\",\"Shopping\",\"Shopping\",\"Shopping\",\"Shopping\",\"Shopping\",\"Shopping\",\"Shopping\",\"Shopping\",\"Shopping\",\"Shopping\",\"Shopping\",\"Shopping\",\"Shopping\",\"Shopping\",\"Shopping\",\"Shopping\",\"Shopping\",\"Shopping\",\"Shopping\",\"Shopping\",\"Shopping\",\"Shopping\",\"Shopping\",\"Shopping\",\"Shopping\",\"Shopping\",\"Shopping\",\"Shopping\",\"Shopping\",\"Shopping\",\"Shopping\",\"Shopping\",\"Shopping\",\"Shopping\",\"Shopping\",\"Shopping\",\"Shopping\",\"Shopping\",\"Shopping\",\"Shopping\",\"Shopping\"],\"yaxis\":\"y\",\"type\":\"histogram\"},{\"alignmentgroup\":\"True\",\"bingroup\":\"y\",\"hovertemplate\":\"Sec_Genres=Photography<br>count=%{x}<br>Main_Genres=%{y}<extra></extra>\",\"legendgroup\":\"Photography\",\"marker\":{\"color\":\"#636efa\",\"opacity\":1,\"pattern\":{\"shape\":\"\"}},\"name\":\"Photography\",\"offsetgroup\":\"Photography\",\"orientation\":\"h\",\"showlegend\":true,\"xaxis\":\"x\",\"y\":[\"Photography\",\"Photography\",\"Photography\",\"Photography\",\"Photography\",\"Photography\",\"Photography\",\"Photography\",\"Photography\",\"Photography\",\"Photography\",\"Photography\",\"Photography\",\"Photography\",\"Photography\",\"Photography\",\"Photography\",\"Photography\",\"Photography\",\"Photography\",\"Photography\",\"Photography\",\"Photography\",\"Photography\",\"Photography\",\"Photography\",\"Photography\",\"Photography\",\"Photography\",\"Photography\",\"Photography\",\"Photography\",\"Photography\",\"Photography\",\"Photography\",\"Photography\",\"Photography\",\"Photography\",\"Photography\",\"Photography\",\"Photography\",\"Photography\",\"Photography\",\"Photography\",\"Photography\",\"Photography\",\"Photography\",\"Photography\",\"Photography\",\"Photography\",\"Photography\",\"Photography\",\"Photography\",\"Photography\",\"Photography\",\"Photography\",\"Photography\",\"Photography\",\"Photography\",\"Photography\",\"Photography\",\"Photography\",\"Photography\",\"Photography\",\"Photography\",\"Photography\",\"Photography\",\"Photography\",\"Photography\",\"Photography\",\"Photography\",\"Photography\",\"Photography\",\"Photography\",\"Photography\",\"Photography\",\"Photography\",\"Photography\",\"Photography\",\"Photography\",\"Photography\",\"Photography\",\"Photography\",\"Photography\",\"Photography\",\"Photography\",\"Photography\",\"Photography\",\"Photography\",\"Photography\",\"Photography\",\"Photography\",\"Photography\",\"Photography\",\"Photography\",\"Photography\",\"Photography\",\"Photography\",\"Photography\",\"Photography\",\"Photography\",\"Photography\",\"Photography\",\"Photography\",\"Photography\",\"Photography\",\"Photography\",\"Photography\",\"Photography\",\"Photography\",\"Photography\",\"Photography\",\"Photography\",\"Photography\",\"Photography\",\"Photography\",\"Photography\",\"Photography\",\"Photography\",\"Photography\",\"Photography\",\"Photography\",\"Photography\",\"Photography\",\"Photography\",\"Photography\",\"Photography\",\"Photography\",\"Photography\",\"Photography\",\"Photography\",\"Photography\",\"Photography\",\"Photography\",\"Photography\",\"Photography\",\"Photography\",\"Photography\",\"Photography\",\"Photography\",\"Photography\",\"Photography\",\"Photography\",\"Photography\",\"Photography\",\"Photography\",\"Photography\",\"Photography\",\"Photography\",\"Photography\",\"Photography\",\"Photography\",\"Photography\",\"Photography\",\"Photography\",\"Photography\",\"Photography\",\"Photography\",\"Photography\",\"Photography\",\"Photography\",\"Photography\",\"Photography\",\"Photography\",\"Photography\",\"Photography\",\"Photography\",\"Photography\",\"Photography\",\"Photography\",\"Photography\",\"Photography\",\"Photography\",\"Photography\",\"Photography\",\"Photography\",\"Photography\",\"Photography\",\"Photography\",\"Photography\",\"Photography\",\"Photography\",\"Photography\",\"Photography\",\"Photography\",\"Photography\",\"Photography\",\"Photography\",\"Photography\",\"Photography\",\"Photography\",\"Photography\",\"Photography\",\"Photography\",\"Photography\",\"Photography\",\"Photography\",\"Photography\",\"Photography\",\"Photography\",\"Photography\",\"Photography\",\"Photography\",\"Photography\",\"Photography\",\"Photography\",\"Photography\",\"Photography\",\"Photography\",\"Photography\",\"Photography\",\"Photography\",\"Photography\",\"Photography\",\"Photography\",\"Photography\",\"Photography\",\"Photography\",\"Photography\",\"Photography\",\"Photography\",\"Photography\",\"Photography\",\"Photography\",\"Photography\",\"Photography\",\"Photography\",\"Photography\",\"Photography\",\"Photography\",\"Photography\",\"Photography\",\"Photography\",\"Photography\",\"Photography\",\"Photography\",\"Photography\",\"Photography\",\"Photography\",\"Photography\",\"Photography\",\"Photography\",\"Photography\",\"Photography\",\"Photography\",\"Photography\",\"Photography\",\"Photography\",\"Photography\",\"Photography\",\"Photography\",\"Photography\",\"Photography\",\"Photography\",\"Photography\",\"Photography\",\"Photography\",\"Photography\",\"Photography\",\"Photography\",\"Photography\",\"Photography\",\"Photography\",\"Photography\",\"Photography\",\"Photography\",\"Photography\",\"Photography\",\"Photography\",\"Photography\",\"Photography\",\"Photography\",\"Photography\",\"Photography\",\"Photography\",\"Photography\",\"Photography\",\"Photography\",\"Photography\",\"Photography\",\"Photography\",\"Photography\",\"Photography\",\"Photography\",\"Photography\",\"Photography\",\"Photography\",\"Photography\",\"Photography\",\"Photography\",\"Photography\",\"Photography\",\"Photography\",\"Photography\",\"Photography\",\"Photography\",\"Photography\",\"Photography\",\"Photography\",\"Photography\",\"Photography\",\"Photography\",\"Photography\",\"Photography\",\"Photography\",\"Photography\",\"Photography\",\"Photography\",\"Photography\",\"Photography\",\"Photography\",\"Photography\",\"Photography\",\"Photography\",\"Photography\",\"Photography\",\"Photography\",\"Photography\",\"Photography\",\"Photography\",\"Photography\",\"Photography\",\"Photography\",\"Photography\",\"Photography\",\"Photography\",\"Photography\",\"Photography\",\"Photography\",\"Photography\",\"Photography\",\"Photography\",\"Photography\",\"Photography\",\"Photography\"],\"yaxis\":\"y\",\"type\":\"histogram\"},{\"alignmentgroup\":\"True\",\"bingroup\":\"y\",\"hovertemplate\":\"Sec_Genres=Travel & Local<br>count=%{x}<br>Main_Genres=%{y}<extra></extra>\",\"legendgroup\":\"Travel & Local\",\"marker\":{\"color\":\"#EF553B\",\"opacity\":1,\"pattern\":{\"shape\":\"\"}},\"name\":\"Travel & Local\",\"offsetgroup\":\"Travel & Local\",\"orientation\":\"h\",\"showlegend\":true,\"xaxis\":\"x\",\"y\":[\"Travel & Local\",\"Travel & Local\",\"Travel & Local\",\"Travel & Local\",\"Travel & Local\",\"Travel & Local\",\"Travel & Local\",\"Travel & Local\",\"Travel & Local\",\"Travel & Local\",\"Travel & Local\",\"Travel & Local\",\"Travel & Local\",\"Travel & Local\",\"Travel & Local\",\"Travel & Local\",\"Travel & Local\",\"Travel & Local\",\"Travel & Local\",\"Travel & Local\",\"Travel & Local\",\"Travel & Local\",\"Travel & Local\",\"Travel & Local\",\"Travel & Local\",\"Travel & Local\",\"Travel & Local\",\"Travel & Local\",\"Travel & Local\",\"Travel & Local\",\"Travel & Local\",\"Travel & Local\",\"Travel & Local\",\"Travel & Local\",\"Travel & Local\",\"Travel & Local\",\"Travel & Local\",\"Travel & Local\",\"Travel & Local\",\"Travel & Local\",\"Travel & Local\",\"Travel & Local\",\"Travel & Local\",\"Travel & Local\",\"Travel & Local\",\"Travel & Local\",\"Travel & Local\",\"Travel & Local\",\"Travel & Local\",\"Travel & Local\",\"Travel & Local\",\"Travel & Local\",\"Travel & Local\",\"Travel & Local\",\"Travel & Local\",\"Travel & Local\",\"Travel & Local\",\"Travel & Local\",\"Travel & Local\",\"Travel & Local\",\"Travel & Local\",\"Travel & Local\",\"Travel & Local\",\"Travel & Local\",\"Travel & Local\",\"Travel & Local\",\"Travel & Local\",\"Travel & Local\",\"Travel & Local\",\"Travel & Local\",\"Travel & Local\",\"Travel & Local\",\"Travel & Local\",\"Travel & Local\",\"Travel & Local\",\"Travel & Local\",\"Travel & Local\",\"Travel & Local\",\"Travel & Local\",\"Travel & Local\",\"Travel & Local\",\"Travel & Local\",\"Travel & Local\",\"Travel & Local\",\"Travel & Local\",\"Travel & Local\",\"Travel & Local\",\"Travel & Local\",\"Travel & Local\",\"Travel & Local\",\"Travel & Local\",\"Travel & Local\",\"Travel & Local\",\"Travel & Local\",\"Travel & Local\",\"Travel & Local\",\"Travel & Local\",\"Travel & Local\",\"Travel & Local\",\"Travel & Local\",\"Travel & Local\",\"Travel & Local\",\"Travel & Local\",\"Travel & Local\",\"Travel & Local\",\"Travel & Local\",\"Travel & Local\",\"Travel & Local\",\"Travel & Local\",\"Travel & Local\",\"Travel & Local\",\"Travel & Local\",\"Travel & Local\",\"Travel & Local\",\"Travel & Local\",\"Travel & Local\",\"Travel & Local\",\"Travel & Local\",\"Travel & Local\",\"Travel & Local\",\"Travel & Local\",\"Travel & Local\",\"Travel & Local\",\"Travel & Local\",\"Travel & Local\",\"Travel & Local\",\"Travel & Local\",\"Travel & Local\",\"Travel & Local\",\"Travel & Local\",\"Travel & Local\",\"Travel & Local\",\"Travel & Local\",\"Travel & Local\",\"Travel & Local\",\"Travel & Local\",\"Travel & Local\",\"Travel & Local\",\"Travel & Local\",\"Travel & Local\",\"Travel & Local\",\"Travel & Local\",\"Travel & Local\",\"Travel & Local\",\"Travel & Local\",\"Travel & Local\",\"Travel & Local\",\"Travel & Local\",\"Travel & Local\",\"Travel & Local\",\"Travel & Local\",\"Travel & Local\",\"Travel & Local\",\"Travel & Local\",\"Travel & Local\",\"Travel & Local\",\"Travel & Local\",\"Travel & Local\",\"Travel & Local\",\"Travel & Local\",\"Travel & Local\",\"Travel & Local\",\"Travel & Local\",\"Travel & Local\",\"Travel & Local\",\"Travel & Local\",\"Travel & Local\",\"Travel & Local\",\"Travel & Local\",\"Travel & Local\",\"Travel & Local\",\"Travel & Local\",\"Travel & Local\",\"Travel & Local\",\"Travel & Local\",\"Travel & Local\",\"Travel & Local\",\"Travel & Local\",\"Travel & Local\",\"Travel & Local\",\"Travel & Local\",\"Travel & Local\",\"Travel & Local\",\"Travel & Local\",\"Travel & Local\",\"Travel & Local\",\"Travel & Local\",\"Travel & Local\",\"Travel & Local\",\"Travel & Local\",\"Travel & Local\",\"Travel & Local\",\"Travel & Local\",\"Travel & Local\",\"Travel & Local\",\"Travel & Local\",\"Travel & Local\",\"Travel & Local\",\"Travel & Local\",\"Travel & Local\",\"Travel & Local\",\"Travel & Local\",\"Travel & Local\",\"Travel & Local\",\"Travel & Local\",\"Travel & Local\",\"Travel & Local\",\"Travel & Local\",\"Travel & Local\",\"Travel & Local\",\"Travel & Local\",\"Travel & Local\",\"Travel & Local\",\"Travel & Local\",\"Travel & Local\",\"Travel & Local\",\"Travel & Local\",\"Travel & Local\",\"Travel & Local\",\"Travel & Local\",\"Travel & Local\",\"Travel & Local\",\"Travel & Local\",\"Travel & Local\",\"Travel & Local\",\"Travel & Local\",\"Travel & Local\",\"Travel & Local\",\"Travel & Local\",\"Travel & Local\",\"Travel & Local\",\"Travel & Local\",\"Travel & Local\",\"Travel & Local\",\"Travel & Local\",\"Travel & Local\",\"Travel & Local\",\"Travel & Local\",\"Travel & Local\",\"Travel & Local\",\"Travel & Local\",\"Travel & Local\",\"Travel & Local\",\"Travel & Local\",\"Travel & Local\",\"Travel & Local\",\"Travel & Local\",\"Travel & Local\",\"Travel & Local\",\"Travel & Local\",\"Travel & Local\",\"Travel & Local\",\"Travel & Local\",\"Travel & Local\",\"Travel & Local\",\"Travel & Local\",\"Travel & Local\"],\"yaxis\":\"y\",\"type\":\"histogram\"},{\"alignmentgroup\":\"True\",\"bingroup\":\"y\",\"hovertemplate\":\"Sec_Genres=Tools<br>count=%{x}<br>Main_Genres=%{y}<extra></extra>\",\"legendgroup\":\"Tools\",\"marker\":{\"color\":\"#00cc96\",\"opacity\":1,\"pattern\":{\"shape\":\"\"}},\"name\":\"Tools\",\"offsetgroup\":\"Tools\",\"orientation\":\"h\",\"showlegend\":true,\"xaxis\":\"x\",\"y\":[\"Tools\",\"Tools\",\"Tools\",\"Tools\",\"Tools\",\"Tools\",\"Tools\",\"Tools\",\"Tools\",\"Tools\",\"Tools\",\"Tools\",\"Tools\",\"Tools\",\"Tools\",\"Tools\",\"Tools\",\"Tools\",\"Tools\",\"Tools\",\"Tools\",\"Tools\",\"Tools\",\"Tools\",\"Tools\",\"Tools\",\"Tools\",\"Tools\",\"Tools\",\"Tools\",\"Tools\",\"Tools\",\"Tools\",\"Tools\",\"Tools\",\"Tools\",\"Tools\",\"Tools\",\"Tools\",\"Tools\",\"Tools\",\"Tools\",\"Tools\",\"Tools\",\"Tools\",\"Tools\",\"Tools\",\"Tools\",\"Tools\",\"Tools\",\"Tools\",\"Tools\",\"Tools\",\"Tools\",\"Tools\",\"Tools\",\"Tools\",\"Tools\",\"Tools\",\"Tools\",\"Tools\",\"Tools\",\"Tools\",\"Tools\",\"Tools\",\"Tools\",\"Tools\",\"Tools\",\"Tools\",\"Tools\",\"Tools\",\"Tools\",\"Tools\",\"Tools\",\"Tools\",\"Tools\",\"Tools\",\"Tools\",\"Tools\",\"Tools\",\"Tools\",\"Tools\",\"Tools\",\"Tools\",\"Tools\",\"Tools\",\"Tools\",\"Tools\",\"Tools\",\"Tools\",\"Tools\",\"Tools\",\"Tools\",\"Tools\",\"Tools\",\"Tools\",\"Tools\",\"Tools\",\"Tools\",\"Tools\",\"Tools\",\"Tools\",\"Tools\",\"Tools\",\"Tools\",\"Tools\",\"Tools\",\"Tools\",\"Tools\",\"Tools\",\"Tools\",\"Tools\",\"Tools\",\"Tools\",\"Tools\",\"Tools\",\"Tools\",\"Tools\",\"Tools\",\"Tools\",\"Tools\",\"Tools\",\"Tools\",\"Tools\",\"Tools\",\"Tools\",\"Tools\",\"Tools\",\"Tools\",\"Tools\",\"Tools\",\"Tools\",\"Tools\",\"Tools\",\"Tools\",\"Tools\",\"Tools\",\"Tools\",\"Tools\",\"Tools\",\"Tools\",\"Tools\",\"Tools\",\"Tools\",\"Tools\",\"Tools\",\"Tools\",\"Tools\",\"Tools\",\"Tools\",\"Tools\",\"Tools\",\"Tools\",\"Tools\",\"Tools\",\"Tools\",\"Tools\",\"Tools\",\"Tools\",\"Tools\",\"Tools\",\"Tools\",\"Tools\",\"Tools\",\"Tools\",\"Tools\",\"Tools\",\"Tools\",\"Tools\",\"Tools\",\"Tools\",\"Tools\",\"Tools\",\"Tools\",\"Tools\",\"Tools\",\"Tools\",\"Tools\",\"Tools\",\"Tools\",\"Tools\",\"Tools\",\"Tools\",\"Tools\",\"Tools\",\"Tools\",\"Tools\",\"Tools\",\"Tools\",\"Tools\",\"Tools\",\"Tools\",\"Tools\",\"Tools\",\"Tools\",\"Tools\",\"Tools\",\"Tools\",\"Tools\",\"Tools\",\"Tools\",\"Tools\",\"Tools\",\"Tools\",\"Tools\",\"Tools\",\"Tools\",\"Tools\",\"Tools\",\"Tools\",\"Tools\",\"Tools\",\"Tools\",\"Tools\",\"Tools\",\"Tools\",\"Tools\",\"Tools\",\"Tools\",\"Tools\",\"Tools\",\"Tools\",\"Tools\",\"Tools\",\"Tools\",\"Tools\",\"Tools\",\"Tools\",\"Tools\",\"Tools\",\"Tools\",\"Tools\",\"Tools\",\"Tools\",\"Tools\",\"Tools\",\"Tools\",\"Tools\",\"Tools\",\"Tools\",\"Tools\",\"Tools\",\"Tools\",\"Tools\",\"Tools\",\"Tools\",\"Tools\",\"Tools\",\"Tools\",\"Tools\",\"Tools\",\"Tools\",\"Tools\",\"Tools\",\"Tools\",\"Tools\",\"Tools\",\"Tools\",\"Tools\",\"Tools\",\"Tools\",\"Tools\",\"Tools\",\"Tools\",\"Tools\",\"Tools\",\"Tools\",\"Tools\",\"Tools\",\"Tools\",\"Tools\",\"Tools\",\"Tools\",\"Tools\",\"Tools\",\"Tools\",\"Tools\",\"Tools\",\"Tools\",\"Tools\",\"Tools\",\"Tools\",\"Tools\",\"Tools\",\"Tools\",\"Tools\",\"Tools\",\"Tools\",\"Tools\",\"Tools\",\"Tools\",\"Tools\",\"Tools\",\"Tools\",\"Tools\",\"Tools\",\"Tools\",\"Tools\",\"Tools\",\"Tools\",\"Tools\",\"Tools\",\"Tools\",\"Tools\",\"Tools\",\"Tools\",\"Tools\",\"Tools\",\"Tools\",\"Tools\",\"Tools\",\"Tools\",\"Tools\",\"Tools\",\"Tools\",\"Tools\",\"Tools\",\"Tools\",\"Tools\",\"Tools\",\"Tools\",\"Tools\",\"Tools\",\"Tools\",\"Tools\",\"Tools\",\"Tools\",\"Tools\",\"Tools\",\"Tools\",\"Tools\",\"Tools\",\"Tools\",\"Tools\",\"Tools\",\"Tools\",\"Tools\",\"Tools\",\"Tools\",\"Tools\",\"Tools\",\"Tools\",\"Tools\",\"Tools\",\"Tools\",\"Tools\",\"Tools\",\"Tools\",\"Tools\",\"Tools\",\"Tools\",\"Tools\",\"Tools\",\"Tools\",\"Tools\",\"Tools\",\"Tools\",\"Tools\",\"Tools\",\"Tools\",\"Tools\",\"Tools\",\"Tools\",\"Tools\",\"Tools\",\"Tools\",\"Tools\",\"Tools\",\"Tools\",\"Tools\",\"Tools\",\"Tools\",\"Tools\",\"Tools\",\"Tools\",\"Tools\",\"Tools\",\"Tools\",\"Tools\",\"Tools\",\"Tools\",\"Tools\",\"Tools\",\"Tools\",\"Tools\",\"Tools\",\"Tools\",\"Tools\",\"Tools\",\"Tools\",\"Tools\",\"Tools\",\"Tools\",\"Tools\",\"Tools\",\"Tools\",\"Tools\",\"Tools\",\"Tools\",\"Tools\",\"Tools\",\"Tools\",\"Tools\",\"Tools\",\"Tools\",\"Tools\",\"Tools\",\"Tools\",\"Tools\",\"Tools\",\"Tools\",\"Tools\",\"Tools\",\"Tools\",\"Tools\",\"Tools\",\"Tools\",\"Tools\",\"Tools\",\"Tools\",\"Tools\",\"Tools\",\"Tools\",\"Tools\",\"Tools\",\"Tools\",\"Tools\",\"Tools\",\"Tools\",\"Tools\",\"Tools\",\"Tools\",\"Tools\",\"Tools\",\"Tools\",\"Tools\",\"Tools\",\"Tools\",\"Tools\",\"Tools\",\"Tools\",\"Tools\",\"Tools\",\"Tools\",\"Tools\",\"Tools\",\"Tools\",\"Tools\",\"Tools\",\"Tools\",\"Tools\",\"Tools\",\"Tools\",\"Tools\",\"Tools\",\"Tools\",\"Tools\",\"Tools\",\"Tools\",\"Tools\",\"Tools\",\"Tools\",\"Tools\",\"Tools\",\"Tools\",\"Tools\",\"Tools\",\"Tools\",\"Tools\",\"Tools\",\"Tools\",\"Tools\",\"Tools\",\"Tools\",\"Tools\",\"Tools\",\"Tools\",\"Tools\",\"Tools\",\"Tools\",\"Tools\",\"Tools\",\"Tools\",\"Tools\",\"Tools\",\"Tools\",\"Tools\",\"Tools\",\"Tools\",\"Tools\",\"Tools\",\"Tools\",\"Tools\",\"Tools\",\"Tools\",\"Tools\",\"Tools\",\"Tools\",\"Tools\",\"Tools\",\"Tools\",\"Tools\",\"Tools\",\"Tools\",\"Tools\",\"Tools\",\"Tools\",\"Tools\",\"Tools\",\"Tools\",\"Tools\",\"Tools\",\"Tools\",\"Tools\",\"Tools\",\"Tools\",\"Tools\",\"Tools\",\"Tools\",\"Tools\",\"Tools\",\"Tools\",\"Tools\",\"Tools\",\"Tools\",\"Tools\",\"Tools\",\"Tools\",\"Tools\",\"Tools\",\"Tools\",\"Tools\",\"Tools\",\"Tools\",\"Tools\",\"Tools\",\"Tools\",\"Tools\",\"Tools\",\"Tools\",\"Tools\",\"Tools\",\"Tools\",\"Tools\",\"Tools\",\"Tools\",\"Tools\",\"Tools\",\"Tools\",\"Tools\",\"Tools\",\"Tools\",\"Tools\",\"Tools\",\"Tools\",\"Tools\",\"Tools\",\"Tools\",\"Tools\",\"Tools\",\"Tools\",\"Tools\",\"Tools\",\"Tools\",\"Tools\",\"Tools\",\"Tools\",\"Tools\",\"Tools\",\"Tools\",\"Tools\",\"Tools\",\"Tools\",\"Tools\",\"Tools\",\"Tools\",\"Tools\",\"Tools\",\"Tools\",\"Tools\",\"Tools\",\"Tools\",\"Tools\",\"Tools\",\"Tools\",\"Tools\",\"Tools\",\"Tools\",\"Tools\",\"Tools\",\"Tools\",\"Tools\",\"Tools\",\"Tools\",\"Tools\",\"Tools\",\"Tools\",\"Tools\",\"Tools\",\"Tools\",\"Tools\",\"Tools\",\"Tools\",\"Tools\",\"Tools\",\"Tools\",\"Tools\",\"Tools\",\"Tools\",\"Tools\",\"Tools\",\"Tools\",\"Tools\",\"Tools\",\"Tools\",\"Tools\",\"Tools\",\"Tools\",\"Tools\",\"Tools\",\"Tools\",\"Tools\",\"Tools\",\"Tools\",\"Tools\",\"Tools\",\"Tools\",\"Tools\",\"Tools\",\"Tools\",\"Tools\",\"Tools\",\"Tools\",\"Tools\",\"Tools\",\"Tools\",\"Tools\",\"Tools\",\"Tools\",\"Tools\",\"Tools\",\"Tools\",\"Tools\",\"Tools\",\"Tools\",\"Tools\",\"Tools\",\"Tools\",\"Tools\",\"Tools\",\"Tools\",\"Tools\",\"Tools\",\"Tools\",\"Tools\",\"Tools\",\"Tools\",\"Tools\",\"Tools\",\"Tools\",\"Tools\",\"Tools\",\"Tools\",\"Tools\",\"Tools\",\"Tools\",\"Tools\",\"Tools\",\"Tools\",\"Tools\",\"Tools\",\"Tools\",\"Tools\",\"Tools\",\"Tools\",\"Tools\",\"Tools\",\"Tools\",\"Tools\",\"Tools\",\"Tools\",\"Tools\",\"Tools\",\"Tools\",\"Tools\",\"Tools\",\"Tools\",\"Tools\",\"Tools\",\"Tools\",\"Tools\",\"Tools\",\"Tools\",\"Tools\",\"Tools\",\"Tools\",\"Tools\",\"Tools\",\"Tools\",\"Tools\",\"Tools\",\"Tools\",\"Tools\",\"Tools\",\"Tools\",\"Tools\",\"Tools\",\"Tools\",\"Tools\",\"Tools\",\"Tools\",\"Tools\",\"Tools\",\"Tools\",\"Tools\",\"Tools\",\"Tools\",\"Tools\",\"Tools\",\"Tools\",\"Tools\",\"Tools\",\"Tools\",\"Tools\",\"Tools\",\"Tools\",\"Tools\",\"Tools\",\"Tools\",\"Tools\",\"Tools\",\"Tools\",\"Tools\",\"Tools\",\"Tools\",\"Tools\",\"Tools\",\"Tools\",\"Tools\",\"Tools\",\"Tools\",\"Tools\",\"Tools\",\"Tools\",\"Tools\",\"Tools\",\"Tools\",\"Tools\",\"Tools\",\"Tools\",\"Tools\",\"Tools\",\"Tools\",\"Tools\",\"Tools\",\"Tools\",\"Tools\",\"Tools\",\"Tools\",\"Tools\",\"Tools\",\"Tools\",\"Tools\",\"Tools\",\"Tools\",\"Tools\",\"Tools\",\"Tools\",\"Tools\",\"Tools\",\"Tools\",\"Tools\",\"Tools\",\"Tools\",\"Tools\",\"Tools\",\"Tools\",\"Tools\",\"Tools\",\"Tools\",\"Tools\",\"Tools\",\"Tools\",\"Tools\",\"Tools\",\"Tools\",\"Tools\",\"Tools\",\"Tools\",\"Tools\",\"Tools\",\"Tools\",\"Tools\",\"Tools\",\"Tools\",\"Tools\",\"Tools\",\"Tools\",\"Tools\",\"Tools\",\"Tools\",\"Tools\",\"Tools\",\"Tools\",\"Tools\",\"Tools\",\"Tools\",\"Tools\",\"Tools\",\"Tools\",\"Tools\",\"Tools\",\"Tools\",\"Tools\",\"Tools\",\"Tools\",\"Tools\",\"Tools\",\"Tools\",\"Tools\",\"Tools\",\"Tools\",\"Tools\",\"Tools\",\"Tools\",\"Tools\",\"Tools\",\"Tools\",\"Tools\",\"Tools\",\"Tools\",\"Tools\",\"Tools\",\"Tools\",\"Tools\",\"Tools\",\"Tools\",\"Tools\",\"Tools\",\"Tools\",\"Tools\",\"Tools\"],\"yaxis\":\"y\",\"type\":\"histogram\"},{\"alignmentgroup\":\"True\",\"bingroup\":\"y\",\"hovertemplate\":\"Sec_Genres=Personalization<br>count=%{x}<br>Main_Genres=%{y}<extra></extra>\",\"legendgroup\":\"Personalization\",\"marker\":{\"color\":\"#ab63fa\",\"opacity\":1,\"pattern\":{\"shape\":\"\"}},\"name\":\"Personalization\",\"offsetgroup\":\"Personalization\",\"orientation\":\"h\",\"showlegend\":true,\"xaxis\":\"x\",\"y\":[\"Personalization\",\"Personalization\",\"Personalization\",\"Personalization\",\"Personalization\",\"Personalization\",\"Personalization\",\"Personalization\",\"Personalization\",\"Personalization\",\"Personalization\",\"Personalization\",\"Personalization\",\"Personalization\",\"Personalization\",\"Personalization\",\"Personalization\",\"Personalization\",\"Personalization\",\"Personalization\",\"Personalization\",\"Personalization\",\"Personalization\",\"Personalization\",\"Personalization\",\"Personalization\",\"Personalization\",\"Personalization\",\"Personalization\",\"Personalization\",\"Personalization\",\"Personalization\",\"Personalization\",\"Personalization\",\"Personalization\",\"Personalization\",\"Personalization\",\"Personalization\",\"Personalization\",\"Personalization\",\"Personalization\",\"Personalization\",\"Personalization\",\"Personalization\",\"Personalization\",\"Personalization\",\"Personalization\",\"Personalization\",\"Personalization\",\"Personalization\",\"Personalization\",\"Personalization\",\"Personalization\",\"Personalization\",\"Personalization\",\"Personalization\",\"Personalization\",\"Personalization\",\"Personalization\",\"Personalization\",\"Personalization\",\"Personalization\",\"Personalization\",\"Personalization\",\"Personalization\",\"Personalization\",\"Personalization\",\"Personalization\",\"Personalization\",\"Personalization\",\"Personalization\",\"Personalization\",\"Personalization\",\"Personalization\",\"Personalization\",\"Personalization\",\"Personalization\",\"Personalization\",\"Personalization\",\"Personalization\",\"Personalization\",\"Personalization\",\"Personalization\",\"Personalization\",\"Personalization\",\"Personalization\",\"Personalization\",\"Personalization\",\"Personalization\",\"Personalization\",\"Personalization\",\"Personalization\",\"Personalization\",\"Personalization\",\"Personalization\",\"Personalization\",\"Personalization\",\"Personalization\",\"Personalization\",\"Personalization\",\"Personalization\",\"Personalization\",\"Personalization\",\"Personalization\",\"Personalization\",\"Personalization\",\"Personalization\",\"Personalization\",\"Personalization\",\"Personalization\",\"Personalization\",\"Personalization\",\"Personalization\",\"Personalization\",\"Personalization\",\"Personalization\",\"Personalization\",\"Personalization\",\"Personalization\",\"Personalization\",\"Personalization\",\"Personalization\",\"Personalization\",\"Personalization\",\"Personalization\",\"Personalization\",\"Personalization\",\"Personalization\",\"Personalization\",\"Personalization\",\"Personalization\",\"Personalization\",\"Personalization\",\"Personalization\",\"Personalization\",\"Personalization\",\"Personalization\",\"Personalization\",\"Personalization\",\"Personalization\",\"Personalization\",\"Personalization\",\"Personalization\",\"Personalization\",\"Personalization\",\"Personalization\",\"Personalization\",\"Personalization\",\"Personalization\",\"Personalization\",\"Personalization\",\"Personalization\",\"Personalization\",\"Personalization\",\"Personalization\",\"Personalization\",\"Personalization\",\"Personalization\",\"Personalization\",\"Personalization\",\"Personalization\",\"Personalization\",\"Personalization\",\"Personalization\",\"Personalization\",\"Personalization\",\"Personalization\",\"Personalization\",\"Personalization\",\"Personalization\",\"Personalization\",\"Personalization\",\"Personalization\",\"Personalization\",\"Personalization\",\"Personalization\",\"Personalization\",\"Personalization\",\"Personalization\",\"Personalization\",\"Personalization\",\"Personalization\",\"Personalization\",\"Personalization\",\"Personalization\",\"Personalization\",\"Personalization\",\"Personalization\",\"Personalization\",\"Personalization\",\"Personalization\",\"Personalization\",\"Personalization\",\"Personalization\",\"Personalization\",\"Personalization\",\"Personalization\",\"Personalization\",\"Personalization\",\"Personalization\",\"Personalization\",\"Personalization\",\"Personalization\",\"Personalization\",\"Personalization\",\"Personalization\",\"Personalization\",\"Personalization\",\"Personalization\",\"Personalization\",\"Personalization\",\"Personalization\",\"Personalization\",\"Personalization\",\"Personalization\",\"Personalization\",\"Personalization\",\"Personalization\",\"Personalization\",\"Personalization\",\"Personalization\",\"Personalization\",\"Personalization\",\"Personalization\",\"Personalization\",\"Personalization\",\"Personalization\",\"Personalization\",\"Personalization\",\"Personalization\",\"Personalization\",\"Personalization\",\"Personalization\",\"Personalization\",\"Personalization\",\"Personalization\",\"Personalization\",\"Personalization\",\"Personalization\",\"Personalization\",\"Personalization\",\"Personalization\",\"Personalization\",\"Personalization\",\"Personalization\",\"Personalization\",\"Personalization\",\"Personalization\",\"Personalization\",\"Personalization\",\"Personalization\",\"Personalization\",\"Personalization\",\"Personalization\",\"Personalization\",\"Personalization\",\"Personalization\",\"Personalization\",\"Personalization\",\"Personalization\",\"Personalization\",\"Personalization\",\"Personalization\",\"Personalization\",\"Personalization\",\"Personalization\",\"Personalization\",\"Personalization\",\"Personalization\",\"Personalization\",\"Personalization\",\"Personalization\",\"Personalization\",\"Personalization\",\"Personalization\",\"Personalization\",\"Personalization\",\"Personalization\",\"Personalization\",\"Personalization\",\"Personalization\",\"Personalization\",\"Personalization\",\"Personalization\",\"Personalization\",\"Personalization\",\"Personalization\",\"Personalization\",\"Personalization\",\"Personalization\",\"Personalization\",\"Personalization\",\"Personalization\",\"Personalization\",\"Personalization\",\"Personalization\",\"Personalization\",\"Personalization\",\"Personalization\",\"Personalization\",\"Personalization\",\"Personalization\",\"Personalization\",\"Personalization\",\"Personalization\",\"Personalization\",\"Personalization\",\"Personalization\",\"Personalization\",\"Personalization\",\"Personalization\",\"Personalization\",\"Personalization\",\"Personalization\",\"Personalization\",\"Personalization\",\"Personalization\",\"Personalization\",\"Personalization\",\"Personalization\",\"Personalization\",\"Personalization\",\"Personalization\",\"Personalization\",\"Personalization\",\"Personalization\",\"Personalization\",\"Personalization\",\"Personalization\",\"Personalization\",\"Personalization\",\"Personalization\",\"Personalization\",\"Personalization\",\"Personalization\",\"Personalization\",\"Personalization\",\"Personalization\",\"Personalization\",\"Personalization\",\"Personalization\",\"Personalization\",\"Personalization\",\"Personalization\",\"Personalization\",\"Personalization\",\"Personalization\",\"Personalization\",\"Personalization\",\"Personalization\",\"Personalization\",\"Personalization\",\"Personalization\",\"Personalization\",\"Personalization\",\"Personalization\",\"Personalization\",\"Personalization\",\"Personalization\",\"Personalization\",\"Personalization\",\"Personalization\",\"Personalization\",\"Personalization\",\"Personalization\",\"Personalization\",\"Personalization\",\"Personalization\",\"Personalization\",\"Personalization\",\"Personalization\",\"Personalization\",\"Personalization\",\"Personalization\",\"Personalization\",\"Personalization\",\"Personalization\",\"Personalization\",\"Personalization\",\"Personalization\",\"Personalization\",\"Personalization\",\"Personalization\",\"Personalization\",\"Personalization\",\"Personalization\",\"Personalization\",\"Personalization\",\"Personalization\",\"Personalization\"],\"yaxis\":\"y\",\"type\":\"histogram\"},{\"alignmentgroup\":\"True\",\"bingroup\":\"y\",\"hovertemplate\":\"Sec_Genres=Productivity<br>count=%{x}<br>Main_Genres=%{y}<extra></extra>\",\"legendgroup\":\"Productivity\",\"marker\":{\"color\":\"#FFA15A\",\"opacity\":1,\"pattern\":{\"shape\":\"\"}},\"name\":\"Productivity\",\"offsetgroup\":\"Productivity\",\"orientation\":\"h\",\"showlegend\":true,\"xaxis\":\"x\",\"y\":[\"Productivity\",\"Productivity\",\"Productivity\",\"Productivity\",\"Productivity\",\"Productivity\",\"Productivity\",\"Productivity\",\"Productivity\",\"Productivity\",\"Productivity\",\"Productivity\",\"Productivity\",\"Productivity\",\"Productivity\",\"Productivity\",\"Productivity\",\"Productivity\",\"Productivity\",\"Productivity\",\"Productivity\",\"Productivity\",\"Productivity\",\"Productivity\",\"Productivity\",\"Productivity\",\"Productivity\",\"Productivity\",\"Productivity\",\"Productivity\",\"Productivity\",\"Productivity\",\"Productivity\",\"Productivity\",\"Productivity\",\"Productivity\",\"Productivity\",\"Productivity\",\"Productivity\",\"Productivity\",\"Productivity\",\"Productivity\",\"Productivity\",\"Productivity\",\"Productivity\",\"Productivity\",\"Productivity\",\"Productivity\",\"Productivity\",\"Productivity\",\"Productivity\",\"Productivity\",\"Productivity\",\"Productivity\",\"Productivity\",\"Productivity\",\"Productivity\",\"Productivity\",\"Productivity\",\"Productivity\",\"Productivity\",\"Productivity\",\"Productivity\",\"Productivity\",\"Productivity\",\"Productivity\",\"Productivity\",\"Productivity\",\"Productivity\",\"Productivity\",\"Productivity\",\"Productivity\",\"Productivity\",\"Productivity\",\"Productivity\",\"Productivity\",\"Productivity\",\"Productivity\",\"Productivity\",\"Productivity\",\"Productivity\",\"Productivity\",\"Productivity\",\"Productivity\",\"Productivity\",\"Productivity\",\"Productivity\",\"Productivity\",\"Productivity\",\"Productivity\",\"Productivity\",\"Productivity\",\"Productivity\",\"Productivity\",\"Productivity\",\"Productivity\",\"Productivity\",\"Productivity\",\"Productivity\",\"Productivity\",\"Productivity\",\"Productivity\",\"Productivity\",\"Productivity\",\"Productivity\",\"Productivity\",\"Productivity\",\"Productivity\",\"Productivity\",\"Productivity\",\"Productivity\",\"Productivity\",\"Productivity\",\"Productivity\",\"Productivity\",\"Productivity\",\"Productivity\",\"Productivity\",\"Productivity\",\"Productivity\",\"Productivity\",\"Productivity\",\"Productivity\",\"Productivity\",\"Productivity\",\"Productivity\",\"Productivity\",\"Productivity\",\"Productivity\",\"Productivity\",\"Productivity\",\"Productivity\",\"Productivity\",\"Productivity\",\"Productivity\",\"Productivity\",\"Productivity\",\"Productivity\",\"Productivity\",\"Productivity\",\"Productivity\",\"Productivity\",\"Productivity\",\"Productivity\",\"Productivity\",\"Productivity\",\"Productivity\",\"Productivity\",\"Productivity\",\"Productivity\",\"Productivity\",\"Productivity\",\"Productivity\",\"Productivity\",\"Productivity\",\"Productivity\",\"Productivity\",\"Productivity\",\"Productivity\",\"Productivity\",\"Productivity\",\"Productivity\",\"Productivity\",\"Productivity\",\"Productivity\",\"Productivity\",\"Productivity\",\"Productivity\",\"Productivity\",\"Productivity\",\"Productivity\",\"Productivity\",\"Productivity\",\"Productivity\",\"Productivity\",\"Productivity\",\"Productivity\",\"Productivity\",\"Productivity\",\"Productivity\",\"Productivity\",\"Productivity\",\"Productivity\",\"Productivity\",\"Productivity\",\"Productivity\",\"Productivity\",\"Productivity\",\"Productivity\",\"Productivity\",\"Productivity\",\"Productivity\",\"Productivity\",\"Productivity\",\"Productivity\",\"Productivity\",\"Productivity\",\"Productivity\",\"Productivity\",\"Productivity\",\"Productivity\",\"Productivity\",\"Productivity\",\"Productivity\",\"Productivity\",\"Productivity\",\"Productivity\",\"Productivity\",\"Productivity\",\"Productivity\",\"Productivity\",\"Productivity\",\"Productivity\",\"Productivity\",\"Productivity\",\"Productivity\",\"Productivity\",\"Productivity\",\"Productivity\",\"Productivity\",\"Productivity\",\"Productivity\",\"Productivity\",\"Productivity\",\"Productivity\",\"Productivity\",\"Productivity\",\"Productivity\",\"Productivity\",\"Productivity\",\"Productivity\",\"Productivity\",\"Productivity\",\"Productivity\",\"Productivity\",\"Productivity\",\"Productivity\",\"Productivity\",\"Productivity\",\"Productivity\",\"Productivity\",\"Productivity\",\"Productivity\",\"Productivity\",\"Productivity\",\"Productivity\",\"Productivity\",\"Productivity\",\"Productivity\",\"Productivity\",\"Productivity\",\"Productivity\",\"Productivity\",\"Productivity\",\"Productivity\",\"Productivity\",\"Productivity\",\"Productivity\",\"Productivity\",\"Productivity\",\"Productivity\",\"Productivity\",\"Productivity\",\"Productivity\",\"Productivity\",\"Productivity\",\"Productivity\",\"Productivity\",\"Productivity\",\"Productivity\",\"Productivity\",\"Productivity\",\"Productivity\",\"Productivity\",\"Productivity\",\"Productivity\",\"Productivity\",\"Productivity\",\"Productivity\",\"Productivity\",\"Productivity\",\"Productivity\",\"Productivity\",\"Productivity\",\"Productivity\",\"Productivity\",\"Productivity\",\"Productivity\",\"Productivity\",\"Productivity\",\"Productivity\",\"Productivity\",\"Productivity\",\"Productivity\",\"Productivity\",\"Productivity\",\"Productivity\",\"Productivity\",\"Productivity\",\"Productivity\",\"Productivity\",\"Productivity\",\"Productivity\",\"Productivity\",\"Productivity\",\"Productivity\",\"Productivity\",\"Productivity\",\"Productivity\",\"Productivity\",\"Productivity\",\"Productivity\",\"Productivity\",\"Productivity\",\"Productivity\",\"Productivity\",\"Productivity\",\"Productivity\",\"Productivity\",\"Productivity\",\"Productivity\",\"Productivity\",\"Productivity\",\"Productivity\",\"Productivity\",\"Productivity\",\"Productivity\",\"Productivity\",\"Productivity\",\"Productivity\",\"Productivity\",\"Productivity\",\"Productivity\",\"Productivity\",\"Productivity\",\"Productivity\",\"Productivity\",\"Productivity\",\"Productivity\",\"Productivity\",\"Productivity\",\"Productivity\",\"Productivity\",\"Productivity\",\"Productivity\",\"Productivity\",\"Productivity\",\"Productivity\",\"Productivity\",\"Productivity\",\"Productivity\",\"Productivity\",\"Productivity\",\"Productivity\",\"Productivity\",\"Productivity\",\"Productivity\",\"Productivity\",\"Productivity\",\"Productivity\",\"Productivity\",\"Productivity\",\"Productivity\",\"Productivity\",\"Productivity\",\"Productivity\",\"Productivity\",\"Productivity\",\"Productivity\",\"Productivity\",\"Productivity\",\"Productivity\",\"Productivity\",\"Productivity\",\"Productivity\",\"Productivity\",\"Productivity\",\"Productivity\",\"Productivity\",\"Productivity\",\"Productivity\",\"Productivity\",\"Productivity\",\"Productivity\",\"Productivity\",\"Productivity\",\"Productivity\",\"Productivity\",\"Productivity\",\"Productivity\",\"Productivity\",\"Productivity\",\"Productivity\",\"Productivity\",\"Productivity\",\"Productivity\",\"Productivity\",\"Productivity\",\"Productivity\",\"Productivity\",\"Productivity\",\"Productivity\",\"Productivity\",\"Productivity\",\"Productivity\",\"Productivity\",\"Productivity\",\"Productivity\",\"Productivity\",\"Productivity\",\"Productivity\",\"Productivity\",\"Productivity\",\"Productivity\",\"Productivity\",\"Productivity\",\"Productivity\",\"Productivity\",\"Productivity\",\"Productivity\",\"Productivity\",\"Productivity\",\"Productivity\",\"Productivity\"],\"yaxis\":\"y\",\"type\":\"histogram\"},{\"alignmentgroup\":\"True\",\"bingroup\":\"y\",\"hovertemplate\":\"Sec_Genres=Parenting<br>count=%{x}<br>Main_Genres=%{y}<extra></extra>\",\"legendgroup\":\"Parenting\",\"marker\":{\"color\":\"#19d3f3\",\"opacity\":1,\"pattern\":{\"shape\":\"\"}},\"name\":\"Parenting\",\"offsetgroup\":\"Parenting\",\"orientation\":\"h\",\"showlegend\":true,\"xaxis\":\"x\",\"y\":[\"Parenting\",\"Parenting\",\"Parenting\",\"Parenting\",\"Parenting\",\"Parenting\",\"Parenting\",\"Parenting\",\"Parenting\",\"Parenting\",\"Parenting\",\"Parenting\",\"Parenting\",\"Parenting\",\"Parenting\",\"Parenting\",\"Parenting\",\"Parenting\",\"Parenting\",\"Parenting\",\"Parenting\",\"Parenting\",\"Parenting\",\"Parenting\",\"Parenting\",\"Parenting\",\"Parenting\",\"Parenting\",\"Parenting\",\"Parenting\",\"Parenting\",\"Parenting\",\"Parenting\",\"Parenting\",\"Parenting\",\"Parenting\",\"Parenting\",\"Parenting\",\"Parenting\",\"Parenting\",\"Parenting\",\"Parenting\",\"Parenting\",\"Parenting\",\"Parenting\",\"Parenting\"],\"yaxis\":\"y\",\"type\":\"histogram\"},{\"alignmentgroup\":\"True\",\"bingroup\":\"y\",\"hovertemplate\":\"Sec_Genres=Weather<br>count=%{x}<br>Main_Genres=%{y}<extra></extra>\",\"legendgroup\":\"Weather\",\"marker\":{\"color\":\"#FF6692\",\"opacity\":1,\"pattern\":{\"shape\":\"\"}},\"name\":\"Weather\",\"offsetgroup\":\"Weather\",\"orientation\":\"h\",\"showlegend\":true,\"xaxis\":\"x\",\"y\":[\"Weather\",\"Weather\",\"Weather\",\"Weather\",\"Weather\",\"Weather\",\"Weather\",\"Weather\",\"Weather\",\"Weather\",\"Weather\",\"Weather\",\"Weather\",\"Weather\",\"Weather\",\"Weather\",\"Weather\",\"Weather\",\"Weather\",\"Weather\",\"Weather\",\"Weather\",\"Weather\",\"Weather\",\"Weather\",\"Weather\",\"Weather\",\"Weather\",\"Weather\",\"Weather\",\"Weather\",\"Weather\",\"Weather\",\"Weather\",\"Weather\",\"Weather\",\"Weather\",\"Weather\",\"Weather\",\"Weather\",\"Weather\",\"Weather\",\"Weather\",\"Weather\",\"Weather\",\"Weather\",\"Weather\",\"Weather\",\"Weather\",\"Weather\",\"Weather\",\"Weather\",\"Weather\",\"Weather\",\"Weather\",\"Weather\",\"Weather\",\"Weather\",\"Weather\",\"Weather\",\"Weather\",\"Weather\",\"Weather\",\"Weather\",\"Weather\",\"Weather\",\"Weather\",\"Weather\",\"Weather\",\"Weather\",\"Weather\",\"Weather\",\"Weather\",\"Weather\",\"Weather\",\"Weather\",\"Weather\",\"Weather\",\"Weather\",\"Weather\",\"Weather\",\"Weather\"],\"yaxis\":\"y\",\"type\":\"histogram\"},{\"alignmentgroup\":\"True\",\"bingroup\":\"y\",\"hovertemplate\":\"Sec_Genres=Video Players & Editors<br>count=%{x}<br>Main_Genres=%{y}<extra></extra>\",\"legendgroup\":\"Video Players & Editors\",\"marker\":{\"color\":\"#B6E880\",\"opacity\":1,\"pattern\":{\"shape\":\"\"}},\"name\":\"Video Players & Editors\",\"offsetgroup\":\"Video Players & Editors\",\"orientation\":\"h\",\"showlegend\":true,\"xaxis\":\"x\",\"y\":[\"Video Players & Editors\",\"Video Players & Editors\",\"Video Players & Editors\",\"Video Players & Editors\",\"Video Players & Editors\",\"Video Players & Editors\",\"Video Players & Editors\",\"Video Players & Editors\",\"Video Players & Editors\",\"Video Players & Editors\",\"Video Players & Editors\",\"Video Players & Editors\",\"Video Players & Editors\",\"Video Players & Editors\",\"Video Players & Editors\",\"Video Players & Editors\",\"Video Players & Editors\",\"Video Players & Editors\",\"Video Players & Editors\",\"Video Players & Editors\",\"Video Players & Editors\",\"Video Players & Editors\",\"Video Players & Editors\",\"Video Players & Editors\",\"Video Players & Editors\",\"Video Players & Editors\",\"Video Players & Editors\",\"Video Players & Editors\",\"Video Players & Editors\",\"Video Players & Editors\",\"Video Players & Editors\",\"Video Players & Editors\",\"Video Players & Editors\",\"Video Players & Editors\",\"Video Players & Editors\",\"Video Players & Editors\",\"Video Players & Editors\",\"Video Players & Editors\",\"Video Players & Editors\",\"Video Players & Editors\",\"Video Players & Editors\",\"Video Players & Editors\",\"Video Players & Editors\",\"Video Players & Editors\",\"Video Players & Editors\",\"Video Players & Editors\",\"Video Players & Editors\",\"Video Players & Editors\",\"Video Players & Editors\",\"Video Players & Editors\",\"Video Players & Editors\",\"Video Players & Editors\",\"Video Players & Editors\",\"Video Players & Editors\",\"Video Players & Editors\",\"Video Players & Editors\",\"Video Players & Editors\",\"Video Players & Editors\",\"Video Players & Editors\",\"Video Players & Editors\",\"Video Players & Editors\",\"Video Players & Editors\",\"Video Players & Editors\",\"Video Players & Editors\",\"Video Players & Editors\",\"Video Players & Editors\",\"Video Players & Editors\",\"Video Players & Editors\",\"Video Players & Editors\",\"Video Players & Editors\",\"Video Players & Editors\",\"Video Players & Editors\",\"Video Players & Editors\",\"Video Players & Editors\",\"Video Players & Editors\",\"Video Players & Editors\",\"Video Players & Editors\",\"Video Players & Editors\",\"Video Players & Editors\",\"Video Players & Editors\",\"Video Players & Editors\",\"Video Players & Editors\",\"Video Players & Editors\",\"Video Players & Editors\",\"Video Players & Editors\",\"Video Players & Editors\",\"Video Players & Editors\",\"Video Players & Editors\",\"Video Players & Editors\",\"Video Players & Editors\",\"Video Players & Editors\",\"Video Players & Editors\",\"Video Players & Editors\",\"Video Players & Editors\",\"Video Players & Editors\",\"Video Players & Editors\",\"Video Players & Editors\",\"Video Players & Editors\",\"Video Players & Editors\",\"Video Players & Editors\",\"Video Players & Editors\",\"Video Players & Editors\",\"Video Players & Editors\",\"Video Players & Editors\",\"Video Players & Editors\",\"Video Players & Editors\",\"Video Players & Editors\",\"Video Players & Editors\",\"Video Players & Editors\",\"Video Players & Editors\",\"Video Players & Editors\",\"Video Players & Editors\",\"Video Players & Editors\",\"Video Players & Editors\",\"Video Players & Editors\",\"Video Players & Editors\",\"Video Players & Editors\",\"Video Players & Editors\",\"Video Players & Editors\",\"Video Players & Editors\",\"Video Players & Editors\",\"Video Players & Editors\",\"Video Players & Editors\",\"Video Players & Editors\",\"Video Players & Editors\",\"Video Players & Editors\",\"Video Players & Editors\",\"Video Players & Editors\",\"Video Players & Editors\",\"Video Players & Editors\",\"Video Players & Editors\",\"Video Players & Editors\",\"Video Players & Editors\",\"Video Players & Editors\",\"Video Players & Editors\",\"Video Players & Editors\",\"Video Players & Editors\",\"Video Players & Editors\",\"Video Players & Editors\",\"Video Players & Editors\",\"Video Players & Editors\",\"Video Players & Editors\",\"Video Players & Editors\",\"Video Players & Editors\",\"Video Players & Editors\",\"Video Players & Editors\",\"Video Players & Editors\",\"Video Players & Editors\",\"Video Players & Editors\",\"Video Players & Editors\",\"Video Players & Editors\",\"Video Players & Editors\",\"Video Players & Editors\",\"Video Players & Editors\",\"Video Players & Editors\",\"Video Players & Editors\",\"Video Players & Editors\",\"Video Players & Editors\",\"Video Players & Editors\",\"Video Players & Editors\",\"Video Players & Editors\",\"Video Players & Editors\",\"Video Players & Editors\",\"Video Players & Editors\",\"Video Players & Editors\",\"Video Players & Editors\",\"Video Players & Editors\",\"Video Players & Editors\",\"Video Players & Editors\",\"Video Players & Editors\",\"Video Players & Editors\",\"Video Players & Editors\",\"Video Players & Editors\"],\"yaxis\":\"y\",\"type\":\"histogram\"},{\"alignmentgroup\":\"True\",\"bingroup\":\"y\",\"hovertemplate\":\"Sec_Genres=News & Magazines<br>count=%{x}<br>Main_Genres=%{y}<extra></extra>\",\"legendgroup\":\"News & Magazines\",\"marker\":{\"color\":\"#FF97FF\",\"opacity\":1,\"pattern\":{\"shape\":\"\"}},\"name\":\"News & Magazines\",\"offsetgroup\":\"News & Magazines\",\"orientation\":\"h\",\"showlegend\":true,\"xaxis\":\"x\",\"y\":[\"News & Magazines\",\"News & Magazines\",\"News & Magazines\",\"News & Magazines\",\"News & Magazines\",\"News & Magazines\",\"News & Magazines\",\"News & Magazines\",\"News & Magazines\",\"News & Magazines\",\"News & Magazines\",\"News & Magazines\",\"News & Magazines\",\"News & Magazines\",\"News & Magazines\",\"News & Magazines\",\"News & Magazines\",\"News & Magazines\",\"News & Magazines\",\"News & Magazines\",\"News & Magazines\",\"News & Magazines\",\"News & Magazines\",\"News & Magazines\",\"News & Magazines\",\"News & Magazines\",\"News & Magazines\",\"News & Magazines\",\"News & Magazines\",\"News & Magazines\",\"News & Magazines\",\"News & Magazines\",\"News & Magazines\",\"News & Magazines\",\"News & Magazines\",\"News & Magazines\",\"News & Magazines\",\"News & Magazines\",\"News & Magazines\",\"News & Magazines\",\"News & Magazines\",\"News & Magazines\",\"News & Magazines\",\"News & Magazines\",\"News & Magazines\",\"News & Magazines\",\"News & Magazines\",\"News & Magazines\",\"News & Magazines\",\"News & Magazines\",\"News & Magazines\",\"News & Magazines\",\"News & Magazines\",\"News & Magazines\",\"News & Magazines\",\"News & Magazines\",\"News & Magazines\",\"News & Magazines\",\"News & Magazines\",\"News & Magazines\",\"News & Magazines\",\"News & Magazines\",\"News & Magazines\",\"News & Magazines\",\"News & Magazines\",\"News & Magazines\",\"News & Magazines\",\"News & Magazines\",\"News & Magazines\",\"News & Magazines\",\"News & Magazines\",\"News & Magazines\",\"News & Magazines\",\"News & Magazines\",\"News & Magazines\",\"News & Magazines\",\"News & Magazines\",\"News & Magazines\",\"News & Magazines\",\"News & Magazines\",\"News & Magazines\",\"News & Magazines\",\"News & Magazines\",\"News & Magazines\",\"News & Magazines\",\"News & Magazines\",\"News & Magazines\",\"News & Magazines\",\"News & Magazines\",\"News & Magazines\",\"News & Magazines\",\"News & Magazines\",\"News & Magazines\",\"News & Magazines\",\"News & Magazines\",\"News & Magazines\",\"News & Magazines\",\"News & Magazines\",\"News & Magazines\",\"News & Magazines\",\"News & Magazines\",\"News & Magazines\",\"News & Magazines\",\"News & Magazines\",\"News & Magazines\",\"News & Magazines\",\"News & Magazines\",\"News & Magazines\",\"News & Magazines\",\"News & Magazines\",\"News & Magazines\",\"News & Magazines\",\"News & Magazines\",\"News & Magazines\",\"News & Magazines\",\"News & Magazines\",\"News & Magazines\",\"News & Magazines\",\"News & Magazines\",\"News & Magazines\",\"News & Magazines\",\"News & Magazines\",\"News & Magazines\",\"News & Magazines\",\"News & Magazines\",\"News & Magazines\",\"News & Magazines\",\"News & Magazines\",\"News & Magazines\",\"News & Magazines\",\"News & Magazines\",\"News & Magazines\",\"News & Magazines\",\"News & Magazines\",\"News & Magazines\",\"News & Magazines\",\"News & Magazines\",\"News & Magazines\",\"News & Magazines\",\"News & Magazines\",\"News & Magazines\",\"News & Magazines\",\"News & Magazines\",\"News & Magazines\",\"News & Magazines\",\"News & Magazines\",\"News & Magazines\",\"News & Magazines\",\"News & Magazines\",\"News & Magazines\",\"News & Magazines\",\"News & Magazines\",\"News & Magazines\",\"News & Magazines\",\"News & Magazines\",\"News & Magazines\",\"News & Magazines\",\"News & Magazines\",\"News & Magazines\",\"News & Magazines\",\"News & Magazines\",\"News & Magazines\",\"News & Magazines\",\"News & Magazines\",\"News & Magazines\",\"News & Magazines\",\"News & Magazines\",\"News & Magazines\",\"News & Magazines\",\"News & Magazines\",\"News & Magazines\",\"News & Magazines\",\"News & Magazines\",\"News & Magazines\",\"News & Magazines\",\"News & Magazines\",\"News & Magazines\",\"News & Magazines\",\"News & Magazines\",\"News & Magazines\",\"News & Magazines\",\"News & Magazines\",\"News & Magazines\",\"News & Magazines\",\"News & Magazines\",\"News & Magazines\",\"News & Magazines\",\"News & Magazines\",\"News & Magazines\",\"News & Magazines\",\"News & Magazines\",\"News & Magazines\",\"News & Magazines\",\"News & Magazines\",\"News & Magazines\",\"News & Magazines\",\"News & Magazines\",\"News & Magazines\",\"News & Magazines\",\"News & Magazines\",\"News & Magazines\",\"News & Magazines\",\"News & Magazines\",\"News & Magazines\",\"News & Magazines\",\"News & Magazines\",\"News & Magazines\",\"News & Magazines\",\"News & Magazines\",\"News & Magazines\",\"News & Magazines\",\"News & Magazines\",\"News & Magazines\",\"News & Magazines\",\"News & Magazines\",\"News & Magazines\",\"News & Magazines\",\"News & Magazines\",\"News & Magazines\",\"News & Magazines\",\"News & Magazines\",\"News & Magazines\",\"News & Magazines\",\"News & Magazines\",\"News & Magazines\",\"News & Magazines\",\"News & Magazines\",\"News & Magazines\",\"News & Magazines\",\"News & Magazines\",\"News & Magazines\",\"News & Magazines\",\"News & Magazines\",\"News & Magazines\",\"News & Magazines\",\"News & Magazines\",\"News & Magazines\",\"News & Magazines\",\"News & Magazines\",\"News & Magazines\",\"News & Magazines\",\"News & Magazines\",\"News & Magazines\",\"News & Magazines\",\"News & Magazines\",\"News & Magazines\",\"News & Magazines\",\"News & Magazines\",\"News & Magazines\",\"News & Magazines\",\"News & Magazines\",\"News & Magazines\",\"News & Magazines\",\"News & Magazines\",\"News & Magazines\",\"News & Magazines\",\"News & Magazines\",\"News & Magazines\",\"News & Magazines\",\"News & Magazines\",\"News & Magazines\",\"News & Magazines\",\"News & Magazines\",\"News & Magazines\",\"News & Magazines\",\"News & Magazines\",\"News & Magazines\",\"News & Magazines\",\"News & Magazines\",\"News & Magazines\",\"News & Magazines\",\"News & Magazines\",\"News & Magazines\",\"News & Magazines\",\"News & Magazines\",\"News & Magazines\",\"News & Magazines\",\"News & Magazines\",\"News & Magazines\",\"News & Magazines\",\"News & Magazines\",\"News & Magazines\",\"News & Magazines\"],\"yaxis\":\"y\",\"type\":\"histogram\"},{\"alignmentgroup\":\"True\",\"bingroup\":\"y\",\"hovertemplate\":\"Sec_Genres=Maps & Navigation<br>count=%{x}<br>Main_Genres=%{y}<extra></extra>\",\"legendgroup\":\"Maps & Navigation\",\"marker\":{\"color\":\"#FECB52\",\"opacity\":1,\"pattern\":{\"shape\":\"\"}},\"name\":\"Maps & Navigation\",\"offsetgroup\":\"Maps & Navigation\",\"orientation\":\"h\",\"showlegend\":true,\"xaxis\":\"x\",\"y\":[\"Maps & Navigation\",\"Maps & Navigation\",\"Maps & Navigation\",\"Maps & Navigation\",\"Maps & Navigation\",\"Maps & Navigation\",\"Maps & Navigation\",\"Maps & Navigation\",\"Maps & Navigation\",\"Maps & Navigation\",\"Maps & Navigation\",\"Maps & Navigation\",\"Maps & Navigation\",\"Maps & Navigation\",\"Maps & Navigation\",\"Maps & Navigation\",\"Maps & Navigation\",\"Maps & Navigation\",\"Maps & Navigation\",\"Maps & Navigation\",\"Maps & Navigation\",\"Maps & Navigation\",\"Maps & Navigation\",\"Maps & Navigation\",\"Maps & Navigation\",\"Maps & Navigation\",\"Maps & Navigation\",\"Maps & Navigation\",\"Maps & Navigation\",\"Maps & Navigation\",\"Maps & Navigation\",\"Maps & Navigation\",\"Maps & Navigation\",\"Maps & Navigation\",\"Maps & Navigation\",\"Maps & Navigation\",\"Maps & Navigation\",\"Maps & Navigation\",\"Maps & Navigation\",\"Maps & Navigation\",\"Maps & Navigation\",\"Maps & Navigation\",\"Maps & Navigation\",\"Maps & Navigation\",\"Maps & Navigation\",\"Maps & Navigation\",\"Maps & Navigation\",\"Maps & Navigation\",\"Maps & Navigation\",\"Maps & Navigation\",\"Maps & Navigation\",\"Maps & Navigation\",\"Maps & Navigation\",\"Maps & Navigation\",\"Maps & Navigation\",\"Maps & Navigation\",\"Maps & Navigation\",\"Maps & Navigation\",\"Maps & Navigation\",\"Maps & Navigation\",\"Maps & Navigation\",\"Maps & Navigation\",\"Maps & Navigation\",\"Maps & Navigation\",\"Maps & Navigation\",\"Maps & Navigation\",\"Maps & Navigation\",\"Maps & Navigation\",\"Maps & Navigation\",\"Maps & Navigation\",\"Maps & Navigation\",\"Maps & Navigation\",\"Maps & Navigation\",\"Maps & Navigation\",\"Maps & Navigation\",\"Maps & Navigation\",\"Maps & Navigation\",\"Maps & Navigation\",\"Maps & Navigation\",\"Maps & Navigation\",\"Maps & Navigation\",\"Maps & Navigation\",\"Maps & Navigation\",\"Maps & Navigation\",\"Maps & Navigation\",\"Maps & Navigation\",\"Maps & Navigation\",\"Maps & Navigation\",\"Maps & Navigation\",\"Maps & Navigation\",\"Maps & Navigation\",\"Maps & Navigation\",\"Maps & Navigation\",\"Maps & Navigation\",\"Maps & Navigation\",\"Maps & Navigation\",\"Maps & Navigation\",\"Maps & Navigation\",\"Maps & Navigation\",\"Maps & Navigation\",\"Maps & Navigation\",\"Maps & Navigation\",\"Maps & Navigation\",\"Maps & Navigation\",\"Maps & Navigation\",\"Maps & Navigation\",\"Maps & Navigation\",\"Maps & Navigation\",\"Maps & Navigation\",\"Maps & Navigation\",\"Maps & Navigation\",\"Maps & Navigation\",\"Maps & Navigation\",\"Maps & Navigation\",\"Maps & Navigation\",\"Maps & Navigation\",\"Maps & Navigation\",\"Maps & Navigation\",\"Maps & Navigation\",\"Maps & Navigation\",\"Maps & Navigation\",\"Maps & Navigation\",\"Maps & Navigation\",\"Maps & Navigation\",\"Maps & Navigation\",\"Maps & Navigation\",\"Maps & Navigation\",\"Maps & Navigation\",\"Maps & Navigation\",\"Maps & Navigation\",\"Maps & Navigation\",\"Maps & Navigation\",\"Maps & Navigation\",\"Maps & Navigation\",\"Maps & Navigation\",\"Maps & Navigation\",\"Maps & Navigation\"],\"yaxis\":\"y\",\"type\":\"histogram\"},{\"alignmentgroup\":\"True\",\"bingroup\":\"y\",\"hovertemplate\":\"Sec_Genres=Educational<br>count=%{x}<br>Main_Genres=%{y}<extra></extra>\",\"legendgroup\":\"Educational\",\"marker\":{\"color\":\"#636efa\",\"opacity\":1,\"pattern\":{\"shape\":\"\"}},\"name\":\"Educational\",\"offsetgroup\":\"Educational\",\"orientation\":\"h\",\"showlegend\":true,\"xaxis\":\"x\",\"y\":[\"Educational\",\"Educational\",\"Educational\",\"Educational\",\"Educational\",\"Educational\",\"Educational\",\"Educational\",\"Educational\",\"Educational\",\"Educational\",\"Educational\",\"Educational\",\"Educational\",\"Educational\",\"Educational\",\"Educational\",\"Educational\",\"Educational\",\"Educational\",\"Educational\",\"Educational\",\"Educational\",\"Educational\",\"Educational\",\"Educational\",\"Educational\",\"Educational\",\"Educational\",\"Educational\",\"Educational\",\"Educational\",\"Educational\",\"Educational\",\"Educational\",\"Educational\",\"Educational\"],\"yaxis\":\"y\",\"type\":\"histogram\"},{\"alignmentgroup\":\"True\",\"bingroup\":\"y\",\"hovertemplate\":\"Sec_Genres=Casino<br>count=%{x}<br>Main_Genres=%{y}<extra></extra>\",\"legendgroup\":\"Casino\",\"marker\":{\"color\":\"#EF553B\",\"opacity\":1,\"pattern\":{\"shape\":\"\"}},\"name\":\"Casino\",\"offsetgroup\":\"Casino\",\"orientation\":\"h\",\"showlegend\":true,\"xaxis\":\"x\",\"y\":[\"Casino\",\"Casino\",\"Casino\",\"Casino\",\"Casino\",\"Casino\",\"Casino\",\"Casino\",\"Casino\",\"Casino\",\"Casino\",\"Casino\",\"Casino\",\"Casino\",\"Casino\",\"Casino\",\"Casino\",\"Casino\",\"Casino\",\"Casino\",\"Casino\",\"Casino\",\"Casino\",\"Casino\",\"Casino\",\"Casino\",\"Casino\",\"Casino\",\"Casino\",\"Casino\",\"Casino\",\"Casino\",\"Casino\",\"Casino\",\"Casino\",\"Casino\",\"Casino\",\"Casino\",\"Casino\"],\"yaxis\":\"y\",\"type\":\"histogram\"}],                        {\"template\":{\"data\":{\"histogram2dcontour\":[{\"type\":\"histogram2dcontour\",\"colorbar\":{\"outlinewidth\":0,\"ticks\":\"\"},\"colorscale\":[[0.0,\"#0d0887\"],[0.1111111111111111,\"#46039f\"],[0.2222222222222222,\"#7201a8\"],[0.3333333333333333,\"#9c179e\"],[0.4444444444444444,\"#bd3786\"],[0.5555555555555556,\"#d8576b\"],[0.6666666666666666,\"#ed7953\"],[0.7777777777777778,\"#fb9f3a\"],[0.8888888888888888,\"#fdca26\"],[1.0,\"#f0f921\"]]}],\"choropleth\":[{\"type\":\"choropleth\",\"colorbar\":{\"outlinewidth\":0,\"ticks\":\"\"}}],\"histogram2d\":[{\"type\":\"histogram2d\",\"colorbar\":{\"outlinewidth\":0,\"ticks\":\"\"},\"colorscale\":[[0.0,\"#0d0887\"],[0.1111111111111111,\"#46039f\"],[0.2222222222222222,\"#7201a8\"],[0.3333333333333333,\"#9c179e\"],[0.4444444444444444,\"#bd3786\"],[0.5555555555555556,\"#d8576b\"],[0.6666666666666666,\"#ed7953\"],[0.7777777777777778,\"#fb9f3a\"],[0.8888888888888888,\"#fdca26\"],[1.0,\"#f0f921\"]]}],\"heatmap\":[{\"type\":\"heatmap\",\"colorbar\":{\"outlinewidth\":0,\"ticks\":\"\"},\"colorscale\":[[0.0,\"#0d0887\"],[0.1111111111111111,\"#46039f\"],[0.2222222222222222,\"#7201a8\"],[0.3333333333333333,\"#9c179e\"],[0.4444444444444444,\"#bd3786\"],[0.5555555555555556,\"#d8576b\"],[0.6666666666666666,\"#ed7953\"],[0.7777777777777778,\"#fb9f3a\"],[0.8888888888888888,\"#fdca26\"],[1.0,\"#f0f921\"]]}],\"heatmapgl\":[{\"type\":\"heatmapgl\",\"colorbar\":{\"outlinewidth\":0,\"ticks\":\"\"},\"colorscale\":[[0.0,\"#0d0887\"],[0.1111111111111111,\"#46039f\"],[0.2222222222222222,\"#7201a8\"],[0.3333333333333333,\"#9c179e\"],[0.4444444444444444,\"#bd3786\"],[0.5555555555555556,\"#d8576b\"],[0.6666666666666666,\"#ed7953\"],[0.7777777777777778,\"#fb9f3a\"],[0.8888888888888888,\"#fdca26\"],[1.0,\"#f0f921\"]]}],\"contourcarpet\":[{\"type\":\"contourcarpet\",\"colorbar\":{\"outlinewidth\":0,\"ticks\":\"\"}}],\"contour\":[{\"type\":\"contour\",\"colorbar\":{\"outlinewidth\":0,\"ticks\":\"\"},\"colorscale\":[[0.0,\"#0d0887\"],[0.1111111111111111,\"#46039f\"],[0.2222222222222222,\"#7201a8\"],[0.3333333333333333,\"#9c179e\"],[0.4444444444444444,\"#bd3786\"],[0.5555555555555556,\"#d8576b\"],[0.6666666666666666,\"#ed7953\"],[0.7777777777777778,\"#fb9f3a\"],[0.8888888888888888,\"#fdca26\"],[1.0,\"#f0f921\"]]}],\"surface\":[{\"type\":\"surface\",\"colorbar\":{\"outlinewidth\":0,\"ticks\":\"\"},\"colorscale\":[[0.0,\"#0d0887\"],[0.1111111111111111,\"#46039f\"],[0.2222222222222222,\"#7201a8\"],[0.3333333333333333,\"#9c179e\"],[0.4444444444444444,\"#bd3786\"],[0.5555555555555556,\"#d8576b\"],[0.6666666666666666,\"#ed7953\"],[0.7777777777777778,\"#fb9f3a\"],[0.8888888888888888,\"#fdca26\"],[1.0,\"#f0f921\"]]}],\"mesh3d\":[{\"type\":\"mesh3d\",\"colorbar\":{\"outlinewidth\":0,\"ticks\":\"\"}}],\"scatter\":[{\"fillpattern\":{\"fillmode\":\"overlay\",\"size\":10,\"solidity\":0.2},\"type\":\"scatter\"}],\"parcoords\":[{\"type\":\"parcoords\",\"line\":{\"colorbar\":{\"outlinewidth\":0,\"ticks\":\"\"}}}],\"scatterpolargl\":[{\"type\":\"scatterpolargl\",\"marker\":{\"colorbar\":{\"outlinewidth\":0,\"ticks\":\"\"}}}],\"bar\":[{\"error_x\":{\"color\":\"#2a3f5f\"},\"error_y\":{\"color\":\"#2a3f5f\"},\"marker\":{\"line\":{\"color\":\"#E5ECF6\",\"width\":0.5},\"pattern\":{\"fillmode\":\"overlay\",\"size\":10,\"solidity\":0.2}},\"type\":\"bar\"}],\"scattergeo\":[{\"type\":\"scattergeo\",\"marker\":{\"colorbar\":{\"outlinewidth\":0,\"ticks\":\"\"}}}],\"scatterpolar\":[{\"type\":\"scatterpolar\",\"marker\":{\"colorbar\":{\"outlinewidth\":0,\"ticks\":\"\"}}}],\"histogram\":[{\"marker\":{\"pattern\":{\"fillmode\":\"overlay\",\"size\":10,\"solidity\":0.2}},\"type\":\"histogram\"}],\"scattergl\":[{\"type\":\"scattergl\",\"marker\":{\"colorbar\":{\"outlinewidth\":0,\"ticks\":\"\"}}}],\"scatter3d\":[{\"type\":\"scatter3d\",\"line\":{\"colorbar\":{\"outlinewidth\":0,\"ticks\":\"\"}},\"marker\":{\"colorbar\":{\"outlinewidth\":0,\"ticks\":\"\"}}}],\"scattermapbox\":[{\"type\":\"scattermapbox\",\"marker\":{\"colorbar\":{\"outlinewidth\":0,\"ticks\":\"\"}}}],\"scatterternary\":[{\"type\":\"scatterternary\",\"marker\":{\"colorbar\":{\"outlinewidth\":0,\"ticks\":\"\"}}}],\"scattercarpet\":[{\"type\":\"scattercarpet\",\"marker\":{\"colorbar\":{\"outlinewidth\":0,\"ticks\":\"\"}}}],\"carpet\":[{\"aaxis\":{\"endlinecolor\":\"#2a3f5f\",\"gridcolor\":\"white\",\"linecolor\":\"white\",\"minorgridcolor\":\"white\",\"startlinecolor\":\"#2a3f5f\"},\"baxis\":{\"endlinecolor\":\"#2a3f5f\",\"gridcolor\":\"white\",\"linecolor\":\"white\",\"minorgridcolor\":\"white\",\"startlinecolor\":\"#2a3f5f\"},\"type\":\"carpet\"}],\"table\":[{\"cells\":{\"fill\":{\"color\":\"#EBF0F8\"},\"line\":{\"color\":\"white\"}},\"header\":{\"fill\":{\"color\":\"#C8D4E3\"},\"line\":{\"color\":\"white\"}},\"type\":\"table\"}],\"barpolar\":[{\"marker\":{\"line\":{\"color\":\"#E5ECF6\",\"width\":0.5},\"pattern\":{\"fillmode\":\"overlay\",\"size\":10,\"solidity\":0.2}},\"type\":\"barpolar\"}],\"pie\":[{\"automargin\":true,\"type\":\"pie\"}]},\"layout\":{\"autotypenumbers\":\"strict\",\"colorway\":[\"#636efa\",\"#EF553B\",\"#00cc96\",\"#ab63fa\",\"#FFA15A\",\"#19d3f3\",\"#FF6692\",\"#B6E880\",\"#FF97FF\",\"#FECB52\"],\"font\":{\"color\":\"#2a3f5f\"},\"hovermode\":\"closest\",\"hoverlabel\":{\"align\":\"left\"},\"paper_bgcolor\":\"white\",\"plot_bgcolor\":\"#E5ECF6\",\"polar\":{\"bgcolor\":\"#E5ECF6\",\"angularaxis\":{\"gridcolor\":\"white\",\"linecolor\":\"white\",\"ticks\":\"\"},\"radialaxis\":{\"gridcolor\":\"white\",\"linecolor\":\"white\",\"ticks\":\"\"}},\"ternary\":{\"bgcolor\":\"#E5ECF6\",\"aaxis\":{\"gridcolor\":\"white\",\"linecolor\":\"white\",\"ticks\":\"\"},\"baxis\":{\"gridcolor\":\"white\",\"linecolor\":\"white\",\"ticks\":\"\"},\"caxis\":{\"gridcolor\":\"white\",\"linecolor\":\"white\",\"ticks\":\"\"}},\"coloraxis\":{\"colorbar\":{\"outlinewidth\":0,\"ticks\":\"\"}},\"colorscale\":{\"sequential\":[[0.0,\"#0d0887\"],[0.1111111111111111,\"#46039f\"],[0.2222222222222222,\"#7201a8\"],[0.3333333333333333,\"#9c179e\"],[0.4444444444444444,\"#bd3786\"],[0.5555555555555556,\"#d8576b\"],[0.6666666666666666,\"#ed7953\"],[0.7777777777777778,\"#fb9f3a\"],[0.8888888888888888,\"#fdca26\"],[1.0,\"#f0f921\"]],\"sequentialminus\":[[0.0,\"#0d0887\"],[0.1111111111111111,\"#46039f\"],[0.2222222222222222,\"#7201a8\"],[0.3333333333333333,\"#9c179e\"],[0.4444444444444444,\"#bd3786\"],[0.5555555555555556,\"#d8576b\"],[0.6666666666666666,\"#ed7953\"],[0.7777777777777778,\"#fb9f3a\"],[0.8888888888888888,\"#fdca26\"],[1.0,\"#f0f921\"]],\"diverging\":[[0,\"#8e0152\"],[0.1,\"#c51b7d\"],[0.2,\"#de77ae\"],[0.3,\"#f1b6da\"],[0.4,\"#fde0ef\"],[0.5,\"#f7f7f7\"],[0.6,\"#e6f5d0\"],[0.7,\"#b8e186\"],[0.8,\"#7fbc41\"],[0.9,\"#4d9221\"],[1,\"#276419\"]]},\"xaxis\":{\"gridcolor\":\"white\",\"linecolor\":\"white\",\"ticks\":\"\",\"title\":{\"standoff\":15},\"zerolinecolor\":\"white\",\"automargin\":true,\"zerolinewidth\":2},\"yaxis\":{\"gridcolor\":\"white\",\"linecolor\":\"white\",\"ticks\":\"\",\"title\":{\"standoff\":15},\"zerolinecolor\":\"white\",\"automargin\":true,\"zerolinewidth\":2},\"scene\":{\"xaxis\":{\"backgroundcolor\":\"#E5ECF6\",\"gridcolor\":\"white\",\"linecolor\":\"white\",\"showbackground\":true,\"ticks\":\"\",\"zerolinecolor\":\"white\",\"gridwidth\":2},\"yaxis\":{\"backgroundcolor\":\"#E5ECF6\",\"gridcolor\":\"white\",\"linecolor\":\"white\",\"showbackground\":true,\"ticks\":\"\",\"zerolinecolor\":\"white\",\"gridwidth\":2},\"zaxis\":{\"backgroundcolor\":\"#E5ECF6\",\"gridcolor\":\"white\",\"linecolor\":\"white\",\"showbackground\":true,\"ticks\":\"\",\"zerolinecolor\":\"white\",\"gridwidth\":2}},\"shapedefaults\":{\"line\":{\"color\":\"#2a3f5f\"}},\"annotationdefaults\":{\"arrowcolor\":\"#2a3f5f\",\"arrowhead\":0,\"arrowwidth\":1},\"geo\":{\"bgcolor\":\"white\",\"landcolor\":\"#E5ECF6\",\"subunitcolor\":\"white\",\"showland\":true,\"showlakes\":true,\"lakecolor\":\"white\"},\"title\":{\"x\":0.05},\"mapbox\":{\"style\":\"light\"}}},\"xaxis\":{\"anchor\":\"y\",\"domain\":[0.0,1.0],\"title\":{\"text\":\"count\"}},\"yaxis\":{\"anchor\":\"x\",\"domain\":[0.0,1.0],\"title\":{\"text\":\"Main_Genres\"}},\"legend\":{\"title\":{\"text\":\"Sec_Genres\"},\"tracegroupgap\":0},\"margin\":{\"t\":60},\"barmode\":\"relative\"},                        {\"responsive\": true}                    ).then(function(){\n",
       "                            \n",
       "var gd = document.getElementById('8eb407f7-435b-4de5-b0a6-b99c5aab39e1');\n",
       "var x = new MutationObserver(function (mutations, observer) {{\n",
       "        var display = window.getComputedStyle(gd).display;\n",
       "        if (!display || display === 'none') {{\n",
       "            console.log([gd, 'removed!']);\n",
       "            Plotly.purge(gd);\n",
       "            observer.disconnect();\n",
       "        }}\n",
       "}});\n",
       "\n",
       "// Listen for the removal of the full notebook cells\n",
       "var notebookContainer = gd.closest('#notebook-container');\n",
       "if (notebookContainer) {{\n",
       "    x.observe(notebookContainer, {childList: true});\n",
       "}}\n",
       "\n",
       "// Listen for the clearing of the current output cell\n",
       "var outputEl = gd.closest('.output');\n",
       "if (outputEl) {{\n",
       "    x.observe(outputEl, {childList: true});\n",
       "}}\n",
       "\n",
       "                        })                };                });            </script>        </div>"
      ]
     },
     "metadata": {},
     "output_type": "display_data"
    }
   ],
   "source": [
    "px.histogram(data, color=\"Sec_Genres\", y=\"Main_Genres\", hover_data=\"Sec_Genres\",opacity=1)"
   ]
  },
  {
   "cell_type": "code",
   "execution_count": 55,
   "id": "6ce79ca0",
   "metadata": {
    "execution": {
     "iopub.execute_input": "2023-05-20T12:28:13.652432Z",
     "iopub.status.busy": "2023-05-20T12:28:13.652019Z",
     "iopub.status.idle": "2023-05-20T12:28:13.866316Z",
     "shell.execute_reply": "2023-05-20T12:28:13.864904Z"
    },
    "papermill": {
     "duration": 0.254522,
     "end_time": "2023-05-20T12:28:13.869220",
     "exception": false,
     "start_time": "2023-05-20T12:28:13.614698",
     "status": "completed"
    },
    "tags": []
   },
   "outputs": [
    {
     "data": {
      "text/plain": [
       "<AxesSubplot: xlabel='Type', ylabel='count'>"
      ]
     },
     "execution_count": 55,
     "metadata": {},
     "output_type": "execute_result"
    },
    {
     "data": {
      "image/png": "[encoded data removed]",
      "text/plain": [
       "<Figure size 300x300 with 1 Axes>"
      ]
     },
     "metadata": {},
     "output_type": "display_data"
    }
   ],
   "source": [
    "plt.subplots(figsize=(3,3))\n",
    "sns.countplot(x=\"Type\", data=data, palette=\"Set3\", width = 0.3)"
   ]
  },
  {
   "cell_type": "code",
   "execution_count": 56,
   "id": "cb5ffed2",
   "metadata": {
    "execution": {
     "iopub.execute_input": "2023-05-20T12:28:13.944970Z",
     "iopub.status.busy": "2023-05-20T12:28:13.944253Z",
     "iopub.status.idle": "2023-05-20T12:28:14.148645Z",
     "shell.execute_reply": "2023-05-20T12:28:14.147718Z"
    },
    "papermill": {
     "duration": 0.247714,
     "end_time": "2023-05-20T12:28:14.153683",
     "exception": false,
     "start_time": "2023-05-20T12:28:13.905969",
     "status": "completed"
    },
    "tags": []
   },
   "outputs": [
    {
     "data": {
      "text/html": [
       "<div>                            <div id=\"c7f392b1-41c6-41ea-876c-13d307aa9874\" class=\"plotly-graph-div\" style=\"height:525px; width:100%;\"></div>            <script type=\"text/javascript\">                require([\"plotly\"], function(Plotly) {                    window.PLOTLYENV=window.PLOTLYENV || {};                                    if (document.getElementById(\"c7f392b1-41c6-41ea-876c-13d307aa9874\")) {                    Plotly.newPlot(                        \"c7f392b1-41c6-41ea-876c-13d307aa9874\",                        [{\"hovertemplate\":\"Type=Free<br>Price=%{x}<br>Category=%{y}<extra></extra>\",\"legendgroup\":\"Free\",\"marker\":{\"color\":\"#636efa\",\"symbol\":\"circle\"},\"mode\":\"markers\",\"name\":\"Free\",\"showlegend\":true,\"x\":[0.0,0.0,0.0,0.0,0.0,0.0,0.0,0.0,0.0,0.0,0.0,0.0,0.0,0.0,0.0,0.0,0.0,0.0,0.0,0.0,0.0,0.0,0.0,0.0,0.0,0.0,0.0,0.0,0.0,0.0,0.0,0.0,0.0,0.0,0.0,0.0,0.0,0.0,0.0,0.0,0.0,0.0,0.0,0.0,0.0,0.0,0.0,0.0,0.0,0.0,0.0,0.0,0.0,0.0,0.0,0.0,0.0,0.0,0.0,0.0,0.0,0.0,0.0,0.0,0.0,0.0,0.0,0.0,0.0,0.0,0.0,0.0,0.0,0.0,0.0,0.0,0.0,0.0,0.0,0.0,0.0,0.0,0.0,0.0,0.0,0.0,0.0,0.0,0.0,0.0,0.0,0.0,0.0,0.0,0.0,0.0,0.0,0.0,0.0,0.0,0.0,0.0,0.0,0.0,0.0,0.0,0.0,0.0,0.0,0.0,0.0,0.0,0.0,0.0,0.0,0.0,0.0,0.0,0.0,0.0,0.0,0.0,0.0,0.0,0.0,0.0,0.0,0.0,0.0,0.0,0.0,0.0,0.0,0.0,0.0,0.0,0.0,0.0,0.0,0.0,0.0,0.0,0.0,0.0,0.0,0.0,0.0,0.0,0.0,0.0,0.0,0.0,0.0,0.0,0.0,0.0,0.0,0.0,0.0,0.0,0.0,0.0,0.0,0.0,0.0,0.0,0.0,0.0,0.0,0.0,0.0,0.0,0.0,0.0,0.0,0.0,0.0,0.0,0.0,0.0,0.0,0.0,0.0,0.0,0.0,0.0,0.0,0.0,0.0,0.0,0.0,0.0,0.0,0.0,0.0,0.0,0.0,0.0,0.0,0.0,0.0,0.0,0.0,0.0,0.0,0.0,0.0,0.0,0.0,0.0,0.0,0.0,0.0,0.0,0.0,0.0,0.0,0.0,0.0,0.0,0.0,0.0,0.0,0.0,0.0,0.0,0.0,0.0,0.0,0.0,0.0,0.0,0.0,0.0,0.0,0.0,0.0,0.0,0.0,0.0,0.0,0.0,0.0,0.0,0.0,0.0,0.0,0.0,0.0,0.0,0.0,0.0,0.0,0.0,0.0,0.0,0.0,0.0,0.0,0.0,0.0,0.0,0.0,0.0,0.0,0.0,0.0,0.0,0.0,0.0,0.0,0.0,0.0,0.0,0.0,0.0,0.0,0.0,0.0,0.0,0.0,0.0,0.0,0.0,0.0,0.0,0.0,0.0,0.0,0.0,0.0,0.0,0.0,0.0,0.0,0.0,0.0,0.0,0.0,0.0,0.0,0.0,0.0,0.0,0.0,0.0,0.0,0.0,0.0,0.0,0.0,0.0,0.0,0.0,0.0,0.0,0.0,0.0,0.0,0.0,0.0,0.0,0.0,0.0,0.0,0.0,0.0,0.0,0.0,0.0,0.0,0.0,0.0,0.0,0.0,0.0,0.0,0.0,0.0,0.0,0.0,0.0,0.0,0.0,0.0,0.0,0.0,0.0,0.0,0.0,0.0,0.0,0.0,0.0,0.0,0.0,0.0,0.0,0.0,0.0,0.0,0.0,0.0,0.0,0.0,0.0,0.0,0.0,0.0,0.0,0.0,0.0,0.0,0.0,0.0,0.0,0.0,0.0,0.0,0.0,0.0,0.0,0.0,0.0,0.0,0.0,0.0,0.0,0.0,0.0,0.0,0.0,0.0,0.0,0.0,0.0,0.0,0.0,0.0,0.0,0.0,0.0,0.0,0.0,0.0,0.0,0.0,0.0,0.0,0.0,0.0,0.0,0.0,0.0,0.0,0.0,0.0,0.0,0.0,0.0,0.0,0.0,0.0,0.0,0.0,0.0,0.0,0.0,0.0,0.0,0.0,0.0,0.0,0.0,0.0,0.0,0.0,0.0,0.0,0.0,0.0,0.0,0.0,0.0,0.0,0.0,0.0,0.0,0.0,0.0,0.0,0.0,0.0,0.0,0.0,0.0,0.0,0.0,0.0,0.0,0.0,0.0,0.0,0.0,0.0,0.0,0.0,0.0,0.0,0.0,0.0,0.0,0.0,0.0,0.0,0.0,0.0,0.0,0.0,0.0,0.0,0.0,0.0,0.0,0.0,0.0,0.0,0.0,0.0,0.0,0.0,0.0,0.0,0.0,0.0,0.0,0.0,0.0,0.0,0.0,0.0,0.0,0.0,0.0,0.0,0.0,0.0,0.0,0.0,0.0,0.0,0.0,0.0,0.0,0.0,0.0,0.0,0.0,0.0,0.0,0.0,0.0,0.0,0.0,0.0,0.0,0.0,0.0,0.0,0.0,0.0,0.0,0.0,0.0,0.0,0.0,0.0,0.0,0.0,0.0,0.0,0.0,0.0,0.0,0.0,0.0,0.0,0.0,0.0,0.0,0.0,0.0,0.0,0.0,0.0,0.0,0.0,0.0,0.0,0.0,0.0,0.0,0.0,0.0,0.0,0.0,0.0,0.0,0.0,0.0,0.0,0.0,0.0,0.0,0.0,0.0,0.0,0.0,0.0,0.0,0.0,0.0,0.0,0.0,0.0,0.0,0.0,0.0,0.0,0.0,0.0,0.0,0.0,0.0,0.0,0.0,0.0,0.0,0.0,0.0,0.0,0.0,0.0,0.0,0.0,0.0,0.0,0.0,0.0,0.0,0.0,0.0,0.0,0.0,0.0,0.0,0.0,0.0,0.0,0.0,0.0,0.0,0.0,0.0,0.0,0.0,0.0,0.0,0.0,0.0,0.0,0.0,0.0,0.0,0.0,0.0,0.0,0.0,0.0,0.0,0.0,0.0,0.0,0.0,0.0,0.0,0.0,0.0,0.0,0.0,0.0,0.0,0.0,0.0,0.0,0.0,0.0,0.0,0.0,0.0,0.0,0.0,0.0,0.0,0.0,0.0,0.0,0.0,0.0,0.0,0.0,0.0,0.0,0.0,0.0,0.0,0.0,0.0,0.0,0.0,0.0,0.0,0.0,0.0,0.0,0.0,0.0,0.0,0.0,0.0,0.0,0.0,0.0,0.0,0.0,0.0,0.0,0.0,0.0,0.0,0.0,0.0,0.0,0.0,0.0,0.0,0.0,0.0,0.0,0.0,0.0,0.0,0.0,0.0,0.0,0.0,0.0,0.0,0.0,0.0,0.0,0.0,0.0,0.0,0.0,0.0,0.0,0.0,0.0,0.0,0.0,0.0,0.0,0.0,0.0,0.0,0.0,0.0,0.0,0.0,0.0,0.0,0.0,0.0,0.0,0.0,0.0,0.0,0.0,0.0,0.0,0.0,0.0,0.0,0.0,0.0,0.0,0.0,0.0,0.0,0.0,0.0,0.0,0.0,0.0,0.0,0.0,0.0,0.0,0.0,0.0,0.0,0.0,0.0,0.0,0.0,0.0,0.0,0.0,0.0,0.0,0.0,0.0,0.0,0.0,0.0,0.0,0.0,0.0,0.0,0.0,0.0,0.0,0.0,0.0,0.0,0.0,0.0,0.0,0.0,0.0,0.0,0.0,0.0,0.0,0.0,0.0,0.0,0.0,0.0,0.0,0.0,0.0,0.0,0.0,0.0,0.0,0.0,0.0,0.0,0.0,0.0,0.0,0.0,0.0,0.0,0.0,0.0,0.0,0.0,0.0,0.0,0.0,0.0,0.0,0.0,0.0,0.0,0.0,0.0,0.0,0.0,0.0,0.0,0.0,0.0,0.0,0.0,0.0,0.0,0.0,0.0,0.0,0.0,0.0,0.0,0.0,0.0,0.0,0.0,0.0,0.0,0.0,0.0,0.0,0.0,0.0,0.0,0.0,0.0,0.0,0.0,0.0,0.0,0.0,0.0,0.0,0.0,0.0,0.0,0.0,0.0,0.0,0.0,0.0,0.0,0.0,0.0,0.0,0.0,0.0,0.0,0.0,0.0,0.0,0.0,0.0,0.0,0.0,0.0,0.0,0.0,0.0,0.0,0.0,0.0,0.0,0.0,0.0,0.0,0.0,0.0,0.0,0.0,0.0,0.0,0.0,0.0,0.0,0.0,0.0,0.0,0.0,0.0,0.0,0.0,0.0,0.0,0.0,0.0,0.0,0.0,0.0,0.0,0.0,0.0,0.0,0.0,0.0,0.0,0.0,0.0,0.0,0.0,0.0,0.0,0.0,0.0,0.0,0.0,0.0,0.0,0.0,0.0,0.0,0.0,0.0,0.0,0.0,0.0,0.0,0.0,0.0,0.0,0.0,0.0,0.0,0.0,0.0,0.0,0.0,0.0,0.0,0.0,0.0,0.0,0.0,0.0,0.0,0.0,0.0,0.0,0.0,0.0,0.0,0.0,0.0,0.0,0.0,0.0,0.0,0.0,0.0,0.0,0.0,0.0,0.0,0.0,0.0,0.0,0.0,0.0,0.0,0.0,0.0,0.0,0.0,0.0,0.0,0.0,0.0,0.0,0.0,0.0,0.0,0.0,0.0,0.0,0.0,0.0,0.0,0.0,0.0,0.0,0.0,0.0,0.0,0.0,0.0,0.0,0.0,0.0,0.0,0.0,0.0,0.0,0.0,0.0,0.0,0.0,0.0,0.0,0.0,0.0,0.0,0.0,0.0,0.0,0.0,0.0,0.0,0.0,0.0,0.0,0.0,0.0,0.0,0.0,0.0,0.0,0.0,0.0,0.0,0.0,0.0,0.0,0.0,0.0,0.0,0.0,0.0,0.0,0.0,0.0,0.0,0.0,0.0,0.0,0.0,0.0,0.0,0.0,0.0,0.0,0.0,0.0,0.0,0.0,0.0,0.0,0.0,0.0,0.0,0.0,0.0,0.0,0.0,0.0,0.0,0.0,0.0,0.0,0.0,0.0,0.0,0.0,0.0,0.0,0.0,0.0,0.0,0.0,0.0,0.0,0.0,0.0,0.0,0.0,0.0,0.0,0.0,0.0,0.0,0.0,0.0,0.0,0.0,0.0,0.0,0.0,0.0,0.0,0.0,0.0,0.0,0.0,0.0,0.0,0.0,0.0,0.0,0.0,0.0,0.0,0.0,0.0,0.0,0.0,0.0,0.0,0.0,0.0,0.0,0.0,0.0,0.0,0.0,0.0,0.0,0.0,0.0,0.0,0.0,0.0,0.0,0.0,0.0,0.0,0.0,0.0,0.0,0.0,0.0,0.0,0.0,0.0,0.0,0.0,0.0,0.0,0.0,0.0,0.0,0.0,0.0,0.0,0.0,0.0,0.0,0.0,0.0,0.0,0.0,0.0,0.0,0.0,0.0,0.0,0.0,0.0,0.0,0.0,0.0,0.0,0.0,0.0,0.0,0.0,0.0,0.0,0.0,0.0,0.0,0.0,0.0,0.0,0.0,0.0,0.0,0.0,0.0,0.0,0.0,0.0,0.0,0.0,0.0,0.0,0.0,0.0,0.0,0.0,0.0,0.0,0.0,0.0,0.0,0.0,0.0,0.0,0.0,0.0,0.0,0.0,0.0,0.0,0.0,0.0,0.0,0.0,0.0,0.0,0.0,0.0,0.0,0.0,0.0,0.0,0.0,0.0,0.0,0.0,0.0,0.0,0.0,0.0,0.0,0.0,0.0,0.0,0.0,0.0,0.0,0.0,0.0,0.0,0.0,0.0,0.0,0.0,0.0,0.0,0.0,0.0,0.0,0.0,0.0,0.0,0.0,0.0,0.0,0.0,0.0,0.0,0.0,0.0,0.0,0.0,0.0,0.0,0.0,0.0,0.0,0.0,0.0,0.0,0.0,0.0,0.0,0.0,0.0,0.0,0.0,0.0,0.0,0.0,0.0,0.0,0.0,0.0,0.0,0.0,0.0,0.0,0.0,0.0,0.0,0.0,0.0,0.0,0.0,0.0,0.0,0.0,0.0,0.0,0.0,0.0,0.0,0.0,0.0,0.0,0.0,0.0,0.0,0.0,0.0,0.0,0.0,0.0,0.0,0.0,0.0,0.0,0.0,0.0,0.0,0.0,0.0,0.0,0.0,0.0,0.0,0.0,0.0,0.0,0.0,0.0,0.0,0.0,0.0,0.0,0.0,0.0,0.0,0.0,0.0,0.0,0.0,0.0,0.0,0.0,0.0,0.0,0.0,0.0,0.0,0.0,0.0,0.0,0.0,0.0,0.0,0.0,0.0,0.0,0.0,0.0,0.0,0.0,0.0,0.0,0.0,0.0,0.0,0.0,0.0,0.0,0.0,0.0,0.0,0.0,0.0,0.0,0.0,0.0,0.0,0.0,0.0,0.0,0.0,0.0,0.0,0.0,0.0,0.0,0.0,0.0,0.0,0.0,0.0,0.0,0.0,0.0,0.0,0.0,0.0,0.0,0.0,0.0,0.0,0.0,0.0,0.0,0.0,0.0,0.0,0.0,0.0,0.0,0.0,0.0,0.0,0.0,0.0,0.0,0.0,0.0,0.0,0.0,0.0,0.0,0.0,0.0,0.0,0.0,0.0,0.0,0.0,0.0,0.0,0.0,0.0,0.0,0.0,0.0,0.0,0.0,0.0,0.0,0.0,0.0,0.0,0.0,0.0,0.0,0.0,0.0,0.0,0.0,0.0,0.0,0.0,0.0,0.0,0.0,0.0,0.0,0.0,0.0,0.0,0.0,0.0,0.0,0.0,0.0,0.0,0.0,0.0,0.0,0.0,0.0,0.0,0.0,0.0,0.0,0.0,0.0,0.0,0.0,0.0,0.0,0.0,0.0,0.0,0.0,0.0,0.0,0.0,0.0,0.0,0.0,0.0,0.0,0.0,0.0,0.0,0.0,0.0,0.0,0.0,0.0,0.0,0.0,0.0,0.0,0.0,0.0,0.0,0.0,0.0,0.0,0.0,0.0,0.0,0.0,0.0,0.0,0.0,0.0,0.0,0.0,0.0,0.0,0.0,0.0,0.0,0.0,0.0,0.0,0.0,0.0,0.0,0.0,0.0,0.0,0.0,0.0,0.0,0.0,0.0,0.0,0.0,0.0,0.0,0.0,0.0,0.0,0.0,0.0,0.0,0.0,0.0,0.0,0.0,0.0,0.0,0.0,0.0,0.0,0.0,0.0,0.0,0.0,0.0,0.0,0.0,0.0,0.0,0.0,0.0,0.0,0.0,0.0,0.0,0.0,0.0,0.0,0.0,0.0,0.0,0.0,0.0,0.0,0.0,0.0,0.0,0.0,0.0,0.0,0.0,0.0,0.0,0.0,0.0,0.0,0.0,0.0,0.0,0.0,0.0,0.0,0.0,0.0,0.0,0.0,0.0,0.0,0.0,0.0,0.0,0.0,0.0,0.0,0.0,0.0,0.0,0.0,0.0,0.0,0.0,0.0,0.0,0.0,0.0,0.0,0.0,0.0,0.0,0.0,0.0,0.0,0.0,0.0,0.0,0.0,0.0,0.0,0.0,0.0,0.0,0.0,0.0,0.0,0.0,0.0,0.0,0.0,0.0,0.0,0.0,0.0,0.0,0.0,0.0,0.0,0.0,0.0,0.0,0.0,0.0,0.0,0.0,0.0,0.0,0.0,0.0,0.0,0.0,0.0,0.0,0.0,0.0,0.0,0.0,0.0,0.0,0.0,0.0,0.0,0.0,0.0,0.0,0.0,0.0,0.0,0.0,0.0,0.0,0.0,0.0,0.0,0.0,0.0,0.0,0.0,0.0,0.0,0.0,0.0,0.0,0.0,0.0,0.0,0.0,0.0,0.0,0.0,0.0,0.0,0.0,0.0,0.0,0.0,0.0,0.0,0.0,0.0,0.0,0.0,0.0,0.0,0.0,0.0,0.0,0.0,0.0,0.0,0.0,0.0,0.0,0.0,0.0,0.0,0.0,0.0,0.0,0.0,0.0,0.0,0.0,0.0,0.0,0.0,0.0,0.0,0.0,0.0,0.0,0.0,0.0,0.0,0.0,0.0,0.0,0.0,0.0,0.0,0.0,0.0,0.0,0.0,0.0,0.0,0.0,0.0,0.0,0.0,0.0,0.0,0.0,0.0,0.0,0.0,0.0,0.0,0.0,0.0,0.0,0.0,0.0,0.0,0.0,0.0,0.0,0.0,0.0,0.0,0.0,0.0,0.0,0.0,0.0,0.0,0.0,0.0,0.0,0.0,0.0,0.0,0.0,0.0,0.0,0.0,0.0,0.0,0.0,0.0,0.0,0.0,0.0,0.0,0.0,0.0,0.0,0.0,0.0,0.0,0.0,0.0,0.0,0.0,0.0,0.0,0.0,0.0,0.0,0.0,0.0,0.0,0.0,0.0,0.0,0.0,0.0,0.0,0.0,0.0,0.0,0.0,0.0,0.0,0.0,0.0,0.0,0.0,0.0,0.0,0.0,0.0,0.0,0.0,0.0,0.0,0.0,0.0,0.0,0.0,0.0,0.0,0.0,0.0,0.0,0.0,0.0,0.0,0.0,0.0,0.0,0.0,0.0,0.0,0.0,0.0,0.0,0.0,0.0,0.0,0.0,0.0,0.0,0.0,0.0,0.0,0.0,0.0,0.0,0.0,0.0,0.0,0.0,0.0,0.0,0.0,0.0,0.0,0.0,0.0,0.0,0.0,0.0,0.0,0.0,0.0,0.0,0.0,0.0,0.0,0.0,0.0,0.0,0.0,0.0,0.0,0.0,0.0,0.0,0.0,0.0,0.0,0.0,0.0,0.0,0.0,0.0,0.0,0.0,0.0,0.0,0.0,0.0,0.0,0.0,0.0,0.0,0.0,0.0,0.0,0.0,0.0,0.0,0.0,0.0,0.0,0.0,0.0,0.0,0.0,0.0,0.0,0.0,0.0,0.0,0.0,0.0,0.0,0.0,0.0,0.0,0.0,0.0,0.0,0.0,0.0,0.0,0.0,0.0,0.0,0.0,0.0,0.0,0.0,0.0,0.0,0.0,0.0,0.0,0.0,0.0,0.0,0.0,0.0,0.0,0.0,0.0,0.0,0.0,0.0,0.0,0.0,0.0,0.0,0.0,0.0,0.0,0.0,0.0,0.0,0.0,0.0,0.0,0.0,0.0,0.0,0.0,0.0,0.0,0.0,0.0,0.0,0.0,0.0,0.0,0.0,0.0,0.0,0.0,0.0,0.0,0.0,0.0,0.0,0.0,0.0,0.0,0.0,0.0,0.0,0.0,0.0,0.0,0.0,0.0,0.0,0.0,0.0,0.0,0.0,0.0,0.0,0.0,0.0,0.0,0.0,0.0,0.0,0.0,0.0,0.0,0.0,0.0,0.0,0.0,0.0,0.0,0.0,0.0,0.0,0.0,0.0,0.0,0.0,0.0,0.0,0.0,0.0,0.0,0.0,0.0,0.0,0.0,0.0,0.0,0.0,0.0,0.0,0.0,0.0,0.0,0.0,0.0,0.0,0.0,0.0,0.0,0.0,0.0,0.0,0.0,0.0,0.0,0.0,0.0,0.0,0.0,0.0,0.0,0.0,0.0,0.0,0.0,0.0,0.0,0.0,0.0,0.0,0.0,0.0,0.0,0.0,0.0,0.0,0.0,0.0,0.0,0.0,0.0,0.0,0.0,0.0,0.0,0.0,0.0,0.0,0.0,0.0,0.0,0.0,0.0,0.0,0.0,0.0,0.0,0.0,0.0,0.0,0.0,0.0,0.0,0.0,0.0,0.0,0.0,0.0,0.0,0.0,0.0,0.0,0.0,0.0,0.0,0.0,0.0,0.0,0.0,0.0,0.0,0.0,0.0,0.0,0.0,0.0,0.0,0.0,0.0,0.0,0.0,0.0,0.0,0.0,0.0,0.0,0.0,0.0,0.0,0.0,0.0,0.0,0.0,0.0,0.0,0.0,0.0,0.0,0.0,0.0,0.0,0.0,0.0,0.0,0.0,0.0,0.0,0.0,0.0,0.0,0.0,0.0,0.0,0.0,0.0,0.0,0.0,0.0,0.0,0.0,0.0,0.0,0.0,0.0,0.0,0.0,0.0,0.0,0.0,0.0,0.0,0.0,0.0,0.0,0.0,0.0,0.0,0.0,0.0,0.0,0.0,0.0,0.0,0.0,0.0,0.0,0.0,0.0,0.0,0.0,0.0,0.0,0.0,0.0,0.0,0.0,0.0,0.0,0.0,0.0,0.0,0.0,0.0,0.0,0.0,0.0,0.0,0.0,0.0,0.0,0.0,0.0,0.0,0.0,0.0,0.0,0.0,0.0,0.0,0.0,0.0,0.0,0.0,0.0,0.0,0.0,0.0,0.0,0.0,0.0,0.0,0.0,0.0,0.0,0.0,0.0,0.0,0.0,0.0,0.0,0.0,0.0,0.0,0.0,0.0,0.0,0.0,0.0,0.0,0.0,0.0,0.0,0.0,0.0,0.0,0.0,0.0,0.0,0.0,0.0,0.0,0.0,0.0,0.0,0.0,0.0,0.0,0.0,0.0,0.0,0.0,0.0,0.0,0.0,0.0,0.0,0.0,0.0,0.0,0.0,0.0,0.0,0.0,0.0,0.0,0.0,0.0,0.0,0.0,0.0,0.0,0.0,0.0,0.0,0.0,0.0,0.0,0.0,0.0,0.0,0.0,0.0,0.0,0.0,0.0,0.0,0.0,0.0,0.0,0.0,0.0,0.0,0.0,0.0,0.0,0.0,0.0,0.0,0.0,0.0,0.0,0.0,0.0,0.0,0.0,0.0,0.0,0.0,0.0,0.0,0.0,0.0,0.0,0.0,0.0,0.0,0.0,0.0,0.0,0.0,0.0,0.0,0.0,0.0,0.0,0.0,0.0,0.0,0.0,0.0,0.0,0.0,0.0,0.0,0.0,0.0,0.0,0.0,0.0,0.0,0.0,0.0,0.0,0.0,0.0,0.0,0.0,0.0,0.0,0.0,0.0,0.0,0.0,0.0,0.0,0.0,0.0,0.0,0.0,0.0,0.0,0.0,0.0,0.0,0.0,0.0,0.0,0.0,0.0,0.0,0.0,0.0,0.0,0.0,0.0,0.0,0.0,0.0,0.0,0.0,0.0,0.0,0.0,0.0,0.0,0.0,0.0,0.0,0.0,0.0,0.0,0.0,0.0,0.0,0.0,0.0,0.0,0.0,0.0,0.0,0.0,0.0,0.0,0.0,0.0,0.0,0.0,0.0,0.0,0.0,0.0,0.0,0.0,0.0,0.0,0.0,0.0,0.0,0.0,0.0,0.0,0.0,0.0,0.0,0.0,0.0,0.0,0.0,0.0,0.0,0.0,0.0,0.0,0.0,0.0,0.0,0.0,0.0,0.0,0.0,0.0,0.0,0.0,0.0,0.0,0.0,0.0,0.0,0.0,0.0,0.0,0.0,0.0,0.0,0.0,0.0,0.0,0.0,0.0,0.0,0.0,0.0,0.0,0.0,0.0,0.0,0.0,0.0,0.0,0.0,0.0,0.0,0.0,0.0,0.0,0.0,0.0,0.0,0.0,0.0,0.0,0.0,0.0,0.0,0.0,0.0,0.0,0.0,0.0,0.0,0.0,0.0,0.0,0.0,0.0,0.0,0.0,0.0,0.0,0.0,0.0,0.0,0.0,0.0,0.0,0.0,0.0,0.0,0.0,0.0,0.0,0.0,0.0,0.0,0.0,0.0,0.0,0.0,0.0,0.0,0.0,0.0,0.0,0.0,0.0,0.0,0.0,0.0,0.0,0.0,0.0,0.0,0.0,0.0,0.0,0.0,0.0,0.0,0.0,0.0,0.0,0.0,0.0,0.0,0.0,0.0,0.0,0.0,0.0,0.0,0.0,0.0,0.0,0.0,0.0,0.0,0.0,0.0,0.0,0.0,0.0,0.0,0.0,0.0,0.0,0.0,0.0,0.0,0.0,0.0,0.0,0.0,0.0,0.0,0.0,0.0,0.0,0.0,0.0,0.0,0.0,0.0,0.0,0.0,0.0,0.0,0.0,0.0,0.0,0.0,0.0,0.0,0.0,0.0,0.0,0.0,0.0,0.0,0.0,0.0,0.0,0.0,0.0,0.0,0.0,0.0,0.0,0.0,0.0,0.0,0.0,0.0,0.0,0.0,0.0,0.0,0.0,0.0,0.0,0.0,0.0,0.0,0.0,0.0,0.0,0.0,0.0,0.0,0.0,0.0,0.0,0.0,0.0,0.0,0.0,0.0,0.0,0.0,0.0,0.0,0.0,0.0,0.0,0.0,0.0,0.0,0.0,0.0,0.0,0.0,0.0,0.0,0.0,0.0,0.0,0.0,0.0,0.0,0.0,0.0,0.0,0.0,0.0,0.0,0.0,0.0,0.0,0.0,0.0,0.0,0.0,0.0,0.0,0.0,0.0,0.0,0.0,0.0,0.0,0.0,0.0,0.0,0.0,0.0,0.0,0.0,0.0,0.0,0.0,0.0,0.0,0.0,0.0,0.0,0.0,0.0,0.0,0.0,0.0,0.0,0.0,0.0,0.0,0.0,0.0,0.0,0.0,0.0,0.0,0.0,0.0,0.0,0.0,0.0,0.0,0.0,0.0,0.0,0.0,0.0,0.0,0.0,0.0,0.0,0.0,0.0,0.0,0.0,0.0,0.0,0.0,0.0,0.0,0.0,0.0,0.0,0.0,0.0,0.0,0.0,0.0,0.0,0.0,0.0,0.0,0.0,0.0,0.0,0.0,0.0,0.0,0.0,0.0,0.0,0.0,0.0,0.0,0.0,0.0,0.0,0.0,0.0,0.0,0.0,0.0,0.0,0.0,0.0,0.0,0.0,0.0,0.0,0.0,0.0,0.0,0.0,0.0,0.0,0.0,0.0,0.0,0.0,0.0,0.0,0.0,0.0,0.0,0.0,0.0,0.0,0.0,0.0,0.0,0.0,0.0,0.0,0.0,0.0,0.0,0.0,0.0,0.0,0.0,0.0,0.0,0.0,0.0,0.0,0.0,0.0,0.0,0.0,0.0,0.0,0.0,0.0,0.0,0.0,0.0,0.0,0.0,0.0,0.0,0.0,0.0,0.0,0.0,0.0,0.0,0.0,0.0,0.0,0.0,0.0,0.0,0.0,0.0,0.0,0.0,0.0,0.0,0.0,0.0,0.0,0.0,0.0,0.0,0.0,0.0,0.0,0.0,0.0,0.0,0.0,0.0,0.0,0.0,0.0,0.0,0.0,0.0,0.0,0.0,0.0,0.0,0.0,0.0,0.0,0.0,0.0,0.0,0.0,0.0,0.0,0.0,0.0,0.0,0.0,0.0,0.0,0.0,0.0,0.0,0.0,0.0,0.0,0.0,0.0,0.0,0.0,0.0,0.0,0.0,0.0,0.0,0.0,0.0,0.0,0.0,0.0,0.0,0.0,0.0,0.0,0.0,0.0,0.0,0.0,0.0,0.0,0.0,0.0,0.0,0.0,0.0,0.0,0.0,0.0,0.0,0.0,0.0,0.0,0.0,0.0,0.0,0.0,0.0,0.0,0.0,0.0,0.0,0.0,0.0,0.0,0.0,0.0,0.0,0.0,0.0,0.0,0.0,0.0,0.0,0.0,0.0,0.0,0.0,0.0,0.0,0.0,0.0,0.0,0.0,0.0,0.0,0.0,0.0,0.0,0.0,0.0,0.0,0.0,0.0,0.0,0.0,0.0,0.0,0.0,0.0,0.0,0.0,0.0,0.0,0.0,0.0,0.0,0.0,0.0,0.0,0.0,0.0,0.0,0.0,0.0,0.0,0.0,0.0,0.0,0.0,0.0,0.0,0.0,0.0,0.0,0.0,0.0,0.0,0.0,0.0,0.0,0.0,0.0,0.0,0.0,0.0,0.0,0.0,0.0,0.0,0.0,0.0,0.0,0.0,0.0,0.0,0.0,0.0,0.0,0.0,0.0,0.0,0.0,0.0,0.0,0.0,0.0,0.0,0.0,0.0,0.0,0.0,0.0,0.0,0.0,0.0,0.0,0.0,0.0,0.0,0.0,0.0,0.0,0.0,0.0,0.0,0.0,0.0,0.0,0.0,0.0,0.0,0.0,0.0,0.0,0.0,0.0,0.0,0.0,0.0,0.0,0.0,0.0,0.0,0.0,0.0,0.0,0.0,0.0,0.0,0.0,0.0,0.0,0.0,0.0,0.0,0.0,0.0,0.0,0.0,0.0,0.0,0.0,0.0,0.0,0.0,0.0,0.0,0.0,0.0,0.0,0.0,0.0,0.0,0.0,0.0,0.0,0.0,0.0,0.0,0.0,0.0,0.0,0.0,0.0,0.0,0.0,0.0,0.0,0.0,0.0,0.0,0.0,0.0,0.0,0.0,0.0,0.0,0.0,0.0,0.0,0.0,0.0,0.0,0.0,0.0,0.0,0.0,0.0,0.0,0.0,0.0,0.0,0.0,0.0,0.0,0.0,0.0,0.0,0.0,0.0,0.0,0.0,0.0,0.0,0.0,0.0,0.0,0.0,0.0,0.0,0.0,0.0,0.0,0.0,0.0,0.0,0.0,0.0,0.0,0.0,0.0,0.0,0.0,0.0,0.0,0.0,0.0,0.0,0.0,0.0,0.0,0.0,0.0,0.0,0.0,0.0,0.0,0.0,0.0,0.0,0.0,0.0,0.0,0.0,0.0,0.0,0.0,0.0,0.0,0.0,0.0,0.0,0.0,0.0,0.0,0.0,0.0,0.0,0.0,0.0,0.0,0.0,0.0,0.0,0.0,0.0,0.0,0.0,0.0,0.0,0.0,0.0,0.0,0.0,0.0,0.0,0.0,0.0,0.0,0.0,0.0,0.0,0.0,0.0,0.0,0.0,0.0,0.0,0.0,0.0,0.0,0.0,0.0,0.0,0.0,0.0,0.0,0.0,0.0,0.0,0.0,0.0,0.0,0.0,0.0,0.0,0.0,0.0,0.0,0.0,0.0,0.0,0.0,0.0,0.0,0.0,0.0,0.0,0.0,0.0,0.0,0.0,0.0,0.0,0.0,0.0,0.0,0.0,0.0,0.0,0.0,0.0,0.0,0.0,0.0,0.0,0.0,0.0,0.0,0.0,0.0,0.0,0.0,0.0,0.0,0.0,0.0,0.0,0.0,0.0,0.0,0.0,0.0,0.0,0.0,0.0,0.0,0.0,0.0,0.0,0.0,0.0,0.0,0.0,0.0,0.0,0.0,0.0,0.0,0.0,0.0,0.0,0.0,0.0,0.0,0.0,0.0,0.0,0.0,0.0,0.0,0.0,0.0,0.0,0.0,0.0,0.0,0.0,0.0,0.0,0.0,0.0,0.0,0.0,0.0,0.0,0.0,0.0,0.0,0.0,0.0,0.0,0.0,0.0,0.0,0.0,0.0,0.0,0.0,0.0,0.0,0.0,0.0,0.0,0.0,0.0,0.0,0.0,0.0,0.0,0.0,0.0,0.0,0.0,0.0,0.0,0.0,0.0,0.0,0.0,0.0,0.0,0.0,0.0,0.0,0.0,0.0,0.0,0.0,0.0,0.0,0.0,0.0,0.0,0.0,0.0,0.0,0.0,0.0,0.0,0.0,0.0,0.0,0.0,0.0,0.0,0.0,0.0,0.0,0.0,0.0,0.0,0.0,0.0,0.0,0.0,0.0,0.0,0.0,0.0,0.0,0.0,0.0,0.0,0.0,0.0,0.0,0.0,0.0,0.0,0.0,0.0,0.0,0.0,0.0,0.0,0.0,0.0,0.0,0.0,0.0,0.0,0.0,0.0,0.0,0.0,0.0,0.0,0.0,0.0,0.0,0.0,0.0,0.0,0.0,0.0,0.0,0.0,0.0,0.0,0.0,0.0,0.0,0.0,0.0,0.0,0.0,0.0,0.0,0.0,0.0,0.0,0.0,0.0,0.0,0.0,0.0,0.0,0.0,0.0,0.0,0.0,0.0,0.0,0.0,0.0,0.0,0.0,0.0,0.0,0.0,0.0,0.0,0.0,0.0,0.0,0.0,0.0,0.0,0.0,0.0,0.0,0.0,0.0,0.0,0.0,0.0,0.0,0.0,0.0,0.0,0.0,0.0,0.0,0.0,0.0,0.0,0.0,0.0,0.0,0.0,0.0,0.0,0.0,0.0,0.0,0.0,0.0,0.0,0.0,0.0,0.0,0.0,0.0,0.0,0.0,0.0,0.0,0.0,0.0,0.0,0.0,0.0,0.0,0.0,0.0,0.0,0.0,0.0,0.0,0.0,0.0,0.0,0.0,0.0,0.0,0.0,0.0,0.0,0.0,0.0,0.0,0.0,0.0,0.0,0.0,0.0,0.0,0.0,0.0,0.0,0.0,0.0,0.0,0.0,0.0,0.0,0.0,0.0,0.0,0.0,0.0,0.0,0.0,0.0,0.0,0.0,0.0,0.0,0.0,0.0,0.0,0.0,0.0,0.0,0.0,0.0,0.0,0.0,0.0,0.0,0.0,0.0,0.0,0.0,0.0,0.0,0.0,0.0,0.0,0.0,0.0,0.0,0.0,0.0,0.0,0.0,0.0,0.0,0.0,0.0,0.0,0.0,0.0,0.0,0.0,0.0,0.0,0.0,0.0,0.0,0.0,0.0,0.0,0.0,0.0,0.0,0.0,0.0,0.0,0.0,0.0,0.0,0.0,0.0,0.0,0.0,0.0,0.0,0.0,0.0,0.0,0.0,0.0,0.0,0.0,0.0,0.0,0.0,0.0,0.0,0.0,0.0,0.0,0.0,0.0,0.0,0.0,0.0,0.0,0.0,0.0,0.0,0.0,0.0,0.0,0.0,0.0,0.0,0.0,0.0,0.0,0.0,0.0,0.0,0.0,0.0,0.0,0.0,0.0,0.0,0.0,0.0,0.0,0.0,0.0,0.0,0.0,0.0,0.0,0.0,0.0,0.0,0.0,0.0,0.0,0.0,0.0,0.0,0.0,0.0,0.0,0.0,0.0,0.0,0.0,0.0,0.0,0.0,0.0,0.0,0.0,0.0,0.0,0.0,0.0,0.0,0.0,0.0,0.0,0.0,0.0,0.0,0.0,0.0,0.0,0.0,0.0,0.0,0.0,0.0,0.0,0.0,0.0,0.0,0.0,0.0,0.0,0.0,0.0,0.0,0.0,0.0,0.0,0.0,0.0,0.0,0.0,0.0,0.0,0.0,0.0,0.0,0.0,0.0,0.0,0.0,0.0,0.0,0.0,0.0,0.0,0.0,0.0,0.0,0.0,0.0,0.0,0.0,0.0,0.0,0.0,0.0,0.0,0.0,0.0,0.0,0.0,0.0,0.0,0.0,0.0,0.0,0.0,0.0,0.0,0.0,0.0,0.0,0.0,0.0,0.0,0.0,0.0,0.0,0.0,0.0,0.0,0.0,0.0,0.0,0.0,0.0,0.0,0.0,0.0,0.0,0.0,0.0,0.0,0.0,0.0,0.0,0.0,0.0,0.0,0.0,0.0,0.0,0.0,0.0,0.0,0.0,0.0,0.0,0.0,0.0,0.0,0.0,0.0,0.0,0.0,0.0,0.0,0.0,0.0,0.0,0.0,0.0,0.0,0.0,0.0,0.0,0.0,0.0,0.0,0.0,0.0,0.0,0.0,0.0,0.0,0.0,0.0,0.0,0.0,0.0,0.0,0.0,0.0,0.0,0.0,0.0,0.0,0.0,0.0,0.0,0.0,0.0,0.0,0.0,0.0,0.0,0.0,0.0,0.0,0.0,0.0,0.0,0.0,0.0,0.0,0.0,0.0,0.0,0.0,0.0,0.0,0.0,0.0,0.0,0.0,0.0,0.0,0.0,0.0,0.0,0.0,0.0,0.0,0.0,0.0,0.0,0.0,0.0,0.0,0.0,0.0,0.0,0.0,0.0,0.0,0.0,0.0,0.0,0.0,0.0,0.0,0.0,0.0,0.0,0.0,0.0,0.0,0.0,0.0,0.0,0.0,0.0,0.0,0.0,0.0,0.0,0.0,0.0,0.0,0.0,0.0,0.0,0.0,0.0,0.0,0.0,0.0,0.0,0.0,0.0,0.0,0.0,0.0,0.0,0.0,0.0,0.0,0.0,0.0,0.0,0.0,0.0,0.0,0.0,0.0,0.0,0.0,0.0,0.0,0.0,0.0,0.0,0.0,0.0,0.0,0.0,0.0,0.0,0.0,0.0,0.0,0.0,0.0,0.0,0.0,0.0,0.0,0.0,0.0,0.0,0.0,0.0,0.0,0.0,0.0,0.0,0.0,0.0,0.0,0.0,0.0,0.0,0.0,0.0,0.0,0.0,0.0,0.0,0.0,0.0,0.0,0.0,0.0,0.0,0.0,0.0,0.0,0.0,0.0,0.0,0.0,0.0,0.0,0.0,0.0,0.0,0.0,0.0,0.0,0.0,0.0,0.0,0.0,0.0,0.0,0.0,0.0,0.0,0.0,0.0,0.0,0.0,0.0,0.0,0.0,0.0,0.0,0.0,0.0,0.0,0.0,0.0,0.0,0.0,0.0,0.0,0.0,0.0,0.0,0.0,0.0,0.0,0.0,0.0,0.0,0.0,0.0,0.0,0.0,0.0,0.0,0.0,0.0,0.0,0.0,0.0,0.0,0.0,0.0,0.0,0.0,0.0,0.0,0.0,0.0,0.0,0.0,0.0,0.0,0.0,0.0,0.0,0.0,0.0,0.0,0.0,0.0,0.0,0.0,0.0,0.0,0.0,0.0,0.0,0.0,0.0,0.0,0.0,0.0,0.0,0.0,0.0,0.0,0.0,0.0,0.0,0.0,0.0,0.0,0.0,0.0,0.0,0.0,0.0,0.0,0.0,0.0,0.0,0.0,0.0,0.0,0.0,0.0,0.0,0.0,0.0,0.0,0.0,0.0,0.0,0.0,0.0,0.0,0.0,0.0,0.0,0.0,0.0,0.0,0.0,0.0,0.0,0.0,0.0,0.0,0.0,0.0,0.0,0.0,0.0,0.0,0.0,0.0,0.0,0.0,0.0,0.0,0.0,0.0,0.0,0.0,0.0,0.0,0.0,0.0,0.0,0.0,0.0,0.0,0.0,0.0,0.0,0.0,0.0,0.0,0.0,0.0,0.0,0.0,0.0,0.0,0.0,0.0,0.0,0.0,0.0,0.0,0.0,0.0,0.0,0.0,0.0,0.0,0.0,0.0,0.0,0.0,0.0,0.0,0.0,0.0,0.0,0.0,0.0,0.0,0.0,0.0,0.0,0.0,0.0,0.0,0.0,0.0,0.0,0.0,0.0,0.0,0.0,0.0,0.0,0.0,0.0,0.0,0.0,0.0,0.0,0.0,0.0,0.0,0.0,0.0,0.0,0.0,0.0,0.0,0.0,0.0,0.0,0.0,0.0,0.0,0.0,0.0,0.0,0.0,0.0,0.0,0.0,0.0,0.0,0.0,0.0,0.0,0.0,0.0,0.0,0.0,0.0,0.0,0.0,0.0,0.0,0.0,0.0,0.0,0.0,0.0,0.0,0.0,0.0,0.0,0.0,0.0,0.0,0.0,0.0,0.0,0.0,0.0,0.0,0.0,0.0,0.0,0.0,0.0,0.0,0.0,0.0,0.0,0.0,0.0,0.0,0.0,0.0,0.0,0.0,0.0,0.0,0.0,0.0,0.0,0.0,0.0,0.0,0.0,0.0,0.0,0.0,0.0,0.0,0.0,0.0,0.0,0.0,0.0,0.0,0.0,0.0,0.0,0.0,0.0,0.0,0.0,0.0,0.0,0.0,0.0,0.0,0.0,0.0,0.0,0.0,0.0,0.0,0.0,0.0,0.0,0.0,0.0,0.0,0.0,0.0,0.0,0.0,0.0,0.0,0.0,0.0,0.0,0.0,0.0,0.0,0.0,0.0,0.0,0.0,0.0,0.0,0.0,0.0,0.0,0.0,0.0,0.0,0.0,0.0,0.0,0.0,0.0,0.0,0.0,0.0,0.0,0.0,0.0,0.0,0.0,0.0,0.0,0.0,0.0,0.0,0.0,0.0,0.0,0.0,0.0,0.0,0.0,0.0,0.0,0.0,0.0,0.0,0.0,0.0,0.0,0.0,0.0,0.0,0.0,0.0,0.0,0.0,0.0,0.0,0.0,0.0,0.0,0.0,0.0,0.0,0.0,0.0,0.0,0.0,0.0,0.0,0.0,0.0,0.0,0.0,0.0,0.0,0.0,0.0,0.0,0.0,0.0,0.0,0.0,0.0,0.0,0.0,0.0,0.0,0.0,0.0,0.0,0.0,0.0,0.0,0.0,0.0,0.0,0.0,0.0,0.0,0.0,0.0,0.0,0.0,0.0,0.0,0.0,0.0,0.0,0.0,0.0,0.0,0.0,0.0,0.0,0.0,0.0,0.0,0.0,0.0,0.0,0.0,0.0,0.0,0.0,0.0,0.0,0.0,0.0,0.0,0.0,0.0,0.0,0.0,0.0,0.0,0.0,0.0,0.0,0.0,0.0,0.0,0.0,0.0,0.0,0.0,0.0,0.0,0.0,0.0,0.0,0.0,0.0,0.0,0.0,0.0,0.0,0.0,0.0,0.0,0.0,0.0,0.0,0.0,0.0,0.0,0.0,0.0,0.0,0.0,0.0,0.0,0.0,0.0,0.0,0.0,0.0,0.0,0.0,0.0,0.0,0.0,0.0,0.0,0.0,0.0,0.0,0.0,0.0,0.0,0.0,0.0,0.0,0.0,0.0,0.0,0.0,0.0,0.0,0.0,0.0,0.0,0.0,0.0,0.0,0.0,0.0,0.0,0.0,0.0,0.0,0.0,0.0,0.0,0.0,0.0,0.0,0.0,0.0,0.0,0.0,0.0,0.0,0.0,0.0,0.0,0.0,0.0,0.0,0.0,0.0,0.0,0.0,0.0,0.0,0.0,0.0,0.0,0.0,0.0,0.0,0.0,0.0,0.0,0.0,0.0,0.0,0.0,0.0,0.0,0.0,0.0,0.0,0.0,0.0,0.0,0.0,0.0,0.0,0.0,0.0,0.0,0.0,0.0,0.0,0.0,0.0,0.0,0.0,0.0,0.0,0.0,0.0,0.0,0.0,0.0,0.0,0.0,0.0,0.0,0.0,0.0,0.0,0.0,0.0,0.0,0.0,0.0,0.0,0.0,0.0,0.0,0.0,0.0,0.0,0.0,0.0,0.0,0.0,0.0,0.0,0.0,0.0,0.0,0.0,0.0,0.0,0.0,0.0,0.0,0.0,0.0,0.0,0.0,0.0,0.0,0.0,0.0,0.0,0.0,0.0,0.0,0.0,0.0,0.0,0.0,0.0,0.0,0.0,0.0,0.0,0.0,0.0,0.0,0.0,0.0,0.0,0.0,0.0,0.0,0.0,0.0,0.0,0.0,0.0,0.0,0.0,0.0,0.0,0.0,0.0,0.0,0.0,0.0,0.0,0.0,0.0,0.0,0.0,0.0,0.0,0.0,0.0,0.0,0.0,0.0,0.0,0.0,0.0,0.0,0.0,0.0,0.0,0.0,0.0,0.0,0.0,0.0,0.0,0.0,0.0,0.0,0.0,0.0,0.0,0.0,0.0,0.0,0.0,0.0,0.0,0.0,0.0,0.0,0.0,0.0,0.0,0.0,0.0,0.0,0.0,0.0,0.0,0.0,0.0,0.0,0.0,0.0,0.0,0.0,0.0,0.0,0.0,0.0,0.0,0.0,0.0,0.0,0.0,0.0,0.0,0.0,0.0,0.0,0.0,0.0,0.0,0.0,0.0,0.0,0.0,0.0,0.0,0.0,0.0,0.0,0.0,0.0,0.0,0.0,0.0,0.0,0.0,0.0,0.0,0.0,0.0,0.0,0.0,0.0,0.0,0.0,0.0,0.0,0.0,0.0,0.0,0.0,0.0,0.0,0.0,0.0,0.0,0.0,0.0,0.0,0.0,0.0,0.0,0.0,0.0,0.0,0.0,0.0,0.0,0.0,0.0,0.0,0.0,0.0,0.0,0.0,0.0,0.0,0.0,0.0,0.0,0.0,0.0,0.0,0.0,0.0,0.0,0.0,0.0,0.0,0.0,0.0,0.0,0.0,0.0,0.0,0.0,0.0,0.0,0.0,0.0,0.0,0.0,0.0,0.0,0.0,0.0,0.0,0.0,0.0,0.0,0.0,0.0,0.0,0.0,0.0,0.0,0.0,0.0,0.0,0.0,0.0,0.0,0.0,0.0,0.0,0.0,0.0,0.0,0.0,0.0,0.0,0.0,0.0,0.0,0.0,0.0,0.0,0.0,0.0,0.0,0.0,0.0,0.0,0.0,0.0,0.0,0.0,0.0,0.0,0.0,0.0,0.0,0.0,0.0,0.0,0.0,0.0,0.0,0.0,0.0,0.0,0.0,0.0,0.0,0.0,0.0,0.0,0.0,0.0,0.0,0.0,0.0,0.0,0.0,0.0,0.0,0.0,0.0,0.0,0.0,0.0,0.0,0.0,0.0,0.0,0.0,0.0,0.0,0.0,0.0,0.0,0.0,0.0,0.0,0.0,0.0,0.0,0.0,0.0,0.0,0.0,0.0,0.0,0.0,0.0,0.0,0.0,0.0,0.0,0.0,0.0,0.0,0.0,0.0,0.0,0.0,0.0,0.0,0.0,0.0,0.0,0.0,0.0,0.0,0.0,0.0,0.0,0.0,0.0,0.0,0.0,0.0,0.0,0.0,0.0,0.0,0.0,0.0,0.0,0.0,0.0,0.0,0.0,0.0,0.0,0.0,0.0,0.0,0.0,0.0,0.0,0.0,0.0,0.0,0.0,0.0,0.0,0.0,0.0,0.0,0.0,0.0,0.0,0.0,0.0,0.0,0.0,0.0,0.0,0.0,0.0,0.0,0.0,0.0,0.0,0.0,0.0,0.0,0.0,0.0,0.0,0.0,0.0,0.0,0.0,0.0,0.0,0.0,0.0,0.0,0.0,0.0,0.0,0.0,0.0,0.0,0.0,0.0,0.0,0.0,0.0,0.0,0.0,0.0,0.0,0.0,0.0,0.0,0.0,0.0,0.0,0.0,0.0,0.0,0.0,0.0,0.0,0.0,0.0,0.0,0.0,0.0,0.0,0.0,0.0,0.0,0.0,0.0,0.0,0.0,0.0,0.0,0.0,0.0,0.0,0.0,0.0,0.0,0.0,0.0,0.0,0.0,0.0,0.0,0.0,0.0,0.0,0.0,0.0,0.0,0.0,0.0,0.0,0.0,0.0,0.0,0.0,0.0,0.0,0.0,0.0,0.0,0.0,0.0,0.0,0.0,0.0,0.0,0.0,0.0,0.0,0.0,0.0,0.0,0.0,0.0,0.0,0.0,0.0,0.0,0.0,0.0,0.0,0.0,0.0,0.0,0.0,0.0,0.0,0.0,0.0,0.0,0.0,0.0,0.0,0.0,0.0,0.0,0.0,0.0,0.0,0.0,0.0,0.0,0.0,0.0,0.0,0.0,0.0,0.0,0.0,0.0,0.0,0.0,0.0,0.0,0.0,0.0,0.0,0.0,0.0,0.0,0.0,0.0,0.0,0.0,0.0,0.0,0.0,0.0,0.0,0.0,0.0,0.0,0.0,0.0,0.0,0.0,0.0,0.0,0.0,0.0,0.0,0.0,0.0,0.0,0.0,0.0,0.0,0.0,0.0,0.0,0.0,0.0,0.0,0.0,0.0,0.0,0.0,0.0,0.0,0.0,0.0,0.0,0.0,0.0,0.0,0.0,0.0,0.0,0.0,0.0,0.0,0.0,0.0,0.0,0.0,0.0,0.0,0.0,0.0,0.0,0.0,0.0,0.0,0.0,0.0,0.0,0.0,0.0,0.0,0.0,0.0,0.0,0.0,0.0,0.0,0.0,0.0,0.0,0.0,0.0,0.0,0.0,0.0,0.0,0.0,0.0,0.0,0.0,0.0,0.0,0.0,0.0,0.0,0.0,0.0,0.0,0.0,0.0,0.0,0.0,0.0,0.0,0.0,0.0,0.0,0.0,0.0,0.0,0.0,0.0,0.0,0.0,0.0,0.0,0.0,0.0,0.0,0.0,0.0,0.0,0.0,0.0,0.0,0.0,0.0,0.0,0.0,0.0,0.0,0.0,0.0,0.0,0.0,0.0,0.0,0.0,0.0,0.0,0.0,0.0,0.0,0.0,0.0,0.0,0.0,0.0,0.0,0.0,0.0,0.0,0.0,0.0,0.0,0.0,0.0,0.0,0.0,0.0,0.0,0.0,0.0,0.0,0.0,0.0,0.0,0.0,0.0,0.0,0.0,0.0,0.0,0.0,0.0,0.0,0.0,0.0,0.0,0.0,0.0,0.0,0.0,0.0,0.0,0.0,0.0,0.0,0.0,0.0,0.0,0.0,0.0,0.0,0.0,0.0,0.0,0.0,0.0,0.0,0.0,0.0,0.0,0.0,0.0,0.0,0.0,0.0,0.0,0.0,0.0,0.0,0.0,0.0,0.0,0.0,0.0,0.0,0.0,0.0,0.0,0.0,0.0,0.0,0.0,0.0,0.0,0.0,0.0,0.0,0.0,0.0,0.0,0.0,0.0,0.0,0.0,0.0,0.0,0.0,0.0,0.0,0.0,0.0,0.0,0.0,0.0,0.0,0.0,0.0,0.0,0.0,0.0,0.0,0.0,0.0,0.0,0.0,0.0,0.0,0.0,0.0,0.0,0.0,0.0,0.0,0.0,0.0,0.0,0.0,0.0,0.0,0.0,0.0,0.0,0.0,0.0,0.0,0.0,0.0,0.0,0.0,0.0,0.0,0.0,0.0,0.0,0.0,0.0,0.0,0.0,0.0,0.0,0.0,0.0,0.0,0.0,0.0,0.0,0.0,0.0,0.0,0.0,0.0,0.0,0.0,0.0,0.0,0.0,0.0,0.0,0.0,0.0,0.0,0.0,0.0,0.0,0.0,0.0,0.0,0.0,0.0,0.0,0.0,0.0,0.0,0.0,0.0,0.0,0.0,0.0,0.0,0.0,0.0,0.0,0.0,0.0,0.0,0.0,0.0,0.0,0.0,0.0,0.0,0.0,0.0,0.0,0.0,0.0,0.0,0.0,0.0,0.0,0.0,0.0,0.0,0.0,0.0,0.0,0.0,0.0,0.0,0.0,0.0,0.0,0.0,0.0,0.0,0.0,0.0,0.0,0.0,0.0,0.0,0.0,0.0,0.0,0.0,0.0,0.0,0.0,0.0,0.0,0.0,0.0,0.0,0.0,0.0,0.0,0.0,0.0,0.0,0.0,0.0,0.0,0.0,0.0,0.0,0.0,0.0,0.0,0.0,0.0,0.0,0.0,0.0,0.0,0.0,0.0,0.0,0.0,0.0,0.0,0.0,0.0,0.0,0.0,0.0,0.0,0.0,0.0,0.0,0.0,0.0,0.0,0.0,0.0,0.0,0.0,0.0,0.0,0.0,0.0,0.0,0.0,0.0,0.0,0.0,0.0,0.0,0.0,0.0,0.0,0.0,0.0,0.0,0.0,0.0,0.0,0.0,0.0,0.0,0.0,0.0,0.0,0.0,0.0,0.0,0.0,0.0,0.0,0.0,0.0,0.0,0.0,0.0,0.0,0.0,0.0,0.0,0.0,0.0,0.0,0.0,0.0,0.0,0.0,0.0,0.0,0.0,0.0,0.0,0.0,0.0,0.0,0.0,0.0,0.0,0.0,0.0,0.0,0.0,0.0,0.0,0.0,0.0,0.0,0.0,0.0,0.0,0.0,0.0,0.0,0.0,0.0,0.0,0.0,0.0,0.0,0.0,0.0,0.0,0.0,0.0,0.0,0.0,0.0,0.0,0.0,0.0,0.0,0.0,0.0,0.0,0.0,0.0,0.0,0.0,0.0,0.0,0.0,0.0,0.0,0.0,0.0,0.0,0.0,0.0,0.0,0.0,0.0,0.0,0.0,0.0,0.0,0.0,0.0,0.0,0.0,0.0,0.0,0.0,0.0,0.0,0.0,0.0,0.0,0.0,0.0,0.0,0.0,0.0,0.0,0.0,0.0,0.0,0.0,0.0,0.0,0.0,0.0,0.0,0.0,0.0,0.0,0.0,0.0,0.0,0.0,0.0,0.0,0.0,0.0,0.0,0.0,0.0,0.0,0.0,0.0,0.0,0.0,0.0,0.0,0.0,0.0,0.0,0.0,0.0,0.0,0.0,0.0,0.0,0.0,0.0,0.0,0.0,0.0,0.0,0.0,0.0,0.0,0.0,0.0,0.0,0.0,0.0,0.0,0.0,0.0,0.0,0.0,0.0,0.0,0.0,0.0,0.0,0.0,0.0,0.0,0.0,0.0,0.0,0.0,0.0,0.0,0.0,0.0,0.0,0.0,0.0,0.0,0.0,0.0,0.0,0.0,0.0,0.0,0.0,0.0,0.0,0.0,0.0,0.0,0.0,0.0,0.0,0.0,0.0,0.0,0.0,0.0,0.0,0.0,0.0,0.0,0.0,0.0,0.0,0.0,0.0,0.0,0.0,0.0,0.0,0.0,0.0,0.0,0.0,0.0,0.0,0.0,0.0,0.0,0.0,0.0,0.0,0.0,0.0,0.0,0.0,0.0,0.0,0.0,0.0,0.0,0.0,0.0,0.0,0.0,0.0,0.0,0.0,0.0,0.0,0.0,0.0,0.0,0.0,0.0,0.0,0.0,0.0,0.0,0.0,0.0,0.0,0.0,0.0,0.0,0.0,0.0,0.0,0.0,0.0,0.0,0.0,0.0,0.0,0.0,0.0,0.0,0.0,0.0,0.0,0.0,0.0,0.0,0.0,0.0,0.0,0.0,0.0,0.0,0.0,0.0,0.0,0.0,0.0,0.0,0.0,0.0,0.0,0.0,0.0,0.0,0.0,0.0,0.0,0.0,0.0,0.0,0.0,0.0,0.0,0.0,0.0,0.0,0.0,0.0,0.0,0.0,0.0,0.0,0.0,0.0,0.0,0.0,0.0,0.0,0.0,0.0,0.0,0.0,0.0,0.0,0.0,0.0,0.0,0.0,0.0,0.0,0.0,0.0,0.0,0.0,0.0,0.0,0.0,0.0,0.0,0.0,0.0,0.0,0.0,0.0,0.0,0.0,0.0,0.0,0.0,0.0,0.0,0.0,0.0,0.0,0.0,0.0,0.0,0.0,0.0,0.0,0.0,0.0,0.0,0.0,0.0,0.0,0.0,0.0,0.0,0.0,0.0,0.0,0.0,0.0,0.0,0.0,0.0,0.0,0.0,0.0,0.0,0.0,0.0,0.0,0.0,0.0,0.0,0.0,0.0,0.0,0.0,0.0,0.0,0.0,0.0,0.0,0.0,0.0,0.0,0.0,0.0,0.0,0.0,0.0,0.0,0.0,0.0,0.0,0.0,0.0,0.0,0.0,0.0,0.0,0.0,0.0,0.0,0.0,0.0,0.0,0.0,0.0,0.0,0.0,0.0,0.0,0.0,0.0,0.0,0.0,0.0,0.0,0.0,0.0,0.0,0.0,0.0,0.0,0.0,0.0,0.0,0.0,0.0,0.0,0.0,0.0,0.0,0.0,0.0,0.0,0.0,0.0,0.0,0.0,0.0,0.0,0.0,0.0,0.0,0.0,0.0,0.0,0.0,0.0,0.0,0.0,0.0,0.0,0.0,0.0,0.0,0.0,0.0,0.0,0.0,0.0,0.0,0.0,0.0,0.0,0.0,0.0,0.0,0.0,0.0,0.0,0.0,0.0,0.0,0.0,0.0,0.0,0.0,0.0,0.0,0.0,0.0,0.0,0.0,0.0,0.0,0.0,0.0,0.0,0.0,0.0,0.0,0.0,0.0,0.0,0.0,0.0,0.0,0.0,0.0,0.0,0.0,0.0,0.0,0.0,0.0,0.0,0.0,0.0,0.0,0.0,0.0,0.0,0.0,0.0,0.0,0.0,0.0,0.0,0.0,0.0,0.0,0.0,0.0,0.0,0.0,0.0,0.0,0.0,0.0,0.0,0.0,0.0,0.0,0.0,0.0,0.0,0.0,0.0,0.0,0.0,0.0,0.0,0.0,0.0,0.0,0.0,0.0,0.0,0.0,0.0,0.0,0.0,0.0,0.0,0.0,0.0,0.0,0.0,0.0,0.0,0.0,0.0,0.0,0.0,0.0,0.0,0.0,0.0,0.0,0.0,0.0,0.0,0.0,0.0,0.0,0.0,0.0,0.0,0.0,0.0,0.0,0.0,0.0,0.0,0.0,0.0,0.0,0.0,0.0,0.0,0.0,0.0,0.0,0.0,0.0,0.0,0.0,0.0,0.0,0.0,0.0,0.0,0.0,0.0,0.0,0.0,0.0,0.0,0.0,0.0,0.0,0.0,0.0,0.0,0.0,0.0,0.0,0.0,0.0,0.0,0.0,0.0,0.0,0.0,0.0,0.0,0.0,0.0,0.0,0.0,0.0,0.0,0.0,0.0,0.0,0.0,0.0,0.0,0.0,0.0,0.0,0.0,0.0,0.0,0.0,0.0,0.0,0.0,0.0,0.0,0.0,0.0,0.0,0.0,0.0,0.0,0.0,0.0,0.0,0.0,0.0,0.0,0.0,0.0,0.0,0.0,0.0,0.0,0.0,0.0,0.0,0.0,0.0,0.0,0.0,0.0,0.0,0.0,0.0,0.0,0.0,0.0,0.0,0.0,0.0,0.0,0.0,0.0,0.0,0.0,0.0,0.0,0.0,0.0,0.0,0.0,0.0,0.0,0.0,0.0,0.0,0.0,0.0,0.0,0.0,0.0,0.0,0.0,0.0,0.0,0.0,0.0,0.0,0.0,0.0,0.0,0.0,0.0,0.0,0.0,0.0,0.0,0.0,0.0,0.0,0.0,0.0,0.0,0.0,0.0,0.0,0.0,0.0,0.0,0.0,0.0,0.0,0.0,0.0,0.0,0.0,0.0,0.0,0.0,0.0,0.0,0.0,0.0,0.0,0.0,0.0,0.0,0.0,0.0,0.0,0.0,0.0,0.0,0.0,0.0,0.0,0.0,0.0,0.0,0.0,0.0,0.0,0.0,0.0,0.0,0.0,0.0,0.0,0.0,0.0,0.0,0.0,0.0,0.0,0.0,0.0,0.0,0.0,0.0,0.0,0.0,0.0,0.0,0.0,0.0,0.0,0.0,0.0,0.0,0.0,0.0,0.0,0.0,0.0,0.0,0.0,0.0,0.0,0.0,0.0,0.0,0.0,0.0,0.0,0.0,0.0,0.0,0.0,0.0,0.0,0.0,0.0,0.0,0.0,0.0,0.0,0.0,0.0,0.0,0.0,0.0,0.0,0.0,0.0,0.0,0.0,0.0,0.0,0.0,0.0,0.0,0.0,0.0,0.0,0.0,0.0,0.0,0.0,0.0,0.0,0.0,0.0,0.0,0.0,0.0,0.0,0.0,0.0,0.0,0.0,0.0,0.0,0.0,0.0,0.0,0.0,0.0,0.0,0.0,0.0,0.0,0.0,0.0,0.0,0.0,0.0,0.0,0.0,0.0,0.0,0.0,0.0,0.0,0.0,0.0,0.0,0.0,0.0,0.0,0.0,0.0,0.0,0.0,0.0,0.0,0.0,0.0,0.0,0.0,0.0,0.0,0.0,0.0,0.0,0.0,0.0,0.0,0.0,0.0,0.0,0.0,0.0,0.0,0.0,0.0,0.0,0.0,0.0,0.0,0.0,0.0,0.0,0.0,0.0,0.0,0.0,0.0,0.0,0.0,0.0,0.0,0.0,0.0,0.0,0.0,0.0,0.0,0.0,0.0,0.0,0.0,0.0,0.0,0.0,0.0,0.0,0.0,0.0,0.0,0.0,0.0,0.0,0.0,0.0,0.0,0.0,0.0,0.0,0.0,0.0,0.0,0.0,0.0,0.0,0.0,0.0,0.0,0.0,0.0,0.0,0.0,0.0,0.0,0.0,0.0,0.0,0.0,0.0,0.0,0.0,0.0,0.0,0.0,0.0,0.0,0.0,0.0,0.0,0.0,0.0,0.0,0.0,0.0,0.0,0.0,0.0,0.0,0.0,0.0,0.0,0.0,0.0,0.0,0.0,0.0,0.0,0.0,0.0,0.0,0.0,0.0,0.0,0.0,0.0,0.0,0.0,0.0,0.0,0.0,0.0,0.0,0.0,0.0,0.0,0.0,0.0,0.0,0.0,0.0,0.0,0.0,0.0,0.0,0.0,0.0,0.0,0.0,0.0,0.0,0.0,0.0,0.0,0.0,0.0,0.0,0.0,0.0,0.0,0.0,0.0,0.0,0.0,0.0,0.0,0.0,0.0,0.0,0.0,0.0,0.0,0.0,0.0,0.0,0.0,0.0,0.0,0.0,0.0,0.0,0.0,0.0,0.0,0.0,0.0,0.0,0.0,0.0,0.0,0.0,0.0,0.0,0.0,0.0,0.0,0.0,0.0,0.0,0.0,0.0,0.0,0.0,0.0,0.0,0.0,0.0,0.0,0.0,0.0,0.0,0.0,0.0,0.0,0.0,0.0,0.0,0.0,0.0,0.0,0.0,0.0,0.0,0.0,0.0,0.0,0.0,0.0,0.0,0.0,0.0,0.0,0.0,0.0,0.0,0.0,0.0,0.0,0.0,0.0,0.0,0.0,0.0,0.0,0.0,0.0,0.0,0.0,0.0,0.0,0.0,0.0,0.0,0.0,0.0,0.0,0.0,0.0,0.0,0.0,0.0,0.0,0.0,0.0,0.0,0.0,0.0,0.0,0.0,0.0,0.0,0.0,0.0,0.0,0.0,0.0,0.0,0.0,0.0,0.0,0.0,0.0,0.0,0.0,0.0,0.0,0.0,0.0,0.0,0.0,0.0,0.0,0.0,0.0,0.0,0.0,0.0,0.0,0.0,0.0,0.0,0.0,0.0,0.0,0.0,0.0,0.0,0.0,0.0,0.0,0.0,0.0,0.0,0.0,0.0,0.0,0.0,0.0,0.0,0.0,0.0,0.0,0.0,0.0,0.0,0.0,0.0,0.0,0.0,0.0,0.0,0.0,0.0,0.0,0.0,0.0,0.0,0.0,0.0,0.0,0.0,0.0,0.0,0.0,0.0,0.0,0.0,0.0,0.0,0.0,0.0,0.0,0.0,0.0,0.0,0.0,0.0,0.0,0.0,0.0,0.0,0.0,0.0,0.0,0.0,0.0,0.0,0.0,0.0,0.0,0.0,0.0,0.0,0.0,0.0,0.0,0.0,0.0,0.0,0.0,0.0,0.0,0.0,0.0,0.0,0.0,0.0,0.0,0.0,0.0,0.0,0.0,0.0,0.0,0.0,0.0,0.0,0.0,0.0,0.0,0.0,0.0,0.0,0.0,0.0,0.0,0.0,0.0,0.0,0.0,0.0,0.0,0.0,0.0,0.0,0.0,0.0,0.0,0.0,0.0,0.0,0.0,0.0,0.0,0.0,0.0,0.0,0.0,0.0,0.0,0.0,0.0,0.0,0.0,0.0,0.0,0.0,0.0,0.0,0.0,0.0,0.0,0.0,0.0,0.0,0.0,0.0,0.0,0.0,0.0,0.0,0.0,0.0,0.0,0.0,0.0,0.0,0.0,0.0,0.0,0.0,0.0,0.0,0.0,0.0,0.0,0.0,0.0,0.0,0.0,0.0,0.0,0.0,0.0,0.0,0.0,0.0,0.0,0.0,0.0,0.0,0.0,0.0,0.0,0.0,0.0,0.0,0.0,0.0,0.0,0.0,0.0,0.0,0.0,0.0,0.0,0.0,0.0,0.0,0.0,0.0,0.0,0.0,0.0,0.0,0.0,0.0,0.0,0.0,0.0,0.0,0.0,0.0,0.0,0.0,0.0,0.0,0.0,0.0,0.0,0.0,0.0,0.0,0.0,0.0,0.0,0.0,0.0,0.0,0.0,0.0,0.0,0.0,0.0,0.0,0.0,0.0,0.0,0.0,0.0,0.0,0.0,0.0,0.0,0.0,0.0,0.0,0.0,0.0,0.0,0.0,0.0,0.0,0.0,0.0,0.0,0.0,0.0,0.0,0.0,0.0,0.0,0.0,0.0,0.0,0.0,0.0,0.0,0.0,0.0,0.0,0.0,0.0,0.0,0.0,0.0,0.0,0.0,0.0,0.0,0.0,0.0,0.0,0.0,0.0,0.0,0.0,0.0,0.0,0.0,0.0,0.0,0.0,0.0,0.0,0.0,0.0,0.0,0.0,0.0,0.0,0.0,0.0,0.0,0.0,0.0,0.0,0.0,0.0,0.0,0.0,0.0,0.0,0.0,0.0,0.0,0.0,0.0,0.0,0.0,0.0,0.0,0.0,0.0,0.0,0.0,0.0,0.0,0.0,0.0,0.0,0.0,0.0,0.0,0.0,0.0,0.0,0.0,0.0,0.0,0.0,0.0,0.0,0.0,0.0,0.0,0.0,0.0,0.0,0.0,0.0,0.0,0.0,0.0,0.0,0.0,0.0,0.0,0.0,0.0,0.0,0.0,0.0,0.0,0.0,0.0,0.0,0.0,0.0,0.0,0.0,0.0,0.0,0.0,0.0,0.0,0.0,0.0,0.0,0.0,0.0,0.0,0.0,0.0,0.0,0.0,0.0,0.0,0.0,0.0,0.0,0.0,0.0,0.0,0.0,0.0,0.0,0.0,0.0,0.0,0.0,0.0,0.0,0.0,0.0,0.0,0.0,0.0,0.0,0.0,0.0,0.0,0.0,0.0,0.0,0.0,0.0,0.0,0.0,0.0,0.0,0.0,0.0,0.0,0.0,0.0,0.0,0.0,0.0,0.0,0.0,0.0,0.0,0.0,0.0,0.0,0.0,0.0,0.0,0.0,0.0,0.0,0.0,0.0,0.0,0.0,0.0,0.0,0.0,0.0,0.0,0.0,0.0,0.0,0.0,0.0,0.0,0.0,0.0,0.0,0.0,0.0,0.0,0.0,0.0,0.0,0.0,0.0,0.0,0.0,0.0,0.0,0.0,0.0,0.0,0.0,0.0,0.0,0.0,0.0,0.0,0.0,0.0,0.0,0.0,0.0,0.0,0.0,0.0,0.0,0.0,0.0,0.0,0.0,0.0,0.0,0.0,0.0,0.0,0.0,0.0,0.0,0.0,0.0,0.0,0.0,0.0,0.0,0.0,0.0,0.0,0.0,0.0,0.0,0.0,0.0,0.0,0.0,0.0,0.0,0.0,0.0,0.0,0.0,0.0,0.0,0.0,0.0,0.0,0.0,0.0,0.0,0.0,0.0,0.0,0.0,0.0,0.0,0.0,0.0,0.0,0.0,0.0,0.0,0.0,0.0,0.0,0.0,0.0,0.0,0.0,0.0,0.0,0.0,0.0,0.0,0.0,0.0,0.0,0.0,0.0,0.0,0.0,0.0,0.0,0.0,0.0,0.0,0.0,0.0,0.0,0.0,0.0,0.0,0.0,0.0,0.0,0.0,0.0,0.0,0.0,0.0,0.0,0.0,0.0,0.0,0.0,0.0,0.0,0.0,0.0,0.0,0.0,0.0,0.0,0.0,0.0,0.0,0.0,0.0,0.0,0.0,0.0,0.0,0.0,0.0,0.0,0.0,0.0,0.0,0.0,0.0,0.0,0.0,0.0,0.0,0.0,0.0,0.0,0.0,0.0,0.0,0.0,0.0,0.0,0.0,0.0,0.0,0.0,0.0,0.0,0.0,0.0,0.0,0.0,0.0,0.0,0.0,0.0,0.0,0.0,0.0,0.0,0.0,0.0,0.0,0.0,0.0,0.0,0.0,0.0,0.0,0.0,0.0,0.0,0.0,0.0,0.0,0.0,0.0,0.0,0.0,0.0,0.0,0.0,0.0,0.0,0.0,0.0,0.0,0.0,0.0,0.0,0.0,0.0,0.0,0.0,0.0,0.0,0.0,0.0,0.0,0.0,0.0,0.0,0.0,0.0,0.0,0.0,0.0,0.0,0.0,0.0,0.0,0.0,0.0,0.0,0.0,0.0,0.0,0.0,0.0,0.0,0.0,0.0,0.0,0.0,0.0,0.0,0.0,0.0,0.0,0.0,0.0,0.0,0.0,0.0,0.0,0.0,0.0,0.0,0.0,0.0,0.0,0.0,0.0,0.0,0.0,0.0,0.0,0.0,0.0,0.0,0.0,0.0,0.0,0.0,0.0,0.0,0.0,0.0,0.0,0.0,0.0,0.0,0.0,0.0,0.0,0.0,0.0,0.0,0.0,0.0,0.0,0.0,0.0,0.0,0.0,0.0,0.0,0.0,0.0,0.0,0.0,0.0,0.0,0.0,0.0,0.0,0.0,0.0,0.0,0.0,0.0,0.0,0.0,0.0,0.0,0.0,0.0,0.0,0.0,0.0,0.0,0.0,0.0,0.0,0.0,0.0,0.0,0.0,0.0,0.0,0.0,0.0,0.0,0.0,0.0,0.0,0.0,0.0,0.0,0.0,0.0,0.0,0.0,0.0,0.0,0.0,0.0,0.0,0.0,0.0,0.0,0.0,0.0,0.0,0.0,0.0,0.0,0.0,0.0,0.0,0.0,0.0,0.0,0.0,0.0,0.0,0.0,0.0,0.0,0.0,0.0,0.0,0.0,0.0,0.0,0.0,0.0,0.0,0.0,0.0,0.0,0.0,0.0,0.0,0.0,0.0,0.0,0.0,0.0,0.0,0.0,0.0,0.0,0.0,0.0,0.0,0.0,0.0,0.0,0.0,0.0,0.0,0.0,0.0,0.0,0.0,0.0,0.0,0.0,0.0,0.0,0.0,0.0,0.0,0.0,0.0,0.0,0.0,0.0,0.0,0.0,0.0,0.0,0.0,0.0,0.0,0.0,0.0,0.0,0.0,0.0,0.0,0.0,0.0,0.0,0.0,0.0,0.0,0.0,0.0,0.0,0.0,0.0,0.0,0.0,0.0,0.0,0.0,0.0,0.0,0.0,0.0,0.0,0.0,0.0,0.0,0.0,0.0,0.0,0.0,0.0,0.0,0.0,0.0,0.0,0.0,0.0,0.0,0.0,0.0,0.0,0.0,0.0,0.0,0.0,0.0,0.0,0.0,0.0,0.0,0.0,0.0,0.0,0.0,0.0,0.0,0.0,0.0,0.0,0.0,0.0,0.0,0.0,0.0,0.0,0.0,0.0,0.0,0.0,0.0,0.0,0.0,0.0,0.0,0.0,0.0,0.0,0.0,0.0,0.0,0.0,0.0,0.0,0.0,0.0,0.0,0.0,0.0,0.0,0.0,0.0,0.0,0.0,0.0,0.0,0.0,0.0,0.0,0.0,0.0,0.0,0.0,0.0,0.0,0.0,0.0,0.0,0.0,0.0,0.0,0.0,0.0,0.0,0.0,0.0,0.0,0.0,0.0,0.0,0.0,0.0,0.0,0.0,0.0,0.0,0.0,0.0,0.0,0.0,0.0,0.0,0.0,0.0,0.0,0.0,0.0,0.0,0.0,0.0,0.0,0.0,0.0,0.0,0.0,0.0,0.0,0.0,0.0,0.0,0.0,0.0,0.0,0.0,0.0,0.0,0.0,0.0,0.0,0.0,0.0,0.0,0.0,0.0,0.0,0.0,0.0,0.0,0.0,0.0,0.0,0.0,0.0,0.0,0.0,0.0,0.0,0.0,0.0,0.0,0.0,0.0,0.0,0.0,0.0,0.0,0.0,0.0,0.0,0.0,0.0,0.0,0.0,0.0,0.0,0.0,0.0,0.0,0.0,0.0,0.0,0.0,0.0,0.0,0.0,0.0,0.0,0.0,0.0,0.0,0.0,0.0,0.0,0.0,0.0,0.0,0.0,0.0,0.0,0.0,0.0,0.0,0.0,0.0,0.0,0.0,0.0,0.0,0.0,0.0,0.0,0.0,0.0,0.0,0.0,0.0,0.0,0.0,0.0,0.0,0.0,0.0,0.0,0.0,0.0,0.0,0.0,0.0,0.0,0.0,0.0,0.0,0.0,0.0,0.0,0.0,0.0,0.0,0.0,0.0,0.0,0.0,0.0,0.0,0.0,0.0,0.0,0.0,0.0,0.0,0.0,0.0,0.0,0.0,0.0,0.0,0.0,0.0,0.0,0.0,0.0,0.0,0.0,0.0,0.0,0.0,0.0,0.0,0.0,0.0,0.0,0.0,0.0,0.0,0.0,0.0,0.0,0.0,0.0,0.0,0.0,0.0,0.0,0.0,0.0,0.0,0.0,0.0,0.0,0.0,0.0,0.0,0.0,0.0,0.0,0.0,0.0,0.0,0.0,0.0,0.0,0.0,0.0,0.0,0.0,0.0,0.0,0.0,0.0,0.0,0.0,0.0,0.0,0.0,0.0,0.0,0.0,0.0,0.0,0.0,0.0,0.0,0.0,0.0,0.0,0.0,0.0,0.0,0.0,0.0,0.0,0.0,0.0,0.0,0.0,0.0,0.0,0.0,0.0,0.0,0.0,0.0,0.0,0.0,0.0,0.0,0.0,0.0,0.0,0.0,0.0,0.0,0.0,0.0,0.0,0.0,0.0,0.0,0.0,0.0,0.0,0.0,0.0,0.0,0.0,0.0,0.0,0.0,0.0,0.0,0.0,0.0,0.0,0.0,0.0,0.0,0.0,0.0,0.0,0.0,0.0,0.0,0.0,0.0,0.0,0.0,0.0,0.0,0.0,0.0,0.0,0.0,0.0,0.0,0.0,0.0,0.0,0.0,0.0,0.0,0.0,0.0,0.0,0.0,0.0,0.0,0.0,0.0,0.0,0.0,0.0,0.0,0.0,0.0,0.0,0.0,0.0,0.0,0.0,0.0,0.0,0.0,0.0,0.0,0.0,0.0,0.0,0.0,0.0,0.0,0.0,0.0,0.0,0.0,0.0,0.0,0.0,0.0,0.0,0.0,0.0,0.0,0.0,0.0,0.0,0.0,0.0,0.0,0.0,0.0,0.0,0.0,0.0,0.0,0.0,0.0,0.0,0.0,0.0,0.0,0.0,0.0,0.0,0.0,0.0,0.0,0.0,0.0,0.0,0.0,0.0,0.0,0.0,0.0,0.0,0.0,0.0,0.0,0.0,0.0,0.0,0.0,0.0,0.0,0.0,0.0,0.0,0.0,0.0,0.0,0.0,0.0,0.0,0.0,0.0,0.0,0.0,0.0,0.0,0.0,0.0,0.0,0.0,0.0,0.0,0.0,0.0,0.0,0.0,0.0,0.0,0.0,0.0,0.0,0.0,0.0,0.0,0.0,0.0,0.0,0.0,0.0,0.0,0.0,0.0,0.0,0.0,0.0,0.0,0.0,0.0,0.0,0.0,0.0,0.0,0.0,0.0,0.0,0.0,0.0,0.0,0.0,0.0,0.0,0.0,0.0,0.0,0.0,0.0,0.0,0.0,0.0,0.0,0.0,0.0,0.0,0.0,0.0,0.0,0.0,0.0,0.0,0.0,0.0,0.0,0.0,0.0,0.0,0.0,0.0,0.0,0.0,0.0,0.0,0.0,0.0,0.0,0.0,0.0,0.0,0.0,0.0,0.0,0.0,0.0,0.0,0.0,0.0,0.0,0.0,0.0,0.0,0.0,0.0,0.0,0.0,0.0,0.0,0.0,0.0,0.0,0.0,0.0,0.0,0.0,0.0,0.0,0.0,0.0,0.0,0.0,0.0,0.0,0.0,0.0,0.0,0.0,0.0,0.0,0.0,0.0,0.0,0.0,0.0,0.0,0.0,0.0,0.0,0.0,0.0,0.0,0.0,0.0,0.0,0.0,0.0,0.0,0.0,0.0,0.0,0.0,0.0,0.0,0.0,0.0,0.0,0.0,0.0,0.0,0.0,0.0,0.0,0.0,0.0,0.0,0.0,0.0,0.0,0.0,0.0,0.0,0.0,0.0,0.0,0.0,0.0,0.0,0.0,0.0,0.0,0.0,0.0,0.0,0.0,0.0,0.0,0.0,0.0,0.0,0.0,0.0,0.0,0.0,0.0,0.0,0.0,0.0,0.0,0.0,0.0,0.0,0.0,0.0,0.0,0.0,0.0,0.0,0.0,0.0,0.0,0.0,0.0,0.0,0.0,0.0,0.0,0.0,0.0,0.0,0.0,0.0,0.0,0.0,0.0,0.0,0.0,0.0,0.0,0.0,0.0,0.0,0.0,0.0,0.0,0.0,0.0,0.0,0.0,0.0,0.0,0.0,0.0,0.0,0.0,0.0,0.0,0.0,0.0,0.0,0.0,0.0,0.0,0.0,0.0,0.0,0.0,0.0,0.0,0.0,0.0,0.0,0.0,0.0,0.0,0.0,0.0,0.0,0.0,0.0,0.0,0.0,0.0,0.0,0.0,0.0,0.0,0.0,0.0,0.0,0.0,0.0,0.0,0.0,0.0,0.0,0.0,0.0,0.0,0.0,0.0,0.0,0.0,0.0,0.0,0.0,0.0,0.0,0.0,0.0,0.0,0.0,0.0,0.0,0.0,0.0,0.0,0.0,0.0,0.0,0.0,0.0,0.0,0.0,0.0,0.0,0.0,0.0,0.0,0.0,0.0,0.0,0.0,0.0,0.0,0.0,0.0,0.0,0.0,0.0,0.0,0.0,0.0,0.0,0.0,0.0,0.0,0.0,0.0,0.0,0.0,0.0,0.0,0.0,0.0,0.0,0.0,0.0,0.0,0.0,0.0,0.0,0.0,0.0,0.0,0.0,0.0,0.0,0.0,0.0,0.0,0.0,0.0,0.0,0.0,0.0,0.0,0.0,0.0,0.0,0.0,0.0,0.0,0.0,0.0,0.0,0.0,0.0,0.0,0.0,0.0,0.0,0.0,0.0,0.0,0.0,0.0,0.0,0.0,0.0,0.0,0.0,0.0,0.0,0.0,0.0,0.0,0.0,0.0,0.0,0.0,0.0,0.0,0.0,0.0,0.0,0.0,0.0,0.0,0.0,0.0,0.0,0.0,0.0,0.0,0.0,0.0,0.0,0.0,0.0,0.0,0.0,0.0,0.0,0.0,0.0,0.0,0.0,0.0,0.0,0.0,0.0,0.0,0.0,0.0,0.0,0.0,0.0,0.0,0.0,0.0,0.0,0.0,0.0,0.0,0.0,0.0,0.0,0.0,0.0,0.0,0.0,0.0,0.0,0.0,0.0,0.0,0.0,0.0,0.0,0.0,0.0,0.0,0.0,0.0,0.0,0.0,0.0,0.0,0.0,0.0,0.0,0.0,0.0,0.0,0.0,0.0,0.0,0.0,0.0,0.0,0.0,0.0,0.0,0.0,0.0,0.0,0.0,0.0,0.0,0.0,0.0,0.0,0.0,0.0,0.0,0.0,0.0,0.0,0.0,0.0,0.0,0.0,0.0,0.0,0.0,0.0,0.0,0.0,0.0,0.0,0.0,0.0,0.0,0.0,0.0,0.0,0.0,0.0,0.0,0.0,0.0,0.0,0.0,0.0,0.0,0.0,0.0,0.0,0.0,0.0,0.0,0.0,0.0,0.0,0.0,0.0,0.0,0.0,0.0,0.0,0.0,0.0,0.0,0.0,0.0,0.0,0.0,0.0,0.0,0.0,0.0,0.0,0.0,0.0,0.0,0.0,0.0,0.0,0.0,0.0,0.0,0.0,0.0,0.0,0.0,0.0,0.0,0.0,0.0,0.0,0.0,0.0,0.0,0.0,0.0,0.0,0.0,0.0,0.0,0.0,0.0,0.0,0.0,0.0,0.0,0.0,0.0,0.0,0.0,0.0,0.0,0.0,0.0,0.0,0.0,0.0,0.0,0.0,0.0,0.0,0.0,0.0,0.0,0.0,0.0,0.0,0.0,0.0,0.0,0.0,0.0,0.0,0.0,0.0,0.0,0.0,0.0,0.0,0.0,0.0,0.0,0.0,0.0,0.0,0.0,0.0,0.0,0.0,0.0,0.0,0.0,0.0,0.0,0.0,0.0,0.0,0.0,0.0,0.0,0.0,0.0,0.0,0.0,0.0,0.0,0.0,0.0,0.0,0.0,0.0,0.0,0.0,0.0,0.0,0.0,0.0,0.0,0.0,0.0,0.0,0.0,0.0,0.0,0.0,0.0,0.0,0.0,0.0,0.0,0.0,0.0,0.0,0.0,0.0,0.0,0.0,0.0,0.0,0.0,0.0,0.0,0.0,0.0,0.0,0.0,0.0,0.0,0.0,0.0,0.0,0.0,0.0,0.0,0.0,0.0,0.0,0.0,0.0,0.0,0.0,0.0,0.0,0.0,0.0,0.0,0.0,0.0,0.0,0.0,0.0,0.0,0.0,0.0,0.0,0.0,0.0,0.0,0.0,0.0,0.0,0.0,0.0,0.0,0.0,0.0,0.0,0.0,0.0,0.0,0.0,0.0,0.0,0.0,0.0,0.0,0.0,0.0,0.0,0.0,0.0,0.0,0.0,0.0,0.0,0.0,0.0,0.0,0.0,0.0,0.0,0.0,0.0,0.0,0.0,0.0,0.0,0.0,0.0,0.0,0.0,0.0,0.0,0.0,0.0,0.0,0.0,0.0,0.0,0.0,0.0,0.0,0.0,0.0,0.0,0.0,0.0,0.0,0.0,0.0,0.0,0.0,0.0,0.0,0.0,0.0,0.0,0.0,0.0,0.0,0.0,0.0,0.0,0.0,0.0,0.0,0.0,0.0,0.0,0.0,0.0,0.0,0.0,0.0,0.0,0.0,0.0,0.0,0.0,0.0,0.0,0.0,0.0,0.0,0.0,0.0,0.0,0.0,0.0,0.0,0.0,0.0,0.0,0.0,0.0,0.0,0.0,0.0,0.0,0.0,0.0,0.0,0.0,0.0,0.0,0.0,0.0,0.0,0.0,0.0,0.0,0.0,0.0,0.0,0.0,0.0,0.0,0.0,0.0,0.0,0.0,0.0,0.0,0.0,0.0,0.0,0.0,0.0,0.0,0.0,0.0,0.0,0.0,0.0,0.0,0.0,0.0,0.0,0.0,0.0,0.0,0.0,0.0,0.0,0.0,0.0,0.0,0.0,0.0,0.0,0.0,0.0,0.0,0.0,0.0,0.0,0.0,0.0,0.0,0.0,0.0,0.0,0.0,0.0,0.0,0.0,0.0,0.0,0.0,0.0,0.0,0.0,0.0,0.0,0.0,0.0,0.0,0.0,0.0,0.0,0.0,0.0,0.0,0.0,0.0,0.0,0.0,0.0,0.0,0.0,0.0,0.0,0.0,0.0,0.0,0.0,0.0,0.0,0.0,0.0,0.0,0.0,0.0,0.0,0.0,0.0,0.0,0.0,0.0,0.0,0.0,0.0,0.0,0.0,0.0,0.0,0.0,0.0,0.0,0.0,0.0,0.0,0.0,0.0,0.0,0.0,0.0,0.0,0.0,0.0,0.0,0.0,0.0,0.0,0.0,0.0,0.0,0.0,0.0,0.0,0.0,0.0,0.0,0.0,0.0,0.0,0.0,0.0,0.0,0.0,0.0,0.0,0.0,0.0,0.0,0.0,0.0,0.0,0.0,0.0,0.0,0.0,0.0,0.0,0.0,0.0,0.0,0.0,0.0,0.0,0.0,0.0,0.0,0.0,0.0,0.0,0.0,0.0,0.0,0.0,0.0,0.0,0.0,0.0,0.0,0.0,0.0,0.0,0.0,0.0,0.0,0.0,0.0,0.0,0.0,0.0,0.0,0.0,0.0,0.0,0.0,0.0,0.0,0.0,0.0,0.0,0.0,0.0,0.0,0.0,0.0,0.0,0.0,0.0,0.0,0.0,0.0,0.0,0.0,0.0,0.0,0.0,0.0,0.0,0.0,0.0,0.0,0.0,0.0,0.0,0.0,0.0,0.0,0.0,0.0,0.0,0.0,0.0,0.0,0.0,0.0,0.0,0.0,0.0,0.0,0.0,0.0,0.0,0.0,0.0,0.0,0.0,0.0,0.0,0.0,0.0,0.0,0.0,0.0,0.0,0.0,0.0,0.0,0.0,0.0,0.0,0.0,0.0,0.0,0.0,0.0,0.0,0.0,0.0,0.0,0.0,0.0,0.0,0.0,0.0,0.0,0.0,0.0,0.0,0.0,0.0,0.0,0.0,0.0,0.0,0.0,0.0,0.0,0.0,0.0,0.0,0.0,0.0,0.0,0.0,0.0,0.0,0.0,0.0,0.0,0.0,0.0,0.0,0.0,0.0,0.0,0.0,0.0,0.0,0.0,0.0,0.0,0.0,0.0,0.0,0.0,0.0,0.0,0.0,0.0,0.0,0.0,0.0,0.0,0.0,0.0,0.0,0.0,0.0,0.0,0.0,0.0,0.0,0.0,0.0,0.0,0.0,0.0,0.0,0.0,0.0,0.0,0.0,0.0,0.0,0.0,0.0,0.0,0.0,0.0,0.0,0.0,0.0,0.0,0.0,0.0,0.0,0.0,0.0,0.0,0.0,0.0,0.0,0.0,0.0,0.0,0.0,0.0,0.0,0.0,0.0,0.0,0.0,0.0,0.0,0.0,0.0,0.0,0.0,0.0,0.0,0.0,0.0,0.0,0.0,0.0,0.0,0.0,0.0,0.0,0.0,0.0,0.0,0.0,0.0,0.0,0.0,0.0,0.0,0.0,0.0,0.0,0.0,0.0,0.0,0.0,0.0,0.0,0.0,0.0,0.0,0.0,0.0,0.0,0.0,0.0,0.0,0.0,0.0,0.0,0.0,0.0,0.0,0.0,0.0,0.0,0.0,0.0,0.0,0.0,0.0,0.0,0.0,0.0,0.0,0.0,0.0,0.0,0.0,0.0,0.0,0.0,0.0,0.0,0.0,0.0,0.0,0.0,0.0,0.0,0.0,0.0,0.0,0.0,0.0,0.0,0.0,0.0,0.0,0.0,0.0,0.0,0.0,0.0,0.0,0.0,0.0,0.0,0.0,0.0,0.0,0.0,0.0,0.0,0.0,0.0,0.0,0.0,0.0,0.0,0.0,0.0,0.0,0.0,0.0,0.0,0.0,0.0,0.0,0.0,0.0,0.0,0.0,0.0,0.0,0.0,0.0,0.0,0.0,0.0,0.0,0.0,0.0,0.0,0.0,0.0,0.0,0.0,0.0,0.0,0.0,0.0,0.0,0.0,0.0,0.0,0.0,0.0,0.0,0.0,0.0,0.0,0.0,0.0,0.0,0.0,0.0,0.0,0.0,0.0,0.0,0.0,0.0,0.0,0.0,0.0,0.0,0.0,0.0,0.0,0.0,0.0,0.0,0.0,0.0,0.0,0.0,0.0,0.0,0.0,0.0,0.0,0.0,0.0,0.0,0.0,0.0,0.0,0.0,0.0,0.0,0.0,0.0,0.0,0.0,0.0,0.0,0.0,0.0,0.0,0.0,0.0,0.0,0.0,0.0,0.0,0.0,0.0,0.0,0.0,0.0,0.0,0.0,0.0,0.0,0.0,0.0,0.0,0.0,0.0,0.0,0.0,0.0,0.0,0.0,0.0,0.0,0.0,0.0,0.0,0.0,0.0,0.0,0.0,0.0,0.0,0.0,0.0,0.0,0.0,0.0,0.0,0.0,0.0,0.0,0.0,0.0,0.0,0.0,0.0,0.0,0.0,0.0,0.0,0.0,0.0,0.0,0.0,0.0,0.0,0.0,0.0,0.0,0.0,0.0,0.0,0.0,0.0,0.0,0.0,0.0,0.0,0.0,0.0,0.0,0.0,0.0,0.0,0.0,0.0,0.0,0.0,0.0,0.0,0.0,0.0,0.0,0.0,0.0,0.0,0.0,0.0,0.0,0.0,0.0,0.0,0.0,0.0,0.0,0.0,0.0,0.0,0.0,0.0,0.0,0.0,0.0,0.0,0.0,0.0,0.0,0.0,0.0,0.0,0.0,0.0,0.0,0.0,0.0,0.0,0.0,0.0,0.0,0.0,0.0,0.0,0.0,0.0,0.0,0.0,0.0,0.0,0.0,0.0,0.0,0.0,0.0,0.0,0.0,0.0,0.0,0.0,0.0,0.0,0.0,0.0,0.0,0.0,0.0,0.0,0.0,0.0,0.0,0.0,0.0,0.0,0.0,0.0,0.0,0.0,0.0,0.0,0.0,0.0,0.0,0.0,0.0,0.0,0.0,0.0,0.0,0.0,0.0,0.0,0.0,0.0,0.0,0.0,0.0,0.0,0.0,0.0,0.0,0.0,0.0,0.0,0.0,0.0,0.0,0.0,0.0,0.0,0.0,0.0,0.0,0.0,0.0,0.0,0.0,0.0,0.0,0.0,0.0,0.0,0.0,0.0,0.0,0.0,0.0,0.0,0.0,0.0,0.0,0.0,0.0,0.0,0.0,0.0,0.0,0.0,0.0,0.0,0.0,0.0,0.0,0.0,0.0,0.0,0.0,0.0,0.0,0.0,0.0,0.0,0.0,0.0,0.0,0.0,0.0,0.0,0.0,0.0,0.0,0.0,0.0,0.0,0.0,0.0,0.0,0.0,0.0,0.0,0.0,0.0,0.0,0.0,0.0,0.0,0.0,0.0,0.0,0.0,0.0,0.0,0.0,0.0,0.0,0.0,0.0,0.0,0.0,0.0,0.0,0.0,0.0,0.0,0.0,0.0,0.0,0.0,0.0,0.0,0.0,0.0],\"xaxis\":\"x\",\"y\":[\"ART_AND_DESIGN\",\"ART_AND_DESIGN\",\"ART_AND_DESIGN\",\"ART_AND_DESIGN\",\"ART_AND_DESIGN\",\"ART_AND_DESIGN\",\"ART_AND_DESIGN\",\"ART_AND_DESIGN\",\"ART_AND_DESIGN\",\"ART_AND_DESIGN\",\"ART_AND_DESIGN\",\"ART_AND_DESIGN\",\"ART_AND_DESIGN\",\"ART_AND_DESIGN\",\"ART_AND_DESIGN\",\"ART_AND_DESIGN\",\"ART_AND_DESIGN\",\"ART_AND_DESIGN\",\"ART_AND_DESIGN\",\"ART_AND_DESIGN\",\"ART_AND_DESIGN\",\"ART_AND_DESIGN\",\"ART_AND_DESIGN\",\"ART_AND_DESIGN\",\"ART_AND_DESIGN\",\"ART_AND_DESIGN\",\"ART_AND_DESIGN\",\"ART_AND_DESIGN\",\"ART_AND_DESIGN\",\"ART_AND_DESIGN\",\"ART_AND_DESIGN\",\"ART_AND_DESIGN\",\"ART_AND_DESIGN\",\"ART_AND_DESIGN\",\"ART_AND_DESIGN\",\"ART_AND_DESIGN\",\"ART_AND_DESIGN\",\"ART_AND_DESIGN\",\"ART_AND_DESIGN\",\"ART_AND_DESIGN\",\"ART_AND_DESIGN\",\"ART_AND_DESIGN\",\"ART_AND_DESIGN\",\"ART_AND_DESIGN\",\"ART_AND_DESIGN\",\"ART_AND_DESIGN\",\"ART_AND_DESIGN\",\"ART_AND_DESIGN\",\"ART_AND_DESIGN\",\"AUTO_AND_VEHICLES\",\"AUTO_AND_VEHICLES\",\"AUTO_AND_VEHICLES\",\"AUTO_AND_VEHICLES\",\"AUTO_AND_VEHICLES\",\"AUTO_AND_VEHICLES\",\"AUTO_AND_VEHICLES\",\"AUTO_AND_VEHICLES\",\"AUTO_AND_VEHICLES\",\"AUTO_AND_VEHICLES\",\"AUTO_AND_VEHICLES\",\"AUTO_AND_VEHICLES\",\"AUTO_AND_VEHICLES\",\"AUTO_AND_VEHICLES\",\"AUTO_AND_VEHICLES\",\"AUTO_AND_VEHICLES\",\"AUTO_AND_VEHICLES\",\"AUTO_AND_VEHICLES\",\"AUTO_AND_VEHICLES\",\"AUTO_AND_VEHICLES\",\"AUTO_AND_VEHICLES\",\"AUTO_AND_VEHICLES\",\"AUTO_AND_VEHICLES\",\"AUTO_AND_VEHICLES\",\"AUTO_AND_VEHICLES\",\"AUTO_AND_VEHICLES\",\"AUTO_AND_VEHICLES\",\"AUTO_AND_VEHICLES\",\"AUTO_AND_VEHICLES\",\"AUTO_AND_VEHICLES\",\"AUTO_AND_VEHICLES\",\"AUTO_AND_VEHICLES\",\"AUTO_AND_VEHICLES\",\"AUTO_AND_VEHICLES\",\"AUTO_AND_VEHICLES\",\"AUTO_AND_VEHICLES\",\"AUTO_AND_VEHICLES\",\"AUTO_AND_VEHICLES\",\"AUTO_AND_VEHICLES\",\"AUTO_AND_VEHICLES\",\"AUTO_AND_VEHICLES\",\"AUTO_AND_VEHICLES\",\"AUTO_AND_VEHICLES\",\"AUTO_AND_VEHICLES\",\"AUTO_AND_VEHICLES\",\"AUTO_AND_VEHICLES\",\"AUTO_AND_VEHICLES\",\"AUTO_AND_VEHICLES\",\"AUTO_AND_VEHICLES\",\"BEAUTY\",\"BEAUTY\",\"BEAUTY\",\"BEAUTY\",\"BEAUTY\",\"BEAUTY\",\"BEAUTY\",\"BEAUTY\",\"BEAUTY\",\"BEAUTY\",\"BEAUTY\",\"BEAUTY\",\"BEAUTY\",\"BEAUTY\",\"BEAUTY\",\"BEAUTY\",\"BEAUTY\",\"BEAUTY\",\"BEAUTY\",\"BEAUTY\",\"BEAUTY\",\"BEAUTY\",\"BEAUTY\",\"BEAUTY\",\"BEAUTY\",\"BEAUTY\",\"BEAUTY\",\"BEAUTY\",\"BEAUTY\",\"BEAUTY\",\"BEAUTY\",\"BEAUTY\",\"BEAUTY\",\"BEAUTY\",\"BEAUTY\",\"BEAUTY\",\"BEAUTY\",\"BEAUTY\",\"BEAUTY\",\"BEAUTY\",\"BEAUTY\",\"BOOKS_AND_REFERENCE\",\"BOOKS_AND_REFERENCE\",\"BOOKS_AND_REFERENCE\",\"BOOKS_AND_REFERENCE\",\"BOOKS_AND_REFERENCE\",\"BOOKS_AND_REFERENCE\",\"BOOKS_AND_REFERENCE\",\"BOOKS_AND_REFERENCE\",\"BOOKS_AND_REFERENCE\",\"BOOKS_AND_REFERENCE\",\"BOOKS_AND_REFERENCE\",\"BOOKS_AND_REFERENCE\",\"BOOKS_AND_REFERENCE\",\"BOOKS_AND_REFERENCE\",\"BOOKS_AND_REFERENCE\",\"BOOKS_AND_REFERENCE\",\"BOOKS_AND_REFERENCE\",\"BOOKS_AND_REFERENCE\",\"BOOKS_AND_REFERENCE\",\"BOOKS_AND_REFERENCE\",\"BOOKS_AND_REFERENCE\",\"BOOKS_AND_REFERENCE\",\"BOOKS_AND_REFERENCE\",\"BOOKS_AND_REFERENCE\",\"BOOKS_AND_REFERENCE\",\"BOOKS_AND_REFERENCE\",\"BOOKS_AND_REFERENCE\",\"BOOKS_AND_REFERENCE\",\"BOOKS_AND_REFERENCE\",\"BOOKS_AND_REFERENCE\",\"BOOKS_AND_REFERENCE\",\"BOOKS_AND_REFERENCE\",\"BOOKS_AND_REFERENCE\",\"BOOKS_AND_REFERENCE\",\"BOOKS_AND_REFERENCE\",\"BOOKS_AND_REFERENCE\",\"BOOKS_AND_REFERENCE\",\"BOOKS_AND_REFERENCE\",\"BOOKS_AND_REFERENCE\",\"BOOKS_AND_REFERENCE\",\"BOOKS_AND_REFERENCE\",\"BOOKS_AND_REFERENCE\",\"BOOKS_AND_REFERENCE\",\"BOOKS_AND_REFERENCE\",\"BOOKS_AND_REFERENCE\",\"BOOKS_AND_REFERENCE\",\"BOOKS_AND_REFERENCE\",\"BOOKS_AND_REFERENCE\",\"BUSINESS\",\"BUSINESS\",\"BUSINESS\",\"BUSINESS\",\"BUSINESS\",\"BUSINESS\",\"BUSINESS\",\"BUSINESS\",\"BUSINESS\",\"BUSINESS\",\"BUSINESS\",\"BUSINESS\",\"BUSINESS\",\"BUSINESS\",\"BUSINESS\",\"BUSINESS\",\"BUSINESS\",\"BUSINESS\",\"BUSINESS\",\"BUSINESS\",\"BUSINESS\",\"BUSINESS\",\"BUSINESS\",\"BUSINESS\",\"BUSINESS\",\"BUSINESS\",\"BUSINESS\",\"BUSINESS\",\"BUSINESS\",\"BUSINESS\",\"BUSINESS\",\"BUSINESS\",\"BUSINESS\",\"BUSINESS\",\"BUSINESS\",\"BUSINESS\",\"BUSINESS\",\"BUSINESS\",\"BUSINESS\",\"BUSINESS\",\"BUSINESS\",\"BUSINESS\",\"BUSINESS\",\"BUSINESS\",\"BUSINESS\",\"BUSINESS\",\"BUSINESS\",\"BUSINESS\",\"BUSINESS\",\"BUSINESS\",\"BUSINESS\",\"BUSINESS\",\"BUSINESS\",\"BUSINESS\",\"BUSINESS\",\"BUSINESS\",\"BUSINESS\",\"BUSINESS\",\"BUSINESS\",\"BUSINESS\",\"BUSINESS\",\"BUSINESS\",\"BUSINESS\",\"BUSINESS\",\"BUSINESS\",\"BUSINESS\",\"BUSINESS\",\"BUSINESS\",\"BUSINESS\",\"BUSINESS\",\"BUSINESS\",\"BUSINESS\",\"BUSINESS\",\"BUSINESS\",\"BUSINESS\",\"BUSINESS\",\"BUSINESS\",\"BUSINESS\",\"BUSINESS\",\"BUSINESS\",\"BUSINESS\",\"BUSINESS\",\"BUSINESS\",\"BUSINESS\",\"BUSINESS\",\"BUSINESS\",\"BUSINESS\",\"BUSINESS\",\"BUSINESS\",\"BUSINESS\",\"BUSINESS\",\"BUSINESS\",\"BUSINESS\",\"BUSINESS\",\"BUSINESS\",\"BUSINESS\",\"BUSINESS\",\"BUSINESS\",\"BUSINESS\",\"BUSINESS\",\"BUSINESS\",\"BUSINESS\",\"BUSINESS\",\"BUSINESS\",\"BUSINESS\",\"BUSINESS\",\"COMICS\",\"COMICS\",\"COMICS\",\"COMICS\",\"COMICS\",\"COMICS\",\"COMICS\",\"COMICS\",\"COMICS\",\"COMICS\",\"COMICS\",\"COMICS\",\"COMICS\",\"COMICS\",\"COMICS\",\"COMICS\",\"COMICS\",\"COMICS\",\"COMICS\",\"COMICS\",\"COMICS\",\"COMICS\",\"COMICS\",\"COMICS\",\"COMICS\",\"COMICS\",\"COMICS\",\"COMICS\",\"COMICS\",\"COMICS\",\"COMICS\",\"COMICS\",\"COMICS\",\"COMICS\",\"COMICS\",\"COMICS\",\"COMICS\",\"COMICS\",\"COMMUNICATION\",\"COMMUNICATION\",\"COMMUNICATION\",\"COMMUNICATION\",\"COMMUNICATION\",\"COMMUNICATION\",\"COMMUNICATION\",\"COMMUNICATION\",\"COMMUNICATION\",\"COMMUNICATION\",\"COMMUNICATION\",\"COMMUNICATION\",\"COMMUNICATION\",\"COMMUNICATION\",\"COMMUNICATION\",\"COMMUNICATION\",\"COMMUNICATION\",\"COMMUNICATION\",\"COMMUNICATION\",\"COMMUNICATION\",\"COMMUNICATION\",\"COMMUNICATION\",\"COMMUNICATION\",\"COMMUNICATION\",\"COMMUNICATION\",\"COMMUNICATION\",\"COMMUNICATION\",\"COMMUNICATION\",\"COMMUNICATION\",\"COMMUNICATION\",\"COMMUNICATION\",\"COMMUNICATION\",\"COMMUNICATION\",\"COMMUNICATION\",\"COMMUNICATION\",\"COMMUNICATION\",\"COMMUNICATION\",\"COMMUNICATION\",\"COMMUNICATION\",\"COMMUNICATION\",\"COMMUNICATION\",\"COMMUNICATION\",\"COMMUNICATION\",\"COMMUNICATION\",\"COMMUNICATION\",\"COMMUNICATION\",\"COMMUNICATION\",\"COMMUNICATION\",\"COMMUNICATION\",\"COMMUNICATION\",\"COMMUNICATION\",\"COMMUNICATION\",\"COMMUNICATION\",\"COMMUNICATION\",\"COMMUNICATION\",\"COMMUNICATION\",\"COMMUNICATION\",\"COMMUNICATION\",\"COMMUNICATION\",\"COMMUNICATION\",\"COMMUNICATION\",\"COMMUNICATION\",\"COMMUNICATION\",\"COMMUNICATION\",\"COMMUNICATION\",\"COMMUNICATION\",\"COMMUNICATION\",\"COMMUNICATION\",\"COMMUNICATION\",\"COMMUNICATION\",\"COMMUNICATION\",\"COMMUNICATION\",\"COMMUNICATION\",\"COMMUNICATION\",\"COMMUNICATION\",\"COMMUNICATION\",\"COMMUNICATION\",\"COMMUNICATION\",\"COMMUNICATION\",\"COMMUNICATION\",\"COMMUNICATION\",\"COMMUNICATION\",\"COMMUNICATION\",\"COMMUNICATION\",\"COMMUNICATION\",\"COMMUNICATION\",\"COMMUNICATION\",\"COMMUNICATION\",\"COMMUNICATION\",\"COMMUNICATION\",\"COMMUNICATION\",\"COMMUNICATION\",\"COMMUNICATION\",\"COMMUNICATION\",\"COMMUNICATION\",\"COMMUNICATION\",\"COMMUNICATION\",\"COMMUNICATION\",\"COMMUNICATION\",\"COMMUNICATION\",\"COMMUNICATION\",\"COMMUNICATION\",\"COMMUNICATION\",\"COMMUNICATION\",\"COMMUNICATION\",\"COMMUNICATION\",\"COMMUNICATION\",\"COMMUNICATION\",\"COMMUNICATION\",\"COMMUNICATION\",\"COMMUNICATION\",\"COMMUNICATION\",\"COMMUNICATION\",\"COMMUNICATION\",\"COMMUNICATION\",\"COMMUNICATION\",\"COMMUNICATION\",\"COMMUNICATION\",\"COMMUNICATION\",\"COMMUNICATION\",\"COMMUNICATION\",\"COMMUNICATION\",\"COMMUNICATION\",\"COMMUNICATION\",\"COMMUNICATION\",\"COMMUNICATION\",\"COMMUNICATION\",\"COMMUNICATION\",\"COMMUNICATION\",\"COMMUNICATION\",\"COMMUNICATION\",\"COMMUNICATION\",\"COMMUNICATION\",\"COMMUNICATION\",\"COMMUNICATION\",\"COMMUNICATION\",\"COMMUNICATION\",\"COMMUNICATION\",\"COMMUNICATION\",\"COMMUNICATION\",\"DATING\",\"DATING\",\"DATING\",\"DATING\",\"DATING\",\"DATING\",\"DATING\",\"DATING\",\"DATING\",\"DATING\",\"DATING\",\"DATING\",\"DATING\",\"DATING\",\"DATING\",\"DATING\",\"DATING\",\"DATING\",\"DATING\",\"DATING\",\"DATING\",\"DATING\",\"DATING\",\"DATING\",\"DATING\",\"DATING\",\"DATING\",\"DATING\",\"DATING\",\"DATING\",\"DATING\",\"DATING\",\"DATING\",\"DATING\",\"DATING\",\"DATING\",\"DATING\",\"DATING\",\"DATING\",\"DATING\",\"DATING\",\"DATING\",\"DATING\",\"DATING\",\"DATING\",\"DATING\",\"DATING\",\"DATING\",\"DATING\",\"DATING\",\"DATING\",\"DATING\",\"DATING\",\"DATING\",\"DATING\",\"DATING\",\"DATING\",\"DATING\",\"DATING\",\"DATING\",\"DATING\",\"DATING\",\"DATING\",\"DATING\",\"DATING\",\"DATING\",\"DATING\",\"DATING\",\"DATING\",\"DATING\",\"DATING\",\"DATING\",\"DATING\",\"DATING\",\"DATING\",\"DATING\",\"DATING\",\"DATING\",\"DATING\",\"DATING\",\"DATING\",\"DATING\",\"DATING\",\"DATING\",\"DATING\",\"DATING\",\"DATING\",\"DATING\",\"DATING\",\"DATING\",\"DATING\",\"DATING\",\"DATING\",\"DATING\",\"DATING\",\"DATING\",\"DATING\",\"DATING\",\"DATING\",\"DATING\",\"DATING\",\"DATING\",\"DATING\",\"DATING\",\"DATING\",\"DATING\",\"DATING\",\"DATING\",\"DATING\",\"DATING\",\"DATING\",\"DATING\",\"DATING\",\"DATING\",\"DATING\",\"DATING\",\"DATING\",\"DATING\",\"DATING\",\"DATING\",\"DATING\",\"DATING\",\"DATING\",\"DATING\",\"DATING\",\"DATING\",\"DATING\",\"DATING\",\"DATING\",\"DATING\",\"DATING\",\"DATING\",\"DATING\",\"DATING\",\"DATING\",\"DATING\",\"DATING\",\"DATING\",\"DATING\",\"DATING\",\"DATING\",\"DATING\",\"DATING\",\"DATING\",\"DATING\",\"DATING\",\"DATING\",\"DATING\",\"DATING\",\"DATING\",\"DATING\",\"DATING\",\"DATING\",\"DATING\",\"DATING\",\"DATING\",\"DATING\",\"DATING\",\"DATING\",\"DATING\",\"DATING\",\"DATING\",\"DATING\",\"DATING\",\"DATING\",\"DATING\",\"DATING\",\"DATING\",\"DATING\",\"DATING\",\"DATING\",\"DATING\",\"DATING\",\"DATING\",\"DATING\",\"DATING\",\"DATING\",\"DATING\",\"DATING\",\"DATING\",\"DATING\",\"DATING\",\"DATING\",\"DATING\",\"DATING\",\"DATING\",\"DATING\",\"DATING\",\"DATING\",\"DATING\",\"DATING\",\"DATING\",\"DATING\",\"DATING\",\"DATING\",\"DATING\",\"DATING\",\"DATING\",\"DATING\",\"DATING\",\"DATING\",\"DATING\",\"DATING\",\"DATING\",\"DATING\",\"DATING\",\"DATING\",\"DATING\",\"DATING\",\"DATING\",\"DATING\",\"DATING\",\"DATING\",\"DATING\",\"DATING\",\"DATING\",\"EDUCATION\",\"EDUCATION\",\"EDUCATION\",\"EDUCATION\",\"EDUCATION\",\"EDUCATION\",\"EDUCATION\",\"EDUCATION\",\"EDUCATION\",\"EDUCATION\",\"EDUCATION\",\"EDUCATION\",\"EDUCATION\",\"EDUCATION\",\"EDUCATION\",\"EDUCATION\",\"EDUCATION\",\"EDUCATION\",\"EDUCATION\",\"EDUCATION\",\"EDUCATION\",\"EDUCATION\",\"EDUCATION\",\"EDUCATION\",\"EDUCATION\",\"EDUCATION\",\"EDUCATION\",\"EDUCATION\",\"EDUCATION\",\"EDUCATION\",\"EDUCATION\",\"EDUCATION\",\"EDUCATION\",\"EDUCATION\",\"EDUCATION\",\"EDUCATION\",\"EDUCATION\",\"EDUCATION\",\"EDUCATION\",\"EDUCATION\",\"EDUCATION\",\"EDUCATION\",\"EDUCATION\",\"EDUCATION\",\"EDUCATION\",\"EDUCATION\",\"EDUCATION\",\"EDUCATION\",\"EDUCATION\",\"EDUCATION\",\"EDUCATION\",\"EDUCATION\",\"EDUCATION\",\"EDUCATION\",\"EDUCATION\",\"EDUCATION\",\"EDUCATION\",\"EDUCATION\",\"EDUCATION\",\"EDUCATION\",\"EDUCATION\",\"EDUCATION\",\"EDUCATION\",\"EDUCATION\",\"EDUCATION\",\"EDUCATION\",\"EDUCATION\",\"EDUCATION\",\"EDUCATION\",\"EDUCATION\",\"EDUCATION\",\"EDUCATION\",\"EDUCATION\",\"EDUCATION\",\"EDUCATION\",\"EDUCATION\",\"EDUCATION\",\"EDUCATION\",\"EDUCATION\",\"EDUCATION\",\"EDUCATION\",\"EDUCATION\",\"EDUCATION\",\"EDUCATION\",\"EDUCATION\",\"EDUCATION\",\"EDUCATION\",\"EDUCATION\",\"EDUCATION\",\"EDUCATION\",\"EDUCATION\",\"EDUCATION\",\"EDUCATION\",\"EDUCATION\",\"EDUCATION\",\"EDUCATION\",\"EDUCATION\",\"EDUCATION\",\"EDUCATION\",\"EDUCATION\",\"EDUCATION\",\"EDUCATION\",\"EDUCATION\",\"EDUCATION\",\"EDUCATION\",\"EDUCATION\",\"EDUCATION\",\"EDUCATION\",\"EDUCATION\",\"EDUCATION\",\"EDUCATION\",\"EDUCATION\",\"EDUCATION\",\"EDUCATION\",\"EDUCATION\",\"EDUCATION\",\"EDUCATION\",\"EDUCATION\",\"EDUCATION\",\"EDUCATION\",\"EDUCATION\",\"EDUCATION\",\"EDUCATION\",\"EDUCATION\",\"EDUCATION\",\"EDUCATION\",\"EDUCATION\",\"EDUCATION\",\"EDUCATION\",\"EDUCATION\",\"EDUCATION\",\"EDUCATION\",\"EDUCATION\",\"EDUCATION\",\"EDUCATION\",\"EDUCATION\",\"EDUCATION\",\"EDUCATION\",\"EDUCATION\",\"EDUCATION\",\"EDUCATION\",\"EDUCATION\",\"EDUCATION\",\"EDUCATION\",\"EDUCATION\",\"EDUCATION\",\"EDUCATION\",\"EDUCATION\",\"EDUCATION\",\"EDUCATION\",\"EDUCATION\",\"EDUCATION\",\"ENTERTAINMENT\",\"ENTERTAINMENT\",\"ENTERTAINMENT\",\"ENTERTAINMENT\",\"ENTERTAINMENT\",\"ENTERTAINMENT\",\"ENTERTAINMENT\",\"ENTERTAINMENT\",\"ENTERTAINMENT\",\"ENTERTAINMENT\",\"ENTERTAINMENT\",\"ENTERTAINMENT\",\"ENTERTAINMENT\",\"ENTERTAINMENT\",\"ENTERTAINMENT\",\"ENTERTAINMENT\",\"ENTERTAINMENT\",\"ENTERTAINMENT\",\"ENTERTAINMENT\",\"ENTERTAINMENT\",\"ENTERTAINMENT\",\"ENTERTAINMENT\",\"ENTERTAINMENT\",\"ENTERTAINMENT\",\"ENTERTAINMENT\",\"ENTERTAINMENT\",\"ENTERTAINMENT\",\"ENTERTAINMENT\",\"ENTERTAINMENT\",\"ENTERTAINMENT\",\"ENTERTAINMENT\",\"ENTERTAINMENT\",\"ENTERTAINMENT\",\"ENTERTAINMENT\",\"ENTERTAINMENT\",\"ENTERTAINMENT\",\"ENTERTAINMENT\",\"ENTERTAINMENT\",\"ENTERTAINMENT\",\"ENTERTAINMENT\",\"ENTERTAINMENT\",\"ENTERTAINMENT\",\"ENTERTAINMENT\",\"ENTERTAINMENT\",\"ENTERTAINMENT\",\"ENTERTAINMENT\",\"ENTERTAINMENT\",\"ENTERTAINMENT\",\"ENTERTAINMENT\",\"ENTERTAINMENT\",\"ENTERTAINMENT\",\"ENTERTAINMENT\",\"ENTERTAINMENT\",\"ENTERTAINMENT\",\"ENTERTAINMENT\",\"ENTERTAINMENT\",\"ENTERTAINMENT\",\"ENTERTAINMENT\",\"ENTERTAINMENT\",\"ENTERTAINMENT\",\"ENTERTAINMENT\",\"ENTERTAINMENT\",\"ENTERTAINMENT\",\"ENTERTAINMENT\",\"ENTERTAINMENT\",\"ENTERTAINMENT\",\"ENTERTAINMENT\",\"ENTERTAINMENT\",\"ENTERTAINMENT\",\"ENTERTAINMENT\",\"ENTERTAINMENT\",\"ENTERTAINMENT\",\"ENTERTAINMENT\",\"ENTERTAINMENT\",\"ENTERTAINMENT\",\"ENTERTAINMENT\",\"ENTERTAINMENT\",\"ENTERTAINMENT\",\"ENTERTAINMENT\",\"ENTERTAINMENT\",\"ENTERTAINMENT\",\"ENTERTAINMENT\",\"ENTERTAINMENT\",\"ENTERTAINMENT\",\"ENTERTAINMENT\",\"ENTERTAINMENT\",\"ENTERTAINMENT\",\"ENTERTAINMENT\",\"ENTERTAINMENT\",\"ENTERTAINMENT\",\"ENTERTAINMENT\",\"ENTERTAINMENT\",\"ENTERTAINMENT\",\"ENTERTAINMENT\",\"ENTERTAINMENT\",\"ENTERTAINMENT\",\"ENTERTAINMENT\",\"ENTERTAINMENT\",\"ENTERTAINMENT\",\"ENTERTAINMENT\",\"ENTERTAINMENT\",\"ENTERTAINMENT\",\"ENTERTAINMENT\",\"ENTERTAINMENT\",\"ENTERTAINMENT\",\"ENTERTAINMENT\",\"ENTERTAINMENT\",\"ENTERTAINMENT\",\"ENTERTAINMENT\",\"ENTERTAINMENT\",\"ENTERTAINMENT\",\"ENTERTAINMENT\",\"ENTERTAINMENT\",\"ENTERTAINMENT\",\"ENTERTAINMENT\",\"ENTERTAINMENT\",\"ENTERTAINMENT\",\"ENTERTAINMENT\",\"ENTERTAINMENT\",\"ENTERTAINMENT\",\"ENTERTAINMENT\",\"ENTERTAINMENT\",\"ENTERTAINMENT\",\"ENTERTAINMENT\",\"ENTERTAINMENT\",\"ENTERTAINMENT\",\"ENTERTAINMENT\",\"ENTERTAINMENT\",\"ENTERTAINMENT\",\"ENTERTAINMENT\",\"ENTERTAINMENT\",\"ENTERTAINMENT\",\"ENTERTAINMENT\",\"ENTERTAINMENT\",\"ENTERTAINMENT\",\"ENTERTAINMENT\",\"ENTERTAINMENT\",\"ENTERTAINMENT\",\"ENTERTAINMENT\",\"ENTERTAINMENT\",\"ENTERTAINMENT\",\"ENTERTAINMENT\",\"ENTERTAINMENT\",\"ENTERTAINMENT\",\"ENTERTAINMENT\",\"ENTERTAINMENT\",\"ENTERTAINMENT\",\"EVENTS\",\"EVENTS\",\"EVENTS\",\"EVENTS\",\"EVENTS\",\"EVENTS\",\"EVENTS\",\"EVENTS\",\"EVENTS\",\"EVENTS\",\"EVENTS\",\"EVENTS\",\"EVENTS\",\"EVENTS\",\"EVENTS\",\"EVENTS\",\"EVENTS\",\"EVENTS\",\"EVENTS\",\"EVENTS\",\"EVENTS\",\"EVENTS\",\"EVENTS\",\"EVENTS\",\"EVENTS\",\"EVENTS\",\"EVENTS\",\"EVENTS\",\"EVENTS\",\"EVENTS\",\"EVENTS\",\"EVENTS\",\"EVENTS\",\"EVENTS\",\"EVENTS\",\"EVENTS\",\"EVENTS\",\"EVENTS\",\"EVENTS\",\"EVENTS\",\"EVENTS\",\"EVENTS\",\"EVENTS\",\"EVENTS\",\"FINANCE\",\"FINANCE\",\"FINANCE\",\"FINANCE\",\"FINANCE\",\"FINANCE\",\"FINANCE\",\"FINANCE\",\"FINANCE\",\"FINANCE\",\"FINANCE\",\"FINANCE\",\"FINANCE\",\"FINANCE\",\"FINANCE\",\"FINANCE\",\"FINANCE\",\"FINANCE\",\"FINANCE\",\"FINANCE\",\"FINANCE\",\"FINANCE\",\"FINANCE\",\"FINANCE\",\"FINANCE\",\"FINANCE\",\"FINANCE\",\"FINANCE\",\"FINANCE\",\"FINANCE\",\"FINANCE\",\"FINANCE\",\"FINANCE\",\"FINANCE\",\"FINANCE\",\"FINANCE\",\"FINANCE\",\"FINANCE\",\"FINANCE\",\"FINANCE\",\"FINANCE\",\"FINANCE\",\"FINANCE\",\"FINANCE\",\"FINANCE\",\"FINANCE\",\"FINANCE\",\"FINANCE\",\"FINANCE\",\"FINANCE\",\"FINANCE\",\"FINANCE\",\"FINANCE\",\"FINANCE\",\"FINANCE\",\"FINANCE\",\"FINANCE\",\"FINANCE\",\"FINANCE\",\"FINANCE\",\"FINANCE\",\"FINANCE\",\"FINANCE\",\"FINANCE\",\"FINANCE\",\"FINANCE\",\"FINANCE\",\"FINANCE\",\"FINANCE\",\"FINANCE\",\"FINANCE\",\"FINANCE\",\"FINANCE\",\"FINANCE\",\"FINANCE\",\"FINANCE\",\"FINANCE\",\"FINANCE\",\"FINANCE\",\"FINANCE\",\"FINANCE\",\"FINANCE\",\"FINANCE\",\"FINANCE\",\"FINANCE\",\"FINANCE\",\"FINANCE\",\"FINANCE\",\"FINANCE\",\"FINANCE\",\"FINANCE\",\"FINANCE\",\"FINANCE\",\"FINANCE\",\"FINANCE\",\"FINANCE\",\"FINANCE\",\"FINANCE\",\"FINANCE\",\"FINANCE\",\"FINANCE\",\"FINANCE\",\"FINANCE\",\"FINANCE\",\"FINANCE\",\"FINANCE\",\"FINANCE\",\"FINANCE\",\"FINANCE\",\"FINANCE\",\"FINANCE\",\"FINANCE\",\"FINANCE\",\"FINANCE\",\"FINANCE\",\"FINANCE\",\"FINANCE\",\"FINANCE\",\"FINANCE\",\"FINANCE\",\"FINANCE\",\"FINANCE\",\"FINANCE\",\"FINANCE\",\"FINANCE\",\"FINANCE\",\"FINANCE\",\"FINANCE\",\"FOOD_AND_DRINK\",\"FOOD_AND_DRINK\",\"FOOD_AND_DRINK\",\"FOOD_AND_DRINK\",\"FOOD_AND_DRINK\",\"FOOD_AND_DRINK\",\"FOOD_AND_DRINK\",\"FOOD_AND_DRINK\",\"FOOD_AND_DRINK\",\"FOOD_AND_DRINK\",\"FOOD_AND_DRINK\",\"FOOD_AND_DRINK\",\"FOOD_AND_DRINK\",\"FOOD_AND_DRINK\",\"FOOD_AND_DRINK\",\"FOOD_AND_DRINK\",\"FOOD_AND_DRINK\",\"FOOD_AND_DRINK\",\"FOOD_AND_DRINK\",\"FOOD_AND_DRINK\",\"FOOD_AND_DRINK\",\"FOOD_AND_DRINK\",\"FOOD_AND_DRINK\",\"FOOD_AND_DRINK\",\"FOOD_AND_DRINK\",\"FOOD_AND_DRINK\",\"FOOD_AND_DRINK\",\"FOOD_AND_DRINK\",\"FOOD_AND_DRINK\",\"FOOD_AND_DRINK\",\"FOOD_AND_DRINK\",\"FOOD_AND_DRINK\",\"FOOD_AND_DRINK\",\"FOOD_AND_DRINK\",\"FOOD_AND_DRINK\",\"FOOD_AND_DRINK\",\"FOOD_AND_DRINK\",\"FOOD_AND_DRINK\",\"FOOD_AND_DRINK\",\"FOOD_AND_DRINK\",\"FOOD_AND_DRINK\",\"FOOD_AND_DRINK\",\"FOOD_AND_DRINK\",\"FOOD_AND_DRINK\",\"FOOD_AND_DRINK\",\"FOOD_AND_DRINK\",\"FOOD_AND_DRINK\",\"FOOD_AND_DRINK\",\"FOOD_AND_DRINK\",\"FOOD_AND_DRINK\",\"FOOD_AND_DRINK\",\"FOOD_AND_DRINK\",\"FOOD_AND_DRINK\",\"FOOD_AND_DRINK\",\"FOOD_AND_DRINK\",\"FOOD_AND_DRINK\",\"FOOD_AND_DRINK\",\"FOOD_AND_DRINK\",\"FOOD_AND_DRINK\",\"FOOD_AND_DRINK\",\"FOOD_AND_DRINK\",\"FOOD_AND_DRINK\",\"FOOD_AND_DRINK\",\"FOOD_AND_DRINK\",\"FOOD_AND_DRINK\",\"FOOD_AND_DRINK\",\"FOOD_AND_DRINK\",\"FOOD_AND_DRINK\",\"FOOD_AND_DRINK\",\"FOOD_AND_DRINK\",\"FOOD_AND_DRINK\",\"FOOD_AND_DRINK\",\"FOOD_AND_DRINK\",\"FOOD_AND_DRINK\",\"FOOD_AND_DRINK\",\"FOOD_AND_DRINK\",\"FOOD_AND_DRINK\",\"FOOD_AND_DRINK\",\"HEALTH_AND_FITNESS\",\"HEALTH_AND_FITNESS\",\"HEALTH_AND_FITNESS\",\"HEALTH_AND_FITNESS\",\"HEALTH_AND_FITNESS\",\"HEALTH_AND_FITNESS\",\"HEALTH_AND_FITNESS\",\"HEALTH_AND_FITNESS\",\"HEALTH_AND_FITNESS\",\"HEALTH_AND_FITNESS\",\"HEALTH_AND_FITNESS\",\"HEALTH_AND_FITNESS\",\"HEALTH_AND_FITNESS\",\"HEALTH_AND_FITNESS\",\"HEALTH_AND_FITNESS\",\"HEALTH_AND_FITNESS\",\"HEALTH_AND_FITNESS\",\"HEALTH_AND_FITNESS\",\"HEALTH_AND_FITNESS\",\"HEALTH_AND_FITNESS\",\"HEALTH_AND_FITNESS\",\"HEALTH_AND_FITNESS\",\"HEALTH_AND_FITNESS\",\"HEALTH_AND_FITNESS\",\"HEALTH_AND_FITNESS\",\"HEALTH_AND_FITNESS\",\"HEALTH_AND_FITNESS\",\"HEALTH_AND_FITNESS\",\"HEALTH_AND_FITNESS\",\"HEALTH_AND_FITNESS\",\"HEALTH_AND_FITNESS\",\"HEALTH_AND_FITNESS\",\"HEALTH_AND_FITNESS\",\"HEALTH_AND_FITNESS\",\"HEALTH_AND_FITNESS\",\"HEALTH_AND_FITNESS\",\"HEALTH_AND_FITNESS\",\"HEALTH_AND_FITNESS\",\"HEALTH_AND_FITNESS\",\"HEALTH_AND_FITNESS\",\"HEALTH_AND_FITNESS\",\"HEALTH_AND_FITNESS\",\"HEALTH_AND_FITNESS\",\"HEALTH_AND_FITNESS\",\"HEALTH_AND_FITNESS\",\"HEALTH_AND_FITNESS\",\"HEALTH_AND_FITNESS\",\"HEALTH_AND_FITNESS\",\"HEALTH_AND_FITNESS\",\"HEALTH_AND_FITNESS\",\"HEALTH_AND_FITNESS\",\"HEALTH_AND_FITNESS\",\"HEALTH_AND_FITNESS\",\"HEALTH_AND_FITNESS\",\"HEALTH_AND_FITNESS\",\"HEALTH_AND_FITNESS\",\"HEALTH_AND_FITNESS\",\"HEALTH_AND_FITNESS\",\"HEALTH_AND_FITNESS\",\"HEALTH_AND_FITNESS\",\"HEALTH_AND_FITNESS\",\"HEALTH_AND_FITNESS\",\"HEALTH_AND_FITNESS\",\"HEALTH_AND_FITNESS\",\"HEALTH_AND_FITNESS\",\"HEALTH_AND_FITNESS\",\"HEALTH_AND_FITNESS\",\"HEALTH_AND_FITNESS\",\"HEALTH_AND_FITNESS\",\"HEALTH_AND_FITNESS\",\"HEALTH_AND_FITNESS\",\"HEALTH_AND_FITNESS\",\"HEALTH_AND_FITNESS\",\"HEALTH_AND_FITNESS\",\"HEALTH_AND_FITNESS\",\"HEALTH_AND_FITNESS\",\"HEALTH_AND_FITNESS\",\"HEALTH_AND_FITNESS\",\"HEALTH_AND_FITNESS\",\"HEALTH_AND_FITNESS\",\"HEALTH_AND_FITNESS\",\"HEALTH_AND_FITNESS\",\"HEALTH_AND_FITNESS\",\"HEALTH_AND_FITNESS\",\"HEALTH_AND_FITNESS\",\"HEALTH_AND_FITNESS\",\"HEALTH_AND_FITNESS\",\"HEALTH_AND_FITNESS\",\"HEALTH_AND_FITNESS\",\"HEALTH_AND_FITNESS\",\"HEALTH_AND_FITNESS\",\"HEALTH_AND_FITNESS\",\"HEALTH_AND_FITNESS\",\"HEALTH_AND_FITNESS\",\"HEALTH_AND_FITNESS\",\"HEALTH_AND_FITNESS\",\"HEALTH_AND_FITNESS\",\"HEALTH_AND_FITNESS\",\"HEALTH_AND_FITNESS\",\"HEALTH_AND_FITNESS\",\"HEALTH_AND_FITNESS\",\"HEALTH_AND_FITNESS\",\"HEALTH_AND_FITNESS\",\"HEALTH_AND_FITNESS\",\"HEALTH_AND_FITNESS\",\"HEALTH_AND_FITNESS\",\"HEALTH_AND_FITNESS\",\"HEALTH_AND_FITNESS\",\"HEALTH_AND_FITNESS\",\"HEALTH_AND_FITNESS\",\"HEALTH_AND_FITNESS\",\"HEALTH_AND_FITNESS\",\"HEALTH_AND_FITNESS\",\"HEALTH_AND_FITNESS\",\"HEALTH_AND_FITNESS\",\"HEALTH_AND_FITNESS\",\"HEALTH_AND_FITNESS\",\"HEALTH_AND_FITNESS\",\"HEALTH_AND_FITNESS\",\"HEALTH_AND_FITNESS\",\"HEALTH_AND_FITNESS\",\"HEALTH_AND_FITNESS\",\"HEALTH_AND_FITNESS\",\"HEALTH_AND_FITNESS\",\"HEALTH_AND_FITNESS\",\"HEALTH_AND_FITNESS\",\"HEALTH_AND_FITNESS\",\"HEALTH_AND_FITNESS\",\"HEALTH_AND_FITNESS\",\"HEALTH_AND_FITNESS\",\"HEALTH_AND_FITNESS\",\"HEALTH_AND_FITNESS\",\"HEALTH_AND_FITNESS\",\"HEALTH_AND_FITNESS\",\"HEALTH_AND_FITNESS\",\"HEALTH_AND_FITNESS\",\"HEALTH_AND_FITNESS\",\"HEALTH_AND_FITNESS\",\"HEALTH_AND_FITNESS\",\"HEALTH_AND_FITNESS\",\"HEALTH_AND_FITNESS\",\"HEALTH_AND_FITNESS\",\"HEALTH_AND_FITNESS\",\"HEALTH_AND_FITNESS\",\"HEALTH_AND_FITNESS\",\"HEALTH_AND_FITNESS\",\"HEALTH_AND_FITNESS\",\"HEALTH_AND_FITNESS\",\"HEALTH_AND_FITNESS\",\"HEALTH_AND_FITNESS\",\"HEALTH_AND_FITNESS\",\"HEALTH_AND_FITNESS\",\"HEALTH_AND_FITNESS\",\"HEALTH_AND_FITNESS\",\"HEALTH_AND_FITNESS\",\"HEALTH_AND_FITNESS\",\"HEALTH_AND_FITNESS\",\"HEALTH_AND_FITNESS\",\"HEALTH_AND_FITNESS\",\"HEALTH_AND_FITNESS\",\"HEALTH_AND_FITNESS\",\"HEALTH_AND_FITNESS\",\"HEALTH_AND_FITNESS\",\"HEALTH_AND_FITNESS\",\"HEALTH_AND_FITNESS\",\"HEALTH_AND_FITNESS\",\"HEALTH_AND_FITNESS\",\"HEALTH_AND_FITNESS\",\"HEALTH_AND_FITNESS\",\"HEALTH_AND_FITNESS\",\"HEALTH_AND_FITNESS\",\"HEALTH_AND_FITNESS\",\"HEALTH_AND_FITNESS\",\"HEALTH_AND_FITNESS\",\"HEALTH_AND_FITNESS\",\"HEALTH_AND_FITNESS\",\"HEALTH_AND_FITNESS\",\"HEALTH_AND_FITNESS\",\"HEALTH_AND_FITNESS\",\"HEALTH_AND_FITNESS\",\"HEALTH_AND_FITNESS\",\"HEALTH_AND_FITNESS\",\"HEALTH_AND_FITNESS\",\"HEALTH_AND_FITNESS\",\"HEALTH_AND_FITNESS\",\"HEALTH_AND_FITNESS\",\"HOUSE_AND_HOME\",\"HOUSE_AND_HOME\",\"HOUSE_AND_HOME\",\"HOUSE_AND_HOME\",\"HOUSE_AND_HOME\",\"HOUSE_AND_HOME\",\"HOUSE_AND_HOME\",\"HOUSE_AND_HOME\",\"HOUSE_AND_HOME\",\"HOUSE_AND_HOME\",\"HOUSE_AND_HOME\",\"HOUSE_AND_HOME\",\"HOUSE_AND_HOME\",\"HOUSE_AND_HOME\",\"HOUSE_AND_HOME\",\"HOUSE_AND_HOME\",\"HOUSE_AND_HOME\",\"HOUSE_AND_HOME\",\"HOUSE_AND_HOME\",\"HOUSE_AND_HOME\",\"HOUSE_AND_HOME\",\"HOUSE_AND_HOME\",\"HOUSE_AND_HOME\",\"HOUSE_AND_HOME\",\"HOUSE_AND_HOME\",\"HOUSE_AND_HOME\",\"HOUSE_AND_HOME\",\"HOUSE_AND_HOME\",\"HOUSE_AND_HOME\",\"HOUSE_AND_HOME\",\"HOUSE_AND_HOME\",\"HOUSE_AND_HOME\",\"HOUSE_AND_HOME\",\"HOUSE_AND_HOME\",\"HOUSE_AND_HOME\",\"HOUSE_AND_HOME\",\"HOUSE_AND_HOME\",\"HOUSE_AND_HOME\",\"HOUSE_AND_HOME\",\"HOUSE_AND_HOME\",\"HOUSE_AND_HOME\",\"HOUSE_AND_HOME\",\"HOUSE_AND_HOME\",\"HOUSE_AND_HOME\",\"HOUSE_AND_HOME\",\"HOUSE_AND_HOME\",\"HOUSE_AND_HOME\",\"HOUSE_AND_HOME\",\"HOUSE_AND_HOME\",\"HOUSE_AND_HOME\",\"HOUSE_AND_HOME\",\"HOUSE_AND_HOME\",\"HOUSE_AND_HOME\",\"HOUSE_AND_HOME\",\"HOUSE_AND_HOME\",\"HOUSE_AND_HOME\",\"HOUSE_AND_HOME\",\"HOUSE_AND_HOME\",\"HOUSE_AND_HOME\",\"HOUSE_AND_HOME\",\"HOUSE_AND_HOME\",\"HOUSE_AND_HOME\",\"HOUSE_AND_HOME\",\"HOUSE_AND_HOME\",\"HOUSE_AND_HOME\",\"HOUSE_AND_HOME\",\"HOUSE_AND_HOME\",\"HOUSE_AND_HOME\",\"LIBRARIES_AND_DEMO\",\"LIBRARIES_AND_DEMO\",\"LIBRARIES_AND_DEMO\",\"LIBRARIES_AND_DEMO\",\"LIBRARIES_AND_DEMO\",\"LIBRARIES_AND_DEMO\",\"LIBRARIES_AND_DEMO\",\"LIBRARIES_AND_DEMO\",\"LIBRARIES_AND_DEMO\",\"LIBRARIES_AND_DEMO\",\"LIBRARIES_AND_DEMO\",\"LIBRARIES_AND_DEMO\",\"LIBRARIES_AND_DEMO\",\"LIBRARIES_AND_DEMO\",\"LIBRARIES_AND_DEMO\",\"LIBRARIES_AND_DEMO\",\"LIBRARIES_AND_DEMO\",\"LIBRARIES_AND_DEMO\",\"LIBRARIES_AND_DEMO\",\"LIBRARIES_AND_DEMO\",\"LIBRARIES_AND_DEMO\",\"LIBRARIES_AND_DEMO\",\"LIBRARIES_AND_DEMO\",\"LIBRARIES_AND_DEMO\",\"LIBRARIES_AND_DEMO\",\"LIBRARIES_AND_DEMO\",\"LIBRARIES_AND_DEMO\",\"LIBRARIES_AND_DEMO\",\"LIBRARIES_AND_DEMO\",\"LIBRARIES_AND_DEMO\",\"LIBRARIES_AND_DEMO\",\"LIBRARIES_AND_DEMO\",\"LIBRARIES_AND_DEMO\",\"LIBRARIES_AND_DEMO\",\"LIBRARIES_AND_DEMO\",\"LIBRARIES_AND_DEMO\",\"LIBRARIES_AND_DEMO\",\"LIBRARIES_AND_DEMO\",\"LIBRARIES_AND_DEMO\",\"LIBRARIES_AND_DEMO\",\"LIBRARIES_AND_DEMO\",\"LIBRARIES_AND_DEMO\",\"LIBRARIES_AND_DEMO\",\"LIBRARIES_AND_DEMO\",\"LIBRARIES_AND_DEMO\",\"LIBRARIES_AND_DEMO\",\"LIBRARIES_AND_DEMO\",\"LIBRARIES_AND_DEMO\",\"LIFESTYLE\",\"LIFESTYLE\",\"LIFESTYLE\",\"LIFESTYLE\",\"LIFESTYLE\",\"LIFESTYLE\",\"LIFESTYLE\",\"LIFESTYLE\",\"LIFESTYLE\",\"LIFESTYLE\",\"LIFESTYLE\",\"LIFESTYLE\",\"LIFESTYLE\",\"LIFESTYLE\",\"LIFESTYLE\",\"LIFESTYLE\",\"LIFESTYLE\",\"LIFESTYLE\",\"LIFESTYLE\",\"LIFESTYLE\",\"LIFESTYLE\",\"LIFESTYLE\",\"LIFESTYLE\",\"LIFESTYLE\",\"LIFESTYLE\",\"LIFESTYLE\",\"LIFESTYLE\",\"LIFESTYLE\",\"LIFESTYLE\",\"LIFESTYLE\",\"LIFESTYLE\",\"LIFESTYLE\",\"LIFESTYLE\",\"LIFESTYLE\",\"LIFESTYLE\",\"LIFESTYLE\",\"LIFESTYLE\",\"LIFESTYLE\",\"LIFESTYLE\",\"LIFESTYLE\",\"LIFESTYLE\",\"LIFESTYLE\",\"LIFESTYLE\",\"LIFESTYLE\",\"LIFESTYLE\",\"LIFESTYLE\",\"LIFESTYLE\",\"LIFESTYLE\",\"LIFESTYLE\",\"LIFESTYLE\",\"LIFESTYLE\",\"LIFESTYLE\",\"LIFESTYLE\",\"LIFESTYLE\",\"LIFESTYLE\",\"LIFESTYLE\",\"LIFESTYLE\",\"LIFESTYLE\",\"LIFESTYLE\",\"LIFESTYLE\",\"LIFESTYLE\",\"LIFESTYLE\",\"LIFESTYLE\",\"LIFESTYLE\",\"LIFESTYLE\",\"LIFESTYLE\",\"LIFESTYLE\",\"LIFESTYLE\",\"LIFESTYLE\",\"LIFESTYLE\",\"LIFESTYLE\",\"LIFESTYLE\",\"LIFESTYLE\",\"LIFESTYLE\",\"LIFESTYLE\",\"LIFESTYLE\",\"LIFESTYLE\",\"LIFESTYLE\",\"LIFESTYLE\",\"LIFESTYLE\",\"LIFESTYLE\",\"LIFESTYLE\",\"LIFESTYLE\",\"LIFESTYLE\",\"LIFESTYLE\",\"LIFESTYLE\",\"LIFESTYLE\",\"LIFESTYLE\",\"LIFESTYLE\",\"LIFESTYLE\",\"LIFESTYLE\",\"GAME\",\"GAME\",\"GAME\",\"GAME\",\"GAME\",\"GAME\",\"GAME\",\"GAME\",\"GAME\",\"GAME\",\"GAME\",\"GAME\",\"GAME\",\"GAME\",\"GAME\",\"GAME\",\"GAME\",\"GAME\",\"GAME\",\"GAME\",\"GAME\",\"GAME\",\"GAME\",\"GAME\",\"GAME\",\"GAME\",\"GAME\",\"GAME\",\"GAME\",\"GAME\",\"GAME\",\"GAME\",\"GAME\",\"GAME\",\"GAME\",\"GAME\",\"GAME\",\"GAME\",\"GAME\",\"GAME\",\"GAME\",\"GAME\",\"GAME\",\"GAME\",\"GAME\",\"GAME\",\"GAME\",\"GAME\",\"GAME\",\"GAME\",\"GAME\",\"GAME\",\"GAME\",\"GAME\",\"GAME\",\"GAME\",\"GAME\",\"GAME\",\"GAME\",\"GAME\",\"GAME\",\"GAME\",\"GAME\",\"GAME\",\"GAME\",\"GAME\",\"GAME\",\"GAME\",\"GAME\",\"GAME\",\"GAME\",\"GAME\",\"GAME\",\"GAME\",\"GAME\",\"GAME\",\"GAME\",\"GAME\",\"GAME\",\"GAME\",\"GAME\",\"GAME\",\"GAME\",\"GAME\",\"GAME\",\"GAME\",\"GAME\",\"GAME\",\"GAME\",\"GAME\",\"GAME\",\"GAME\",\"GAME\",\"GAME\",\"GAME\",\"GAME\",\"GAME\",\"GAME\",\"GAME\",\"GAME\",\"GAME\",\"GAME\",\"GAME\",\"GAME\",\"GAME\",\"GAME\",\"GAME\",\"GAME\",\"GAME\",\"GAME\",\"GAME\",\"GAME\",\"GAME\",\"GAME\",\"GAME\",\"GAME\",\"GAME\",\"GAME\",\"GAME\",\"GAME\",\"GAME\",\"GAME\",\"GAME\",\"GAME\",\"GAME\",\"GAME\",\"GAME\",\"GAME\",\"GAME\",\"GAME\",\"GAME\",\"GAME\",\"GAME\",\"GAME\",\"GAME\",\"GAME\",\"GAME\",\"GAME\",\"GAME\",\"GAME\",\"GAME\",\"GAME\",\"GAME\",\"GAME\",\"GAME\",\"GAME\",\"GAME\",\"GAME\",\"GAME\",\"GAME\",\"GAME\",\"GAME\",\"GAME\",\"GAME\",\"GAME\",\"GAME\",\"GAME\",\"GAME\",\"GAME\",\"GAME\",\"GAME\",\"GAME\",\"GAME\",\"GAME\",\"GAME\",\"GAME\",\"GAME\",\"GAME\",\"GAME\",\"GAME\",\"GAME\",\"GAME\",\"GAME\",\"GAME\",\"GAME\",\"GAME\",\"GAME\",\"GAME\",\"GAME\",\"GAME\",\"GAME\",\"GAME\",\"GAME\",\"GAME\",\"GAME\",\"GAME\",\"GAME\",\"GAME\",\"GAME\",\"GAME\",\"GAME\",\"GAME\",\"GAME\",\"GAME\",\"GAME\",\"GAME\",\"GAME\",\"GAME\",\"GAME\",\"GAME\",\"GAME\",\"GAME\",\"GAME\",\"GAME\",\"GAME\",\"GAME\",\"GAME\",\"GAME\",\"GAME\",\"GAME\",\"GAME\",\"GAME\",\"GAME\",\"GAME\",\"GAME\",\"GAME\",\"GAME\",\"GAME\",\"GAME\",\"GAME\",\"GAME\",\"GAME\",\"GAME\",\"GAME\",\"GAME\",\"GAME\",\"GAME\",\"GAME\",\"GAME\",\"GAME\",\"GAME\",\"GAME\",\"GAME\",\"GAME\",\"GAME\",\"GAME\",\"GAME\",\"GAME\",\"GAME\",\"GAME\",\"GAME\",\"GAME\",\"GAME\",\"GAME\",\"GAME\",\"GAME\",\"GAME\",\"GAME\",\"GAME\",\"GAME\",\"GAME\",\"GAME\",\"GAME\",\"GAME\",\"GAME\",\"GAME\",\"GAME\",\"GAME\",\"GAME\",\"GAME\",\"GAME\",\"GAME\",\"GAME\",\"GAME\",\"GAME\",\"GAME\",\"GAME\",\"GAME\",\"GAME\",\"GAME\",\"GAME\",\"GAME\",\"GAME\",\"GAME\",\"GAME\",\"GAME\",\"GAME\",\"GAME\",\"GAME\",\"GAME\",\"GAME\",\"GAME\",\"GAME\",\"GAME\",\"GAME\",\"GAME\",\"GAME\",\"GAME\",\"GAME\",\"GAME\",\"GAME\",\"GAME\",\"GAME\",\"GAME\",\"GAME\",\"GAME\",\"GAME\",\"GAME\",\"GAME\",\"GAME\",\"GAME\",\"GAME\",\"GAME\",\"GAME\",\"GAME\",\"GAME\",\"GAME\",\"GAME\",\"GAME\",\"GAME\",\"GAME\",\"GAME\",\"GAME\",\"GAME\",\"GAME\",\"GAME\",\"GAME\",\"GAME\",\"GAME\",\"GAME\",\"GAME\",\"GAME\",\"GAME\",\"GAME\",\"GAME\",\"GAME\",\"GAME\",\"GAME\",\"GAME\",\"GAME\",\"GAME\",\"GAME\",\"GAME\",\"GAME\",\"GAME\",\"GAME\",\"GAME\",\"GAME\",\"GAME\",\"GAME\",\"GAME\",\"GAME\",\"GAME\",\"GAME\",\"GAME\",\"GAME\",\"GAME\",\"GAME\",\"GAME\",\"GAME\",\"GAME\",\"GAME\",\"FAMILY\",\"FAMILY\",\"FAMILY\",\"FAMILY\",\"FAMILY\",\"FAMILY\",\"FAMILY\",\"FAMILY\",\"FAMILY\",\"FAMILY\",\"FAMILY\",\"FAMILY\",\"FAMILY\",\"FAMILY\",\"FAMILY\",\"FAMILY\",\"FAMILY\",\"FAMILY\",\"FAMILY\",\"FAMILY\",\"FAMILY\",\"FAMILY\",\"FAMILY\",\"FAMILY\",\"FAMILY\",\"FAMILY\",\"FAMILY\",\"FAMILY\",\"FAMILY\",\"FAMILY\",\"FAMILY\",\"FAMILY\",\"FAMILY\",\"FAMILY\",\"FAMILY\",\"FAMILY\",\"FAMILY\",\"FAMILY\",\"FAMILY\",\"FAMILY\",\"FAMILY\",\"FAMILY\",\"FAMILY\",\"FAMILY\",\"FAMILY\",\"FAMILY\",\"FAMILY\",\"FAMILY\",\"FAMILY\",\"FAMILY\",\"FAMILY\",\"FAMILY\",\"FAMILY\",\"FAMILY\",\"FAMILY\",\"FAMILY\",\"FAMILY\",\"FAMILY\",\"FAMILY\",\"FAMILY\",\"FAMILY\",\"FAMILY\",\"FAMILY\",\"FAMILY\",\"FAMILY\",\"FAMILY\",\"FAMILY\",\"FAMILY\",\"FAMILY\",\"FAMILY\",\"FAMILY\",\"FAMILY\",\"FAMILY\",\"FAMILY\",\"FAMILY\",\"FAMILY\",\"FAMILY\",\"FAMILY\",\"FAMILY\",\"FAMILY\",\"FAMILY\",\"FAMILY\",\"FAMILY\",\"FAMILY\",\"FAMILY\",\"FAMILY\",\"FAMILY\",\"FAMILY\",\"FAMILY\",\"FAMILY\",\"FAMILY\",\"FAMILY\",\"FAMILY\",\"FAMILY\",\"FAMILY\",\"FAMILY\",\"FAMILY\",\"FAMILY\",\"FAMILY\",\"FAMILY\",\"FAMILY\",\"FAMILY\",\"FAMILY\",\"FAMILY\",\"FAMILY\",\"FAMILY\",\"FAMILY\",\"FAMILY\",\"FAMILY\",\"FAMILY\",\"FAMILY\",\"FAMILY\",\"FAMILY\",\"FAMILY\",\"FAMILY\",\"FAMILY\",\"FAMILY\",\"FAMILY\",\"FAMILY\",\"FAMILY\",\"FAMILY\",\"FAMILY\",\"FAMILY\",\"FAMILY\",\"FAMILY\",\"FAMILY\",\"FAMILY\",\"FAMILY\",\"FAMILY\",\"FAMILY\",\"FAMILY\",\"FAMILY\",\"FAMILY\",\"FAMILY\",\"FAMILY\",\"FAMILY\",\"FAMILY\",\"FAMILY\",\"FAMILY\",\"FAMILY\",\"FAMILY\",\"FAMILY\",\"FAMILY\",\"FAMILY\",\"FAMILY\",\"FAMILY\",\"FAMILY\",\"FAMILY\",\"FAMILY\",\"FAMILY\",\"FAMILY\",\"FAMILY\",\"FAMILY\",\"FAMILY\",\"FAMILY\",\"FAMILY\",\"FAMILY\",\"FAMILY\",\"FAMILY\",\"FAMILY\",\"FAMILY\",\"FAMILY\",\"FAMILY\",\"FAMILY\",\"FAMILY\",\"FAMILY\",\"FAMILY\",\"FAMILY\",\"FAMILY\",\"FAMILY\",\"FAMILY\",\"FAMILY\",\"FAMILY\",\"FAMILY\",\"FAMILY\",\"FAMILY\",\"FAMILY\",\"FAMILY\",\"FAMILY\",\"FAMILY\",\"FAMILY\",\"FAMILY\",\"FAMILY\",\"FAMILY\",\"FAMILY\",\"FAMILY\",\"FAMILY\",\"FAMILY\",\"FAMILY\",\"FAMILY\",\"FAMILY\",\"FAMILY\",\"FAMILY\",\"FAMILY\",\"FAMILY\",\"FAMILY\",\"FAMILY\",\"FAMILY\",\"FAMILY\",\"MEDICAL\",\"MEDICAL\",\"MEDICAL\",\"MEDICAL\",\"MEDICAL\",\"MEDICAL\",\"MEDICAL\",\"MEDICAL\",\"MEDICAL\",\"MEDICAL\",\"MEDICAL\",\"MEDICAL\",\"MEDICAL\",\"MEDICAL\",\"MEDICAL\",\"MEDICAL\",\"MEDICAL\",\"MEDICAL\",\"MEDICAL\",\"MEDICAL\",\"MEDICAL\",\"MEDICAL\",\"MEDICAL\",\"MEDICAL\",\"MEDICAL\",\"MEDICAL\",\"MEDICAL\",\"MEDICAL\",\"MEDICAL\",\"MEDICAL\",\"MEDICAL\",\"MEDICAL\",\"MEDICAL\",\"MEDICAL\",\"MEDICAL\",\"MEDICAL\",\"MEDICAL\",\"MEDICAL\",\"MEDICAL\",\"MEDICAL\",\"MEDICAL\",\"MEDICAL\",\"MEDICAL\",\"MEDICAL\",\"MEDICAL\",\"MEDICAL\",\"MEDICAL\",\"MEDICAL\",\"MEDICAL\",\"MEDICAL\",\"MEDICAL\",\"MEDICAL\",\"MEDICAL\",\"MEDICAL\",\"MEDICAL\",\"MEDICAL\",\"MEDICAL\",\"MEDICAL\",\"MEDICAL\",\"MEDICAL\",\"MEDICAL\",\"MEDICAL\",\"MEDICAL\",\"MEDICAL\",\"MEDICAL\",\"MEDICAL\",\"MEDICAL\",\"MEDICAL\",\"MEDICAL\",\"MEDICAL\",\"MEDICAL\",\"MEDICAL\",\"MEDICAL\",\"MEDICAL\",\"MEDICAL\",\"MEDICAL\",\"MEDICAL\",\"MEDICAL\",\"MEDICAL\",\"MEDICAL\",\"MEDICAL\",\"MEDICAL\",\"MEDICAL\",\"MEDICAL\",\"MEDICAL\",\"MEDICAL\",\"MEDICAL\",\"MEDICAL\",\"MEDICAL\",\"MEDICAL\",\"MEDICAL\",\"MEDICAL\",\"MEDICAL\",\"MEDICAL\",\"MEDICAL\",\"MEDICAL\",\"MEDICAL\",\"MEDICAL\",\"MEDICAL\",\"MEDICAL\",\"MEDICAL\",\"MEDICAL\",\"MEDICAL\",\"MEDICAL\",\"MEDICAL\",\"MEDICAL\",\"MEDICAL\",\"MEDICAL\",\"MEDICAL\",\"MEDICAL\",\"MEDICAL\",\"MEDICAL\",\"MEDICAL\",\"MEDICAL\",\"MEDICAL\",\"MEDICAL\",\"MEDICAL\",\"MEDICAL\",\"MEDICAL\",\"MEDICAL\",\"MEDICAL\",\"MEDICAL\",\"MEDICAL\",\"MEDICAL\",\"MEDICAL\",\"MEDICAL\",\"MEDICAL\",\"MEDICAL\",\"MEDICAL\",\"MEDICAL\",\"MEDICAL\",\"MEDICAL\",\"MEDICAL\",\"MEDICAL\",\"MEDICAL\",\"MEDICAL\",\"MEDICAL\",\"MEDICAL\",\"MEDICAL\",\"MEDICAL\",\"MEDICAL\",\"MEDICAL\",\"MEDICAL\",\"MEDICAL\",\"MEDICAL\",\"MEDICAL\",\"MEDICAL\",\"MEDICAL\",\"MEDICAL\",\"MEDICAL\",\"MEDICAL\",\"MEDICAL\",\"MEDICAL\",\"MEDICAL\",\"MEDICAL\",\"MEDICAL\",\"MEDICAL\",\"MEDICAL\",\"MEDICAL\",\"MEDICAL\",\"MEDICAL\",\"MEDICAL\",\"MEDICAL\",\"MEDICAL\",\"MEDICAL\",\"MEDICAL\",\"MEDICAL\",\"MEDICAL\",\"MEDICAL\",\"MEDICAL\",\"MEDICAL\",\"MEDICAL\",\"MEDICAL\",\"MEDICAL\",\"MEDICAL\",\"MEDICAL\",\"MEDICAL\",\"MEDICAL\",\"MEDICAL\",\"MEDICAL\",\"MEDICAL\",\"MEDICAL\",\"MEDICAL\",\"MEDICAL\",\"MEDICAL\",\"MEDICAL\",\"MEDICAL\",\"MEDICAL\",\"MEDICAL\",\"MEDICAL\",\"MEDICAL\",\"MEDICAL\",\"MEDICAL\",\"MEDICAL\",\"MEDICAL\",\"MEDICAL\",\"MEDICAL\",\"MEDICAL\",\"MEDICAL\",\"MEDICAL\",\"MEDICAL\",\"MEDICAL\",\"MEDICAL\",\"MEDICAL\",\"MEDICAL\",\"MEDICAL\",\"MEDICAL\",\"MEDICAL\",\"MEDICAL\",\"MEDICAL\",\"MEDICAL\",\"MEDICAL\",\"MEDICAL\",\"SOCIAL\",\"SOCIAL\",\"SOCIAL\",\"SOCIAL\",\"SOCIAL\",\"SOCIAL\",\"SOCIAL\",\"SOCIAL\",\"SOCIAL\",\"SOCIAL\",\"SOCIAL\",\"SOCIAL\",\"SOCIAL\",\"SOCIAL\",\"SOCIAL\",\"SOCIAL\",\"SOCIAL\",\"SOCIAL\",\"SOCIAL\",\"SOCIAL\",\"SOCIAL\",\"SOCIAL\",\"SOCIAL\",\"SOCIAL\",\"SOCIAL\",\"SOCIAL\",\"SOCIAL\",\"SOCIAL\",\"SOCIAL\",\"SOCIAL\",\"SOCIAL\",\"SOCIAL\",\"SOCIAL\",\"SOCIAL\",\"SOCIAL\",\"SOCIAL\",\"SOCIAL\",\"SOCIAL\",\"SOCIAL\",\"SOCIAL\",\"SOCIAL\",\"SOCIAL\",\"SOCIAL\",\"SOCIAL\",\"SOCIAL\",\"SOCIAL\",\"SOCIAL\",\"SOCIAL\",\"SOCIAL\",\"SOCIAL\",\"SOCIAL\",\"SOCIAL\",\"SOCIAL\",\"SOCIAL\",\"SOCIAL\",\"SOCIAL\",\"SOCIAL\",\"SOCIAL\",\"SOCIAL\",\"SOCIAL\",\"SOCIAL\",\"SOCIAL\",\"SOCIAL\",\"SOCIAL\",\"SOCIAL\",\"SOCIAL\",\"SOCIAL\",\"SOCIAL\",\"SOCIAL\",\"SOCIAL\",\"SOCIAL\",\"SOCIAL\",\"SOCIAL\",\"SOCIAL\",\"SOCIAL\",\"SOCIAL\",\"SOCIAL\",\"SOCIAL\",\"SOCIAL\",\"SOCIAL\",\"SOCIAL\",\"SOCIAL\",\"SOCIAL\",\"SOCIAL\",\"SOCIAL\",\"SOCIAL\",\"SOCIAL\",\"SOCIAL\",\"SOCIAL\",\"SOCIAL\",\"SOCIAL\",\"SOCIAL\",\"SOCIAL\",\"SOCIAL\",\"SOCIAL\",\"SOCIAL\",\"SOCIAL\",\"SOCIAL\",\"SOCIAL\",\"SOCIAL\",\"SOCIAL\",\"SOCIAL\",\"SOCIAL\",\"SOCIAL\",\"SOCIAL\",\"SOCIAL\",\"SOCIAL\",\"SOCIAL\",\"SOCIAL\",\"SOCIAL\",\"SHOPPING\",\"SHOPPING\",\"SHOPPING\",\"SHOPPING\",\"SHOPPING\",\"SHOPPING\",\"SHOPPING\",\"SHOPPING\",\"SHOPPING\",\"SHOPPING\",\"SHOPPING\",\"SHOPPING\",\"SHOPPING\",\"SHOPPING\",\"SHOPPING\",\"SHOPPING\",\"SHOPPING\",\"SHOPPING\",\"SHOPPING\",\"SHOPPING\",\"SHOPPING\",\"SHOPPING\",\"SHOPPING\",\"SHOPPING\",\"SHOPPING\",\"SHOPPING\",\"SHOPPING\",\"SHOPPING\",\"SHOPPING\",\"SHOPPING\",\"SHOPPING\",\"SHOPPING\",\"SHOPPING\",\"SHOPPING\",\"SHOPPING\",\"SHOPPING\",\"SHOPPING\",\"SHOPPING\",\"SHOPPING\",\"SHOPPING\",\"SHOPPING\",\"SHOPPING\",\"SHOPPING\",\"SHOPPING\",\"SHOPPING\",\"SHOPPING\",\"SHOPPING\",\"SHOPPING\",\"SHOPPING\",\"SHOPPING\",\"SHOPPING\",\"SHOPPING\",\"SHOPPING\",\"SHOPPING\",\"SHOPPING\",\"SHOPPING\",\"SHOPPING\",\"SHOPPING\",\"SHOPPING\",\"SHOPPING\",\"SHOPPING\",\"SHOPPING\",\"SHOPPING\",\"SHOPPING\",\"SHOPPING\",\"SHOPPING\",\"SHOPPING\",\"SHOPPING\",\"SHOPPING\",\"SHOPPING\",\"SHOPPING\",\"SHOPPING\",\"SHOPPING\",\"SHOPPING\",\"SHOPPING\",\"SHOPPING\",\"SHOPPING\",\"SHOPPING\",\"SHOPPING\",\"SHOPPING\",\"SHOPPING\",\"SHOPPING\",\"SHOPPING\",\"SHOPPING\",\"SHOPPING\",\"SHOPPING\",\"SHOPPING\",\"SHOPPING\",\"SHOPPING\",\"SHOPPING\",\"SHOPPING\",\"SHOPPING\",\"SHOPPING\",\"SHOPPING\",\"SHOPPING\",\"SHOPPING\",\"SHOPPING\",\"SHOPPING\",\"SHOPPING\",\"SHOPPING\",\"SHOPPING\",\"SHOPPING\",\"SHOPPING\",\"SHOPPING\",\"SHOPPING\",\"SHOPPING\",\"SHOPPING\",\"SHOPPING\",\"SHOPPING\",\"SHOPPING\",\"SHOPPING\",\"SHOPPING\",\"SHOPPING\",\"SHOPPING\",\"SHOPPING\",\"SHOPPING\",\"SHOPPING\",\"SHOPPING\",\"SHOPPING\",\"SHOPPING\",\"SHOPPING\",\"SHOPPING\",\"SHOPPING\",\"SHOPPING\",\"SHOPPING\",\"SHOPPING\",\"SHOPPING\",\"SHOPPING\",\"SHOPPING\",\"SHOPPING\",\"SHOPPING\",\"SHOPPING\",\"SHOPPING\",\"SHOPPING\",\"SHOPPING\",\"SHOPPING\",\"SHOPPING\",\"SHOPPING\",\"SHOPPING\",\"SHOPPING\",\"SHOPPING\",\"SHOPPING\",\"SHOPPING\",\"SHOPPING\",\"SHOPPING\",\"SHOPPING\",\"SHOPPING\",\"PHOTOGRAPHY\",\"PHOTOGRAPHY\",\"PHOTOGRAPHY\",\"PHOTOGRAPHY\",\"PHOTOGRAPHY\",\"PHOTOGRAPHY\",\"PHOTOGRAPHY\",\"PHOTOGRAPHY\",\"PHOTOGRAPHY\",\"PHOTOGRAPHY\",\"PHOTOGRAPHY\",\"PHOTOGRAPHY\",\"PHOTOGRAPHY\",\"PHOTOGRAPHY\",\"PHOTOGRAPHY\",\"PHOTOGRAPHY\",\"PHOTOGRAPHY\",\"PHOTOGRAPHY\",\"PHOTOGRAPHY\",\"PHOTOGRAPHY\",\"PHOTOGRAPHY\",\"PHOTOGRAPHY\",\"PHOTOGRAPHY\",\"PHOTOGRAPHY\",\"PHOTOGRAPHY\",\"PHOTOGRAPHY\",\"PHOTOGRAPHY\",\"PHOTOGRAPHY\",\"PHOTOGRAPHY\",\"PHOTOGRAPHY\",\"PHOTOGRAPHY\",\"PHOTOGRAPHY\",\"PHOTOGRAPHY\",\"PHOTOGRAPHY\",\"PHOTOGRAPHY\",\"PHOTOGRAPHY\",\"PHOTOGRAPHY\",\"PHOTOGRAPHY\",\"PHOTOGRAPHY\",\"PHOTOGRAPHY\",\"PHOTOGRAPHY\",\"PHOTOGRAPHY\",\"PHOTOGRAPHY\",\"PHOTOGRAPHY\",\"PHOTOGRAPHY\",\"PHOTOGRAPHY\",\"PHOTOGRAPHY\",\"PHOTOGRAPHY\",\"PHOTOGRAPHY\",\"PHOTOGRAPHY\",\"PHOTOGRAPHY\",\"PHOTOGRAPHY\",\"PHOTOGRAPHY\",\"PHOTOGRAPHY\",\"PHOTOGRAPHY\",\"PHOTOGRAPHY\",\"PHOTOGRAPHY\",\"PHOTOGRAPHY\",\"PHOTOGRAPHY\",\"PHOTOGRAPHY\",\"PHOTOGRAPHY\",\"PHOTOGRAPHY\",\"PHOTOGRAPHY\",\"PHOTOGRAPHY\",\"PHOTOGRAPHY\",\"PHOTOGRAPHY\",\"PHOTOGRAPHY\",\"PHOTOGRAPHY\",\"PHOTOGRAPHY\",\"PHOTOGRAPHY\",\"PHOTOGRAPHY\",\"PHOTOGRAPHY\",\"PHOTOGRAPHY\",\"PHOTOGRAPHY\",\"PHOTOGRAPHY\",\"PHOTOGRAPHY\",\"PHOTOGRAPHY\",\"PHOTOGRAPHY\",\"PHOTOGRAPHY\",\"PHOTOGRAPHY\",\"PHOTOGRAPHY\",\"PHOTOGRAPHY\",\"PHOTOGRAPHY\",\"PHOTOGRAPHY\",\"PHOTOGRAPHY\",\"PHOTOGRAPHY\",\"PHOTOGRAPHY\",\"PHOTOGRAPHY\",\"PHOTOGRAPHY\",\"PHOTOGRAPHY\",\"PHOTOGRAPHY\",\"PHOTOGRAPHY\",\"PHOTOGRAPHY\",\"PHOTOGRAPHY\",\"PHOTOGRAPHY\",\"PHOTOGRAPHY\",\"PHOTOGRAPHY\",\"PHOTOGRAPHY\",\"PHOTOGRAPHY\",\"PHOTOGRAPHY\",\"PHOTOGRAPHY\",\"PHOTOGRAPHY\",\"PHOTOGRAPHY\",\"PHOTOGRAPHY\",\"PHOTOGRAPHY\",\"PHOTOGRAPHY\",\"PHOTOGRAPHY\",\"PHOTOGRAPHY\",\"PHOTOGRAPHY\",\"PHOTOGRAPHY\",\"PHOTOGRAPHY\",\"PHOTOGRAPHY\",\"PHOTOGRAPHY\",\"PHOTOGRAPHY\",\"PHOTOGRAPHY\",\"PHOTOGRAPHY\",\"PHOTOGRAPHY\",\"PHOTOGRAPHY\",\"PHOTOGRAPHY\",\"PHOTOGRAPHY\",\"PHOTOGRAPHY\",\"PHOTOGRAPHY\",\"PHOTOGRAPHY\",\"PHOTOGRAPHY\",\"PHOTOGRAPHY\",\"PHOTOGRAPHY\",\"PHOTOGRAPHY\",\"PHOTOGRAPHY\",\"PHOTOGRAPHY\",\"PHOTOGRAPHY\",\"PHOTOGRAPHY\",\"PHOTOGRAPHY\",\"PHOTOGRAPHY\",\"PHOTOGRAPHY\",\"PHOTOGRAPHY\",\"PHOTOGRAPHY\",\"PHOTOGRAPHY\",\"PHOTOGRAPHY\",\"PHOTOGRAPHY\",\"PHOTOGRAPHY\",\"PHOTOGRAPHY\",\"PHOTOGRAPHY\",\"PHOTOGRAPHY\",\"PHOTOGRAPHY\",\"PHOTOGRAPHY\",\"PHOTOGRAPHY\",\"PHOTOGRAPHY\",\"PHOTOGRAPHY\",\"PHOTOGRAPHY\",\"PHOTOGRAPHY\",\"PHOTOGRAPHY\",\"PHOTOGRAPHY\",\"PHOTOGRAPHY\",\"SPORTS\",\"SPORTS\",\"SPORTS\",\"SPORTS\",\"SPORTS\",\"SPORTS\",\"SPORTS\",\"SPORTS\",\"SPORTS\",\"SPORTS\",\"SPORTS\",\"SPORTS\",\"SPORTS\",\"SPORTS\",\"SPORTS\",\"SPORTS\",\"SPORTS\",\"SPORTS\",\"SPORTS\",\"SPORTS\",\"SPORTS\",\"SPORTS\",\"SPORTS\",\"SPORTS\",\"SPORTS\",\"SPORTS\",\"SPORTS\",\"SPORTS\",\"SPORTS\",\"SPORTS\",\"SPORTS\",\"SPORTS\",\"SPORTS\",\"SPORTS\",\"SPORTS\",\"SPORTS\",\"SPORTS\",\"SPORTS\",\"SPORTS\",\"SPORTS\",\"SPORTS\",\"SPORTS\",\"SPORTS\",\"SPORTS\",\"SPORTS\",\"SPORTS\",\"SPORTS\",\"SPORTS\",\"SPORTS\",\"SPORTS\",\"SPORTS\",\"SPORTS\",\"SPORTS\",\"SPORTS\",\"SPORTS\",\"SPORTS\",\"SPORTS\",\"SPORTS\",\"SPORTS\",\"SPORTS\",\"SPORTS\",\"SPORTS\",\"SPORTS\",\"SPORTS\",\"SPORTS\",\"SPORTS\",\"SPORTS\",\"SPORTS\",\"SPORTS\",\"SPORTS\",\"SPORTS\",\"SPORTS\",\"SPORTS\",\"SPORTS\",\"SPORTS\",\"SPORTS\",\"SPORTS\",\"SPORTS\",\"SPORTS\",\"SPORTS\",\"SPORTS\",\"SPORTS\",\"SPORTS\",\"SPORTS\",\"SPORTS\",\"SPORTS\",\"SPORTS\",\"SPORTS\",\"SPORTS\",\"SPORTS\",\"SPORTS\",\"SPORTS\",\"SPORTS\",\"SPORTS\",\"SPORTS\",\"SPORTS\",\"SPORTS\",\"SPORTS\",\"SPORTS\",\"SPORTS\",\"SPORTS\",\"SPORTS\",\"SPORTS\",\"SPORTS\",\"SPORTS\",\"SPORTS\",\"SPORTS\",\"SPORTS\",\"SPORTS\",\"SPORTS\",\"SPORTS\",\"SPORTS\",\"SPORTS\",\"SPORTS\",\"SPORTS\",\"SPORTS\",\"SPORTS\",\"SPORTS\",\"SPORTS\",\"SPORTS\",\"SPORTS\",\"SPORTS\",\"SPORTS\",\"SPORTS\",\"SPORTS\",\"SPORTS\",\"SPORTS\",\"SPORTS\",\"SPORTS\",\"SPORTS\",\"SPORTS\",\"SPORTS\",\"SPORTS\",\"SPORTS\",\"SPORTS\",\"SPORTS\",\"SPORTS\",\"SPORTS\",\"SPORTS\",\"SPORTS\",\"SPORTS\",\"SPORTS\",\"TRAVEL_AND_LOCAL\",\"TRAVEL_AND_LOCAL\",\"TRAVEL_AND_LOCAL\",\"TRAVEL_AND_LOCAL\",\"TRAVEL_AND_LOCAL\",\"TRAVEL_AND_LOCAL\",\"TRAVEL_AND_LOCAL\",\"TRAVEL_AND_LOCAL\",\"TRAVEL_AND_LOCAL\",\"TRAVEL_AND_LOCAL\",\"TRAVEL_AND_LOCAL\",\"TRAVEL_AND_LOCAL\",\"TRAVEL_AND_LOCAL\",\"TRAVEL_AND_LOCAL\",\"TRAVEL_AND_LOCAL\",\"TRAVEL_AND_LOCAL\",\"TRAVEL_AND_LOCAL\",\"TRAVEL_AND_LOCAL\",\"TRAVEL_AND_LOCAL\",\"TRAVEL_AND_LOCAL\",\"TRAVEL_AND_LOCAL\",\"TRAVEL_AND_LOCAL\",\"TRAVEL_AND_LOCAL\",\"TRAVEL_AND_LOCAL\",\"TRAVEL_AND_LOCAL\",\"TRAVEL_AND_LOCAL\",\"TRAVEL_AND_LOCAL\",\"TRAVEL_AND_LOCAL\",\"TRAVEL_AND_LOCAL\",\"TRAVEL_AND_LOCAL\",\"TRAVEL_AND_LOCAL\",\"TRAVEL_AND_LOCAL\",\"TRAVEL_AND_LOCAL\",\"TRAVEL_AND_LOCAL\",\"TRAVEL_AND_LOCAL\",\"TRAVEL_AND_LOCAL\",\"TRAVEL_AND_LOCAL\",\"TRAVEL_AND_LOCAL\",\"TRAVEL_AND_LOCAL\",\"TRAVEL_AND_LOCAL\",\"TRAVEL_AND_LOCAL\",\"TRAVEL_AND_LOCAL\",\"TRAVEL_AND_LOCAL\",\"TRAVEL_AND_LOCAL\",\"TRAVEL_AND_LOCAL\",\"TRAVEL_AND_LOCAL\",\"TRAVEL_AND_LOCAL\",\"TRAVEL_AND_LOCAL\",\"TRAVEL_AND_LOCAL\",\"TRAVEL_AND_LOCAL\",\"TRAVEL_AND_LOCAL\",\"TRAVEL_AND_LOCAL\",\"TRAVEL_AND_LOCAL\",\"TRAVEL_AND_LOCAL\",\"TRAVEL_AND_LOCAL\",\"TRAVEL_AND_LOCAL\",\"TRAVEL_AND_LOCAL\",\"TRAVEL_AND_LOCAL\",\"TRAVEL_AND_LOCAL\",\"TRAVEL_AND_LOCAL\",\"TRAVEL_AND_LOCAL\",\"TRAVEL_AND_LOCAL\",\"TRAVEL_AND_LOCAL\",\"TRAVEL_AND_LOCAL\",\"TRAVEL_AND_LOCAL\",\"TRAVEL_AND_LOCAL\",\"TRAVEL_AND_LOCAL\",\"TRAVEL_AND_LOCAL\",\"TRAVEL_AND_LOCAL\",\"TRAVEL_AND_LOCAL\",\"TRAVEL_AND_LOCAL\",\"TRAVEL_AND_LOCAL\",\"TRAVEL_AND_LOCAL\",\"TRAVEL_AND_LOCAL\",\"TRAVEL_AND_LOCAL\",\"TRAVEL_AND_LOCAL\",\"TRAVEL_AND_LOCAL\",\"TRAVEL_AND_LOCAL\",\"TRAVEL_AND_LOCAL\",\"TRAVEL_AND_LOCAL\",\"TRAVEL_AND_LOCAL\",\"TRAVEL_AND_LOCAL\",\"TRAVEL_AND_LOCAL\",\"TRAVEL_AND_LOCAL\",\"TRAVEL_AND_LOCAL\",\"TRAVEL_AND_LOCAL\",\"TRAVEL_AND_LOCAL\",\"TRAVEL_AND_LOCAL\",\"TRAVEL_AND_LOCAL\",\"TRAVEL_AND_LOCAL\",\"TRAVEL_AND_LOCAL\",\"TRAVEL_AND_LOCAL\",\"TRAVEL_AND_LOCAL\",\"TRAVEL_AND_LOCAL\",\"TRAVEL_AND_LOCAL\",\"TRAVEL_AND_LOCAL\",\"TRAVEL_AND_LOCAL\",\"TRAVEL_AND_LOCAL\",\"TRAVEL_AND_LOCAL\",\"TRAVEL_AND_LOCAL\",\"TRAVEL_AND_LOCAL\",\"TRAVEL_AND_LOCAL\",\"TRAVEL_AND_LOCAL\",\"TRAVEL_AND_LOCAL\",\"TRAVEL_AND_LOCAL\",\"TRAVEL_AND_LOCAL\",\"TRAVEL_AND_LOCAL\",\"TRAVEL_AND_LOCAL\",\"TRAVEL_AND_LOCAL\",\"TRAVEL_AND_LOCAL\",\"TRAVEL_AND_LOCAL\",\"TRAVEL_AND_LOCAL\",\"TRAVEL_AND_LOCAL\",\"TRAVEL_AND_LOCAL\",\"TRAVEL_AND_LOCAL\",\"TRAVEL_AND_LOCAL\",\"TRAVEL_AND_LOCAL\",\"TRAVEL_AND_LOCAL\",\"TRAVEL_AND_LOCAL\",\"TRAVEL_AND_LOCAL\",\"TRAVEL_AND_LOCAL\",\"TRAVEL_AND_LOCAL\",\"TRAVEL_AND_LOCAL\",\"TRAVEL_AND_LOCAL\",\"TRAVEL_AND_LOCAL\",\"TRAVEL_AND_LOCAL\",\"TRAVEL_AND_LOCAL\",\"TRAVEL_AND_LOCAL\",\"TRAVEL_AND_LOCAL\",\"TRAVEL_AND_LOCAL\",\"TRAVEL_AND_LOCAL\",\"TOOLS\",\"TOOLS\",\"TOOLS\",\"TOOLS\",\"TOOLS\",\"TOOLS\",\"TOOLS\",\"TOOLS\",\"TOOLS\",\"TOOLS\",\"TOOLS\",\"TOOLS\",\"TOOLS\",\"TOOLS\",\"TOOLS\",\"TOOLS\",\"TOOLS\",\"TOOLS\",\"TOOLS\",\"TOOLS\",\"TOOLS\",\"TOOLS\",\"TOOLS\",\"TOOLS\",\"TOOLS\",\"TOOLS\",\"TOOLS\",\"TOOLS\",\"TOOLS\",\"TOOLS\",\"TOOLS\",\"TOOLS\",\"TOOLS\",\"TOOLS\",\"TOOLS\",\"TOOLS\",\"TOOLS\",\"TOOLS\",\"TOOLS\",\"TOOLS\",\"TOOLS\",\"TOOLS\",\"TOOLS\",\"TOOLS\",\"TOOLS\",\"TOOLS\",\"TOOLS\",\"TOOLS\",\"TOOLS\",\"TOOLS\",\"TOOLS\",\"TOOLS\",\"TOOLS\",\"TOOLS\",\"TOOLS\",\"TOOLS\",\"TOOLS\",\"TOOLS\",\"TOOLS\",\"TOOLS\",\"TOOLS\",\"TOOLS\",\"TOOLS\",\"TOOLS\",\"TOOLS\",\"TOOLS\",\"TOOLS\",\"TOOLS\",\"TOOLS\",\"TOOLS\",\"TOOLS\",\"TOOLS\",\"TOOLS\",\"TOOLS\",\"TOOLS\",\"TOOLS\",\"TOOLS\",\"TOOLS\",\"TOOLS\",\"TOOLS\",\"TOOLS\",\"TOOLS\",\"TOOLS\",\"TOOLS\",\"TOOLS\",\"TOOLS\",\"TOOLS\",\"TOOLS\",\"TOOLS\",\"TOOLS\",\"TOOLS\",\"TOOLS\",\"TOOLS\",\"TOOLS\",\"TOOLS\",\"TOOLS\",\"TOOLS\",\"TOOLS\",\"TOOLS\",\"TOOLS\",\"TOOLS\",\"TOOLS\",\"TOOLS\",\"TOOLS\",\"TOOLS\",\"TOOLS\",\"TOOLS\",\"TOOLS\",\"TOOLS\",\"TOOLS\",\"TOOLS\",\"TOOLS\",\"TOOLS\",\"TOOLS\",\"TOOLS\",\"TOOLS\",\"TOOLS\",\"TOOLS\",\"TOOLS\",\"PERSONALIZATION\",\"PERSONALIZATION\",\"PERSONALIZATION\",\"PERSONALIZATION\",\"PERSONALIZATION\",\"PERSONALIZATION\",\"PERSONALIZATION\",\"PERSONALIZATION\",\"PERSONALIZATION\",\"PERSONALIZATION\",\"PERSONALIZATION\",\"PERSONALIZATION\",\"PERSONALIZATION\",\"PERSONALIZATION\",\"PERSONALIZATION\",\"PERSONALIZATION\",\"PERSONALIZATION\",\"PERSONALIZATION\",\"PERSONALIZATION\",\"PERSONALIZATION\",\"PERSONALIZATION\",\"PERSONALIZATION\",\"PERSONALIZATION\",\"PERSONALIZATION\",\"PERSONALIZATION\",\"PERSONALIZATION\",\"PERSONALIZATION\",\"PERSONALIZATION\",\"PERSONALIZATION\",\"PERSONALIZATION\",\"PERSONALIZATION\",\"PERSONALIZATION\",\"PERSONALIZATION\",\"PERSONALIZATION\",\"PERSONALIZATION\",\"PERSONALIZATION\",\"PERSONALIZATION\",\"PERSONALIZATION\",\"PERSONALIZATION\",\"PERSONALIZATION\",\"PERSONALIZATION\",\"PERSONALIZATION\",\"PERSONALIZATION\",\"PERSONALIZATION\",\"PERSONALIZATION\",\"PERSONALIZATION\",\"PERSONALIZATION\",\"PERSONALIZATION\",\"PERSONALIZATION\",\"PERSONALIZATION\",\"PERSONALIZATION\",\"PERSONALIZATION\",\"PERSONALIZATION\",\"PERSONALIZATION\",\"PERSONALIZATION\",\"PERSONALIZATION\",\"PERSONALIZATION\",\"PERSONALIZATION\",\"PERSONALIZATION\",\"PERSONALIZATION\",\"PERSONALIZATION\",\"PERSONALIZATION\",\"PERSONALIZATION\",\"PERSONALIZATION\",\"PERSONALIZATION\",\"PERSONALIZATION\",\"PERSONALIZATION\",\"PERSONALIZATION\",\"PERSONALIZATION\",\"PERSONALIZATION\",\"PERSONALIZATION\",\"PERSONALIZATION\",\"PERSONALIZATION\",\"PERSONALIZATION\",\"PERSONALIZATION\",\"PERSONALIZATION\",\"PERSONALIZATION\",\"PERSONALIZATION\",\"PERSONALIZATION\",\"PERSONALIZATION\",\"PERSONALIZATION\",\"PERSONALIZATION\",\"PERSONALIZATION\",\"PERSONALIZATION\",\"PERSONALIZATION\",\"PERSONALIZATION\",\"PERSONALIZATION\",\"PERSONALIZATION\",\"PERSONALIZATION\",\"PERSONALIZATION\",\"PERSONALIZATION\",\"PERSONALIZATION\",\"PERSONALIZATION\",\"PRODUCTIVITY\",\"PRODUCTIVITY\",\"PRODUCTIVITY\",\"PRODUCTIVITY\",\"PRODUCTIVITY\",\"PRODUCTIVITY\",\"PRODUCTIVITY\",\"PRODUCTIVITY\",\"PRODUCTIVITY\",\"PRODUCTIVITY\",\"PRODUCTIVITY\",\"PRODUCTIVITY\",\"PRODUCTIVITY\",\"PRODUCTIVITY\",\"PRODUCTIVITY\",\"PRODUCTIVITY\",\"PRODUCTIVITY\",\"PRODUCTIVITY\",\"PRODUCTIVITY\",\"PRODUCTIVITY\",\"PRODUCTIVITY\",\"PRODUCTIVITY\",\"PRODUCTIVITY\",\"PRODUCTIVITY\",\"PRODUCTIVITY\",\"PRODUCTIVITY\",\"PRODUCTIVITY\",\"PRODUCTIVITY\",\"PRODUCTIVITY\",\"PRODUCTIVITY\",\"PRODUCTIVITY\",\"PRODUCTIVITY\",\"PRODUCTIVITY\",\"PRODUCTIVITY\",\"PRODUCTIVITY\",\"PRODUCTIVITY\",\"PRODUCTIVITY\",\"PRODUCTIVITY\",\"PRODUCTIVITY\",\"PRODUCTIVITY\",\"PRODUCTIVITY\",\"PRODUCTIVITY\",\"PRODUCTIVITY\",\"PRODUCTIVITY\",\"PRODUCTIVITY\",\"PRODUCTIVITY\",\"PRODUCTIVITY\",\"PRODUCTIVITY\",\"PRODUCTIVITY\",\"PRODUCTIVITY\",\"PRODUCTIVITY\",\"PRODUCTIVITY\",\"PRODUCTIVITY\",\"PRODUCTIVITY\",\"PRODUCTIVITY\",\"PRODUCTIVITY\",\"PRODUCTIVITY\",\"PRODUCTIVITY\",\"PRODUCTIVITY\",\"PRODUCTIVITY\",\"PRODUCTIVITY\",\"PRODUCTIVITY\",\"PRODUCTIVITY\",\"PRODUCTIVITY\",\"PRODUCTIVITY\",\"PRODUCTIVITY\",\"PRODUCTIVITY\",\"PRODUCTIVITY\",\"PRODUCTIVITY\",\"PRODUCTIVITY\",\"PRODUCTIVITY\",\"PRODUCTIVITY\",\"PRODUCTIVITY\",\"PRODUCTIVITY\",\"PRODUCTIVITY\",\"PRODUCTIVITY\",\"PRODUCTIVITY\",\"PRODUCTIVITY\",\"PRODUCTIVITY\",\"PRODUCTIVITY\",\"PRODUCTIVITY\",\"PRODUCTIVITY\",\"PRODUCTIVITY\",\"PRODUCTIVITY\",\"PRODUCTIVITY\",\"PRODUCTIVITY\",\"PRODUCTIVITY\",\"PRODUCTIVITY\",\"PRODUCTIVITY\",\"PRODUCTIVITY\",\"PRODUCTIVITY\",\"PRODUCTIVITY\",\"PRODUCTIVITY\",\"PRODUCTIVITY\",\"PRODUCTIVITY\",\"PRODUCTIVITY\",\"PRODUCTIVITY\",\"PRODUCTIVITY\",\"PRODUCTIVITY\",\"PRODUCTIVITY\",\"PRODUCTIVITY\",\"PRODUCTIVITY\",\"PRODUCTIVITY\",\"PRODUCTIVITY\",\"PRODUCTIVITY\",\"PRODUCTIVITY\",\"PRODUCTIVITY\",\"PRODUCTIVITY\",\"PRODUCTIVITY\",\"PRODUCTIVITY\",\"PRODUCTIVITY\",\"PRODUCTIVITY\",\"PRODUCTIVITY\",\"PRODUCTIVITY\",\"PRODUCTIVITY\",\"PRODUCTIVITY\",\"PRODUCTIVITY\",\"PRODUCTIVITY\",\"PRODUCTIVITY\",\"PRODUCTIVITY\",\"PRODUCTIVITY\",\"PRODUCTIVITY\",\"PRODUCTIVITY\",\"PRODUCTIVITY\",\"PARENTING\",\"PARENTING\",\"PARENTING\",\"PARENTING\",\"PARENTING\",\"PARENTING\",\"PARENTING\",\"PARENTING\",\"PARENTING\",\"PARENTING\",\"PARENTING\",\"PARENTING\",\"PARENTING\",\"PARENTING\",\"PARENTING\",\"PARENTING\",\"PARENTING\",\"PARENTING\",\"PARENTING\",\"PARENTING\",\"PARENTING\",\"PARENTING\",\"PARENTING\",\"PARENTING\",\"PARENTING\",\"PARENTING\",\"PARENTING\",\"PARENTING\",\"PARENTING\",\"PARENTING\",\"PARENTING\",\"PARENTING\",\"PARENTING\",\"PARENTING\",\"PARENTING\",\"PARENTING\",\"PARENTING\",\"PARENTING\",\"PARENTING\",\"PARENTING\",\"PARENTING\",\"PARENTING\",\"PARENTING\",\"PARENTING\",\"PARENTING\",\"PARENTING\",\"PARENTING\",\"PARENTING\",\"PARENTING\",\"PARENTING\",\"PARENTING\",\"WEATHER\",\"WEATHER\",\"WEATHER\",\"WEATHER\",\"WEATHER\",\"WEATHER\",\"WEATHER\",\"WEATHER\",\"WEATHER\",\"WEATHER\",\"WEATHER\",\"WEATHER\",\"WEATHER\",\"WEATHER\",\"WEATHER\",\"WEATHER\",\"WEATHER\",\"WEATHER\",\"WEATHER\",\"WEATHER\",\"WEATHER\",\"WEATHER\",\"WEATHER\",\"WEATHER\",\"WEATHER\",\"WEATHER\",\"WEATHER\",\"WEATHER\",\"WEATHER\",\"WEATHER\",\"WEATHER\",\"WEATHER\",\"WEATHER\",\"WEATHER\",\"WEATHER\",\"WEATHER\",\"WEATHER\",\"WEATHER\",\"VIDEO_PLAYERS\",\"VIDEO_PLAYERS\",\"VIDEO_PLAYERS\",\"VIDEO_PLAYERS\",\"VIDEO_PLAYERS\",\"VIDEO_PLAYERS\",\"VIDEO_PLAYERS\",\"VIDEO_PLAYERS\",\"VIDEO_PLAYERS\",\"VIDEO_PLAYERS\",\"VIDEO_PLAYERS\",\"VIDEO_PLAYERS\",\"VIDEO_PLAYERS\",\"VIDEO_PLAYERS\",\"VIDEO_PLAYERS\",\"VIDEO_PLAYERS\",\"VIDEO_PLAYERS\",\"VIDEO_PLAYERS\",\"VIDEO_PLAYERS\",\"VIDEO_PLAYERS\",\"VIDEO_PLAYERS\",\"VIDEO_PLAYERS\",\"VIDEO_PLAYERS\",\"VIDEO_PLAYERS\",\"VIDEO_PLAYERS\",\"VIDEO_PLAYERS\",\"VIDEO_PLAYERS\",\"VIDEO_PLAYERS\",\"VIDEO_PLAYERS\",\"VIDEO_PLAYERS\",\"VIDEO_PLAYERS\",\"VIDEO_PLAYERS\",\"VIDEO_PLAYERS\",\"VIDEO_PLAYERS\",\"VIDEO_PLAYERS\",\"VIDEO_PLAYERS\",\"VIDEO_PLAYERS\",\"VIDEO_PLAYERS\",\"VIDEO_PLAYERS\",\"VIDEO_PLAYERS\",\"VIDEO_PLAYERS\",\"VIDEO_PLAYERS\",\"VIDEO_PLAYERS\",\"VIDEO_PLAYERS\",\"VIDEO_PLAYERS\",\"VIDEO_PLAYERS\",\"VIDEO_PLAYERS\",\"VIDEO_PLAYERS\",\"VIDEO_PLAYERS\",\"VIDEO_PLAYERS\",\"NEWS_AND_MAGAZINES\",\"NEWS_AND_MAGAZINES\",\"NEWS_AND_MAGAZINES\",\"NEWS_AND_MAGAZINES\",\"NEWS_AND_MAGAZINES\",\"NEWS_AND_MAGAZINES\",\"NEWS_AND_MAGAZINES\",\"NEWS_AND_MAGAZINES\",\"NEWS_AND_MAGAZINES\",\"NEWS_AND_MAGAZINES\",\"NEWS_AND_MAGAZINES\",\"NEWS_AND_MAGAZINES\",\"NEWS_AND_MAGAZINES\",\"NEWS_AND_MAGAZINES\",\"NEWS_AND_MAGAZINES\",\"NEWS_AND_MAGAZINES\",\"NEWS_AND_MAGAZINES\",\"NEWS_AND_MAGAZINES\",\"NEWS_AND_MAGAZINES\",\"NEWS_AND_MAGAZINES\",\"NEWS_AND_MAGAZINES\",\"NEWS_AND_MAGAZINES\",\"NEWS_AND_MAGAZINES\",\"NEWS_AND_MAGAZINES\",\"NEWS_AND_MAGAZINES\",\"NEWS_AND_MAGAZINES\",\"NEWS_AND_MAGAZINES\",\"NEWS_AND_MAGAZINES\",\"NEWS_AND_MAGAZINES\",\"NEWS_AND_MAGAZINES\",\"NEWS_AND_MAGAZINES\",\"NEWS_AND_MAGAZINES\",\"NEWS_AND_MAGAZINES\",\"NEWS_AND_MAGAZINES\",\"NEWS_AND_MAGAZINES\",\"NEWS_AND_MAGAZINES\",\"NEWS_AND_MAGAZINES\",\"NEWS_AND_MAGAZINES\",\"NEWS_AND_MAGAZINES\",\"NEWS_AND_MAGAZINES\",\"NEWS_AND_MAGAZINES\",\"NEWS_AND_MAGAZINES\",\"NEWS_AND_MAGAZINES\",\"NEWS_AND_MAGAZINES\",\"NEWS_AND_MAGAZINES\",\"NEWS_AND_MAGAZINES\",\"NEWS_AND_MAGAZINES\",\"NEWS_AND_MAGAZINES\",\"NEWS_AND_MAGAZINES\",\"NEWS_AND_MAGAZINES\",\"NEWS_AND_MAGAZINES\",\"NEWS_AND_MAGAZINES\",\"NEWS_AND_MAGAZINES\",\"NEWS_AND_MAGAZINES\",\"NEWS_AND_MAGAZINES\",\"NEWS_AND_MAGAZINES\",\"NEWS_AND_MAGAZINES\",\"NEWS_AND_MAGAZINES\",\"NEWS_AND_MAGAZINES\",\"NEWS_AND_MAGAZINES\",\"NEWS_AND_MAGAZINES\",\"NEWS_AND_MAGAZINES\",\"NEWS_AND_MAGAZINES\",\"NEWS_AND_MAGAZINES\",\"NEWS_AND_MAGAZINES\",\"NEWS_AND_MAGAZINES\",\"NEWS_AND_MAGAZINES\",\"NEWS_AND_MAGAZINES\",\"NEWS_AND_MAGAZINES\",\"NEWS_AND_MAGAZINES\",\"NEWS_AND_MAGAZINES\",\"NEWS_AND_MAGAZINES\",\"NEWS_AND_MAGAZINES\",\"NEWS_AND_MAGAZINES\",\"NEWS_AND_MAGAZINES\",\"NEWS_AND_MAGAZINES\",\"NEWS_AND_MAGAZINES\",\"NEWS_AND_MAGAZINES\",\"NEWS_AND_MAGAZINES\",\"NEWS_AND_MAGAZINES\",\"NEWS_AND_MAGAZINES\",\"NEWS_AND_MAGAZINES\",\"NEWS_AND_MAGAZINES\",\"NEWS_AND_MAGAZINES\",\"NEWS_AND_MAGAZINES\",\"NEWS_AND_MAGAZINES\",\"NEWS_AND_MAGAZINES\",\"NEWS_AND_MAGAZINES\",\"NEWS_AND_MAGAZINES\",\"NEWS_AND_MAGAZINES\",\"NEWS_AND_MAGAZINES\",\"NEWS_AND_MAGAZINES\",\"NEWS_AND_MAGAZINES\",\"NEWS_AND_MAGAZINES\",\"NEWS_AND_MAGAZINES\",\"NEWS_AND_MAGAZINES\",\"NEWS_AND_MAGAZINES\",\"NEWS_AND_MAGAZINES\",\"NEWS_AND_MAGAZINES\",\"NEWS_AND_MAGAZINES\",\"NEWS_AND_MAGAZINES\",\"NEWS_AND_MAGAZINES\",\"NEWS_AND_MAGAZINES\",\"NEWS_AND_MAGAZINES\",\"NEWS_AND_MAGAZINES\",\"MAPS_AND_NAVIGATION\",\"MAPS_AND_NAVIGATION\",\"MAPS_AND_NAVIGATION\",\"MAPS_AND_NAVIGATION\",\"MAPS_AND_NAVIGATION\",\"MAPS_AND_NAVIGATION\",\"MAPS_AND_NAVIGATION\",\"MAPS_AND_NAVIGATION\",\"MAPS_AND_NAVIGATION\",\"MAPS_AND_NAVIGATION\",\"MAPS_AND_NAVIGATION\",\"MAPS_AND_NAVIGATION\",\"MAPS_AND_NAVIGATION\",\"MAPS_AND_NAVIGATION\",\"MAPS_AND_NAVIGATION\",\"MAPS_AND_NAVIGATION\",\"MAPS_AND_NAVIGATION\",\"MAPS_AND_NAVIGATION\",\"MAPS_AND_NAVIGATION\",\"MAPS_AND_NAVIGATION\",\"MAPS_AND_NAVIGATION\",\"MAPS_AND_NAVIGATION\",\"MAPS_AND_NAVIGATION\",\"MAPS_AND_NAVIGATION\",\"MAPS_AND_NAVIGATION\",\"MAPS_AND_NAVIGATION\",\"MAPS_AND_NAVIGATION\",\"MAPS_AND_NAVIGATION\",\"MAPS_AND_NAVIGATION\",\"MAPS_AND_NAVIGATION\",\"MAPS_AND_NAVIGATION\",\"MAPS_AND_NAVIGATION\",\"MAPS_AND_NAVIGATION\",\"MAPS_AND_NAVIGATION\",\"MAPS_AND_NAVIGATION\",\"MAPS_AND_NAVIGATION\",\"MAPS_AND_NAVIGATION\",\"MAPS_AND_NAVIGATION\",\"MAPS_AND_NAVIGATION\",\"MAPS_AND_NAVIGATION\",\"MAPS_AND_NAVIGATION\",\"MAPS_AND_NAVIGATION\",\"MAPS_AND_NAVIGATION\",\"MAPS_AND_NAVIGATION\",\"MAPS_AND_NAVIGATION\",\"MAPS_AND_NAVIGATION\",\"MAPS_AND_NAVIGATION\",\"MAPS_AND_NAVIGATION\",\"MAPS_AND_NAVIGATION\",\"MAPS_AND_NAVIGATION\",\"SOCIAL\",\"TOOLS\",\"FAMILY\",\"FAMILY\",\"GAME\",\"FAMILY\",\"GAME\",\"FAMILY\",\"FAMILY\",\"FAMILY\",\"GAME\",\"FAMILY\",\"FINANCE\",\"GAME\",\"FAMILY\",\"GAME\",\"FAMILY\",\"FAMILY\",\"FAMILY\",\"FAMILY\",\"FAMILY\",\"FAMILY\",\"COMMUNICATION\",\"GAME\",\"GAME\",\"PRODUCTIVITY\",\"GAME\",\"GAME\",\"GAME\",\"COMMUNICATION\",\"FAMILY\",\"FAMILY\",\"FAMILY\",\"FAMILY\",\"COMMUNICATION\",\"VIDEO_PLAYERS\",\"GAME\",\"TOOLS\",\"GAME\",\"SOCIAL\",\"FAMILY\",\"FAMILY\",\"GAME\",\"GAME\",\"SPORTS\",\"FAMILY\",\"GAME\",\"FAMILY\",\"GAME\",\"GAME\",\"FAMILY\",\"GAME\",\"SHOPPING\",\"FAMILY\",\"PRODUCTIVITY\",\"FAMILY\",\"FOOD_AND_DRINK\",\"GAME\",\"VIDEO_PLAYERS\",\"GAME\",\"FAMILY\",\"FAMILY\",\"PRODUCTIVITY\",\"FAMILY\",\"PRODUCTIVITY\",\"FAMILY\",\"GAME\",\"FINANCE\",\"GAME\",\"SPORTS\",\"GAME\",\"BOOKS_AND_REFERENCE\",\"FAMILY\",\"SOCIAL\",\"GAME\",\"SOCIAL\",\"PHOTOGRAPHY\",\"FAMILY\",\"SOCIAL\",\"PHOTOGRAPHY\",\"FINANCE\",\"SOCIAL\",\"FAMILY\",\"SPORTS\",\"TOOLS\",\"GAME\",\"TOOLS\",\"GAME\",\"GAME\",\"FOOD_AND_DRINK\",\"LIFESTYLE\",\"HEALTH_AND_FITNESS\",\"GAME\",\"TOOLS\",\"MEDICAL\",\"COMMUNICATION\",\"TRAVEL_AND_LOCAL\",\"GAME\",\"GAME\",\"FAMILY\",\"LIFESTYLE\",\"PERSONALIZATION\",\"MAPS_AND_NAVIGATION\",\"FAMILY\",\"PHOTOGRAPHY\",\"ART_AND_DESIGN\",\"MAPS_AND_NAVIGATION\",\"PERSONALIZATION\",\"FAMILY\",\"FAMILY\",\"FAMILY\",\"FAMILY\",\"FAMILY\",\"FAMILY\",\"GAME\",\"FAMILY\",\"SHOPPING\",\"COMMUNICATION\",\"BOOKS_AND_REFERENCE\",\"FAMILY\",\"PERSONALIZATION\",\"FAMILY\",\"BOOKS_AND_REFERENCE\",\"FAMILY\",\"TOOLS\",\"LIFESTYLE\",\"LIFESTYLE\",\"PRODUCTIVITY\",\"FAMILY\",\"TOOLS\",\"LIFESTYLE\",\"PRODUCTIVITY\",\"FAMILY\",\"FAMILY\",\"FAMILY\",\"FAMILY\",\"GAME\",\"FAMILY\",\"FAMILY\",\"FAMILY\",\"BOOKS_AND_REFERENCE\",\"FAMILY\",\"FAMILY\",\"FAMILY\",\"FAMILY\",\"FAMILY\",\"FAMILY\",\"FAMILY\",\"FAMILY\",\"FAMILY\",\"PERSONALIZATION\",\"VIDEO_PLAYERS\",\"COMMUNICATION\",\"GAME\",\"FAMILY\",\"GAME\",\"VIDEO_PLAYERS\",\"COMMUNICATION\",\"GAME\",\"GAME\",\"GAME\",\"GAME\",\"GAME\",\"GAME\",\"GAME\",\"PRODUCTIVITY\",\"VIDEO_PLAYERS\",\"FAMILY\",\"GAME\",\"GAME\",\"FAMILY\",\"SPORTS\",\"FAMILY\",\"SPORTS\",\"PERSONALIZATION\",\"GAME\",\"FAMILY\",\"GAME\",\"FAMILY\",\"TOOLS\",\"TOOLS\",\"FAMILY\",\"FAMILY\",\"NEWS_AND_MAGAZINES\",\"SHOPPING\",\"SPORTS\",\"FAMILY\",\"FAMILY\",\"PRODUCTIVITY\",\"FAMILY\",\"COMMUNICATION\",\"FINANCE\",\"FAMILY\",\"FAMILY\",\"LIFESTYLE\",\"PRODUCTIVITY\",\"TOOLS\",\"FAMILY\",\"SOCIAL\",\"BOOKS_AND_REFERENCE\",\"PRODUCTIVITY\",\"COMMUNICATION\",\"PRODUCTIVITY\",\"SOCIAL\",\"FAMILY\",\"SHOPPING\",\"SPORTS\",\"PRODUCTIVITY\",\"BOOKS_AND_REFERENCE\",\"PRODUCTIVITY\",\"BOOKS_AND_REFERENCE\",\"COMMUNICATION\",\"FINANCE\",\"TRAVEL_AND_LOCAL\",\"SHOPPING\",\"BOOKS_AND_REFERENCE\",\"SHOPPING\",\"SHOPPING\",\"FINANCE\",\"COMMUNICATION\",\"SOCIAL\",\"COMMUNICATION\",\"TOOLS\",\"FAMILY\",\"PHOTOGRAPHY\",\"FAMILY\",\"TOOLS\",\"TOOLS\",\"GAME\",\"NEWS_AND_MAGAZINES\",\"TOOLS\",\"PRODUCTIVITY\",\"PRODUCTIVITY\",\"TOOLS\",\"AUTO_AND_VEHICLES\",\"TOOLS\",\"COMMUNICATION\",\"COMMUNICATION\",\"TOOLS\",\"LIFESTYLE\",\"FAMILY\",\"WEATHER\",\"FINANCE\",\"TOOLS\",\"FAMILY\",\"BUSINESS\",\"BUSINESS\",\"HEALTH_AND_FITNESS\",\"GAME\",\"TOOLS\",\"BUSINESS\",\"SOCIAL\",\"GAME\",\"GAME\",\"TOOLS\",\"GAME\",\"FAMILY\",\"TOOLS\",\"TOOLS\",\"GAME\",\"COMMUNICATION\",\"GAME\",\"GAME\",\"SOCIAL\",\"SPORTS\",\"PRODUCTIVITY\",\"GAME\",\"FAMILY\",\"LIFESTYLE\",\"MAPS_AND_NAVIGATION\",\"LIFESTYLE\",\"PRODUCTIVITY\",\"LIFESTYLE\",\"TOOLS\",\"GAME\",\"HOUSE_AND_HOME\",\"TOOLS\",\"GAME\",\"TOOLS\",\"FAMILY\",\"LIFESTYLE\",\"FAMILY\",\"HEALTH_AND_FITNESS\",\"GAME\",\"TOOLS\",\"GAME\",\"ART_AND_DESIGN\",\"HEALTH_AND_FITNESS\",\"DATING\",\"HEALTH_AND_FITNESS\",\"COMMUNICATION\",\"FAMILY\",\"FAMILY\",\"SOCIAL\",\"HEALTH_AND_FITNESS\",\"FAMILY\",\"HOUSE_AND_HOME\",\"PERSONALIZATION\",\"GAME\",\"PERSONALIZATION\",\"FAMILY\",\"PRODUCTIVITY\",\"FAMILY\",\"PRODUCTIVITY\",\"FAMILY\",\"BUSINESS\",\"TOOLS\",\"FAMILY\",\"GAME\",\"GAME\",\"TOOLS\",\"COMMUNICATION\",\"FAMILY\",\"COMMUNICATION\",\"FAMILY\",\"FAMILY\",\"GAME\",\"TOOLS\",\"FAMILY\",\"PHOTOGRAPHY\",\"GAME\",\"SOCIAL\",\"GAME\",\"COMMUNICATION\",\"GAME\",\"SPORTS\",\"FAMILY\",\"SOCIAL\",\"COMMUNICATION\",\"SOCIAL\",\"ART_AND_DESIGN\",\"SOCIAL\",\"GAME\",\"GAME\",\"SOCIAL\",\"FAMILY\",\"FAMILY\",\"GAME\",\"GAME\",\"TOOLS\",\"FAMILY\",\"GAME\",\"HEALTH_AND_FITNESS\",\"FAMILY\",\"FAMILY\",\"SPORTS\",\"FAMILY\",\"SOCIAL\",\"FAMILY\",\"FAMILY\",\"FAMILY\",\"PERSONALIZATION\",\"PERSONALIZATION\",\"FAMILY\",\"TOOLS\",\"FAMILY\",\"GAME\",\"GAME\",\"GAME\",\"FAMILY\",\"PRODUCTIVITY\",\"FAMILY\",\"PERSONALIZATION\",\"PERSONALIZATION\",\"PERSONALIZATION\",\"PERSONALIZATION\",\"COMMUNICATION\",\"HEALTH_AND_FITNESS\",\"SHOPPING\",\"COMMUNICATION\",\"PHOTOGRAPHY\",\"GAME\",\"FAMILY\",\"FINANCE\",\"PERSONALIZATION\",\"SOCIAL\",\"TOOLS\",\"FAMILY\",\"SOCIAL\",\"TOOLS\",\"FAMILY\",\"FAMILY\",\"FAMILY\",\"FAMILY\",\"VIDEO_PLAYERS\",\"COMMUNICATION\",\"FAMILY\",\"FAMILY\",\"GAME\",\"FAMILY\",\"FAMILY\",\"PRODUCTIVITY\",\"LIFESTYLE\",\"FAMILY\",\"FAMILY\",\"COMMUNICATION\",\"FAMILY\",\"GAME\",\"PERSONALIZATION\",\"FAMILY\",\"FAMILY\",\"GAME\",\"SOCIAL\",\"GAME\",\"SHOPPING\",\"GAME\",\"LIFESTYLE\",\"FAMILY\",\"FAMILY\",\"GAME\",\"PERSONALIZATION\",\"FAMILY\",\"FAMILY\",\"FAMILY\",\"SOCIAL\",\"PRODUCTIVITY\",\"FAMILY\",\"PRODUCTIVITY\",\"PERSONALIZATION\",\"FAMILY\",\"GAME\",\"GAME\",\"PERSONALIZATION\",\"PERSONALIZATION\",\"SHOPPING\",\"FAMILY\",\"FAMILY\",\"FAMILY\",\"PRODUCTIVITY\",\"VIDEO_PLAYERS\",\"FAMILY\",\"BUSINESS\",\"PERSONALIZATION\",\"VIDEO_PLAYERS\",\"PHOTOGRAPHY\",\"GAME\",\"PRODUCTIVITY\",\"TOOLS\",\"GAME\",\"NEWS_AND_MAGAZINES\",\"GAME\",\"VIDEO_PLAYERS\",\"GAME\",\"TOOLS\",\"VIDEO_PLAYERS\",\"COMMUNICATION\",\"HEALTH_AND_FITNESS\",\"COMMUNICATION\",\"TOOLS\",\"PERSONALIZATION\",\"FINANCE\",\"COMMUNICATION\",\"MEDICAL\",\"MEDICAL\",\"AUTO_AND_VEHICLES\",\"GAME\",\"PERSONALIZATION\",\"FAMILY\",\"GAME\",\"GAME\",\"FAMILY\",\"GAME\",\"PERSONALIZATION\",\"LIFESTYLE\",\"GAME\",\"PRODUCTIVITY\",\"COMMUNICATION\",\"GAME\",\"SHOPPING\",\"FAMILY\",\"PRODUCTIVITY\",\"GAME\",\"FAMILY\",\"FAMILY\",\"GAME\",\"FAMILY\",\"FAMILY\",\"LIFESTYLE\",\"GAME\",\"FAMILY\",\"GAME\",\"VIDEO_PLAYERS\",\"GAME\",\"FAMILY\",\"FAMILY\",\"FAMILY\",\"COMMUNICATION\",\"COMMUNICATION\",\"FAMILY\",\"TOOLS\",\"COMMUNICATION\",\"PRODUCTIVITY\",\"SHOPPING\",\"TOOLS\",\"GAME\",\"PRODUCTIVITY\",\"BOOKS_AND_REFERENCE\",\"PERSONALIZATION\",\"LIFESTYLE\",\"TOOLS\",\"DATING\",\"SOCIAL\",\"PHOTOGRAPHY\",\"FAMILY\",\"TOOLS\",\"GAME\",\"COMMUNICATION\",\"PHOTOGRAPHY\",\"PERSONALIZATION\",\"TOOLS\",\"SOCIAL\",\"PERSONALIZATION\",\"PHOTOGRAPHY\",\"PERSONALIZATION\",\"PERSONALIZATION\",\"PERSONALIZATION\",\"PERSONALIZATION\",\"PERSONALIZATION\",\"PERSONALIZATION\",\"PERSONALIZATION\",\"TOOLS\",\"PERSONALIZATION\",\"PERSONALIZATION\",\"PERSONALIZATION\",\"PERSONALIZATION\",\"PERSONALIZATION\",\"PERSONALIZATION\",\"TOOLS\",\"PERSONALIZATION\",\"TOOLS\",\"GAME\",\"LIFESTYLE\",\"FAMILY\",\"PRODUCTIVITY\",\"PERSONALIZATION\",\"BUSINESS\",\"LIFESTYLE\",\"FAMILY\",\"GAME\",\"SOCIAL\",\"GAME\",\"FAMILY\",\"PRODUCTIVITY\",\"PRODUCTIVITY\",\"COMICS\",\"FAMILY\",\"VIDEO_PLAYERS\",\"FAMILY\",\"TOOLS\",\"PHOTOGRAPHY\",\"TOOLS\",\"MAPS_AND_NAVIGATION\",\"GAME\",\"TOOLS\",\"TOOLS\",\"COMMUNICATION\",\"BUSINESS\",\"TOOLS\",\"FOOD_AND_DRINK\",\"FINANCE\",\"FAMILY\",\"MAPS_AND_NAVIGATION\",\"TOOLS\",\"FAMILY\",\"FAMILY\",\"BOOKS_AND_REFERENCE\",\"FAMILY\",\"FAMILY\",\"FAMILY\",\"FAMILY\",\"FAMILY\",\"FAMILY\",\"BOOKS_AND_REFERENCE\",\"FAMILY\",\"BOOKS_AND_REFERENCE\",\"FAMILY\",\"TOOLS\",\"BOOKS_AND_REFERENCE\",\"FAMILY\",\"FAMILY\",\"BOOKS_AND_REFERENCE\",\"FAMILY\",\"BOOKS_AND_REFERENCE\",\"FAMILY\",\"FAMILY\",\"FAMILY\",\"PRODUCTIVITY\",\"TOOLS\",\"SHOPPING\",\"SOCIAL\",\"FINANCE\",\"FAMILY\",\"PRODUCTIVITY\",\"FAMILY\",\"FAMILY\",\"FAMILY\",\"TOOLS\",\"PERSONALIZATION\",\"TOOLS\",\"TOOLS\",\"FAMILY\",\"LIFESTYLE\",\"PRODUCTIVITY\",\"PHOTOGRAPHY\",\"GAME\",\"PRODUCTIVITY\",\"TOOLS\",\"TOOLS\",\"FAMILY\",\"GAME\",\"TOOLS\",\"PRODUCTIVITY\",\"FAMILY\",\"SOCIAL\",\"LIFESTYLE\",\"NEWS_AND_MAGAZINES\",\"FAMILY\",\"TOOLS\",\"GAME\",\"COMMUNICATION\",\"PRODUCTIVITY\",\"FAMILY\",\"COMMUNICATION\",\"FAMILY\",\"COMMUNICATION\",\"LIFESTYLE\",\"FAMILY\",\"LIFESTYLE\",\"LIFESTYLE\",\"COMMUNICATION\",\"PRODUCTIVITY\",\"PRODUCTIVITY\",\"TOOLS\",\"TOOLS\",\"PARENTING\",\"COMMUNICATION\",\"FAMILY\",\"COMMUNICATION\",\"MAPS_AND_NAVIGATION\",\"EVENTS\",\"TOOLS\",\"AUTO_AND_VEHICLES\",\"LIFESTYLE\",\"MAPS_AND_NAVIGATION\",\"FINANCE\",\"PRODUCTIVITY\",\"FINANCE\",\"SOCIAL\",\"COMMUNICATION\",\"FAMILY\",\"FAMILY\",\"VIDEO_PLAYERS\",\"COMMUNICATION\",\"MAPS_AND_NAVIGATION\",\"FAMILY\",\"COMMUNICATION\",\"TRAVEL_AND_LOCAL\",\"MAPS_AND_NAVIGATION\",\"LIFESTYLE\",\"TOOLS\",\"TRAVEL_AND_LOCAL\",\"PERSONALIZATION\",\"FAMILY\",\"TOOLS\",\"BUSINESS\",\"FAMILY\",\"PHOTOGRAPHY\",\"TOOLS\",\"TOOLS\",\"FAMILY\",\"SOCIAL\",\"COMMUNICATION\",\"SOCIAL\",\"PRODUCTIVITY\",\"PRODUCTIVITY\",\"FAMILY\",\"PERSONALIZATION\",\"FINANCE\",\"SOCIAL\",\"SOCIAL\",\"FAMILY\",\"FAMILY\",\"FAMILY\",\"LIFESTYLE\",\"GAME\",\"MAPS_AND_NAVIGATION\",\"TOOLS\",\"FAMILY\",\"FAMILY\",\"GAME\",\"VIDEO_PLAYERS\",\"BOOKS_AND_REFERENCE\",\"FAMILY\",\"COMMUNICATION\",\"GAME\",\"GAME\",\"GAME\",\"FAMILY\",\"VIDEO_PLAYERS\",\"VIDEO_PLAYERS\",\"BUSINESS\",\"VIDEO_PLAYERS\",\"VIDEO_PLAYERS\",\"VIDEO_PLAYERS\",\"BUSINESS\",\"VIDEO_PLAYERS\",\"FAMILY\",\"HEALTH_AND_FITNESS\",\"GAME\",\"FAMILY\",\"PHOTOGRAPHY\",\"PERSONALIZATION\",\"VIDEO_PLAYERS\",\"SOCIAL\",\"PERSONALIZATION\",\"PERSONALIZATION\",\"SOCIAL\",\"FAMILY\",\"FAMILY\",\"FAMILY\",\"PERSONALIZATION\",\"FAMILY\",\"GAME\",\"FAMILY\",\"COMMUNICATION\",\"FAMILY\",\"PERSONALIZATION\",\"BOOKS_AND_REFERENCE\",\"MAPS_AND_NAVIGATION\",\"SOCIAL\",\"WEATHER\",\"PRODUCTIVITY\",\"GAME\",\"FAMILY\",\"COMICS\",\"WEATHER\",\"VIDEO_PLAYERS\",\"COMMUNICATION\",\"VIDEO_PLAYERS\",\"TOOLS\",\"TOOLS\",\"TOOLS\",\"TOOLS\",\"BUSINESS\",\"TOOLS\",\"PERSONALIZATION\",\"LIFESTYLE\",\"FOOD_AND_DRINK\",\"TOOLS\",\"COMMUNICATION\",\"BOOKS_AND_REFERENCE\",\"PHOTOGRAPHY\",\"SOCIAL\",\"TRAVEL_AND_LOCAL\",\"GAME\",\"TOOLS\",\"SOCIAL\",\"TOOLS\",\"ART_AND_DESIGN\",\"TOOLS\",\"TOOLS\",\"FAMILY\",\"TOOLS\",\"COMMUNICATION\",\"TOOLS\",\"TOOLS\",\"TOOLS\",\"TOOLS\",\"TOOLS\",\"GAME\",\"FAMILY\",\"FAMILY\",\"PERSONALIZATION\",\"GAME\",\"GAME\",\"FAMILY\",\"PERSONALIZATION\",\"PERSONALIZATION\",\"TOOLS\",\"PERSONALIZATION\",\"GAME\",\"GAME\",\"BOOKS_AND_REFERENCE\",\"FAMILY\",\"GAME\",\"GAME\",\"PERSONALIZATION\",\"TRAVEL_AND_LOCAL\",\"FAMILY\",\"LIFESTYLE\",\"FAMILY\",\"FAMILY\",\"PERSONALIZATION\",\"FAMILY\",\"FAMILY\",\"VIDEO_PLAYERS\",\"FAMILY\",\"FAMILY\",\"FAMILY\",\"COMMUNICATION\",\"GAME\",\"TOOLS\",\"TOOLS\",\"FAMILY\",\"FAMILY\",\"GAME\",\"GAME\",\"TOOLS\",\"PERSONALIZATION\",\"PRODUCTIVITY\",\"FAMILY\",\"PERSONALIZATION\",\"TOOLS\",\"TOOLS\",\"GAME\",\"FAMILY\",\"FAMILY\",\"FAMILY\",\"GAME\",\"SOCIAL\",\"TOOLS\",\"GAME\",\"PHOTOGRAPHY\",\"FAMILY\",\"GAME\",\"GAME\",\"TOOLS\",\"GAME\",\"FAMILY\",\"LIFESTYLE\",\"GAME\",\"FAMILY\",\"GAME\",\"GAME\",\"GAME\",\"GAME\",\"GAME\",\"FAMILY\",\"PERSONALIZATION\",\"PHOTOGRAPHY\",\"PERSONALIZATION\",\"GAME\",\"GAME\",\"GAME\",\"PERSONALIZATION\",\"FAMILY\",\"PERSONALIZATION\",\"HEALTH_AND_FITNESS\",\"HEALTH_AND_FITNESS\",\"FAMILY\",\"FAMILY\",\"HEALTH_AND_FITNESS\",\"FAMILY\",\"FAMILY\",\"FAMILY\",\"HEALTH_AND_FITNESS\",\"HEALTH_AND_FITNESS\",\"FAMILY\",\"VIDEO_PLAYERS\",\"HEALTH_AND_FITNESS\",\"HEALTH_AND_FITNESS\",\"GAME\",\"FAMILY\",\"VIDEO_PLAYERS\",\"HEALTH_AND_FITNESS\",\"HEALTH_AND_FITNESS\",\"GAME\",\"HEALTH_AND_FITNESS\",\"FAMILY\",\"SHOPPING\",\"FAMILY\",\"FAMILY\",\"HEALTH_AND_FITNESS\",\"FAMILY\",\"HEALTH_AND_FITNESS\",\"FINANCE\",\"HEALTH_AND_FITNESS\",\"GAME\",\"TOOLS\",\"PHOTOGRAPHY\",\"LIFESTYLE\",\"GAME\",\"HEALTH_AND_FITNESS\",\"HEALTH_AND_FITNESS\",\"HEALTH_AND_FITNESS\",\"FAMILY\",\"HEALTH_AND_FITNESS\",\"HEALTH_AND_FITNESS\",\"HEALTH_AND_FITNESS\",\"TOOLS\",\"BUSINESS\",\"TOOLS\",\"TOOLS\",\"TOOLS\",\"FAMILY\",\"FAMILY\",\"LIFESTYLE\",\"TOOLS\",\"TOOLS\",\"TOOLS\",\"TOOLS\",\"TOOLS\",\"TOOLS\",\"TOOLS\",\"TOOLS\",\"BOOKS_AND_REFERENCE\",\"TOOLS\",\"PRODUCTIVITY\",\"TOOLS\",\"TOOLS\",\"TOOLS\",\"TOOLS\",\"LIFESTYLE\",\"TOOLS\",\"TOOLS\",\"BUSINESS\",\"PRODUCTIVITY\",\"LIFESTYLE\",\"NEWS_AND_MAGAZINES\",\"FAMILY\",\"TOOLS\",\"PERSONALIZATION\",\"HOUSE_AND_HOME\",\"TOOLS\",\"FAMILY\",\"TOOLS\",\"TOOLS\",\"TOOLS\",\"TOOLS\",\"TOOLS\",\"TOOLS\",\"COMMUNICATION\",\"PRODUCTIVITY\",\"TOOLS\",\"NEWS_AND_MAGAZINES\",\"TOOLS\",\"COMMUNICATION\",\"COMMUNICATION\",\"TOOLS\",\"TOOLS\",\"COMMUNICATION\",\"PRODUCTIVITY\",\"PRODUCTIVITY\",\"COMICS\",\"TOOLS\",\"COMMUNICATION\",\"PRODUCTIVITY\",\"FAMILY\",\"VIDEO_PLAYERS\",\"PRODUCTIVITY\",\"BUSINESS\",\"TOOLS\",\"TOOLS\",\"COMMUNICATION\",\"GAME\",\"WEATHER\",\"LIFESTYLE\",\"BUSINESS\",\"TOOLS\",\"BUSINESS\",\"TOOLS\",\"PRODUCTIVITY\",\"FAMILY\",\"TOOLS\",\"SHOPPING\",\"SHOPPING\",\"FAMILY\",\"VIDEO_PLAYERS\",\"FAMILY\",\"FAMILY\",\"PRODUCTIVITY\",\"GAME\",\"FAMILY\",\"SPORTS\",\"GAME\",\"GAME\",\"GAME\",\"GAME\",\"FAMILY\",\"GAME\",\"GAME\",\"GAME\",\"GAME\",\"SPORTS\",\"GAME\",\"GAME\",\"TOOLS\",\"FAMILY\",\"GAME\",\"AUTO_AND_VEHICLES\",\"BOOKS_AND_REFERENCE\",\"GAME\",\"GAME\",\"GAME\",\"GAME\",\"GAME\",\"BOOKS_AND_REFERENCE\",\"AUTO_AND_VEHICLES\",\"VIDEO_PLAYERS\",\"EVENTS\",\"FAMILY\",\"GAME\",\"PHOTOGRAPHY\",\"TOOLS\",\"SPORTS\",\"TRAVEL_AND_LOCAL\",\"GAME\",\"VIDEO_PLAYERS\",\"BUSINESS\",\"SHOPPING\",\"PHOTOGRAPHY\",\"NEWS_AND_MAGAZINES\",\"HEALTH_AND_FITNESS\",\"COMICS\",\"PHOTOGRAPHY\",\"FAMILY\",\"MEDICAL\",\"PHOTOGRAPHY\",\"MEDICAL\",\"FINANCE\",\"TOOLS\",\"FAMILY\",\"TRAVEL_AND_LOCAL\",\"SOCIAL\",\"SHOPPING\",\"TOOLS\",\"NEWS_AND_MAGAZINES\",\"BUSINESS\",\"PHOTOGRAPHY\",\"PHOTOGRAPHY\",\"SHOPPING\",\"PHOTOGRAPHY\",\"HEALTH_AND_FITNESS\",\"PHOTOGRAPHY\",\"PHOTOGRAPHY\",\"LIFESTYLE\",\"PHOTOGRAPHY\",\"NEWS_AND_MAGAZINES\",\"PHOTOGRAPHY\",\"BUSINESS\",\"PHOTOGRAPHY\",\"PHOTOGRAPHY\",\"FAMILY\",\"FAMILY\",\"PHOTOGRAPHY\",\"GAME\",\"SPORTS\",\"BOOKS_AND_REFERENCE\",\"TOOLS\",\"FAMILY\",\"LIFESTYLE\",\"PHOTOGRAPHY\",\"PHOTOGRAPHY\",\"PHOTOGRAPHY\",\"BOOKS_AND_REFERENCE\",\"GAME\",\"SPORTS\",\"COMMUNICATION\",\"WEATHER\",\"PRODUCTIVITY\",\"TOOLS\",\"BOOKS_AND_REFERENCE\",\"TOOLS\",\"TOOLS\",\"FAMILY\",\"LIFESTYLE\",\"FINANCE\",\"FAMILY\",\"TOOLS\",\"COMMUNICATION\",\"AUTO_AND_VEHICLES\",\"PRODUCTIVITY\",\"SHOPPING\",\"GAME\",\"BUSINESS\",\"BOOKS_AND_REFERENCE\",\"PRODUCTIVITY\",\"LIFESTYLE\",\"PRODUCTIVITY\",\"WEATHER\",\"FAMILY\",\"BUSINESS\",\"BUSINESS\",\"PRODUCTIVITY\",\"FINANCE\",\"FAMILY\",\"PRODUCTIVITY\",\"SOCIAL\",\"TOOLS\",\"BUSINESS\",\"LIBRARIES_AND_DEMO\",\"FINANCE\",\"BOOKS_AND_REFERENCE\",\"BUSINESS\",\"BUSINESS\",\"BUSINESS\",\"BOOKS_AND_REFERENCE\",\"TOOLS\",\"FAMILY\",\"MEDICAL\",\"MEDICAL\",\"HEALTH_AND_FITNESS\",\"MEDICAL\",\"MEDICAL\",\"MEDICAL\",\"TOOLS\",\"PERSONALIZATION\",\"MEDICAL\",\"MEDICAL\",\"MEDICAL\",\"FAMILY\",\"FAMILY\",\"MEDICAL\",\"FAMILY\",\"MEDICAL\",\"MEDICAL\",\"FAMILY\",\"COMMUNICATION\",\"MEDICAL\",\"MEDICAL\",\"MEDICAL\",\"MEDICAL\",\"FAMILY\",\"MEDICAL\",\"MEDICAL\",\"GAME\",\"FAMILY\",\"MEDICAL\",\"MEDICAL\",\"MEDICAL\",\"FAMILY\",\"MEDICAL\",\"MEDICAL\",\"HEALTH_AND_FITNESS\",\"SPORTS\",\"MEDICAL\",\"FAMILY\",\"MEDICAL\",\"TOOLS\",\"MEDICAL\",\"MEDICAL\",\"MEDICAL\",\"GAME\",\"MEDICAL\",\"MEDICAL\",\"FAMILY\",\"ART_AND_DESIGN\",\"FAMILY\",\"FAMILY\",\"FAMILY\",\"FAMILY\",\"FAMILY\",\"TOOLS\",\"FAMILY\",\"TOOLS\",\"MEDICAL\",\"TOOLS\",\"PRODUCTIVITY\",\"BEAUTY\",\"MAPS_AND_NAVIGATION\",\"FAMILY\",\"TOOLS\",\"NEWS_AND_MAGAZINES\",\"FAMILY\",\"PRODUCTIVITY\",\"PRODUCTIVITY\",\"FAMILY\",\"PRODUCTIVITY\",\"PHOTOGRAPHY\",\"TOOLS\",\"PRODUCTIVITY\",\"FAMILY\",\"PERSONALIZATION\",\"FAMILY\",\"PRODUCTIVITY\",\"PHOTOGRAPHY\",\"PHOTOGRAPHY\",\"SOCIAL\",\"FAMILY\",\"FAMILY\",\"PRODUCTIVITY\",\"PRODUCTIVITY\",\"PHOTOGRAPHY\",\"PRODUCTIVITY\",\"FAMILY\",\"LIFESTYLE\",\"FAMILY\",\"FAMILY\",\"FAMILY\",\"SOCIAL\",\"FAMILY\",\"NEWS_AND_MAGAZINES\",\"PHOTOGRAPHY\",\"MAPS_AND_NAVIGATION\",\"COMMUNICATION\",\"FAMILY\",\"NEWS_AND_MAGAZINES\",\"FAMILY\",\"FINANCE\",\"PHOTOGRAPHY\",\"GAME\",\"HOUSE_AND_HOME\",\"GAME\",\"FAMILY\",\"PHOTOGRAPHY\",\"VIDEO_PLAYERS\",\"SHOPPING\",\"AUTO_AND_VEHICLES\",\"SHOPPING\",\"SHOPPING\",\"COMMUNICATION\",\"LIFESTYLE\",\"FAMILY\",\"ART_AND_DESIGN\",\"LIFESTYLE\",\"LIFESTYLE\",\"ART_AND_DESIGN\",\"BOOKS_AND_REFERENCE\",\"FAMILY\",\"FOOD_AND_DRINK\",\"FAMILY\",\"MAPS_AND_NAVIGATION\",\"FAMILY\",\"FAMILY\",\"PERSONALIZATION\",\"NEWS_AND_MAGAZINES\",\"FAMILY\",\"FAMILY\",\"FAMILY\",\"FAMILY\",\"PERSONALIZATION\",\"GAME\",\"FAMILY\",\"FAMILY\",\"PERSONALIZATION\",\"PERSONALIZATION\",\"FAMILY\",\"GAME\",\"PERSONALIZATION\",\"GAME\",\"LIFESTYLE\",\"FAMILY\",\"GAME\",\"PERSONALIZATION\",\"PERSONALIZATION\",\"PERSONALIZATION\",\"FAMILY\",\"GAME\",\"GAME\",\"TOOLS\",\"PERSONALIZATION\",\"FAMILY\",\"PERSONALIZATION\",\"PERSONALIZATION\",\"FAMILY\",\"GAME\",\"PERSONALIZATION\",\"FAMILY\",\"COMMUNICATION\",\"TOOLS\",\"GAME\",\"VIDEO_PLAYERS\",\"FAMILY\",\"AUTO_AND_VEHICLES\",\"FAMILY\",\"GAME\",\"NEWS_AND_MAGAZINES\",\"FAMILY\",\"SPORTS\",\"SPORTS\",\"TRAVEL_AND_LOCAL\",\"FAMILY\",\"BOOKS_AND_REFERENCE\",\"TRAVEL_AND_LOCAL\",\"BOOKS_AND_REFERENCE\",\"LIFESTYLE\",\"BOOKS_AND_REFERENCE\",\"BOOKS_AND_REFERENCE\",\"BOOKS_AND_REFERENCE\",\"FAMILY\",\"NEWS_AND_MAGAZINES\",\"BOOKS_AND_REFERENCE\",\"FAMILY\",\"FAMILY\",\"PRODUCTIVITY\",\"FAMILY\",\"FAMILY\",\"BOOKS_AND_REFERENCE\",\"NEWS_AND_MAGAZINES\",\"FAMILY\",\"HEALTH_AND_FITNESS\",\"BOOKS_AND_REFERENCE\",\"BOOKS_AND_REFERENCE\",\"FAMILY\",\"BOOKS_AND_REFERENCE\",\"FAMILY\",\"LIFESTYLE\",\"BOOKS_AND_REFERENCE\",\"BOOKS_AND_REFERENCE\",\"LIFESTYLE\",\"BOOKS_AND_REFERENCE\",\"LIFESTYLE\",\"BOOKS_AND_REFERENCE\",\"FAMILY\",\"SHOPPING\",\"GAME\",\"BUSINESS\",\"TRAVEL_AND_LOCAL\",\"TRAVEL_AND_LOCAL\",\"NEWS_AND_MAGAZINES\",\"TOOLS\",\"FAMILY\",\"GAME\",\"GAME\",\"NEWS_AND_MAGAZINES\",\"FAMILY\",\"GAME\",\"FAMILY\",\"LIFESTYLE\",\"FAMILY\",\"FAMILY\",\"FAMILY\",\"SPORTS\",\"GAME\",\"FAMILY\",\"FAMILY\",\"BUSINESS\",\"GAME\",\"SOCIAL\",\"LIFESTYLE\",\"GAME\",\"PHOTOGRAPHY\",\"PHOTOGRAPHY\",\"FAMILY\",\"LIFESTYLE\",\"SOCIAL\",\"BUSINESS\",\"MEDICAL\",\"FAMILY\",\"MEDICAL\",\"EVENTS\",\"GAME\",\"TOOLS\",\"BUSINESS\",\"GAME\",\"COMMUNICATION\",\"FAMILY\",\"FAMILY\",\"SPORTS\",\"SPORTS\",\"GAME\",\"FAMILY\",\"GAME\",\"SPORTS\",\"GAME\",\"FAMILY\",\"GAME\",\"SPORTS\",\"FAMILY\",\"FAMILY\",\"SPORTS\",\"FAMILY\",\"SPORTS\",\"GAME\",\"FAMILY\",\"SPORTS\",\"GAME\",\"SPORTS\",\"FAMILY\",\"SOCIAL\",\"FAMILY\",\"SPORTS\",\"FAMILY\",\"FAMILY\",\"FAMILY\",\"SPORTS\",\"FAMILY\",\"FAMILY\",\"FAMILY\",\"TRAVEL_AND_LOCAL\",\"FAMILY\",\"NEWS_AND_MAGAZINES\",\"PRODUCTIVITY\",\"FAMILY\",\"COMMUNICATION\",\"FAMILY\",\"TOOLS\",\"NEWS_AND_MAGAZINES\",\"LIFESTYLE\",\"FAMILY\",\"BUSINESS\",\"FAMILY\",\"TOOLS\",\"TOOLS\",\"TOOLS\",\"FAMILY\",\"TOOLS\",\"TOOLS\",\"TOOLS\",\"FAMILY\",\"FAMILY\",\"FAMILY\",\"COMMUNICATION\",\"FAMILY\",\"FAMILY\",\"NEWS_AND_MAGAZINES\",\"FAMILY\",\"TOOLS\",\"FAMILY\",\"TOOLS\",\"PHOTOGRAPHY\",\"FAMILY\",\"FAMILY\",\"SOCIAL\",\"FAMILY\",\"FAMILY\",\"FAMILY\",\"FAMILY\",\"FAMILY\",\"GAME\",\"BUSINESS\",\"TOOLS\",\"TOOLS\",\"FAMILY\",\"FAMILY\",\"MEDICAL\",\"GAME\",\"COMMUNICATION\",\"FAMILY\",\"FAMILY\",\"PRODUCTIVITY\",\"FAMILY\",\"SPORTS\",\"HEALTH_AND_FITNESS\",\"WEATHER\",\"FAMILY\",\"COMMUNICATION\",\"PERSONALIZATION\",\"MAPS_AND_NAVIGATION\",\"GAME\",\"PRODUCTIVITY\",\"TOOLS\",\"FAMILY\",\"FAMILY\",\"FAMILY\",\"FAMILY\",\"FAMILY\",\"FAMILY\",\"GAME\",\"FAMILY\",\"FAMILY\",\"GAME\",\"GAME\",\"FAMILY\",\"SOCIAL\",\"FAMILY\",\"GAME\",\"FAMILY\",\"FAMILY\",\"HOUSE_AND_HOME\",\"GAME\",\"GAME\",\"GAME\",\"GAME\",\"HOUSE_AND_HOME\",\"SHOPPING\",\"NEWS_AND_MAGAZINES\",\"SHOPPING\",\"GAME\",\"TOOLS\",\"PHOTOGRAPHY\",\"FAMILY\",\"FAMILY\",\"FAMILY\",\"FAMILY\",\"FAMILY\",\"FAMILY\",\"FAMILY\",\"FAMILY\",\"TRAVEL_AND_LOCAL\",\"GAME\",\"BUSINESS\",\"BOOKS_AND_REFERENCE\",\"FAMILY\",\"GAME\",\"FAMILY\",\"FAMILY\",\"FAMILY\",\"FAMILY\",\"PRODUCTIVITY\",\"FAMILY\",\"FAMILY\",\"FAMILY\",\"FAMILY\",\"SPORTS\",\"SPORTS\",\"NEWS_AND_MAGAZINES\",\"LIFESTYLE\",\"SPORTS\",\"HEALTH_AND_FITNESS\",\"HEALTH_AND_FITNESS\",\"LIFESTYLE\",\"GAME\",\"FAMILY\",\"LIFESTYLE\",\"GAME\",\"LIFESTYLE\",\"COMMUNICATION\",\"FAMILY\",\"LIFESTYLE\",\"PRODUCTIVITY\",\"GAME\",\"GAME\",\"COMMUNICATION\",\"FAMILY\",\"HEALTH_AND_FITNESS\",\"VIDEO_PLAYERS\",\"FAMILY\",\"FAMILY\",\"HEALTH_AND_FITNESS\",\"FINANCE\",\"LIFESTYLE\",\"TOOLS\",\"FAMILY\",\"PRODUCTIVITY\",\"PERSONALIZATION\",\"GAME\",\"FAMILY\",\"COMMUNICATION\",\"FAMILY\",\"PRODUCTIVITY\",\"VIDEO_PLAYERS\",\"HEALTH_AND_FITNESS\",\"FAMILY\",\"FAMILY\",\"FAMILY\",\"GAME\",\"GAME\",\"FAMILY\",\"SPORTS\",\"GAME\",\"FAMILY\",\"TRAVEL_AND_LOCAL\",\"FAMILY\",\"FAMILY\",\"VIDEO_PLAYERS\",\"FAMILY\",\"GAME\",\"FAMILY\",\"FAMILY\",\"GAME\",\"GAME\",\"FAMILY\",\"GAME\",\"FAMILY\",\"GAME\",\"GAME\",\"GAME\",\"GAME\",\"GAME\",\"GAME\",\"GAME\",\"GAME\",\"SOCIAL\",\"FAMILY\",\"BOOKS_AND_REFERENCE\",\"GAME\",\"GAME\",\"FOOD_AND_DRINK\",\"LIFESTYLE\",\"GAME\",\"FAMILY\",\"LIFESTYLE\",\"WEATHER\",\"FAMILY\",\"SPORTS\",\"FAMILY\",\"HOUSE_AND_HOME\",\"GAME\",\"FAMILY\",\"FINANCE\",\"FAMILY\",\"SPORTS\",\"FAMILY\",\"SOCIAL\",\"COMMUNICATION\",\"BUSINESS\",\"TOOLS\",\"NEWS_AND_MAGAZINES\",\"NEWS_AND_MAGAZINES\",\"SOCIAL\",\"FAMILY\",\"GAME\",\"FAMILY\",\"LIFESTYLE\",\"LIFESTYLE\",\"FAMILY\",\"HOUSE_AND_HOME\",\"BUSINESS\",\"SPORTS\",\"FAMILY\",\"LIFESTYLE\",\"GAME\",\"FINANCE\",\"GAME\",\"BUSINESS\",\"NEWS_AND_MAGAZINES\",\"FOOD_AND_DRINK\",\"TOOLS\",\"TOOLS\",\"PRODUCTIVITY\",\"BOOKS_AND_REFERENCE\",\"FAMILY\",\"FAMILY\",\"FAMILY\",\"VIDEO_PLAYERS\",\"VIDEO_PLAYERS\",\"VIDEO_PLAYERS\",\"COMMUNICATION\",\"VIDEO_PLAYERS\",\"TOOLS\",\"TOOLS\",\"FINANCE\",\"FAMILY\",\"COMMUNICATION\",\"TOOLS\",\"FAMILY\",\"TOOLS\",\"FAMILY\",\"LIFESTYLE\",\"TOOLS\",\"PRODUCTIVITY\",\"LIFESTYLE\",\"VIDEO_PLAYERS\",\"BOOKS_AND_REFERENCE\",\"TOOLS\",\"PRODUCTIVITY\",\"FAMILY\",\"TOOLS\",\"GAME\",\"LIFESTYLE\",\"FOOD_AND_DRINK\",\"TOOLS\",\"COMMUNICATION\",\"FAMILY\",\"PERSONALIZATION\",\"VIDEO_PLAYERS\",\"FOOD_AND_DRINK\",\"PHOTOGRAPHY\",\"BOOKS_AND_REFERENCE\",\"TOOLS\",\"TOOLS\",\"HEALTH_AND_FITNESS\",\"GAME\",\"TOOLS\",\"NEWS_AND_MAGAZINES\",\"GAME\",\"FAMILY\",\"TOOLS\",\"TOOLS\",\"FAMILY\",\"NEWS_AND_MAGAZINES\",\"FAMILY\",\"TOOLS\",\"TOOLS\",\"FAMILY\",\"TOOLS\",\"TOOLS\",\"GAME\",\"BUSINESS\",\"NEWS_AND_MAGAZINES\",\"BOOKS_AND_REFERENCE\",\"GAME\",\"BUSINESS\",\"GAME\",\"WEATHER\",\"FAMILY\",\"BUSINESS\",\"NEWS_AND_MAGAZINES\",\"PRODUCTIVITY\",\"VIDEO_PLAYERS\",\"BOOKS_AND_REFERENCE\",\"FOOD_AND_DRINK\",\"WEATHER\",\"NEWS_AND_MAGAZINES\",\"FAMILY\",\"FAMILY\",\"GAME\",\"BUSINESS\",\"VIDEO_PLAYERS\",\"LIFESTYLE\",\"GAME\",\"FINANCE\",\"GAME\",\"GAME\",\"GAME\",\"VIDEO_PLAYERS\",\"COMMUNICATION\",\"FAMILY\",\"GAME\",\"GAME\",\"PRODUCTIVITY\",\"GAME\",\"BUSINESS\",\"TOOLS\",\"TOOLS\",\"TOOLS\",\"GAME\",\"FAMILY\",\"GAME\",\"GAME\",\"GAME\",\"HEALTH_AND_FITNESS\",\"BUSINESS\",\"PRODUCTIVITY\",\"GAME\",\"FAMILY\",\"GAME\",\"FAMILY\",\"TOOLS\",\"LIFESTYLE\",\"GAME\",\"LIFESTYLE\",\"SPORTS\",\"GAME\",\"GAME\",\"FAMILY\",\"GAME\",\"PERSONALIZATION\",\"GAME\",\"VIDEO_PLAYERS\",\"SHOPPING\",\"BOOKS_AND_REFERENCE\",\"FAMILY\",\"TOOLS\",\"VIDEO_PLAYERS\",\"FAMILY\",\"PHOTOGRAPHY\",\"FAMILY\",\"PERSONALIZATION\",\"LIFESTYLE\",\"LIFESTYLE\",\"PERSONALIZATION\",\"BOOKS_AND_REFERENCE\",\"FAMILY\",\"GAME\",\"HEALTH_AND_FITNESS\",\"FAMILY\",\"LIFESTYLE\",\"BOOKS_AND_REFERENCE\",\"BUSINESS\",\"FAMILY\",\"TOOLS\",\"BUSINESS\",\"GAME\",\"FAMILY\",\"BUSINESS\",\"WEATHER\",\"TOOLS\",\"GAME\",\"FAMILY\",\"GAME\",\"PERSONALIZATION\",\"GAME\",\"FAMILY\",\"VIDEO_PLAYERS\",\"PERSONALIZATION\",\"GAME\",\"VIDEO_PLAYERS\",\"COMMUNICATION\",\"FAMILY\",\"LIBRARIES_AND_DEMO\",\"FAMILY\",\"PHOTOGRAPHY\",\"PRODUCTIVITY\",\"TOOLS\",\"FAMILY\",\"TOOLS\",\"LIFESTYLE\",\"FINANCE\",\"VIDEO_PLAYERS\",\"VIDEO_PLAYERS\",\"MEDICAL\",\"FAMILY\",\"GAME\",\"FINANCE\",\"FAMILY\",\"FAMILY\",\"TRAVEL_AND_LOCAL\",\"LIFESTYLE\",\"MAPS_AND_NAVIGATION\",\"FINANCE\",\"FAMILY\",\"BUSINESS\",\"FAMILY\",\"BOOKS_AND_REFERENCE\",\"TRAVEL_AND_LOCAL\",\"FAMILY\",\"BOOKS_AND_REFERENCE\",\"HEALTH_AND_FITNESS\",\"FAMILY\",\"TRAVEL_AND_LOCAL\",\"FAMILY\",\"FAMILY\",\"COMICS\",\"LIFESTYLE\",\"TRAVEL_AND_LOCAL\",\"TOOLS\",\"TRAVEL_AND_LOCAL\",\"BUSINESS\",\"PRODUCTIVITY\",\"FAMILY\",\"TRAVEL_AND_LOCAL\",\"GAME\",\"PARENTING\",\"COMMUNICATION\",\"FAMILY\",\"TRAVEL_AND_LOCAL\",\"HEALTH_AND_FITNESS\",\"FAMILY\",\"FAMILY\",\"FAMILY\",\"FAMILY\",\"FAMILY\",\"FAMILY\",\"FAMILY\",\"LIFESTYLE\",\"FAMILY\",\"COMICS\",\"FAMILY\",\"HEALTH_AND_FITNESS\",\"NEWS_AND_MAGAZINES\",\"NEWS_AND_MAGAZINES\",\"TOOLS\",\"FAMILY\",\"TOOLS\",\"FAMILY\",\"NEWS_AND_MAGAZINES\",\"SPORTS\",\"TRAVEL_AND_LOCAL\",\"GAME\",\"SOCIAL\",\"TRAVEL_AND_LOCAL\",\"FAMILY\",\"GAME\",\"FAMILY\",\"MEDICAL\",\"FAMILY\",\"FAMILY\",\"FAMILY\",\"MAPS_AND_NAVIGATION\",\"LIFESTYLE\",\"MAPS_AND_NAVIGATION\",\"MEDICAL\",\"PRODUCTIVITY\",\"TRAVEL_AND_LOCAL\",\"FAMILY\",\"LIFESTYLE\",\"TOOLS\",\"GAME\",\"LIFESTYLE\",\"TRAVEL_AND_LOCAL\",\"PHOTOGRAPHY\",\"VIDEO_PLAYERS\",\"TRAVEL_AND_LOCAL\",\"FAMILY\",\"VIDEO_PLAYERS\",\"SPORTS\",\"EVENTS\",\"TRAVEL_AND_LOCAL\",\"MEDICAL\",\"FAMILY\",\"BUSINESS\",\"MEDICAL\",\"FAMILY\",\"LIFESTYLE\",\"FAMILY\",\"FAMILY\",\"BEAUTY\",\"FAMILY\",\"FAMILY\",\"LIFESTYLE\",\"MEDICAL\",\"FAMILY\",\"BUSINESS\",\"COMMUNICATION\",\"FAMILY\",\"TOOLS\",\"HEALTH_AND_FITNESS\",\"COMICS\",\"FAMILY\",\"FAMILY\",\"NEWS_AND_MAGAZINES\",\"FINANCE\",\"FAMILY\",\"COMICS\",\"BUSINESS\",\"PRODUCTIVITY\",\"BOOKS_AND_REFERENCE\",\"PRODUCTIVITY\",\"BOOKS_AND_REFERENCE\",\"FAMILY\",\"FAMILY\",\"MAPS_AND_NAVIGATION\",\"PRODUCTIVITY\",\"SPORTS\",\"FAMILY\",\"FAMILY\",\"COMMUNICATION\",\"FAMILY\",\"SOCIAL\",\"COMMUNICATION\",\"BOOKS_AND_REFERENCE\",\"SPORTS\",\"FINANCE\",\"FAMILY\",\"FAMILY\",\"FAMILY\",\"BUSINESS\",\"TOOLS\",\"TOOLS\",\"TOOLS\",\"TOOLS\",\"FAMILY\",\"COMMUNICATION\",\"LIFESTYLE\",\"COMMUNICATION\",\"COMMUNICATION\",\"NEWS_AND_MAGAZINES\",\"FINANCE\",\"GAME\",\"PHOTOGRAPHY\",\"LIFESTYLE\",\"FAMILY\",\"PHOTOGRAPHY\",\"SOCIAL\",\"PERSONALIZATION\",\"FAMILY\",\"FAMILY\",\"SPORTS\",\"PERSONALIZATION\",\"PHOTOGRAPHY\",\"WEATHER\",\"FAMILY\",\"FAMILY\",\"FAMILY\",\"SPORTS\",\"MAPS_AND_NAVIGATION\",\"SPORTS\",\"FAMILY\",\"PHOTOGRAPHY\",\"COMICS\",\"FAMILY\",\"PERSONALIZATION\",\"FAMILY\",\"FAMILY\",\"GAME\",\"SOCIAL\",\"FAMILY\",\"SOCIAL\",\"GAME\",\"TOOLS\",\"FAMILY\",\"GAME\",\"FAMILY\",\"FAMILY\",\"GAME\",\"GAME\",\"FAMILY\",\"COMMUNICATION\",\"COMMUNICATION\",\"VIDEO_PLAYERS\",\"FAMILY\",\"FAMILY\",\"FAMILY\",\"GAME\",\"FAMILY\",\"HEALTH_AND_FITNESS\",\"TOOLS\",\"FAMILY\",\"FAMILY\",\"GAME\",\"HEALTH_AND_FITNESS\",\"GAME\",\"FAMILY\",\"FAMILY\",\"FAMILY\",\"FAMILY\",\"FAMILY\",\"FAMILY\",\"GAME\",\"BUSINESS\",\"FAMILY\",\"LIFESTYLE\",\"LIFESTYLE\",\"FAMILY\",\"FAMILY\",\"BUSINESS\",\"FAMILY\",\"GAME\",\"BUSINESS\",\"LIFESTYLE\",\"SPORTS\",\"TOOLS\",\"AUTO_AND_VEHICLES\",\"SOCIAL\",\"MEDICAL\",\"TOOLS\",\"PHOTOGRAPHY\",\"FAMILY\",\"LIFESTYLE\",\"TOOLS\",\"PHOTOGRAPHY\",\"NEWS_AND_MAGAZINES\",\"FAMILY\",\"PHOTOGRAPHY\",\"SOCIAL\",\"PRODUCTIVITY\",\"SOCIAL\",\"TOOLS\",\"FAMILY\",\"VIDEO_PLAYERS\",\"FAMILY\",\"FAMILY\",\"AUTO_AND_VEHICLES\",\"PHOTOGRAPHY\",\"VIDEO_PLAYERS\",\"FOOD_AND_DRINK\",\"FAMILY\",\"MAPS_AND_NAVIGATION\",\"TOOLS\",\"SOCIAL\",\"SOCIAL\",\"AUTO_AND_VEHICLES\",\"VIDEO_PLAYERS\",\"SPORTS\",\"VIDEO_PLAYERS\",\"FAMILY\",\"BOOKS_AND_REFERENCE\",\"PHOTOGRAPHY\",\"GAME\",\"TOOLS\",\"TRAVEL_AND_LOCAL\",\"SPORTS\",\"TRAVEL_AND_LOCAL\",\"FAMILY\",\"BUSINESS\",\"TOOLS\",\"TRAVEL_AND_LOCAL\",\"NEWS_AND_MAGAZINES\",\"GAME\",\"PHOTOGRAPHY\",\"SHOPPING\",\"HEALTH_AND_FITNESS\",\"PHOTOGRAPHY\",\"FINANCE\",\"NEWS_AND_MAGAZINES\",\"GAME\",\"VIDEO_PLAYERS\",\"TOOLS\",\"FAMILY\",\"PHOTOGRAPHY\",\"NEWS_AND_MAGAZINES\",\"PHOTOGRAPHY\",\"MEDICAL\",\"LIFESTYLE\",\"VIDEO_PLAYERS\",\"TOOLS\",\"FOOD_AND_DRINK\",\"BUSINESS\",\"PERSONALIZATION\",\"HEALTH_AND_FITNESS\",\"GAME\",\"FAMILY\",\"NEWS_AND_MAGAZINES\",\"SHOPPING\",\"PHOTOGRAPHY\",\"MEDICAL\",\"PHOTOGRAPHY\",\"PRODUCTIVITY\",\"GAME\",\"GAME\",\"SHOPPING\",\"TOOLS\",\"MEDICAL\",\"SHOPPING\",\"HEALTH_AND_FITNESS\",\"BEAUTY\",\"SPORTS\",\"BOOKS_AND_REFERENCE\",\"SPORTS\",\"AUTO_AND_VEHICLES\",\"FAMILY\",\"PHOTOGRAPHY\",\"FAMILY\",\"FINANCE\",\"TRAVEL_AND_LOCAL\",\"FAMILY\",\"TRAVEL_AND_LOCAL\",\"FINANCE\",\"FAMILY\",\"TOOLS\",\"SOCIAL\",\"LIFESTYLE\",\"HEALTH_AND_FITNESS\",\"LIFESTYLE\",\"PHOTOGRAPHY\",\"FAMILY\",\"LIFESTYLE\",\"BOOKS_AND_REFERENCE\",\"AUTO_AND_VEHICLES\",\"BUSINESS\",\"COMMUNICATION\",\"HEALTH_AND_FITNESS\",\"HEALTH_AND_FITNESS\",\"TRAVEL_AND_LOCAL\",\"SHOPPING\",\"HEALTH_AND_FITNESS\",\"FINANCE\",\"TRAVEL_AND_LOCAL\",\"BUSINESS\",\"SOCIAL\",\"GAME\",\"FAMILY\",\"FOOD_AND_DRINK\",\"FOOD_AND_DRINK\",\"FINANCE\",\"SOCIAL\",\"BUSINESS\",\"FINANCE\",\"NEWS_AND_MAGAZINES\",\"BUSINESS\",\"LIFESTYLE\",\"FAMILY\",\"BUSINESS\",\"DATING\",\"BUSINESS\",\"BUSINESS\",\"LIFESTYLE\",\"FINANCE\",\"BUSINESS\",\"TOOLS\",\"FAMILY\",\"FINANCE\",\"SOCIAL\",\"BUSINESS\",\"FAMILY\",\"SPORTS\",\"SOCIAL\",\"DATING\",\"GAME\",\"DATING\",\"LIFESTYLE\",\"BOOKS_AND_REFERENCE\",\"PRODUCTIVITY\",\"SOCIAL\",\"FAMILY\",\"FAMILY\",\"BOOKS_AND_REFERENCE\",\"COMMUNICATION\",\"BOOKS_AND_REFERENCE\",\"TOOLS\",\"GAME\",\"GAME\",\"DATING\",\"FAMILY\",\"FINANCE\",\"FAMILY\",\"SHOPPING\",\"SHOPPING\",\"SHOPPING\",\"GAME\",\"FAMILY\",\"GAME\",\"FAMILY\",\"HEALTH_AND_FITNESS\",\"FAMILY\",\"GAME\",\"PRODUCTIVITY\",\"BEAUTY\",\"GAME\",\"GAME\",\"FAMILY\",\"TOOLS\",\"GAME\",\"FAMILY\",\"FAMILY\",\"GAME\",\"VIDEO_PLAYERS\",\"COMMUNICATION\",\"GAME\",\"FAMILY\",\"PERSONALIZATION\",\"SHOPPING\",\"SOCIAL\",\"VIDEO_PLAYERS\",\"GAME\",\"LIFESTYLE\",\"FAMILY\",\"FAMILY\",\"BUSINESS\",\"GAME\",\"BUSINESS\",\"GAME\",\"FAMILY\",\"BUSINESS\",\"FAMILY\",\"SPORTS\",\"FAMILY\",\"GAME\",\"TOOLS\",\"GAME\",\"PHOTOGRAPHY\",\"GAME\",\"LIFESTYLE\",\"LIFESTYLE\",\"COMMUNICATION\",\"FOOD_AND_DRINK\",\"LIFESTYLE\",\"NEWS_AND_MAGAZINES\",\"LIFESTYLE\",\"LIFESTYLE\",\"FAMILY\",\"BUSINESS\",\"TOOLS\",\"TOOLS\",\"PHOTOGRAPHY\",\"PERSONALIZATION\",\"FOOD_AND_DRINK\",\"TOOLS\",\"SOCIAL\",\"FAMILY\",\"LIFESTYLE\",\"FAMILY\",\"PRODUCTIVITY\",\"SOCIAL\",\"HEALTH_AND_FITNESS\",\"SOCIAL\",\"LIFESTYLE\",\"LIFESTYLE\",\"VIDEO_PLAYERS\",\"FAMILY\",\"FAMILY\",\"FAMILY\",\"LIFESTYLE\",\"FAMILY\",\"FAMILY\",\"BUSINESS\",\"FAMILY\",\"FINANCE\",\"EVENTS\",\"FAMILY\",\"LIFESTYLE\",\"FAMILY\",\"FINANCE\",\"COMMUNICATION\",\"LIFESTYLE\",\"FAMILY\",\"GAME\",\"FAMILY\",\"FAMILY\",\"FAMILY\",\"FAMILY\",\"COMICS\",\"COMICS\",\"GAME\",\"MAPS_AND_NAVIGATION\",\"COMICS\",\"FAMILY\",\"COMICS\",\"GAME\",\"GAME\",\"FAMILY\",\"FAMILY\",\"TOOLS\",\"COMICS\",\"FAMILY\",\"SHOPPING\",\"PHOTOGRAPHY\",\"COMICS\",\"FAMILY\",\"TRAVEL_AND_LOCAL\",\"BUSINESS\",\"FAMILY\",\"PHOTOGRAPHY\",\"WEATHER\",\"MEDICAL\",\"FINANCE\",\"HEALTH_AND_FITNESS\",\"PERSONALIZATION\",\"FINANCE\",\"MAPS_AND_NAVIGATION\",\"GAME\",\"COMMUNICATION\",\"GAME\",\"FINANCE\",\"PERSONALIZATION\",\"GAME\",\"COMMUNICATION\",\"FOOD_AND_DRINK\",\"LIFESTYLE\",\"SPORTS\",\"FINANCE\",\"TOOLS\",\"BUSINESS\",\"FAMILY\",\"FINANCE\",\"SOCIAL\",\"COMMUNICATION\",\"BOOKS_AND_REFERENCE\",\"SPORTS\",\"BOOKS_AND_REFERENCE\",\"SPORTS\",\"BOOKS_AND_REFERENCE\",\"FAMILY\",\"AUTO_AND_VEHICLES\",\"TOOLS\",\"SOCIAL\",\"HEALTH_AND_FITNESS\",\"SHOPPING\",\"SHOPPING\",\"FINANCE\",\"MEDICAL\",\"SPORTS\",\"HEALTH_AND_FITNESS\",\"SHOPPING\",\"FOOD_AND_DRINK\",\"FINANCE\",\"PRODUCTIVITY\",\"SPORTS\",\"FAMILY\",\"HEALTH_AND_FITNESS\",\"COMMUNICATION\",\"PARENTING\",\"FAMILY\",\"PRODUCTIVITY\",\"SPORTS\",\"MEDICAL\",\"BOOKS_AND_REFERENCE\",\"PRODUCTIVITY\",\"TOOLS\",\"GAME\",\"BOOKS_AND_REFERENCE\",\"FINANCE\",\"FAMILY\",\"SHOPPING\",\"BOOKS_AND_REFERENCE\",\"LIFESTYLE\",\"FINANCE\",\"BUSINESS\",\"LIBRARIES_AND_DEMO\",\"BEAUTY\",\"LIBRARIES_AND_DEMO\",\"BOOKS_AND_REFERENCE\",\"LIBRARIES_AND_DEMO\",\"FINANCE\",\"LIBRARIES_AND_DEMO\",\"SPORTS\",\"LIBRARIES_AND_DEMO\",\"LIBRARIES_AND_DEMO\",\"BOOKS_AND_REFERENCE\",\"LIBRARIES_AND_DEMO\",\"BUSINESS\",\"PRODUCTIVITY\",\"LIBRARIES_AND_DEMO\",\"NEWS_AND_MAGAZINES\",\"LIBRARIES_AND_DEMO\",\"LIBRARIES_AND_DEMO\",\"LIBRARIES_AND_DEMO\",\"LIBRARIES_AND_DEMO\",\"LIBRARIES_AND_DEMO\",\"LIBRARIES_AND_DEMO\",\"COMMUNICATION\",\"PRODUCTIVITY\",\"BUSINESS\",\"LIBRARIES_AND_DEMO\",\"FAMILY\",\"LIBRARIES_AND_DEMO\",\"LIBRARIES_AND_DEMO\",\"LIBRARIES_AND_DEMO\",\"LIBRARIES_AND_DEMO\",\"LIBRARIES_AND_DEMO\",\"LIBRARIES_AND_DEMO\",\"LIBRARIES_AND_DEMO\",\"TOOLS\",\"LIFESTYLE\",\"PRODUCTIVITY\",\"PRODUCTIVITY\",\"SOCIAL\",\"GAME\",\"FAMILY\",\"FAMILY\",\"GAME\",\"GAME\",\"FINANCE\",\"FAMILY\",\"GAME\",\"GAME\",\"FAMILY\",\"GAME\",\"GAME\",\"SOCIAL\",\"SOCIAL\",\"LIFESTYLE\",\"GAME\",\"FAMILY\",\"GAME\",\"GAME\",\"FAMILY\",\"EVENTS\",\"PHOTOGRAPHY\",\"FAMILY\",\"GAME\",\"FAMILY\",\"TRAVEL_AND_LOCAL\",\"HEALTH_AND_FITNESS\",\"BUSINESS\",\"MEDICAL\",\"LIFESTYLE\",\"MEDICAL\",\"MEDICAL\",\"MEDICAL\",\"MEDICAL\",\"MEDICAL\",\"FAMILY\",\"MEDICAL\",\"MEDICAL\",\"MEDICAL\",\"MEDICAL\",\"MEDICAL\",\"MEDICAL\",\"BOOKS_AND_REFERENCE\",\"MEDICAL\",\"HEALTH_AND_FITNESS\",\"LIFESTYLE\",\"HEALTH_AND_FITNESS\",\"BUSINESS\",\"FAMILY\",\"MEDICAL\",\"FAMILY\",\"MEDICAL\",\"MEDICAL\",\"MEDICAL\",\"SHOPPING\",\"MEDICAL\",\"MEDICAL\",\"FAMILY\",\"HEALTH_AND_FITNESS\",\"HEALTH_AND_FITNESS\",\"LIFESTYLE\",\"MEDICAL\",\"MEDICAL\",\"TOOLS\",\"HEALTH_AND_FITNESS\",\"MEDICAL\",\"PHOTOGRAPHY\",\"TOOLS\",\"GAME\",\"BOOKS_AND_REFERENCE\",\"TOOLS\",\"PRODUCTIVITY\",\"COMMUNICATION\",\"HOUSE_AND_HOME\",\"TOOLS\",\"FAMILY\",\"PRODUCTIVITY\",\"SPORTS\",\"TRAVEL_AND_LOCAL\",\"FAMILY\",\"PRODUCTIVITY\",\"NEWS_AND_MAGAZINES\",\"PRODUCTIVITY\",\"BUSINESS\",\"TOOLS\",\"FOOD_AND_DRINK\",\"PERSONALIZATION\",\"PERSONALIZATION\",\"FAMILY\",\"FOOD_AND_DRINK\",\"TOOLS\",\"LIFESTYLE\",\"PHOTOGRAPHY\",\"FOOD_AND_DRINK\",\"PERSONALIZATION\",\"PERSONALIZATION\",\"TOOLS\",\"FOOD_AND_DRINK\",\"FAMILY\",\"SHOPPING\",\"TOOLS\",\"LIFESTYLE\",\"FOOD_AND_DRINK\",\"FOOD_AND_DRINK\",\"FAMILY\",\"SHOPPING\",\"FOOD_AND_DRINK\",\"FAMILY\",\"FOOD_AND_DRINK\",\"SHOPPING\",\"TOOLS\",\"SPORTS\",\"FOOD_AND_DRINK\",\"GAME\",\"LIFESTYLE\",\"SPORTS\",\"LIBRARIES_AND_DEMO\",\"VIDEO_PLAYERS\",\"FAMILY\",\"FAMILY\",\"FINANCE\",\"SOCIAL\",\"SOCIAL\",\"SOCIAL\",\"FAMILY\",\"FAMILY\",\"SOCIAL\",\"MAPS_AND_NAVIGATION\",\"GAME\",\"BUSINESS\",\"FAMILY\",\"FAMILY\",\"BUSINESS\",\"PERSONALIZATION\",\"GAME\",\"BUSINESS\",\"VIDEO_PLAYERS\",\"FAMILY\",\"NEWS_AND_MAGAZINES\",\"COMICS\",\"VIDEO_PLAYERS\",\"FAMILY\",\"TOOLS\",\"BOOKS_AND_REFERENCE\",\"FAMILY\",\"PERSONALIZATION\",\"GAME\",\"SHOPPING\",\"VIDEO_PLAYERS\",\"GAME\",\"GAME\",\"VIDEO_PLAYERS\",\"GAME\",\"GAME\",\"FAMILY\",\"GAME\",\"FAMILY\",\"VIDEO_PLAYERS\",\"FAMILY\",\"FAMILY\",\"COMMUNICATION\",\"FAMILY\",\"PRODUCTIVITY\",\"FAMILY\",\"FAMILY\",\"FAMILY\",\"GAME\",\"VIDEO_PLAYERS\",\"FAMILY\",\"FAMILY\",\"GAME\",\"FAMILY\",\"GAME\",\"TOOLS\",\"COMMUNICATION\",\"NEWS_AND_MAGAZINES\",\"MAPS_AND_NAVIGATION\",\"FAMILY\",\"TOOLS\",\"FAMILY\",\"FAMILY\",\"FAMILY\",\"TOOLS\",\"NEWS_AND_MAGAZINES\",\"FAMILY\",\"TOOLS\",\"BUSINESS\",\"FINANCE\",\"MAPS_AND_NAVIGATION\",\"TOOLS\",\"FAMILY\",\"FAMILY\",\"SOCIAL\",\"TOOLS\",\"TOOLS\",\"TOOLS\",\"TOOLS\",\"COMMUNICATION\",\"BUSINESS\",\"SOCIAL\",\"BUSINESS\",\"BUSINESS\",\"PHOTOGRAPHY\",\"COMMUNICATION\",\"COMMUNICATION\",\"VIDEO_PLAYERS\",\"COMMUNICATION\",\"NEWS_AND_MAGAZINES\",\"COMMUNICATION\",\"TOOLS\",\"BUSINESS\",\"COMMUNICATION\",\"FAMILY\",\"BUSINESS\",\"TOOLS\",\"LIFESTYLE\",\"TOOLS\",\"TOOLS\",\"MAPS_AND_NAVIGATION\",\"LIFESTYLE\",\"TOOLS\",\"NEWS_AND_MAGAZINES\",\"TOOLS\",\"TOOLS\",\"TOOLS\",\"FINANCE\",\"TOOLS\",\"SOCIAL\",\"LIBRARIES_AND_DEMO\",\"TOOLS\",\"BUSINESS\",\"FAMILY\",\"TOOLS\",\"TOOLS\",\"COMMUNICATION\",\"TOOLS\",\"TOOLS\",\"FAMILY\",\"FAMILY\",\"MAPS_AND_NAVIGATION\",\"GAME\",\"SHOPPING\",\"FAMILY\",\"TRAVEL_AND_LOCAL\",\"FAMILY\",\"TRAVEL_AND_LOCAL\",\"LIFESTYLE\",\"TRAVEL_AND_LOCAL\",\"FAMILY\",\"FAMILY\",\"FAMILY\",\"FAMILY\",\"LIFESTYLE\",\"FAMILY\",\"BEAUTY\",\"FAMILY\",\"FAMILY\",\"GAME\",\"GAME\",\"SPORTS\",\"FAMILY\",\"GAME\",\"FAMILY\",\"BOOKS_AND_REFERENCE\",\"GAME\",\"BOOKS_AND_REFERENCE\",\"GAME\",\"GAME\",\"FAMILY\",\"BOOKS_AND_REFERENCE\",\"GAME\",\"GAME\",\"BOOKS_AND_REFERENCE\",\"BOOKS_AND_REFERENCE\",\"FAMILY\",\"LIFESTYLE\",\"PRODUCTIVITY\",\"COMMUNICATION\",\"HEALTH_AND_FITNESS\",\"HEALTH_AND_FITNESS\",\"MEDICAL\",\"HEALTH_AND_FITNESS\",\"SHOPPING\",\"BUSINESS\",\"BUSINESS\",\"MEDICAL\",\"FAMILY\",\"TRAVEL_AND_LOCAL\",\"HEALTH_AND_FITNESS\",\"BUSINESS\",\"MEDICAL\",\"SPORTS\",\"SHOPPING\",\"BUSINESS\",\"MAPS_AND_NAVIGATION\",\"MAPS_AND_NAVIGATION\",\"LIFESTYLE\",\"MEDICAL\",\"BUSINESS\",\"FINANCE\",\"TRAVEL_AND_LOCAL\",\"BUSINESS\",\"LIFESTYLE\",\"BUSINESS\",\"SPORTS\",\"BUSINESS\",\"MAPS_AND_NAVIGATION\",\"MAPS_AND_NAVIGATION\",\"SHOPPING\",\"COMMUNICATION\",\"GAME\",\"TOOLS\",\"BUSINESS\",\"BUSINESS\",\"BUSINESS\",\"LIFESTYLE\",\"FAMILY\",\"HEALTH_AND_FITNESS\",\"TRAVEL_AND_LOCAL\",\"TOOLS\",\"GAME\",\"PHOTOGRAPHY\",\"PHOTOGRAPHY\",\"GAME\",\"GAME\",\"LIFESTYLE\",\"BOOKS_AND_REFERENCE\",\"PERSONALIZATION\",\"FINANCE\",\"FINANCE\",\"BUSINESS\",\"MAPS_AND_NAVIGATION\",\"GAME\",\"TOOLS\",\"EVENTS\",\"PERSONALIZATION\",\"BOOKS_AND_REFERENCE\",\"PHOTOGRAPHY\",\"PRODUCTIVITY\",\"PRODUCTIVITY\",\"PERSONALIZATION\",\"PERSONALIZATION\",\"TRAVEL_AND_LOCAL\",\"LIFESTYLE\",\"TRAVEL_AND_LOCAL\",\"FAMILY\",\"PERSONALIZATION\",\"PRODUCTIVITY\",\"ART_AND_DESIGN\",\"PERSONALIZATION\",\"GAME\",\"FAMILY\",\"PERSONALIZATION\",\"PHOTOGRAPHY\",\"SPORTS\",\"BUSINESS\",\"PHOTOGRAPHY\",\"PRODUCTIVITY\",\"FAMILY\",\"FAMILY\",\"TOOLS\",\"FINANCE\",\"FINANCE\",\"FAMILY\",\"FINANCE\",\"VIDEO_PLAYERS\",\"BUSINESS\",\"FINANCE\",\"FINANCE\",\"TOOLS\",\"FINANCE\",\"TOOLS\",\"FINANCE\",\"FINANCE\",\"FAMILY\",\"FINANCE\",\"HEALTH_AND_FITNESS\",\"HEALTH_AND_FITNESS\",\"FAMILY\",\"TOOLS\",\"GAME\",\"FAMILY\",\"GAME\",\"GAME\",\"COMMUNICATION\",\"FINANCE\",\"GAME\",\"GAME\",\"TOOLS\",\"FINANCE\",\"FAMILY\",\"SPORTS\",\"FAMILY\",\"GAME\",\"GAME\",\"GAME\",\"FINANCE\",\"FAMILY\",\"GAME\",\"GAME\",\"FINANCE\",\"FAMILY\",\"GAME\",\"GAME\",\"FAMILY\",\"FAMILY\",\"FAMILY\",\"FAMILY\",\"LIFESTYLE\",\"FAMILY\",\"FAMILY\",\"FAMILY\",\"GAME\",\"FAMILY\",\"FAMILY\",\"FAMILY\",\"PHOTOGRAPHY\",\"FAMILY\",\"FAMILY\",\"FAMILY\",\"FAMILY\",\"FAMILY\",\"FAMILY\",\"FAMILY\",\"FAMILY\",\"TOOLS\",\"FAMILY\",\"FAMILY\",\"FAMILY\",\"FAMILY\",\"GAME\",\"FAMILY\",\"FAMILY\",\"FAMILY\",\"BEAUTY\",\"FAMILY\",\"SOCIAL\",\"FAMILY\",\"FAMILY\",\"FAMILY\",\"FAMILY\",\"FAMILY\",\"FAMILY\",\"FAMILY\",\"GAME\",\"FAMILY\",\"BUSINESS\",\"NEWS_AND_MAGAZINES\",\"MEDICAL\",\"WEATHER\",\"FAMILY\",\"SOCIAL\",\"NEWS_AND_MAGAZINES\",\"NEWS_AND_MAGAZINES\",\"GAME\",\"TOOLS\",\"SHOPPING\",\"NEWS_AND_MAGAZINES\",\"GAME\",\"PERSONALIZATION\",\"NEWS_AND_MAGAZINES\",\"NEWS_AND_MAGAZINES\",\"TRAVEL_AND_LOCAL\",\"SHOPPING\",\"NEWS_AND_MAGAZINES\",\"PERSONALIZATION\",\"NEWS_AND_MAGAZINES\",\"FINANCE\",\"PRODUCTIVITY\",\"TRAVEL_AND_LOCAL\",\"NEWS_AND_MAGAZINES\",\"FAMILY\",\"NEWS_AND_MAGAZINES\",\"NEWS_AND_MAGAZINES\",\"MAPS_AND_NAVIGATION\",\"FAMILY\",\"VIDEO_PLAYERS\",\"FAMILY\",\"GAME\",\"SHOPPING\",\"GAME\",\"TRAVEL_AND_LOCAL\",\"NEWS_AND_MAGAZINES\",\"FAMILY\",\"FAMILY\",\"GAME\",\"TOOLS\",\"FINANCE\",\"TRAVEL_AND_LOCAL\",\"DATING\",\"TOOLS\",\"FAMILY\",\"TOOLS\",\"FINANCE\",\"BUSINESS\",\"BUSINESS\",\"BUSINESS\",\"TOOLS\",\"FAMILY\",\"FAMILY\",\"BUSINESS\",\"BUSINESS\",\"BUSINESS\",\"TOOLS\",\"BUSINESS\",\"LIFESTYLE\",\"PRODUCTIVITY\",\"TOOLS\",\"SHOPPING\",\"BOOKS_AND_REFERENCE\",\"TRAVEL_AND_LOCAL\",\"PRODUCTIVITY\",\"COMMUNICATION\",\"MAPS_AND_NAVIGATION\",\"TOOLS\",\"COMMUNICATION\",\"SPORTS\",\"COMMUNICATION\",\"FAMILY\",\"BUSINESS\",\"TOOLS\",\"FINANCE\",\"TOOLS\",\"TOOLS\",\"FINANCE\",\"HEALTH_AND_FITNESS\",\"SHOPPING\",\"LIFESTYLE\",\"PERSONALIZATION\",\"HEALTH_AND_FITNESS\",\"FAMILY\",\"HEALTH_AND_FITNESS\",\"HOUSE_AND_HOME\",\"COMMUNICATION\",\"FINANCE\",\"FINANCE\",\"PHOTOGRAPHY\",\"PHOTOGRAPHY\",\"FAMILY\",\"BUSINESS\",\"HEALTH_AND_FITNESS\",\"FINANCE\",\"FAMILY\",\"PERSONALIZATION\",\"TOOLS\",\"FAMILY\",\"FINANCE\",\"FINANCE\",\"FAMILY\",\"SPORTS\",\"BUSINESS\",\"COMMUNICATION\",\"PHOTOGRAPHY\",\"FINANCE\",\"TOOLS\",\"SOCIAL\",\"GAME\",\"PRODUCTIVITY\",\"GAME\",\"GAME\",\"PRODUCTIVITY\",\"LIFESTYLE\",\"LIFESTYLE\",\"BUSINESS\",\"NEWS_AND_MAGAZINES\",\"BUSINESS\",\"BUSINESS\",\"NEWS_AND_MAGAZINES\",\"LIFESTYLE\",\"BOOKS_AND_REFERENCE\",\"LIFESTYLE\",\"FAMILY\",\"TOOLS\",\"FAMILY\",\"LIFESTYLE\",\"FAMILY\",\"FAMILY\",\"SPORTS\",\"LIBRARIES_AND_DEMO\",\"LIFESTYLE\",\"ART_AND_DESIGN\",\"TOOLS\",\"TRAVEL_AND_LOCAL\",\"BUSINESS\",\"VIDEO_PLAYERS\",\"MAPS_AND_NAVIGATION\",\"LIFESTYLE\",\"TOOLS\",\"TRAVEL_AND_LOCAL\",\"NEWS_AND_MAGAZINES\",\"NEWS_AND_MAGAZINES\",\"LIFESTYLE\",\"TOOLS\",\"SPORTS\",\"MEDICAL\",\"BUSINESS\",\"LIFESTYLE\",\"TOOLS\",\"FAMILY\",\"TOOLS\",\"FAMILY\",\"BUSINESS\",\"MEDICAL\",\"FAMILY\",\"FAMILY\",\"FINANCE\",\"SPORTS\",\"FAMILY\",\"FAMILY\",\"FAMILY\",\"BUSINESS\",\"GAME\",\"FAMILY\",\"FAMILY\",\"BUSINESS\",\"BUSINESS\",\"FAMILY\",\"FAMILY\",\"TOOLS\",\"FAMILY\",\"LIBRARIES_AND_DEMO\",\"LIFESTYLE\",\"TOOLS\",\"TOOLS\",\"NEWS_AND_MAGAZINES\",\"PRODUCTIVITY\",\"TRAVEL_AND_LOCAL\",\"PARENTING\",\"PRODUCTIVITY\",\"LIFESTYLE\",\"LIFESTYLE\",\"BUSINESS\",\"GAME\",\"TOOLS\",\"LIFESTYLE\",\"FAMILY\",\"TRAVEL_AND_LOCAL\",\"TOOLS\",\"LIFESTYLE\",\"LIFESTYLE\",\"LIFESTYLE\",\"PERSONALIZATION\",\"COMMUNICATION\",\"FINANCE\",\"LIFESTYLE\",\"TOOLS\",\"FINANCE\",\"PERSONALIZATION\",\"LIFESTYLE\",\"LIFESTYLE\",\"PERSONALIZATION\",\"PERSONALIZATION\",\"FINANCE\",\"PERSONALIZATION\",\"TOOLS\",\"MEDICAL\",\"PERSONALIZATION\",\"HEALTH_AND_FITNESS\",\"HEALTH_AND_FITNESS\",\"LIFESTYLE\",\"HEALTH_AND_FITNESS\",\"GAME\",\"LIFESTYLE\",\"SPORTS\",\"HEALTH_AND_FITNESS\",\"FAMILY\",\"HEALTH_AND_FITNESS\",\"HEALTH_AND_FITNESS\",\"LIFESTYLE\",\"SPORTS\",\"HEALTH_AND_FITNESS\",\"SPORTS\",\"SPORTS\",\"HEALTH_AND_FITNESS\",\"HEALTH_AND_FITNESS\",\"HEALTH_AND_FITNESS\",\"NEWS_AND_MAGAZINES\",\"GAME\",\"NEWS_AND_MAGAZINES\",\"PRODUCTIVITY\",\"HEALTH_AND_FITNESS\",\"FAMILY\",\"FAMILY\",\"FAMILY\",\"MAPS_AND_NAVIGATION\",\"PHOTOGRAPHY\",\"FAMILY\",\"PRODUCTIVITY\",\"PRODUCTIVITY\",\"FAMILY\",\"SPORTS\",\"NEWS_AND_MAGAZINES\",\"FAMILY\",\"FAMILY\",\"SOCIAL\",\"FAMILY\",\"EVENTS\",\"DATING\",\"TOOLS\",\"TOOLS\",\"TOOLS\",\"FAMILY\",\"FAMILY\",\"FAMILY\",\"TOOLS\",\"PRODUCTIVITY\",\"FAMILY\",\"FAMILY\",\"FAMILY\",\"SPORTS\",\"FAMILY\",\"NEWS_AND_MAGAZINES\",\"TOOLS\",\"FAMILY\",\"FAMILY\",\"FAMILY\",\"FAMILY\",\"FAMILY\",\"NEWS_AND_MAGAZINES\",\"FAMILY\",\"NEWS_AND_MAGAZINES\",\"FAMILY\",\"PRODUCTIVITY\",\"NEWS_AND_MAGAZINES\",\"FAMILY\",\"NEWS_AND_MAGAZINES\",\"FAMILY\",\"NEWS_AND_MAGAZINES\",\"LIFESTYLE\",\"AUTO_AND_VEHICLES\",\"SOCIAL\",\"COMMUNICATION\",\"PRODUCTIVITY\",\"FAMILY\",\"TRAVEL_AND_LOCAL\",\"HOUSE_AND_HOME\",\"SHOPPING\",\"LIFESTYLE\",\"COMMUNICATION\",\"LIFESTYLE\",\"NEWS_AND_MAGAZINES\",\"SOCIAL\",\"BUSINESS\",\"GAME\",\"SHOPPING\",\"LIFESTYLE\",\"NEWS_AND_MAGAZINES\",\"FAMILY\",\"TOOLS\",\"TOOLS\",\"BUSINESS\",\"PRODUCTIVITY\",\"MEDICAL\",\"FAMILY\",\"LIBRARIES_AND_DEMO\",\"FAMILY\",\"HEALTH_AND_FITNESS\",\"LIFESTYLE\",\"PRODUCTIVITY\",\"FINANCE\",\"PRODUCTIVITY\",\"FAMILY\",\"BUSINESS\",\"PRODUCTIVITY\",\"BUSINESS\",\"BUSINESS\",\"SHOPPING\",\"FAMILY\",\"PERSONALIZATION\",\"VIDEO_PLAYERS\",\"BUSINESS\",\"FAMILY\",\"HEALTH_AND_FITNESS\",\"FINANCE\",\"GAME\",\"BUSINESS\",\"TOOLS\",\"GAME\",\"PRODUCTIVITY\",\"FAMILY\",\"LIBRARIES_AND_DEMO\",\"FAMILY\",\"FAMILY\",\"FAMILY\",\"PRODUCTIVITY\",\"LIBRARIES_AND_DEMO\",\"NEWS_AND_MAGAZINES\",\"FAMILY\",\"HEALTH_AND_FITNESS\",\"GAME\",\"GAME\",\"FAMILY\",\"SOCIAL\",\"AUTO_AND_VEHICLES\",\"VIDEO_PLAYERS\",\"GAME\",\"PRODUCTIVITY\",\"COMMUNICATION\",\"SHOPPING\",\"PHOTOGRAPHY\",\"VIDEO_PLAYERS\",\"COMMUNICATION\",\"GAME\",\"GAME\",\"GAME\",\"PRODUCTIVITY\",\"BUSINESS\",\"HEALTH_AND_FITNESS\",\"SOCIAL\",\"TRAVEL_AND_LOCAL\",\"GAME\",\"GAME\",\"FAMILY\",\"PRODUCTIVITY\",\"FAMILY\",\"GAME\",\"FAMILY\",\"GAME\",\"BUSINESS\",\"FOOD_AND_DRINK\",\"SHOPPING\",\"BUSINESS\",\"FAMILY\",\"GAME\",\"NEWS_AND_MAGAZINES\",\"FAMILY\",\"FAMILY\",\"GAME\",\"GAME\",\"FINANCE\",\"LIFESTYLE\",\"SHOPPING\",\"FAMILY\",\"FAMILY\",\"BEAUTY\",\"FAMILY\",\"FAMILY\",\"LIFESTYLE\",\"PERSONALIZATION\",\"GAME\",\"SHOPPING\",\"FAMILY\",\"SHOPPING\",\"SHOPPING\",\"HEALTH_AND_FITNESS\",\"FAMILY\",\"GAME\",\"GAME\",\"HEALTH_AND_FITNESS\",\"BUSINESS\",\"FAMILY\",\"FAMILY\",\"BUSINESS\",\"FAMILY\",\"HEALTH_AND_FITNESS\",\"FAMILY\",\"COMMUNICATION\",\"LIFESTYLE\",\"GAME\",\"TOOLS\",\"FAMILY\",\"GAME\",\"WEATHER\",\"MEDICAL\",\"HEALTH_AND_FITNESS\",\"FAMILY\",\"PHOTOGRAPHY\",\"PHOTOGRAPHY\",\"SHOPPING\",\"BOOKS_AND_REFERENCE\",\"TOOLS\",\"SHOPPING\",\"FAMILY\",\"PERSONALIZATION\",\"PERSONALIZATION\",\"PERSONALIZATION\",\"TOOLS\",\"SHOPPING\",\"LIFESTYLE\",\"LIFESTYLE\",\"SHOPPING\",\"AUTO_AND_VEHICLES\",\"BUSINESS\",\"FAMILY\",\"TOOLS\",\"FAMILY\",\"SPORTS\",\"TOOLS\",\"PHOTOGRAPHY\",\"SHOPPING\",\"SHOPPING\",\"PERSONALIZATION\",\"PERSONALIZATION\",\"MEDICAL\",\"FAMILY\",\"FAMILY\",\"HEALTH_AND_FITNESS\",\"LIFESTYLE\",\"TOOLS\",\"TOOLS\",\"FINANCE\",\"LIFESTYLE\",\"PERSONALIZATION\",\"LIFESTYLE\",\"HEALTH_AND_FITNESS\",\"MEDICAL\",\"TOOLS\",\"PERSONALIZATION\",\"TOOLS\",\"TOOLS\",\"TOOLS\",\"TOOLS\",\"COMMUNICATION\",\"TOOLS\",\"TOOLS\",\"TOOLS\",\"TOOLS\",\"TOOLS\",\"PERSONALIZATION\",\"TOOLS\",\"PRODUCTIVITY\",\"TOOLS\",\"TOOLS\",\"PERSONALIZATION\",\"PERSONALIZATION\",\"TOOLS\",\"TOOLS\",\"TOOLS\",\"TOOLS\",\"TOOLS\",\"TOOLS\",\"TOOLS\",\"PERSONALIZATION\",\"TOOLS\",\"TOOLS\",\"PERSONALIZATION\",\"TOOLS\",\"TOOLS\",\"TOOLS\",\"PERSONALIZATION\",\"PHOTOGRAPHY\",\"TOOLS\",\"TOOLS\",\"PRODUCTIVITY\",\"PERSONALIZATION\",\"TOOLS\",\"TOOLS\",\"TOOLS\",\"FAMILY\",\"FAMILY\",\"FAMILY\",\"FAMILY\",\"FAMILY\",\"FAMILY\",\"FAMILY\",\"FAMILY\",\"FAMILY\",\"GAME\",\"GAME\",\"FAMILY\",\"FAMILY\",\"FAMILY\",\"FAMILY\",\"GAME\",\"FAMILY\",\"GAME\",\"GAME\",\"GAME\",\"FAMILY\",\"FAMILY\",\"FAMILY\",\"FAMILY\",\"FAMILY\",\"FAMILY\",\"FAMILY\",\"FAMILY\",\"FAMILY\",\"GAME\",\"GAME\",\"FAMILY\",\"FAMILY\",\"FAMILY\",\"SHOPPING\",\"FINANCE\",\"LIFESTYLE\",\"FAMILY\",\"PARENTING\",\"LIFESTYLE\",\"TOOLS\",\"LIFESTYLE\",\"NEWS_AND_MAGAZINES\",\"SHOPPING\",\"COMMUNICATION\",\"LIFESTYLE\",\"BUSINESS\",\"FAMILY\",\"MAPS_AND_NAVIGATION\",\"GAME\",\"GAME\",\"FINANCE\",\"BUSINESS\",\"FINANCE\",\"SOCIAL\",\"GAME\",\"PRODUCTIVITY\",\"GAME\",\"PRODUCTIVITY\",\"LIFESTYLE\",\"FINANCE\",\"BUSINESS\",\"FINANCE\",\"FINANCE\",\"FINANCE\",\"LIFESTYLE\",\"GAME\",\"FINANCE\",\"FAMILY\",\"FAMILY\",\"FAMILY\",\"GAME\",\"TRAVEL_AND_LOCAL\",\"TOOLS\",\"MAPS_AND_NAVIGATION\",\"SOCIAL\",\"FINANCE\",\"MAPS_AND_NAVIGATION\",\"FAMILY\",\"LIFESTYLE\",\"FAMILY\",\"FAMILY\",\"TOOLS\",\"MEDICAL\",\"MEDICAL\",\"FAMILY\",\"FAMILY\",\"BUSINESS\",\"MEDICAL\",\"LIFESTYLE\",\"TOOLS\",\"TOOLS\",\"BUSINESS\",\"FAMILY\",\"FAMILY\",\"TOOLS\",\"PRODUCTIVITY\",\"FAMILY\",\"GAME\",\"PERSONALIZATION\",\"TOOLS\",\"FAMILY\",\"BUSINESS\",\"GAME\",\"BUSINESS\",\"LIFESTYLE\",\"TOOLS\",\"BUSINESS\",\"FAMILY\",\"COMMUNICATION\",\"FAMILY\",\"TOOLS\",\"FAMILY\",\"TOOLS\",\"FAMILY\",\"LIFESTYLE\",\"FAMILY\",\"SOCIAL\",\"SPORTS\",\"TOOLS\",\"FAMILY\",\"TRAVEL_AND_LOCAL\",\"NEWS_AND_MAGAZINES\",\"FAMILY\",\"COMMUNICATION\",\"TOOLS\",\"FAMILY\",\"FINANCE\",\"FAMILY\",\"COMMUNICATION\",\"BOOKS_AND_REFERENCE\",\"FINANCE\",\"GAME\",\"BUSINESS\",\"NEWS_AND_MAGAZINES\",\"BUSINESS\",\"TRAVEL_AND_LOCAL\",\"COMMUNICATION\",\"GAME\",\"PRODUCTIVITY\",\"COMMUNICATION\",\"PRODUCTIVITY\",\"BOOKS_AND_REFERENCE\",\"GAME\",\"FAMILY\",\"FAMILY\",\"FAMILY\",\"GAME\",\"FAMILY\",\"BOOKS_AND_REFERENCE\",\"BUSINESS\",\"GAME\",\"LIFESTYLE\",\"FAMILY\",\"GAME\",\"GAME\",\"SPORTS\",\"FAMILY\",\"PRODUCTIVITY\",\"BUSINESS\",\"TOOLS\",\"FAMILY\",\"MAPS_AND_NAVIGATION\",\"FAMILY\",\"COMMUNICATION\",\"TOOLS\",\"TOOLS\",\"TOOLS\",\"FAMILY\",\"TOOLS\",\"FAMILY\",\"FAMILY\",\"FAMILY\",\"PERSONALIZATION\",\"FAMILY\",\"PRODUCTIVITY\",\"FAMILY\",\"FAMILY\",\"FAMILY\",\"TOOLS\",\"BOOKS_AND_REFERENCE\",\"TOOLS\",\"TOOLS\",\"FAMILY\",\"FAMILY\",\"FAMILY\",\"TOOLS\",\"TOOLS\",\"FAMILY\",\"FAMILY\",\"AUTO_AND_VEHICLES\",\"TOOLS\",\"PERSONALIZATION\",\"FAMILY\",\"FAMILY\",\"FAMILY\",\"TOOLS\",\"FAMILY\",\"HEALTH_AND_FITNESS\",\"AUTO_AND_VEHICLES\",\"TOOLS\",\"TOOLS\",\"HEALTH_AND_FITNESS\",\"TOOLS\",\"BUSINESS\",\"PRODUCTIVITY\",\"PRODUCTIVITY\",\"GAME\",\"GAME\",\"GAME\",\"GAME\",\"COMMUNICATION\",\"GAME\",\"FAMILY\",\"GAME\",\"GAME\",\"GAME\",\"BUSINESS\",\"FAMILY\",\"FAMILY\",\"GAME\",\"FAMILY\",\"FAMILY\",\"BUSINESS\",\"BUSINESS\",\"GAME\",\"GAME\",\"LIFESTYLE\",\"GAME\",\"GAME\",\"COMMUNICATION\",\"GAME\",\"FAMILY\",\"GAME\",\"COMMUNICATION\",\"TOOLS\",\"FAMILY\",\"FAMILY\",\"BOOKS_AND_REFERENCE\",\"GAME\",\"FAMILY\",\"FAMILY\",\"FAMILY\",\"FAMILY\",\"FAMILY\",\"GAME\",\"GAME\",\"PRODUCTIVITY\",\"FAMILY\",\"MEDICAL\",\"MEDICAL\",\"MEDICAL\",\"MEDICAL\",\"BOOKS_AND_REFERENCE\",\"MEDICAL\",\"MEDICAL\",\"FAMILY\",\"NEWS_AND_MAGAZINES\",\"FAMILY\",\"FAMILY\",\"FAMILY\",\"MEDICAL\",\"TOOLS\",\"MEDICAL\",\"MEDICAL\",\"MEDICAL\",\"MEDICAL\",\"MEDICAL\",\"FAMILY\",\"MEDICAL\",\"FAMILY\",\"FAMILY\",\"MEDICAL\",\"HEALTH_AND_FITNESS\",\"PRODUCTIVITY\",\"MEDICAL\",\"MEDICAL\",\"MEDICAL\",\"TOOLS\",\"MEDICAL\",\"TOOLS\",\"PRODUCTIVITY\",\"GAME\",\"FAMILY\",\"MEDICAL\",\"FAMILY\",\"SHOPPING\",\"FINANCE\",\"MEDICAL\",\"MEDICAL\",\"FINANCE\",\"FINANCE\",\"FINANCE\",\"PRODUCTIVITY\",\"FINANCE\",\"FINANCE\",\"FINANCE\",\"FINANCE\",\"FINANCE\",\"FINANCE\",\"FINANCE\",\"FINANCE\",\"FINANCE\",\"FINANCE\",\"FINANCE\",\"FINANCE\",\"FINANCE\",\"FINANCE\",\"FINANCE\",\"FINANCE\",\"FINANCE\",\"FINANCE\",\"FINANCE\",\"FINANCE\",\"FINANCE\",\"FINANCE\",\"FINANCE\",\"FINANCE\",\"FINANCE\",\"FAMILY\",\"COMMUNICATION\",\"TOOLS\",\"FAMILY\",\"GAME\",\"GAME\",\"GAME\",\"BUSINESS\",\"BUSINESS\",\"BUSINESS\",\"FAMILY\",\"BUSINESS\",\"BUSINESS\",\"BUSINESS\",\"BOOKS_AND_REFERENCE\",\"BUSINESS\",\"PRODUCTIVITY\",\"BUSINESS\",\"FAMILY\",\"BUSINESS\",\"TOOLS\",\"FAMILY\",\"PRODUCTIVITY\",\"BUSINESS\",\"BUSINESS\",\"FAMILY\",\"BUSINESS\",\"BUSINESS\",\"PRODUCTIVITY\",\"BOOKS_AND_REFERENCE\",\"BUSINESS\",\"BUSINESS\",\"BUSINESS\",\"PRODUCTIVITY\",\"BUSINESS\",\"BUSINESS\",\"TOOLS\",\"FAMILY\",\"FAMILY\",\"TOOLS\",\"FAMILY\",\"BUSINESS\",\"PERSONALIZATION\",\"BUSINESS\",\"BUSINESS\",\"BUSINESS\",\"BUSINESS\",\"BUSINESS\",\"TOOLS\",\"BUSINESS\",\"BUSINESS\",\"TOOLS\",\"BUSINESS\",\"FAMILY\",\"FAMILY\",\"FAMILY\",\"NEWS_AND_MAGAZINES\",\"FAMILY\",\"COMICS\",\"FAMILY\",\"GAME\",\"FAMILY\",\"COMMUNICATION\",\"COMMUNICATION\",\"PHOTOGRAPHY\",\"FAMILY\",\"COMMUNICATION\",\"FAMILY\",\"LIFESTYLE\",\"FAMILY\",\"FAMILY\",\"COMMUNICATION\",\"FAMILY\",\"TOOLS\",\"FAMILY\",\"COMMUNICATION\",\"BOOKS_AND_REFERENCE\",\"PRODUCTIVITY\",\"BUSINESS\",\"FAMILY\",\"FAMILY\",\"NEWS_AND_MAGAZINES\",\"FAMILY\",\"COMMUNICATION\",\"FAMILY\",\"TOOLS\",\"FAMILY\",\"FAMILY\",\"FAMILY\",\"BUSINESS\",\"FAMILY\",\"FAMILY\",\"FAMILY\",\"FAMILY\",\"TRAVEL_AND_LOCAL\",\"TOOLS\",\"FAMILY\",\"FAMILY\",\"FAMILY\",\"VIDEO_PLAYERS\",\"BUSINESS\",\"FAMILY\",\"FAMILY\",\"BUSINESS\",\"SPORTS\",\"FAMILY\",\"PERSONALIZATION\",\"LIFESTYLE\",\"LIFESTYLE\",\"BUSINESS\",\"LIFESTYLE\",\"FAMILY\",\"PRODUCTIVITY\",\"COMMUNICATION\",\"GAME\",\"PERSONALIZATION\",\"TOOLS\",\"FAMILY\",\"BUSINESS\",\"PRODUCTIVITY\",\"COMMUNICATION\",\"LIFESTYLE\",\"VIDEO_PLAYERS\",\"FAMILY\",\"PRODUCTIVITY\",\"TOOLS\",\"FAMILY\",\"BUSINESS\",\"BUSINESS\",\"BUSINESS\",\"BUSINESS\",\"BUSINESS\",\"PHOTOGRAPHY\",\"PRODUCTIVITY\",\"GAME\",\"FAMILY\",\"FINANCE\",\"GAME\",\"NEWS_AND_MAGAZINES\",\"LIFESTYLE\",\"PERSONALIZATION\",\"FINANCE\",\"TOOLS\",\"MAPS_AND_NAVIGATION\",\"FINANCE\",\"COMMUNICATION\",\"COMMUNICATION\",\"FAMILY\",\"MEDICAL\",\"SHOPPING\",\"NEWS_AND_MAGAZINES\",\"MEDICAL\",\"FINANCE\",\"LIFESTYLE\",\"FAMILY\",\"NEWS_AND_MAGAZINES\",\"GAME\",\"SHOPPING\",\"BUSINESS\",\"NEWS_AND_MAGAZINES\",\"PRODUCTIVITY\",\"BUSINESS\",\"HEALTH_AND_FITNESS\",\"BOOKS_AND_REFERENCE\",\"PRODUCTIVITY\",\"FAMILY\",\"FINANCE\",\"FAMILY\",\"BOOKS_AND_REFERENCE\",\"FAMILY\",\"GAME\",\"MAPS_AND_NAVIGATION\",\"SOCIAL\",\"SHOPPING\",\"FAMILY\",\"PHOTOGRAPHY\",\"FINANCE\",\"TRAVEL_AND_LOCAL\",\"FOOD_AND_DRINK\",\"LIFESTYLE\",\"TOOLS\",\"HOUSE_AND_HOME\",\"SHOPPING\",\"SHOPPING\",\"LIFESTYLE\",\"FAMILY\",\"MAPS_AND_NAVIGATION\",\"SOCIAL\",\"LIFESTYLE\",\"HOUSE_AND_HOME\",\"BOOKS_AND_REFERENCE\",\"COMMUNICATION\",\"SOCIAL\",\"TOOLS\",\"WEATHER\",\"PERSONALIZATION\",\"COMMUNICATION\",\"NEWS_AND_MAGAZINES\",\"PHOTOGRAPHY\",\"SHOPPING\",\"TOOLS\",\"BOOKS_AND_REFERENCE\",\"MAPS_AND_NAVIGATION\",\"FAMILY\",\"PRODUCTIVITY\",\"SPORTS\",\"TOOLS\",\"WEATHER\",\"LIFESTYLE\",\"SPORTS\",\"GAME\",\"FAMILY\",\"PHOTOGRAPHY\",\"TOOLS\",\"TOOLS\",\"TOOLS\",\"TOOLS\",\"TOOLS\",\"FAMILY\",\"FAMILY\",\"SPORTS\",\"PHOTOGRAPHY\",\"GAME\",\"FAMILY\",\"GAME\",\"GAME\",\"FAMILY\",\"PERSONALIZATION\",\"TOOLS\",\"FAMILY\",\"GAME\",\"GAME\",\"GAME\",\"GAME\",\"MAPS_AND_NAVIGATION\",\"TOOLS\",\"TOOLS\",\"TOOLS\",\"GAME\",\"LIBRARIES_AND_DEMO\",\"MAPS_AND_NAVIGATION\",\"TOOLS\",\"FAMILY\",\"TOOLS\",\"TOOLS\",\"NEWS_AND_MAGAZINES\",\"TOOLS\",\"FAMILY\",\"FAMILY\",\"TOOLS\",\"TOOLS\",\"TRAVEL_AND_LOCAL\",\"PRODUCTIVITY\",\"BOOKS_AND_REFERENCE\",\"MAPS_AND_NAVIGATION\",\"BUSINESS\",\"TRAVEL_AND_LOCAL\",\"TOOLS\",\"BOOKS_AND_REFERENCE\",\"BUSINESS\",\"TOOLS\",\"SOCIAL\",\"LIFESTYLE\",\"TOOLS\",\"BOOKS_AND_REFERENCE\",\"MAPS_AND_NAVIGATION\",\"BUSINESS\",\"FAMILY\",\"TOOLS\",\"FAMILY\",\"GAME\",\"TOOLS\",\"PHOTOGRAPHY\",\"MAPS_AND_NAVIGATION\",\"TOOLS\",\"FAMILY\",\"COMICS\",\"GAME\",\"GAME\",\"FAMILY\",\"FAMILY\",\"GAME\",\"FAMILY\",\"GAME\",\"PERSONALIZATION\",\"SOCIAL\",\"COMICS\",\"GAME\",\"FAMILY\",\"COMICS\",\"GAME\",\"FAMILY\",\"GAME\",\"GAME\",\"BOOKS_AND_REFERENCE\",\"TOOLS\",\"BOOKS_AND_REFERENCE\",\"FAMILY\",\"TOOLS\",\"FAMILY\",\"MAPS_AND_NAVIGATION\",\"GAME\",\"FAMILY\",\"TRAVEL_AND_LOCAL\",\"FAMILY\",\"FAMILY\",\"NEWS_AND_MAGAZINES\",\"COMICS\",\"FAMILY\",\"FAMILY\",\"PHOTOGRAPHY\",\"BOOKS_AND_REFERENCE\",\"MAPS_AND_NAVIGATION\",\"TRAVEL_AND_LOCAL\",\"NEWS_AND_MAGAZINES\",\"AUTO_AND_VEHICLES\",\"COMMUNICATION\",\"WEATHER\",\"COMMUNICATION\",\"BOOKS_AND_REFERENCE\",\"PHOTOGRAPHY\",\"MAPS_AND_NAVIGATION\",\"GAME\",\"FAMILY\",\"FAMILY\",\"TOOLS\",\"FAMILY\",\"TOOLS\",\"GAME\",\"PHOTOGRAPHY\",\"FAMILY\",\"COMMUNICATION\",\"PERSONALIZATION\",\"PHOTOGRAPHY\",\"GAME\",\"GAME\",\"FAMILY\",\"GAME\",\"TOOLS\",\"GAME\",\"FAMILY\",\"GAME\",\"GAME\",\"FAMILY\",\"TOOLS\",\"GAME\",\"PRODUCTIVITY\",\"MAPS_AND_NAVIGATION\",\"BUSINESS\",\"PHOTOGRAPHY\",\"SPORTS\",\"TOOLS\",\"LIFESTYLE\",\"SOCIAL\",\"TOOLS\",\"BUSINESS\",\"SPORTS\",\"FAMILY\",\"SOCIAL\",\"PARENTING\",\"PRODUCTIVITY\",\"BUSINESS\",\"LIFESTYLE\",\"TOOLS\",\"FINANCE\",\"FAMILY\",\"TOOLS\",\"MAPS_AND_NAVIGATION\",\"BUSINESS\",\"TOOLS\",\"SOCIAL\",\"TOOLS\",\"NEWS_AND_MAGAZINES\",\"TOOLS\",\"BOOKS_AND_REFERENCE\",\"BUSINESS\",\"LIFESTYLE\",\"EVENTS\",\"MAPS_AND_NAVIGATION\",\"COMMUNICATION\",\"SHOPPING\",\"SHOPPING\",\"SHOPPING\",\"TOOLS\",\"SHOPPING\",\"VIDEO_PLAYERS\",\"GAME\",\"SHOPPING\",\"FAMILY\",\"VIDEO_PLAYERS\",\"PRODUCTIVITY\",\"VIDEO_PLAYERS\",\"TOOLS\",\"GAME\",\"TOOLS\",\"TRAVEL_AND_LOCAL\",\"PRODUCTIVITY\",\"HEALTH_AND_FITNESS\",\"SHOPPING\",\"COMMUNICATION\",\"SHOPPING\",\"PRODUCTIVITY\",\"TRAVEL_AND_LOCAL\",\"FINANCE\",\"LIFESTYLE\",\"HEALTH_AND_FITNESS\",\"SHOPPING\",\"TOOLS\",\"BUSINESS\",\"NEWS_AND_MAGAZINES\",\"NEWS_AND_MAGAZINES\",\"LIFESTYLE\",\"SHOPPING\",\"GAME\",\"GAME\",\"GAME\",\"GAME\",\"FAMILY\",\"FAMILY\",\"GAME\",\"FAMILY\",\"FAMILY\",\"GAME\",\"FAMILY\",\"GAME\",\"FAMILY\",\"FAMILY\",\"FAMILY\",\"SOCIAL\",\"FAMILY\",\"FAMILY\",\"FAMILY\",\"LIFESTYLE\",\"GAME\",\"FAMILY\",\"FAMILY\",\"FAMILY\",\"NEWS_AND_MAGAZINES\",\"SPORTS\",\"FAMILY\",\"LIFESTYLE\",\"SPORTS\",\"FAMILY\",\"GAME\",\"FAMILY\",\"FAMILY\",\"BOOKS_AND_REFERENCE\",\"GAME\",\"FAMILY\",\"PERSONALIZATION\",\"BUSINESS\",\"GAME\",\"GAME\",\"FAMILY\",\"FAMILY\",\"SOCIAL\",\"TOOLS\",\"SOCIAL\",\"FAMILY\",\"HEALTH_AND_FITNESS\",\"SPORTS\",\"PHOTOGRAPHY\",\"GAME\",\"PHOTOGRAPHY\",\"COMMUNICATION\",\"FAMILY\",\"TOOLS\",\"GAME\",\"PHOTOGRAPHY\",\"SHOPPING\",\"GAME\",\"GAME\",\"PRODUCTIVITY\",\"VIDEO_PLAYERS\",\"GAME\",\"SOCIAL\",\"VIDEO_PLAYERS\",\"FAMILY\",\"FAMILY\",\"FAMILY\",\"TOOLS\",\"TOOLS\",\"FAMILY\",\"FAMILY\",\"FAMILY\",\"FAMILY\",\"GAME\",\"FAMILY\",\"BOOKS_AND_REFERENCE\",\"GAME\",\"FAMILY\",\"SPORTS\",\"TRAVEL_AND_LOCAL\",\"SPORTS\",\"SPORTS\",\"FAMILY\",\"FAMILY\",\"BUSINESS\",\"PRODUCTIVITY\",\"FAMILY\",\"SOCIAL\",\"LIFESTYLE\",\"FAMILY\",\"FAMILY\",\"LIFESTYLE\",\"FAMILY\",\"FAMILY\",\"PERSONALIZATION\",\"FAMILY\",\"COMMUNICATION\",\"FAMILY\",\"COMMUNICATION\",\"MAPS_AND_NAVIGATION\",\"LIFESTYLE\",\"FAMILY\",\"SOCIAL\",\"COMMUNICATION\",\"BEAUTY\",\"LIFESTYLE\",\"SOCIAL\",\"FINANCE\",\"LIFESTYLE\",\"LIFESTYLE\",\"TOOLS\",\"TOOLS\",\"TOOLS\",\"TOOLS\",\"PRODUCTIVITY\",\"TOOLS\",\"TOOLS\",\"FAMILY\",\"TOOLS\",\"FAMILY\",\"TOOLS\",\"FINANCE\",\"FAMILY\",\"TOOLS\",\"TOOLS\",\"VIDEO_PLAYERS\",\"TOOLS\",\"PRODUCTIVITY\",\"PHOTOGRAPHY\",\"SOCIAL\",\"TOOLS\",\"TOOLS\",\"VIDEO_PLAYERS\",\"SPORTS\",\"VIDEO_PLAYERS\",\"VIDEO_PLAYERS\",\"PRODUCTIVITY\",\"TOOLS\",\"TOOLS\",\"VIDEO_PLAYERS\",\"SOCIAL\",\"BOOKS_AND_REFERENCE\",\"SOCIAL\",\"COMMUNICATION\",\"FAMILY\",\"COMMUNICATION\",\"TOOLS\",\"MEDICAL\",\"SOCIAL\",\"TOOLS\",\"GAME\",\"PERSONALIZATION\",\"COMMUNICATION\",\"TOOLS\",\"MAPS_AND_NAVIGATION\",\"TOOLS\",\"TOOLS\",\"SOCIAL\",\"TRAVEL_AND_LOCAL\",\"COMMUNICATION\",\"SPORTS\",\"NEWS_AND_MAGAZINES\",\"PHOTOGRAPHY\",\"MAPS_AND_NAVIGATION\",\"MEDICAL\",\"SOCIAL\",\"FAMILY\",\"FINANCE\",\"SHOPPING\",\"TOOLS\",\"TOOLS\",\"PRODUCTIVITY\",\"SOCIAL\",\"GAME\",\"BUSINESS\",\"FAMILY\",\"FAMILY\",\"NEWS_AND_MAGAZINES\",\"NEWS_AND_MAGAZINES\",\"NEWS_AND_MAGAZINES\",\"NEWS_AND_MAGAZINES\",\"BUSINESS\",\"NEWS_AND_MAGAZINES\",\"SOCIAL\",\"NEWS_AND_MAGAZINES\",\"PRODUCTIVITY\",\"NEWS_AND_MAGAZINES\",\"NEWS_AND_MAGAZINES\",\"FAMILY\",\"BUSINESS\",\"BUSINESS\",\"BUSINESS\",\"FINANCE\",\"BUSINESS\",\"FINANCE\",\"FAMILY\",\"FAMILY\",\"NEWS_AND_MAGAZINES\",\"NEWS_AND_MAGAZINES\",\"NEWS_AND_MAGAZINES\",\"FAMILY\",\"FAMILY\",\"BUSINESS\",\"FAMILY\",\"NEWS_AND_MAGAZINES\",\"FAMILY\",\"GAME\",\"FAMILY\",\"FAMILY\",\"GAME\",\"PRODUCTIVITY\",\"FAMILY\",\"FAMILY\",\"GAME\",\"FAMILY\",\"PRODUCTIVITY\",\"PRODUCTIVITY\",\"PRODUCTIVITY\",\"PRODUCTIVITY\",\"BUSINESS\",\"PRODUCTIVITY\",\"PRODUCTIVITY\",\"TOOLS\",\"PRODUCTIVITY\",\"PRODUCTIVITY\",\"FAMILY\",\"GAME\",\"PRODUCTIVITY\",\"PRODUCTIVITY\",\"PRODUCTIVITY\",\"PRODUCTIVITY\",\"PRODUCTIVITY\",\"BOOKS_AND_REFERENCE\",\"PRODUCTIVITY\",\"GAME\",\"PRODUCTIVITY\",\"PRODUCTIVITY\",\"PRODUCTIVITY\",\"PRODUCTIVITY\",\"PRODUCTIVITY\",\"PRODUCTIVITY\",\"PRODUCTIVITY\",\"PRODUCTIVITY\",\"LIFESTYLE\",\"PRODUCTIVITY\",\"PRODUCTIVITY\",\"PRODUCTIVITY\",\"PRODUCTIVITY\",\"PRODUCTIVITY\",\"PRODUCTIVITY\",\"PRODUCTIVITY\",\"FAMILY\",\"MEDICAL\",\"GAME\",\"TOOLS\",\"PERSONALIZATION\",\"PRODUCTIVITY\",\"FAMILY\",\"GAME\",\"GAME\",\"SPORTS\",\"GAME\",\"FAMILY\",\"PERSONALIZATION\",\"SOCIAL\",\"PHOTOGRAPHY\",\"FAMILY\",\"ART_AND_DESIGN\",\"PHOTOGRAPHY\",\"TOOLS\",\"PHOTOGRAPHY\",\"PERSONALIZATION\",\"FAMILY\",\"SOCIAL\",\"PERSONALIZATION\",\"PHOTOGRAPHY\",\"PHOTOGRAPHY\",\"FAMILY\",\"PHOTOGRAPHY\",\"SOCIAL\",\"PHOTOGRAPHY\",\"PHOTOGRAPHY\",\"PERSONALIZATION\",\"FAMILY\",\"FAMILY\",\"FAMILY\",\"FAMILY\",\"SOCIAL\",\"PHOTOGRAPHY\",\"LIFESTYLE\",\"SOCIAL\",\"LIFESTYLE\",\"SOCIAL\",\"SOCIAL\",\"FAMILY\",\"FAMILY\",\"SOCIAL\",\"FAMILY\",\"FAMILY\",\"PHOTOGRAPHY\",\"ART_AND_DESIGN\",\"PHOTOGRAPHY\",\"FOOD_AND_DRINK\",\"FOOD_AND_DRINK\",\"BUSINESS\",\"GAME\",\"FOOD_AND_DRINK\",\"BUSINESS\",\"FOOD_AND_DRINK\",\"FOOD_AND_DRINK\",\"BUSINESS\",\"TOOLS\",\"MAPS_AND_NAVIGATION\",\"LIFESTYLE\",\"PHOTOGRAPHY\",\"BUSINESS\",\"FOOD_AND_DRINK\",\"FOOD_AND_DRINK\",\"FAMILY\",\"SHOPPING\",\"GAME\",\"GAME\",\"FAMILY\",\"LIFESTYLE\",\"FOOD_AND_DRINK\",\"WEATHER\",\"FOOD_AND_DRINK\",\"FOOD_AND_DRINK\",\"GAME\",\"SPORTS\",\"COMMUNICATION\",\"FOOD_AND_DRINK\",\"PERSONALIZATION\",\"FOOD_AND_DRINK\",\"FOOD_AND_DRINK\",\"GAME\",\"GAME\",\"TOOLS\",\"TOOLS\",\"FAMILY\",\"FAMILY\",\"FAMILY\",\"GAME\",\"GAME\",\"TOOLS\",\"TOOLS\",\"VIDEO_PLAYERS\",\"FAMILY\",\"FAMILY\",\"GAME\",\"HEALTH_AND_FITNESS\",\"GAME\",\"FAMILY\",\"TOOLS\",\"FAMILY\",\"GAME\",\"FAMILY\",\"GAME\",\"FAMILY\",\"GAME\",\"FAMILY\",\"FAMILY\",\"PRODUCTIVITY\",\"FAMILY\",\"GAME\",\"TOOLS\",\"FAMILY\",\"FAMILY\",\"BOOKS_AND_REFERENCE\",\"FAMILY\",\"GAME\",\"FAMILY\",\"GAME\",\"GAME\",\"GAME\",\"GAME\",\"PRODUCTIVITY\",\"TOOLS\",\"TOOLS\",\"TOOLS\",\"VIDEO_PLAYERS\",\"VIDEO_PLAYERS\",\"PRODUCTIVITY\",\"PRODUCTIVITY\",\"TOOLS\",\"GAME\",\"PRODUCTIVITY\",\"TOOLS\",\"TOOLS\",\"GAME\",\"FAMILY\",\"TOOLS\",\"WEATHER\",\"HEALTH_AND_FITNESS\",\"PHOTOGRAPHY\",\"GAME\",\"FAMILY\",\"TOOLS\",\"BUSINESS\",\"BUSINESS\",\"GAME\",\"MAPS_AND_NAVIGATION\",\"FAMILY\",\"PRODUCTIVITY\",\"BUSINESS\",\"FAMILY\",\"BUSINESS\",\"FAMILY\",\"WEATHER\",\"TOOLS\",\"SPORTS\",\"TOOLS\",\"BUSINESS\",\"FINANCE\",\"LIFESTYLE\",\"PRODUCTIVITY\",\"FAMILY\",\"BUSINESS\",\"FAMILY\",\"TOOLS\",\"FAMILY\",\"TOOLS\",\"FAMILY\",\"COMMUNICATION\",\"SPORTS\",\"SPORTS\",\"FAMILY\",\"AUTO_AND_VEHICLES\",\"SPORTS\",\"MEDICAL\",\"SHOPPING\",\"BUSINESS\",\"ART_AND_DESIGN\",\"HEALTH_AND_FITNESS\",\"BUSINESS\",\"HEALTH_AND_FITNESS\",\"TOOLS\",\"PRODUCTIVITY\",\"PERSONALIZATION\",\"SPORTS\",\"GAME\",\"HEALTH_AND_FITNESS\",\"SHOPPING\",\"SHOPPING\",\"SPORTS\",\"SPORTS\",\"SPORTS\",\"ART_AND_DESIGN\",\"SPORTS\",\"PERSONALIZATION\",\"NEWS_AND_MAGAZINES\",\"TOOLS\",\"TOOLS\",\"LIFESTYLE\",\"TOOLS\",\"TOOLS\",\"TOOLS\",\"PERSONALIZATION\",\"TOOLS\",\"COMMUNICATION\",\"VIDEO_PLAYERS\",\"TOOLS\",\"COMMUNICATION\",\"TOOLS\",\"FAMILY\",\"TOOLS\",\"PHOTOGRAPHY\",\"TOOLS\",\"TOOLS\",\"PERSONALIZATION\",\"PERSONALIZATION\",\"PHOTOGRAPHY\",\"FAMILY\",\"SPORTS\",\"GAME\",\"FAMILY\",\"BOOKS_AND_REFERENCE\",\"BOOKS_AND_REFERENCE\",\"FAMILY\",\"PRODUCTIVITY\",\"FAMILY\",\"FAMILY\",\"FAMILY\",\"PRODUCTIVITY\",\"FAMILY\",\"TOOLS\",\"VIDEO_PLAYERS\",\"VIDEO_PLAYERS\",\"LIFESTYLE\",\"PHOTOGRAPHY\",\"AUTO_AND_VEHICLES\",\"FAMILY\",\"TOOLS\",\"FAMILY\",\"TOOLS\",\"PHOTOGRAPHY\",\"BOOKS_AND_REFERENCE\",\"PHOTOGRAPHY\",\"HOUSE_AND_HOME\",\"BOOKS_AND_REFERENCE\",\"TOOLS\",\"PHOTOGRAPHY\",\"SPORTS\",\"MAPS_AND_NAVIGATION\",\"VIDEO_PLAYERS\",\"PHOTOGRAPHY\",\"PHOTOGRAPHY\",\"PHOTOGRAPHY\",\"TRAVEL_AND_LOCAL\",\"FAMILY\",\"FAMILY\",\"PHOTOGRAPHY\",\"FAMILY\",\"FAMILY\",\"SOCIAL\",\"BOOKS_AND_REFERENCE\",\"VIDEO_PLAYERS\",\"FAMILY\",\"VIDEO_PLAYERS\",\"VIDEO_PLAYERS\",\"TOOLS\",\"LIFESTYLE\",\"PHOTOGRAPHY\",\"TOOLS\",\"PRODUCTIVITY\",\"PHOTOGRAPHY\",\"VIDEO_PLAYERS\",\"TRAVEL_AND_LOCAL\",\"COMMUNICATION\",\"GAME\",\"TOOLS\",\"PHOTOGRAPHY\",\"NEWS_AND_MAGAZINES\",\"FAMILY\",\"BUSINESS\",\"BUSINESS\",\"NEWS_AND_MAGAZINES\",\"TOOLS\",\"NEWS_AND_MAGAZINES\",\"COMMUNICATION\",\"NEWS_AND_MAGAZINES\",\"NEWS_AND_MAGAZINES\",\"NEWS_AND_MAGAZINES\",\"NEWS_AND_MAGAZINES\",\"FAMILY\",\"NEWS_AND_MAGAZINES\",\"BUSINESS\",\"FAMILY\",\"NEWS_AND_MAGAZINES\",\"FAMILY\",\"COMMUNICATION\",\"EVENTS\",\"BUSINESS\",\"FAMILY\",\"VIDEO_PLAYERS\",\"BUSINESS\",\"BUSINESS\",\"NEWS_AND_MAGAZINES\",\"BUSINESS\",\"TOOLS\",\"NEWS_AND_MAGAZINES\",\"TOOLS\",\"TOOLS\",\"SOCIAL\",\"BUSINESS\",\"PERSONALIZATION\",\"TRAVEL_AND_LOCAL\",\"TOOLS\",\"HEALTH_AND_FITNESS\",\"TOOLS\",\"TOOLS\",\"NEWS_AND_MAGAZINES\",\"PERSONALIZATION\",\"LIFESTYLE\",\"HEALTH_AND_FITNESS\",\"SHOPPING\",\"FINANCE\",\"TOOLS\",\"FAMILY\",\"COMMUNICATION\",\"LIFESTYLE\",\"FAMILY\",\"SPORTS\",\"TOOLS\",\"FAMILY\",\"FAMILY\",\"TOOLS\",\"FAMILY\",\"FAMILY\",\"MEDICAL\",\"FAMILY\",\"FAMILY\",\"FAMILY\",\"FAMILY\",\"FAMILY\",\"FAMILY\",\"FAMILY\",\"COMMUNICATION\",\"FAMILY\",\"FAMILY\",\"GAME\",\"MEDICAL\",\"TOOLS\",\"HEALTH_AND_FITNESS\",\"FAMILY\",\"MEDICAL\",\"FAMILY\",\"LIFESTYLE\",\"FAMILY\",\"TOOLS\",\"FAMILY\",\"TOOLS\",\"FAMILY\",\"HEALTH_AND_FITNESS\",\"LIFESTYLE\",\"PERSONALIZATION\",\"TRAVEL_AND_LOCAL\",\"BUSINESS\",\"FAMILY\",\"GAME\",\"FAMILY\",\"PHOTOGRAPHY\",\"PERSONALIZATION\",\"FAMILY\",\"TOOLS\",\"FAMILY\",\"GAME\",\"FAMILY\",\"FAMILY\",\"FAMILY\",\"PRODUCTIVITY\",\"NEWS_AND_MAGAZINES\",\"TRAVEL_AND_LOCAL\",\"FINANCE\",\"SHOPPING\",\"COMMUNICATION\",\"TOOLS\",\"MEDICAL\",\"TRAVEL_AND_LOCAL\",\"PRODUCTIVITY\",\"WEATHER\",\"VIDEO_PLAYERS\",\"SHOPPING\",\"NEWS_AND_MAGAZINES\",\"GAME\",\"GAME\",\"SHOPPING\",\"TOOLS\",\"SOCIAL\",\"TOOLS\",\"FINANCE\",\"HEALTH_AND_FITNESS\",\"FAMILY\",\"HEALTH_AND_FITNESS\",\"COMMUNICATION\",\"FINANCE\",\"FAMILY\",\"GAME\",\"FAMILY\",\"FAMILY\",\"FAMILY\",\"MEDICAL\",\"TOOLS\",\"MEDICAL\",\"TRAVEL_AND_LOCAL\",\"TOOLS\",\"SHOPPING\",\"FINANCE\",\"NEWS_AND_MAGAZINES\",\"FINANCE\",\"COMMUNICATION\",\"TOOLS\",\"SOCIAL\",\"FAMILY\",\"PRODUCTIVITY\",\"SPORTS\",\"SPORTS\",\"GAME\",\"FAMILY\",\"FAMILY\",\"SPORTS\",\"FAMILY\",\"FAMILY\",\"FAMILY\",\"FAMILY\",\"FAMILY\",\"FAMILY\",\"TRAVEL_AND_LOCAL\",\"FAMILY\",\"FAMILY\",\"FAMILY\",\"FAMILY\",\"GAME\",\"GAME\",\"GAME\",\"GAME\",\"SPORTS\",\"GAME\",\"FAMILY\",\"GAME\",\"GAME\",\"SPORTS\",\"GAME\",\"FAMILY\",\"SPORTS\",\"FAMILY\",\"FAMILY\",\"TRAVEL_AND_LOCAL\",\"PHOTOGRAPHY\",\"BUSINESS\",\"BUSINESS\",\"FINANCE\",\"BUSINESS\",\"SPORTS\",\"PERSONALIZATION\",\"BUSINESS\",\"PRODUCTIVITY\",\"SOCIAL\",\"PRODUCTIVITY\",\"SOCIAL\",\"FAMILY\",\"SHOPPING\",\"GAME\",\"BOOKS_AND_REFERENCE\",\"SOCIAL\",\"FINANCE\",\"FINANCE\",\"FINANCE\",\"BUSINESS\",\"EVENTS\",\"FAMILY\",\"LIFESTYLE\",\"FINANCE\",\"BUSINESS\",\"FINANCE\",\"BEAUTY\",\"TOOLS\",\"TOOLS\",\"HEALTH_AND_FITNESS\",\"TRAVEL_AND_LOCAL\",\"TOOLS\",\"TOOLS\",\"TOOLS\",\"SPORTS\",\"COMMUNICATION\",\"PRODUCTIVITY\",\"BUSINESS\",\"LIFESTYLE\",\"COMMUNICATION\",\"FAMILY\",\"BOOKS_AND_REFERENCE\",\"SOCIAL\",\"TOOLS\",\"TOOLS\",\"LIFESTYLE\",\"BOOKS_AND_REFERENCE\",\"BUSINESS\",\"BUSINESS\",\"BUSINESS\",\"FAMILY\",\"PRODUCTIVITY\",\"LIFESTYLE\",\"SPORTS\",\"VIDEO_PLAYERS\",\"TOOLS\",\"PRODUCTIVITY\",\"FAMILY\",\"PRODUCTIVITY\",\"TOOLS\",\"TOOLS\",\"BOOKS_AND_REFERENCE\",\"FAMILY\",\"TOOLS\",\"SPORTS\",\"LIFESTYLE\",\"TOOLS\",\"LIFESTYLE\",\"BUSINESS\",\"PRODUCTIVITY\",\"FINANCE\",\"FAMILY\",\"BOOKS_AND_REFERENCE\",\"TOOLS\",\"SPORTS\",\"SOCIAL\",\"TOOLS\",\"BUSINESS\",\"TOOLS\",\"HOUSE_AND_HOME\",\"FAMILY\",\"PRODUCTIVITY\",\"GAME\",\"PRODUCTIVITY\",\"FAMILY\",\"FAMILY\",\"FAMILY\",\"FAMILY\",\"FAMILY\",\"FAMILY\",\"FAMILY\",\"FAMILY\",\"FAMILY\",\"FAMILY\",\"FAMILY\",\"FAMILY\",\"FAMILY\",\"FAMILY\",\"FAMILY\",\"EVENTS\",\"TRAVEL_AND_LOCAL\",\"TRAVEL_AND_LOCAL\",\"VIDEO_PLAYERS\",\"FINANCE\",\"FAMILY\",\"FINANCE\",\"FAMILY\",\"BUSINESS\",\"FAMILY\",\"FAMILY\",\"BUSINESS\",\"HEALTH_AND_FITNESS\",\"FAMILY\",\"FAMILY\",\"COMMUNICATION\",\"BUSINESS\",\"PRODUCTIVITY\",\"HEALTH_AND_FITNESS\",\"FAMILY\",\"FINANCE\",\"PRODUCTIVITY\",\"TOOLS\",\"FINANCE\",\"NEWS_AND_MAGAZINES\",\"FAMILY\",\"GAME\",\"PARENTING\",\"SPORTS\",\"FAMILY\",\"FAMILY\",\"PRODUCTIVITY\",\"GAME\",\"BUSINESS\",\"BUSINESS\",\"BUSINESS\",\"BUSINESS\",\"BUSINESS\",\"FAMILY\",\"FINANCE\",\"PRODUCTIVITY\",\"TRAVEL_AND_LOCAL\",\"BUSINESS\",\"TOOLS\",\"EVENTS\",\"SOCIAL\",\"FINANCE\",\"TOOLS\",\"TOOLS\",\"BOOKS_AND_REFERENCE\",\"FINANCE\",\"BOOKS_AND_REFERENCE\",\"BOOKS_AND_REFERENCE\",\"COMMUNICATION\",\"LIFESTYLE\",\"FAMILY\",\"FAMILY\",\"BOOKS_AND_REFERENCE\",\"FAMILY\",\"FAMILY\",\"GAME\",\"GAME\",\"BOOKS_AND_REFERENCE\",\"FAMILY\",\"SOCIAL\",\"LIFESTYLE\",\"GAME\",\"FAMILY\",\"FAMILY\",\"FAMILY\",\"FAMILY\",\"GAME\",\"FAMILY\",\"FAMILY\",\"FAMILY\",\"FAMILY\",\"TOOLS\",\"PERSONALIZATION\",\"LIFESTYLE\",\"FAMILY\",\"MEDICAL\",\"GAME\",\"FINANCE\",\"BUSINESS\",\"GAME\",\"FAMILY\",\"TOOLS\",\"SPORTS\",\"FAMILY\",\"FAMILY\",\"FAMILY\",\"FAMILY\",\"GAME\",\"BUSINESS\",\"GAME\",\"FAMILY\",\"FAMILY\",\"PHOTOGRAPHY\",\"GAME\",\"FAMILY\",\"GAME\",\"FAMILY\",\"FAMILY\",\"GAME\",\"FAMILY\",\"GAME\",\"GAME\",\"GAME\",\"GAME\",\"BUSINESS\",\"FAMILY\",\"FAMILY\",\"GAME\",\"FAMILY\",\"FAMILY\",\"FAMILY\",\"FAMILY\",\"FINANCE\",\"FAMILY\",\"TOOLS\",\"NEWS_AND_MAGAZINES\",\"FAMILY\",\"BUSINESS\",\"COMMUNICATION\",\"FAMILY\",\"FAMILY\",\"FINANCE\",\"TOOLS\",\"BUSINESS\",\"PRODUCTIVITY\",\"FAMILY\",\"TOOLS\",\"TOOLS\",\"GAME\",\"FAMILY\",\"SPORTS\",\"GAME\",\"FAMILY\",\"TOOLS\",\"FAMILY\",\"FAMILY\",\"FAMILY\",\"FAMILY\",\"GAME\",\"FAMILY\",\"FAMILY\",\"FAMILY\",\"SPORTS\",\"FAMILY\",\"FAMILY\",\"FAMILY\",\"FAMILY\",\"FAMILY\",\"NEWS_AND_MAGAZINES\",\"FAMILY\",\"NEWS_AND_MAGAZINES\",\"FAMILY\",\"NEWS_AND_MAGAZINES\",\"GAME\",\"NEWS_AND_MAGAZINES\",\"SPORTS\",\"FAMILY\",\"NEWS_AND_MAGAZINES\",\"FAMILY\",\"FAMILY\",\"FAMILY\",\"COMMUNICATION\",\"GAME\",\"GAME\",\"TOOLS\",\"LIFESTYLE\",\"BUSINESS\",\"GAME\",\"PHOTOGRAPHY\",\"FAMILY\",\"GAME\",\"SHOPPING\",\"GAME\",\"GAME\",\"GAME\",\"FAMILY\",\"GAME\",\"FAMILY\",\"FAMILY\",\"FAMILY\",\"SPORTS\",\"LIFESTYLE\",\"FAMILY\",\"HEALTH_AND_FITNESS\",\"FAMILY\",\"GAME\",\"GAME\",\"GAME\",\"FAMILY\",\"FOOD_AND_DRINK\",\"FAMILY\",\"FAMILY\",\"WEATHER\",\"FAMILY\",\"PERSONALIZATION\",\"TRAVEL_AND_LOCAL\",\"VIDEO_PLAYERS\",\"FAMILY\",\"LIFESTYLE\",\"EVENTS\",\"SOCIAL\",\"FAMILY\",\"GAME\",\"FAMILY\",\"FAMILY\",\"FAMILY\",\"BOOKS_AND_REFERENCE\",\"LIFESTYLE\",\"TOOLS\",\"FAMILY\",\"FAMILY\",\"FAMILY\",\"FAMILY\",\"SOCIAL\",\"FAMILY\",\"COMMUNICATION\",\"TOOLS\",\"PRODUCTIVITY\",\"PRODUCTIVITY\",\"MEDICAL\",\"FAMILY\",\"FAMILY\",\"FAMILY\",\"FAMILY\",\"GAME\",\"PHOTOGRAPHY\",\"TOOLS\",\"FAMILY\",\"FAMILY\",\"FAMILY\",\"PHOTOGRAPHY\",\"FAMILY\",\"FAMILY\",\"TRAVEL_AND_LOCAL\",\"FAMILY\",\"SOCIAL\",\"LIFESTYLE\",\"FAMILY\",\"FAMILY\",\"FAMILY\",\"FAMILY\",\"FOOD_AND_DRINK\",\"TRAVEL_AND_LOCAL\",\"TRAVEL_AND_LOCAL\",\"FAMILY\",\"FAMILY\",\"NEWS_AND_MAGAZINES\",\"NEWS_AND_MAGAZINES\",\"NEWS_AND_MAGAZINES\",\"FAMILY\",\"FAMILY\",\"FAMILY\",\"FAMILY\",\"FAMILY\",\"FINANCE\",\"FAMILY\",\"FAMILY\",\"TRAVEL_AND_LOCAL\",\"GAME\",\"TOOLS\",\"GAME\",\"WEATHER\",\"FINANCE\",\"SPORTS\",\"FAMILY\",\"GAME\",\"WEATHER\",\"BOOKS_AND_REFERENCE\",\"LIFESTYLE\",\"FINANCE\",\"MAPS_AND_NAVIGATION\",\"GAME\",\"FAMILY\",\"GAME\",\"PERSONALIZATION\",\"GAME\",\"GAME\",\"FAMILY\",\"GAME\",\"GAME\",\"GAME\",\"GAME\",\"GAME\",\"FAMILY\",\"FAMILY\",\"GAME\",\"FAMILY\",\"GAME\",\"SPORTS\",\"GAME\",\"FAMILY\",\"GAME\",\"GAME\",\"GAME\",\"GAME\",\"GAME\",\"FAMILY\",\"SPORTS\",\"GAME\",\"GAME\",\"GAME\",\"GAME\",\"SPORTS\",\"GAME\",\"TOOLS\",\"GAME\",\"FAMILY\",\"GAME\",\"GAME\",\"GAME\",\"GAME\",\"SPORTS\",\"FAMILY\",\"FAMILY\",\"BOOKS_AND_REFERENCE\",\"FAMILY\",\"GAME\",\"NEWS_AND_MAGAZINES\",\"BOOKS_AND_REFERENCE\",\"FAMILY\",\"FAMILY\",\"FAMILY\",\"COMMUNICATION\",\"NEWS_AND_MAGAZINES\",\"TOOLS\",\"FAMILY\",\"TOOLS\",\"FAMILY\",\"GAME\",\"PRODUCTIVITY\",\"FAMILY\",\"FAMILY\",\"SPORTS\",\"GAME\",\"BOOKS_AND_REFERENCE\",\"BOOKS_AND_REFERENCE\",\"BOOKS_AND_REFERENCE\",\"FINANCE\",\"BUSINESS\",\"COMMUNICATION\",\"BUSINESS\",\"BUSINESS\",\"SOCIAL\",\"BUSINESS\",\"BUSINESS\",\"BUSINESS\",\"HEALTH_AND_FITNESS\",\"BUSINESS\",\"BUSINESS\",\"EVENTS\",\"BUSINESS\",\"LIFESTYLE\",\"LIFESTYLE\",\"BUSINESS\",\"FAMILY\",\"BUSINESS\",\"BUSINESS\",\"FAMILY\",\"FAMILY\",\"TRAVEL_AND_LOCAL\",\"FAMILY\",\"FAMILY\",\"FAMILY\",\"FINANCE\",\"FAMILY\",\"FAMILY\",\"FAMILY\",\"FAMILY\",\"FAMILY\",\"FAMILY\",\"FAMILY\",\"TOOLS\",\"GAME\",\"FAMILY\",\"FAMILY\",\"FAMILY\",\"FINANCE\",\"PRODUCTIVITY\",\"BUSINESS\",\"FAMILY\",\"MEDICAL\",\"COMMUNICATION\",\"PRODUCTIVITY\",\"EVENTS\",\"LIFESTYLE\",\"LIFESTYLE\",\"TOOLS\",\"FAMILY\",\"LIFESTYLE\",\"TOOLS\",\"GAME\",\"GAME\",\"MEDICAL\",\"BOOKS_AND_REFERENCE\",\"AUTO_AND_VEHICLES\",\"FAMILY\",\"TOOLS\",\"GAME\",\"GAME\",\"GAME\",\"FAMILY\",\"FAMILY\",\"GAME\",\"FAMILY\",\"GAME\",\"SHOPPING\",\"VIDEO_PLAYERS\",\"FAMILY\",\"FAMILY\",\"FAMILY\",\"FAMILY\",\"FAMILY\",\"FAMILY\",\"FAMILY\",\"FAMILY\",\"LIFESTYLE\",\"FAMILY\",\"FAMILY\",\"FAMILY\",\"FAMILY\",\"FAMILY\",\"MEDICAL\",\"FAMILY\",\"FAMILY\",\"FAMILY\",\"FAMILY\",\"FAMILY\",\"FAMILY\",\"FAMILY\",\"FAMILY\",\"FAMILY\",\"FAMILY\",\"FAMILY\",\"FAMILY\",\"FAMILY\",\"FAMILY\",\"FAMILY\",\"FAMILY\",\"FAMILY\",\"FAMILY\",\"FAMILY\",\"FAMILY\",\"PRODUCTIVITY\",\"FAMILY\",\"FINANCE\",\"FAMILY\",\"FAMILY\",\"FAMILY\",\"MEDICAL\",\"FAMILY\",\"FAMILY\",\"MEDICAL\",\"FAMILY\",\"BOOKS_AND_REFERENCE\",\"MEDICAL\",\"FAMILY\",\"FAMILY\",\"TRAVEL_AND_LOCAL\",\"MEDICAL\",\"FAMILY\",\"COMMUNICATION\",\"BUSINESS\",\"VIDEO_PLAYERS\",\"PRODUCTIVITY\",\"TOOLS\",\"LIBRARIES_AND_DEMO\",\"PRODUCTIVITY\",\"PRODUCTIVITY\",\"TOOLS\",\"TOOLS\",\"TOOLS\",\"PERSONALIZATION\",\"TOOLS\",\"TOOLS\",\"TOOLS\",\"VIDEO_PLAYERS\",\"TOOLS\",\"TOOLS\",\"TOOLS\",\"VIDEO_PLAYERS\",\"TOOLS\",\"TOOLS\",\"TOOLS\",\"TOOLS\",\"TOOLS\",\"PRODUCTIVITY\",\"BUSINESS\",\"FAMILY\",\"TOOLS\",\"FAMILY\",\"BUSINESS\",\"TOOLS\",\"PRODUCTIVITY\",\"FAMILY\",\"FOOD_AND_DRINK\",\"COMMUNICATION\",\"TOOLS\",\"FAMILY\",\"FAMILY\",\"NEWS_AND_MAGAZINES\",\"FINANCE\",\"FAMILY\",\"NEWS_AND_MAGAZINES\",\"NEWS_AND_MAGAZINES\",\"BOOKS_AND_REFERENCE\",\"FAMILY\",\"FAMILY\",\"TRAVEL_AND_LOCAL\",\"FOOD_AND_DRINK\",\"FAMILY\",\"FAMILY\",\"SOCIAL\",\"FAMILY\",\"FINANCE\",\"FINANCE\",\"TRAVEL_AND_LOCAL\",\"SHOPPING\",\"PHOTOGRAPHY\",\"NEWS_AND_MAGAZINES\",\"FAMILY\",\"FAMILY\",\"SOCIAL\",\"PRODUCTIVITY\",\"GAME\",\"PHOTOGRAPHY\",\"NEWS_AND_MAGAZINES\",\"SOCIAL\",\"HEALTH_AND_FITNESS\",\"FAMILY\",\"COMMUNICATION\",\"HEALTH_AND_FITNESS\",\"TOOLS\",\"TRAVEL_AND_LOCAL\",\"FAMILY\",\"HEALTH_AND_FITNESS\",\"PHOTOGRAPHY\",\"FINANCE\",\"FAMILY\",\"BOOKS_AND_REFERENCE\",\"COMMUNICATION\",\"PERSONALIZATION\",\"TRAVEL_AND_LOCAL\",\"PRODUCTIVITY\",\"PERSONALIZATION\",\"BOOKS_AND_REFERENCE\",\"PERSONALIZATION\",\"PERSONALIZATION\",\"COMMUNICATION\",\"BUSINESS\",\"FAMILY\",\"TRAVEL_AND_LOCAL\",\"FINANCE\",\"PRODUCTIVITY\",\"FAMILY\",\"FAMILY\",\"GAME\",\"GAME\",\"TRAVEL_AND_LOCAL\",\"BUSINESS\",\"GAME\",\"PERSONALIZATION\",\"FAMILY\",\"SOCIAL\",\"COMMUNICATION\",\"LIBRARIES_AND_DEMO\",\"NEWS_AND_MAGAZINES\",\"BUSINESS\",\"BUSINESS\",\"FAMILY\",\"GAME\",\"LIFESTYLE\",\"TOOLS\",\"GAME\",\"FAMILY\",\"NEWS_AND_MAGAZINES\",\"FAMILY\",\"NEWS_AND_MAGAZINES\",\"BUSINESS\",\"BUSINESS\",\"BUSINESS\",\"FAMILY\",\"FINANCE\",\"COMMUNICATION\",\"BUSINESS\",\"LIFESTYLE\",\"BOOKS_AND_REFERENCE\",\"LIFESTYLE\",\"SHOPPING\",\"BUSINESS\",\"COMMUNICATION\",\"HEALTH_AND_FITNESS\",\"BUSINESS\",\"SOCIAL\",\"FAMILY\",\"BUSINESS\",\"BUSINESS\",\"PRODUCTIVITY\",\"NEWS_AND_MAGAZINES\",\"SPORTS\",\"BUSINESS\",\"MAPS_AND_NAVIGATION\",\"FAMILY\",\"BUSINESS\",\"BUSINESS\",\"MAPS_AND_NAVIGATION\",\"BUSINESS\",\"SHOPPING\",\"MAPS_AND_NAVIGATION\",\"MAPS_AND_NAVIGATION\",\"MAPS_AND_NAVIGATION\",\"LIFESTYLE\",\"MAPS_AND_NAVIGATION\",\"TOOLS\",\"MAPS_AND_NAVIGATION\",\"LIFESTYLE\",\"AUTO_AND_VEHICLES\",\"MAPS_AND_NAVIGATION\",\"MAPS_AND_NAVIGATION\",\"MAPS_AND_NAVIGATION\",\"PRODUCTIVITY\",\"AUTO_AND_VEHICLES\",\"MAPS_AND_NAVIGATION\",\"MAPS_AND_NAVIGATION\",\"AUTO_AND_VEHICLES\",\"TRAVEL_AND_LOCAL\",\"PHOTOGRAPHY\",\"HOUSE_AND_HOME\",\"TOOLS\",\"AUTO_AND_VEHICLES\",\"LIFESTYLE\",\"LIFESTYLE\",\"MAPS_AND_NAVIGATION\",\"FAMILY\",\"TOOLS\",\"TRAVEL_AND_LOCAL\",\"FAMILY\",\"FAMILY\",\"FAMILY\",\"FAMILY\",\"HEALTH_AND_FITNESS\",\"LIFESTYLE\",\"FAMILY\",\"TOOLS\",\"FAMILY\",\"LIFESTYLE\",\"FAMILY\",\"HOUSE_AND_HOME\",\"FAMILY\",\"HOUSE_AND_HOME\",\"FAMILY\",\"FAMILY\",\"TRAVEL_AND_LOCAL\",\"FAMILY\",\"SHOPPING\",\"BUSINESS\",\"FAMILY\",\"NEWS_AND_MAGAZINES\",\"BOOKS_AND_REFERENCE\",\"BUSINESS\",\"FINANCE\",\"NEWS_AND_MAGAZINES\",\"BUSINESS\",\"GAME\",\"BUSINESS\",\"TOOLS\",\"TOOLS\",\"GAME\",\"NEWS_AND_MAGAZINES\",\"HEALTH_AND_FITNESS\",\"TOOLS\",\"NEWS_AND_MAGAZINES\",\"NEWS_AND_MAGAZINES\",\"FAMILY\",\"FAMILY\",\"NEWS_AND_MAGAZINES\",\"GAME\",\"FAMILY\",\"FAMILY\",\"SOCIAL\",\"NEWS_AND_MAGAZINES\",\"FAMILY\",\"WEATHER\",\"TOOLS\",\"FAMILY\",\"BEAUTY\",\"NEWS_AND_MAGAZINES\",\"FAMILY\",\"NEWS_AND_MAGAZINES\",\"COMMUNICATION\",\"FAMILY\",\"FAMILY\",\"PERSONALIZATION\",\"GAME\",\"FAMILY\",\"FAMILY\",\"GAME\",\"TRAVEL_AND_LOCAL\",\"PERSONALIZATION\",\"WEATHER\",\"WEATHER\",\"TOOLS\",\"DATING\",\"FINANCE\",\"MEDICAL\",\"FAMILY\",\"HEALTH_AND_FITNESS\",\"TOOLS\",\"PERSONALIZATION\",\"WEATHER\",\"FAMILY\",\"FAMILY\",\"BOOKS_AND_REFERENCE\",\"GAME\",\"HEALTH_AND_FITNESS\",\"LIFESTYLE\",\"PERSONALIZATION\",\"BUSINESS\",\"SOCIAL\",\"FAMILY\",\"LIFESTYLE\",\"GAME\",\"PERSONALIZATION\",\"BUSINESS\",\"BUSINESS\",\"PRODUCTIVITY\",\"FAMILY\",\"BUSINESS\",\"BUSINESS\",\"FINANCE\",\"FINANCE\",\"BUSINESS\",\"BUSINESS\",\"BUSINESS\",\"FINANCE\",\"BUSINESS\",\"BUSINESS\",\"BUSINESS\",\"PRODUCTIVITY\",\"TOOLS\",\"BUSINESS\",\"BUSINESS\",\"FAMILY\",\"LIFESTYLE\",\"BUSINESS\",\"FAMILY\",\"SPORTS\",\"GAME\",\"SOCIAL\",\"PRODUCTIVITY\",\"BUSINESS\",\"BUSINESS\",\"EVENTS\",\"SHOPPING\",\"BUSINESS\",\"SOCIAL\",\"COMMUNICATION\",\"FAMILY\",\"TOOLS\",\"GAME\",\"GAME\",\"TOOLS\",\"COMMUNICATION\",\"FAMILY\",\"COMMUNICATION\",\"PHOTOGRAPHY\",\"HOUSE_AND_HOME\",\"TRAVEL_AND_LOCAL\",\"SPORTS\",\"SOCIAL\",\"VIDEO_PLAYERS\",\"TOOLS\",\"FAMILY\",\"FINANCE\",\"BUSINESS\",\"PRODUCTIVITY\",\"AUTO_AND_VEHICLES\",\"PRODUCTIVITY\",\"VIDEO_PLAYERS\",\"PHOTOGRAPHY\",\"PRODUCTIVITY\",\"PERSONALIZATION\",\"VIDEO_PLAYERS\",\"AUTO_AND_VEHICLES\",\"GAME\",\"PRODUCTIVITY\",\"TOOLS\",\"HEALTH_AND_FITNESS\",\"BUSINESS\",\"VIDEO_PLAYERS\",\"TOOLS\",\"PHOTOGRAPHY\",\"TOOLS\",\"TOOLS\",\"WEATHER\",\"TOOLS\",\"VIDEO_PLAYERS\",\"BUSINESS\",\"TRAVEL_AND_LOCAL\",\"COMMUNICATION\",\"TOOLS\",\"PRODUCTIVITY\",\"FAMILY\",\"TOOLS\",\"FINANCE\",\"LIFESTYLE\",\"FINANCE\",\"BOOKS_AND_REFERENCE\",\"TOOLS\",\"TOOLS\",\"TOOLS\",\"VIDEO_PLAYERS\",\"SPORTS\",\"TOOLS\",\"DATING\",\"COMMUNICATION\",\"SOCIAL\",\"SOCIAL\",\"BUSINESS\",\"BOOKS_AND_REFERENCE\",\"GAME\",\"FAMILY\",\"SPORTS\",\"TOOLS\",\"SPORTS\",\"GAME\",\"FAMILY\",\"GAME\",\"SOCIAL\",\"FAMILY\",\"MEDICAL\",\"FINANCE\",\"FAMILY\",\"FAMILY\",\"SPORTS\",\"GAME\",\"FAMILY\",\"TOOLS\",\"PHOTOGRAPHY\",\"FAMILY\",\"SPORTS\",\"TOOLS\",\"FAMILY\",\"SOCIAL\",\"SOCIAL\",\"SOCIAL\",\"BUSINESS\",\"TOOLS\",\"SOCIAL\",\"BUSINESS\",\"FAMILY\",\"SOCIAL\",\"COMMUNICATION\",\"SOCIAL\",\"FAMILY\",\"TOOLS\",\"SOCIAL\",\"SOCIAL\",\"SOCIAL\",\"SOCIAL\",\"SOCIAL\",\"PHOTOGRAPHY\",\"SOCIAL\",\"PRODUCTIVITY\",\"FAMILY\",\"BUSINESS\",\"SOCIAL\",\"SOCIAL\",\"SOCIAL\",\"VIDEO_PLAYERS\",\"SOCIAL\",\"TOOLS\",\"VIDEO_PLAYERS\",\"TOOLS\",\"PHOTOGRAPHY\",\"SOCIAL\",\"TOOLS\",\"SOCIAL\",\"SOCIAL\",\"SOCIAL\",\"PRODUCTIVITY\",\"SOCIAL\",\"BUSINESS\",\"VIDEO_PLAYERS\",\"SPORTS\",\"SPORTS\",\"FAMILY\",\"SPORTS\",\"SPORTS\",\"SPORTS\",\"SPORTS\",\"SPORTS\",\"SPORTS\",\"SPORTS\",\"FAMILY\",\"SPORTS\",\"SPORTS\",\"SOCIAL\",\"SPORTS\",\"BUSINESS\",\"SPORTS\",\"SPORTS\",\"NEWS_AND_MAGAZINES\",\"PRODUCTIVITY\",\"SPORTS\",\"SPORTS\",\"PERSONALIZATION\",\"SPORTS\",\"SPORTS\",\"COMMUNICATION\",\"SPORTS\",\"MAPS_AND_NAVIGATION\",\"NEWS_AND_MAGAZINES\",\"SPORTS\",\"SPORTS\",\"SPORTS\",\"SPORTS\",\"SPORTS\",\"SPORTS\",\"NEWS_AND_MAGAZINES\",\"SPORTS\",\"SHOPPING\",\"SPORTS\",\"SPORTS\",\"SPORTS\",\"SPORTS\",\"SPORTS\",\"TOOLS\",\"FINANCE\",\"FAMILY\",\"FAMILY\",\"SPORTS\",\"FAMILY\",\"FINANCE\",\"BEAUTY\",\"LIBRARIES_AND_DEMO\",\"FAMILY\",\"FAMILY\",\"FINANCE\",\"FAMILY\",\"SPORTS\",\"FAMILY\",\"FAMILY\",\"FINANCE\",\"TOOLS\",\"FINANCE\",\"FINANCE\",\"FAMILY\",\"FINANCE\",\"FAMILY\",\"FINANCE\",\"FAMILY\",\"FAMILY\",\"FINANCE\",\"FINANCE\",\"FINANCE\",\"PHOTOGRAPHY\",\"FINANCE\",\"NEWS_AND_MAGAZINES\",\"HEALTH_AND_FITNESS\",\"FINANCE\",\"FINANCE\",\"SPORTS\",\"VIDEO_PLAYERS\",\"FAMILY\",\"FINANCE\",\"TOOLS\",\"FAMILY\",\"FINANCE\",\"FAMILY\",\"BUSINESS\",\"LIFESTYLE\",\"GAME\",\"FAMILY\",\"FAMILY\",\"FAMILY\",\"FINANCE\",\"FAMILY\",\"TRAVEL_AND_LOCAL\",\"TOOLS\",\"FAMILY\",\"NEWS_AND_MAGAZINES\",\"HEALTH_AND_FITNESS\",\"PERSONALIZATION\",\"PERSONALIZATION\",\"PERSONALIZATION\",\"FINANCE\",\"BOOKS_AND_REFERENCE\",\"FAMILY\",\"TOOLS\",\"AUTO_AND_VEHICLES\",\"BOOKS_AND_REFERENCE\",\"FOOD_AND_DRINK\",\"HOUSE_AND_HOME\",\"HEALTH_AND_FITNESS\",\"BUSINESS\",\"FAMILY\",\"SOCIAL\",\"PERSONALIZATION\",\"TRAVEL_AND_LOCAL\",\"SPORTS\",\"FAMILY\",\"LIFESTYLE\",\"PERSONALIZATION\",\"BOOKS_AND_REFERENCE\",\"FAMILY\",\"FINANCE\",\"HEALTH_AND_FITNESS\",\"TOOLS\",\"FAMILY\",\"FAMILY\",\"FAMILY\",\"GAME\",\"TOOLS\",\"FAMILY\",\"GAME\",\"GAME\",\"FAMILY\",\"BUSINESS\",\"GAME\",\"GAME\",\"GAME\",\"FAMILY\",\"GAME\",\"GAME\",\"FAMILY\",\"FAMILY\",\"GAME\",\"GAME\",\"FAMILY\",\"SPORTS\",\"FAMILY\",\"GAME\",\"SPORTS\",\"PHOTOGRAPHY\",\"FAMILY\",\"FAMILY\",\"FAMILY\",\"GAME\",\"FAMILY\",\"GAME\",\"FAMILY\",\"PHOTOGRAPHY\",\"PERSONALIZATION\",\"MEDICAL\",\"MEDICAL\",\"PERSONALIZATION\",\"HEALTH_AND_FITNESS\",\"PERSONALIZATION\",\"FAMILY\",\"PERSONALIZATION\",\"FAMILY\",\"FAMILY\",\"GAME\",\"FAMILY\",\"MEDICAL\",\"FAMILY\",\"BUSINESS\",\"PERSONALIZATION\",\"FAMILY\",\"PERSONALIZATION\",\"FAMILY\",\"FINANCE\",\"FAMILY\",\"GAME\",\"PERSONALIZATION\",\"FAMILY\",\"FAMILY\",\"FAMILY\",\"FINANCE\",\"TOOLS\",\"SPORTS\",\"FAMILY\",\"TOOLS\",\"FAMILY\",\"GAME\",\"GAME\",\"COMMUNICATION\",\"FAMILY\",\"FAMILY\",\"FAMILY\",\"GAME\",\"FAMILY\",\"FAMILY\",\"COMMUNICATION\",\"GAME\",\"FAMILY\",\"TOOLS\",\"TOOLS\",\"COMMUNICATION\",\"COMMUNICATION\",\"PRODUCTIVITY\",\"TOOLS\",\"COMMUNICATION\",\"PRODUCTIVITY\",\"TOOLS\",\"COMMUNICATION\",\"LIFESTYLE\",\"TOOLS\",\"TOOLS\",\"FAMILY\",\"FAMILY\",\"COMMUNICATION\",\"PRODUCTIVITY\",\"FINANCE\",\"LIFESTYLE\",\"COMMUNICATION\",\"COMMUNICATION\",\"PERSONALIZATION\",\"TOOLS\",\"COMMUNICATION\",\"TOOLS\",\"LIFESTYLE\",\"PERSONALIZATION\",\"FAMILY\",\"COMMUNICATION\",\"FAMILY\",\"FAMILY\",\"PERSONALIZATION\",\"PERSONALIZATION\",\"GAME\",\"TOOLS\",\"AUTO_AND_VEHICLES\",\"FAMILY\",\"TOOLS\",\"FAMILY\",\"PERSONALIZATION\",\"TRAVEL_AND_LOCAL\",\"FAMILY\",\"FAMILY\",\"PERSONALIZATION\",\"PERSONALIZATION\",\"PERSONALIZATION\",\"PERSONALIZATION\",\"FAMILY\",\"PERSONALIZATION\",\"PERSONALIZATION\",\"PERSONALIZATION\",\"FAMILY\",\"FAMILY\",\"FAMILY\",\"GAME\",\"FAMILY\",\"GAME\",\"GAME\",\"PHOTOGRAPHY\",\"TOOLS\",\"GAME\",\"FAMILY\",\"FAMILY\",\"FAMILY\",\"GAME\",\"PRODUCTIVITY\",\"GAME\",\"VIDEO_PLAYERS\",\"FAMILY\",\"GAME\",\"GAME\",\"MEDICAL\",\"GAME\",\"SPORTS\",\"FAMILY\",\"SPORTS\",\"SPORTS\",\"BUSINESS\",\"SPORTS\",\"SPORTS\",\"SPORTS\",\"SPORTS\",\"SPORTS\",\"SPORTS\",\"SPORTS\",\"SPORTS\",\"SPORTS\",\"SPORTS\",\"SPORTS\",\"SPORTS\",\"SPORTS\",\"SPORTS\",\"SPORTS\",\"SPORTS\",\"SPORTS\",\"GAME\",\"SPORTS\",\"SPORTS\",\"SPORTS\",\"PRODUCTIVITY\",\"GAME\",\"SPORTS\",\"FAMILY\",\"SPORTS\",\"SPORTS\",\"SPORTS\",\"SPORTS\",\"SPORTS\",\"SPORTS\",\"SPORTS\",\"SPORTS\",\"SPORTS\",\"TOOLS\",\"SPORTS\",\"SPORTS\",\"TRAVEL_AND_LOCAL\",\"FAMILY\",\"FAMILY\",\"FAMILY\",\"FAMILY\",\"FAMILY\",\"PRODUCTIVITY\",\"NEWS_AND_MAGAZINES\",\"FAMILY\",\"LIFESTYLE\",\"TOOLS\",\"WEATHER\",\"SPORTS\",\"BUSINESS\",\"PRODUCTIVITY\",\"FAMILY\",\"TRAVEL_AND_LOCAL\",\"TRAVEL_AND_LOCAL\",\"BOOKS_AND_REFERENCE\",\"TOOLS\",\"BOOKS_AND_REFERENCE\",\"LIFESTYLE\",\"FAMILY\",\"FAMILY\",\"FAMILY\",\"NEWS_AND_MAGAZINES\",\"PRODUCTIVITY\",\"HEALTH_AND_FITNESS\",\"TRAVEL_AND_LOCAL\",\"LIFESTYLE\",\"TRAVEL_AND_LOCAL\",\"SPORTS\",\"EVENTS\",\"PRODUCTIVITY\",\"NEWS_AND_MAGAZINES\",\"TRAVEL_AND_LOCAL\",\"LIFESTYLE\",\"PHOTOGRAPHY\",\"LIFESTYLE\",\"WEATHER\",\"FAMILY\",\"NEWS_AND_MAGAZINES\",\"LIFESTYLE\",\"NEWS_AND_MAGAZINES\",\"LIFESTYLE\",\"FAMILY\",\"FAMILY\",\"NEWS_AND_MAGAZINES\",\"TRAVEL_AND_LOCAL\",\"PRODUCTIVITY\",\"LIFESTYLE\",\"BUSINESS\",\"WEATHER\",\"LIFESTYLE\",\"WEATHER\",\"FINANCE\",\"FAMILY\",\"HEALTH_AND_FITNESS\",\"TRAVEL_AND_LOCAL\",\"FAMILY\",\"TRAVEL_AND_LOCAL\",\"TRAVEL_AND_LOCAL\",\"NEWS_AND_MAGAZINES\",\"GAME\",\"LIFESTYLE\",\"MAPS_AND_NAVIGATION\",\"NEWS_AND_MAGAZINES\",\"FAMILY\",\"NEWS_AND_MAGAZINES\",\"SHOPPING\",\"FINANCE\",\"LIFESTYLE\",\"NEWS_AND_MAGAZINES\",\"VIDEO_PLAYERS\",\"PHOTOGRAPHY\",\"FAMILY\",\"SOCIAL\",\"FAMILY\",\"PERSONALIZATION\",\"FAMILY\",\"PERSONALIZATION\",\"PERSONALIZATION\",\"PERSONALIZATION\",\"BUSINESS\",\"PERSONALIZATION\",\"LIFESTYLE\",\"FINANCE\",\"PHOTOGRAPHY\",\"PERSONALIZATION\",\"COMMUNICATION\",\"GAME\",\"COMMUNICATION\",\"GAME\",\"TOOLS\",\"PERSONALIZATION\",\"PERSONALIZATION\",\"NEWS_AND_MAGAZINES\",\"PRODUCTIVITY\",\"SPORTS\",\"GAME\",\"FAMILY\",\"GAME\",\"FAMILY\",\"TOOLS\",\"SOCIAL\",\"FAMILY\",\"COMMUNICATION\",\"COMMUNICATION\",\"COMMUNICATION\",\"COMMUNICATION\",\"COMMUNICATION\",\"COMMUNICATION\",\"FINANCE\",\"COMMUNICATION\",\"FAMILY\",\"BUSINESS\",\"GAME\",\"COMMUNICATION\",\"BUSINESS\",\"BUSINESS\",\"PHOTOGRAPHY\",\"BUSINESS\",\"COMMUNICATION\",\"PERSONALIZATION\",\"GAME\",\"SHOPPING\",\"WEATHER\",\"SOCIAL\",\"DATING\",\"PHOTOGRAPHY\",\"GAME\",\"FINANCE\",\"LIFESTYLE\",\"COMMUNICATION\",\"GAME\",\"PERSONALIZATION\",\"SPORTS\",\"BOOKS_AND_REFERENCE\",\"MAPS_AND_NAVIGATION\",\"PHOTOGRAPHY\",\"TOOLS\",\"TOOLS\",\"LIBRARIES_AND_DEMO\",\"MEDICAL\",\"FAMILY\",\"TOOLS\",\"PERSONALIZATION\",\"COMMUNICATION\",\"BUSINESS\",\"MAPS_AND_NAVIGATION\",\"GAME\",\"COMMUNICATION\",\"PHOTOGRAPHY\",\"TOOLS\",\"LIFESTYLE\",\"FAMILY\",\"FINANCE\",\"FINANCE\",\"TOOLS\",\"PERSONALIZATION\",\"COMMUNICATION\",\"GAME\",\"TOOLS\",\"FAMILY\",\"FINANCE\",\"SHOPPING\",\"BUSINESS\",\"MAPS_AND_NAVIGATION\",\"TOOLS\",\"TOOLS\",\"TOOLS\",\"TOOLS\",\"BOOKS_AND_REFERENCE\",\"NEWS_AND_MAGAZINES\",\"FAMILY\",\"AUTO_AND_VEHICLES\",\"SOCIAL\",\"TOOLS\",\"EVENTS\",\"MEDICAL\",\"LIFESTYLE\",\"GAME\",\"PRODUCTIVITY\",\"BUSINESS\",\"LIFESTYLE\",\"NEWS_AND_MAGAZINES\",\"SPORTS\",\"GAME\",\"GAME\",\"FAMILY\",\"FAMILY\",\"FAMILY\",\"GAME\",\"GAME\",\"GAME\",\"TOOLS\",\"GAME\",\"PERSONALIZATION\",\"GAME\",\"COMMUNICATION\",\"GAME\",\"GAME\",\"GAME\",\"FAMILY\",\"TOOLS\",\"TOOLS\",\"LIFESTYLE\",\"SOCIAL\",\"TOOLS\",\"FAMILY\",\"FAMILY\",\"GAME\",\"GAME\",\"LIFESTYLE\",\"MEDICAL\",\"TOOLS\",\"LIFESTYLE\",\"FAMILY\",\"BUSINESS\",\"AUTO_AND_VEHICLES\",\"FAMILY\",\"BUSINESS\",\"FAMILY\",\"BOOKS_AND_REFERENCE\",\"BUSINESS\",\"TOOLS\",\"FINANCE\",\"BOOKS_AND_REFERENCE\",\"FAMILY\",\"FAMILY\",\"PRODUCTIVITY\",\"VIDEO_PLAYERS\",\"MEDICAL\",\"SOCIAL\",\"SOCIAL\",\"FAMILY\",\"COMICS\",\"BOOKS_AND_REFERENCE\",\"NEWS_AND_MAGAZINES\",\"MAPS_AND_NAVIGATION\",\"WEATHER\",\"BOOKS_AND_REFERENCE\",\"FAMILY\",\"BUSINESS\",\"FAMILY\",\"FAMILY\",\"MEDICAL\",\"BOOKS_AND_REFERENCE\",\"LIFESTYLE\"],\"yaxis\":\"y\",\"type\":\"scattergl\"},{\"hovertemplate\":\"Type=Paid<br>Price=%{x}<br>Category=%{y}<extra></extra>\",\"legendgroup\":\"Paid\",\"marker\":{\"color\":\"#EF553B\",\"symbol\":\"circle\"},\"mode\":\"markers\",\"name\":\"Paid\",\"showlegend\":true,\"x\":[4.99,4.99,4.99,4.99,3.99,3.99,6.99,1.49,2.99,3.99,7.99,3.99,3.99,5.99,3.99,3.99,4.99,2.99,3.49,4.99,2.99,3.99,2.99,2.99,2.99,1.99,4.99,4.99,4.99,5.99,6.99,9.99,4.99,3.99,2.99,3.99,2.99,3.99,3.99,4.99,3.99,2.99,7.49,2.99,0.99,0.99,0.99,4.99,2.99,4.99,2.99,4.99,4.99,2.99,2.99,3.99,3.99,2.99,2.99,3.99,3.99,6.99,2.99,9.0,0.99,5.49,9.99,6.99,10.0,3.99,5.99,24.99,11.99,79.99,11.99,2.99,16.99,3.99,2.99,9.99,3.99,14.99,2.99,3.99,2.99,1.0,29.99,2.99,2.99,12.99,4.99,2.99,14.99,5.99,3.49,0.99,2.49,24.99,10.99,1.99,24.99,4.99,3.99,2.99,7.49,1.5,2.99,3.99,1.99,9.99,3.99,3.99,3.99,7.99,14.99,9.99,3.99,19.99,29.99,15.99,0.99,33.99,0.99,79.99,9.0,24.99,9.99,10.0,16.99,11.99,29.99,14.99,74.99,11.99,6.99,5.49,14.99,9.99,33.99,29.99,24.99,12.99,39.99,5.99,2.99,24.99,19.99,2.99,0.99,5.99,0.99,5.99,2.99,5.99,3.95,5.99,29.99,2.49,0.99,0.99,9.99,4.49,5.99,4.49,1.99,1.49,1.99,3.99,1.7,0.99,1.99,0.99,2.99,2.99,0.99,0.99,0.99,2.99,8.99,4.99,2.99,4.99,5.99,39.99,2.49,2.0,1.49,4.99,1.7,1.49,2.99,3.88,0.99,14.99,1.49,0.99,25.99,1.49,5.99,1.99,3.99,399.99,17.99,1.99,0.99,0.99,1.99,4.99,1.99,1.99,5.99,3.99,6.99,2.99,399.99,400.0,2.99,4.99,2.99,2.99,0.99,2.49,2.99,0.99,3.99,2.99,2.49,1.99,4.99,0.99,1.99,2.49,0.99,3.02,6.99,1.99,1.49,0.99,0.99,1.49,1.49,1.49,1.49,0.99,0.99,1.49,1.49,1.49,1.49,0.99,1.49,0.99,0.99,0.99,1.49,1.76,4.84,1.99,1.99,4.99,4.77,0.99,4.99,1.99,2.49,2.99,4.99,4.99,5.99,2.99,4.99,1.61,0.99,3.99,2.49,7.99,9.99,3.99,0.99,14.99,1.99,0.99,1.99,1.99,1.99,1.99,0.99,0.99,2.99,0.99,3.99,1.49,1.99,2.99,1.49,0.99,2.5,5.99,19.99,1.99,1.59,1.99,9.99,1.49,1.99,2.99,2.99,1.99,2.99,3.99,2.99,0.99,6.49,1.29,2.99,0.99,0.99,0.99,19.99,4.99,5.0,4.99,0.99,0.99,4.99,1.99,2.99,2.99,2.49,1.99,3.99,4.99,0.99,0.99,0.99,0.99,0.99,0.99,13.99,4.49,399.99,399.99,299.99,399.99,379.99,399.99,399.99,37.99,18.99,399.99,399.99,389.99,4.99,399.99,2.49,399.99,2.99,2.99,2.99,2.99,2.99,9.99,1.49,4.99,0.99,4.99,1.99,29.99,1.99,2.99,0.99,5.99,1.99,2.99,2.99,2.99,2.99,2.99,0.99,2.49,2.99,19.9,1.99,1.99,0.99,1.99,0.99,0.99,0.99,1.99,0.99,0.99,4.99,8.49,3.99,3.99,1.99,1.49,1.99,1.49,2.99,2.99,2.99,4.49,3.99,0.99,1.75,4.99,1.49,1.49,4.99,11.99,1.99,0.99,0.99,0.99,1.99,5.99,2.99,1.49,9.99,4.99,7.99,3.99,4.99,9.99,2.49,4.99,0.99,0.99,4.49,14.0,2.99,1.99,4.85,0.99,14.99,3.99,1.99,3.99,2.0,1.99,3.99,2.99,3.99,0.99,0.99,0.99,6.99,6.99,2.99,2.99,2.49,1.99,46.99,0.99,2.49,0.99,2.99,0.99,0.99,5.99,5.49,109.99,3.95,0.99,4.49,1.49,154.99,5.99,0.99,1.49,3.08,0.99,2.59,4.8,8.99,17.99,2.99,3.49,0.99,2.49,0.99,1.49,0.99,0.99,2.99,4.99,4.99,0.99,3.99,4.99,0.99,0.99,0.99,0.99,7.99,1.49,0.99,4.99,2.99,4.99,2.0,2.99,3.99,2.49,1.49,0.99,2.99,3.99,2.99,0.99,1.99,0.99,3.99,1.99,1.96,19.4,2.99,3.99,14.99,3.9,2.99,0.99,2.99,0.99,0.99,0.99,6.99,0.99,0.99,19.99,0.99,4.99,1.99,2.99,0.99,3.99,2.99,3.99,0.99,1.99,2.99,4.99,2.99,2.99,2.99,2.99,4.59,0.99,0.99,1.49,1.49,0.99,1.99,3.49,9.99,1.99,2.49,0.99,0.99,4.49,9.99,15.46,0.99,9.99,6.99,2.49,4.99,0.99,1.49,1.49,4.99,0.99,1.49,2.99,0.99,3.99,1.99,2.49,1.49,2.49,2.49,4.99,4.99,10.0,1.99,5.99,5.99,5.99,0.99,5.49,5.99,5.99,5.99,0.99,3.49,4.99,2.99,2.99,8.99,2.99,0.99,0.99,3.49,1.49,4.99,4.99,2.99,3.04,3.99,29.99,2.99,2.99,3.99,0.99,2.99,8.99,4.99,12.99,2.49,2.99,2.99,0.99,2.99,0.99,1.99,0.99,0.99,1.99,1.99,2.99,4.49,8.49,2.49,19.99,9.99,1.99,2.99,4.99,14.99,9.99,13.99,4.29,2.99,2.99,2.99,1.99,3.99,4.99,4.99,3.99,2.99,2.99,2.99,4.99,12.99,2.6,3.28,4.99,2.99,2.99,2.99,4.99,3.99,3.99,4.6,4.99,0.99,1.49,2.99,1.0,0.99,5.99,0.99,2.99,2.99,1.99,0.99,0.99,0.99,1.49,3.99,2.99,1.49,0.99,5.99,28.99,0.99,4.99,0.99,0.99,0.99,10.99,14.99,1.99,9.99,12.99,0.99,2.99,3.99,1.49,9.99,2.95,1.99,2.99,1.99,2.9,0.99,1.99,1.97,2.99,24.99,3.99,0.99,2.49,4.49,6.99,4.99,1.99,2.49,1.99,0.99,2.99,2.99,1.99,0.99,3.99,0.99,1.99,200.0,2.99,89.99,2.99,2.99,4.99,2.56,0.99,30.99,3.61,394.99,1.26,5.99,399.99,2.99,0.99,9.99,0.99,2.49,1.99,0.99,4.99,1.49,4.99,4.99,4.99,4.99,4.99,1.99,0.99,0.99,3.99,1.49,2.99,1.99,1.99,2.99,0.99,7.99,2.99,2.99,1.99,1.0,1.49,3.49,2.99,1.99,6.99,0.99,1.99,8.99,5.49,6.49,5.99,6.49,6.49,6.49,5.99,5.49,0.99,2.99,0.99,0.99,0.99,0.99,7.99,16.99,1.2,1.04],\"xaxis\":\"x\",\"y\":[\"BUSINESS\",\"BUSINESS\",\"BUSINESS\",\"BUSINESS\",\"COMMUNICATION\",\"DATING\",\"DATING\",\"DATING\",\"DATING\",\"DATING\",\"DATING\",\"DATING\",\"EDUCATION\",\"EDUCATION\",\"EDUCATION\",\"EDUCATION\",\"ENTERTAINMENT\",\"ENTERTAINMENT\",\"FOOD_AND_DRINK\",\"FOOD_AND_DRINK\",\"HEALTH_AND_FITNESS\",\"HEALTH_AND_FITNESS\",\"HEALTH_AND_FITNESS\",\"HEALTH_AND_FITNESS\",\"GAME\",\"GAME\",\"GAME\",\"GAME\",\"GAME\",\"GAME\",\"GAME\",\"GAME\",\"GAME\",\"FAMILY\",\"FAMILY\",\"FAMILY\",\"FAMILY\",\"FAMILY\",\"FAMILY\",\"FAMILY\",\"FAMILY\",\"FAMILY\",\"FAMILY\",\"FAMILY\",\"FAMILY\",\"FAMILY\",\"FAMILY\",\"FAMILY\",\"FAMILY\",\"FAMILY\",\"FAMILY\",\"FAMILY\",\"FAMILY\",\"FAMILY\",\"FAMILY\",\"FAMILY\",\"FAMILY\",\"FAMILY\",\"FAMILY\",\"FAMILY\",\"FAMILY\",\"FAMILY\",\"FAMILY\",\"MEDICAL\",\"MEDICAL\",\"MEDICAL\",\"MEDICAL\",\"MEDICAL\",\"MEDICAL\",\"MEDICAL\",\"MEDICAL\",\"MEDICAL\",\"MEDICAL\",\"MEDICAL\",\"MEDICAL\",\"MEDICAL\",\"MEDICAL\",\"MEDICAL\",\"MEDICAL\",\"MEDICAL\",\"MEDICAL\",\"MEDICAL\",\"MEDICAL\",\"MEDICAL\",\"MEDICAL\",\"MEDICAL\",\"MEDICAL\",\"MEDICAL\",\"MEDICAL\",\"MEDICAL\",\"MEDICAL\",\"MEDICAL\",\"MEDICAL\",\"MEDICAL\",\"MEDICAL\",\"MEDICAL\",\"MEDICAL\",\"MEDICAL\",\"MEDICAL\",\"MEDICAL\",\"MEDICAL\",\"MEDICAL\",\"MEDICAL\",\"MEDICAL\",\"MEDICAL\",\"MEDICAL\",\"MEDICAL\",\"MEDICAL\",\"MEDICAL\",\"MEDICAL\",\"MEDICAL\",\"MEDICAL\",\"MEDICAL\",\"MEDICAL\",\"MEDICAL\",\"MEDICAL\",\"MEDICAL\",\"MEDICAL\",\"MEDICAL\",\"MEDICAL\",\"MEDICAL\",\"MEDICAL\",\"MEDICAL\",\"MEDICAL\",\"MEDICAL\",\"MEDICAL\",\"MEDICAL\",\"MEDICAL\",\"MEDICAL\",\"MEDICAL\",\"MEDICAL\",\"MEDICAL\",\"MEDICAL\",\"MEDICAL\",\"MEDICAL\",\"MEDICAL\",\"MEDICAL\",\"MEDICAL\",\"MEDICAL\",\"MEDICAL\",\"MEDICAL\",\"MEDICAL\",\"MEDICAL\",\"MEDICAL\",\"MEDICAL\",\"MEDICAL\",\"MEDICAL\",\"MEDICAL\",\"MEDICAL\",\"MEDICAL\",\"MEDICAL\",\"PHOTOGRAPHY\",\"PHOTOGRAPHY\",\"PHOTOGRAPHY\",\"PHOTOGRAPHY\",\"PHOTOGRAPHY\",\"SPORTS\",\"PERSONALIZATION\",\"PERSONALIZATION\",\"PERSONALIZATION\",\"PERSONALIZATION\",\"PERSONALIZATION\",\"PRODUCTIVITY\",\"WEATHER\",\"TOOLS\",\"PERSONALIZATION\",\"PERSONALIZATION\",\"MEDICAL\",\"PERSONALIZATION\",\"GAME\",\"GAME\",\"GAME\",\"FAMILY\",\"PERSONALIZATION\",\"PERSONALIZATION\",\"GAME\",\"PERSONALIZATION\",\"FAMILY\",\"TRAVEL_AND_LOCAL\",\"PHOTOGRAPHY\",\"FAMILY\",\"FAMILY\",\"WEATHER\",\"FAMILY\",\"PERSONALIZATION\",\"PHOTOGRAPHY\",\"PHOTOGRAPHY\",\"TOOLS\",\"PERSONALIZATION\",\"TOOLS\",\"PRODUCTIVITY\",\"SPORTS\",\"PERSONALIZATION\",\"TOOLS\",\"PERSONALIZATION\",\"LIFESTYLE\",\"TOOLS\",\"PERSONALIZATION\",\"TOOLS\",\"LIFESTYLE\",\"COMMUNICATION\",\"FAMILY\",\"GAME\",\"AUTO_AND_VEHICLES\",\"GAME\",\"FAMILY\",\"COMMUNICATION\",\"COMMUNICATION\",\"FAMILY\",\"FAMILY\",\"FAMILY\",\"FAMILY\",\"FAMILY\",\"PRODUCTIVITY\",\"LIFESTYLE\",\"LIFESTYLE\",\"PERSONALIZATION\",\"GAME\",\"FAMILY\",\"FAMILY\",\"GAME\",\"PERSONALIZATION\",\"FAMILY\",\"GAME\",\"FAMILY\",\"FAMILY\",\"GAME\",\"GAME\",\"GAME\",\"PERSONALIZATION\",\"FAMILY\",\"FAMILY\",\"GAME\",\"SPORTS\",\"PERSONALIZATION\",\"PERSONALIZATION\",\"PERSONALIZATION\",\"PERSONALIZATION\",\"PERSONALIZATION\",\"PERSONALIZATION\",\"PERSONALIZATION\",\"PERSONALIZATION\",\"PERSONALIZATION\",\"TOOLS\",\"PERSONALIZATION\",\"PERSONALIZATION\",\"PERSONALIZATION\",\"PERSONALIZATION\",\"PERSONALIZATION\",\"PERSONALIZATION\",\"PERSONALIZATION\",\"COMMUNICATION\",\"FAMILY\",\"NEWS_AND_MAGAZINES\",\"FAMILY\",\"TOOLS\",\"FAMILY\",\"GAME\",\"GAME\",\"FAMILY\",\"FAMILY\",\"PERSONALIZATION\",\"PERSONALIZATION\",\"PERSONALIZATION\",\"SHOPPING\",\"TOOLS\",\"GAME\",\"FAMILY\",\"FAMILY\",\"BOOKS_AND_REFERENCE\",\"GAME\",\"GAME\",\"FAMILY\",\"LIFESTYLE\",\"LIFESTYLE\",\"FAMILY\",\"AUTO_AND_VEHICLES\",\"SPORTS\",\"GAME\",\"FAMILY\",\"WEATHER\",\"SOCIAL\",\"PERSONALIZATION\",\"ART_AND_DESIGN\",\"ART_AND_DESIGN\",\"ART_AND_DESIGN\",\"PERSONALIZATION\",\"TOOLS\",\"PERSONALIZATION\",\"PERSONALIZATION\",\"TOOLS\",\"FAMILY\",\"TOOLS\",\"FAMILY\",\"PERSONALIZATION\",\"GAME\",\"TOOLS\",\"MEDICAL\",\"COMMUNICATION\",\"HEALTH_AND_FITNESS\",\"FAMILY\",\"GAME\",\"PHOTOGRAPHY\",\"VIDEO_PLAYERS\",\"VIDEO_PLAYERS\",\"HEALTH_AND_FITNESS\",\"WEATHER\",\"TOOLS\",\"WEATHER\",\"GAME\",\"TOOLS\",\"SOCIAL\",\"PRODUCTIVITY\",\"PRODUCTIVITY\",\"TOOLS\",\"FAMILY\",\"TOOLS\",\"GAME\",\"PHOTOGRAPHY\",\"FAMILY\",\"MEDICAL\",\"COMMUNICATION\",\"FAMILY\",\"FAMILY\",\"TOOLS\",\"FAMILY\",\"PHOTOGRAPHY\",\"TOOLS\",\"FAMILY\",\"GAME\",\"BOOKS_AND_REFERENCE\",\"FAMILY\",\"PERSONALIZATION\",\"PERSONALIZATION\",\"PERSONALIZATION\",\"PERSONALIZATION\",\"PERSONALIZATION\",\"PERSONALIZATION\",\"SOCIAL\",\"BOOKS_AND_REFERENCE\",\"LIFESTYLE\",\"FAMILY\",\"LIFESTYLE\",\"FINANCE\",\"LIFESTYLE\",\"FINANCE\",\"FINANCE\",\"LIFESTYLE\",\"FINANCE\",\"FAMILY\",\"FINANCE\",\"FAMILY\",\"GAME\",\"FINANCE\",\"LIFESTYLE\",\"FINANCE\",\"FAMILY\",\"FAMILY\",\"MEDICAL\",\"FAMILY\",\"TOOLS\",\"FAMILY\",\"PERSONALIZATION\",\"FAMILY\",\"PERSONALIZATION\",\"FAMILY\",\"FAMILY\",\"FAMILY\",\"SPORTS\",\"FAMILY\",\"GAME\",\"LIFESTYLE\",\"HEALTH_AND_FITNESS\",\"FAMILY\",\"GAME\",\"GAME\",\"GAME\",\"GAME\",\"MAPS_AND_NAVIGATION\",\"TOOLS\",\"PHOTOGRAPHY\",\"BUSINESS\",\"TOOLS\",\"TOOLS\",\"PERSONALIZATION\",\"PERSONALIZATION\",\"PRODUCTIVITY\",\"FAMILY\",\"PERSONALIZATION\",\"FAMILY\",\"PERSONALIZATION\",\"GAME\",\"LIFESTYLE\",\"TRAVEL_AND_LOCAL\",\"FINANCE\",\"FINANCE\",\"FINANCE\",\"GAME\",\"FAMILY\",\"FAMILY\",\"PRODUCTIVITY\",\"FAMILY\",\"SPORTS\",\"SPORTS\",\"SPORTS\",\"FAMILY\",\"BOOKS_AND_REFERENCE\",\"PARENTING\",\"FAMILY\",\"FAMILY\",\"PRODUCTIVITY\",\"MAPS_AND_NAVIGATION\",\"HEALTH_AND_FITNESS\",\"GAME\",\"FAMILY\",\"TOOLS\",\"PHOTOGRAPHY\",\"MEDICAL\",\"LIFESTYLE\",\"TRAVEL_AND_LOCAL\",\"FAMILY\",\"GAME\",\"GAME\",\"FAMILY\",\"FAMILY\",\"FAMILY\",\"TOOLS\",\"FAMILY\",\"GAME\",\"PRODUCTIVITY\",\"GAME\",\"GAME\",\"FAMILY\",\"TOOLS\",\"PERSONALIZATION\",\"BUSINESS\",\"FAMILY\",\"PHOTOGRAPHY\",\"TOOLS\",\"TOOLS\",\"PERSONALIZATION\",\"GAME\",\"TOOLS\",\"SPORTS\",\"TOOLS\",\"SPORTS\",\"SPORTS\",\"TOOLS\",\"GAME\",\"GAME\",\"GAME\",\"FAMILY\",\"FAMILY\",\"GAME\",\"FAMILY\",\"FAMILY\",\"FAMILY\",\"LIBRARIES_AND_DEMO\",\"FAMILY\",\"MEDICAL\",\"MEDICAL\",\"HEALTH_AND_FITNESS\",\"MEDICAL\",\"EVENTS\",\"PHOTOGRAPHY\",\"FAMILY\",\"PRODUCTIVITY\",\"FAMILY\",\"PRODUCTIVITY\",\"VIDEO_PLAYERS\",\"TOOLS\",\"FAMILY\",\"BOOKS_AND_REFERENCE\",\"TOOLS\",\"TOOLS\",\"SPORTS\",\"TOOLS\",\"BUSINESS\",\"FINANCE\",\"GAME\",\"PERSONALIZATION\",\"PERSONALIZATION\",\"PERSONALIZATION\",\"PHOTOGRAPHY\",\"PERSONALIZATION\",\"FAMILY\",\"TOOLS\",\"FINANCE\",\"PERSONALIZATION\",\"TOOLS\",\"BUSINESS\",\"PRODUCTIVITY\",\"LIFESTYLE\",\"TOOLS\",\"TOOLS\",\"TOOLS\",\"LIFESTYLE\",\"AUTO_AND_VEHICLES\",\"MAPS_AND_NAVIGATION\",\"GAME\",\"FAMILY\",\"FAMILY\",\"FAMILY\",\"FAMILY\",\"MEDICAL\",\"FAMILY\",\"TOOLS\",\"PERSONALIZATION\",\"MEDICAL\",\"TRAVEL_AND_LOCAL\",\"WEATHER\",\"FAMILY\",\"SPORTS\",\"PERSONALIZATION\",\"FAMILY\",\"FAMILY\",\"BOOKS_AND_REFERENCE\",\"FAMILY\",\"COMMUNICATION\",\"TOOLS\",\"FAMILY\",\"TOOLS\",\"TOOLS\",\"PERSONALIZATION\",\"MAPS_AND_NAVIGATION\",\"PERSONALIZATION\",\"HEALTH_AND_FITNESS\",\"PRODUCTIVITY\",\"GAME\",\"GAME\",\"GAME\",\"FAMILY\",\"COMMUNICATION\",\"PERSONALIZATION\",\"PERSONALIZATION\",\"BUSINESS\",\"PERSONALIZATION\",\"FAMILY\",\"FAMILY\",\"FAMILY\",\"FAMILY\",\"FAMILY\",\"FAMILY\",\"GAME\",\"GAME\",\"FAMILY\",\"FAMILY\",\"FAMILY\",\"PARENTING\",\"GAME\",\"TOOLS\",\"COMMUNICATION\",\"TOOLS\",\"TOOLS\",\"TOOLS\",\"SPORTS\",\"MAPS_AND_NAVIGATION\",\"PRODUCTIVITY\",\"PERSONALIZATION\",\"FAMILY\",\"MEDICAL\",\"GAME\",\"MEDICAL\",\"MEDICAL\",\"MEDICAL\",\"MEDICAL\",\"MEDICAL\",\"TRAVEL_AND_LOCAL\",\"BUSINESS\",\"COMMUNICATION\",\"COMMUNICATION\",\"COMMUNICATION\",\"COMMUNICATION\",\"COMMUNICATION\",\"COMMUNICATION\",\"COMMUNICATION\",\"COMMUNICATION\",\"PRODUCTIVITY\",\"FAMILY\",\"COMMUNICATION\",\"FAMILY\",\"FAMILY\",\"COMMUNICATION\",\"FAMILY\",\"SPORTS\",\"FAMILY\",\"GAME\",\"BOOKS_AND_REFERENCE\",\"BOOKS_AND_REFERENCE\",\"BOOKS_AND_REFERENCE\",\"VIDEO_PLAYERS\",\"BOOKS_AND_REFERENCE\",\"TOOLS\",\"BOOKS_AND_REFERENCE\",\"BOOKS_AND_REFERENCE\",\"BOOKS_AND_REFERENCE\",\"HEALTH_AND_FITNESS\",\"FAMILY\",\"FAMILY\",\"FAMILY\",\"PRODUCTIVITY\",\"TOOLS\",\"BOOKS_AND_REFERENCE\",\"TOOLS\",\"PHOTOGRAPHY\",\"TOOLS\",\"FAMILY\",\"TRAVEL_AND_LOCAL\",\"TRAVEL_AND_LOCAL\",\"LIFESTYLE\",\"FAMILY\",\"PHOTOGRAPHY\",\"PRODUCTIVITY\",\"PRODUCTIVITY\",\"TOOLS\",\"PRODUCTIVITY\",\"SHOPPING\",\"BUSINESS\",\"TOOLS\",\"FAMILY\",\"BUSINESS\",\"PHOTOGRAPHY\",\"SPORTS\",\"PERSONALIZATION\",\"TOOLS\",\"PRODUCTIVITY\",\"BOOKS_AND_REFERENCE\",\"TOOLS\",\"FAMILY\",\"SPORTS\",\"PERSONALIZATION\",\"BOOKS_AND_REFERENCE\",\"FAMILY\",\"PRODUCTIVITY\",\"PERSONALIZATION\",\"FAMILY\",\"FAMILY\",\"PHOTOGRAPHY\",\"FAMILY\",\"FAMILY\",\"FAMILY\",\"FAMILY\",\"FAMILY\",\"PRODUCTIVITY\",\"FAMILY\",\"FAMILY\",\"FAMILY\",\"FAMILY\",\"FAMILY\",\"GAME\",\"HEALTH_AND_FITNESS\",\"FAMILY\",\"FAMILY\",\"FAMILY\",\"FAMILY\",\"GAME\",\"BUSINESS\",\"PRODUCTIVITY\",\"TOOLS\",\"PHOTOGRAPHY\",\"FAMILY\",\"FAMILY\",\"GAME\",\"LIFESTYLE\",\"GAME\",\"WEATHER\",\"BOOKS_AND_REFERENCE\",\"TOOLS\",\"TOOLS\",\"PERSONALIZATION\",\"GAME\",\"SPORTS\",\"FAMILY\",\"TOOLS\",\"FAMILY\",\"SPORTS\",\"FAMILY\",\"GAME\",\"PERSONALIZATION\",\"COMMUNICATION\",\"FAMILY\",\"FAMILY\",\"MEDICAL\",\"FAMILY\",\"FAMILY\",\"FAMILY\",\"FINANCE\",\"FINANCE\",\"GAME\",\"FAMILY\",\"GAME\",\"GAME\",\"BOOKS_AND_REFERENCE\",\"FAMILY\",\"TOOLS\",\"TOOLS\",\"PHOTOGRAPHY\",\"FAMILY\",\"GAME\",\"FAMILY\",\"TRAVEL_AND_LOCAL\",\"PRODUCTIVITY\",\"HEALTH_AND_FITNESS\",\"TOOLS\",\"FAMILY\",\"FAMILY\",\"GAME\",\"COMMUNICATION\",\"FAMILY\",\"TRAVEL_AND_LOCAL\",\"TOOLS\",\"GAME\",\"MEDICAL\",\"PERSONALIZATION\",\"GAME\",\"SPORTS\",\"TOOLS\",\"HEALTH_AND_FITNESS\",\"HEALTH_AND_FITNESS\",\"FAMILY\",\"FAMILY\",\"FAMILY\",\"BOOKS_AND_REFERENCE\",\"FAMILY\",\"FAMILY\",\"FAMILY\",\"MEDICAL\",\"GAME\",\"MEDICAL\",\"FAMILY\",\"MEDICAL\",\"GAME\",\"BUSINESS\",\"PRODUCTIVITY\",\"NEWS_AND_MAGAZINES\",\"FAMILY\",\"TRAVEL_AND_LOCAL\",\"PERSONALIZATION\",\"FINANCE\",\"BOOKS_AND_REFERENCE\",\"FINANCE\",\"FAMILY\",\"TRAVEL_AND_LOCAL\",\"LIFESTYLE\",\"TOOLS\",\"FAMILY\",\"FAMILY\",\"FAMILY\",\"PERSONALIZATION\",\"TRAVEL_AND_LOCAL\",\"PERSONALIZATION\",\"TOOLS\",\"COMMUNICATION\",\"TOOLS\",\"TOOLS\",\"TOOLS\",\"TOOLS\",\"TOOLS\",\"PRODUCTIVITY\",\"GAME\",\"PERSONALIZATION\",\"COMMUNICATION\",\"TOOLS\",\"PRODUCTIVITY\",\"GAME\",\"TOOLS\",\"COMMUNICATION\",\"COMMUNICATION\",\"PRODUCTIVITY\",\"COMMUNICATION\",\"TOOLS\",\"FAMILY\",\"TOOLS\",\"TOOLS\",\"TOOLS\",\"FINANCE\",\"SPORTS\",\"WEATHER\",\"SPORTS\",\"SPORTS\",\"SPORTS\",\"BOOKS_AND_REFERENCE\",\"BOOKS_AND_REFERENCE\",\"BOOKS_AND_REFERENCE\",\"BOOKS_AND_REFERENCE\",\"BOOKS_AND_REFERENCE\",\"BOOKS_AND_REFERENCE\",\"BOOKS_AND_REFERENCE\",\"BOOKS_AND_REFERENCE\",\"PERSONALIZATION\",\"GAME\",\"GAME\",\"PERSONALIZATION\",\"GAME\",\"FAMILY\",\"HEALTH_AND_FITNESS\",\"GAME\",\"FAMILY\",\"FAMILY\"],\"yaxis\":\"y\",\"type\":\"scattergl\"}],                        {\"template\":{\"data\":{\"barpolar\":[{\"marker\":{\"line\":{\"color\":\"rgb(17,17,17)\",\"width\":0.5},\"pattern\":{\"fillmode\":\"overlay\",\"size\":10,\"solidity\":0.2}},\"type\":\"barpolar\"}],\"bar\":[{\"error_x\":{\"color\":\"#f2f5fa\"},\"error_y\":{\"color\":\"#f2f5fa\"},\"marker\":{\"line\":{\"color\":\"rgb(17,17,17)\",\"width\":0.5},\"pattern\":{\"fillmode\":\"overlay\",\"size\":10,\"solidity\":0.2}},\"type\":\"bar\"}],\"carpet\":[{\"aaxis\":{\"endlinecolor\":\"#A2B1C6\",\"gridcolor\":\"#506784\",\"linecolor\":\"#506784\",\"minorgridcolor\":\"#506784\",\"startlinecolor\":\"#A2B1C6\"},\"baxis\":{\"endlinecolor\":\"#A2B1C6\",\"gridcolor\":\"#506784\",\"linecolor\":\"#506784\",\"minorgridcolor\":\"#506784\",\"startlinecolor\":\"#A2B1C6\"},\"type\":\"carpet\"}],\"choropleth\":[{\"colorbar\":{\"outlinewidth\":0,\"ticks\":\"\"},\"type\":\"choropleth\"}],\"contourcarpet\":[{\"colorbar\":{\"outlinewidth\":0,\"ticks\":\"\"},\"type\":\"contourcarpet\"}],\"contour\":[{\"colorbar\":{\"outlinewidth\":0,\"ticks\":\"\"},\"colorscale\":[[0.0,\"#0d0887\"],[0.1111111111111111,\"#46039f\"],[0.2222222222222222,\"#7201a8\"],[0.3333333333333333,\"#9c179e\"],[0.4444444444444444,\"#bd3786\"],[0.5555555555555556,\"#d8576b\"],[0.6666666666666666,\"#ed7953\"],[0.7777777777777778,\"#fb9f3a\"],[0.8888888888888888,\"#fdca26\"],[1.0,\"#f0f921\"]],\"type\":\"contour\"}],\"heatmapgl\":[{\"colorbar\":{\"outlinewidth\":0,\"ticks\":\"\"},\"colorscale\":[[0.0,\"#0d0887\"],[0.1111111111111111,\"#46039f\"],[0.2222222222222222,\"#7201a8\"],[0.3333333333333333,\"#9c179e\"],[0.4444444444444444,\"#bd3786\"],[0.5555555555555556,\"#d8576b\"],[0.6666666666666666,\"#ed7953\"],[0.7777777777777778,\"#fb9f3a\"],[0.8888888888888888,\"#fdca26\"],[1.0,\"#f0f921\"]],\"type\":\"heatmapgl\"}],\"heatmap\":[{\"colorbar\":{\"outlinewidth\":0,\"ticks\":\"\"},\"colorscale\":[[0.0,\"#0d0887\"],[0.1111111111111111,\"#46039f\"],[0.2222222222222222,\"#7201a8\"],[0.3333333333333333,\"#9c179e\"],[0.4444444444444444,\"#bd3786\"],[0.5555555555555556,\"#d8576b\"],[0.6666666666666666,\"#ed7953\"],[0.7777777777777778,\"#fb9f3a\"],[0.8888888888888888,\"#fdca26\"],[1.0,\"#f0f921\"]],\"type\":\"heatmap\"}],\"histogram2dcontour\":[{\"colorbar\":{\"outlinewidth\":0,\"ticks\":\"\"},\"colorscale\":[[0.0,\"#0d0887\"],[0.1111111111111111,\"#46039f\"],[0.2222222222222222,\"#7201a8\"],[0.3333333333333333,\"#9c179e\"],[0.4444444444444444,\"#bd3786\"],[0.5555555555555556,\"#d8576b\"],[0.6666666666666666,\"#ed7953\"],[0.7777777777777778,\"#fb9f3a\"],[0.8888888888888888,\"#fdca26\"],[1.0,\"#f0f921\"]],\"type\":\"histogram2dcontour\"}],\"histogram2d\":[{\"colorbar\":{\"outlinewidth\":0,\"ticks\":\"\"},\"colorscale\":[[0.0,\"#0d0887\"],[0.1111111111111111,\"#46039f\"],[0.2222222222222222,\"#7201a8\"],[0.3333333333333333,\"#9c179e\"],[0.4444444444444444,\"#bd3786\"],[0.5555555555555556,\"#d8576b\"],[0.6666666666666666,\"#ed7953\"],[0.7777777777777778,\"#fb9f3a\"],[0.8888888888888888,\"#fdca26\"],[1.0,\"#f0f921\"]],\"type\":\"histogram2d\"}],\"histogram\":[{\"marker\":{\"pattern\":{\"fillmode\":\"overlay\",\"size\":10,\"solidity\":0.2}},\"type\":\"histogram\"}],\"mesh3d\":[{\"colorbar\":{\"outlinewidth\":0,\"ticks\":\"\"},\"type\":\"mesh3d\"}],\"parcoords\":[{\"line\":{\"colorbar\":{\"outlinewidth\":0,\"ticks\":\"\"}},\"type\":\"parcoords\"}],\"pie\":[{\"automargin\":true,\"type\":\"pie\"}],\"scatter3d\":[{\"line\":{\"colorbar\":{\"outlinewidth\":0,\"ticks\":\"\"}},\"marker\":{\"colorbar\":{\"outlinewidth\":0,\"ticks\":\"\"}},\"type\":\"scatter3d\"}],\"scattercarpet\":[{\"marker\":{\"colorbar\":{\"outlinewidth\":0,\"ticks\":\"\"}},\"type\":\"scattercarpet\"}],\"scattergeo\":[{\"marker\":{\"colorbar\":{\"outlinewidth\":0,\"ticks\":\"\"}},\"type\":\"scattergeo\"}],\"scattergl\":[{\"marker\":{\"line\":{\"color\":\"#283442\"}},\"type\":\"scattergl\"}],\"scattermapbox\":[{\"marker\":{\"colorbar\":{\"outlinewidth\":0,\"ticks\":\"\"}},\"type\":\"scattermapbox\"}],\"scatterpolargl\":[{\"marker\":{\"colorbar\":{\"outlinewidth\":0,\"ticks\":\"\"}},\"type\":\"scatterpolargl\"}],\"scatterpolar\":[{\"marker\":{\"colorbar\":{\"outlinewidth\":0,\"ticks\":\"\"}},\"type\":\"scatterpolar\"}],\"scatter\":[{\"marker\":{\"line\":{\"color\":\"#283442\"}},\"type\":\"scatter\"}],\"scatterternary\":[{\"marker\":{\"colorbar\":{\"outlinewidth\":0,\"ticks\":\"\"}},\"type\":\"scatterternary\"}],\"surface\":[{\"colorbar\":{\"outlinewidth\":0,\"ticks\":\"\"},\"colorscale\":[[0.0,\"#0d0887\"],[0.1111111111111111,\"#46039f\"],[0.2222222222222222,\"#7201a8\"],[0.3333333333333333,\"#9c179e\"],[0.4444444444444444,\"#bd3786\"],[0.5555555555555556,\"#d8576b\"],[0.6666666666666666,\"#ed7953\"],[0.7777777777777778,\"#fb9f3a\"],[0.8888888888888888,\"#fdca26\"],[1.0,\"#f0f921\"]],\"type\":\"surface\"}],\"table\":[{\"cells\":{\"fill\":{\"color\":\"#506784\"},\"line\":{\"color\":\"rgb(17,17,17)\"}},\"header\":{\"fill\":{\"color\":\"#2a3f5f\"},\"line\":{\"color\":\"rgb(17,17,17)\"}},\"type\":\"table\"}]},\"layout\":{\"annotationdefaults\":{\"arrowcolor\":\"#f2f5fa\",\"arrowhead\":0,\"arrowwidth\":1},\"autotypenumbers\":\"strict\",\"coloraxis\":{\"colorbar\":{\"outlinewidth\":0,\"ticks\":\"\"}},\"colorscale\":{\"diverging\":[[0,\"#8e0152\"],[0.1,\"#c51b7d\"],[0.2,\"#de77ae\"],[0.3,\"#f1b6da\"],[0.4,\"#fde0ef\"],[0.5,\"#f7f7f7\"],[0.6,\"#e6f5d0\"],[0.7,\"#b8e186\"],[0.8,\"#7fbc41\"],[0.9,\"#4d9221\"],[1,\"#276419\"]],\"sequential\":[[0.0,\"#0d0887\"],[0.1111111111111111,\"#46039f\"],[0.2222222222222222,\"#7201a8\"],[0.3333333333333333,\"#9c179e\"],[0.4444444444444444,\"#bd3786\"],[0.5555555555555556,\"#d8576b\"],[0.6666666666666666,\"#ed7953\"],[0.7777777777777778,\"#fb9f3a\"],[0.8888888888888888,\"#fdca26\"],[1.0,\"#f0f921\"]],\"sequentialminus\":[[0.0,\"#0d0887\"],[0.1111111111111111,\"#46039f\"],[0.2222222222222222,\"#7201a8\"],[0.3333333333333333,\"#9c179e\"],[0.4444444444444444,\"#bd3786\"],[0.5555555555555556,\"#d8576b\"],[0.6666666666666666,\"#ed7953\"],[0.7777777777777778,\"#fb9f3a\"],[0.8888888888888888,\"#fdca26\"],[1.0,\"#f0f921\"]]},\"colorway\":[\"#636efa\",\"#EF553B\",\"#00cc96\",\"#ab63fa\",\"#FFA15A\",\"#19d3f3\",\"#FF6692\",\"#B6E880\",\"#FF97FF\",\"#FECB52\"],\"font\":{\"color\":\"#f2f5fa\"},\"geo\":{\"bgcolor\":\"rgb(17,17,17)\",\"lakecolor\":\"rgb(17,17,17)\",\"landcolor\":\"rgb(17,17,17)\",\"showlakes\":true,\"showland\":true,\"subunitcolor\":\"#506784\"},\"hoverlabel\":{\"align\":\"left\"},\"hovermode\":\"closest\",\"mapbox\":{\"style\":\"dark\"},\"paper_bgcolor\":\"rgb(17,17,17)\",\"plot_bgcolor\":\"rgb(17,17,17)\",\"polar\":{\"angularaxis\":{\"gridcolor\":\"#506784\",\"linecolor\":\"#506784\",\"ticks\":\"\"},\"bgcolor\":\"rgb(17,17,17)\",\"radialaxis\":{\"gridcolor\":\"#506784\",\"linecolor\":\"#506784\",\"ticks\":\"\"}},\"scene\":{\"xaxis\":{\"backgroundcolor\":\"rgb(17,17,17)\",\"gridcolor\":\"#506784\",\"gridwidth\":2,\"linecolor\":\"#506784\",\"showbackground\":true,\"ticks\":\"\",\"zerolinecolor\":\"#C8D4E3\"},\"yaxis\":{\"backgroundcolor\":\"rgb(17,17,17)\",\"gridcolor\":\"#506784\",\"gridwidth\":2,\"linecolor\":\"#506784\",\"showbackground\":true,\"ticks\":\"\",\"zerolinecolor\":\"#C8D4E3\"},\"zaxis\":{\"backgroundcolor\":\"rgb(17,17,17)\",\"gridcolor\":\"#506784\",\"gridwidth\":2,\"linecolor\":\"#506784\",\"showbackground\":true,\"ticks\":\"\",\"zerolinecolor\":\"#C8D4E3\"}},\"shapedefaults\":{\"line\":{\"color\":\"#f2f5fa\"}},\"sliderdefaults\":{\"bgcolor\":\"#C8D4E3\",\"bordercolor\":\"rgb(17,17,17)\",\"borderwidth\":1,\"tickwidth\":0},\"ternary\":{\"aaxis\":{\"gridcolor\":\"#506784\",\"linecolor\":\"#506784\",\"ticks\":\"\"},\"baxis\":{\"gridcolor\":\"#506784\",\"linecolor\":\"#506784\",\"ticks\":\"\"},\"bgcolor\":\"rgb(17,17,17)\",\"caxis\":{\"gridcolor\":\"#506784\",\"linecolor\":\"#506784\",\"ticks\":\"\"}},\"title\":{\"x\":0.05},\"updatemenudefaults\":{\"bgcolor\":\"#506784\",\"borderwidth\":0},\"xaxis\":{\"automargin\":true,\"gridcolor\":\"#283442\",\"linecolor\":\"#506784\",\"ticks\":\"\",\"title\":{\"standoff\":15},\"zerolinecolor\":\"#283442\",\"zerolinewidth\":2},\"yaxis\":{\"automargin\":true,\"gridcolor\":\"#283442\",\"linecolor\":\"#506784\",\"ticks\":\"\",\"title\":{\"standoff\":15},\"zerolinecolor\":\"#283442\",\"zerolinewidth\":2}}},\"xaxis\":{\"anchor\":\"y\",\"domain\":[0.0,1.0],\"title\":{\"text\":\"Price\"}},\"yaxis\":{\"anchor\":\"x\",\"domain\":[0.0,1.0],\"title\":{\"text\":\"Category\"}},\"legend\":{\"title\":{\"text\":\"Type\"},\"tracegroupgap\":0},\"margin\":{\"t\":60}},                        {\"responsive\": true}                    ).then(function(){\n",
       "                            \n",
       "var gd = document.getElementById('c7f392b1-41c6-41ea-876c-13d307aa9874');\n",
       "var x = new MutationObserver(function (mutations, observer) {{\n",
       "        var display = window.getComputedStyle(gd).display;\n",
       "        if (!display || display === 'none') {{\n",
       "            console.log([gd, 'removed!']);\n",
       "            Plotly.purge(gd);\n",
       "            observer.disconnect();\n",
       "        }}\n",
       "}});\n",
       "\n",
       "// Listen for the removal of the full notebook cells\n",
       "var notebookContainer = gd.closest('#notebook-container');\n",
       "if (notebookContainer) {{\n",
       "    x.observe(notebookContainer, {childList: true});\n",
       "}}\n",
       "\n",
       "// Listen for the clearing of the current output cell\n",
       "var outputEl = gd.closest('.output');\n",
       "if (outputEl) {{\n",
       "    x.observe(outputEl, {childList: true});\n",
       "}}\n",
       "\n",
       "                        })                };                });            </script>        </div>"
      ]
     },
     "metadata": {},
     "output_type": "display_data"
    }
   ],
   "source": [
    "px.scatter(data, y=\"Category\", x=\"Price\",color=\"Type\",hover_data=['Category'],template='plotly_dark')"
   ]
  },
  {
   "cell_type": "code",
   "execution_count": 57,
   "id": "284338de",
   "metadata": {
    "execution": {
     "iopub.execute_input": "2023-05-20T12:28:14.233978Z",
     "iopub.status.busy": "2023-05-20T12:28:14.233127Z",
     "iopub.status.idle": "2023-05-20T12:28:14.849531Z",
     "shell.execute_reply": "2023-05-20T12:28:14.848356Z"
    },
    "papermill": {
     "duration": 0.659604,
     "end_time": "2023-05-20T12:28:14.852289",
     "exception": false,
     "start_time": "2023-05-20T12:28:14.192685",
     "status": "completed"
    },
    "tags": []
   },
   "outputs": [
    {
     "data": {
      "text/plain": [
       "<AxesSubplot: xlabel='Rating', ylabel='Count'>"
      ]
     },
     "execution_count": 57,
     "metadata": {},
     "output_type": "execute_result"
    },
    {
     "data": {
      "image/png": "[encoded data removed]",
      "text/plain": [
       "<Figure size 640x480 with 1 Axes>"
      ]
     },
     "metadata": {},
     "output_type": "display_data"
    }
   ],
   "source": [
    "sns.histplot(data, x=\"Rating\", kde = True)"
   ]
  },
  {
   "cell_type": "markdown",
   "id": "7388d3b9",
   "metadata": {
    "papermill": {
     "duration": 0.039022,
     "end_time": "2023-05-20T12:28:14.931000",
     "exception": false,
     "start_time": "2023-05-20T12:28:14.891978",
     "status": "completed"
    },
    "tags": []
   },
   "source": [
    "## Thankyou!"
   ]
  },
  {
   "cell_type": "code",
   "execution_count": null,
   "id": "63cee7dd",
   "metadata": {
    "papermill": {
     "duration": 0.039051,
     "end_time": "2023-05-20T12:28:15.009195",
     "exception": false,
     "start_time": "2023-05-20T12:28:14.970144",
     "status": "completed"
    },
    "tags": []
   },
   "outputs": [],
   "source": []
  }
 ],
 "metadata": {
  "kernelspec": {
   "display_name": "Python 3",
   "language": "python",
   "name": "python3"
  },
  "language_info": {
   "codemirror_mode": {
    "name": "ipython",
    "version": 3
   },
   "file_extension": ".py",
   "mimetype": "text/x-python",
   "name": "python",
   "nbconvert_exporter": "python",
   "pygments_lexer": "ipython3",
   "version": "3.10.10"
  },
  "papermill": {
   "default_parameters": {},
   "duration": 27.533574,
   "end_time": "2023-05-20T12:28:16.183488",
   "environment_variables": {},
   "exception": null,
   "input_path": "__notebook__.ipynb",
   "output_path": "__notebook__.ipynb",
   "parameters": {},
   "start_time": "2023-05-20T12:27:48.649914",
   "version": "2.4.0"
  }
 },
 "nbformat": 4,
 "nbformat_minor": 5
}
